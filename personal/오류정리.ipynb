{
 "cells": [
  {
   "cell_type": "markdown",
   "id": "457ab80b",
   "metadata": {},
   "source": [
    "# **오류 정리**"
   ]
  },
  {
   "cell_type": "markdown",
   "id": "311385be",
   "metadata": {},
   "source": [
    "## **변수가 정의되지 않음**\n",
    "\n",
    "```\n",
    "\n",
    "NameError: name 'd' is not defined\n",
    "\n",
    "```"
   ]
  },
  {
   "cell_type": "markdown",
   "id": "72413933",
   "metadata": {},
   "source": [
    "## **문자열과 숫자열의 혼합**\n",
    "\n",
    "```\n",
    "\n",
    "TypeError: can only concatenate str (not \"int\") to str\n",
    "\n",
    "```\n",
    "\n",
    "```\n",
    "----- str을 사용해서 int, float을 문자열로 바꿔야함\n",
    "```"
   ]
  },
  {
   "cell_type": "markdown",
   "id": "1fa4459a",
   "metadata": {},
   "source": [
    "## **f 문자열에서 { }를 채우지 않음**\n",
    "\n",
    "```\n",
    "\n",
    "TypeError: f-string: empty expression not allowed\n",
    "\n",
    "```"
   ]
  },
  {
   "cell_type": "markdown",
   "id": "5d0c1b26",
   "metadata": {},
   "source": [
    "## **튜플은 수정할 수 없음**\n",
    "\n",
    "```\n",
    "TypeError: 'tuple' object does not support item assignment\n",
    "```"
   ]
  },
  {
   "cell_type": "markdown",
   "id": "c1b64738",
   "metadata": {},
   "source": [
    "## `\" \"` 를 채우지 않았을때\n",
    "\n",
    "```\n",
    "SyntaxError: EOL while scanning string literal\n",
    "```"
   ]
  },
  {
   "cell_type": "markdown",
   "id": "5e1a90ac",
   "metadata": {},
   "source": [
    "## 함수의 디폴트 값을 마지막에 넣지 않았을 때\n",
    "\n",
    "```\n",
    "SyntaxError: non-default argument follows default argument\n",
    "```\n",
    "디폴트 값은 항상 마지막에 둬야한다"
   ]
  },
  {
   "cell_type": "code",
   "execution_count": null,
   "id": "0734a29d",
   "metadata": {},
   "outputs": [],
   "source": []
  }
 ],
 "metadata": {
  "kernelspec": {
   "display_name": "Python 3 (ipykernel)",
   "language": "python",
   "name": "python3"
  },
  "language_info": {
   "codemirror_mode": {
    "name": "ipython",
    "version": 3
   },
   "file_extension": ".py",
   "mimetype": "text/x-python",
   "name": "python",
   "nbconvert_exporter": "python",
   "pygments_lexer": "ipython3",
   "version": "3.9.7"
  },
  "toc": {
   "base_numbering": 1,
   "nav_menu": {},
   "number_sections": true,
   "sideBar": true,
   "skip_h1_title": false,
   "title_cell": "Table of Contents",
   "title_sidebar": "Contents",
   "toc_cell": false,
   "toc_position": {},
   "toc_section_display": true,
   "toc_window_display": true
  },
  "varInspector": {
   "cols": {
    "lenName": 16,
    "lenType": 16,
    "lenVar": 40
   },
   "kernels_config": {
    "python": {
     "delete_cmd_postfix": "",
     "delete_cmd_prefix": "del ",
     "library": "var_list.py",
     "varRefreshCmd": "print(var_dic_list())"
    },
    "r": {
     "delete_cmd_postfix": ") ",
     "delete_cmd_prefix": "rm(",
     "library": "var_list.r",
     "varRefreshCmd": "cat(var_dic_list()) "
    }
   },
   "types_to_exclude": [
    "module",
    "function",
    "builtin_function_or_method",
    "instance",
    "_Feature"
   ],
   "window_display": false
  }
 },
 "nbformat": 4,
 "nbformat_minor": 5
}
