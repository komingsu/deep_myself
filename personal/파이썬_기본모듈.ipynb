{
 "cells": [
  {
   "cell_type": "markdown",
   "id": "c7ad3c83",
   "metadata": {},
   "source": [
    "# operator 모듈"
   ]
  },
  {
   "cell_type": "code",
   "execution_count": 1,
   "id": "319ef85c",
   "metadata": {},
   "outputs": [],
   "source": [
    "import operator"
   ]
  },
  {
   "cell_type": "code",
   "execution_count": 17,
   "id": "7601354e",
   "metadata": {},
   "outputs": [
    {
     "name": "stdout",
     "output_type": "stream",
     "text": [
      "add :\t11\n",
      "sub :\t5\n",
      "mul :\t24\n",
      "truediv :\t2.6666666666666665\n",
      "mod :\t2\n",
      "floordiv :\t2\n",
      "pow :\t512\n"
     ]
    }
   ],
   "source": [
    "num1 = 8\n",
    "num2 = 3\n",
    "\n",
    "print(\"add :\",operator.add(num1,num2),sep=\"\\t\")\n",
    "print(\"sub :\",operator.sub(num1,num2),sep=\"\\t\")\n",
    "print(\"mul :\",operator.mul(num1,num2),sep=\"\\t\")\n",
    "print(\"truediv :\",operator.truediv(num1,num2),sep=\"\\t\")\n",
    "print(\"mod :\",operator.mod(num1,num2),sep=\"\\t\")\n",
    "print(\"floordiv :\",operator.floordiv(num1,num2),sep=\"\\t\")\n",
    "print(\"pow :\",operator.pow(num1,num2),sep=\"\\t\")"
   ]
  },
  {
   "cell_type": "code",
   "execution_count": 16,
   "id": "9e76f9dd",
   "metadata": {},
   "outputs": [
    {
     "name": "stdout",
     "output_type": "stream",
     "text": [
      "==\teq :\tFalse\n",
      "!=\tne :\tTrue\n",
      ">\tgt :\tTrue\n",
      ">=\tge :\tTrue\n",
      "<\tlt :\tFalse\n",
      "<=\tle :\tFalse\n"
     ]
    }
   ],
   "source": [
    "print(\"==\",\"eq :\",operator.eq(num1,num2),sep=\"\\t\")\n",
    "print(\"!=\",\"ne :\",operator.ne(num1,num2),sep=\"\\t\")\n",
    "print(\">\",\"gt :\",operator.gt(num1,num2),sep=\"\\t\")\n",
    "print(\">=\",\"ge :\",operator.ge(num1,num2),sep=\"\\t\")\n",
    "print(\"<\",\"lt :\",operator.lt(num1,num2),sep=\"\\t\")\n",
    "print(\"<=\",\"le :\",operator.le(num1,num2),sep=\"\\t\")"
   ]
  },
  {
   "cell_type": "code",
   "execution_count": 18,
   "id": "23f579fe",
   "metadata": {},
   "outputs": [
    {
     "data": {
      "text/plain": [
       "'__main__'"
      ]
     },
     "execution_count": 18,
     "metadata": {},
     "output_type": "execute_result"
    }
   ],
   "source": [
    "__name__"
   ]
  },
  {
   "cell_type": "code",
   "execution_count": null,
   "id": "3b6cb710",
   "metadata": {},
   "outputs": [],
   "source": []
  }
 ],
 "metadata": {
  "kernelspec": {
   "display_name": "Python 3 (ipykernel)",
   "language": "python",
   "name": "python3"
  },
  "language_info": {
   "codemirror_mode": {
    "name": "ipython",
    "version": 3
   },
   "file_extension": ".py",
   "mimetype": "text/x-python",
   "name": "python",
   "nbconvert_exporter": "python",
   "pygments_lexer": "ipython3",
   "version": "3.9.7"
  },
  "toc": {
   "base_numbering": 1,
   "nav_menu": {},
   "number_sections": true,
   "sideBar": true,
   "skip_h1_title": false,
   "title_cell": "Table of Contents",
   "title_sidebar": "Contents",
   "toc_cell": false,
   "toc_position": {},
   "toc_section_display": true,
   "toc_window_display": false
  },
  "varInspector": {
   "cols": {
    "lenName": 16,
    "lenType": 16,
    "lenVar": 40
   },
   "kernels_config": {
    "python": {
     "delete_cmd_postfix": "",
     "delete_cmd_prefix": "del ",
     "library": "var_list.py",
     "varRefreshCmd": "print(var_dic_list())"
    },
    "r": {
     "delete_cmd_postfix": ") ",
     "delete_cmd_prefix": "rm(",
     "library": "var_list.r",
     "varRefreshCmd": "cat(var_dic_list()) "
    }
   },
   "types_to_exclude": [
    "module",
    "function",
    "builtin_function_or_method",
    "instance",
    "_Feature"
   ],
   "window_display": false
  }
 },
 "nbformat": 4,
 "nbformat_minor": 5
}
