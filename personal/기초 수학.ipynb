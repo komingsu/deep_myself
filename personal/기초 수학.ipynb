{
 "cells": [
  {
   "cell_type": "markdown",
   "id": "142c5cb7",
   "metadata": {},
   "source": [
    "# 약수"
   ]
  },
  {
   "cell_type": "code",
   "execution_count": 1,
   "id": "64a57429",
   "metadata": {},
   "outputs": [
    {
     "name": "stdout",
     "output_type": "stream",
     "text": [
      "0보다 큰 정수 입력24\n",
      "24 의 약수, 1\n",
      "24 의 약수, 2\n",
      "24 의 약수, 3\n",
      "24 의 약수, 4\n",
      "24 의 약수, 6\n",
      "24 의 약수, 8\n",
      "24 의 약수, 12\n",
      "24 의 약수, 24\n"
     ]
    }
   ],
   "source": [
    "# 나눈 나머지가 0인 숫자를 찾기\n",
    "\n",
    "inputNum = int(input(\"0보다 큰 정수 입력\"))\n",
    "\n",
    "for number in range(1, inputNum + 1):\n",
    "    if inputNum % number == 0:\n",
    "        print( f\"{inputNum} 의 약수, {number}\")"
   ]
  },
  {
   "cell_type": "markdown",
   "id": "4010d0ef",
   "metadata": {},
   "source": [
    "# 소수"
   ]
  },
  {
   "cell_type": "code",
   "execution_count": 2,
   "id": "ff1bac8b",
   "metadata": {},
   "outputs": [
    {
     "name": "stdout",
     "output_type": "stream",
     "text": [
      "0보다 큰 정수 입력10\n",
      "2 : 소수\n",
      "3 : 소수\n",
      "4 : 합성수\n",
      "5 : 소수\n",
      "6 : 합성수\n",
      "7 : 소수\n",
      "8 : 합성수\n",
      "9 : 합성수\n",
      "10 : 합성수\n"
     ]
    }
   ],
   "source": [
    "# 소수인 숫자를 찾고자 하는 범위\n",
    "inputNum = int(input(\"0보다 큰 정수 입력\"))\n",
    "\n",
    "# 1을 제외\n",
    "for number in range(2, inputNum + 1):\n",
    "    \n",
    "    flag = True  # 소수 판별\n",
    "    \n",
    "#  약수가 있는 숫자라면 flag = False 소수 아님 (1을 미리 제외 해두었음)\n",
    "    for n in range(2, number):  \n",
    "        if number % n == 0:\n",
    "            flag = False\n",
    "            break\n",
    "    \n",
    "# 해당 숫자가 True 면 소수\n",
    "    if (flag) :\n",
    "        print(f\"{number} : 소수\")\n",
    "    else:\n",
    "        print(f\"{number} : 합성수\")"
   ]
  },
  {
   "cell_type": "markdown",
   "id": "296837fe",
   "metadata": {},
   "source": [
    "# 소인수분해"
   ]
  },
  {
   "cell_type": "code",
   "execution_count": 3,
   "id": "565e6d79",
   "metadata": {},
   "outputs": [
    {
     "name": "stdout",
     "output_type": "stream",
     "text": [
      "1보다 큰 정수 입력 : 200\n",
      "[2, 2, 2, 5, 5] [2, 5] [3, 2] 2^3 * 5^2\n"
     ]
    }
   ],
   "source": [
    "# 소인수분해 하고자 하는 수\n",
    "inputNum = int(input(\"1보다 큰 정수 입력 : \"))\n",
    "\n",
    "# 2부터 시작\n",
    "n = 2\n",
    "\n",
    "# 소인수를 담을 리스트 1은 기본적으로 가지고 있음\n",
    "\n",
    "lst = []\n",
    "\n",
    "# inputNum가 n 보다 크다면 계속\n",
    "while n <= inputNum:\n",
    "    \n",
    "    # inputNum 를 n (2부터 += 1 하는 수)로 나눈 나머지가 0이면 소인수\n",
    "    if inputNum % n == 0:\n",
    "        \n",
    "        # inputNum을 해당 소인수로 나눔\n",
    "        inputNum /= n\n",
    "        \n",
    "        lst.append(n)\n",
    "        \n",
    "    # 더 이상 n 의 숫자로 나눈 나머지가 0 이 아니면 +1\n",
    "    else:\n",
    "        n += 1\n",
    "\n",
    "        \n",
    "# 표시하기\n",
    "\n",
    "    # lst 속 중복 숫자 제거\n",
    "slst = set(lst)\n",
    "slst = sorted(slst)\n",
    "slst = list(slst)\n",
    "\n",
    "    # 각 소인수의 차수 세기\n",
    "degree = list(map(lambda x: lst.count(x), slst))\n",
    "\n",
    "    # 각 숫자 조합하기\n",
    "temp = []    \n",
    "    \n",
    "for i, j in zip(slst, degree):\n",
    "    temp.append(f\"{i}^{j}\")\n",
    "    \n",
    "show = \" * \".join(temp)\n",
    "\n",
    "print(lst, slst, degree, show)"
   ]
  },
  {
   "cell_type": "markdown",
   "id": "91e89f7b",
   "metadata": {},
   "source": [
    "###### 최대공약수, 최소공배수\n",
    "\n",
    "## 최대공약수"
   ]
  },
  {
   "cell_type": "code",
   "execution_count": 4,
   "id": "7bb09787",
   "metadata": {},
   "outputs": [
    {
     "name": "stdout",
     "output_type": "stream",
     "text": [
      "1보다 큰 정수 입력 : 12\n",
      "12보다 큰 정수 입력 : 36\n",
      "공약수는 [1, 2, 3, 4, 6, 12]\n",
      "최대공약수는 12\n"
     ]
    }
   ],
   "source": [
    "num1 = int(input(\"1보다 큰 정수 입력 : \"))\n",
    "num2 = int(input(f\"{num1}보다 큰 정수 입력 : \"))\n",
    "\n",
    "maxNum = 0\n",
    "\n",
    "lst = []\n",
    "\n",
    "for i in range( 1, (num1 + 1)):\n",
    "    if num1 % i == 0 and num2 % i ==0:\n",
    "        lst.append(i)\n",
    "        maxNum = i\n",
    "        \n",
    "print(f\"공약수는 {lst}\")\n",
    "print(f\"최대공약수는 {maxNum}\")"
   ]
  },
  {
   "cell_type": "markdown",
   "id": "de008578",
   "metadata": {},
   "source": [
    "### 유클리드 호제법을 이용한 최대공약수 구하기"
   ]
  },
  {
   "cell_type": "code",
   "execution_count": 5,
   "id": "aa47d800",
   "metadata": {},
   "outputs": [
    {
     "name": "stdout",
     "output_type": "stream",
     "text": [
      "1보다 큰 정수 입력 : 12\n",
      "1보다 큰 정수 입력 : 36\n",
      "최대 공약수 : 12\n",
      "공약수 : [1, 2, 3, 4, 6, 12]\n"
     ]
    }
   ],
   "source": [
    "num1 = int(input(\"1보다 큰 정수 입력 : \"))\n",
    "num2 = int(input(\"1보다 큰 정수 입력 : \"))\n",
    "\n",
    "temp1 = num1\n",
    "temp2 = num2\n",
    "\n",
    "while temp2 > 0:\n",
    "    temp = temp2\n",
    "    temp2 = temp1 % temp2\n",
    "    temp1 = temp\n",
    "    \n",
    "print( f\"최대 공약수 : {temp1}\" )\n",
    "\n",
    "lst = []\n",
    "for n in range(1, (temp1+1) ):\n",
    "      if temp1 % n ==0:\n",
    "            lst.append(n)\n",
    "            \n",
    "print(f\"공약수 : {lst}\")"
   ]
  },
  {
   "cell_type": "markdown",
   "id": "07fcdbb5",
   "metadata": {},
   "source": [
    "## 최소공배수"
   ]
  },
  {
   "cell_type": "code",
   "execution_count": 7,
   "id": "b69f234f",
   "metadata": {},
   "outputs": [
    {
     "name": "stdout",
     "output_type": "stream",
     "text": [
      "1보다 큰 정수 입력 : 12\n",
      "12보다 큰 정수 입력 : 20\n",
      "공약수는 [1, 2, 4]\n",
      "최대공약수는 4\n",
      "최소공배수는 60\n"
     ]
    }
   ],
   "source": [
    "num1 = int(input(\"1보다 큰 정수 입력 : \"))\n",
    "num2 = int(input(f\"{num1}보다 큰 정수 입력 : \"))\n",
    "\n",
    "maxNum = 0\n",
    "\n",
    "lst = []\n",
    "\n",
    "for i in range( 1, (num1 + 1)):\n",
    "    if num1 % i == 0 and num2 % i ==0:\n",
    "        lst.append(i)\n",
    "        maxNum = i\n",
    "        \n",
    "print(f\"공약수는 {lst}\")\n",
    "print(f\"최대공약수는 {maxNum}\")\n",
    "\n",
    "minNum = (num1 * num2) // maxNum\n",
    "print(f\"최소공배수는 {minNum}\")"
   ]
  },
  {
   "cell_type": "markdown",
   "id": "d82ce1f1",
   "metadata": {},
   "source": [
    "## 최대공약수, 최소공배수 함수 만들기"
   ]
  },
  {
   "cell_type": "code",
   "execution_count": 10,
   "id": "1fb62fba",
   "metadata": {},
   "outputs": [],
   "source": [
    "def 최대공약수2(input1, input2):\n",
    "    num1 = input1\n",
    "    num2 = input2\n",
    "\n",
    "    maxNum = 0\n",
    "    \n",
    "    lst = []\n",
    "\n",
    "    for i in range( 1, (num1 + 1)):\n",
    "        if num1 % i == 0 and num2 % i ==0:\n",
    "            lst.append(i)\n",
    "            maxNum = i\n",
    "  \n",
    "    return maxNum\n",
    "    \n",
    "def 최소공배수2(input1, input2):\n",
    "    num1 = input1\n",
    "    num2 = input2\n",
    "    \n",
    "    maxNum = 최대공약수2(num1, num2)\n",
    "    minNum = (num1 * num2) // maxNum\n",
    "\n",
    "    return minNum"
   ]
  },
  {
   "cell_type": "code",
   "execution_count": 11,
   "id": "fe9729bc",
   "metadata": {},
   "outputs": [
    {
     "name": "stdout",
     "output_type": "stream",
     "text": [
      "최소공배수 : 144\n"
     ]
    },
    {
     "data": {
      "text/plain": [
       "144"
      ]
     },
     "execution_count": 11,
     "metadata": {},
     "output_type": "execute_result"
    }
   ],
   "source": [
    "def 최소공배수(*arg):\n",
    "    arg = set(arg)\n",
    "    arg = sorted(arg)\n",
    "    arg = list(arg)\n",
    "    \n",
    "    num1 = arg.pop()\n",
    "    for num2 in arg:\n",
    "        maxNum = 최대공약수2(num1, num2) # new최대공약수\n",
    "        minNum = 최소공배수2(num1,num2) # new최소공배수\n",
    "        num1 = minNum\n",
    "\n",
    "    print(f\"최소공배수 : {minNum}\")\n",
    "    return minNum\n",
    "\n",
    "최소공배수(12, 36, 48)"
   ]
  },
  {
   "cell_type": "markdown",
   "id": "1fb78bf1",
   "metadata": {},
   "source": [
    "# 진법"
   ]
  },
  {
   "cell_type": "markdown",
   "id": "d47a3a07",
   "metadata": {},
   "source": [
    "## 10진수를 2, 8, 16진수"
   ]
  },
  {
   "cell_type": "code",
   "execution_count": 12,
   "id": "5d521009",
   "metadata": {},
   "outputs": [
    {
     "name": "stdout",
     "output_type": "stream",
     "text": [
      "dNum = 30\n",
      "2진수 : 0b11110\n",
      "8진수 : 0o36\n",
      "16진수 : 0x1e\n"
     ]
    }
   ],
   "source": [
    "dNum = 30\n",
    "print(f\"dNum = {dNum}\")\n",
    "\n",
    "print(f\"2진수 : {bin(dNum)}\") # 0b 로 시작 \n",
    "print(f\"8진수 : {oct(dNum)}\") # 0o 로 시작\n",
    "print(f\"16진수 : {hex(dNum)}\") # 0x 로 시작"
   ]
  },
  {
   "cell_type": "markdown",
   "id": "844f0b35",
   "metadata": {},
   "source": [
    "* 진수 표시 O"
   ]
  },
  {
   "cell_type": "code",
   "execution_count": 13,
   "id": "00dcb36c",
   "metadata": {},
   "outputs": [
    {
     "name": "stdout",
     "output_type": "stream",
     "text": [
      "dNum = 30\n",
      "2진수 : 0b11110\n",
      "8진수 : 0o36\n",
      "16진수 : 0x1e\n"
     ]
    }
   ],
   "source": [
    "print(f\"dNum = {dNum}\")\n",
    "\n",
    "print(f\"2진수 : {dNum:#b}\") # 0b 로 시작 \n",
    "print(f\"8진수 : {dNum:#o}\") # 0o 로 시작\n",
    "print(f\"16진수 : {dNum:#x}\") # 0x 로 시작"
   ]
  },
  {
   "cell_type": "markdown",
   "id": "3a7a8189",
   "metadata": {},
   "source": [
    "* 앞의 진수 표시 X"
   ]
  },
  {
   "cell_type": "code",
   "execution_count": 14,
   "id": "41724547",
   "metadata": {},
   "outputs": [
    {
     "name": "stdout",
     "output_type": "stream",
     "text": [
      "dNum = 30\n",
      "2진수 : 11110\n",
      "8진수 : 36\n",
      "16진수 : 1e\n"
     ]
    }
   ],
   "source": [
    "print(f\"dNum = {dNum}\")\n",
    "\n",
    "print(f\"2진수 : {dNum:b}\") # 0b 로 시작 \n",
    "print(f\"8진수 : {dNum:o}\") # 0o 로 시작\n",
    "print(f\"16진수 : {dNum:x}\") # 0x 로 시작"
   ]
  },
  {
   "cell_type": "markdown",
   "id": "c8b107d1",
   "metadata": {},
   "source": [
    "## 2, 8, 16 진수를 10진수로"
   ]
  },
  {
   "cell_type": "code",
   "execution_count": 16,
   "id": "c6682c6e",
   "metadata": {},
   "outputs": [
    {
     "name": "stdout",
     "output_type": "stream",
     "text": [
      "2진수(0x1e) -> 10진수(30)\n",
      "8진수(0b11110) -> 10진수(30)\n",
      "16진수(0x1e) -> 10진수(30)\n"
     ]
    }
   ],
   "source": [
    "print(f\"2진수(0x1e) -> 10진수({0b11110})\")\n",
    "print(f\"8진수(0b11110) -> 10진수({0o36})\")\n",
    "print(f\"16진수(0x1e) -> 10진수({0x1e})\")"
   ]
  },
  {
   "cell_type": "code",
   "execution_count": 17,
   "id": "51c95eea",
   "metadata": {},
   "outputs": [
    {
     "name": "stdout",
     "output_type": "stream",
     "text": [
      "2진수(0x1e) -> 10진수(30)\n",
      "8진수(0b11110) -> 10진수(30)\n",
      "16진수(0x1e) -> 10진수(30)\n"
     ]
    }
   ],
   "source": [
    "print(f\"2진수(0x1e) -> 10진수({ int('11110', 2) })\")\n",
    "print(f\"8진수(0b11110) -> 10진수({ int('36', 8) })\")\n",
    "print(f\"16진수(0x1e) -> 10진수({ int('0x1e', 16) })\")"
   ]
  },
  {
   "cell_type": "markdown",
   "id": "78b57932",
   "metadata": {},
   "source": [
    "# 수열"
   ]
  },
  {
   "cell_type": "markdown",
   "id": "c7b44ac6",
   "metadata": {},
   "source": [
    "## 등차수열"
   ]
  },
  {
   "cell_type": "code",
   "execution_count": 18,
   "id": "885325f3",
   "metadata": {},
   "outputs": [
    {
     "name": "stdout",
     "output_type": "stream",
     "text": [
      "1번째 항은 5\t총 합은 5\n",
      "2번째 항은 9\t총 합은 14\n",
      "3번째 항은 13\t총 합은 27\n",
      "4번째 항은 17\t총 합은 44\n",
      "5번째 항은 21\t총 합은 65\n",
      "6번째 항은 25\t총 합은 90\n",
      "7번째 항은 29\t총 합은 119\n"
     ]
    }
   ],
   "source": [
    "def 등차수열(a,d,target):\n",
    "    # a1 첫항, d 공차, target 목표항\n",
    "    \n",
    "    sumA = a\n",
    "    n=1\n",
    "    \n",
    "    print(f\"{n}번째 항은 {a}\\t총 합은 {sumA}\") # 첫항 출력\n",
    "    \n",
    "    while n< target:\n",
    "        n+=1\n",
    "        a += d \n",
    "        sumA += a\n",
    "        print(f\"{n}번째 항은 {a}\\t총 합은 {sumA}\")\n",
    "        \n",
    "등차수열(5,4,7)"
   ]
  },
  {
   "cell_type": "code",
   "execution_count": 19,
   "id": "546aa448",
   "metadata": {},
   "outputs": [
    {
     "name": "stdout",
     "output_type": "stream",
     "text": [
      "1번째 항은 5\t총 합은 5\n",
      "2번째 항은 9\t총 합은 14\n",
      "3번째 항은 13\t총 합은 27\n",
      "4번째 항은 17\t총 합은 44\n",
      "5번째 항은 21\t총 합은 65\n",
      "6번째 항은 25\t총 합은 90\n",
      "7번째 항은 29\t총 합은 119\n"
     ]
    }
   ],
   "source": [
    "def 등차수열(a,d,target):\n",
    "    # a1 첫항, d 공차, target 목표항\n",
    "    \n",
    "    sumA = a\n",
    "    n=1\n",
    "    \n",
    "    print(f\"{n}번째 항은 {a}\\t총 합은 {sumA}\") # 첫항 출력\n",
    "    \n",
    "    while n< target:\n",
    "        n+=1\n",
    "        a += d \n",
    "        sumA += a\n",
    "        print(f\"{n}번째 항은 {a}\\t총 합은 {sumA}\")\n",
    "        \n",
    "등차수열(5,4,7)"
   ]
  },
  {
   "cell_type": "markdown",
   "id": "ac2416e9",
   "metadata": {},
   "source": [
    "## 등비수열"
   ]
  },
  {
   "cell_type": "code",
   "execution_count": 20,
   "id": "ad8de2ad",
   "metadata": {},
   "outputs": [
    {
     "name": "stdout",
     "output_type": "stream",
     "text": [
      "1번째 항은 5\t총 합은 5\n",
      "2번째 항은 20\t총 합은 25\n",
      "3번째 항은 80\t총 합은 105\n",
      "4번째 항은 320\t총 합은 425\n",
      "5번째 항은 1280\t총 합은 1705\n",
      "6번째 항은 5120\t총 합은 6825\n",
      "7번째 항은 20480\t총 합은 27305\n"
     ]
    }
   ],
   "source": [
    "def 등비수열(a,r,target):\n",
    "    # a1 첫항, r 공비, target 목표항\n",
    "    \n",
    "    sumA = a\n",
    "    n=1\n",
    "    \n",
    "    print(f\"{n}번째 항은 {a}\\t총 합은 {sumA}\") \n",
    "    \n",
    "    while n< target:\n",
    "        n+=1\n",
    "        a *= r  # 등차수열과 이거 하나만 다름\n",
    "        sumA += a\n",
    "        print(f\"{n}번째 항은 {a}\\t총 합은 {sumA}\")\n",
    "        \n",
    "등비수열(5,4,7)"
   ]
  },
  {
   "cell_type": "markdown",
   "id": "784a444f",
   "metadata": {},
   "source": [
    "## 계차수열"
   ]
  },
  {
   "cell_type": "code",
   "execution_count": 21,
   "id": "41b39aab",
   "metadata": {},
   "outputs": [
    {
     "name": "stdout",
     "output_type": "stream",
     "text": [
      "1번째 항은 5\t총 합은 5  \t다음에 더해질 값은 2\n",
      "2번째 항은 7\t총 합은 12\t다음에 더해질 값은 5\n",
      "3번째 항은 12\t총 합은 24\t다음에 더해질 값은 8\n",
      "4번째 항은 20\t총 합은 44\t다음에 더해질 값은 11\n",
      "5번째 항은 31\t총 합은 75\t다음에 더해질 값은 14\n",
      "6번째 항은 45\t총 합은 120\t다음에 더해질 값은 17\n",
      "7번째 항은 62\t총 합은 182\t다음에 더해질 값은 20\n"
     ]
    }
   ],
   "source": [
    "def 계차수열(a, d, w, target):\n",
    "    # a1 첫항, d 차이, w 계차, target 목표항\n",
    "    \n",
    "    sumA = a\n",
    "    n=1\n",
    "    \n",
    "    print(f\"{n}번째 항은 {a}\\t총 합은 {sumA}  \\t다음에 더해질 값은 {d}\") \n",
    "    \n",
    "    while n< target:\n",
    "        n+=1\n",
    "        a += d\n",
    "        d += w\n",
    "        sumA += a\n",
    "        print(f\"{n}번째 항은 {a}\\t총 합은 {sumA}\\t다음에 더해질 값은 {d}\")\n",
    "        \n",
    "계차수열(5, 2, 3, 7)"
   ]
  },
  {
   "cell_type": "markdown",
   "id": "a5eefa6e",
   "metadata": {},
   "source": [
    "## 군수열"
   ]
  },
  {
   "cell_type": "code",
   "execution_count": 22,
   "id": "0aa46acd",
   "metadata": {},
   "outputs": [
    {
     "name": "stdout",
     "output_type": "stream",
     "text": [
      "1 \n",
      "1 2 \n",
      "1 2 3 \n",
      "1 2 3 4 \n",
      "1 2 3 \n",
      "13항 : 3\n"
     ]
    }
   ],
   "source": [
    "def 군수열(target):\n",
    "    \n",
    "    flag = True # while문 표시\n",
    "    \n",
    "    n=1 # 군\n",
    "    ncnt=1 # 군내 항의 개수\n",
    "    searchn = 0 # n번째 항의 값\n",
    "    \n",
    "    while flag:\n",
    "        \n",
    "        for i in range(1, (n+1) ):\n",
    "            \n",
    "            print(f\"{i}\", end=\" \")\n",
    "            \n",
    "            ncnt +=1\n",
    "            \n",
    "            if (ncnt > target):\n",
    "                searchn = i\n",
    "                flag = False\n",
    "                break\n",
    "        \n",
    "        print()\n",
    "        n+=1\n",
    "    print(f\"{target}항 : {searchn}\")\n",
    "군수열(13)"
   ]
  },
  {
   "cell_type": "markdown",
   "id": "4983362f",
   "metadata": {},
   "source": [
    "# 순열과 조합\n",
    "\n",
    "## 순열"
   ]
  },
  {
   "cell_type": "code",
   "execution_count": 23,
   "id": "e5109235",
   "metadata": {},
   "outputs": [],
   "source": [
    "def 순열(numn, numr):\n",
    "    result = 1\n",
    "    for n in range(numn, (numn-numr), -1):\n",
    "        result *= n\n",
    "       \n",
    "    return result\n",
    "\n",
    "def 원순열(numn, numr):\n",
    "    result = 순열(numn,numr)\n",
    "    result = int(result/numr)\n",
    "    \n",
    "    return result"
   ]
  },
  {
   "cell_type": "code",
   "execution_count": 24,
   "id": "eef47688",
   "metadata": {},
   "outputs": [
    {
     "data": {
      "text/plain": [
       "2520"
      ]
     },
     "execution_count": 24,
     "metadata": {},
     "output_type": "execute_result"
    }
   ],
   "source": [
    "순열(7,5) # 7개 중에 5개를 순서를 지켜뽑기"
   ]
  },
  {
   "cell_type": "code",
   "execution_count": 25,
   "id": "609a3685",
   "metadata": {},
   "outputs": [
    {
     "data": {
      "text/plain": [
       "504"
      ]
     },
     "execution_count": 25,
     "metadata": {},
     "output_type": "execute_result"
    }
   ],
   "source": [
    "원순열(7,5) # 7개중 5개를 순서를 지켜 뽑아서 원탁에 앉히기"
   ]
  },
  {
   "cell_type": "markdown",
   "id": "a5b189de",
   "metadata": {},
   "source": [
    "## 조합"
   ]
  },
  {
   "cell_type": "code",
   "execution_count": 27,
   "id": "9453b8ae",
   "metadata": {},
   "outputs": [],
   "source": [
    "def 조합(numn, numr):\n",
    "    result = 순열(numn, numr)\n",
    "    \n",
    "    nfact = 1\n",
    "    # 팩토리얼 구하기\n",
    "    for n in range(numr, 0 , -1):\n",
    "        nfact *= n\n",
    "    \n",
    "    result = int(result/nfact)\n",
    "    return result"
   ]
  },
  {
   "cell_type": "code",
   "execution_count": 28,
   "id": "8a3c5996",
   "metadata": {},
   "outputs": [
    {
     "data": {
      "text/plain": [
       "21"
      ]
     },
     "execution_count": 28,
     "metadata": {},
     "output_type": "execute_result"
    }
   ],
   "source": [
    "조합(7,5) # 7개중 5개를 뽑기"
   ]
  },
  {
   "cell_type": "code",
   "execution_count": 29,
   "id": "103b62bf",
   "metadata": {},
   "outputs": [
    {
     "data": {
      "text/plain": [
       "(6, 2)"
      ]
     },
     "execution_count": 29,
     "metadata": {},
     "output_type": "execute_result"
    }
   ],
   "source": [
    "a,b =divmod(20,3)\n",
    "a,b"
   ]
  }
 ],
 "metadata": {
  "kernelspec": {
   "display_name": "Python 3 (ipykernel)",
   "language": "python",
   "name": "python3"
  },
  "language_info": {
   "codemirror_mode": {
    "name": "ipython",
    "version": 3
   },
   "file_extension": ".py",
   "mimetype": "text/x-python",
   "name": "python",
   "nbconvert_exporter": "python",
   "pygments_lexer": "ipython3",
   "version": "3.9.7"
  },
  "toc": {
   "base_numbering": 1,
   "nav_menu": {},
   "number_sections": true,
   "sideBar": true,
   "skip_h1_title": false,
   "title_cell": "Table of Contents",
   "title_sidebar": "Contents",
   "toc_cell": false,
   "toc_position": {},
   "toc_section_display": true,
   "toc_window_display": true
  },
  "varInspector": {
   "cols": {
    "lenName": 16,
    "lenType": 16,
    "lenVar": 40
   },
   "kernels_config": {
    "python": {
     "delete_cmd_postfix": "",
     "delete_cmd_prefix": "del ",
     "library": "var_list.py",
     "varRefreshCmd": "print(var_dic_list())"
    },
    "r": {
     "delete_cmd_postfix": ") ",
     "delete_cmd_prefix": "rm(",
     "library": "var_list.r",
     "varRefreshCmd": "cat(var_dic_list()) "
    }
   },
   "types_to_exclude": [
    "module",
    "function",
    "builtin_function_or_method",
    "instance",
    "_Feature"
   ],
   "window_display": false
  }
 },
 "nbformat": 4,
 "nbformat_minor": 5
}
