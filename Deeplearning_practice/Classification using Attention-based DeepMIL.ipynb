{
 "cells": [
  {
   "cell_type": "markdown",
   "id": "52187cf9",
   "metadata": {},
   "source": [
    "# 준비"
   ]
  },
  {
   "cell_type": "markdown",
   "id": "b6f2c2d5",
   "metadata": {
    "ExecuteTime": {
     "end_time": "2022-08-23T10:07:55.600957Z",
     "start_time": "2022-08-23T10:07:55.592956Z"
    }
   },
   "source": [
    "https://keras.io/examples/vision/attention_mil_classification/#prepare-bags"
   ]
  },
  {
   "cell_type": "code",
   "execution_count": 5,
   "id": "21fdd5a4",
   "metadata": {
    "ExecuteTime": {
     "end_time": "2022-08-23T09:43:22.473409Z",
     "start_time": "2022-08-23T09:43:22.457401Z"
    }
   },
   "outputs": [],
   "source": [
    "import numpy as np\n",
    "from tqdm import tqdm\n",
    "from matplotlib import pyplot as plt\n",
    "\n",
    "import tensorflow as tf\n",
    "from tensorflow import keras\n",
    "from tensorflow.keras import layers\n",
    "\n",
    "\n",
    "plt.style.use(\"ggplot\")"
   ]
  },
  {
   "cell_type": "markdown",
   "id": "a1108ad0",
   "metadata": {},
   "source": [
    "Configuration parameters\n",
    "- POSITIVE_CLASS: The desired class to be kept in the positive bag.\n",
    "- BAG_COUNT: The number of training bags.\n",
    "- VAL_BAG_COUNT: The number of validation bags.\n",
    "- BAG_SIZE: The number of instances in a bag.\n",
    "- PLOT_SIZE: The number of bags to plot.\n",
    "- ENSEMBLE_AVG_COUNT: The number of models to create and average together. (Optional: often results in better performance - set to 1 for single model)"
   ]
  },
  {
   "cell_type": "markdown",
   "id": "042f5ca0",
   "metadata": {},
   "source": [
    "# 데이터 셋"
   ]
  },
  {
   "cell_type": "code",
   "execution_count": 6,
   "id": "d4aaa32e",
   "metadata": {
    "ExecuteTime": {
     "end_time": "2022-08-23T09:43:24.783576Z",
     "start_time": "2022-08-23T09:43:24.768569Z"
    }
   },
   "outputs": [],
   "source": [
    "POSITIVE_CLASS = 1\n",
    "BAG_COUNT = 1000\n",
    "VAL_BAG_COUNT = 300\n",
    "BAG_SIZE = 3\n",
    "PLOT_SIZE = 3\n",
    "ENSEMBLE_AVG_COUNT = 1"
   ]
  },
  {
   "cell_type": "code",
   "execution_count": 7,
   "id": "7427b852",
   "metadata": {
    "ExecuteTime": {
     "end_time": "2022-08-23T09:43:27.999597Z",
     "start_time": "2022-08-23T09:43:26.706245Z"
    }
   },
   "outputs": [
    {
     "name": "stdout",
     "output_type": "stream",
     "text": [
      "train_dataset :\n",
      "Positive bags: 292\n",
      "Negative bags: 708\n",
      "\n",
      "valid_dataset :\n",
      "Positive bags: 75\n",
      "Negative bags: 225\n"
     ]
    }
   ],
   "source": [
    "def create_bags(input_data, input_labels, positive_class, bag_count, instance_count):\n",
    "    \n",
    "    # Set up bags.\n",
    "    bags = []\n",
    "    bag_labels = []\n",
    "    # Normalize input data.\n",
    "    input_data = np.divide(input_data, 255.0)\n",
    "\n",
    "    # Count positive samples.\n",
    "    count = 0\n",
    "    \n",
    "    for _ in range(bag_count):\n",
    "        # Pick a fixed size random subset of samples.\n",
    "        index = np.random.choice(input_data.shape[0], instance_count, replace=False)\n",
    "        instances_data = input_data[index]\n",
    "        instances_labels = input_labels[index]\n",
    "\n",
    "        # By default, all bags are labeled as 0.\n",
    "        bag_label = 0\n",
    "\n",
    "        # Check if there is at least a positive class in the bag.\n",
    "        if positive_class in instances_labels:\n",
    "            # Positive bag will be labeled as 1.\n",
    "            bag_label = 1\n",
    "            count += 1\n",
    "\n",
    "        bags.append(instances_data)\n",
    "        bag_labels.append(np.array([bag_label]))\n",
    "\n",
    "    print(f\"Positive bags: {count}\")\n",
    "    print(f\"Negative bags: {bag_count - count}\")\n",
    "    return (list(np.swapaxes(bags, 0, 1)), np.array(bag_labels))\n",
    "\n",
    "# Load the MNIST dataset.\n",
    "(x_train, y_train), (x_val, y_val) = keras.datasets.mnist.load_data()\n",
    "\n",
    "# Create training data.\n",
    "print(\"train_dataset :\")\n",
    "train_data, train_labels = create_bags(x_train, y_train, POSITIVE_CLASS, BAG_COUNT, BAG_SIZE)\n",
    "\n",
    "# Create validation data.\n",
    "print(\"\\nvalid_dataset :\")\n",
    "val_data, val_labels = create_bags(x_val, y_val, POSITIVE_CLASS, VAL_BAG_COUNT,BAG_SIZE)"
   ]
  },
  {
   "cell_type": "markdown",
   "id": "f6609df4",
   "metadata": {},
   "source": [
    "# Helper func"
   ]
  },
  {
   "cell_type": "code",
   "execution_count": 11,
   "id": "88b7054b",
   "metadata": {
    "ExecuteTime": {
     "end_time": "2022-08-23T09:52:26.037737Z",
     "start_time": "2022-08-23T09:52:25.070520Z"
    }
   },
   "outputs": [
    {
     "name": "stdout",
     "output_type": "stream",
     "text": [
      "The bag class label is positive\n",
      "Bag number: 7\n"
     ]
    },
    {
     "data": {
      "image/png": "[encoded data removed]",
      "text/plain": [
       "<Figure size 576x576 with 3 Axes>"
      ]
     },
     "metadata": {},
     "output_type": "display_data"
    },
    {
     "name": "stdout",
     "output_type": "stream",
     "text": [
      "Bag number: 8\n"
     ]
    },
    {
     "data": {
      "image/png": "[encoded data removed]",
      "text/plain": [
       "<Figure size 576x576 with 3 Axes>"
      ]
     },
     "metadata": {},
     "output_type": "display_data"
    },
    {
     "name": "stdout",
     "output_type": "stream",
     "text": [
      "Bag number: 12\n"
     ]
    },
    {
     "data": {
      "image/png": "[encoded data removed]",
      "text/plain": [
       "<Figure size 576x576 with 3 Axes>"
      ]
     },
     "metadata": {},
     "output_type": "display_data"
    },
    {
     "name": "stdout",
     "output_type": "stream",
     "text": [
      "The bag class label is negative\n",
      "Bag number: 0\n"
     ]
    },
    {
     "data": {
      "image/png": "[encoded data removed]",
      "text/plain": [
       "<Figure size 576x576 with 3 Axes>"
      ]
     },
     "metadata": {},
     "output_type": "display_data"
    },
    {
     "name": "stdout",
     "output_type": "stream",
     "text": [
      "Bag number: 1\n"
     ]
    },
    {
     "data": {
      "image/png": "[encoded data removed]",
      "text/plain": [
       "<Figure size 576x576 with 3 Axes>"
      ]
     },
     "metadata": {},
     "output_type": "display_data"
    },
    {
     "name": "stdout",
     "output_type": "stream",
     "text": [
      "Bag number: 2\n"
     ]
    },
    {
     "data": {
      "image/png": "[encoded data removed]",
      "text/plain": [
       "<Figure size 576x576 with 3 Axes>"
      ]
     },
     "metadata": {},
     "output_type": "display_data"
    }
   ],
   "source": [
    "def plot(data, labels, bag_class, predictions=None, attention_weights=None):\n",
    "\n",
    "    \"\"\"\"Utility for plotting bags and attention weights.\n",
    "        - data: 인스턴스 백을 포함하는 입력 데이터입니다.\n",
    "        - label: 입력 데이터의 연관된 가방 레이블입니다.\n",
    "        - bag_class: 원하는 가방 클래스의 문자열 이름.\n",
    "        \n",
    "        - 옵션 : True / False\n",
    "            - predictions : 클래스 레이블은 예측을 모델링합니다.\n",
    "            - Attention_weights: 입력 데이터 내의 각 인스턴스에 대한 주의 가중치.\n",
    "    \"\"\"\n",
    "\n",
    "    labels = np.array(labels).reshape(-1) # 레이블 Flatten\n",
    "    # PLOT_SIZE = BAG_SIZE\n",
    "    \n",
    "    if bag_class == \"positive\": # positive bag\n",
    "        if predictions is not None:\n",
    "            labels = np.where(predictions.argmax(1) == 1)[0] \n",
    "            bags = np.array(data)[:, labels[0:PLOT_SIZE]]\n",
    "\n",
    "        else:\n",
    "            labels = np.where(labels == 1)[0]\n",
    "            bags = np.array(data)[:, labels[0:PLOT_SIZE]]\n",
    "\n",
    "    elif bag_class == \"negative\": # negative bag\n",
    "        if predictions is not None:\n",
    "            labels = np.where(predictions.argmax(1) == 0)[0]\n",
    "            bags = np.array(data)[:, labels[0:PLOT_SIZE]]\n",
    "        else:\n",
    "            labels = np.where(labels == 0)[0]\n",
    "            bags = np.array(data)[:, labels[0:PLOT_SIZE]]\n",
    "\n",
    "    else: # wrong bag\n",
    "        print(f\"There is no class {bag_class}\")\n",
    "        return\n",
    "\n",
    "    print(f\"The bag class label is {bag_class}\")\n",
    "    for i in range(PLOT_SIZE):\n",
    "        figure = plt.figure(figsize=(8, 8))\n",
    "        print(f\"Bag number: {labels[i]}\")\n",
    "        for j in range(BAG_SIZE):\n",
    "            image = bags[j][i]\n",
    "            figure.add_subplot(1, BAG_SIZE, j + 1)\n",
    "            plt.grid(False)\n",
    "            if attention_weights is not None:\n",
    "                plt.title(np.around(attention_weights[labels[i]][j], 2))\n",
    "            plt.imshow(image)\n",
    "        plt.show()\n",
    "\n",
    "\n",
    "# Plot some of validation data bags per class.\n",
    "plot(val_data, val_labels, \"positive\")\n",
    "plot(val_data, val_labels, \"negative\")"
   ]
  },
  {
   "cell_type": "markdown",
   "id": "b29659d2",
   "metadata": {},
   "source": [
    "# 모델"
   ]
  },
  {
   "cell_type": "code",
   "execution_count": 22,
   "id": "085669de",
   "metadata": {
    "ExecuteTime": {
     "end_time": "2022-08-23T05:39:15.926776Z",
     "start_time": "2022-08-23T05:39:15.912302Z"
    }
   },
   "outputs": [],
   "source": [
    "class MILAttentionLayer(layers.Layer):\n",
    "    \"\"\"Implementation of the attention-based Deep MIL layer.\n",
    "\n",
    "    Args:\n",
    "      weight_params_dim: Positive Integer. Dimension of the weight matrix.\n",
    "      kernel_initializer: Initializer for the `kernel` matrix.\n",
    "      kernel_regularizer: Regularizer function applied to the `kernel` matrix.\n",
    "      use_gated: Boolean, whether or not to use the gated mechanism.\n",
    "\n",
    "    Returns:\n",
    "      List of 2D tensors with BAG_SIZE length.\n",
    "      The tensors are the attention scores after softmax with shape `(batch_size, 1)`.\n",
    "    \"\"\"\n",
    "\n",
    "    def __init__(\n",
    "        self,\n",
    "        weight_params_dim, # weight matrix 의 차원\n",
    "        kernel_initializer=\"glorot_uniform\", # initializer\n",
    "        kernel_regularizer=None, # regularizer\n",
    "        use_gated=False, # gate\n",
    "        **kwargs,\n",
    "    ):\n",
    "\n",
    "        super().__init__(**kwargs)\n",
    "\n",
    "        self.weight_params_dim = weight_params_dim\n",
    "        self.use_gated = use_gated\n",
    "\n",
    "        self.kernel_initializer = keras.initializers.get(kernel_initializer)\n",
    "        self.kernel_regularizer = keras.regularizers.get(kernel_regularizer)\n",
    "\n",
    "        self.v_init = self.kernel_initializer\n",
    "        self.w_init = self.kernel_initializer\n",
    "        self.u_init = self.kernel_initializer\n",
    "\n",
    "        self.v_regularizer = self.kernel_regularizer\n",
    "        self.w_regularizer = self.kernel_regularizer\n",
    "        self.u_regularizer = self.kernel_regularizer\n",
    "\n",
    "    def build(self, input_shape):\n",
    "\n",
    "        # Input shape.\n",
    "        # List of 2D tensors with shape: (batch_size, input_dim).\n",
    "        input_dim = input_shape[0][1]\n",
    "\n",
    "        # V_weight\n",
    "        self.v_weight_params = self.add_weight(\n",
    "            shape=(input_dim, self.weight_params_dim),\n",
    "            initializer=self.v_init,\n",
    "            name=\"v\",\n",
    "            regularizer=self.v_regularizer,\n",
    "            trainable=True,\n",
    "        )\n",
    "\n",
    "        # W_weight\n",
    "        self.w_weight_params = self.add_weight(\n",
    "            shape=(self.weight_params_dim, 1),\n",
    "            initializer=self.w_init,\n",
    "            name=\"w\",\n",
    "            regularizer=self.w_regularizer,\n",
    "            trainable=True,\n",
    "        )\n",
    "    \n",
    "        # U_weight\n",
    "        if self.use_gated:\n",
    "            self.u_weight_params = self.add_weight(\n",
    "                shape=(input_dim, self.weight_params_dim),\n",
    "                initializer=self.u_init,\n",
    "                name=\"u\",\n",
    "                regularizer=self.u_regularizer,\n",
    "                trainable=True,\n",
    "            )\n",
    "        else:\n",
    "            self.u_weight_params = None\n",
    "\n",
    "        self.input_built = True\n",
    "\n",
    "    def call(self, inputs):\n",
    "\n",
    "        # Assigning variables from the number of inputs.\n",
    "        instances = [self.compute_attention_scores(instance) for instance in inputs]\n",
    "\n",
    "        # Apply softmax over instances such that the output summation is equal to 1.\n",
    "        alpha = tf.math.softmax(instances, axis=0)\n",
    "\n",
    "        return [alpha[i] for i in range(alpha.shape[0])]\n",
    "\n",
    "    def compute_attention_scores(self, instance):\n",
    "\n",
    "        # Reserve in-case \"gated mechanism\" used.\n",
    "        original_instance = instance\n",
    "\n",
    "        # tanh(v*h_k^T)\n",
    "        instance = tf.math.tanh(\n",
    "            tf.tensordot(instance, self.v_weight_params, axes=1))\n",
    "\n",
    "        # for learning non-linear relations efficiently.\n",
    "        if self.use_gated:\n",
    "\n",
    "            instance = instance * tf.math.sigmoid(\n",
    "                tf.tensordot(original_instance, self.u_weight_params, axes=1))\n",
    "\n",
    "        # w^T*(tanh(v*h_k^T)) / w^T*(tanh(v*h_k^T)*sigmoid(u*h_k^T))\n",
    "        return tf.tensordot(instance, self.w_weight_params, axes=1)"
   ]
  },
  {
   "cell_type": "code",
   "execution_count": 23,
   "id": "c0a92905",
   "metadata": {
    "ExecuteTime": {
     "end_time": "2022-08-23T05:39:16.130757Z",
     "start_time": "2022-08-23T05:39:16.114753Z"
    }
   },
   "outputs": [],
   "source": [
    "def create_model(instance_shape):\n",
    "\n",
    "    # Extract features from inputs.\n",
    "    inputs, embeddings = [], []\n",
    "    shared_dense_layer_1 = layers.Dense(128, activation=\"relu\")\n",
    "    shared_dense_layer_2 = layers.Dense(64, activation=\"relu\")\n",
    "    for _ in range(BAG_SIZE):\n",
    "        inp = layers.Input(instance_shape)\n",
    "        flatten = layers.Flatten()(inp)\n",
    "        dense_1 = shared_dense_layer_1(flatten)\n",
    "        dense_2 = shared_dense_layer_2(dense_1)\n",
    "        inputs.append(inp)\n",
    "        embeddings.append(dense_2)\n",
    "\n",
    "    # Invoke the attention layer.\n",
    "    alpha = MILAttentionLayer(\n",
    "        weight_params_dim=256,\n",
    "        kernel_regularizer=keras.regularizers.l2(0.01),\n",
    "        use_gated=True,\n",
    "        name=\"alpha\",\n",
    "    )(embeddings)\n",
    "\n",
    "    # Multiply attention weights with the input layers.\n",
    "    multiply_layers = [\n",
    "        layers.multiply([alpha[i], embeddings[i]]) for i in range(len(alpha))\n",
    "    ]\n",
    "\n",
    "    # Concatenate layers.\n",
    "    concat = layers.concatenate(multiply_layers, axis=1)\n",
    "\n",
    "    # Classification output node.\n",
    "    output = layers.Dense(2, activation=\"softmax\")(concat)\n",
    "\n",
    "    return keras.Model(inputs, output)"
   ]
  },
  {
   "cell_type": "code",
   "execution_count": 24,
   "id": "59a45e25",
   "metadata": {
    "ExecuteTime": {
     "end_time": "2022-08-23T05:39:17.036013Z",
     "start_time": "2022-08-23T05:39:17.019318Z"
    }
   },
   "outputs": [],
   "source": [
    "def compute_class_weights(labels):\n",
    "\n",
    "    # Count number of postive and negative bags.\n",
    "    negative_count = len(np.where(labels == 0)[0])\n",
    "    positive_count = len(np.where(labels == 1)[0])\n",
    "    total_count = negative_count + positive_count\n",
    "\n",
    "    # Build class weight dictionary.\n",
    "    return {\n",
    "        0: (1 / negative_count) * (total_count / 2),\n",
    "        1: (1 / positive_count) * (total_count / 2),\n",
    "    }"
   ]
  },
  {
   "cell_type": "markdown",
   "id": "adf64035",
   "metadata": {},
   "source": [
    "## build"
   ]
  },
  {
   "cell_type": "code",
   "execution_count": 27,
   "id": "b3ea6b6d",
   "metadata": {
    "ExecuteTime": {
     "end_time": "2022-08-23T05:40:55.890243Z",
     "start_time": "2022-08-23T05:40:55.739355Z"
    }
   },
   "outputs": [
    {
     "name": "stdout",
     "output_type": "stream",
     "text": [
      "Model: \"model_6\"\n",
      "__________________________________________________________________________________________________\n",
      " Layer (type)                   Output Shape         Param #     Connected to                     \n",
      "==================================================================================================\n",
      " input_16 (InputLayer)          [(None, 28, 28)]     0           []                               \n",
      "                                                                                                  \n",
      " input_17 (InputLayer)          [(None, 28, 28)]     0           []                               \n",
      "                                                                                                  \n",
      " input_18 (InputLayer)          [(None, 28, 28)]     0           []                               \n",
      "                                                                                                  \n",
      " flatten_15 (Flatten)           (None, 784)          0           ['input_16[0][0]']               \n",
      "                                                                                                  \n",
      " flatten_16 (Flatten)           (None, 784)          0           ['input_17[0][0]']               \n",
      "                                                                                                  \n",
      " flatten_17 (Flatten)           (None, 784)          0           ['input_18[0][0]']               \n",
      "                                                                                                  \n",
      " dense_15 (Dense)               (None, 128)          100480      ['flatten_15[0][0]',             \n",
      "                                                                  'flatten_16[0][0]',             \n",
      "                                                                  'flatten_17[0][0]']             \n",
      "                                                                                                  \n",
      " dense_16 (Dense)               (None, 64)           8256        ['dense_15[0][0]',               \n",
      "                                                                  'dense_15[1][0]',               \n",
      "                                                                  'dense_15[2][0]']               \n",
      "                                                                                                  \n",
      " alpha (MILAttentionLayer)      [(None, 1),          33024       ['dense_16[0][0]',               \n",
      "                                 (None, 1),                       'dense_16[1][0]',               \n",
      "                                 (None, 1)]                       'dense_16[2][0]']               \n",
      "                                                                                                  \n",
      " multiply_15 (Multiply)         (None, 64)           0           ['alpha[0][0]',                  \n",
      "                                                                  'dense_16[0][0]']               \n",
      "                                                                                                  \n",
      " multiply_16 (Multiply)         (None, 64)           0           ['alpha[0][1]',                  \n",
      "                                                                  'dense_16[1][0]']               \n",
      "                                                                                                  \n",
      " multiply_17 (Multiply)         (None, 64)           0           ['alpha[0][2]',                  \n",
      "                                                                  'dense_16[2][0]']               \n",
      "                                                                                                  \n",
      " concatenate_5 (Concatenate)    (None, 192)          0           ['multiply_15[0][0]',            \n",
      "                                                                  'multiply_16[0][0]',            \n",
      "                                                                  'multiply_17[0][0]']            \n",
      "                                                                                                  \n",
      " dense_17 (Dense)               (None, 2)            386         ['concatenate_5[0][0]']          \n",
      "                                                                                                  \n",
      "==================================================================================================\n",
      "Total params: 142,146\n",
      "Trainable params: 142,146\n",
      "Non-trainable params: 0\n",
      "__________________________________________________________________________________________________\n",
      "None\n"
     ]
    }
   ],
   "source": [
    "def train(train_data, train_labels, val_data, val_labels, model):\n",
    "\n",
    "    # Train model.\n",
    "    # Prepare callbacks.\n",
    "    # Path where to save best weights.\n",
    "\n",
    "    # Take the file name from the wrapper.\n",
    "\n",
    "    # Initialize model checkpoint callback.\n",
    "    model_checkpoint = keras.callbacks.ModelCheckpoint(\n",
    "        \"/tmp/best_model_weights.h5\",\n",
    "        monitor=\"val_loss\",\n",
    "        verbose=0,\n",
    "        mode=\"min\",\n",
    "        save_best_only=True,\n",
    "        save_weights_only=True\n",
    "        )\n",
    "\n",
    "    # Initialize early stopping callback.\n",
    "    # The model performance is monitored across the validation data and stops training\n",
    "    # when the generalization error cease to decrease.\n",
    "    early_stopping = keras.callbacks.EarlyStopping(monitor=\"val_loss\",\n",
    "                                                   patience=10,\n",
    "                                                   mode=\"min\")\n",
    "\n",
    "    # Compile model.\n",
    "    model.compile(\n",
    "        optimizer=\"adam\",\n",
    "        loss=\"sparse_categorical_crossentropy\",\n",
    "        metrics=[\"accuracy\"],\n",
    "    )\n",
    "\n",
    "    # Fit model.\n",
    "    model.fit(\n",
    "        train_data,\n",
    "        train_labels,\n",
    "        validation_data=(val_data, val_labels),\n",
    "        epochs=20,\n",
    "        class_weight=compute_class_weights(train_labels),\n",
    "        batch_size=1,\n",
    "        callbacks=[early_stopping, model_checkpoint],\n",
    "        verbose=1,\n",
    "    )\n",
    "\n",
    "    model.load_weights(\"/tmp/best_model_weights.h5\")\n",
    "\n",
    "    return model\n",
    "\n",
    "\n",
    "# Building model(s).\n",
    "instance_shape = train_data[0][0].shape\n",
    "models = [create_model(instance_shape) for _ in range(ENSEMBLE_AVG_COUNT)]\n",
    "\n",
    "# Show single model architecture.\n",
    "print(models[0].summary())"
   ]
  },
  {
   "cell_type": "markdown",
   "id": "ba20d0c9",
   "metadata": {},
   "source": [
    "## train"
   ]
  },
  {
   "cell_type": "code",
   "execution_count": 28,
   "id": "4c25f6e0",
   "metadata": {
    "ExecuteTime": {
     "end_time": "2022-08-23T05:42:20.850598Z",
     "start_time": "2022-08-23T05:40:57.677088Z"
    }
   },
   "outputs": [
    {
     "name": "stderr",
     "output_type": "stream",
     "text": [
      "\n",
      "\n",
      "  0%|                                                                                            | 0/1 [00:00<?, ?it/s]\u001b[A\u001b[A"
     ]
    },
    {
     "name": "stdout",
     "output_type": "stream",
     "text": [
      "Epoch 1/20\n",
      "1000/1000 [==============================] - 5s 4ms/step - loss: 0.3253 - accuracy: 0.9150 - val_loss: 0.0378 - val_accuracy: 0.9933\n",
      "Epoch 2/20\n",
      "1000/1000 [==============================] - 4s 4ms/step - loss: 0.0962 - accuracy: 0.9750 - val_loss: 0.1008 - val_accuracy: 0.9600\n",
      "Epoch 3/20\n",
      "1000/1000 [==============================] - 4s 4ms/step - loss: 0.0624 - accuracy: 0.9850 - val_loss: 0.0438 - val_accuracy: 0.9933\n",
      "Epoch 4/20\n",
      "1000/1000 [==============================] - 4s 4ms/step - loss: 0.0540 - accuracy: 0.9870 - val_loss: 0.0451 - val_accuracy: 0.9933\n",
      "Epoch 5/20\n",
      "1000/1000 [==============================] - 4s 4ms/step - loss: 0.0461 - accuracy: 0.9900 - val_loss: 0.1872 - val_accuracy: 0.9700\n",
      "Epoch 6/20\n",
      "1000/1000 [==============================] - 4s 4ms/step - loss: 0.0923 - accuracy: 0.9800 - val_loss: 0.0320 - val_accuracy: 0.9933\n",
      "Epoch 7/20\n",
      "1000/1000 [==============================] - 4s 4ms/step - loss: 0.0360 - accuracy: 0.9920 - val_loss: 0.0528 - val_accuracy: 0.9933\n",
      "Epoch 8/20\n",
      "1000/1000 [==============================] - 4s 4ms/step - loss: 0.0654 - accuracy: 0.9880 - val_loss: 0.1166 - val_accuracy: 0.9833\n",
      "Epoch 9/20\n",
      "1000/1000 [==============================] - 4s 4ms/step - loss: 0.0376 - accuracy: 0.9950 - val_loss: 0.0243 - val_accuracy: 0.9933\n",
      "Epoch 10/20\n",
      "1000/1000 [==============================] - 4s 4ms/step - loss: 0.0081 - accuracy: 1.0000 - val_loss: 0.0167 - val_accuracy: 0.9967\n",
      "Epoch 11/20\n",
      "1000/1000 [==============================] - 4s 4ms/step - loss: 0.0166 - accuracy: 0.9970 - val_loss: 0.1137 - val_accuracy: 0.9867\n",
      "Epoch 12/20\n",
      "1000/1000 [==============================] - 4s 4ms/step - loss: 0.0572 - accuracy: 0.9950 - val_loss: 0.0205 - val_accuracy: 0.9933\n",
      "Epoch 13/20\n",
      "1000/1000 [==============================] - 4s 4ms/step - loss: 0.0160 - accuracy: 0.9990 - val_loss: 0.0424 - val_accuracy: 0.9967\n",
      "Epoch 14/20\n",
      "1000/1000 [==============================] - 4s 4ms/step - loss: 0.0517 - accuracy: 0.9940 - val_loss: 0.1190 - val_accuracy: 0.9933\n",
      "Epoch 15/20\n",
      "1000/1000 [==============================] - 4s 4ms/step - loss: 0.0315 - accuracy: 0.9980 - val_loss: 0.0789 - val_accuracy: 0.9867\n",
      "Epoch 16/20\n",
      "1000/1000 [==============================] - 4s 4ms/step - loss: 0.0543 - accuracy: 0.9950 - val_loss: 0.2073 - val_accuracy: 0.9833\n",
      "Epoch 17/20\n",
      "1000/1000 [==============================] - 4s 4ms/step - loss: 0.0253 - accuracy: 1.0000 - val_loss: 0.0676 - val_accuracy: 0.9900\n",
      "Epoch 18/20\n",
      "1000/1000 [==============================] - 4s 4ms/step - loss: 0.0051 - accuracy: 1.0000 - val_loss: 0.0400 - val_accuracy: 0.9933\n",
      "Epoch 19/20\n",
      "1000/1000 [==============================] - 4s 4ms/step - loss: 0.0043 - accuracy: 1.0000 - val_loss: 0.0524 - val_accuracy: 0.9967\n",
      "Epoch 20/20\n",
      "1000/1000 [==============================] - 4s 4ms/step - loss: 0.0057 - accuracy: 0.9990 - val_loss: 0.0832 - val_accuracy: 0.9967\n"
     ]
    },
    {
     "name": "stderr",
     "output_type": "stream",
     "text": [
      "\n",
      "\n",
      "100%|████████████████████████████████████████████████████████████████████████████████████| 1/1 [01:23<00:00, 83.17s/it]\u001b[A\u001b[A\n"
     ]
    }
   ],
   "source": [
    "# Training model(s).\n",
    "trained_models = [ train(train_data, train_labels, val_data, val_labels, model) for model in tqdm(models) ]"
   ]
  },
  {
   "cell_type": "markdown",
   "id": "32946d6f",
   "metadata": {},
   "source": [
    "## evaluation"
   ]
  },
  {
   "cell_type": "code",
   "execution_count": 29,
   "id": "8eb070e0",
   "metadata": {
    "ExecuteTime": {
     "end_time": "2022-08-23T05:42:24.341622Z",
     "start_time": "2022-08-23T05:42:22.484221Z"
    }
   },
   "outputs": [
    {
     "name": "stdout",
     "output_type": "stream",
     "text": [
      "10/10 [==============================] - 0s 3ms/step\n",
      "10/10 [==============================] - 0s 4ms/step\n",
      "The average loss and accuracy are 0.02 and 99.67 % resp.\n",
      "The bag class label is positive\n",
      "Bag number: 0\n"
     ]
    },
    {
     "data": {
      "image/png": "[encoded data removed]",
      "text/plain": [
       "<Figure size 576x576 with 3 Axes>"
      ]
     },
     "metadata": {},
     "output_type": "display_data"
    },
    {
     "name": "stdout",
     "output_type": "stream",
     "text": [
      "Bag number: 13\n"
     ]
    },
    {
     "data": {
      "image/png": "[encoded data removed]",
      "text/plain": [
       "<Figure size 576x576 with 3 Axes>"
      ]
     },
     "metadata": {},
     "output_type": "display_data"
    },
    {
     "name": "stdout",
     "output_type": "stream",
     "text": [
      "Bag number: 23\n"
     ]
    },
    {
     "data": {
      "image/png": "[encoded data removed]",
      "text/plain": [
       "<Figure size 576x576 with 3 Axes>"
      ]
     },
     "metadata": {},
     "output_type": "display_data"
    },
    {
     "name": "stdout",
     "output_type": "stream",
     "text": [
      "The bag class label is negative\n",
      "Bag number: 1\n"
     ]
    },
    {
     "data": {
      "image/png": "[encoded data removed]",
      "text/plain": [
       "<Figure size 576x576 with 3 Axes>"
      ]
     },
     "metadata": {},
     "output_type": "display_data"
    },
    {
     "name": "stdout",
     "output_type": "stream",
     "text": [
      "Bag number: 2\n"
     ]
    },
    {
     "data": {
      "image/png": "[encoded data removed]",
      "text/plain": [
       "<Figure size 576x576 with 3 Axes>"
      ]
     },
     "metadata": {},
     "output_type": "display_data"
    },
    {
     "name": "stdout",
     "output_type": "stream",
     "text": [
      "Bag number: 3\n"
     ]
    },
    {
     "name": "stderr",
     "output_type": "stream",
     "text": [
      "  0%|                                                                                            | 0/1 [03:39<?, ?it/s]\n"
     ]
    },
    {
     "data": {
      "image/png": "[encoded data removed]",
      "text/plain": [
       "<Figure size 576x576 with 3 Axes>"
      ]
     },
     "metadata": {},
     "output_type": "display_data"
    }
   ],
   "source": [
    "def predict(data, labels, trained_models):\n",
    "\n",
    "    # Collect info per model.\n",
    "    models_predictions = []\n",
    "    models_attention_weights = []\n",
    "    models_losses = []\n",
    "    models_accuracies = []\n",
    "\n",
    "    for model in trained_models:\n",
    "\n",
    "        # Predict output classes on data.\n",
    "        predictions = model.predict(data)\n",
    "        models_predictions.append(predictions)\n",
    "\n",
    "        # Create intermediate model to get MIL attention layer weights.\n",
    "        intermediate_model = keras.Model(model.input, model.get_layer(\"alpha\").output)\n",
    "\n",
    "        # Predict MIL attention layer weights.\n",
    "        intermediate_predictions = intermediate_model.predict(data)\n",
    "\n",
    "        attention_weights = np.squeeze(np.swapaxes(intermediate_predictions, 1, 0))\n",
    "        models_attention_weights.append(attention_weights)\n",
    "\n",
    "        loss, accuracy = model.evaluate(data, labels, verbose=0)\n",
    "        models_losses.append(loss)\n",
    "        models_accuracies.append(accuracy)\n",
    "\n",
    "    print(\n",
    "        f\"The average loss and accuracy are {np.sum(models_losses, axis=0) / ENSEMBLE_AVG_COUNT:.2f}\"\n",
    "        f\" and {100 * np.sum(models_accuracies, axis=0) / ENSEMBLE_AVG_COUNT:.2f} % resp.\"\n",
    "    )\n",
    "\n",
    "    return (\n",
    "        np.sum(models_predictions, axis=0) / ENSEMBLE_AVG_COUNT,\n",
    "        np.sum(models_attention_weights, axis=0) / ENSEMBLE_AVG_COUNT,\n",
    "    )\n",
    "\n",
    "\n",
    "# Evaluate and predict classes and attention scores on validation data.\n",
    "class_predictions, attention_params = predict(val_data, val_labels, trained_models)\n",
    "\n",
    "# Plot some results from our validation data.\n",
    "plot(\n",
    "    val_data,\n",
    "    val_labels,\n",
    "    \"positive\",\n",
    "    predictions=class_predictions,\n",
    "    attention_weights=attention_params,\n",
    ")\n",
    "plot(\n",
    "    val_data,\n",
    "    val_labels,\n",
    "    \"negative\",\n",
    "    predictions=class_predictions,\n",
    "    attention_weights=attention_params,\n",
    ")"
   ]
  },
  {
   "cell_type": "code",
   "execution_count": null,
   "id": "f8b7e50b",
   "metadata": {},
   "outputs": [],
   "source": []
  }
 ],
 "metadata": {
  "kernelspec": {
   "display_name": "Python 3 (ipykernel)",
   "language": "python",
   "name": "python3"
  },
  "language_info": {
   "codemirror_mode": {
    "name": "ipython",
    "version": 3
   },
   "file_extension": ".py",
   "mimetype": "text/x-python",
   "name": "python",
   "nbconvert_exporter": "python",
   "pygments_lexer": "ipython3",
   "version": "3.9.0"
  },
  "toc": {
   "base_numbering": 1,
   "nav_menu": {},
   "number_sections": true,
   "sideBar": true,
   "skip_h1_title": false,
   "title_cell": "Table of Contents",
   "title_sidebar": "Contents",
   "toc_cell": false,
   "toc_position": {},
   "toc_section_display": true,
   "toc_window_display": false
  }
 },
 "nbformat": 4,
 "nbformat_minor": 5
}
