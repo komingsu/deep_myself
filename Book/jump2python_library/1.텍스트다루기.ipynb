{
 "cells": [
  {
   "cell_type": "markdown",
   "id": "5139890d",
   "metadata": {},
   "source": [
    "# 문자열 줄이기 textwrap.shorten"
   ]
  },
  {
   "cell_type": "code",
   "execution_count": 4,
   "id": "aee09828",
   "metadata": {
    "ExecuteTime": {
     "end_time": "2023-01-27T04:10:55.629531Z",
     "start_time": "2023-01-27T04:10:55.607194Z"
    }
   },
   "outputs": [],
   "source": [
    "text = \"Life is too short, you need python\"\n",
    "k_text = \"인생은 짧으니 파이썬이 필요해\""
   ]
  },
  {
   "cell_type": "code",
   "execution_count": 2,
   "id": "abf60390",
   "metadata": {
    "ExecuteTime": {
     "end_time": "2023-01-27T04:10:23.279639Z",
     "start_time": "2023-01-27T04:10:23.257687Z"
    }
   },
   "outputs": [
    {
     "data": {
      "text/plain": [
       "'Life is [...]'"
      ]
     },
     "execution_count": 2,
     "metadata": {},
     "output_type": "execute_result"
    }
   ],
   "source": [
    "import textwrap\n",
    "textwrap.shorten(text, width=15)"
   ]
  },
  {
   "cell_type": "code",
   "execution_count": 6,
   "id": "269e9028",
   "metadata": {
    "ExecuteTime": {
     "end_time": "2023-01-27T04:11:15.676306Z",
     "start_time": "2023-01-27T04:11:15.653992Z"
    }
   },
   "outputs": [
    {
     "data": {
      "text/plain": [
       "'인생은 짧으니 [...]'"
      ]
     },
     "execution_count": 6,
     "metadata": {},
     "output_type": "execute_result"
    }
   ],
   "source": [
    "textwrap.shorten(k_text, width=15)"
   ]
  },
  {
   "cell_type": "code",
   "execution_count": 7,
   "id": "ab10319a",
   "metadata": {
    "ExecuteTime": {
     "end_time": "2023-01-27T04:11:49.651348Z",
     "start_time": "2023-01-27T04:11:49.638187Z"
    }
   },
   "outputs": [
    {
     "data": {
      "text/plain": [
       "'Life is too...'"
      ]
     },
     "execution_count": 7,
     "metadata": {},
     "output_type": "execute_result"
    }
   ],
   "source": [
    "textwrap.shorten(text, width=15, placeholder=\"...\")"
   ]
  },
  {
   "cell_type": "markdown",
   "id": "5c8e5df3",
   "metadata": {},
   "source": [
    "# 자동 줄 바꿈 textwarp.wrap"
   ]
  },
  {
   "cell_type": "code",
   "execution_count": 9,
   "id": "0a43b9e5",
   "metadata": {
    "ExecuteTime": {
     "end_time": "2023-01-27T04:12:42.569580Z",
     "start_time": "2023-01-27T04:12:42.551374Z"
    }
   },
   "outputs": [
    {
     "data": {
      "text/plain": [
       "'Life is too short, you need pythonLife is too short, you need pythonLife is too short, you need pythonLife is too short, you need pythonLife is too short, you need pythonLife is too short, you need pythonLife is too short, you need pythonLife is too short, you need pythonLife is too short, you need pythonLife is too short, you need python'"
      ]
     },
     "execution_count": 9,
     "metadata": {},
     "output_type": "execute_result"
    }
   ],
   "source": [
    "long_text = 10*text\n",
    "long_text"
   ]
  },
  {
   "cell_type": "markdown",
   "id": "f1124e9b",
   "metadata": {},
   "source": [
    "줄 바꾼뒤 list로 담아서 return"
   ]
  },
  {
   "cell_type": "code",
   "execution_count": 19,
   "id": "49250138",
   "metadata": {
    "ExecuteTime": {
     "end_time": "2023-01-27T04:17:29.057720Z",
     "start_time": "2023-01-27T04:17:29.048646Z"
    }
   },
   "outputs": [
    {
     "name": "stdout",
     "output_type": "stream",
     "text": [
      "['Life is too short, you need pythonLife is too short, you need', 'pythonLife is too short, you need pythonLife is too short, you need', 'pythonLife is too short, you need pythonLife is too short, you need', 'pythonLife is too short, you need pythonLife is too short, you need', 'pythonLife is too short, you need pythonLife is too short, you need', 'python']\n"
     ]
    }
   ],
   "source": [
    "result = textwrap.wrap(long_text, width=70)\n",
    "print(result)"
   ]
  },
  {
   "cell_type": "markdown",
   "id": "c6013495",
   "metadata": {},
   "source": [
    "합쳐서 줄력할 때"
   ]
  },
  {
   "cell_type": "code",
   "execution_count": 21,
   "id": "004041de",
   "metadata": {
    "ExecuteTime": {
     "end_time": "2023-01-27T04:17:41.791935Z",
     "start_time": "2023-01-27T04:17:41.778113Z"
    }
   },
   "outputs": [
    {
     "name": "stdout",
     "output_type": "stream",
     "text": [
      "Life is too short, you need pythonLife is too short, you need\n",
      "pythonLife is too short, you need pythonLife is too short, you need\n",
      "pythonLife is too short, you need pythonLife is too short, you need\n",
      "pythonLife is too short, you need pythonLife is too short, you need\n",
      "pythonLife is too short, you need pythonLife is too short, you need\n",
      "python\n"
     ]
    }
   ],
   "source": [
    "print(\"\\n\".join(result))"
   ]
  },
  {
   "cell_type": "code",
   "execution_count": 22,
   "id": "582b7ddf",
   "metadata": {
    "ExecuteTime": {
     "end_time": "2023-01-27T04:17:44.198566Z",
     "start_time": "2023-01-27T04:17:44.182570Z"
    }
   },
   "outputs": [
    {
     "name": "stdout",
     "output_type": "stream",
     "text": [
      "Life is too short, you need pythonLife is too short, you need\n",
      "pythonLife is too short, you need pythonLife is too short, you need\n",
      "pythonLife is too short, you need pythonLife is too short, you need\n",
      "pythonLife is too short, you need pythonLife is too short, you need\n",
      "pythonLife is too short, you need pythonLife is too short, you need\n",
      "python\n"
     ]
    }
   ],
   "source": [
    "result = textwrap.fill(long_text, width=70)\n",
    "print(result)"
   ]
  },
  {
   "cell_type": "code",
   "execution_count": null,
   "id": "a0acb344",
   "metadata": {},
   "outputs": [],
   "source": []
  }
 ],
 "metadata": {
  "kernelspec": {
   "display_name": "Python 3 (ipykernel)",
   "language": "python",
   "name": "python3"
  },
  "language_info": {
   "codemirror_mode": {
    "name": "ipython",
    "version": 3
   },
   "file_extension": ".py",
   "mimetype": "text/x-python",
   "name": "python",
   "nbconvert_exporter": "python",
   "pygments_lexer": "ipython3",
   "version": "3.9.0"
  },
  "toc": {
   "base_numbering": 1,
   "nav_menu": {},
   "number_sections": true,
   "sideBar": true,
   "skip_h1_title": false,
   "title_cell": "Table of Contents",
   "title_sidebar": "Contents",
   "toc_cell": false,
   "toc_position": {},
   "toc_section_display": true,
   "toc_window_display": false
  }
 },
 "nbformat": 4,
 "nbformat_minor": 5
}
