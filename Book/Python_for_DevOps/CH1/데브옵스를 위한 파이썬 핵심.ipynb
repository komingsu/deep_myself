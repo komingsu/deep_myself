{
 "cells": [
  {
   "cell_type": "markdown",
   "id": "919b3a0e",
   "metadata": {},
   "source": [
    "# 정규 표현식"
   ]
  },
  {
   "cell_type": "code",
   "execution_count": 1,
   "id": "d5ce4ddd",
   "metadata": {
    "ExecuteTime": {
     "end_time": "2023-01-11T03:11:00.841818Z",
     "start_time": "2023-01-11T03:11:00.827809Z"
    }
   },
   "outputs": [],
   "source": [
    "cc_list = \"\"\"\n",
    "Ezra koenig <ekoenig@vpwk.com>,\n",
    "Rostam Batmanglij <rostam@vpwk.com>,\n",
    "Chris Tomson <ctomson@vpwk.com>,\n",
    "Bobbi Baio <bbaio@vpwk.com>\n",
    "\"\"\""
   ]
  },
  {
   "cell_type": "code",
   "execution_count": 2,
   "id": "b6a6bdae",
   "metadata": {
    "ExecuteTime": {
     "end_time": "2023-01-11T03:11:03.091899Z",
     "start_time": "2023-01-11T03:11:03.080901Z"
    }
   },
   "outputs": [
    {
     "data": {
      "text/plain": [
       "'\\nEzra koenig <ekoenig@vpwk.com>,\\nRostam Batmanglij <rostam@vpwk.com>,\\nChris Tomson <ctomson@vpwk.com>,\\nBobbi Baio <bbaio@vpwk.com>\\n'"
      ]
     },
     "execution_count": 2,
     "metadata": {},
     "output_type": "execute_result"
    }
   ],
   "source": [
    "cc_list"
   ]
  },
  {
   "cell_type": "markdown",
   "id": "568726a6",
   "metadata": {
    "ExecuteTime": {
     "end_time": "2023-01-11T03:13:09.262281Z",
     "start_time": "2023-01-11T03:13:09.254280Z"
    }
   },
   "source": [
    "## 검색"
   ]
  },
  {
   "cell_type": "markdown",
   "id": "ce526ff9",
   "metadata": {},
   "source": [
    "특정 이름이 있는지 없는지 체크"
   ]
  },
  {
   "cell_type": "code",
   "execution_count": 3,
   "id": "70c0c15b",
   "metadata": {
    "ExecuteTime": {
     "end_time": "2023-01-11T03:11:18.734947Z",
     "start_time": "2023-01-11T03:11:18.727946Z"
    }
   },
   "outputs": [
    {
     "data": {
      "text/plain": [
       "True"
      ]
     },
     "execution_count": 3,
     "metadata": {},
     "output_type": "execute_result"
    }
   ],
   "source": [
    "\"Rostam\" in cc_list"
   ]
  },
  {
   "cell_type": "code",
   "execution_count": 5,
   "id": "5f9c822d",
   "metadata": {
    "ExecuteTime": {
     "end_time": "2023-01-11T03:12:05.916483Z",
     "start_time": "2023-01-11T03:12:05.897460Z"
    }
   },
   "outputs": [
    {
     "data": {
      "text/plain": [
       "<re.Match object; span=(33, 39), match='Rostam'>"
      ]
     },
     "execution_count": 5,
     "metadata": {},
     "output_type": "execute_result"
    }
   ],
   "source": [
    "import re\n",
    "\n",
    "re.search(r'Rostam', cc_list)"
   ]
  },
  {
   "cell_type": "code",
   "execution_count": 6,
   "id": "741003c9",
   "metadata": {
    "ExecuteTime": {
     "end_time": "2023-01-11T03:12:41.783994Z",
     "start_time": "2023-01-11T03:12:41.769993Z"
    }
   },
   "outputs": [
    {
     "name": "stdout",
     "output_type": "stream",
     "text": [
      "I find it!\n"
     ]
    }
   ],
   "source": [
    "if re.search(r'Rostam', cc_list):\n",
    "    print(\"I find it!\")"
   ]
  },
  {
   "cell_type": "markdown",
   "id": "e5e9a2de",
   "metadata": {},
   "source": [
    "## 캐릭터 세트"
   ]
  },
  {
   "cell_type": "code",
   "execution_count": 8,
   "id": "94ede120",
   "metadata": {
    "ExecuteTime": {
     "end_time": "2023-01-11T03:14:04.952333Z",
     "start_time": "2023-01-11T03:14:04.943347Z"
    }
   },
   "outputs": [
    {
     "data": {
      "text/plain": [
       "<re.Match object; span=(103, 108), match='Bobbi'>"
      ]
     },
     "execution_count": 8,
     "metadata": {},
     "output_type": "execute_result"
    }
   ],
   "source": [
    "re.search(r'[RB]obb[i,y]', cc_list)"
   ]
  },
  {
   "cell_type": "code",
   "execution_count": null,
   "id": "2f54f456",
   "metadata": {},
   "outputs": [],
   "source": []
  },
  {
   "cell_type": "markdown",
   "id": "a2fe45a6",
   "metadata": {},
   "source": [
    "a-z, A-Za-z, A-Za-z0-9"
   ]
  },
  {
   "cell_type": "code",
   "execution_count": 9,
   "id": "73eee809",
   "metadata": {
    "ExecuteTime": {
     "end_time": "2023-01-11T03:14:38.854721Z",
     "start_time": "2023-01-11T03:14:38.846737Z"
    }
   },
   "outputs": [
    {
     "data": {
      "text/plain": [
       "<re.Match object; span=(70, 75), match='Chris'>"
      ]
     },
     "execution_count": 9,
     "metadata": {},
     "output_type": "execute_result"
    }
   ],
   "source": [
    "re.search(r'Chr[a-z][a-z]', cc_list)"
   ]
  },
  {
   "cell_type": "markdown",
   "id": "4dbe3fb4",
   "metadata": {},
   "source": [
    "\\+ 는 1번 이상 나타나는 것"
   ]
  },
  {
   "cell_type": "code",
   "execution_count": 10,
   "id": "b8826712",
   "metadata": {
    "ExecuteTime": {
     "end_time": "2023-01-11T03:15:35.246029Z",
     "start_time": "2023-01-11T03:15:35.241049Z"
    }
   },
   "outputs": [
    {
     "data": {
      "text/plain": [
       "<re.Match object; span=(1, 5), match='Ezra'>"
      ]
     },
     "execution_count": 10,
     "metadata": {},
     "output_type": "execute_result"
    }
   ],
   "source": [
    "re.search(r\"[A-Za-z]+\", cc_list)"
   ]
  },
  {
   "cell_type": "markdown",
   "id": "4355f750",
   "metadata": {},
   "source": [
    "{ } 는 정확한 개수를 입력할 때"
   ]
  },
  {
   "cell_type": "code",
   "execution_count": 11,
   "id": "1b1c897c",
   "metadata": {
    "ExecuteTime": {
     "end_time": "2023-01-11T03:16:32.604553Z",
     "start_time": "2023-01-11T03:16:32.591569Z"
    }
   },
   "outputs": [
    {
     "data": {
      "text/plain": [
       "<re.Match object; span=(6, 12), match='koenig'>"
      ]
     },
     "execution_count": 11,
     "metadata": {},
     "output_type": "execute_result"
    }
   ],
   "source": [
    "re.search(r\"[A-Za-z]{6}\", cc_list)"
   ]
  },
  {
   "cell_type": "markdown",
   "id": "1f815163",
   "metadata": {
    "ExecuteTime": {
     "end_time": "2023-01-11T03:17:13.180334Z",
     "start_time": "2023-01-11T03:17:13.172348Z"
    }
   },
   "source": [
    "와일드카드 문자를 사용할땐 이스케이프 문자(\\\\)를 사용해야한다"
   ]
  },
  {
   "cell_type": "code",
   "execution_count": 14,
   "id": "a6193027",
   "metadata": {
    "ExecuteTime": {
     "end_time": "2023-01-11T03:18:18.193063Z",
     "start_time": "2023-01-11T03:18:18.178050Z"
    }
   },
   "outputs": [
    {
     "data": {
      "text/plain": [
       "<re.Match object; span=(14, 30), match='ekoenig@vpwk.com'>"
      ]
     },
     "execution_count": 14,
     "metadata": {},
     "output_type": "execute_result"
    }
   ],
   "source": [
    "re.search(r\"[A-Za-z]+@[a-z]+\\.[a-z]+\", cc_list) "
   ]
  },
  {
   "cell_type": "markdown",
   "id": "82b9e67a",
   "metadata": {},
   "source": [
    "## 케릭터 클래스"
   ]
  },
  {
   "cell_type": "markdown",
   "id": "c0f84b13",
   "metadata": {},
   "source": [
    "\\\\w 는 [a-zA-Z0-9_] 를 의미하고 \\\\d 는 [0-9]를 의미한다"
   ]
  },
  {
   "cell_type": "code",
   "execution_count": 15,
   "id": "b5e72050",
   "metadata": {
    "ExecuteTime": {
     "end_time": "2023-01-11T03:19:52.384979Z",
     "start_time": "2023-01-11T03:19:52.371988Z"
    }
   },
   "outputs": [
    {
     "data": {
      "text/plain": [
       "<re.Match object; span=(1, 5), match='Ezra'>"
      ]
     },
     "execution_count": 15,
     "metadata": {},
     "output_type": "execute_result"
    }
   ],
   "source": [
    "re.search(r\"\\w+\", cc_list)"
   ]
  },
  {
   "cell_type": "code",
   "execution_count": 17,
   "id": "95e84a69",
   "metadata": {
    "ExecuteTime": {
     "end_time": "2023-01-11T03:20:42.630336Z",
     "start_time": "2023-01-11T03:20:42.617219Z"
    }
   },
   "outputs": [
    {
     "data": {
      "text/plain": [
       "<re.Match object; span=(14, 30), match='ekoenig@vpwk.com'>"
      ]
     },
     "execution_count": 17,
     "metadata": {},
     "output_type": "execute_result"
    }
   ],
   "source": [
    "re.search(r\"\\w+@\\w+\\.\\w+\", cc_list)"
   ]
  },
  {
   "cell_type": "markdown",
   "id": "e6827aa5",
   "metadata": {
    "ExecuteTime": {
     "end_time": "2023-01-11T03:21:06.444649Z",
     "start_time": "2023-01-11T03:21:06.432599Z"
    }
   },
   "source": [
    "## 그룹"
   ]
  },
  {
   "cell_type": "markdown",
   "id": "a2c04963",
   "metadata": {},
   "source": [
    "괄호를 사용해 일치한 대상을 그룹(group)을 정의할 수 있다.\n",
    "- 여기서 0은 전체를 의미하고 그 뒤는 각각의 그룹을 의미한다."
   ]
  },
  {
   "cell_type": "code",
   "execution_count": 19,
   "id": "edd2e23d",
   "metadata": {
    "ExecuteTime": {
     "end_time": "2023-01-11T03:22:33.235075Z",
     "start_time": "2023-01-11T03:22:33.216696Z"
    }
   },
   "outputs": [
    {
     "data": {
      "text/plain": [
       "<re.Match object; span=(14, 30), match='ekoenig@vpwk.com'>"
      ]
     },
     "execution_count": 19,
     "metadata": {},
     "output_type": "execute_result"
    }
   ],
   "source": [
    "re.search(r\"(\\w+)@(\\w+)\\.(\\w+)\", cc_list)"
   ]
  },
  {
   "cell_type": "code",
   "execution_count": 23,
   "id": "babd1750",
   "metadata": {
    "ExecuteTime": {
     "end_time": "2023-01-11T03:23:32.270317Z",
     "start_time": "2023-01-11T03:23:32.257320Z"
    }
   },
   "outputs": [
    {
     "data": {
      "text/plain": [
       "('ekoenig@vpwk.com', 'ekoenig', 'vpwk', 'com')"
      ]
     },
     "execution_count": 23,
     "metadata": {},
     "output_type": "execute_result"
    }
   ],
   "source": [
    "matched = re.search(r\"(\\w+)@(\\w+)\\.(\\w+)\", cc_list)\n",
    "matched.group(0), matched.group(1), matched.group(2), matched.group(3)"
   ]
  },
  {
   "cell_type": "markdown",
   "id": "f3fb4660",
   "metadata": {},
   "source": [
    "## 네임드 그룹"
   ]
  },
  {
   "cell_type": "markdown",
   "id": "471c7bf4",
   "metadata": {
    "ExecuteTime": {
     "end_time": "2023-01-11T03:24:25.940771Z",
     "start_time": "2023-01-11T03:24:25.922550Z"
    }
   },
   "source": [
    "정의한 그룹에 ?p\\<NAME>을 추가해 해당 그룹에 이름을 부여할 수 있다. 이 이후부터는 번호 대신 이름을 통해 접근이 가능하다."
   ]
  },
  {
   "cell_type": "code",
   "execution_count": 31,
   "id": "2de7cf49",
   "metadata": {
    "ExecuteTime": {
     "end_time": "2023-01-11T03:26:33.512407Z",
     "start_time": "2023-01-11T03:26:33.505376Z"
    }
   },
   "outputs": [
    {
     "name": "stdout",
     "output_type": "stream",
     "text": [
      "ekoenig vpwk com\n",
      "ekoenig@vpwk.com ekoenig vpwk com\n"
     ]
    }
   ],
   "source": [
    "matched = re.search(r\"(?P<name>\\w+)@(?P<SLD>\\w+)\\.(?P<TLD>\\w+)\", cc_list)\n",
    "\n",
    "print(matched.group(\"name\"), matched.group(\"SLD\"), matched.group(\"TLD\"))\n",
    "print(matched.group(0), matched.group(1), matched.group(2), matched.group(3))"
   ]
  },
  {
   "cell_type": "markdown",
   "id": "2f73f802",
   "metadata": {},
   "source": [
    "## 모두찾기"
   ]
  },
  {
   "cell_type": "code",
   "execution_count": 33,
   "id": "e6f515cd",
   "metadata": {
    "ExecuteTime": {
     "end_time": "2023-01-11T03:27:36.578803Z",
     "start_time": "2023-01-11T03:27:36.567459Z"
    }
   },
   "outputs": [
    {
     "data": {
      "text/plain": [
       "['ekoenig@vpwk.com', 'rostam@vpwk.com', 'ctomson@vpwk.com', 'bbaio@vpwk.com']"
      ]
     },
     "execution_count": 33,
     "metadata": {},
     "output_type": "execute_result"
    }
   ],
   "source": [
    "matched = re.findall(r\"\\w+@\\w+\\.\\w+\", cc_list)\n",
    "matched"
   ]
  },
  {
   "cell_type": "code",
   "execution_count": 34,
   "id": "8b634111",
   "metadata": {
    "ExecuteTime": {
     "end_time": "2023-01-11T03:28:02.509439Z",
     "start_time": "2023-01-11T03:28:02.488889Z"
    }
   },
   "outputs": [
    {
     "data": {
      "text/plain": [
       "[('ekoenig', 'vpwk', 'com'),\n",
       " ('rostam', 'vpwk', 'com'),\n",
       " ('ctomson', 'vpwk', 'com'),\n",
       " ('bbaio', 'vpwk', 'com')]"
      ]
     },
     "execution_count": 34,
     "metadata": {},
     "output_type": "execute_result"
    }
   ],
   "source": [
    "matched = re.findall(r\"(\\w+)@(\\w+)\\.(\\w+)\", cc_list)\n",
    "matched"
   ]
  },
  {
   "cell_type": "code",
   "execution_count": 36,
   "id": "df47567a",
   "metadata": {
    "ExecuteTime": {
     "end_time": "2023-01-11T03:28:53.009546Z",
     "start_time": "2023-01-11T03:28:52.997125Z"
    }
   },
   "outputs": [
    {
     "data": {
      "text/plain": [
       "['ekoenig', 'rostam', 'ctomson', 'bbaio']"
      ]
     },
     "execution_count": 36,
     "metadata": {},
     "output_type": "execute_result"
    }
   ],
   "source": [
    "name = [i[0] for i in matched]\n",
    "name"
   ]
  },
  {
   "cell_type": "markdown",
   "id": "4d175fbb",
   "metadata": {},
   "source": [
    "## 찾기 반복자"
   ]
  },
  {
   "cell_type": "code",
   "execution_count": 37,
   "id": "ef5448d2",
   "metadata": {
    "ExecuteTime": {
     "end_time": "2023-01-11T03:29:46.075320Z",
     "start_time": "2023-01-11T03:29:46.064807Z"
    }
   },
   "outputs": [
    {
     "data": {
      "text/plain": [
       "<callable_iterator at 0x237a673a760>"
      ]
     },
     "execution_count": 37,
     "metadata": {},
     "output_type": "execute_result"
    }
   ],
   "source": [
    "matched = re.finditer(r\"\\w+@\\w+\\.\\w+\", cc_list)\n",
    "matched"
   ]
  },
  {
   "cell_type": "code",
   "execution_count": 38,
   "id": "f72ef96a",
   "metadata": {
    "ExecuteTime": {
     "end_time": "2023-01-11T03:29:54.684269Z",
     "start_time": "2023-01-11T03:29:54.675269Z"
    }
   },
   "outputs": [
    {
     "data": {
      "text/plain": [
       "<re.Match object; span=(14, 30), match='ekoenig@vpwk.com'>"
      ]
     },
     "execution_count": 38,
     "metadata": {},
     "output_type": "execute_result"
    }
   ],
   "source": [
    "next(matched)"
   ]
  },
  {
   "cell_type": "code",
   "execution_count": 41,
   "id": "0de8583b",
   "metadata": {
    "ExecuteTime": {
     "end_time": "2023-01-11T03:30:05.707243Z",
     "start_time": "2023-01-11T03:30:05.701233Z"
    }
   },
   "outputs": [
    {
     "data": {
      "text/plain": [
       "<re.Match object; span=(115, 129), match='bbaio@vpwk.com'>"
      ]
     },
     "execution_count": 41,
     "metadata": {},
     "output_type": "execute_result"
    }
   ],
   "source": [
    "next(matched)"
   ]
  },
  {
   "cell_type": "code",
   "execution_count": null,
   "id": "33bf6670",
   "metadata": {},
   "outputs": [],
   "source": []
  },
  {
   "cell_type": "code",
   "execution_count": 42,
   "id": "e413118f",
   "metadata": {
    "ExecuteTime": {
     "end_time": "2023-01-11T03:30:56.321425Z",
     "start_time": "2023-01-11T03:30:56.310449Z"
    }
   },
   "outputs": [],
   "source": [
    "matched = re.finditer(r\"(?P<name>\\w+)@(?P<SLD>\\w+)\\.(?P<TLD>\\w+)\", cc_list)"
   ]
  },
  {
   "cell_type": "code",
   "execution_count": 43,
   "id": "567a42eb",
   "metadata": {
    "ExecuteTime": {
     "end_time": "2023-01-11T03:31:08.349728Z",
     "start_time": "2023-01-11T03:31:08.336729Z"
    }
   },
   "outputs": [
    {
     "name": "stdout",
     "output_type": "stream",
     "text": [
      "{'name': 'ekoenig', 'SLD': 'vpwk', 'TLD': 'com'}\n",
      "{'name': 'rostam', 'SLD': 'vpwk', 'TLD': 'com'}\n",
      "{'name': 'ctomson', 'SLD': 'vpwk', 'TLD': 'com'}\n",
      "{'name': 'bbaio', 'SLD': 'vpwk', 'TLD': 'com'}\n"
     ]
    }
   ],
   "source": [
    "for m in matched:\n",
    "    print(m.groupdict())"
   ]
  },
  {
   "cell_type": "markdown",
   "id": "02370ed4",
   "metadata": {},
   "source": [
    "## 치환"
   ]
  },
  {
   "cell_type": "markdown",
   "id": "40aed763",
   "metadata": {},
   "source": [
    "문자열의 일부 또는 전체를 치환"
   ]
  },
  {
   "cell_type": "code",
   "execution_count": 44,
   "id": "132c815a",
   "metadata": {
    "ExecuteTime": {
     "end_time": "2023-01-11T03:32:08.777125Z",
     "start_time": "2023-01-11T03:32:08.757086Z"
    }
   },
   "outputs": [
    {
     "data": {
      "text/plain": [
       "'The passcode you enter was #####'"
      ]
     },
     "execution_count": 44,
     "metadata": {},
     "output_type": "execute_result"
    }
   ],
   "source": [
    "re.sub(\"\\d\",\"#\", \"The passcode you enter was 09876\")"
   ]
  },
  {
   "cell_type": "code",
   "execution_count": 47,
   "id": "e2813edd",
   "metadata": {
    "ExecuteTime": {
     "end_time": "2023-01-11T03:34:11.591467Z",
     "start_time": "2023-01-11T03:34:11.581352Z"
    }
   },
   "outputs": [
    {
     "name": "stdout",
     "output_type": "stream",
     "text": [
      "\n",
      "Ezra koenig <com.vpwk.ekoenig>,\n",
      "Rostam Batmanglij <com.vpwk.rostam>,\n",
      "Chris Tomson <com.vpwk.ctomson>,\n",
      "Bobbi Baio <com.vpwk.bbaio>\n",
      "\n"
     ]
    }
   ],
   "source": [
    "user = re.sub(\"(?P<name>\\w+)@(?P<SLD>\\w+)\\.(?P<TLD>\\w+)\", \"\\g<TLD>.\\g<SLD>.\\g<name>\", cc_list)\n",
    "print(user)"
   ]
  },
  {
   "cell_type": "markdown",
   "id": "96c8d7e1",
   "metadata": {},
   "source": [
    "## 컴파일링\n",
    "정규표현용 함수"
   ]
  },
  {
   "cell_type": "code",
   "execution_count": 51,
   "id": "c4fe5c09",
   "metadata": {
    "ExecuteTime": {
     "end_time": "2023-01-11T03:36:34.981349Z",
     "start_time": "2023-01-11T03:36:34.962800Z"
    }
   },
   "outputs": [],
   "source": [
    "regex = re.compile(r\"\\w+@\\w+\\.\\w+\")"
   ]
  },
  {
   "cell_type": "code",
   "execution_count": 53,
   "id": "882e8797",
   "metadata": {
    "ExecuteTime": {
     "end_time": "2023-01-11T03:36:46.868874Z",
     "start_time": "2023-01-11T03:36:46.854825Z"
    }
   },
   "outputs": [
    {
     "data": {
      "text/plain": [
       "['ekoenig@vpwk.com', 'rostam@vpwk.com', 'ctomson@vpwk.com', 'bbaio@vpwk.com']"
      ]
     },
     "execution_count": 53,
     "metadata": {},
     "output_type": "execute_result"
    }
   ],
   "source": [
    "regex.findall(cc_list)"
   ]
  },
  {
   "cell_type": "markdown",
   "id": "d48de25f",
   "metadata": {},
   "source": [
    "---\n",
    "# 지연 평가(lazy evaluation)"
   ]
  },
  {
   "cell_type": "markdown",
   "id": "82d01d99",
   "metadata": {},
   "source": [
    "대량의 데이터를 다루는 상황에서 결과를 사용하기 전에 모든 데이터를 처리하지 않고자 하는 것"
   ]
  },
  {
   "cell_type": "markdown",
   "id": "ef9c830b",
   "metadata": {},
   "source": [
    "## 제너레이터"
   ]
  },
  {
   "cell_type": "markdown",
   "id": "89877b82",
   "metadata": {},
   "source": [
    "제너레이터 함수를 작성할때는 return 구문보다 yield 키워드를 사용한다.\n",
    "\n",
    "yield는 매번 제너레이터가 호출되면 yield에서 지정한 값을 반환하고 다음 호출이 있을 때 까지 자신의 상태를 정지한다."
   ]
  },
  {
   "cell_type": "code",
   "execution_count": 54,
   "id": "ca6fcecb",
   "metadata": {
    "ExecuteTime": {
     "end_time": "2023-01-11T03:39:39.124330Z",
     "start_time": "2023-01-11T03:39:39.120344Z"
    }
   },
   "outputs": [],
   "source": [
    "def count_num():\n",
    "    n=0\n",
    "    while True:\n",
    "        n +=1\n",
    "        yield n"
   ]
  },
  {
   "cell_type": "code",
   "execution_count": 60,
   "id": "7559bdbc",
   "metadata": {
    "ExecuteTime": {
     "end_time": "2023-01-11T03:40:25.669028Z",
     "start_time": "2023-01-11T03:40:25.658847Z"
    }
   },
   "outputs": [
    {
     "data": {
      "text/plain": [
       "<generator object count_num at 0x00000237A867A430>"
      ]
     },
     "execution_count": 60,
     "metadata": {},
     "output_type": "execute_result"
    }
   ],
   "source": [
    "counter = count_num()\n",
    "counter"
   ]
  },
  {
   "cell_type": "code",
   "execution_count": 61,
   "id": "99de0f34",
   "metadata": {
    "ExecuteTime": {
     "end_time": "2023-01-11T03:40:26.312329Z",
     "start_time": "2023-01-11T03:40:26.299836Z"
    }
   },
   "outputs": [
    {
     "data": {
      "text/plain": [
       "(1, 2, 3, 4)"
      ]
     },
     "execution_count": 61,
     "metadata": {},
     "output_type": "execute_result"
    }
   ],
   "source": [
    "next(counter), next(counter), next(counter), next(counter)"
   ]
  },
  {
   "cell_type": "code",
   "execution_count": 63,
   "id": "6e458890",
   "metadata": {
    "ExecuteTime": {
     "end_time": "2023-01-11T03:41:28.389634Z",
     "start_time": "2023-01-11T03:41:28.384636Z"
    }
   },
   "outputs": [],
   "source": [
    "def fib():\n",
    "    first = 0\n",
    "    last = 1\n",
    "    while True:\n",
    "        first, last = last, first + last\n",
    "        yield first"
   ]
  },
  {
   "cell_type": "code",
   "execution_count": 64,
   "id": "3cf69521",
   "metadata": {
    "ExecuteTime": {
     "end_time": "2023-01-11T03:41:35.949947Z",
     "start_time": "2023-01-11T03:41:35.941961Z"
    }
   },
   "outputs": [
    {
     "data": {
      "text/plain": [
       "<generator object fib at 0x00000237A86FB190>"
      ]
     },
     "execution_count": 64,
     "metadata": {},
     "output_type": "execute_result"
    }
   ],
   "source": [
    "f = fib()\n",
    "f"
   ]
  },
  {
   "cell_type": "code",
   "execution_count": 65,
   "id": "7ceef5bf",
   "metadata": {
    "ExecuteTime": {
     "end_time": "2023-01-11T03:41:50.650086Z",
     "start_time": "2023-01-11T03:41:50.635089Z"
    }
   },
   "outputs": [
    {
     "data": {
      "text/plain": [
       "(1, 1, 2, 3, 5, 8, 13, 21)"
      ]
     },
     "execution_count": 65,
     "metadata": {},
     "output_type": "execute_result"
    }
   ],
   "source": [
    "next(f),next(f),next(f),next(f),next(f),next(f),next(f),next(f)"
   ]
  },
  {
   "cell_type": "markdown",
   "id": "1113d61c",
   "metadata": {},
   "source": [
    "for 문을 통한 반복"
   ]
  },
  {
   "cell_type": "code",
   "execution_count": 67,
   "id": "850935f9",
   "metadata": {
    "ExecuteTime": {
     "end_time": "2023-01-11T03:42:35.320416Z",
     "start_time": "2023-01-11T03:42:35.310375Z"
    }
   },
   "outputs": [
    {
     "name": "stdout",
     "output_type": "stream",
     "text": [
      "1\n",
      "1\n",
      "2\n",
      "3\n",
      "5\n",
      "8\n",
      "13\n",
      "21\n"
     ]
    }
   ],
   "source": [
    "f = fib()\n",
    "for x in f:\n",
    "    print(x)\n",
    "    if x > 13:\n",
    "        break"
   ]
  },
  {
   "cell_type": "markdown",
   "id": "b5512443",
   "metadata": {},
   "source": [
    "## 제너레이터 내포"
   ]
  },
  {
   "cell_type": "code",
   "execution_count": 74,
   "id": "b5829c5c",
   "metadata": {
    "ExecuteTime": {
     "end_time": "2023-01-11T03:44:36.034867Z",
     "start_time": "2023-01-11T03:44:36.019865Z"
    }
   },
   "outputs": [],
   "source": [
    "list_o_nums = [x for x in range(100)]\n",
    "gen_o_nums = (x for x in range(100))"
   ]
  },
  {
   "cell_type": "code",
   "execution_count": 70,
   "id": "f8d8c29a",
   "metadata": {
    "ExecuteTime": {
     "end_time": "2023-01-11T03:44:18.695603Z",
     "start_time": "2023-01-11T03:44:18.686603Z"
    }
   },
   "outputs": [
    {
     "name": "stdout",
     "output_type": "stream",
     "text": [
      "[0, 1, 2, 3, 4, 5, 6, 7, 8, 9, 10, 11, 12, 13, 14, 15, 16, 17, 18, 19, 20, 21, 22, 23, 24, 25, 26, 27, 28, 29, 30, 31, 32, 33, 34, 35, 36, 37, 38, 39, 40, 41, 42, 43, 44, 45, 46, 47, 48, 49, 50, 51, 52, 53, 54, 55, 56, 57, 58, 59, 60, 61, 62, 63, 64, 65, 66, 67, 68, 69, 70, 71, 72, 73, 74, 75, 76, 77, 78, 79, 80, 81, 82, 83, 84, 85, 86, 87, 88, 89, 90, 91, 92, 93, 94, 95, 96, 97, 98, 99]\n"
     ]
    }
   ],
   "source": [
    "print(list_o_nums)"
   ]
  },
  {
   "cell_type": "code",
   "execution_count": 73,
   "id": "60810d61",
   "metadata": {
    "ExecuteTime": {
     "end_time": "2023-01-11T03:44:34.226104Z",
     "start_time": "2023-01-11T03:44:34.219068Z"
    }
   },
   "outputs": [
    {
     "data": {
      "text/plain": [
       "<generator object <genexpr> at 0x00000237A86FBDD0>"
      ]
     },
     "execution_count": 73,
     "metadata": {},
     "output_type": "execute_result"
    }
   ],
   "source": [
    "gen_o_nums"
   ]
  },
  {
   "cell_type": "code",
   "execution_count": 75,
   "id": "cecda62f",
   "metadata": {
    "ExecuteTime": {
     "end_time": "2023-01-11T03:45:06.705903Z",
     "start_time": "2023-01-11T03:45:06.686904Z"
    }
   },
   "outputs": [
    {
     "data": {
      "text/plain": [
       "(904, 112)"
      ]
     },
     "execution_count": 75,
     "metadata": {},
     "output_type": "execute_result"
    }
   ],
   "source": [
    "import sys\n",
    "sys.getsizeof(list_o_nums), sys.getsizeof(gen_o_nums)"
   ]
  }
 ],
 "metadata": {
  "kernelspec": {
   "display_name": "Python 3 (ipykernel)",
   "language": "python",
   "name": "python3"
  },
  "language_info": {
   "codemirror_mode": {
    "name": "ipython",
    "version": 3
   },
   "file_extension": ".py",
   "mimetype": "text/x-python",
   "name": "python",
   "nbconvert_exporter": "python",
   "pygments_lexer": "ipython3",
   "version": "3.8.0"
  },
  "toc": {
   "base_numbering": 1,
   "nav_menu": {},
   "number_sections": true,
   "sideBar": true,
   "skip_h1_title": false,
   "title_cell": "Table of Contents",
   "title_sidebar": "Contents",
   "toc_cell": false,
   "toc_position": {},
   "toc_section_display": true,
   "toc_window_display": false
  }
 },
 "nbformat": 4,
 "nbformat_minor": 5
}
