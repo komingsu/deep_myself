{
 "cells": [
  {
   "cell_type": "markdown",
   "id": "cb34db74",
   "metadata": {},
   "source": [
    "# 준비"
   ]
  },
  {
   "cell_type": "markdown",
   "id": "0b8247dc",
   "metadata": {},
   "source": [
    "## 라이브러리"
   ]
  },
  {
   "cell_type": "code",
   "execution_count": 1,
   "id": "d06246b6",
   "metadata": {
    "ExecuteTime": {
     "end_time": "2023-01-28T11:27:15.760942Z",
     "start_time": "2023-01-28T11:27:13.396210Z"
    }
   },
   "outputs": [],
   "source": [
    "import numpy as np\n",
    "import matplotlib.pyplot as plt\n",
    "import torch\n",
    "import torch.nn as nn\n",
    "import torch.nn.functional as F\n",
    "from torchvision import transforms, datasets"
   ]
  },
  {
   "cell_type": "markdown",
   "id": "c0ab40fc",
   "metadata": {},
   "source": [
    "##  장비"
   ]
  },
  {
   "cell_type": "code",
   "execution_count": 2,
   "id": "5f88098b",
   "metadata": {
    "ExecuteTime": {
     "end_time": "2023-01-28T11:27:16.920157Z",
     "start_time": "2023-01-28T11:27:15.760942Z"
    }
   },
   "outputs": [
    {
     "data": {
      "text/plain": [
       "device(type='cuda')"
      ]
     },
     "execution_count": 2,
     "metadata": {},
     "output_type": "execute_result"
    }
   ],
   "source": [
    "if torch.cuda.is_available():\n",
    "    DEVICE = torch.device(\"cuda\")\n",
    "else:\n",
    "    DEVICE = torch.device(\"cpu\")\n",
    "DEVICE"
   ]
  },
  {
   "cell_type": "markdown",
   "id": "0675e226",
   "metadata": {},
   "source": [
    "## Config"
   ]
  },
  {
   "cell_type": "code",
   "execution_count": 3,
   "id": "0fad65ab",
   "metadata": {
    "ExecuteTime": {
     "end_time": "2023-01-28T11:27:16.936159Z",
     "start_time": "2023-01-28T11:27:16.922161Z"
    }
   },
   "outputs": [],
   "source": [
    "BATCH_SIZE = 32\n",
    "EPOCHS = 10"
   ]
  },
  {
   "cell_type": "markdown",
   "id": "7332483a",
   "metadata": {},
   "source": [
    "# 데이터"
   ]
  },
  {
   "cell_type": "markdown",
   "id": "5fac8f28",
   "metadata": {},
   "source": [
    "## 데이터셋"
   ]
  },
  {
   "cell_type": "code",
   "execution_count": 4,
   "id": "7c7bbac9",
   "metadata": {
    "ExecuteTime": {
     "end_time": "2023-01-28T11:27:19.259444Z",
     "start_time": "2023-01-28T11:27:19.224743Z"
    }
   },
   "outputs": [],
   "source": [
    "train_dataset = datasets.MNIST(root=\"../data/MNIST\",\n",
    "                              train=True,\n",
    "                              download=True,\n",
    "                              transform=transforms.ToTensor()) # tensor 형태로 변경, 0~1 범위로 정규화\n",
    "test_dataset = datasets.MNIST(root=\"../data/MNIST\",\n",
    "                              train=False,\n",
    "                              transform=transforms.ToTensor())"
   ]
  },
  {
   "cell_type": "markdown",
   "id": "c32292bf",
   "metadata": {},
   "source": [
    "## data_loader"
   ]
  },
  {
   "cell_type": "code",
   "execution_count": 5,
   "id": "8a06f73f",
   "metadata": {
    "ExecuteTime": {
     "end_time": "2023-01-28T11:27:21.346602Z",
     "start_time": "2023-01-28T11:27:21.327014Z"
    }
   },
   "outputs": [],
   "source": [
    "train_loader = torch.utils.data.DataLoader(dataset=train_dataset,\n",
    "                           batch_size=BATCH_SIZE,\n",
    "                           shuffle=True)\n",
    "test_loader = torch.utils.data.DataLoader(dataset=test_dataset,\n",
    "                           batch_size=BATCH_SIZE,\n",
    "                           shuffle=False)"
   ]
  },
  {
   "cell_type": "markdown",
   "id": "58c79f42",
   "metadata": {},
   "source": [
    "## 데이터"
   ]
  },
  {
   "cell_type": "code",
   "execution_count": 6,
   "id": "e3787984",
   "metadata": {
    "ExecuteTime": {
     "end_time": "2023-01-28T11:27:22.289952Z",
     "start_time": "2023-01-28T11:27:22.254783Z"
    }
   },
   "outputs": [
    {
     "name": "stdout",
     "output_type": "stream",
     "text": [
      "X_train: torch.Size([32, 1, 28, 28]) type:  torch.FloatTensor\n",
      "y_train: torch.Size([32]) type:  torch.LongTensor\n"
     ]
    }
   ],
   "source": [
    "for (X_train, y_train) in train_loader:\n",
    "    [_, _, H, W] = X_train.size()\n",
    "    print(\"X_train:\", X_train.size(), \"type: \", X_train.type())\n",
    "    print(\"y_train:\", y_train.size(), \"type: \", y_train.type())\n",
    "    break"
   ]
  },
  {
   "cell_type": "code",
   "execution_count": 7,
   "id": "1adcbdf0",
   "metadata": {
    "ExecuteTime": {
     "end_time": "2023-01-28T11:27:23.406200Z",
     "start_time": "2023-01-28T11:27:23.192976Z"
    }
   },
   "outputs": [
    {
     "data": {
      "image/png": "[encoded data removed]",
      "text/plain": [
       "<Figure size 720x72 with 10 Axes>"
      ]
     },
     "metadata": {
      "needs_background": "light"
     },
     "output_type": "display_data"
    }
   ],
   "source": [
    "pltsize= 1\n",
    "plt.figure(figsize=(10*pltsize, pltsize))\n",
    "for i in range(10):\n",
    "    plt.subplot(1, 10, i+1)\n",
    "    plt.axis(\"off\")\n",
    "    plt.imshow(X_train[i, : , :, :].numpy().reshape(28,28), cmap=\"gray_r\")\n",
    "    plt.title(f\"Class: {y_train[i].item()}\" )"
   ]
  },
  {
   "cell_type": "markdown",
   "id": "f53547cb",
   "metadata": {},
   "source": [
    "# 모델"
   ]
  },
  {
   "cell_type": "code",
   "execution_count": 11,
   "id": "7dc52f51",
   "metadata": {
    "ExecuteTime": {
     "end_time": "2023-01-28T11:36:02.062443Z",
     "start_time": "2023-01-28T11:36:02.045242Z"
    }
   },
   "outputs": [],
   "source": [
    "class Net(nn.Module):\n",
    "    def __init__(self):\n",
    "        super(Net, self).__init__()\n",
    "        self.fc1 = nn.Linear(H*W, 512)\n",
    "        self.fc2 = nn.Linear(512, 256)\n",
    "        self.fc3 = nn.Linear(256, 10)\n",
    "        \n",
    "    def forward(self, x):\n",
    "        x = x.view(-1, 28*28) # Flatten\n",
    "        x = self.fc1(x)\n",
    "        x = F.sigmoid(x)\n",
    "        x = self.fc2(x)\n",
    "        x = F.sigmoid(x)\n",
    "        x = self.fc3(x)\n",
    "        x = F.log_softmax(x, dim=1)\n",
    "        return x"
   ]
  },
  {
   "cell_type": "code",
   "execution_count": 12,
   "id": "589e56e8",
   "metadata": {
    "ExecuteTime": {
     "end_time": "2023-01-28T11:36:04.797387Z",
     "start_time": "2023-01-28T11:36:03.100881Z"
    }
   },
   "outputs": [
    {
     "name": "stdout",
     "output_type": "stream",
     "text": [
      "Net(\n",
      "  (fc1): Linear(in_features=784, out_features=512, bias=True)\n",
      "  (fc2): Linear(in_features=512, out_features=256, bias=True)\n",
      "  (fc3): Linear(in_features=256, out_features=10, bias=True)\n",
      ")\n"
     ]
    }
   ],
   "source": [
    "model = Net().to(DEVICE) # 모델 소환\n",
    "\n",
    "optimizer = torch.optim.SGD(model.parameters(), lr=0.01, momentum=0.5)\n",
    "criterion = nn.CrossEntropyLoss()\n",
    "\n",
    "print(model)"
   ]
  },
  {
   "cell_type": "markdown",
   "id": "64f4b8ff",
   "metadata": {},
   "source": [
    "# Train"
   ]
  },
  {
   "cell_type": "code",
   "execution_count": null,
   "id": "ade069bc",
   "metadata": {},
   "outputs": [],
   "source": [
    "def train(model, train_loader, optimizer, log_interval):\n",
    "    model.train()\n",
    "    for batch_idx, (image, label) in enumerate(train_loader):\n",
    "        image = image.to(DEVICE)\n",
    "        label = label.to(DEVICE)\n",
    "        optimizer.zero_grad()"
   ]
  }
 ],
 "metadata": {
  "kernelspec": {
   "display_name": "Python 3 (ipykernel)",
   "language": "python",
   "name": "python3"
  },
  "language_info": {
   "codemirror_mode": {
    "name": "ipython",
    "version": 3
   },
   "file_extension": ".py",
   "mimetype": "text/x-python",
   "name": "python",
   "nbconvert_exporter": "python",
   "pygments_lexer": "ipython3",
   "version": "3.8.13"
  },
  "toc": {
   "base_numbering": 1,
   "nav_menu": {},
   "number_sections": true,
   "sideBar": true,
   "skip_h1_title": false,
   "title_cell": "Table of Contents",
   "title_sidebar": "Contents",
   "toc_cell": false,
   "toc_position": {},
   "toc_section_display": true,
   "toc_window_display": false
  }
 },
 "nbformat": 4,
 "nbformat_minor": 5
}
