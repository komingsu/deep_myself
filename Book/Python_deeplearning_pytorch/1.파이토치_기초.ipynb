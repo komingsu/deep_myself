{
 "cells": [
  {
   "cell_type": "code",
   "execution_count": 1,
   "id": "f72941b2",
   "metadata": {
    "ExecuteTime": {
     "end_time": "2023-01-27T05:15:31.879857Z",
     "start_time": "2023-01-27T05:15:29.645528Z"
    }
   },
   "outputs": [],
   "source": [
    "import torch"
   ]
  },
  {
   "cell_type": "code",
   "execution_count": 2,
   "id": "54b9bee5",
   "metadata": {
    "ExecuteTime": {
     "end_time": "2023-01-27T05:39:20.552062Z",
     "start_time": "2023-01-27T05:39:20.537023Z"
    }
   },
   "outputs": [
    {
     "data": {
      "text/plain": [
       "'1.7.1+cu110'"
      ]
     },
     "execution_count": 2,
     "metadata": {},
     "output_type": "execute_result"
    }
   ],
   "source": [
    "torch.__version__"
   ]
  },
  {
   "cell_type": "markdown",
   "id": "148f8fc8",
   "metadata": {},
   "source": [
    "# scalar, vector, matrix, tensor"
   ]
  },
  {
   "cell_type": "markdown",
   "id": "50baa84b",
   "metadata": {},
   "source": [
    "## scalar"
   ]
  },
  {
   "cell_type": "code",
   "execution_count": 3,
   "id": "30c5c915",
   "metadata": {
    "ExecuteTime": {
     "end_time": "2023-01-27T05:41:15.747373Z",
     "start_time": "2023-01-27T05:41:15.697007Z"
    }
   },
   "outputs": [
    {
     "data": {
      "text/plain": [
       "tensor([1.])"
      ]
     },
     "execution_count": 3,
     "metadata": {},
     "output_type": "execute_result"
    }
   ],
   "source": [
    "scalar1 = torch.tensor([1.])\n",
    "scalar1"
   ]
  },
  {
   "cell_type": "code",
   "execution_count": 4,
   "id": "028755bc",
   "metadata": {
    "ExecuteTime": {
     "end_time": "2023-01-27T05:41:49.316836Z",
     "start_time": "2023-01-27T05:41:49.299284Z"
    }
   },
   "outputs": [
    {
     "name": "stdout",
     "output_type": "stream",
     "text": [
      "tensor([3.])\n"
     ]
    }
   ],
   "source": [
    "scalar2 = torch.tensor([3.])\n",
    "print(scalar2)"
   ]
  },
  {
   "cell_type": "code",
   "execution_count": 7,
   "id": "0c97dbee",
   "metadata": {
    "ExecuteTime": {
     "end_time": "2023-01-27T05:42:42.789693Z",
     "start_time": "2023-01-27T05:42:42.781693Z"
    }
   },
   "outputs": [
    {
     "data": {
      "text/plain": [
       "(tensor([4.]), tensor([4.]))"
      ]
     },
     "execution_count": 7,
     "metadata": {},
     "output_type": "execute_result"
    }
   ],
   "source": [
    "scalar1+scalar2, torch.add(scalar1, scalar2)"
   ]
  },
  {
   "cell_type": "code",
   "execution_count": 9,
   "id": "aa438176",
   "metadata": {
    "ExecuteTime": {
     "end_time": "2023-01-27T05:43:33.317233Z",
     "start_time": "2023-01-27T05:43:33.308248Z"
    }
   },
   "outputs": [
    {
     "data": {
      "text/plain": [
       "(tensor([-2.]), tensor([-2.]))"
      ]
     },
     "execution_count": 9,
     "metadata": {},
     "output_type": "execute_result"
    }
   ],
   "source": [
    "scalar1-scalar2, torch.sub(scalar1, scalar2)"
   ]
  },
  {
   "cell_type": "code",
   "execution_count": 8,
   "id": "319b2d1c",
   "metadata": {
    "ExecuteTime": {
     "end_time": "2023-01-27T05:43:03.933924Z",
     "start_time": "2023-01-27T05:43:03.919927Z"
    }
   },
   "outputs": [
    {
     "data": {
      "text/plain": [
       "(tensor([3.]), tensor([3.]))"
      ]
     },
     "execution_count": 8,
     "metadata": {},
     "output_type": "execute_result"
    }
   ],
   "source": [
    "scalar1*scalar2, torch.mul(scalar1, scalar2)"
   ]
  },
  {
   "cell_type": "code",
   "execution_count": 10,
   "id": "9f4c87fb",
   "metadata": {
    "ExecuteTime": {
     "end_time": "2023-01-27T05:43:52.050450Z",
     "start_time": "2023-01-27T05:43:52.029654Z"
    }
   },
   "outputs": [
    {
     "data": {
      "text/plain": [
       "(tensor([0.3333]), tensor([0.3333]))"
      ]
     },
     "execution_count": 10,
     "metadata": {},
     "output_type": "execute_result"
    }
   ],
   "source": [
    "scalar1/scalar2, torch.div(scalar1, scalar2)"
   ]
  },
  {
   "cell_type": "markdown",
   "id": "dc9e6f34",
   "metadata": {},
   "source": [
    "## Vector"
   ]
  },
  {
   "cell_type": "code",
   "execution_count": 11,
   "id": "b28b812f",
   "metadata": {
    "ExecuteTime": {
     "end_time": "2023-01-27T05:44:44.232201Z",
     "start_time": "2023-01-27T05:44:44.220158Z"
    }
   },
   "outputs": [],
   "source": [
    "vector1 = torch.tensor([1., 2., 3.])\n",
    "vector2 = torch.tensor([4., 5., 6.])"
   ]
  },
  {
   "cell_type": "code",
   "execution_count": 13,
   "id": "6dc2d957",
   "metadata": {
    "ExecuteTime": {
     "end_time": "2023-01-27T05:45:15.947649Z",
     "start_time": "2023-01-27T05:45:15.931580Z"
    }
   },
   "outputs": [
    {
     "data": {
      "text/plain": [
       "(tensor([5., 7., 9.]), tensor([5., 7., 9.]))"
      ]
     },
     "execution_count": 13,
     "metadata": {},
     "output_type": "execute_result"
    }
   ],
   "source": [
    "vector1+vector2, torch.add(vector1, vector2)"
   ]
  },
  {
   "cell_type": "code",
   "execution_count": 14,
   "id": "a1d1a30d",
   "metadata": {
    "ExecuteTime": {
     "end_time": "2023-01-27T05:45:24.984577Z",
     "start_time": "2023-01-27T05:45:24.978527Z"
    }
   },
   "outputs": [
    {
     "data": {
      "text/plain": [
       "(tensor([-3., -3., -3.]), tensor([-3., -3., -3.]))"
      ]
     },
     "execution_count": 14,
     "metadata": {},
     "output_type": "execute_result"
    }
   ],
   "source": [
    "vector1-vector2, torch.sub(vector1, vector2)"
   ]
  },
  {
   "cell_type": "code",
   "execution_count": 15,
   "id": "951bcadc",
   "metadata": {
    "ExecuteTime": {
     "end_time": "2023-01-27T05:45:34.886572Z",
     "start_time": "2023-01-27T05:45:34.880479Z"
    }
   },
   "outputs": [
    {
     "data": {
      "text/plain": [
       "(tensor([ 4., 10., 18.]), tensor([ 4., 10., 18.]))"
      ]
     },
     "execution_count": 15,
     "metadata": {},
     "output_type": "execute_result"
    }
   ],
   "source": [
    "vector1*vector2, torch.mul(vector1, vector2)"
   ]
  },
  {
   "cell_type": "code",
   "execution_count": 16,
   "id": "532b8bcc",
   "metadata": {
    "ExecuteTime": {
     "end_time": "2023-01-27T05:45:42.929804Z",
     "start_time": "2023-01-27T05:45:42.923795Z"
    }
   },
   "outputs": [
    {
     "data": {
      "text/plain": [
       "(tensor([0.2500, 0.4000, 0.5000]), tensor([0.2500, 0.4000, 0.5000]))"
      ]
     },
     "execution_count": 16,
     "metadata": {},
     "output_type": "execute_result"
    }
   ],
   "source": [
    "vector1/vector2, torch.div(vector1, vector2)"
   ]
  },
  {
   "cell_type": "code",
   "execution_count": 17,
   "id": "89264e97",
   "metadata": {
    "ExecuteTime": {
     "end_time": "2023-01-27T05:46:16.414006Z",
     "start_time": "2023-01-27T05:46:16.393978Z"
    }
   },
   "outputs": [
    {
     "data": {
      "text/plain": [
       "tensor(32.)"
      ]
     },
     "execution_count": 17,
     "metadata": {},
     "output_type": "execute_result"
    }
   ],
   "source": [
    "torch.dot(vector1, vector2)"
   ]
  },
  {
   "cell_type": "markdown",
   "id": "939146d2",
   "metadata": {},
   "source": [
    "## Matrix"
   ]
  },
  {
   "cell_type": "code",
   "execution_count": 20,
   "id": "a3525196",
   "metadata": {
    "ExecuteTime": {
     "end_time": "2023-01-27T05:48:16.603174Z",
     "start_time": "2023-01-27T05:48:16.586569Z"
    }
   },
   "outputs": [
    {
     "data": {
      "text/plain": [
       "(tensor([[1., 2.],\n",
       "         [3., 4.]]),\n",
       " tensor([[5., 6.],\n",
       "         [7., 8.]]))"
      ]
     },
     "execution_count": 20,
     "metadata": {},
     "output_type": "execute_result"
    }
   ],
   "source": [
    "matrix1 = torch.tensor([ [1., 2.,], [3., 4.]] )\n",
    "matrix2 = torch.tensor([ [5., 6.], [7., 8.]])\n",
    "matrix1, matrix2"
   ]
  },
  {
   "cell_type": "code",
   "execution_count": 21,
   "id": "97072aa8",
   "metadata": {
    "ExecuteTime": {
     "end_time": "2023-01-27T05:50:19.324961Z",
     "start_time": "2023-01-27T05:50:19.315961Z"
    }
   },
   "outputs": [
    {
     "name": "stdout",
     "output_type": "stream",
     "text": [
      "tensor([[ 6.,  8.],\n",
      "        [10., 12.]])\n"
     ]
    }
   ],
   "source": [
    "sum_matrix = matrix1 + matrix2\n",
    "print(sum_matrix)"
   ]
  },
  {
   "cell_type": "code",
   "execution_count": 22,
   "id": "290c1021",
   "metadata": {
    "ExecuteTime": {
     "end_time": "2023-01-27T05:50:33.550823Z",
     "start_time": "2023-01-27T05:50:33.536780Z"
    }
   },
   "outputs": [
    {
     "name": "stdout",
     "output_type": "stream",
     "text": [
      "tensor([[-4., -4.],\n",
      "        [-4., -4.]])\n"
     ]
    }
   ],
   "source": [
    "sub_matrix = matrix1 - matrix2\n",
    "print(sub_matrix)"
   ]
  },
  {
   "cell_type": "code",
   "execution_count": 23,
   "id": "b5b4eadc",
   "metadata": {
    "ExecuteTime": {
     "end_time": "2023-01-27T05:50:52.604761Z",
     "start_time": "2023-01-27T05:50:52.586761Z"
    }
   },
   "outputs": [
    {
     "name": "stdout",
     "output_type": "stream",
     "text": [
      "tensor([[ 5., 12.],\n",
      "        [21., 32.]])\n"
     ]
    }
   ],
   "source": [
    "mul_matrix = matrix1 * matrix2\n",
    "print(mul_matrix)"
   ]
  },
  {
   "cell_type": "code",
   "execution_count": 25,
   "id": "b7201204",
   "metadata": {
    "ExecuteTime": {
     "end_time": "2023-01-27T05:51:07.917464Z",
     "start_time": "2023-01-27T05:51:07.906442Z"
    }
   },
   "outputs": [
    {
     "name": "stdout",
     "output_type": "stream",
     "text": [
      "tensor([[0.2000, 0.3333],\n",
      "        [0.4286, 0.5000]])\n"
     ]
    }
   ],
   "source": [
    "div_matrix = matrix1 / matrix2\n",
    "print(div_matrix)"
   ]
  },
  {
   "cell_type": "code",
   "execution_count": 26,
   "id": "383d5654",
   "metadata": {
    "ExecuteTime": {
     "end_time": "2023-01-27T05:51:43.799029Z",
     "start_time": "2023-01-27T05:51:43.776922Z"
    }
   },
   "outputs": [
    {
     "name": "stdout",
     "output_type": "stream",
     "text": [
      "tensor([[19., 22.],\n",
      "        [43., 50.]])\n"
     ]
    }
   ],
   "source": [
    "matmul_matrix = torch.matmul(matrix1, matrix2)\n",
    "print(matmul_matrix)"
   ]
  },
  {
   "cell_type": "markdown",
   "id": "fd926e58",
   "metadata": {},
   "source": [
    "## Tensor"
   ]
  },
  {
   "cell_type": "code",
   "execution_count": 30,
   "id": "792f2838",
   "metadata": {
    "ExecuteTime": {
     "end_time": "2023-01-27T05:56:51.209232Z",
     "start_time": "2023-01-27T05:56:51.193184Z"
    }
   },
   "outputs": [
    {
     "data": {
      "text/plain": [
       "(tensor([[[1., 2.],\n",
       "          [3., 4.]],\n",
       " \n",
       "         [[5., 6.],\n",
       "          [7., 8.]]]),\n",
       " tensor([[[ 9., 10.],\n",
       "          [11., 12.]],\n",
       " \n",
       "         [[13., 14.],\n",
       "          [15., 16.]]]))"
      ]
     },
     "execution_count": 30,
     "metadata": {},
     "output_type": "execute_result"
    }
   ],
   "source": [
    "tensor1 = torch.tensor([ [[1., 2.], [3., 4.]], [[5., 6.], [7., 8.]] ])\n",
    "tensor2 = torch.tensor([ [[9., 10.], [11., 12.]], [[13., 14.], [15., 16.]] ])\n",
    "tensor1, tensor2"
   ]
  },
  {
   "cell_type": "code",
   "execution_count": 31,
   "id": "c7184807",
   "metadata": {
    "ExecuteTime": {
     "end_time": "2023-01-27T05:57:08.879993Z",
     "start_time": "2023-01-27T05:57:08.872995Z"
    }
   },
   "outputs": [
    {
     "data": {
      "text/plain": [
       "tensor([[[10., 12.],\n",
       "         [14., 16.]],\n",
       "\n",
       "        [[18., 20.],\n",
       "         [22., 24.]]])"
      ]
     },
     "execution_count": 31,
     "metadata": {},
     "output_type": "execute_result"
    }
   ],
   "source": [
    "torch.add(tensor1, tensor2)"
   ]
  },
  {
   "cell_type": "code",
   "execution_count": 32,
   "id": "eda6fa19",
   "metadata": {
    "ExecuteTime": {
     "end_time": "2023-01-27T05:57:18.445778Z",
     "start_time": "2023-01-27T05:57:18.427576Z"
    }
   },
   "outputs": [
    {
     "data": {
      "text/plain": [
       "tensor([[[-8., -8.],\n",
       "         [-8., -8.]],\n",
       "\n",
       "        [[-8., -8.],\n",
       "         [-8., -8.]]])"
      ]
     },
     "execution_count": 32,
     "metadata": {},
     "output_type": "execute_result"
    }
   ],
   "source": [
    "torch.sub(tensor1, tensor2)"
   ]
  },
  {
   "cell_type": "code",
   "execution_count": 33,
   "id": "fe43a24f",
   "metadata": {
    "ExecuteTime": {
     "end_time": "2023-01-27T05:57:32.163088Z",
     "start_time": "2023-01-27T05:57:32.152031Z"
    }
   },
   "outputs": [
    {
     "data": {
      "text/plain": [
       "tensor([[[  9.,  20.],\n",
       "         [ 33.,  48.]],\n",
       "\n",
       "        [[ 65.,  84.],\n",
       "         [105., 128.]]])"
      ]
     },
     "execution_count": 33,
     "metadata": {},
     "output_type": "execute_result"
    }
   ],
   "source": [
    "torch.mul(tensor1, tensor2)"
   ]
  },
  {
   "cell_type": "code",
   "execution_count": 34,
   "id": "75a8b943",
   "metadata": {
    "ExecuteTime": {
     "end_time": "2023-01-27T05:57:47.938013Z",
     "start_time": "2023-01-27T05:57:47.920016Z"
    }
   },
   "outputs": [
    {
     "data": {
      "text/plain": [
       "tensor([[[0.1111, 0.2000],\n",
       "         [0.2727, 0.3333]],\n",
       "\n",
       "        [[0.3846, 0.4286],\n",
       "         [0.4667, 0.5000]]])"
      ]
     },
     "execution_count": 34,
     "metadata": {},
     "output_type": "execute_result"
    }
   ],
   "source": [
    "torch.div(tensor1, tensor2)"
   ]
  },
  {
   "cell_type": "code",
   "execution_count": 35,
   "id": "dbf56c51",
   "metadata": {
    "ExecuteTime": {
     "end_time": "2023-01-27T05:57:56.514971Z",
     "start_time": "2023-01-27T05:57:56.500970Z"
    }
   },
   "outputs": [
    {
     "data": {
      "text/plain": [
       "tensor([[[ 31.,  34.],\n",
       "         [ 71.,  78.]],\n",
       "\n",
       "        [[155., 166.],\n",
       "         [211., 226.]]])"
      ]
     },
     "execution_count": 35,
     "metadata": {},
     "output_type": "execute_result"
    }
   ],
   "source": [
    "torch.matmul(tensor1, tensor2)"
   ]
  },
  {
   "cell_type": "markdown",
   "id": "25552d2f",
   "metadata": {},
   "source": [
    "# Autograd"
   ]
  },
  {
   "cell_type": "markdown",
   "id": "993ab3b6",
   "metadata": {},
   "source": [
    "Back Propagation을 이용해 파라미터를 업데이트"
   ]
  },
  {
   "cell_type": "code",
   "execution_count": 39,
   "id": "7b989992",
   "metadata": {
    "ExecuteTime": {
     "end_time": "2023-01-27T05:59:11.163620Z",
     "start_time": "2023-01-27T05:59:11.149593Z"
    }
   },
   "outputs": [
    {
     "data": {
      "text/plain": [
       "device(type='cuda')"
      ]
     },
     "execution_count": 39,
     "metadata": {},
     "output_type": "execute_result"
    }
   ],
   "source": [
    "if torch.cuda.is_available():\n",
    "    DEVICE = torch.device(\"cuda\")\n",
    "else:\n",
    "    DEVICE = torch.device(\"cpu\")\n",
    "    \n",
    "DEVICE"
   ]
  },
  {
   "cell_type": "code",
   "execution_count": 40,
   "id": "80d89e6a",
   "metadata": {
    "ExecuteTime": {
     "end_time": "2023-01-27T05:59:40.451070Z",
     "start_time": "2023-01-27T05:59:40.447880Z"
    }
   },
   "outputs": [],
   "source": [
    "BATCH_SIZE = 64\n",
    "INPUT_SIZE = 1000\n",
    "HIDDEN_SIZE = 100\n",
    "OUTPUT_SIZE = 10"
   ]
  },
  {
   "cell_type": "code",
   "execution_count": 51,
   "id": "bd0935a5",
   "metadata": {
    "ExecuteTime": {
     "end_time": "2023-01-27T06:15:46.484308Z",
     "start_time": "2023-01-27T06:15:46.464297Z"
    }
   },
   "outputs": [],
   "source": [
    "x = torch.randn(BATCH_SIZE,\n",
    "               INPUT_SIZE,\n",
    "               device = DEVICE,\n",
    "               dtype = torch.float,\n",
    "               requires_grad = False)\n",
    "y = torch.randn(BATCH_SIZE,\n",
    "               OUTPUT_SIZE,\n",
    "               device = DEVICE,\n",
    "               dtype = torch.float,\n",
    "               requires_grad = False)\n",
    "w1 = torch.randn(INPUT_SIZE,\n",
    "               HIDDEN_SIZE,\n",
    "               device = DEVICE,\n",
    "               dtype = torch.float,\n",
    "               requires_grad = True)\n",
    "w2 = torch.randn(HIDDEN_SIZE,\n",
    "               OUTPUT_SIZE,\n",
    "               device = DEVICE,\n",
    "               dtype = torch.float,\n",
    "               requires_grad = True)"
   ]
  },
  {
   "cell_type": "code",
   "execution_count": 52,
   "id": "b15d5089",
   "metadata": {
    "ExecuteTime": {
     "end_time": "2023-01-27T06:15:46.831560Z",
     "start_time": "2023-01-27T06:15:46.819458Z"
    }
   },
   "outputs": [
    {
     "name": "stdout",
     "output_type": "stream",
     "text": [
      "torch.Size([64, 1000]) torch.Size([64, 10]) torch.Size([1000, 100]) torch.Size([100, 10])\n"
     ]
    }
   ],
   "source": [
    "print(x.shape, y.shape, w1.shape, w2.shape)"
   ]
  },
  {
   "cell_type": "code",
   "execution_count": 53,
   "id": "b71fb5d1",
   "metadata": {
    "ExecuteTime": {
     "end_time": "2023-01-27T06:16:08.669062Z",
     "start_time": "2023-01-27T06:16:08.347927Z"
    }
   },
   "outputs": [
    {
     "name": "stdout",
     "output_type": "stream",
     "text": [
      "Iteration :  100 \t Loss :  513.5570068359375\n",
      "Iteration :  200 \t Loss :  3.1462719440460205\n",
      "Iteration :  300 \t Loss :  0.06644710153341293\n",
      "Iteration :  400 \t Loss :  0.06912317126989365\n",
      "Iteration :  500 \t Loss :  0.059134259819984436\n"
     ]
    }
   ],
   "source": [
    "learning_rate = 1e-6\n",
    "for t in range(1, 501):\n",
    "    y_pred = x.mm(w1).clamp(min=0).mm(w2)\n",
    "    loss = (y_pred - y).pow(2).sum()\n",
    "    if t %100 ==0:\n",
    "        print(\"Iteration : \", t, \"\\t\", \"Loss : \", loss.item() )\n",
    "    loss.backward()\n",
    "    \n",
    "    with torch.no_grad(): # 파라미터 값을 업데이트 할때는 no_grad 를 한뒤\n",
    "        w1 -= learning_rate * w1.grad\n",
    "        w2 -= learning_rate * w2.grad\n",
    "        \n",
    "        w1.grad.zero_()\n",
    "        w2.grad.zero_()"
   ]
  },
  {
   "cell_type": "code",
   "execution_count": null,
   "id": "b3b3aeb5",
   "metadata": {},
   "outputs": [],
   "source": []
  }
 ],
 "metadata": {
  "kernelspec": {
   "display_name": "Python 3 (ipykernel)",
   "language": "python",
   "name": "python3"
  },
  "language_info": {
   "codemirror_mode": {
    "name": "ipython",
    "version": 3
   },
   "file_extension": ".py",
   "mimetype": "text/x-python",
   "name": "python",
   "nbconvert_exporter": "python",
   "pygments_lexer": "ipython3",
   "version": "3.9.0"
  },
  "toc": {
   "base_numbering": 1,
   "nav_menu": {},
   "number_sections": true,
   "sideBar": true,
   "skip_h1_title": false,
   "title_cell": "Table of Contents",
   "title_sidebar": "Contents",
   "toc_cell": false,
   "toc_position": {},
   "toc_section_display": true,
   "toc_window_display": false
  }
 },
 "nbformat": 4,
 "nbformat_minor": 5
}
