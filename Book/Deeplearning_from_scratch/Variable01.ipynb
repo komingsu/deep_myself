{
 "cells": [
  {
   "cell_type": "code",
   "execution_count": 1,
   "id": "60a3726c",
   "metadata": {
    "ExecuteTime": {
     "end_time": "2022-08-30T10:30:06.211953Z",
     "start_time": "2022-08-30T10:30:06.201951Z"
    }
   },
   "outputs": [],
   "source": [
    "class Variable():\n",
    "    def __init__(self, data):\n",
    "        self.data = data"
   ]
  },
  {
   "cell_type": "code",
   "execution_count": 2,
   "id": "fa38c115",
   "metadata": {
    "ExecuteTime": {
     "end_time": "2022-08-30T10:30:29.195542Z",
     "start_time": "2022-08-30T10:30:29.081513Z"
    }
   },
   "outputs": [
    {
     "name": "stdout",
     "output_type": "stream",
     "text": [
      "1.0\n"
     ]
    }
   ],
   "source": [
    "import numpy as np\n",
    "data = np.array(1.0)\n",
    "x = Variable(data)\n",
    "print(x.data)"
   ]
  },
  {
   "cell_type": "code",
   "execution_count": 4,
   "id": "9d50e6f5",
   "metadata": {
    "ExecuteTime": {
     "end_time": "2022-08-30T10:30:44.066051Z",
     "start_time": "2022-08-30T10:30:44.053049Z"
    }
   },
   "outputs": [
    {
     "name": "stdout",
     "output_type": "stream",
     "text": [
      "2.0\n"
     ]
    }
   ],
   "source": [
    "x.data = np.array(2.0)\n",
    "print(x.data)"
   ]
  },
  {
   "cell_type": "code",
   "execution_count": 5,
   "id": "911e683b",
   "metadata": {
    "ExecuteTime": {
     "end_time": "2022-08-30T10:32:57.727866Z",
     "start_time": "2022-08-30T10:32:57.709855Z"
    }
   },
   "outputs": [
    {
     "data": {
      "text/plain": [
       "0"
      ]
     },
     "execution_count": 5,
     "metadata": {},
     "output_type": "execute_result"
    }
   ],
   "source": [
    "x = np.array(1)\n",
    "x.ndim"
   ]
  },
  {
   "cell_type": "code",
   "execution_count": 6,
   "id": "8ce93d53",
   "metadata": {
    "ExecuteTime": {
     "end_time": "2022-08-30T10:33:04.858503Z",
     "start_time": "2022-08-30T10:33:04.853472Z"
    }
   },
   "outputs": [
    {
     "data": {
      "text/plain": [
       "1"
      ]
     },
     "execution_count": 6,
     "metadata": {},
     "output_type": "execute_result"
    }
   ],
   "source": [
    "x = np.array([1,2,3])\n",
    "x.ndim"
   ]
  },
  {
   "cell_type": "code",
   "execution_count": 7,
   "id": "371f2d22",
   "metadata": {
    "ExecuteTime": {
     "end_time": "2022-08-30T10:33:20.984705Z",
     "start_time": "2022-08-30T10:33:20.977701Z"
    }
   },
   "outputs": [
    {
     "data": {
      "text/plain": [
       "2"
      ]
     },
     "execution_count": 7,
     "metadata": {},
     "output_type": "execute_result"
    }
   ],
   "source": [
    "x = np.array([[1,2,3,],[1,2,3]])\n",
    "x.ndim"
   ]
  },
  {
   "cell_type": "code",
   "execution_count": null,
   "id": "30c39e4a",
   "metadata": {},
   "outputs": [],
   "source": []
  }
 ],
 "metadata": {
  "kernelspec": {
   "display_name": "Python 3 (ipykernel)",
   "language": "python",
   "name": "python3"
  },
  "language_info": {
   "codemirror_mode": {
    "name": "ipython",
    "version": 3
   },
   "file_extension": ".py",
   "mimetype": "text/x-python",
   "name": "python",
   "nbconvert_exporter": "python",
   "pygments_lexer": "ipython3",
   "version": "3.9.0"
  },
  "toc": {
   "base_numbering": 1,
   "nav_menu": {},
   "number_sections": true,
   "sideBar": true,
   "skip_h1_title": false,
   "title_cell": "Table of Contents",
   "title_sidebar": "Contents",
   "toc_cell": false,
   "toc_position": {},
   "toc_section_display": true,
   "toc_window_display": false
  }
 },
 "nbformat": 4,
 "nbformat_minor": 5
}
