{
 "cells": [
  {
   "cell_type": "markdown",
   "id": "305345ff",
   "metadata": {},
   "source": [
    "# 데이터 불러오기"
   ]
  },
  {
   "cell_type": "code",
   "execution_count": 1,
   "id": "9872e186",
   "metadata": {},
   "outputs": [
    {
     "data": {
      "text/plain": [
       "['data\\\\items.csv',\n",
       " 'data\\\\item_categories.csv',\n",
       " 'data\\\\sales_train.csv',\n",
       " 'data\\\\sample_submission.csv',\n",
       " 'data\\\\shops.csv',\n",
       " 'data\\\\test.csv']"
      ]
     },
     "execution_count": 1,
     "metadata": {},
     "output_type": "execute_result"
    }
   ],
   "source": [
    "import pandas as pd\n",
    "import numpy as np\n",
    "import glob\n",
    "import gc\n",
    "p_list=glob.glob(\"data/*\")\n",
    "p_list"
   ]
  },
  {
   "cell_type": "code",
   "execution_count": 87,
   "id": "655644d8",
   "metadata": {},
   "outputs": [],
   "source": [
    "items = pd.read_csv(p_list[0])\n",
    "item_categories = pd.read_csv(p_list[1])\n",
    "sales_train =pd.read_csv(p_list[2])\n",
    "submission =pd.read_csv(p_list[3])\n",
    "shops =pd.read_csv(p_list[4])\n",
    "test =pd.read_csv(p_list[5])"
   ]
  },
  {
   "cell_type": "markdown",
   "id": "a2414ed2",
   "metadata": {},
   "source": [
    "# 특성 공학\n",
    "\n",
    "## 피쳐 한글화"
   ]
  },
  {
   "cell_type": "code",
   "execution_count": 3,
   "id": "807eddc9",
   "metadata": {},
   "outputs": [
    {
     "data": {
      "text/html": [
       "<div>\n",
       "<style scoped>\n",
       "    .dataframe tbody tr th:only-of-type {\n",
       "        vertical-align: middle;\n",
       "    }\n",
       "\n",
       "    .dataframe tbody tr th {\n",
       "        vertical-align: top;\n",
       "    }\n",
       "\n",
       "    .dataframe thead th {\n",
       "        text-align: right;\n",
       "    }\n",
       "</style>\n",
       "<table border=\"1\" class=\"dataframe\">\n",
       "  <thead>\n",
       "    <tr style=\"text-align: right;\">\n",
       "      <th></th>\n",
       "      <th>날짜</th>\n",
       "      <th>월ID</th>\n",
       "      <th>상점ID</th>\n",
       "      <th>상품ID</th>\n",
       "      <th>판매가</th>\n",
       "      <th>판매량</th>\n",
       "    </tr>\n",
       "  </thead>\n",
       "  <tbody>\n",
       "    <tr>\n",
       "      <th>2935846</th>\n",
       "      <td>14.10.2015</td>\n",
       "      <td>33</td>\n",
       "      <td>25</td>\n",
       "      <td>7459</td>\n",
       "      <td>349.0</td>\n",
       "      <td>1.0</td>\n",
       "    </tr>\n",
       "    <tr>\n",
       "      <th>2935847</th>\n",
       "      <td>22.10.2015</td>\n",
       "      <td>33</td>\n",
       "      <td>25</td>\n",
       "      <td>7440</td>\n",
       "      <td>299.0</td>\n",
       "      <td>1.0</td>\n",
       "    </tr>\n",
       "    <tr>\n",
       "      <th>2935848</th>\n",
       "      <td>03.10.2015</td>\n",
       "      <td>33</td>\n",
       "      <td>25</td>\n",
       "      <td>7460</td>\n",
       "      <td>299.0</td>\n",
       "      <td>1.0</td>\n",
       "    </tr>\n",
       "  </tbody>\n",
       "</table>\n",
       "</div>"
      ],
      "text/plain": [
       "                 날짜  월ID  상점ID  상품ID    판매가  판매량\n",
       "2935846  14.10.2015   33    25  7459  349.0  1.0\n",
       "2935847  22.10.2015   33    25  7440  299.0  1.0\n",
       "2935848  03.10.2015   33    25  7460  299.0  1.0"
      ]
     },
     "execution_count": 3,
     "metadata": {},
     "output_type": "execute_result"
    }
   ],
   "source": [
    "sales_train = sales_train.rename(columns={\n",
    "    \"date\" : \"날짜\",\n",
    "    \"date_block_num\" : \"월ID\",\n",
    "    \"shop_id\" : \"상점ID\",\n",
    "    \"item_id\" : \"상품ID\",\n",
    "    \"item_price\" : \"판매가\",\n",
    "    \"item_cnt_day\" : \"판매량\"\n",
    "})\n",
    "sales_train.tail(3)"
   ]
  },
  {
   "cell_type": "code",
   "execution_count": 4,
   "id": "f974b910",
   "metadata": {},
   "outputs": [],
   "source": [
    "shops = shops.rename(columns={\n",
    "    \"shop_name\" : \"상점명\",\n",
    "    \"shop_id\" : \"상점ID\"\n",
    "})"
   ]
  },
  {
   "cell_type": "code",
   "execution_count": 5,
   "id": "baf85dca",
   "metadata": {},
   "outputs": [
    {
     "data": {
      "text/html": [
       "<div>\n",
       "<style scoped>\n",
       "    .dataframe tbody tr th:only-of-type {\n",
       "        vertical-align: middle;\n",
       "    }\n",
       "\n",
       "    .dataframe tbody tr th {\n",
       "        vertical-align: top;\n",
       "    }\n",
       "\n",
       "    .dataframe thead th {\n",
       "        text-align: right;\n",
       "    }\n",
       "</style>\n",
       "<table border=\"1\" class=\"dataframe\">\n",
       "  <thead>\n",
       "    <tr style=\"text-align: right;\">\n",
       "      <th></th>\n",
       "      <th>상점명</th>\n",
       "      <th>상점ID</th>\n",
       "    </tr>\n",
       "  </thead>\n",
       "  <tbody>\n",
       "    <tr>\n",
       "      <th>57</th>\n",
       "      <td>Якутск Орджоникидзе, 56</td>\n",
       "      <td>57</td>\n",
       "    </tr>\n",
       "    <tr>\n",
       "      <th>58</th>\n",
       "      <td>Якутск ТЦ \"Центральный\"</td>\n",
       "      <td>58</td>\n",
       "    </tr>\n",
       "    <tr>\n",
       "      <th>59</th>\n",
       "      <td>Ярославль ТЦ \"Альтаир\"</td>\n",
       "      <td>59</td>\n",
       "    </tr>\n",
       "  </tbody>\n",
       "</table>\n",
       "</div>"
      ],
      "text/plain": [
       "                        상점명  상점ID\n",
       "57  Якутск Орджоникидзе, 56    57\n",
       "58  Якутск ТЦ \"Центральный\"    58\n",
       "59   Ярославль ТЦ \"Альтаир\"    59"
      ]
     },
     "execution_count": 5,
     "metadata": {},
     "output_type": "execute_result"
    }
   ],
   "source": [
    "shops.tail(3)"
   ]
  },
  {
   "cell_type": "code",
   "execution_count": 6,
   "id": "bcf3e371",
   "metadata": {},
   "outputs": [
    {
     "data": {
      "text/html": [
       "<div>\n",
       "<style scoped>\n",
       "    .dataframe tbody tr th:only-of-type {\n",
       "        vertical-align: middle;\n",
       "    }\n",
       "\n",
       "    .dataframe tbody tr th {\n",
       "        vertical-align: top;\n",
       "    }\n",
       "\n",
       "    .dataframe thead th {\n",
       "        text-align: right;\n",
       "    }\n",
       "</style>\n",
       "<table border=\"1\" class=\"dataframe\">\n",
       "  <thead>\n",
       "    <tr style=\"text-align: right;\">\n",
       "      <th></th>\n",
       "      <th>상품명</th>\n",
       "      <th>상품ID</th>\n",
       "      <th>상품분류ID</th>\n",
       "    </tr>\n",
       "  </thead>\n",
       "  <tbody>\n",
       "    <tr>\n",
       "      <th>22167</th>\n",
       "      <td>Язык запросов 1С:Предприятия 8 (+CD). Хрустале...</td>\n",
       "      <td>22167</td>\n",
       "      <td>49</td>\n",
       "    </tr>\n",
       "    <tr>\n",
       "      <th>22168</th>\n",
       "      <td>Яйцо для Little Inu</td>\n",
       "      <td>22168</td>\n",
       "      <td>62</td>\n",
       "    </tr>\n",
       "    <tr>\n",
       "      <th>22169</th>\n",
       "      <td>Яйцо дракона (Игра престолов)</td>\n",
       "      <td>22169</td>\n",
       "      <td>69</td>\n",
       "    </tr>\n",
       "  </tbody>\n",
       "</table>\n",
       "</div>"
      ],
      "text/plain": [
       "                                                     상품명   상품ID  상품분류ID\n",
       "22167  Язык запросов 1С:Предприятия 8 (+CD). Хрустале...  22167      49\n",
       "22168                                Яйцо для Little Inu  22168      62\n",
       "22169                      Яйцо дракона (Игра престолов)  22169      69"
      ]
     },
     "execution_count": 6,
     "metadata": {},
     "output_type": "execute_result"
    }
   ],
   "source": [
    "items = items.rename(columns={\n",
    "    \"item_name\" : \"상품명\",\n",
    "    \"item_id\" : \"상품ID\",\n",
    "    \"item_category_id\" : \"상품분류ID\"\n",
    "})\n",
    "items.tail(3)"
   ]
  },
  {
   "cell_type": "code",
   "execution_count": 7,
   "id": "e9132e0f",
   "metadata": {},
   "outputs": [
    {
     "data": {
      "text/html": [
       "<div>\n",
       "<style scoped>\n",
       "    .dataframe tbody tr th:only-of-type {\n",
       "        vertical-align: middle;\n",
       "    }\n",
       "\n",
       "    .dataframe tbody tr th {\n",
       "        vertical-align: top;\n",
       "    }\n",
       "\n",
       "    .dataframe thead th {\n",
       "        text-align: right;\n",
       "    }\n",
       "</style>\n",
       "<table border=\"1\" class=\"dataframe\">\n",
       "  <thead>\n",
       "    <tr style=\"text-align: right;\">\n",
       "      <th></th>\n",
       "      <th>상품분류명</th>\n",
       "      <th>상품분류ID</th>\n",
       "    </tr>\n",
       "  </thead>\n",
       "  <tbody>\n",
       "    <tr>\n",
       "      <th>81</th>\n",
       "      <td>Чистые носители (шпиль)</td>\n",
       "      <td>81</td>\n",
       "    </tr>\n",
       "    <tr>\n",
       "      <th>82</th>\n",
       "      <td>Чистые носители (штучные)</td>\n",
       "      <td>82</td>\n",
       "    </tr>\n",
       "    <tr>\n",
       "      <th>83</th>\n",
       "      <td>Элементы питания</td>\n",
       "      <td>83</td>\n",
       "    </tr>\n",
       "  </tbody>\n",
       "</table>\n",
       "</div>"
      ],
      "text/plain": [
       "                        상품분류명  상품분류ID\n",
       "81    Чистые носители (шпиль)      81\n",
       "82  Чистые носители (штучные)      82\n",
       "83           Элементы питания      83"
      ]
     },
     "execution_count": 7,
     "metadata": {},
     "output_type": "execute_result"
    }
   ],
   "source": [
    "item_categories = item_categories.rename(columns=\n",
    "                                        {\"item_category_name\": \"상품분류명\",\n",
    "                                         \"item_category_id\" : \"상품분류ID\"\n",
    "                                        })\n",
    "item_categories.tail(3)"
   ]
  },
  {
   "cell_type": "code",
   "execution_count": 8,
   "id": "270ff265",
   "metadata": {},
   "outputs": [
    {
     "data": {
      "text/html": [
       "<div>\n",
       "<style scoped>\n",
       "    .dataframe tbody tr th:only-of-type {\n",
       "        vertical-align: middle;\n",
       "    }\n",
       "\n",
       "    .dataframe tbody tr th {\n",
       "        vertical-align: top;\n",
       "    }\n",
       "\n",
       "    .dataframe thead th {\n",
       "        text-align: right;\n",
       "    }\n",
       "</style>\n",
       "<table border=\"1\" class=\"dataframe\">\n",
       "  <thead>\n",
       "    <tr style=\"text-align: right;\">\n",
       "      <th></th>\n",
       "      <th>ID</th>\n",
       "      <th>상점ID</th>\n",
       "      <th>상품ID</th>\n",
       "    </tr>\n",
       "  </thead>\n",
       "  <tbody>\n",
       "    <tr>\n",
       "      <th>214197</th>\n",
       "      <td>214197</td>\n",
       "      <td>45</td>\n",
       "      <td>15757</td>\n",
       "    </tr>\n",
       "    <tr>\n",
       "      <th>214198</th>\n",
       "      <td>214198</td>\n",
       "      <td>45</td>\n",
       "      <td>19648</td>\n",
       "    </tr>\n",
       "    <tr>\n",
       "      <th>214199</th>\n",
       "      <td>214199</td>\n",
       "      <td>45</td>\n",
       "      <td>969</td>\n",
       "    </tr>\n",
       "  </tbody>\n",
       "</table>\n",
       "</div>"
      ],
      "text/plain": [
       "            ID  상점ID   상품ID\n",
       "214197  214197    45  15757\n",
       "214198  214198    45  19648\n",
       "214199  214199    45    969"
      ]
     },
     "execution_count": 8,
     "metadata": {},
     "output_type": "execute_result"
    }
   ],
   "source": [
    "test = test.rename(columns={\n",
    "    \"shop_id\" : \"상점ID\",\n",
    "    \"item_id\" : \"상품ID\"\n",
    "})\n",
    "test.tail(3)"
   ]
  },
  {
   "cell_type": "markdown",
   "id": "fb7b1b1e",
   "metadata": {},
   "source": [
    "## 데이터 다운캐스팅"
   ]
  },
  {
   "cell_type": "code",
   "execution_count": 9,
   "id": "cb18b03d",
   "metadata": {},
   "outputs": [
    {
     "data": {
      "text/plain": [
       "134.3926239013672"
      ]
     },
     "execution_count": 9,
     "metadata": {},
     "output_type": "execute_result"
    }
   ],
   "source": [
    "sales_train.memory_usage().sum() / 1024 **2"
   ]
  },
  {
   "cell_type": "code",
   "execution_count": 10,
   "id": "1bb7afbb",
   "metadata": {},
   "outputs": [],
   "source": [
    "def downcast(df, verbose=True):\n",
    "    start_mem = df.memory_usage().sum() / 1024 **2\n",
    "    for col in df.columns:\n",
    "        dtype_name = df[col].dtype.name\n",
    "        if dtype_name == \"object\":\n",
    "            pass\n",
    "        elif dtype_name == \"bool\":\n",
    "            df[col] = df[col].astype(\"int8\")\n",
    "        elif dtype_name.startswith(\"int\") or (df[col].round() == df[col]).all():\n",
    "            df[col] = pd.to_numeric(df[col], downcast=\"integer\")\n",
    "        else:\n",
    "            df[col] = pd.to_numeric(df[col], downcast=\"float\")\n",
    "    end_mem = df.memory_usage().sum() / 1024**2\n",
    "    if verbose:\n",
    "        print(f\"{(100*(start_mem-end_mem)/start_mem): .1f}% 압축됨\")\n",
    "    return df"
   ]
  },
  {
   "cell_type": "code",
   "execution_count": 11,
   "id": "1089ae4f",
   "metadata": {},
   "outputs": [
    {
     "name": "stdout",
     "output_type": "stream",
     "text": [
      " 62.5% 압축됨\n",
      " 38.6% 압축됨\n",
      " 54.2% 압축됨\n",
      " 39.9% 압축됨\n",
      " 70.8% 압축됨\n"
     ]
    }
   ],
   "source": [
    "all_df = [sales_train, shops, items, item_categories, test]\n",
    "for df in all_df:\n",
    "    df = downcast(df)"
   ]
  },
  {
   "cell_type": "code",
   "execution_count": 12,
   "id": "0030cda2",
   "metadata": {},
   "outputs": [
    {
     "name": "stdout",
     "output_type": "stream",
     "text": [
      "<class 'pandas.core.frame.DataFrame'>\n",
      "RangeIndex: 2935849 entries, 0 to 2935848\n",
      "Data columns (total 6 columns):\n",
      " #   Column  Dtype  \n",
      "---  ------  -----  \n",
      " 0   날짜      object \n",
      " 1   월ID     int8   \n",
      " 2   상점ID    int8   \n",
      " 3   상품ID    int16  \n",
      " 4   판매가     float32\n",
      " 5   판매량     int16  \n",
      "dtypes: float32(1), int16(2), int8(2), object(1)\n",
      "memory usage: 50.4+ MB\n"
     ]
    }
   ],
   "source": [
    "sales_train.info()"
   ]
  },
  {
   "cell_type": "markdown",
   "id": "5b26a661",
   "metadata": {},
   "source": [
    "## 개별데이터"
   ]
  },
  {
   "cell_type": "markdown",
   "id": "27604a25",
   "metadata": {},
   "source": [
    "### sales_train 이상치 제거\n",
    "\n",
    "* 판매량이 음수인 데이터\n",
    "* 판매가가 50000 이상인 데이터\n",
    "* 판매량이 1000 이상인 데이터\n",
    "* 위 데이터 들을 이상치로 간주"
   ]
  },
  {
   "cell_type": "code",
   "execution_count": 13,
   "id": "46a156c9",
   "metadata": {},
   "outputs": [
    {
     "data": {
      "text/html": [
       "<div>\n",
       "<style scoped>\n",
       "    .dataframe tbody tr th:only-of-type {\n",
       "        vertical-align: middle;\n",
       "    }\n",
       "\n",
       "    .dataframe tbody tr th {\n",
       "        vertical-align: top;\n",
       "    }\n",
       "\n",
       "    .dataframe thead th {\n",
       "        text-align: right;\n",
       "    }\n",
       "</style>\n",
       "<table border=\"1\" class=\"dataframe\">\n",
       "  <thead>\n",
       "    <tr style=\"text-align: right;\">\n",
       "      <th></th>\n",
       "      <th>날짜</th>\n",
       "      <th>월ID</th>\n",
       "      <th>상점ID</th>\n",
       "      <th>상품ID</th>\n",
       "      <th>판매가</th>\n",
       "      <th>판매량</th>\n",
       "    </tr>\n",
       "  </thead>\n",
       "  <tbody>\n",
       "    <tr>\n",
       "      <th>2935846</th>\n",
       "      <td>14.10.2015</td>\n",
       "      <td>33</td>\n",
       "      <td>25</td>\n",
       "      <td>7459</td>\n",
       "      <td>349.0</td>\n",
       "      <td>1</td>\n",
       "    </tr>\n",
       "    <tr>\n",
       "      <th>2935847</th>\n",
       "      <td>22.10.2015</td>\n",
       "      <td>33</td>\n",
       "      <td>25</td>\n",
       "      <td>7440</td>\n",
       "      <td>299.0</td>\n",
       "      <td>1</td>\n",
       "    </tr>\n",
       "    <tr>\n",
       "      <th>2935848</th>\n",
       "      <td>03.10.2015</td>\n",
       "      <td>33</td>\n",
       "      <td>25</td>\n",
       "      <td>7460</td>\n",
       "      <td>299.0</td>\n",
       "      <td>1</td>\n",
       "    </tr>\n",
       "  </tbody>\n",
       "</table>\n",
       "</div>"
      ],
      "text/plain": [
       "                 날짜  월ID  상점ID  상품ID    판매가  판매량\n",
       "2935846  14.10.2015   33    25  7459  349.0    1\n",
       "2935847  22.10.2015   33    25  7440  299.0    1\n",
       "2935848  03.10.2015   33    25  7460  299.0    1"
      ]
     },
     "execution_count": 13,
     "metadata": {},
     "output_type": "execute_result"
    }
   ],
   "source": [
    "sales_train.tail(3)"
   ]
  },
  {
   "cell_type": "code",
   "execution_count": 14,
   "id": "5c781d21",
   "metadata": {},
   "outputs": [],
   "source": [
    "# 판매가가 0보다 큰 데이터 추출\n",
    "sales_train = sales_train[sales_train[\"판매가\"] > 0]\n",
    "# 판매가가 50000보다 작은 데이터 추출\n",
    "sales_train = sales_train[sales_train[\"판매가\"] < 50000]\n",
    "\n",
    "# 판매량이 0보다 큰 데이터 추출\n",
    "sales_train = sales_train[sales_train[\"판매량\"] > 0]\n",
    "# 판매량이 50000보다 큰 데이터 추출\n",
    "sales_train = sales_train[sales_train[\"판매량\"] < 1000]"
   ]
  },
  {
   "cell_type": "markdown",
   "id": "af02dc2f",
   "metadata": {},
   "source": [
    "### \"상점명\" 피쳐의 중복데이터 수정"
   ]
  },
  {
   "cell_type": "code",
   "execution_count": 15,
   "id": "31d5e734",
   "metadata": {},
   "outputs": [
    {
     "name": "stdout",
     "output_type": "stream",
     "text": [
      "!Якутск Орджоникидзе, 56 фран\n",
      "Якутск Орджоникидзе, 56\n",
      "!Якутск ТЦ \"Центральный\" фран\n",
      "Якутск ТЦ \"Центральный\"\n",
      "Жуковский ул. Чкалова 39м?\n",
      "Жуковский ул. Чкалова 39м²\n",
      "РостовНаДону ТРК \"Мегацентр Горизонт\"\n",
      "РостовНаДону ТРК \"Мегацентр Горизонт\" Островной\n"
     ]
    }
   ],
   "source": [
    "print( shops[\"상점명\"][0] ,shops[\"상점명\"][57] ,sep=\"\\n\")\n",
    "print( shops[\"상점명\"][1] ,shops[\"상점명\"][58] ,sep=\"\\n\")\n",
    "print( shops[\"상점명\"][10] ,shops[\"상점명\"][11] ,sep=\"\\n\")\n",
    "print( shops[\"상점명\"][39],shops[\"상점명\"][40] ,sep=\"\\n\")"
   ]
  },
  {
   "cell_type": "code",
   "execution_count": 16,
   "id": "17630ba2",
   "metadata": {},
   "outputs": [],
   "source": [
    "sales_train.loc[sales_train[\"상점ID\"] == 0, \"상점ID\"] = 57\n",
    "sales_train.loc[sales_train[\"상점ID\"] == 1, \"상점ID\"] = 58\n",
    "sales_train.loc[sales_train[\"상점ID\"] == 10, \"상점ID\"] = 11\n",
    "sales_train.loc[sales_train[\"상점ID\"] == 39,\"상점ID\"] = 40"
   ]
  },
  {
   "cell_type": "code",
   "execution_count": 17,
   "id": "189a0318",
   "metadata": {},
   "outputs": [],
   "source": [
    "test.loc[test[\"상점ID\"] == 0, \"상점ID\"] = 57\n",
    "test.loc[test[\"상점ID\"] == 1, \"상점ID\"] = 58\n",
    "test.loc[test[\"상점ID\"] == 10, \"상점ID\"] = 11\n",
    "test.loc[test[\"상점ID\"] == 39,\"상점ID\"] = 40"
   ]
  },
  {
   "cell_type": "markdown",
   "id": "f06f267b",
   "metadata": {},
   "source": [
    "### shops 파생 피처 생성 및 인코딩\n",
    "\n",
    "* LabelEncoder()"
   ]
  },
  {
   "cell_type": "code",
   "execution_count": 18,
   "id": "1bd3b27e",
   "metadata": {},
   "outputs": [
    {
     "data": {
      "text/html": [
       "<div>\n",
       "<style scoped>\n",
       "    .dataframe tbody tr th:only-of-type {\n",
       "        vertical-align: middle;\n",
       "    }\n",
       "\n",
       "    .dataframe tbody tr th {\n",
       "        vertical-align: top;\n",
       "    }\n",
       "\n",
       "    .dataframe thead th {\n",
       "        text-align: right;\n",
       "    }\n",
       "</style>\n",
       "<table border=\"1\" class=\"dataframe\">\n",
       "  <thead>\n",
       "    <tr style=\"text-align: right;\">\n",
       "      <th></th>\n",
       "      <th>상점명</th>\n",
       "      <th>상점ID</th>\n",
       "    </tr>\n",
       "  </thead>\n",
       "  <tbody>\n",
       "    <tr>\n",
       "      <th>58</th>\n",
       "      <td>Якутск ТЦ \"Центральный\"</td>\n",
       "      <td>58</td>\n",
       "    </tr>\n",
       "    <tr>\n",
       "      <th>59</th>\n",
       "      <td>Ярославль ТЦ \"Альтаир\"</td>\n",
       "      <td>59</td>\n",
       "    </tr>\n",
       "  </tbody>\n",
       "</table>\n",
       "</div>"
      ],
      "text/plain": [
       "                        상점명  상점ID\n",
       "58  Якутск ТЦ \"Центральный\"    58\n",
       "59   Ярославль ТЦ \"Альтаир\"    59"
      ]
     },
     "execution_count": 18,
     "metadata": {},
     "output_type": "execute_result"
    }
   ],
   "source": [
    "shops.tail(2)"
   ]
  },
  {
   "cell_type": "code",
   "execution_count": 19,
   "id": "073e1dfb",
   "metadata": {},
   "outputs": [],
   "source": [
    "shops[\"도시\"] = shops[\"상점명\"].apply(lambda x: x.split()[0])"
   ]
  },
  {
   "cell_type": "code",
   "execution_count": 20,
   "id": "df153a2c",
   "metadata": {},
   "outputs": [
    {
     "data": {
      "text/plain": [
       "array(['!Якутск', 'Адыгея', 'Балашиха', 'Волжский', 'Вологда', 'Воронеж',\n",
       "       'Выездная', 'Жуковский', 'Интернет-магазин', 'Казань', 'Калуга',\n",
       "       'Коломна', 'Красноярск', 'Курск', 'Москва', 'Мытищи', 'Н.Новгород',\n",
       "       'Новосибирск', 'Омск', 'РостовНаДону', 'СПб', 'Самара', 'Сергиев',\n",
       "       'Сургут', 'Томск', 'Тюмень', 'Уфа', 'Химки', 'Цифровой', 'Чехов',\n",
       "       'Якутск', 'Ярославль'], dtype=object)"
      ]
     },
     "execution_count": 20,
     "metadata": {},
     "output_type": "execute_result"
    }
   ],
   "source": [
    "shops[\"도시\"].unique()"
   ]
  },
  {
   "cell_type": "code",
   "execution_count": 21,
   "id": "0c573f86",
   "metadata": {},
   "outputs": [],
   "source": [
    "# '!Якутск' 을 'Якутск' 으로 변경\n",
    "shops.loc[shops[\"도시\"]=='!Якутск', \"도시\"]=\"Якутск\""
   ]
  },
  {
   "cell_type": "markdown",
   "id": "3c14480e",
   "metadata": {},
   "source": [
    "#### label encoding"
   ]
  },
  {
   "cell_type": "code",
   "execution_count": 22,
   "id": "cbc904a6",
   "metadata": {},
   "outputs": [],
   "source": [
    "# 범주형 데이터 이므로 label encoding\n",
    "from sklearn.preprocessing import LabelEncoder\n",
    "\n",
    "label_encoder = LabelEncoder()\n",
    "shops[\"도시\"] = label_encoder.fit_transform(shops[\"도시\"])"
   ]
  },
  {
   "cell_type": "code",
   "execution_count": 23,
   "id": "12d947ae",
   "metadata": {},
   "outputs": [
    {
     "data": {
      "text/html": [
       "<div>\n",
       "<style scoped>\n",
       "    .dataframe tbody tr th:only-of-type {\n",
       "        vertical-align: middle;\n",
       "    }\n",
       "\n",
       "    .dataframe tbody tr th {\n",
       "        vertical-align: top;\n",
       "    }\n",
       "\n",
       "    .dataframe thead th {\n",
       "        text-align: right;\n",
       "    }\n",
       "</style>\n",
       "<table border=\"1\" class=\"dataframe\">\n",
       "  <thead>\n",
       "    <tr style=\"text-align: right;\">\n",
       "      <th></th>\n",
       "      <th>상점명</th>\n",
       "      <th>상점ID</th>\n",
       "      <th>도시</th>\n",
       "    </tr>\n",
       "  </thead>\n",
       "  <tbody>\n",
       "    <tr>\n",
       "      <th>58</th>\n",
       "      <td>Якутск ТЦ \"Центральный\"</td>\n",
       "      <td>58</td>\n",
       "      <td>29</td>\n",
       "    </tr>\n",
       "    <tr>\n",
       "      <th>59</th>\n",
       "      <td>Ярославль ТЦ \"Альтаир\"</td>\n",
       "      <td>59</td>\n",
       "      <td>30</td>\n",
       "    </tr>\n",
       "  </tbody>\n",
       "</table>\n",
       "</div>"
      ],
      "text/plain": [
       "                        상점명  상점ID  도시\n",
       "58  Якутск ТЦ \"Центральный\"    58  29\n",
       "59   Ярославль ТЦ \"Альтаир\"    59  30"
      ]
     },
     "execution_count": 23,
     "metadata": {},
     "output_type": "execute_result"
    }
   ],
   "source": [
    "shops.tail(2)"
   ]
  },
  {
   "cell_type": "code",
   "execution_count": 24,
   "id": "341a7cec",
   "metadata": {},
   "outputs": [
    {
     "data": {
      "text/html": [
       "<div>\n",
       "<style scoped>\n",
       "    .dataframe tbody tr th:only-of-type {\n",
       "        vertical-align: middle;\n",
       "    }\n",
       "\n",
       "    .dataframe tbody tr th {\n",
       "        vertical-align: top;\n",
       "    }\n",
       "\n",
       "    .dataframe thead th {\n",
       "        text-align: right;\n",
       "    }\n",
       "</style>\n",
       "<table border=\"1\" class=\"dataframe\">\n",
       "  <thead>\n",
       "    <tr style=\"text-align: right;\">\n",
       "      <th></th>\n",
       "      <th>상점ID</th>\n",
       "      <th>도시</th>\n",
       "    </tr>\n",
       "  </thead>\n",
       "  <tbody>\n",
       "    <tr>\n",
       "      <th>58</th>\n",
       "      <td>58</td>\n",
       "      <td>29</td>\n",
       "    </tr>\n",
       "    <tr>\n",
       "      <th>59</th>\n",
       "      <td>59</td>\n",
       "      <td>30</td>\n",
       "    </tr>\n",
       "  </tbody>\n",
       "</table>\n",
       "</div>"
      ],
      "text/plain": [
       "    상점ID  도시\n",
       "58    58  29\n",
       "59    59  30"
      ]
     },
     "execution_count": 24,
     "metadata": {},
     "output_type": "execute_result"
    }
   ],
   "source": [
    "# 상점명 피처 제거\n",
    "shops = shops.drop(\"상점명\", axis=1)\n",
    "shops.tail(2)"
   ]
  },
  {
   "cell_type": "markdown",
   "id": "c664e5e5",
   "metadata": {},
   "source": [
    "### items 파생 피처 생성"
   ]
  },
  {
   "cell_type": "code",
   "execution_count": 25,
   "id": "1e7774b5",
   "metadata": {},
   "outputs": [
    {
     "data": {
      "text/html": [
       "<div>\n",
       "<style scoped>\n",
       "    .dataframe tbody tr th:only-of-type {\n",
       "        vertical-align: middle;\n",
       "    }\n",
       "\n",
       "    .dataframe tbody tr th {\n",
       "        vertical-align: top;\n",
       "    }\n",
       "\n",
       "    .dataframe thead th {\n",
       "        text-align: right;\n",
       "    }\n",
       "</style>\n",
       "<table border=\"1\" class=\"dataframe\">\n",
       "  <thead>\n",
       "    <tr style=\"text-align: right;\">\n",
       "      <th></th>\n",
       "      <th>상품명</th>\n",
       "      <th>상품ID</th>\n",
       "      <th>상품분류ID</th>\n",
       "    </tr>\n",
       "  </thead>\n",
       "  <tbody>\n",
       "    <tr>\n",
       "      <th>22168</th>\n",
       "      <td>Яйцо для Little Inu</td>\n",
       "      <td>22168</td>\n",
       "      <td>62</td>\n",
       "    </tr>\n",
       "    <tr>\n",
       "      <th>22169</th>\n",
       "      <td>Яйцо дракона (Игра престолов)</td>\n",
       "      <td>22169</td>\n",
       "      <td>69</td>\n",
       "    </tr>\n",
       "  </tbody>\n",
       "</table>\n",
       "</div>"
      ],
      "text/plain": [
       "                                 상품명   상품ID  상품분류ID\n",
       "22168            Яйцо для Little Inu  22168      62\n",
       "22169  Яйцо дракона (Игра престолов)  22169      69"
      ]
     },
     "execution_count": 25,
     "metadata": {},
     "output_type": "execute_result"
    }
   ],
   "source": [
    "items.tail(2)"
   ]
  },
  {
   "cell_type": "code",
   "execution_count": 26,
   "id": "0407400b",
   "metadata": {},
   "outputs": [],
   "source": [
    "# 상품명 피처 제거\n",
    "items = items.drop(\"상품명\", axis=1)"
   ]
  },
  {
   "cell_type": "code",
   "execution_count": 27,
   "id": "05d58af0",
   "metadata": {},
   "outputs": [
    {
     "data": {
      "text/html": [
       "<div>\n",
       "<style scoped>\n",
       "    .dataframe tbody tr th:only-of-type {\n",
       "        vertical-align: middle;\n",
       "    }\n",
       "\n",
       "    .dataframe tbody tr th {\n",
       "        vertical-align: top;\n",
       "    }\n",
       "\n",
       "    .dataframe thead th {\n",
       "        text-align: right;\n",
       "    }\n",
       "</style>\n",
       "<table border=\"1\" class=\"dataframe\">\n",
       "  <thead>\n",
       "    <tr style=\"text-align: right;\">\n",
       "      <th></th>\n",
       "      <th>월ID</th>\n",
       "    </tr>\n",
       "    <tr>\n",
       "      <th>상품ID</th>\n",
       "      <th></th>\n",
       "    </tr>\n",
       "  </thead>\n",
       "  <tbody>\n",
       "    <tr>\n",
       "      <th>0</th>\n",
       "      <td>20</td>\n",
       "    </tr>\n",
       "    <tr>\n",
       "      <th>1</th>\n",
       "      <td>15</td>\n",
       "    </tr>\n",
       "    <tr>\n",
       "      <th>2</th>\n",
       "      <td>19</td>\n",
       "    </tr>\n",
       "  </tbody>\n",
       "</table>\n",
       "</div>"
      ],
      "text/plain": [
       "      월ID\n",
       "상품ID     \n",
       "0      20\n",
       "1      15\n",
       "2      19"
      ]
     },
     "execution_count": 27,
     "metadata": {},
     "output_type": "execute_result"
    }
   ],
   "source": [
    "# 상품ID 별 월ID의 min값 -> 즉 상품이 가장 처음 팔린 날\n",
    "\n",
    "sales_train.groupby(\"상품ID\").agg({\"월ID\" : \"min\"}).head(3)\n",
    "\n",
    "# sales_train.groupby(\"상품ID\").agg({\"월ID\" : \"min\"})[\"월ID\"]\n",
    "# [\"월ID\"]는 그룹바이 테이블의 col을 선택한 것이다."
   ]
  },
  {
   "cell_type": "code",
   "execution_count": 28,
   "id": "1d29e58d",
   "metadata": {},
   "outputs": [
    {
     "data": {
      "text/html": [
       "<div>\n",
       "<style scoped>\n",
       "    .dataframe tbody tr th:only-of-type {\n",
       "        vertical-align: middle;\n",
       "    }\n",
       "\n",
       "    .dataframe tbody tr th {\n",
       "        vertical-align: top;\n",
       "    }\n",
       "\n",
       "    .dataframe thead th {\n",
       "        text-align: right;\n",
       "    }\n",
       "</style>\n",
       "<table border=\"1\" class=\"dataframe\">\n",
       "  <thead>\n",
       "    <tr style=\"text-align: right;\">\n",
       "      <th></th>\n",
       "      <th>상품ID</th>\n",
       "      <th>상품분류ID</th>\n",
       "      <th>첫 판매월</th>\n",
       "    </tr>\n",
       "  </thead>\n",
       "  <tbody>\n",
       "    <tr>\n",
       "      <th>22167</th>\n",
       "      <td>22167</td>\n",
       "      <td>49</td>\n",
       "      <td>8.0</td>\n",
       "    </tr>\n",
       "    <tr>\n",
       "      <th>22168</th>\n",
       "      <td>22168</td>\n",
       "      <td>62</td>\n",
       "      <td>0.0</td>\n",
       "    </tr>\n",
       "    <tr>\n",
       "      <th>22169</th>\n",
       "      <td>22169</td>\n",
       "      <td>69</td>\n",
       "      <td>14.0</td>\n",
       "    </tr>\n",
       "  </tbody>\n",
       "</table>\n",
       "</div>"
      ],
      "text/plain": [
       "        상품ID  상품분류ID  첫 판매월\n",
       "22167  22167      49    8.0\n",
       "22168  22168      62    0.0\n",
       "22169  22169      69   14.0"
      ]
     },
     "execution_count": 28,
     "metadata": {},
     "output_type": "execute_result"
    }
   ],
   "source": [
    "items[\"첫 판매월\"] = sales_train.groupby(\"상품ID\").agg({\"월ID\" : \"min\"})[\"월ID\"]\n",
    "\n",
    "items.tail(3)"
   ]
  },
  {
   "cell_type": "code",
   "execution_count": 29,
   "id": "6d7226c4",
   "metadata": {},
   "outputs": [
    {
     "data": {
      "text/plain": [
       "368"
      ]
     },
     "execution_count": 29,
     "metadata": {},
     "output_type": "execute_result"
    }
   ],
   "source": [
    "# 한 번도 판매된 적이 없는 상품\n",
    "items[\"첫 판매월\"].isnull().sum()"
   ]
  },
  {
   "cell_type": "code",
   "execution_count": 30,
   "id": "74db52cb",
   "metadata": {},
   "outputs": [
    {
     "name": "stdout",
     "output_type": "stream",
     "text": [
      "33.0\n"
     ]
    }
   ],
   "source": [
    "# 한 번도 판매되지 않은 상품은 판매월을 미뤄서 34로 설정\n",
    "print(items[\"첫 판매월\"].max())\n",
    "items[\"첫 판매월\"] = items[\"첫 판매월\"].fillna(34)"
   ]
  },
  {
   "cell_type": "markdown",
   "id": "33a8c90f",
   "metadata": {},
   "source": [
    "### item_categories 파생 피처 생성 및 인코딩\n",
    "* LabelEncoder()"
   ]
  },
  {
   "cell_type": "code",
   "execution_count": 31,
   "id": "e82331eb",
   "metadata": {},
   "outputs": [
    {
     "data": {
      "text/html": [
       "<div>\n",
       "<style scoped>\n",
       "    .dataframe tbody tr th:only-of-type {\n",
       "        vertical-align: middle;\n",
       "    }\n",
       "\n",
       "    .dataframe tbody tr th {\n",
       "        vertical-align: top;\n",
       "    }\n",
       "\n",
       "    .dataframe thead th {\n",
       "        text-align: right;\n",
       "    }\n",
       "</style>\n",
       "<table border=\"1\" class=\"dataframe\">\n",
       "  <thead>\n",
       "    <tr style=\"text-align: right;\">\n",
       "      <th></th>\n",
       "      <th>상품분류명</th>\n",
       "      <th>상품분류ID</th>\n",
       "    </tr>\n",
       "  </thead>\n",
       "  <tbody>\n",
       "    <tr>\n",
       "      <th>81</th>\n",
       "      <td>Чистые носители (шпиль)</td>\n",
       "      <td>81</td>\n",
       "    </tr>\n",
       "    <tr>\n",
       "      <th>82</th>\n",
       "      <td>Чистые носители (штучные)</td>\n",
       "      <td>82</td>\n",
       "    </tr>\n",
       "    <tr>\n",
       "      <th>83</th>\n",
       "      <td>Элементы питания</td>\n",
       "      <td>83</td>\n",
       "    </tr>\n",
       "  </tbody>\n",
       "</table>\n",
       "</div>"
      ],
      "text/plain": [
       "                        상품분류명  상품분류ID\n",
       "81    Чистые носители (шпиль)      81\n",
       "82  Чистые носители (штучные)      82\n",
       "83           Элементы питания      83"
      ]
     },
     "execution_count": 31,
     "metadata": {},
     "output_type": "execute_result"
    }
   ],
   "source": [
    "item_categories.tail(3)"
   ]
  },
  {
   "cell_type": "code",
   "execution_count": 32,
   "id": "4b7a0c12",
   "metadata": {},
   "outputs": [],
   "source": [
    "# 상품분류명에서 대분류명 추출\n",
    "item_categories[\"대분류\"] = item_categories[\"상품분류명\"].apply(lambda x: x.split()[0])"
   ]
  },
  {
   "cell_type": "code",
   "execution_count": 33,
   "id": "97edd881",
   "metadata": {},
   "outputs": [
    {
     "data": {
      "text/plain": [
       "Игры          14\n",
       "Книги         13\n",
       "Подарки       12\n",
       "Игровые        8\n",
       "Аксессуары     7\n",
       "Музыка         6\n",
       "Программы      6\n",
       "Карты          5\n",
       "Кино           5\n",
       "Служебные      2\n",
       "Чистые         2\n",
       "PC             1\n",
       "Билеты         1\n",
       "Доставка       1\n",
       "Элементы       1\n",
       "Name: 대분류, dtype: int64"
      ]
     },
     "execution_count": 33,
     "metadata": {},
     "output_type": "execute_result"
    }
   ],
   "source": [
    "item_categories[\"대분류\"].value_counts()"
   ]
  },
  {
   "cell_type": "code",
   "execution_count": 34,
   "id": "2854fd04",
   "metadata": {},
   "outputs": [
    {
     "data": {
      "text/html": [
       "<div>\n",
       "<style scoped>\n",
       "    .dataframe tbody tr th:only-of-type {\n",
       "        vertical-align: middle;\n",
       "    }\n",
       "\n",
       "    .dataframe tbody tr th {\n",
       "        vertical-align: top;\n",
       "    }\n",
       "\n",
       "    .dataframe thead th {\n",
       "        text-align: right;\n",
       "    }\n",
       "</style>\n",
       "<table border=\"1\" class=\"dataframe\">\n",
       "  <thead>\n",
       "    <tr style=\"text-align: right;\">\n",
       "      <th></th>\n",
       "      <th>상품분류명</th>\n",
       "      <th>상품분류ID</th>\n",
       "      <th>대분류</th>\n",
       "    </tr>\n",
       "  </thead>\n",
       "  <tbody>\n",
       "    <tr>\n",
       "      <th>81</th>\n",
       "      <td>Чистые носители (шпиль)</td>\n",
       "      <td>81</td>\n",
       "      <td>etc</td>\n",
       "    </tr>\n",
       "    <tr>\n",
       "      <th>82</th>\n",
       "      <td>Чистые носители (штучные)</td>\n",
       "      <td>82</td>\n",
       "      <td>etc</td>\n",
       "    </tr>\n",
       "    <tr>\n",
       "      <th>83</th>\n",
       "      <td>Элементы питания</td>\n",
       "      <td>83</td>\n",
       "      <td>etc</td>\n",
       "    </tr>\n",
       "  </tbody>\n",
       "</table>\n",
       "</div>"
      ],
      "text/plain": [
       "                        상품분류명  상품분류ID  대분류\n",
       "81    Чистые носители (шпиль)      81  etc\n",
       "82  Чистые носители (штучные)      82  etc\n",
       "83           Элементы питания      83  etc"
      ]
     },
     "execution_count": 34,
     "metadata": {},
     "output_type": "execute_result"
    }
   ],
   "source": [
    "# 대분류의 고유값 개수가 5개 미만인 것은 etc로 처리\n",
    "def make_etc(x):\n",
    "    if len(item_categories[item_categories[\"대분류\"]==x]) >=5:\n",
    "        return x\n",
    "    else:\n",
    "        return \"etc\"\n",
    "\n",
    "item_categories[\"대분류\"] = item_categories[\"대분류\"].apply(make_etc)\n",
    "item_categories.tail(3)"
   ]
  },
  {
   "cell_type": "markdown",
   "id": "8c9c4070",
   "metadata": {},
   "source": [
    "#### label encoding"
   ]
  },
  {
   "cell_type": "code",
   "execution_count": 35,
   "id": "7b216734",
   "metadata": {},
   "outputs": [],
   "source": [
    "lael_encoder = LabelEncoder()\n",
    "\n",
    "item_categories[\"대분류\"] = label_encoder.fit_transform(item_categories[\"대분류\"])\n",
    "item_categories = item_categories.drop(\"상품분류명\", axis=1)"
   ]
  },
  {
   "cell_type": "code",
   "execution_count": 36,
   "id": "c74acf9c",
   "metadata": {},
   "outputs": [
    {
     "data": {
      "text/html": [
       "<div>\n",
       "<style scoped>\n",
       "    .dataframe tbody tr th:only-of-type {\n",
       "        vertical-align: middle;\n",
       "    }\n",
       "\n",
       "    .dataframe tbody tr th {\n",
       "        vertical-align: top;\n",
       "    }\n",
       "\n",
       "    .dataframe thead th {\n",
       "        text-align: right;\n",
       "    }\n",
       "</style>\n",
       "<table border=\"1\" class=\"dataframe\">\n",
       "  <thead>\n",
       "    <tr style=\"text-align: right;\">\n",
       "      <th></th>\n",
       "      <th>상품분류ID</th>\n",
       "      <th>대분류</th>\n",
       "    </tr>\n",
       "  </thead>\n",
       "  <tbody>\n",
       "    <tr>\n",
       "      <th>81</th>\n",
       "      <td>81</td>\n",
       "      <td>0</td>\n",
       "    </tr>\n",
       "    <tr>\n",
       "      <th>82</th>\n",
       "      <td>82</td>\n",
       "      <td>0</td>\n",
       "    </tr>\n",
       "    <tr>\n",
       "      <th>83</th>\n",
       "      <td>83</td>\n",
       "      <td>0</td>\n",
       "    </tr>\n",
       "  </tbody>\n",
       "</table>\n",
       "</div>"
      ],
      "text/plain": [
       "    상품분류ID  대분류\n",
       "81      81    0\n",
       "82      82    0\n",
       "83      83    0"
      ]
     },
     "execution_count": 36,
     "metadata": {},
     "output_type": "execute_result"
    }
   ],
   "source": [
    "item_categories.tail(3)"
   ]
  },
  {
   "cell_type": "markdown",
   "id": "b3595e5c",
   "metadata": {},
   "source": [
    "## 데이터 조합"
   ]
  },
  {
   "cell_type": "markdown",
   "id": "bba1808e",
   "metadata": {},
   "source": [
    "### 월간 판매량, 평균 판매가"
   ]
  },
  {
   "cell_type": "markdown",
   "id": "b46c914e",
   "metadata": {},
   "source": [
    "#### 월-상점-상품 데이터 생성"
   ]
  },
  {
   "cell_type": "code",
   "execution_count": 37,
   "id": "bea80eff",
   "metadata": {},
   "outputs": [
    {
     "data": {
      "text/plain": [
       "array([ 0,  1,  2,  3,  4,  5,  6,  7,  8,  9, 10, 11, 12, 13, 14, 15, 16,\n",
       "       17, 18, 19, 20, 21, 22, 23, 24, 25, 26, 27, 28, 29, 30, 31, 32, 33],\n",
       "      dtype=int8)"
      ]
     },
     "execution_count": 37,
     "metadata": {},
     "output_type": "execute_result"
    }
   ],
   "source": [
    "sales_train[\"월ID\"].unique()"
   ]
  },
  {
   "cell_type": "code",
   "execution_count": 38,
   "id": "8f5e9ecf",
   "metadata": {},
   "outputs": [
    {
     "data": {
      "text/plain": [
       "array([59, 25, 24, 23, 19, 22, 18, 21, 28, 27, 29, 26,  4,  6,  2,  3,  7,\n",
       "       57, 58, 16, 15,  8, 11, 14, 13, 12, 53, 31, 30, 32, 35, 56, 54, 47,\n",
       "       50, 42, 43, 52, 51, 41, 38, 44, 37, 46, 45], dtype=int8)"
      ]
     },
     "execution_count": 38,
     "metadata": {},
     "output_type": "execute_result"
    }
   ],
   "source": [
    "sales_train.loc[sales_train[\"월ID\"] == 0, \"상점ID\"].unique()"
   ]
  },
  {
   "cell_type": "code",
   "execution_count": 39,
   "id": "ef0ae72c",
   "metadata": {},
   "outputs": [],
   "source": [
    "from itertools import product\n",
    "\n",
    "train = []\n",
    "for i in sales_train[\"월ID\"].unique():\n",
    "    all_shop = sales_train.loc[sales_train[\"월ID\"] == i, \"상점ID\"].unique()\n",
    "    all_item = sales_train.loc[sales_train[\"월ID\"] == i, \"상품ID\"].unique()\n",
    "    train.append(np.array(list(product([i], all_shop, all_item))))\n",
    "col_features = [\"월ID\", \"상점ID\", \"상품ID\"]\n",
    "train = pd.DataFrame(np.vstack(train), columns=col_features)"
   ]
  },
  {
   "cell_type": "code",
   "execution_count": 40,
   "id": "4e15642c",
   "metadata": {},
   "outputs": [
    {
     "data": {
      "text/html": [
       "<div>\n",
       "<style scoped>\n",
       "    .dataframe tbody tr th:only-of-type {\n",
       "        vertical-align: middle;\n",
       "    }\n",
       "\n",
       "    .dataframe tbody tr th {\n",
       "        vertical-align: top;\n",
       "    }\n",
       "\n",
       "    .dataframe thead th {\n",
       "        text-align: right;\n",
       "    }\n",
       "</style>\n",
       "<table border=\"1\" class=\"dataframe\">\n",
       "  <thead>\n",
       "    <tr style=\"text-align: right;\">\n",
       "      <th></th>\n",
       "      <th>월ID</th>\n",
       "      <th>상점ID</th>\n",
       "      <th>상품ID</th>\n",
       "    </tr>\n",
       "  </thead>\n",
       "  <tbody>\n",
       "    <tr>\n",
       "      <th>10812765</th>\n",
       "      <td>33</td>\n",
       "      <td>21</td>\n",
       "      <td>7640</td>\n",
       "    </tr>\n",
       "    <tr>\n",
       "      <th>10812766</th>\n",
       "      <td>33</td>\n",
       "      <td>21</td>\n",
       "      <td>7632</td>\n",
       "    </tr>\n",
       "    <tr>\n",
       "      <th>10812767</th>\n",
       "      <td>33</td>\n",
       "      <td>21</td>\n",
       "      <td>7440</td>\n",
       "    </tr>\n",
       "  </tbody>\n",
       "</table>\n",
       "</div>"
      ],
      "text/plain": [
       "          월ID  상점ID  상품ID\n",
       "10812765   33    21  7640\n",
       "10812766   33    21  7632\n",
       "10812767   33    21  7440"
      ]
     },
     "execution_count": 40,
     "metadata": {},
     "output_type": "execute_result"
    }
   ],
   "source": [
    "train.tail(3)"
   ]
  },
  {
   "cell_type": "markdown",
   "id": "03ba5a0c",
   "metadata": {},
   "source": [
    "#### groupby를 통해 판매량, 판매가 생성 "
   ]
  },
  {
   "cell_type": "code",
   "execution_count": 41,
   "id": "992d218a",
   "metadata": {},
   "outputs": [
    {
     "data": {
      "text/html": [
       "<div>\n",
       "<style scoped>\n",
       "    .dataframe tbody tr th:only-of-type {\n",
       "        vertical-align: middle;\n",
       "    }\n",
       "\n",
       "    .dataframe tbody tr th {\n",
       "        vertical-align: top;\n",
       "    }\n",
       "\n",
       "    .dataframe thead th {\n",
       "        text-align: right;\n",
       "    }\n",
       "</style>\n",
       "<table border=\"1\" class=\"dataframe\">\n",
       "  <thead>\n",
       "    <tr style=\"text-align: right;\">\n",
       "      <th></th>\n",
       "      <th>월ID</th>\n",
       "      <th>상점ID</th>\n",
       "      <th>상품ID</th>\n",
       "      <th>판매량</th>\n",
       "      <th>판매가</th>\n",
       "    </tr>\n",
       "  </thead>\n",
       "  <tbody>\n",
       "    <tr>\n",
       "      <th>1607368</th>\n",
       "      <td>33</td>\n",
       "      <td>59</td>\n",
       "      <td>22091</td>\n",
       "      <td>1</td>\n",
       "      <td>179.0</td>\n",
       "    </tr>\n",
       "    <tr>\n",
       "      <th>1607369</th>\n",
       "      <td>33</td>\n",
       "      <td>59</td>\n",
       "      <td>22100</td>\n",
       "      <td>1</td>\n",
       "      <td>629.0</td>\n",
       "    </tr>\n",
       "    <tr>\n",
       "      <th>1607370</th>\n",
       "      <td>33</td>\n",
       "      <td>59</td>\n",
       "      <td>22102</td>\n",
       "      <td>1</td>\n",
       "      <td>1250.0</td>\n",
       "    </tr>\n",
       "  </tbody>\n",
       "</table>\n",
       "</div>"
      ],
      "text/plain": [
       "         월ID  상점ID   상품ID  판매량     판매가\n",
       "1607368   33    59  22091    1   179.0\n",
       "1607369   33    59  22100    1   629.0\n",
       "1607370   33    59  22102    1  1250.0"
      ]
     },
     "execution_count": 41,
     "metadata": {},
     "output_type": "execute_result"
    }
   ],
   "source": [
    "group = sales_train.groupby(col_features).agg({\"판매량\": \"sum\", \"판매가\":\"mean\"})\n",
    "group = group.reset_index()\n",
    "group.tail(3)"
   ]
  },
  {
   "cell_type": "code",
   "execution_count": 42,
   "id": "9cfbb9a9",
   "metadata": {},
   "outputs": [
    {
     "data": {
      "text/html": [
       "<div>\n",
       "<style scoped>\n",
       "    .dataframe tbody tr th:only-of-type {\n",
       "        vertical-align: middle;\n",
       "    }\n",
       "\n",
       "    .dataframe tbody tr th {\n",
       "        vertical-align: top;\n",
       "    }\n",
       "\n",
       "    .dataframe thead th {\n",
       "        text-align: right;\n",
       "    }\n",
       "</style>\n",
       "<table border=\"1\" class=\"dataframe\">\n",
       "  <thead>\n",
       "    <tr style=\"text-align: right;\">\n",
       "      <th></th>\n",
       "      <th>월ID</th>\n",
       "      <th>상점ID</th>\n",
       "      <th>상품ID</th>\n",
       "      <th>월간 판매량</th>\n",
       "      <th>평균 판매가</th>\n",
       "    </tr>\n",
       "  </thead>\n",
       "  <tbody>\n",
       "    <tr>\n",
       "      <th>0</th>\n",
       "      <td>0</td>\n",
       "      <td>59</td>\n",
       "      <td>22154</td>\n",
       "      <td>1.0</td>\n",
       "      <td>999.0</td>\n",
       "    </tr>\n",
       "    <tr>\n",
       "      <th>1</th>\n",
       "      <td>0</td>\n",
       "      <td>59</td>\n",
       "      <td>2552</td>\n",
       "      <td>NaN</td>\n",
       "      <td>NaN</td>\n",
       "    </tr>\n",
       "    <tr>\n",
       "      <th>2</th>\n",
       "      <td>0</td>\n",
       "      <td>59</td>\n",
       "      <td>2554</td>\n",
       "      <td>NaN</td>\n",
       "      <td>NaN</td>\n",
       "    </tr>\n",
       "  </tbody>\n",
       "</table>\n",
       "</div>"
      ],
      "text/plain": [
       "   월ID  상점ID   상품ID  월간 판매량  평균 판매가\n",
       "0    0    59  22154     1.0   999.0\n",
       "1    0    59   2552     NaN     NaN\n",
       "2    0    59   2554     NaN     NaN"
      ]
     },
     "execution_count": 42,
     "metadata": {},
     "output_type": "execute_result"
    }
   ],
   "source": [
    "group = group.rename(columns={\"판매량\":\"월간 판매량\",\"판매가\":\"평균 판매가\"})\n",
    "train = train.merge(group, on=col_features, how=\"left\")\n",
    "train.head(3)"
   ]
  },
  {
   "cell_type": "markdown",
   "id": "052c5fdb",
   "metadata": {},
   "source": [
    "### 기준 피처별 상품 판매건수"
   ]
  },
  {
   "cell_type": "markdown",
   "id": "d61b1775",
   "metadata": {},
   "source": [
    "#### 상품 판매건수 피처 추가"
   ]
  },
  {
   "cell_type": "code",
   "execution_count": 43,
   "id": "2d85f991",
   "metadata": {},
   "outputs": [
    {
     "data": {
      "text/html": [
       "<div>\n",
       "<style scoped>\n",
       "    .dataframe tbody tr th:only-of-type {\n",
       "        vertical-align: middle;\n",
       "    }\n",
       "\n",
       "    .dataframe tbody tr th {\n",
       "        vertical-align: top;\n",
       "    }\n",
       "\n",
       "    .dataframe thead th {\n",
       "        text-align: right;\n",
       "    }\n",
       "</style>\n",
       "<table border=\"1\" class=\"dataframe\">\n",
       "  <thead>\n",
       "    <tr style=\"text-align: right;\">\n",
       "      <th></th>\n",
       "      <th>월ID</th>\n",
       "      <th>상점ID</th>\n",
       "      <th>상품ID</th>\n",
       "      <th>판매량</th>\n",
       "    </tr>\n",
       "  </thead>\n",
       "  <tbody>\n",
       "    <tr>\n",
       "      <th>1607368</th>\n",
       "      <td>33</td>\n",
       "      <td>59</td>\n",
       "      <td>22091</td>\n",
       "      <td>1</td>\n",
       "    </tr>\n",
       "    <tr>\n",
       "      <th>1607369</th>\n",
       "      <td>33</td>\n",
       "      <td>59</td>\n",
       "      <td>22100</td>\n",
       "      <td>1</td>\n",
       "    </tr>\n",
       "    <tr>\n",
       "      <th>1607370</th>\n",
       "      <td>33</td>\n",
       "      <td>59</td>\n",
       "      <td>22102</td>\n",
       "      <td>1</td>\n",
       "    </tr>\n",
       "  </tbody>\n",
       "</table>\n",
       "</div>"
      ],
      "text/plain": [
       "         월ID  상점ID   상품ID  판매량\n",
       "1607368   33    59  22091    1\n",
       "1607369   33    59  22100    1\n",
       "1607370   33    59  22102    1"
      ]
     },
     "execution_count": 43,
     "metadata": {},
     "output_type": "execute_result"
    }
   ],
   "source": [
    "group = sales_train.groupby(col_features).agg({\"판매량\":\"count\"}) # 판매량을 count 하여 건수를 count\n",
    "group = group.reset_index()\n",
    "group.tail(3)"
   ]
  },
  {
   "cell_type": "code",
   "execution_count": 44,
   "id": "8b1b4657",
   "metadata": {},
   "outputs": [
    {
     "data": {
      "text/html": [
       "<div>\n",
       "<style scoped>\n",
       "    .dataframe tbody tr th:only-of-type {\n",
       "        vertical-align: middle;\n",
       "    }\n",
       "\n",
       "    .dataframe tbody tr th {\n",
       "        vertical-align: top;\n",
       "    }\n",
       "\n",
       "    .dataframe thead th {\n",
       "        text-align: right;\n",
       "    }\n",
       "</style>\n",
       "<table border=\"1\" class=\"dataframe\">\n",
       "  <thead>\n",
       "    <tr style=\"text-align: right;\">\n",
       "      <th></th>\n",
       "      <th>월ID</th>\n",
       "      <th>상점ID</th>\n",
       "      <th>상품ID</th>\n",
       "      <th>월간 판매량</th>\n",
       "      <th>평균 판매가</th>\n",
       "      <th>판매건수</th>\n",
       "    </tr>\n",
       "  </thead>\n",
       "  <tbody>\n",
       "    <tr>\n",
       "      <th>0</th>\n",
       "      <td>0</td>\n",
       "      <td>59</td>\n",
       "      <td>22154</td>\n",
       "      <td>1.0</td>\n",
       "      <td>999.0</td>\n",
       "      <td>1.0</td>\n",
       "    </tr>\n",
       "    <tr>\n",
       "      <th>1</th>\n",
       "      <td>0</td>\n",
       "      <td>59</td>\n",
       "      <td>2552</td>\n",
       "      <td>NaN</td>\n",
       "      <td>NaN</td>\n",
       "      <td>NaN</td>\n",
       "    </tr>\n",
       "    <tr>\n",
       "      <th>2</th>\n",
       "      <td>0</td>\n",
       "      <td>59</td>\n",
       "      <td>2554</td>\n",
       "      <td>NaN</td>\n",
       "      <td>NaN</td>\n",
       "      <td>NaN</td>\n",
       "    </tr>\n",
       "  </tbody>\n",
       "</table>\n",
       "</div>"
      ],
      "text/plain": [
       "   월ID  상점ID   상품ID  월간 판매량  평균 판매가  판매건수\n",
       "0    0    59  22154     1.0   999.0   1.0\n",
       "1    0    59   2552     NaN     NaN   NaN\n",
       "2    0    59   2554     NaN     NaN   NaN"
      ]
     },
     "execution_count": 44,
     "metadata": {},
     "output_type": "execute_result"
    }
   ],
   "source": [
    "# 판매건수로 이름 변경\n",
    "group = group.rename(columns={\"판매량\":\"판매건수\"})\n",
    "\n",
    "train = train.merge(group, on=col_features, how=\"left\")\n",
    "\n",
    "train.head(3)"
   ]
  },
  {
   "cell_type": "markdown",
   "id": "95bf9c54",
   "metadata": {},
   "source": [
    "## 데이터 합치기"
   ]
  },
  {
   "cell_type": "markdown",
   "id": "7619099b",
   "metadata": {},
   "source": [
    "### train_test 합치기"
   ]
  },
  {
   "cell_type": "code",
   "execution_count": 45,
   "id": "1c6268e4",
   "metadata": {},
   "outputs": [
    {
     "data": {
      "text/html": [
       "<div>\n",
       "<style scoped>\n",
       "    .dataframe tbody tr th:only-of-type {\n",
       "        vertical-align: middle;\n",
       "    }\n",
       "\n",
       "    .dataframe tbody tr th {\n",
       "        vertical-align: top;\n",
       "    }\n",
       "\n",
       "    .dataframe thead th {\n",
       "        text-align: right;\n",
       "    }\n",
       "</style>\n",
       "<table border=\"1\" class=\"dataframe\">\n",
       "  <thead>\n",
       "    <tr style=\"text-align: right;\">\n",
       "      <th></th>\n",
       "      <th>ID</th>\n",
       "      <th>상점ID</th>\n",
       "      <th>상품ID</th>\n",
       "    </tr>\n",
       "  </thead>\n",
       "  <tbody>\n",
       "    <tr>\n",
       "      <th>214197</th>\n",
       "      <td>214197</td>\n",
       "      <td>45</td>\n",
       "      <td>15757</td>\n",
       "    </tr>\n",
       "    <tr>\n",
       "      <th>214198</th>\n",
       "      <td>214198</td>\n",
       "      <td>45</td>\n",
       "      <td>19648</td>\n",
       "    </tr>\n",
       "    <tr>\n",
       "      <th>214199</th>\n",
       "      <td>214199</td>\n",
       "      <td>45</td>\n",
       "      <td>969</td>\n",
       "    </tr>\n",
       "  </tbody>\n",
       "</table>\n",
       "</div>"
      ],
      "text/plain": [
       "            ID  상점ID   상품ID\n",
       "214197  214197    45  15757\n",
       "214198  214198    45  19648\n",
       "214199  214199    45    969"
      ]
     },
     "execution_count": 45,
     "metadata": {},
     "output_type": "execute_result"
    }
   ],
   "source": [
    "test.tail(3)"
   ]
  },
  {
   "cell_type": "code",
   "execution_count": 46,
   "id": "1323c8f6",
   "metadata": {},
   "outputs": [
    {
     "data": {
      "text/html": [
       "<div>\n",
       "<style scoped>\n",
       "    .dataframe tbody tr th:only-of-type {\n",
       "        vertical-align: middle;\n",
       "    }\n",
       "\n",
       "    .dataframe tbody tr th {\n",
       "        vertical-align: top;\n",
       "    }\n",
       "\n",
       "    .dataframe thead th {\n",
       "        text-align: right;\n",
       "    }\n",
       "</style>\n",
       "<table border=\"1\" class=\"dataframe\">\n",
       "  <thead>\n",
       "    <tr style=\"text-align: right;\">\n",
       "      <th></th>\n",
       "      <th>월ID</th>\n",
       "      <th>상점ID</th>\n",
       "      <th>상품ID</th>\n",
       "      <th>월간 판매량</th>\n",
       "      <th>평균 판매가</th>\n",
       "      <th>판매건수</th>\n",
       "    </tr>\n",
       "  </thead>\n",
       "  <tbody>\n",
       "    <tr>\n",
       "      <th>11026965</th>\n",
       "      <td>34</td>\n",
       "      <td>45</td>\n",
       "      <td>15757</td>\n",
       "      <td>0.0</td>\n",
       "      <td>0.0</td>\n",
       "      <td>0.0</td>\n",
       "    </tr>\n",
       "    <tr>\n",
       "      <th>11026966</th>\n",
       "      <td>34</td>\n",
       "      <td>45</td>\n",
       "      <td>19648</td>\n",
       "      <td>0.0</td>\n",
       "      <td>0.0</td>\n",
       "      <td>0.0</td>\n",
       "    </tr>\n",
       "    <tr>\n",
       "      <th>11026967</th>\n",
       "      <td>34</td>\n",
       "      <td>45</td>\n",
       "      <td>969</td>\n",
       "      <td>0.0</td>\n",
       "      <td>0.0</td>\n",
       "      <td>0.0</td>\n",
       "    </tr>\n",
       "  </tbody>\n",
       "</table>\n",
       "</div>"
      ],
      "text/plain": [
       "          월ID  상점ID   상품ID  월간 판매량  평균 판매가  판매건수\n",
       "11026965   34    45  15757     0.0     0.0   0.0\n",
       "11026966   34    45  19648     0.0     0.0   0.0\n",
       "11026967   34    45    969     0.0     0.0   0.0"
      ]
     },
     "execution_count": 46,
     "metadata": {},
     "output_type": "execute_result"
    }
   ],
   "source": [
    "# test 데이터의  월ID를 34로 만들어두기\n",
    "test[\"월ID\"] = 34\n",
    "\n",
    "# concat\n",
    "all_data = pd.concat([train, test.drop(\"ID\", axis=1)], ignore_index=True, keys=col_features)\n",
    "\n",
    "# 결측값을 0 으로 대체\n",
    "all_data = all_data.fillna(0)\n",
    "\n",
    "all_data.tail(3)"
   ]
  },
  {
   "cell_type": "markdown",
   "id": "ce790ead",
   "metadata": {},
   "source": [
    "### 데이터 병합, 다운캐스팅"
   ]
  },
  {
   "cell_type": "code",
   "execution_count": 47,
   "id": "160b5d44",
   "metadata": {},
   "outputs": [
    {
     "data": {
      "text/html": [
       "<div>\n",
       "<style scoped>\n",
       "    .dataframe tbody tr th:only-of-type {\n",
       "        vertical-align: middle;\n",
       "    }\n",
       "\n",
       "    .dataframe tbody tr th {\n",
       "        vertical-align: top;\n",
       "    }\n",
       "\n",
       "    .dataframe thead th {\n",
       "        text-align: right;\n",
       "    }\n",
       "</style>\n",
       "<table border=\"1\" class=\"dataframe\">\n",
       "  <thead>\n",
       "    <tr style=\"text-align: right;\">\n",
       "      <th></th>\n",
       "      <th>월ID</th>\n",
       "      <th>상점ID</th>\n",
       "      <th>상품ID</th>\n",
       "      <th>월간 판매량</th>\n",
       "      <th>평균 판매가</th>\n",
       "      <th>판매건수</th>\n",
       "      <th>도시</th>\n",
       "      <th>상품분류ID</th>\n",
       "      <th>첫 판매월</th>\n",
       "      <th>대분류</th>\n",
       "    </tr>\n",
       "  </thead>\n",
       "  <tbody>\n",
       "    <tr>\n",
       "      <th>11026965</th>\n",
       "      <td>34</td>\n",
       "      <td>45</td>\n",
       "      <td>15757</td>\n",
       "      <td>0.0</td>\n",
       "      <td>0.0</td>\n",
       "      <td>0.0</td>\n",
       "      <td>20</td>\n",
       "      <td>55</td>\n",
       "      <td>0.0</td>\n",
       "      <td>7</td>\n",
       "    </tr>\n",
       "    <tr>\n",
       "      <th>11026966</th>\n",
       "      <td>34</td>\n",
       "      <td>45</td>\n",
       "      <td>19648</td>\n",
       "      <td>0.0</td>\n",
       "      <td>0.0</td>\n",
       "      <td>0.0</td>\n",
       "      <td>20</td>\n",
       "      <td>40</td>\n",
       "      <td>23.0</td>\n",
       "      <td>5</td>\n",
       "    </tr>\n",
       "    <tr>\n",
       "      <th>11026967</th>\n",
       "      <td>34</td>\n",
       "      <td>45</td>\n",
       "      <td>969</td>\n",
       "      <td>0.0</td>\n",
       "      <td>0.0</td>\n",
       "      <td>0.0</td>\n",
       "      <td>20</td>\n",
       "      <td>37</td>\n",
       "      <td>17.0</td>\n",
       "      <td>5</td>\n",
       "    </tr>\n",
       "  </tbody>\n",
       "</table>\n",
       "</div>"
      ],
      "text/plain": [
       "          월ID  상점ID   상품ID  월간 판매량  평균 판매가  판매건수  도시  상품분류ID  첫 판매월  대분류\n",
       "11026965   34    45  15757     0.0     0.0   0.0  20      55    0.0    7\n",
       "11026966   34    45  19648     0.0     0.0   0.0  20      40   23.0    5\n",
       "11026967   34    45    969     0.0     0.0   0.0  20      37   17.0    5"
      ]
     },
     "execution_count": 47,
     "metadata": {},
     "output_type": "execute_result"
    }
   ],
   "source": [
    "# 데이터 병합\n",
    "all_data = all_data.merge(shops, on=\"상점ID\", how=\"left\")\n",
    "all_data = all_data.merge(items, on=\"상품ID\", how=\"left\")\n",
    "all_data = all_data.merge(item_categories, on=\"상품분류ID\", how=\"left\")\n",
    "all_data.tail(3)"
   ]
  },
  {
   "cell_type": "code",
   "execution_count": 48,
   "id": "10096dd6",
   "metadata": {},
   "outputs": [
    {
     "name": "stdout",
     "output_type": "stream",
     "text": [
      " 59.6% 압축됨\n"
     ]
    }
   ],
   "source": [
    "# 다운캐스팅\n",
    "all_data = downcast(all_data)"
   ]
  },
  {
   "cell_type": "code",
   "execution_count": 49,
   "id": "635c41cf",
   "metadata": {},
   "outputs": [
    {
     "name": "stdout",
     "output_type": "stream",
     "text": [
      "<class 'pandas.core.frame.DataFrame'>\n",
      "Int64Index: 11026968 entries, 0 to 11026967\n",
      "Data columns (total 10 columns):\n",
      " #   Column  Dtype  \n",
      "---  ------  -----  \n",
      " 0   월ID     int8   \n",
      " 1   상점ID    int8   \n",
      " 2   상품ID    int16  \n",
      " 3   월간 판매량  int16  \n",
      " 4   평균 판매가  float32\n",
      " 5   판매건수    int8   \n",
      " 6   도시      int8   \n",
      " 7   상품분류ID  int8   \n",
      " 8   첫 판매월   int8   \n",
      " 9   대분류     int8   \n",
      "dtypes: float32(1), int16(2), int8(7)\n",
      "memory usage: 241.9 MB\n"
     ]
    }
   ],
   "source": [
    "all_data.info()"
   ]
  },
  {
   "cell_type": "markdown",
   "id": "0b9861b7",
   "metadata": {},
   "source": [
    "### 가비지 처리"
   ]
  },
  {
   "cell_type": "code",
   "execution_count": 50,
   "id": "5828394f",
   "metadata": {},
   "outputs": [
    {
     "data": {
      "text/plain": [
       "0"
      ]
     },
     "execution_count": 50,
     "metadata": {},
     "output_type": "execute_result"
    }
   ],
   "source": [
    "del shops, items, item_categories\n",
    "gc.collect()"
   ]
  },
  {
   "cell_type": "markdown",
   "id": "a36431a3",
   "metadata": {},
   "source": [
    "## 시차 피처 생성\n",
    "time lag feature\n",
    "* 시차 피처는 보통 시계열 모델의 성능을 높여준다.\n",
    "* 징검다리 피쳐 생성\n",
    "    * (상품)별 평균 판매량\n",
    "    * (상품+도시)별 평균 판매량\n",
    "    * (상점+상품범주)별 평균 판매량\n",
    "* 시차 피쳐 생성\n",
    "    * 월간 판매량\n",
    "    * 판매건수, 평균 판매가\n",
    "    * 평균 판매량\n",
    "    \n",
    "* 월간 평균 판매량 - 피쳐 생성"
   ]
  },
  {
   "cell_type": "markdown",
   "id": "f99a84aa",
   "metadata": {},
   "source": [
    "### 징검다리 피쳐 생성"
   ]
  },
  {
   "cell_type": "code",
   "execution_count": 51,
   "id": "92e44cb4",
   "metadata": {},
   "outputs": [
    {
     "data": {
      "text/plain": [
       "['월ID', '상점ID', '상품ID']"
      ]
     },
     "execution_count": 51,
     "metadata": {},
     "output_type": "execute_result"
    }
   ],
   "source": [
    "col_features"
   ]
  },
  {
   "cell_type": "markdown",
   "id": "d917b45b",
   "metadata": {},
   "source": [
    "#### 월간 평균 판매량 생성 함수 정의"
   ]
  },
  {
   "cell_type": "code",
   "execution_count": 52,
   "id": "91da9dff",
   "metadata": {},
   "outputs": [],
   "source": [
    "def add_mean_features(df, mean_features, col_features):\n",
    "    # mean_features : 새로 만들 월간 평균 판매량 파생 피처명을 저장\n",
    "    # col_features : 기준 피처\n",
    "    \n",
    "    # 기준 피처 확인 - 기준피처의 첫번째 요소가 \"월ID\"가 맞는지 확인, 기준피처의 개수가 2~3개인지 확인\n",
    "    assert (col_features[0] == \"월ID\") and (len(col_features) in [2, 3])\n",
    "    \n",
    "    # 파생 피처명 설정 (feature_name)\n",
    "    if len(col_features) == 2:\n",
    "        feature_name = col_features[1] + \"별 평균 판매량\"\n",
    "    else:\n",
    "        feature_name = col_features[1] + \" \" + col_features[2] + \"별 평균 판매량\"\n",
    "    \n",
    "    # 기준 피처를 토대로 그룹화 -> 월간 평균 판매량 구하기\n",
    "    group = df.groupby(col_features).agg({\"월간 판매량\" : \"mean\"})  # df[col_features] 의  월간 판매량의 평균 -> 월간 평균 판매량\n",
    "    group = group.reset_index() # index reset\n",
    "    group = group.rename(columns={\"월간 판매량\": feature_name}) # groupby col 이름을 앞서 설정해둔 feature_name으로 설정\n",
    "    \n",
    "    # df 와 group의 병합\n",
    "    df = df.merge(group, on=col_features, how=\"left\")\n",
    "    \n",
    "    # 다운캐스팅\n",
    "    df = downcast(df, verbose=False) # 몇 % 압축했다는 print를 출력하지 않음\n",
    "    \n",
    "    # 새로 만든 feature_name 를 mean_feature 리스트에 넣음\n",
    "    mean_features.append(feature_name)\n",
    "    \n",
    "    # 가비지 컬렉션 - 필요없는 변수 제거\n",
    "    del group\n",
    "    gc.collect()\n",
    "    \n",
    "    return df, mean_features"
   ]
  },
  {
   "cell_type": "markdown",
   "id": "78e40a19",
   "metadata": {},
   "source": [
    "#### 상품별 월간평균판매량"
   ]
  },
  {
   "cell_type": "code",
   "execution_count": 53,
   "id": "95b348d6",
   "metadata": {},
   "outputs": [],
   "source": [
    "item_mean_features = []\n",
    "\n",
    "# 기준피처 : 월ID, 상품ID\n",
    "all_data, item_mean_features = add_mean_features(df=all_data, mean_features=item_mean_features, col_features=[\"월ID\",\"상품ID\"])\n",
    "\n",
    "# 기준피처 : 월ID, 상품ID, 도시\n",
    "all_data, item_mean_features = add_mean_features(df=all_data, mean_features=item_mean_features, col_features=[\"월ID\", \"상품ID\", \"도시\"])"
   ]
  },
  {
   "cell_type": "code",
   "execution_count": 54,
   "id": "700005c2",
   "metadata": {},
   "outputs": [
    {
     "data": {
      "text/plain": [
       "['상품ID별 평균 판매량', '상품ID 도시별 평균 판매량']"
      ]
     },
     "execution_count": 54,
     "metadata": {},
     "output_type": "execute_result"
    }
   ],
   "source": [
    "item_mean_features"
   ]
  },
  {
   "cell_type": "markdown",
   "id": "fe85675c",
   "metadata": {},
   "source": [
    "#### 상점별 월간평균판매량"
   ]
  },
  {
   "cell_type": "code",
   "execution_count": 55,
   "id": "788a1ada",
   "metadata": {},
   "outputs": [],
   "source": [
    "shop_mean_features = []\n",
    "\n",
    "# 기준피쳐 : 월ID, 상점ID, 상품분류ID\n",
    "all_data, shop_mean_features = add_mean_features(df=all_data, mean_features=shop_mean_features, col_features=[\"월ID\",\"상점ID\",\"상품분류ID\"])"
   ]
  },
  {
   "cell_type": "code",
   "execution_count": 56,
   "id": "692031a9",
   "metadata": {},
   "outputs": [
    {
     "data": {
      "text/plain": [
       "['상점ID 상품분류ID별 평균 판매량']"
      ]
     },
     "execution_count": 56,
     "metadata": {},
     "output_type": "execute_result"
    }
   ],
   "source": [
    "shop_mean_features"
   ]
  },
  {
   "cell_type": "markdown",
   "id": "b4d608fa",
   "metadata": {},
   "source": [
    "### 시차피쳐 생성"
   ]
  },
  {
   "cell_type": "markdown",
   "id": "23a46df7",
   "metadata": {},
   "source": [
    "#### 시차피쳐 생성 함수 정의\n",
    "* df : 원본데이터\n",
    "* lag_features_to_clip : 값의 범위를 0~20 사이로 제한할 피쳐 list\n",
    "* col_features : 기준피쳐\n",
    "* lag_feature : 시차를 만들 피처\n",
    "* nlags : 시차\n",
    "    1. 한 달 전 시차피처만 생성\n",
    "    1. 한 달 전, 두 달 전 시차 피처 생성\n",
    "    1. 한 달 전, 두 달 전, 세 달 전 시차 피처를 모두 생성\n",
    "* clip : 새로 만든 시차 피처를 lag_features_to_clip 리스트에 저장할지 여부(T/F)"
   ]
  },
  {
   "cell_type": "code",
   "execution_count": 57,
   "id": "2f441916",
   "metadata": {},
   "outputs": [],
   "source": [
    "def add_lag_feature(df, lag_features_to_clip, col_features, lag_feature, nlags=3, clip=False):\n",
    "    \n",
    "    # 필요한 부분만 복사 하여 df_temp으로 생성\n",
    "    df_temp = df[col_features + [lag_feature]].copy()\n",
    "    \n",
    "    # 시차 피처 생성\n",
    "    for i in range(1, nlags+1):\n",
    "        \n",
    "        # 피처 명\n",
    "        lag_feature_name = lag_feature + \"_시차\" + str(i)  # 피처명\n",
    "        df_temp.columns = col_features + [lag_feature_name] # df_temp 칼럼 명 수정\n",
    "        \n",
    "        # 월 +1\n",
    "        df_temp[\"월ID\"] += i # 월ID 값 i 추가\n",
    "        df = df.merge(df_temp.drop_duplicates(), on=col_features, how=\"left\") # col_feature를 기준으로 병합, 같은 내용은 제거\n",
    "        \n",
    "        # 결측값 0\n",
    "        df[lag_feature_name] = df[lag_feature_name].fillna(0)\n",
    "        \n",
    "        # 0~20 으로 제한할 시차 피처, 이름 저장\n",
    "        if clip:\n",
    "            lag_features_to_clip.append(lag_feature_name)\n",
    "            \n",
    "    # 다운캐스팅\n",
    "    df = downcast(df, False)\n",
    "\n",
    "    # 가비지 컬렉션\n",
    "    del df_temp\n",
    "    gc.collect()\n",
    "\n",
    "    return df, lag_features_to_clip"
   ]
  },
  {
   "cell_type": "markdown",
   "id": "7c6c984d",
   "metadata": {},
   "source": [
    "#### 월간 판매량 시차피처 생성"
   ]
  },
  {
   "cell_type": "code",
   "execution_count": 58,
   "id": "3c6cd8c3",
   "metadata": {},
   "outputs": [],
   "source": [
    "lag_feature_to_clip = []\n",
    "col_features = [\"월ID\", \"상점ID\", \"상품ID\"] # 기준 피처\n",
    "\n",
    "# col_features 를 기준으로 3달치 시차 피처 생성\n",
    "all_data, lag_feature_to_clip = add_lag_feature(df=all_data,\n",
    "                                                                                lag_features_to_clip=lag_feature_to_clip,\n",
    "                                                                                col_features=col_features,\n",
    "                                                                                lag_feature=\"월간 판매량\",\n",
    "                                                                                nlags=3,\n",
    "                                                                                clip=True)"
   ]
  },
  {
   "cell_type": "code",
   "execution_count": 65,
   "id": "e7fd0f93",
   "metadata": {},
   "outputs": [
    {
     "data": {
      "text/html": [
       "<div>\n",
       "<style scoped>\n",
       "    .dataframe tbody tr th:only-of-type {\n",
       "        vertical-align: middle;\n",
       "    }\n",
       "\n",
       "    .dataframe tbody tr th {\n",
       "        vertical-align: top;\n",
       "    }\n",
       "\n",
       "    .dataframe thead th {\n",
       "        text-align: right;\n",
       "    }\n",
       "</style>\n",
       "<table border=\"1\" class=\"dataframe\">\n",
       "  <thead>\n",
       "    <tr style=\"text-align: right;\">\n",
       "      <th></th>\n",
       "      <th>월ID</th>\n",
       "      <th>상점ID</th>\n",
       "      <th>상품ID</th>\n",
       "      <th>월간 판매량</th>\n",
       "      <th>평균 판매가</th>\n",
       "      <th>판매건수</th>\n",
       "      <th>도시</th>\n",
       "      <th>상품분류ID</th>\n",
       "      <th>첫 판매월</th>\n",
       "      <th>대분류</th>\n",
       "      <th>상품ID별 평균 판매량</th>\n",
       "      <th>상품ID 도시별 평균 판매량</th>\n",
       "      <th>상점ID 상품분류ID별 평균 판매량</th>\n",
       "      <th>월간 판매량_시차1</th>\n",
       "      <th>월간 판매량_시차2</th>\n",
       "      <th>월간 판매량_시차3</th>\n",
       "    </tr>\n",
       "  </thead>\n",
       "  <tbody>\n",
       "    <tr>\n",
       "      <th>0</th>\n",
       "      <td>0</td>\n",
       "      <td>59</td>\n",
       "      <td>22154</td>\n",
       "      <td>1</td>\n",
       "      <td>999.0</td>\n",
       "      <td>1</td>\n",
       "      <td>30</td>\n",
       "      <td>37</td>\n",
       "      <td>0</td>\n",
       "      <td>5</td>\n",
       "      <td>0.400000</td>\n",
       "      <td>1.0</td>\n",
       "      <td>0.088496</td>\n",
       "      <td>0</td>\n",
       "      <td>0</td>\n",
       "      <td>0</td>\n",
       "    </tr>\n",
       "    <tr>\n",
       "      <th>1</th>\n",
       "      <td>0</td>\n",
       "      <td>59</td>\n",
       "      <td>2552</td>\n",
       "      <td>0</td>\n",
       "      <td>0.0</td>\n",
       "      <td>0</td>\n",
       "      <td>30</td>\n",
       "      <td>58</td>\n",
       "      <td>0</td>\n",
       "      <td>7</td>\n",
       "      <td>0.022222</td>\n",
       "      <td>0.0</td>\n",
       "      <td>0.000000</td>\n",
       "      <td>0</td>\n",
       "      <td>0</td>\n",
       "      <td>0</td>\n",
       "    </tr>\n",
       "  </tbody>\n",
       "</table>\n",
       "</div>"
      ],
      "text/plain": [
       "   월ID  상점ID   상품ID  월간 판매량  평균 판매가  판매건수  도시  상품분류ID  첫 판매월  대분류  \\\n",
       "0    0    59  22154       1   999.0     1  30      37      0    5   \n",
       "1    0    59   2552       0     0.0     0  30      58      0    7   \n",
       "\n",
       "   상품ID별 평균 판매량  상품ID 도시별 평균 판매량  상점ID 상품분류ID별 평균 판매량  월간 판매량_시차1  월간 판매량_시차2  \\\n",
       "0      0.400000              1.0             0.088496           0           0   \n",
       "1      0.022222              0.0             0.000000           0           0   \n",
       "\n",
       "   월간 판매량_시차3  \n",
       "0           0  \n",
       "1           0  "
      ]
     },
     "execution_count": 65,
     "metadata": {},
     "output_type": "execute_result"
    }
   ],
   "source": [
    "all_data.head(2)"
   ]
  },
  {
   "cell_type": "code",
   "execution_count": 66,
   "id": "92c8416d",
   "metadata": {},
   "outputs": [
    {
     "data": {
      "text/plain": [
       "['월간 판매량_시차1', '월간 판매량_시차2', '월간 판매량_시차3']"
      ]
     },
     "execution_count": 66,
     "metadata": {},
     "output_type": "execute_result"
    }
   ],
   "source": [
    "# 새로만든 피처 이름\n",
    "lag_feature_to_clip"
   ]
  },
  {
   "cell_type": "code",
   "execution_count": 67,
   "id": "8b71569a",
   "metadata": {},
   "outputs": [
    {
     "data": {
      "text/plain": [
       "['월ID', '상점ID', '상품ID']"
      ]
     },
     "execution_count": 67,
     "metadata": {},
     "output_type": "execute_result"
    }
   ],
   "source": [
    "col_features"
   ]
  },
  {
   "cell_type": "markdown",
   "id": "22fcf24d",
   "metadata": {},
   "source": [
    "#### 판매건수, 평균판매가 , 평균판매량 시차피처 생성"
   ]
  },
  {
   "cell_type": "code",
   "execution_count": 68,
   "id": "d8535b25",
   "metadata": {},
   "outputs": [],
   "source": [
    "# 판매건수 시간피처 생성\n",
    "all_data, lag_feature_to_clip = add_lag_feature(df=all_data,\n",
    "                                                                                    lag_features_to_clip=lag_feature_to_clip,\n",
    "                                                                                    col_features=col_features,\n",
    "                                                                                    lag_feature=\"판매건수\",\n",
    "                                                                                    nlags=3)\n",
    "# 평균판매가 시차피처 생성\n",
    "all_data, lag_feature_to_clip = add_lag_feature(df=all_data,\n",
    "                                                                                    lag_features_to_clip=lag_feature_to_clip,\n",
    "                                                                                    col_features=col_features,\n",
    "                                                                                    lag_feature=\"평균 판매가\",\n",
    "                                                                                    nlags=3)\n",
    "# 상품ID별, 상품ID+도시별   평균판매량 시차피처 생성\n",
    "for item_mean_feature in item_mean_features:\n",
    "    all_data, lag_feature_to_clip = add_lag_feature(df=all_data,\n",
    "                                                                                    lag_features_to_clip=lag_feature_to_clip,\n",
    "                                                                                    col_features=col_features,\n",
    "                                                                                    lag_feature=item_mean_feature,\n",
    "                                                                                    nlags=3,\n",
    "                                                                                    clip=True)\n",
    "# 데이터 drop\n",
    "all_data = all_data.drop(item_mean_features, axis=1)\n",
    "\n",
    "# 상점ID+상품분류ID별  평균판매량 시차피처 생성\n",
    "for shop_mean_feature in shop_mean_features:\n",
    "    all_data, lag_feature_to_clip = add_lag_feature(df=all_data,\n",
    "                                                                                    lag_features_to_clip=lag_feature_to_clip,\n",
    "                                                                                    col_features=[\"월ID\",\"상점ID\",\"상품분류ID\"],\n",
    "                                                                                    lag_feature=shop_mean_feature,\n",
    "                                                                                    nlags=3,\n",
    "                                                                                    clip=True)\n",
    "# 데이터 drop\n",
    "all_data = all_data.drop(shop_mean_features, axis=1)"
   ]
  },
  {
   "cell_type": "markdown",
   "id": "505179a6",
   "metadata": {},
   "source": [
    "#### 월ID 0,1,2 제거\n",
    "* 3개월치 시차 피처가 생겼기 때문에 0,1,2 월에는 시차데이터가 없으므로 제거한다.\n",
    "* 제거해도 괜찮은 이유는 0,1,2 월의 데이터는 이후에 남아있기 때문이다."
   ]
  },
  {
   "cell_type": "code",
   "execution_count": 70,
   "id": "5cca1638",
   "metadata": {},
   "outputs": [],
   "source": [
    "# 월ID 가 3 미만인 데이터 제거\n",
    "all_data = all_data.drop(all_data[all_data[\"월ID\"] < 3].index)"
   ]
  },
  {
   "cell_type": "markdown",
   "id": "29496b90",
   "metadata": {},
   "source": [
    "### 기타피처 추가"
   ]
  },
  {
   "cell_type": "markdown",
   "id": "40a3d40c",
   "metadata": {},
   "source": [
    "#### 월간 판매량 시차 피처들의 평균"
   ]
  },
  {
   "cell_type": "code",
   "execution_count": 72,
   "id": "9ca6e2ca",
   "metadata": {},
   "outputs": [],
   "source": [
    "all_data[\"월간 판매량 시차 평균\"] = all_data[[\"월간 판매량_시차1\",\"월간 판매량_시차2\",\"월간 판매량_시차3\"]].mean(axis=1)\n",
    "\n",
    "# clip 함수는 DataFrame.clip(a,b) 으로 사용하여 a,b의 범위를 벗어나는 것은 각각 a, b로 바꾼다. \n",
    "all_data[lag_feature_to_clip + [\"월간 판매량\", \"월간 판매량 시차 평균\"]] = all_data[lag_feature_to_clip + [\"월간 판매량\", \"월간 판매량 시차 평균\"]].clip(0,20)"
   ]
  },
  {
   "cell_type": "markdown",
   "id": "424c9b04",
   "metadata": {},
   "source": [
    "#### 시차 변화량"
   ]
  },
  {
   "cell_type": "code",
   "execution_count": 73,
   "id": "27802966",
   "metadata": {},
   "outputs": [],
   "source": [
    "# 1-2 시차변화율\n",
    "\n",
    "all_data[\"시차변화량1\"] = all_data[\"월간 판매량_시차1\"] / all_data[\"월간 판매량_시차2\"]\n",
    "# 0으로 나누면 np.inf 로 양의 무한대 혹은 -np.inf 음의 무한대가 생긴다. 이를 np.nan 결측값으로 바꾼뒤 fillna를 통해 0으로 채워준다.\n",
    "all_data[\"시차변화량1\"] = all_data[\"시차변화량1\"].replace([np.inf, -np.inf], np.nan).fillna(0)\n",
    "\n",
    "all_data[\"시차변화량2\"] = all_data[\"월간 판매량_시차2\"] / all_data[\"월간 판매량_시차3\"]\n",
    "# 0으로 나누면 np.inf 로 양의 무한대 혹은 -np.inf 음의 무한대가 생긴다. 이를 np.nan 결측값으로 바꾼뒤 fillna를 통해 0으로 채워준다.\n",
    "all_data[\"시차변화량2\"] = all_data[\"시차변화량2\"].replace([np.inf, -np.inf], np.nan).fillna(0)"
   ]
  },
  {
   "cell_type": "markdown",
   "id": "f0118aa3",
   "metadata": {},
   "source": [
    "#### 신상여부"
   ]
  },
  {
   "cell_type": "code",
   "execution_count": 75,
   "id": "6ba99969",
   "metadata": {},
   "outputs": [],
   "source": [
    "# 첫 판매월이 월ID와 같으면 신상\n",
    "all_data[\"신상여부\"] = (all_data[\"첫 판매월\"] == all_data[\"월ID\"])"
   ]
  },
  {
   "cell_type": "markdown",
   "id": "a3135134",
   "metadata": {},
   "source": [
    "#### 첫 판매 후 경과 기간"
   ]
  },
  {
   "cell_type": "code",
   "execution_count": 76,
   "id": "26415b6a",
   "metadata": {},
   "outputs": [],
   "source": [
    "all_data[\"첫 판매 후 기간\"] = all_data[\"월ID\"] - all_data[\"첫 판매월\"]"
   ]
  },
  {
   "cell_type": "markdown",
   "id": "76234022",
   "metadata": {},
   "source": [
    "#### 월(month)"
   ]
  },
  {
   "cell_type": "code",
   "execution_count": 77,
   "id": "986eacf2",
   "metadata": {},
   "outputs": [],
   "source": [
    "all_data[\"월\"] = all_data[\"월ID\"] % 12"
   ]
  },
  {
   "cell_type": "markdown",
   "id": "b58cf753",
   "metadata": {},
   "source": [
    "## 필요없는 피처 제거"
   ]
  },
  {
   "cell_type": "code",
   "execution_count": 78,
   "id": "16eff73c",
   "metadata": {},
   "outputs": [],
   "source": [
    "all_data = all_data.drop([\"첫 판매월\", \"평균 판매가\", \"판매건수\"], axis=1)"
   ]
  },
  {
   "cell_type": "markdown",
   "id": "ae7f4dd5",
   "metadata": {},
   "source": [
    "### 다운캐스팅"
   ]
  },
  {
   "cell_type": "code",
   "execution_count": 79,
   "id": "de7d6dba",
   "metadata": {},
   "outputs": [
    {
     "name": "stdout",
     "output_type": "stream",
     "text": [
      " 15.8% 압축됨\n"
     ]
    }
   ],
   "source": [
    "all_data = downcast(all_data)"
   ]
  },
  {
   "cell_type": "markdown",
   "id": "0dce308f",
   "metadata": {},
   "source": [
    "### 마무리"
   ]
  },
  {
   "cell_type": "code",
   "execution_count": 80,
   "id": "7dc6cc2a",
   "metadata": {},
   "outputs": [
    {
     "name": "stdout",
     "output_type": "stream",
     "text": [
      "<class 'pandas.core.frame.DataFrame'>\n",
      "Int64Index: 9904582 entries, 1122386 to 11026967\n",
      "Data columns (total 31 columns):\n",
      " #   Column                   Dtype  \n",
      "---  ------                   -----  \n",
      " 0   월ID                      int8   \n",
      " 1   상점ID                     int8   \n",
      " 2   상품ID                     int16  \n",
      " 3   월간 판매량                   int8   \n",
      " 4   도시                       int8   \n",
      " 5   상품분류ID                   int8   \n",
      " 6   대분류                      int8   \n",
      " 7   월간 판매량_시차1               int8   \n",
      " 8   월간 판매량_시차2               int8   \n",
      " 9   월간 판매량_시차3               int8   \n",
      " 10  판매건수_시차1                 int8   \n",
      " 11  판매건수_시차2                 int8   \n",
      " 12  판매건수_시차3                 int8   \n",
      " 13  평균 판매가_시차1               float32\n",
      " 14  평균 판매가_시차2               float32\n",
      " 15  평균 판매가_시차3               float32\n",
      " 16  상품ID별 평균 판매량_시차1         float32\n",
      " 17  상품ID별 평균 판매량_시차2         float32\n",
      " 18  상품ID별 평균 판매량_시차3         float32\n",
      " 19  상품ID 도시별 평균 판매량_시차1      float32\n",
      " 20  상품ID 도시별 평균 판매량_시차2      float32\n",
      " 21  상품ID 도시별 평균 판매량_시차3      float32\n",
      " 22  상점ID 상품분류ID별 평균 판매량_시차1  float32\n",
      " 23  상점ID 상품분류ID별 평균 판매량_시차2  float32\n",
      " 24  상점ID 상품분류ID별 평균 판매량_시차3  float32\n",
      " 25  월간 판매량 시차 평균             float32\n",
      " 26  시차변화량1                   float32\n",
      " 27  시차변화량2                   float32\n",
      " 28  신상여부                     int8   \n",
      " 29  첫 판매 후 기간                int8   \n",
      " 30  월                        int8   \n",
      "dtypes: float32(15), int16(1), int8(15)\n",
      "memory usage: 802.9 MB\n"
     ]
    }
   ],
   "source": [
    "all_data.info()"
   ]
  },
  {
   "cell_type": "markdown",
   "id": "3cca0c53",
   "metadata": {},
   "source": [
    "## 데이터 나누기"
   ]
  },
  {
   "cell_type": "code",
   "execution_count": 82,
   "id": "f7618048",
   "metadata": {},
   "outputs": [
    {
     "data": {
      "text/plain": [
       "40348"
      ]
     },
     "execution_count": 82,
     "metadata": {},
     "output_type": "execute_result"
    }
   ],
   "source": [
    "# 훈련 데이터\n",
    "X_train = all_data[all_data[\"월ID\"] < 33]\n",
    "X_train = X_train.drop([\"월간 판매량\"], axis=1)\n",
    "y_train = all_data[all_data[\"월ID\"] < 33][\"월간 판매량\"]\n",
    "\n",
    "# 검증 데이터\n",
    "X_valid = all_data[all_data[\"월ID\"] == 33]\n",
    "X_valid = X_valid.drop([\"월간 판매량\"], axis=1)\n",
    "y_valid = all_data[all_data[\"월ID\"] == 33][\"월간 판매량\"]\n",
    "\n",
    "# 테스트 데이터\n",
    "X_test = all_data[all_data[\"월ID\"] == 34]\n",
    "X_test = X_test.drop([\"월간 판매량\"], axis=1)\n",
    "\n",
    "del all_data\n",
    "gc.collect()"
   ]
  },
  {
   "cell_type": "markdown",
   "id": "6a32cc2d",
   "metadata": {},
   "source": [
    "## 데이터 저장"
   ]
  },
  {
   "cell_type": "code",
   "execution_count": 83,
   "id": "52d1b6bf",
   "metadata": {},
   "outputs": [],
   "source": [
    "# X_train.to_csv(\"data/X_train.csv\")\n",
    "# y_train.to_csv(\"data/y_train.csv\")\n",
    "# X_valid.to_csv(\"data/X_valid.csv\")\n",
    "# y_valid.to_csv(\"data/y_valid.csv\")\n",
    "# X_test.to_csv(\"data/X_test.csv\")"
   ]
  },
  {
   "cell_type": "markdown",
   "id": "b4a31214",
   "metadata": {},
   "source": [
    "# 베이스 라인 모델 훈련 및 성능 검증"
   ]
  },
  {
   "cell_type": "code",
   "execution_count": 86,
   "id": "84aa7e44",
   "metadata": {},
   "outputs": [
    {
     "name": "stderr",
     "output_type": "stream",
     "text": [
      "C:\\Users\\user\\AppData\\Local\\Programs\\Python\\Python39\\lib\\site-packages\\lightgbm\\engine.py:181: UserWarning: 'early_stopping_rounds' argument is deprecated and will be removed in a future release of LightGBM. Pass 'early_stopping()' callback via 'callbacks' argument instead.\n",
      "  _log_warning(\"'early_stopping_rounds' argument is deprecated and will be removed in a future release of LightGBM. \"\n",
      "C:\\Users\\user\\AppData\\Local\\Programs\\Python\\Python39\\lib\\site-packages\\lightgbm\\basic.py:2068: UserWarning: categorical_feature in Dataset is overridden.\n",
      "New categorical_feature is ['대분류', '도시', '상점ID', '상품분류ID', '월']\n",
      "  _log_warning('categorical_feature in Dataset is overridden.\\n'\n",
      "C:\\Users\\user\\AppData\\Local\\Programs\\Python\\Python39\\lib\\site-packages\\lightgbm\\engine.py:239: UserWarning: 'verbose_eval' argument is deprecated and will be removed in a future release of LightGBM. Pass 'log_evaluation()' callback via 'callbacks' argument instead.\n",
      "  _log_warning(\"'verbose_eval' argument is deprecated and will be removed in a future release of LightGBM. \"\n"
     ]
    },
    {
     "name": "stdout",
     "output_type": "stream",
     "text": [
      "[LightGBM] [Warning] Found whitespace in feature_names, replace with underlines\n",
      "[LightGBM] [Info] Total Bins 3859\n",
      "[LightGBM] [Info] Number of data points in the train set: 9452298, number of used features: 30\n"
     ]
    },
    {
     "name": "stderr",
     "output_type": "stream",
     "text": [
      "C:\\Users\\user\\AppData\\Local\\Programs\\Python\\Python39\\lib\\site-packages\\lightgbm\\basic.py:1780: UserWarning: Overriding the parameters from Reference Dataset.\n",
      "  _log_warning('Overriding the parameters from Reference Dataset.')\n",
      "C:\\Users\\user\\AppData\\Local\\Programs\\Python\\Python39\\lib\\site-packages\\lightgbm\\basic.py:1513: UserWarning: categorical_column in param dict is overridden.\n",
      "  _log_warning(f'{cat_alias} in param dict is overridden.')\n"
     ]
    },
    {
     "name": "stdout",
     "output_type": "stream",
     "text": [
      "[LightGBM] [Warning] Found whitespace in feature_names, replace with underlines\n",
      "[LightGBM] [Info] Start training from score 0.297707\n",
      "Training until validation scores don't improve for 150 rounds\n",
      "[100]\ttraining's rmse: 1.01223\tvalid_1's rmse: 0.987556\n",
      "[200]\ttraining's rmse: 0.911043\tvalid_1's rmse: 0.924287\n",
      "[300]\ttraining's rmse: 0.860039\tvalid_1's rmse: 0.899103\n",
      "[400]\ttraining's rmse: 0.831922\tvalid_1's rmse: 0.889376\n",
      "[500]\ttraining's rmse: 0.813469\tvalid_1's rmse: 0.885821\n",
      "[600]\ttraining's rmse: 0.799824\tvalid_1's rmse: 0.884889\n",
      "[700]\ttraining's rmse: 0.789903\tvalid_1's rmse: 0.884388\n",
      "[800]\ttraining's rmse: 0.781822\tvalid_1's rmse: 0.883989\n",
      "Early stopping, best iteration is:\n",
      "[746]\ttraining's rmse: 0.786011\tvalid_1's rmse: 0.88382\n",
      "Wall time: 5min 9s\n"
     ]
    }
   ],
   "source": [
    "%%time\n",
    "import lightgbm as lgb\n",
    "\n",
    "# 하이퍼파라미터\n",
    "params = {\n",
    "    \"metric\" : \"rmse\",\n",
    "    \"num_leaves\" : 255,\n",
    "    \"learning_rate\" : 0.005,\n",
    "    \"feature_fraction\" : 0.75,\n",
    "    \"bagging_fraction\" : 0.75,\n",
    "    \"bagging_freq\" : 5,\n",
    "    \"force_col_wise\" : True,\n",
    "    \"random_state\" : 10\n",
    "}\n",
    "\n",
    "cat_features = [\"상점ID\", \"도시\", \"상품분류ID\", \"대분류\", \"월\"]\n",
    "\n",
    "# 훈련 및 검증 데이터 셋\n",
    "dtrain = lgb.Dataset(X_train, y_train)\n",
    "dvalid = lgb.Dataset(X_valid, y_valid)\n",
    "\n",
    "# 모델 훈련\n",
    "lgb_model = lgb.train(\n",
    "    params=params,\n",
    "    train_set=dtrain,\n",
    "    num_boost_round=1500,\n",
    "    valid_sets=(dtrain, dvalid),\n",
    "    early_stopping_rounds=150,\n",
    "    categorical_feature=cat_features,\n",
    "    verbose_eval=100\n",
    ")"
   ]
  },
  {
   "cell_type": "markdown",
   "id": "fa99bef1",
   "metadata": {},
   "source": [
    "## 예측및 결과제출"
   ]
  },
  {
   "cell_type": "code",
   "execution_count": 88,
   "id": "3d3ac68e",
   "metadata": {},
   "outputs": [],
   "source": [
    "preds = lgb_model.predict(X_test).clip(0, 20)\n",
    "\n",
    "submission[\"item_cnt_month\"] = preds\n",
    "submission.to_csv(\"data/submission.csv\", index=False)"
   ]
  },
  {
   "cell_type": "code",
   "execution_count": null,
   "id": "9fdb9d48",
   "metadata": {},
   "outputs": [],
   "source": []
  }
 ],
 "metadata": {
  "kernelspec": {
   "display_name": "Python 3 (ipykernel)",
   "language": "python",
   "name": "python3"
  },
  "language_info": {
   "codemirror_mode": {
    "name": "ipython",
    "version": 3
   },
   "file_extension": ".py",
   "mimetype": "text/x-python",
   "name": "python",
   "nbconvert_exporter": "python",
   "pygments_lexer": "ipython3",
   "version": "3.9.7"
  },
  "toc": {
   "base_numbering": 1,
   "nav_menu": {},
   "number_sections": true,
   "sideBar": true,
   "skip_h1_title": false,
   "title_cell": "Table of Contents",
   "title_sidebar": "Contents",
   "toc_cell": false,
   "toc_position": {
    "height": "573.6px",
    "left": "24px",
    "top": "110.325px",
    "width": "337.825px"
   },
   "toc_section_display": true,
   "toc_window_display": true
  },
  "varInspector": {
   "cols": {
    "lenName": 16,
    "lenType": 16,
    "lenVar": 40
   },
   "kernels_config": {
    "python": {
     "delete_cmd_postfix": "",
     "delete_cmd_prefix": "del ",
     "library": "var_list.py",
     "varRefreshCmd": "print(var_dic_list())"
    },
    "r": {
     "delete_cmd_postfix": ") ",
     "delete_cmd_prefix": "rm(",
     "library": "var_list.r",
     "varRefreshCmd": "cat(var_dic_list()) "
    }
   },
   "types_to_exclude": [
    "module",
    "function",
    "builtin_function_or_method",
    "instance",
    "_Feature"
   ],
   "window_display": false
  }
 },
 "nbformat": 4,
 "nbformat_minor": 5
}
