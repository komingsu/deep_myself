{
 "cells": [
  {
   "cell_type": "markdown",
   "id": "1cdf9f60",
   "metadata": {
    "ExecuteTime": {
     "end_time": "2022-08-11T18:32:45.043368Z",
     "start_time": "2022-08-11T18:32:45.028365Z"
    }
   },
   "source": [
    "# 라이브러리 호출"
   ]
  },
  {
   "cell_type": "code",
   "execution_count": 2,
   "id": "3ff9508c",
   "metadata": {
    "ExecuteTime": {
     "end_time": "2022-08-12T12:07:51.124338Z",
     "start_time": "2022-08-12T12:07:50.762931Z"
    }
   },
   "outputs": [],
   "source": [
    "import pandas as pd\n",
    "train = pd.read_csv(\"D:Dataset/dataset/Task1/info_etri20_emotion_train.csv\")"
   ]
  },
  {
   "cell_type": "code",
   "execution_count": 3,
   "id": "6524ecae",
   "metadata": {
    "ExecuteTime": {
     "end_time": "2022-08-12T12:07:51.172349Z",
     "start_time": "2022-08-12T12:07:51.125338Z"
    },
    "scrolled": false
   },
   "outputs": [],
   "source": [
    "from glob import glob\n",
    "ls = glob(\"D:Dataset/dataset/Task1/train/*/*\")"
   ]
  },
  {
   "cell_type": "code",
   "execution_count": 4,
   "id": "ffaafa19",
   "metadata": {
    "ExecuteTime": {
     "end_time": "2022-08-12T12:07:51.644294Z",
     "start_time": "2022-08-12T12:07:51.615288Z"
    }
   },
   "outputs": [
    {
     "data": {
      "text/html": [
       "<div>\n",
       "<style scoped>\n",
       "    .dataframe tbody tr th:only-of-type {\n",
       "        vertical-align: middle;\n",
       "    }\n",
       "\n",
       "    .dataframe tbody tr th {\n",
       "        vertical-align: top;\n",
       "    }\n",
       "\n",
       "    .dataframe thead th {\n",
       "        text-align: right;\n",
       "    }\n",
       "</style>\n",
       "<table border=\"1\" class=\"dataframe\">\n",
       "  <thead>\n",
       "    <tr style=\"text-align: right;\">\n",
       "      <th></th>\n",
       "      <th>image_name</th>\n",
       "      <th>BBox_xmin</th>\n",
       "      <th>BBox_ymin</th>\n",
       "      <th>BBox_xmax</th>\n",
       "      <th>BBox_ymax</th>\n",
       "      <th>Daily</th>\n",
       "      <th>Gender</th>\n",
       "      <th>Embellishment</th>\n",
       "      <th>Split</th>\n",
       "    </tr>\n",
       "  </thead>\n",
       "  <tbody>\n",
       "    <tr>\n",
       "      <th>0</th>\n",
       "      <td>1209/BO00001-1.jpg</td>\n",
       "      <td>45</td>\n",
       "      <td>197</td>\n",
       "      <td>313</td>\n",
       "      <td>393</td>\n",
       "      <td>4</td>\n",
       "      <td>5</td>\n",
       "      <td>0</td>\n",
       "      <td>train</td>\n",
       "    </tr>\n",
       "    <tr>\n",
       "      <th>1</th>\n",
       "      <td>1209/BO00002-1.jpg</td>\n",
       "      <td>117</td>\n",
       "      <td>114</td>\n",
       "      <td>476</td>\n",
       "      <td>556</td>\n",
       "      <td>1</td>\n",
       "      <td>5</td>\n",
       "      <td>1</td>\n",
       "      <td>train</td>\n",
       "    </tr>\n",
       "    <tr>\n",
       "      <th>2</th>\n",
       "      <td>1209/BO00003-1.jpg</td>\n",
       "      <td>62</td>\n",
       "      <td>212</td>\n",
       "      <td>372</td>\n",
       "      <td>544</td>\n",
       "      <td>1</td>\n",
       "      <td>5</td>\n",
       "      <td>0</td>\n",
       "      <td>train</td>\n",
       "    </tr>\n",
       "    <tr>\n",
       "      <th>3</th>\n",
       "      <td>1209/BO00004-1.jpg</td>\n",
       "      <td>159</td>\n",
       "      <td>17</td>\n",
       "      <td>484</td>\n",
       "      <td>395</td>\n",
       "      <td>1</td>\n",
       "      <td>5</td>\n",
       "      <td>1</td>\n",
       "      <td>train</td>\n",
       "    </tr>\n",
       "    <tr>\n",
       "      <th>4</th>\n",
       "      <td>1209/BO00005-1.jpg</td>\n",
       "      <td>51</td>\n",
       "      <td>54</td>\n",
       "      <td>561</td>\n",
       "      <td>441</td>\n",
       "      <td>1</td>\n",
       "      <td>3</td>\n",
       "      <td>0</td>\n",
       "      <td>train</td>\n",
       "    </tr>\n",
       "    <tr>\n",
       "      <th>...</th>\n",
       "      <td>...</td>\n",
       "      <td>...</td>\n",
       "      <td>...</td>\n",
       "      <td>...</td>\n",
       "      <td>...</td>\n",
       "      <td>...</td>\n",
       "      <td>...</td>\n",
       "      <td>...</td>\n",
       "      <td>...</td>\n",
       "    </tr>\n",
       "    <tr>\n",
       "      <th>11472</th>\n",
       "      <td>2pants 2019/995_W01.jpg</td>\n",
       "      <td>288</td>\n",
       "      <td>493</td>\n",
       "      <td>604</td>\n",
       "      <td>1161</td>\n",
       "      <td>1</td>\n",
       "      <td>2</td>\n",
       "      <td>2</td>\n",
       "      <td>train</td>\n",
       "    </tr>\n",
       "    <tr>\n",
       "      <th>11473</th>\n",
       "      <td>2pants 2019/996_W06.jpg</td>\n",
       "      <td>303</td>\n",
       "      <td>582</td>\n",
       "      <td>567</td>\n",
       "      <td>1158</td>\n",
       "      <td>1</td>\n",
       "      <td>2</td>\n",
       "      <td>0</td>\n",
       "      <td>train</td>\n",
       "    </tr>\n",
       "    <tr>\n",
       "      <th>11474</th>\n",
       "      <td>2pants 2019/997_W06.jpg</td>\n",
       "      <td>201</td>\n",
       "      <td>663</td>\n",
       "      <td>565</td>\n",
       "      <td>1219</td>\n",
       "      <td>1</td>\n",
       "      <td>2</td>\n",
       "      <td>0</td>\n",
       "      <td>train</td>\n",
       "    </tr>\n",
       "    <tr>\n",
       "      <th>11475</th>\n",
       "      <td>2pants 2019/998_W06.jpg</td>\n",
       "      <td>245</td>\n",
       "      <td>562</td>\n",
       "      <td>589</td>\n",
       "      <td>1214</td>\n",
       "      <td>3</td>\n",
       "      <td>1</td>\n",
       "      <td>0</td>\n",
       "      <td>train</td>\n",
       "    </tr>\n",
       "    <tr>\n",
       "      <th>11476</th>\n",
       "      <td>2pants 2019/999_W01.jpg</td>\n",
       "      <td>283</td>\n",
       "      <td>481</td>\n",
       "      <td>623</td>\n",
       "      <td>1161</td>\n",
       "      <td>1</td>\n",
       "      <td>2</td>\n",
       "      <td>0</td>\n",
       "      <td>train</td>\n",
       "    </tr>\n",
       "  </tbody>\n",
       "</table>\n",
       "<p>11477 rows × 9 columns</p>\n",
       "</div>"
      ],
      "text/plain": [
       "                    image_name  BBox_xmin  BBox_ymin  BBox_xmax  BBox_ymax  \\\n",
       "0           1209/BO00001-1.jpg         45        197        313        393   \n",
       "1           1209/BO00002-1.jpg        117        114        476        556   \n",
       "2           1209/BO00003-1.jpg         62        212        372        544   \n",
       "3           1209/BO00004-1.jpg        159         17        484        395   \n",
       "4           1209/BO00005-1.jpg         51         54        561        441   \n",
       "...                        ...        ...        ...        ...        ...   \n",
       "11472  2pants 2019/995_W01.jpg        288        493        604       1161   \n",
       "11473  2pants 2019/996_W06.jpg        303        582        567       1158   \n",
       "11474  2pants 2019/997_W06.jpg        201        663        565       1219   \n",
       "11475  2pants 2019/998_W06.jpg        245        562        589       1214   \n",
       "11476  2pants 2019/999_W01.jpg        283        481        623       1161   \n",
       "\n",
       "       Daily  Gender  Embellishment  Split  \n",
       "0          4       5              0  train  \n",
       "1          1       5              1  train  \n",
       "2          1       5              0  train  \n",
       "3          1       5              1  train  \n",
       "4          1       3              0  train  \n",
       "...      ...     ...            ...    ...  \n",
       "11472      1       2              2  train  \n",
       "11473      1       2              0  train  \n",
       "11474      1       2              0  train  \n",
       "11475      3       1              0  train  \n",
       "11476      1       2              0  train  \n",
       "\n",
       "[11477 rows x 9 columns]"
      ]
     },
     "execution_count": 4,
     "metadata": {},
     "output_type": "execute_result"
    }
   ],
   "source": [
    "train"
   ]
  },
  {
   "cell_type": "code",
   "execution_count": 5,
   "id": "8d87d1b7",
   "metadata": {
    "ExecuteTime": {
     "end_time": "2022-08-12T12:08:01.440327Z",
     "start_time": "2022-08-12T12:08:00.776002Z"
    }
   },
   "outputs": [],
   "source": [
    "import cv2\n",
    "import matplotlib.pyplot as plt"
   ]
  },
  {
   "cell_type": "code",
   "execution_count": 7,
   "id": "e3f38379",
   "metadata": {
    "ExecuteTime": {
     "end_time": "2022-08-12T12:08:14.560525Z",
     "start_time": "2022-08-12T12:08:14.553523Z"
    }
   },
   "outputs": [],
   "source": [
    "imgs = train.image_name.values\n",
    "BBox_xmi = train.BBox_xmin.values\n",
    "BBox_xmx = train.BBox_xmax.values\n",
    "BBox_ymi = train.BBox_ymin.values\n",
    "BBox_ymx = train.BBox_ymax.values"
   ]
  },
  {
   "cell_type": "markdown",
   "id": "2cd65f6c",
   "metadata": {},
   "source": [
    "# img_crop"
   ]
  },
  {
   "cell_type": "code",
   "execution_count": 9,
   "id": "49773174",
   "metadata": {
    "ExecuteTime": {
     "end_time": "2022-08-12T12:09:27.942971Z",
     "start_time": "2022-08-12T12:09:27.935966Z"
    }
   },
   "outputs": [],
   "source": [
    "from tqdm import tqdm"
   ]
  },
  {
   "cell_type": "code",
   "execution_count": 31,
   "id": "b18624ad",
   "metadata": {
    "ExecuteTime": {
     "end_time": "2022-08-12T12:21:33.306767Z",
     "start_time": "2022-08-12T12:18:31.408692Z"
    },
    "scrolled": true
   },
   "outputs": [
    {
     "name": "stderr",
     "output_type": "stream",
     "text": [
      "11477it [03:01, 63.10it/s] \n"
     ]
    }
   ],
   "source": [
    "img_path = []\n",
    "for idx, (i,xa,xb,ya,yb) in tqdm(enumerate(zip(imgs,BBox_xmi,BBox_xmx,BBox_ymi,BBox_ymx))):\n",
    "    img = plt.imread(\"D:Dataset/dataset/Task1/train/\"+i)\n",
    "    img = img[ya:yb,xa:xb]\n",
    "    path = f\"D:Dataset/dataset/Task1/train/img/{idx}.jpg\"\n",
    "    img_path.append(path)\n",
    "    plt.imsave(path,img)"
   ]
  },
  {
   "cell_type": "code",
   "execution_count": 32,
   "id": "5eb1b7c1",
   "metadata": {
    "ExecuteTime": {
     "end_time": "2022-08-12T12:23:55.201157Z",
     "start_time": "2022-08-12T12:23:55.188179Z"
    }
   },
   "outputs": [],
   "source": [
    "train[\"data_path\"] = img_path"
   ]
  },
  {
   "cell_type": "code",
   "execution_count": 34,
   "id": "9a3e2533",
   "metadata": {
    "ExecuteTime": {
     "end_time": "2022-08-12T12:24:34.185101Z",
     "start_time": "2022-08-12T12:24:34.125087Z"
    }
   },
   "outputs": [],
   "source": [
    "train.to_csv(\"D:Dataset/dataset/Task1/info_etri20_emotion_train.csv\")"
   ]
  },
  {
   "cell_type": "code",
   "execution_count": 37,
   "id": "f8a9b239",
   "metadata": {
    "ExecuteTime": {
     "end_time": "2022-08-12T12:24:57.722315Z",
     "start_time": "2022-08-12T12:24:57.692741Z"
    }
   },
   "outputs": [],
   "source": [
    "train = pd.read_csv(\"D:Dataset/dataset/Task1/info_etri20_emotion_train.csv\", index_col=0)"
   ]
  },
  {
   "cell_type": "code",
   "execution_count": 38,
   "id": "f5aa613d",
   "metadata": {
    "ExecuteTime": {
     "end_time": "2022-08-12T12:24:58.541328Z",
     "start_time": "2022-08-12T12:24:58.519323Z"
    }
   },
   "outputs": [
    {
     "data": {
      "text/html": [
       "<div>\n",
       "<style scoped>\n",
       "    .dataframe tbody tr th:only-of-type {\n",
       "        vertical-align: middle;\n",
       "    }\n",
       "\n",
       "    .dataframe tbody tr th {\n",
       "        vertical-align: top;\n",
       "    }\n",
       "\n",
       "    .dataframe thead th {\n",
       "        text-align: right;\n",
       "    }\n",
       "</style>\n",
       "<table border=\"1\" class=\"dataframe\">\n",
       "  <thead>\n",
       "    <tr style=\"text-align: right;\">\n",
       "      <th></th>\n",
       "      <th>image_name</th>\n",
       "      <th>BBox_xmin</th>\n",
       "      <th>BBox_ymin</th>\n",
       "      <th>BBox_xmax</th>\n",
       "      <th>BBox_ymax</th>\n",
       "      <th>Daily</th>\n",
       "      <th>Gender</th>\n",
       "      <th>Embellishment</th>\n",
       "      <th>Split</th>\n",
       "      <th>data_path</th>\n",
       "    </tr>\n",
       "  </thead>\n",
       "  <tbody>\n",
       "    <tr>\n",
       "      <th>0</th>\n",
       "      <td>1209/BO00001-1.jpg</td>\n",
       "      <td>45</td>\n",
       "      <td>197</td>\n",
       "      <td>313</td>\n",
       "      <td>393</td>\n",
       "      <td>4</td>\n",
       "      <td>5</td>\n",
       "      <td>0</td>\n",
       "      <td>train</td>\n",
       "      <td>D:Dataset/dataset/Task1/train/img/0.jpg</td>\n",
       "    </tr>\n",
       "    <tr>\n",
       "      <th>1</th>\n",
       "      <td>1209/BO00002-1.jpg</td>\n",
       "      <td>117</td>\n",
       "      <td>114</td>\n",
       "      <td>476</td>\n",
       "      <td>556</td>\n",
       "      <td>1</td>\n",
       "      <td>5</td>\n",
       "      <td>1</td>\n",
       "      <td>train</td>\n",
       "      <td>D:Dataset/dataset/Task1/train/img/1.jpg</td>\n",
       "    </tr>\n",
       "    <tr>\n",
       "      <th>2</th>\n",
       "      <td>1209/BO00003-1.jpg</td>\n",
       "      <td>62</td>\n",
       "      <td>212</td>\n",
       "      <td>372</td>\n",
       "      <td>544</td>\n",
       "      <td>1</td>\n",
       "      <td>5</td>\n",
       "      <td>0</td>\n",
       "      <td>train</td>\n",
       "      <td>D:Dataset/dataset/Task1/train/img/2.jpg</td>\n",
       "    </tr>\n",
       "    <tr>\n",
       "      <th>3</th>\n",
       "      <td>1209/BO00004-1.jpg</td>\n",
       "      <td>159</td>\n",
       "      <td>17</td>\n",
       "      <td>484</td>\n",
       "      <td>395</td>\n",
       "      <td>1</td>\n",
       "      <td>5</td>\n",
       "      <td>1</td>\n",
       "      <td>train</td>\n",
       "      <td>D:Dataset/dataset/Task1/train/img/3.jpg</td>\n",
       "    </tr>\n",
       "    <tr>\n",
       "      <th>4</th>\n",
       "      <td>1209/BO00005-1.jpg</td>\n",
       "      <td>51</td>\n",
       "      <td>54</td>\n",
       "      <td>561</td>\n",
       "      <td>441</td>\n",
       "      <td>1</td>\n",
       "      <td>3</td>\n",
       "      <td>0</td>\n",
       "      <td>train</td>\n",
       "      <td>D:Dataset/dataset/Task1/train/img/4.jpg</td>\n",
       "    </tr>\n",
       "    <tr>\n",
       "      <th>...</th>\n",
       "      <td>...</td>\n",
       "      <td>...</td>\n",
       "      <td>...</td>\n",
       "      <td>...</td>\n",
       "      <td>...</td>\n",
       "      <td>...</td>\n",
       "      <td>...</td>\n",
       "      <td>...</td>\n",
       "      <td>...</td>\n",
       "      <td>...</td>\n",
       "    </tr>\n",
       "    <tr>\n",
       "      <th>11472</th>\n",
       "      <td>2pants 2019/995_W01.jpg</td>\n",
       "      <td>288</td>\n",
       "      <td>493</td>\n",
       "      <td>604</td>\n",
       "      <td>1161</td>\n",
       "      <td>1</td>\n",
       "      <td>2</td>\n",
       "      <td>2</td>\n",
       "      <td>train</td>\n",
       "      <td>D:Dataset/dataset/Task1/train/img/11472.jpg</td>\n",
       "    </tr>\n",
       "    <tr>\n",
       "      <th>11473</th>\n",
       "      <td>2pants 2019/996_W06.jpg</td>\n",
       "      <td>303</td>\n",
       "      <td>582</td>\n",
       "      <td>567</td>\n",
       "      <td>1158</td>\n",
       "      <td>1</td>\n",
       "      <td>2</td>\n",
       "      <td>0</td>\n",
       "      <td>train</td>\n",
       "      <td>D:Dataset/dataset/Task1/train/img/11473.jpg</td>\n",
       "    </tr>\n",
       "    <tr>\n",
       "      <th>11474</th>\n",
       "      <td>2pants 2019/997_W06.jpg</td>\n",
       "      <td>201</td>\n",
       "      <td>663</td>\n",
       "      <td>565</td>\n",
       "      <td>1219</td>\n",
       "      <td>1</td>\n",
       "      <td>2</td>\n",
       "      <td>0</td>\n",
       "      <td>train</td>\n",
       "      <td>D:Dataset/dataset/Task1/train/img/11474.jpg</td>\n",
       "    </tr>\n",
       "    <tr>\n",
       "      <th>11475</th>\n",
       "      <td>2pants 2019/998_W06.jpg</td>\n",
       "      <td>245</td>\n",
       "      <td>562</td>\n",
       "      <td>589</td>\n",
       "      <td>1214</td>\n",
       "      <td>3</td>\n",
       "      <td>1</td>\n",
       "      <td>0</td>\n",
       "      <td>train</td>\n",
       "      <td>D:Dataset/dataset/Task1/train/img/11475.jpg</td>\n",
       "    </tr>\n",
       "    <tr>\n",
       "      <th>11476</th>\n",
       "      <td>2pants 2019/999_W01.jpg</td>\n",
       "      <td>283</td>\n",
       "      <td>481</td>\n",
       "      <td>623</td>\n",
       "      <td>1161</td>\n",
       "      <td>1</td>\n",
       "      <td>2</td>\n",
       "      <td>0</td>\n",
       "      <td>train</td>\n",
       "      <td>D:Dataset/dataset/Task1/train/img/11476.jpg</td>\n",
       "    </tr>\n",
       "  </tbody>\n",
       "</table>\n",
       "<p>11477 rows × 10 columns</p>\n",
       "</div>"
      ],
      "text/plain": [
       "                    image_name  BBox_xmin  BBox_ymin  BBox_xmax  BBox_ymax  \\\n",
       "0           1209/BO00001-1.jpg         45        197        313        393   \n",
       "1           1209/BO00002-1.jpg        117        114        476        556   \n",
       "2           1209/BO00003-1.jpg         62        212        372        544   \n",
       "3           1209/BO00004-1.jpg        159         17        484        395   \n",
       "4           1209/BO00005-1.jpg         51         54        561        441   \n",
       "...                        ...        ...        ...        ...        ...   \n",
       "11472  2pants 2019/995_W01.jpg        288        493        604       1161   \n",
       "11473  2pants 2019/996_W06.jpg        303        582        567       1158   \n",
       "11474  2pants 2019/997_W06.jpg        201        663        565       1219   \n",
       "11475  2pants 2019/998_W06.jpg        245        562        589       1214   \n",
       "11476  2pants 2019/999_W01.jpg        283        481        623       1161   \n",
       "\n",
       "       Daily  Gender  Embellishment  Split  \\\n",
       "0          4       5              0  train   \n",
       "1          1       5              1  train   \n",
       "2          1       5              0  train   \n",
       "3          1       5              1  train   \n",
       "4          1       3              0  train   \n",
       "...      ...     ...            ...    ...   \n",
       "11472      1       2              2  train   \n",
       "11473      1       2              0  train   \n",
       "11474      1       2              0  train   \n",
       "11475      3       1              0  train   \n",
       "11476      1       2              0  train   \n",
       "\n",
       "                                         data_path  \n",
       "0          D:Dataset/dataset/Task1/train/img/0.jpg  \n",
       "1          D:Dataset/dataset/Task1/train/img/1.jpg  \n",
       "2          D:Dataset/dataset/Task1/train/img/2.jpg  \n",
       "3          D:Dataset/dataset/Task1/train/img/3.jpg  \n",
       "4          D:Dataset/dataset/Task1/train/img/4.jpg  \n",
       "...                                            ...  \n",
       "11472  D:Dataset/dataset/Task1/train/img/11472.jpg  \n",
       "11473  D:Dataset/dataset/Task1/train/img/11473.jpg  \n",
       "11474  D:Dataset/dataset/Task1/train/img/11474.jpg  \n",
       "11475  D:Dataset/dataset/Task1/train/img/11475.jpg  \n",
       "11476  D:Dataset/dataset/Task1/train/img/11476.jpg  \n",
       "\n",
       "[11477 rows x 10 columns]"
      ]
     },
     "execution_count": 38,
     "metadata": {},
     "output_type": "execute_result"
    }
   ],
   "source": [
    "train"
   ]
  },
  {
   "cell_type": "code",
   "execution_count": null,
   "id": "65409374",
   "metadata": {},
   "outputs": [],
   "source": []
  }
 ],
 "metadata": {
  "kernelspec": {
   "display_name": "Python 3 (ipykernel)",
   "language": "python",
   "name": "python3"
  },
  "language_info": {
   "codemirror_mode": {
    "name": "ipython",
    "version": 3
   },
   "file_extension": ".py",
   "mimetype": "text/x-python",
   "name": "python",
   "nbconvert_exporter": "python",
   "pygments_lexer": "ipython3",
   "version": "3.9.0"
  },
  "toc": {
   "base_numbering": 1,
   "nav_menu": {},
   "number_sections": true,
   "sideBar": true,
   "skip_h1_title": false,
   "title_cell": "Table of Contents",
   "title_sidebar": "Contents",
   "toc_cell": false,
   "toc_position": {},
   "toc_section_display": true,
   "toc_window_display": false
  }
 },
 "nbformat": 4,
 "nbformat_minor": 5
}
