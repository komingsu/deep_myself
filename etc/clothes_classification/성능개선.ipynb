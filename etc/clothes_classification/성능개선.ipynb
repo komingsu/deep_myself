{
 "cells": [
  {
   "cell_type": "code",
   "execution_count": 1,
   "id": "24884c33",
   "metadata": {
    "ExecuteTime": {
     "end_time": "2022-08-16T16:41:03.550014Z",
     "start_time": "2022-08-16T16:41:03.055903Z"
    }
   },
   "outputs": [],
   "source": [
    "import torch # 파이토치 \n",
    "import random\n",
    "import numpy as np\n",
    "import os\n",
    "\n",
    "# 시드값 고정\n",
    "seed = 50\n",
    "os.environ['PYTHONHASHSEED'] = str(seed)\n",
    "random.seed(seed)\n",
    "np.random.seed(seed)\n",
    "torch.manual_seed(seed)\n",
    "torch.cuda.manual_seed(seed)\n",
    "torch.cuda.manual_seed_all(seed)\n",
    "torch.backends.cudnn.deterministic = True\n",
    "torch.backends.cudnn.benchmark = False\n",
    "torch.backends.cudnn.enabled = False"
   ]
  },
  {
   "cell_type": "code",
   "execution_count": 7,
   "id": "8c4f5122",
   "metadata": {
    "ExecuteTime": {
     "end_time": "2022-08-16T16:42:29.642428Z",
     "start_time": "2022-08-16T16:42:29.638352Z"
    }
   },
   "outputs": [],
   "source": [
    "# 데이터 경로\n",
    "data_path = \"D:Dataset/dataset/Task1/\"\n",
    "\n",
    "# 훈련, 검증, 테스트 데이터 경로 설정\n",
    "train_path = data_path + 'train/'\n",
    "valid_path = data_path + 'val/'\n",
    "test_path = data_path + 'test/'"
   ]
  },
  {
   "cell_type": "code",
   "execution_count": 8,
   "id": "9121bdd5",
   "metadata": {
    "ExecuteTime": {
     "end_time": "2022-08-16T16:42:31.694512Z",
     "start_time": "2022-08-16T16:42:31.675507Z"
    }
   },
   "outputs": [],
   "source": [
    "from torchvision import transforms\n",
    "\n",
    "# 훈련 데이터용 변환기\n",
    "transform_train = transforms.Compose([\n",
    "                          transforms.Resize((250, 250)),      # 이미지 크기 조정 \n",
    "                          transforms.CenterCrop(180),         # 중앙 이미지 확대\n",
    "                          transforms.RandomHorizontalFlip(0.5), # 좌우 대칭\n",
    "                          transforms.RandomVerticalFlip(0.2), # 상하 대칭\n",
    "                          transforms.RandomRotation(20),      # 이미지 회전\n",
    "                          transforms.ToTensor(),              # 텐서 객체로 변환\n",
    "                          transforms.Normalize((0.485, 0.456, 0.406), \n",
    "                                               (0.229, 0.224, 0.225))]) # 정규화\n",
    "\n",
    "# 테스트 데이터용 변환기\n",
    "transform_test = transforms.Compose([\n",
    "                          transforms.Resize((250, 250)),\n",
    "                          transforms.CenterCrop(180),\n",
    "                          transforms.ToTensor(),\n",
    "                          transforms.Normalize((0.485, 0.456, 0.406), \n",
    "                                               (0.229, 0.224, 0.225))])"
   ]
  },
  {
   "cell_type": "code",
   "execution_count": 11,
   "id": "6e39416f",
   "metadata": {
    "ExecuteTime": {
     "end_time": "2022-08-16T16:42:41.232168Z",
     "start_time": "2022-08-16T16:42:41.102341Z"
    }
   },
   "outputs": [],
   "source": [
    "from torchvision.datasets import ImageFolder\n",
    "\n",
    "# 훈련 데이터셋\n",
    "datasets_train = ImageFolder(root=train_path, transform=transform_train)\n",
    "# 검증 데이터셋\n",
    "datasets_test = ImageFolder(root=test_path, transform=transform_test) "
   ]
  },
  {
   "cell_type": "code",
   "execution_count": 12,
   "id": "09f44b81",
   "metadata": {
    "ExecuteTime": {
     "end_time": "2022-08-16T16:42:46.468004Z",
     "start_time": "2022-08-16T16:42:46.454963Z"
    }
   },
   "outputs": [
    {
     "data": {
      "text/plain": [
       "<torch._C.Generator at 0x1f2ab41f490>"
      ]
     },
     "execution_count": 12,
     "metadata": {},
     "output_type": "execute_result"
    }
   ],
   "source": [
    "def seed_worker(worker_id):\n",
    "    worker_seed = torch.initial_seed() % 2**32\n",
    "    np.random.seed(worker_seed)\n",
    "    random.seed(worker_seed)\n",
    "    \n",
    "g = torch.Generator()\n",
    "g.manual_seed(0)"
   ]
  },
  {
   "cell_type": "code",
   "execution_count": 13,
   "id": "4bfd6ce0",
   "metadata": {
    "ExecuteTime": {
     "end_time": "2022-08-16T16:45:24.841313Z",
     "start_time": "2022-08-16T16:45:24.833311Z"
    }
   },
   "outputs": [],
   "source": [
    "from torch.utils.data import DataLoader\n",
    "\n",
    "batch_size = 2\n",
    "\n",
    "loader_train = DataLoader(dataset=datasets_train, batch_size=batch_size, \n",
    "                          shuffle=True, worker_init_fn=seed_worker,\n",
    "                          generator=g, num_workers=2)\n",
    "loader_test = DataLoader(dataset=datasets_test, batch_size=batch_size, \n",
    "                          shuffle=False, worker_init_fn=seed_worker,\n",
    "                          generator=g, num_workers=2)"
   ]
  },
  {
   "cell_type": "code",
   "execution_count": null,
   "id": "8b94e6f3",
   "metadata": {},
   "outputs": [],
   "source": [
    "models_list =[] # 모델 저장용 리스트\n",
    "from efficientnet_pytorch import EfficientNet\n",
    "\n",
    "# 모델 생성\n",
    "efficientnet_b1 = EfficientNet.from_pretrained('efficientnet-b7', num_classes=2) "
   ]
  }
 ],
 "metadata": {
  "kernelspec": {
   "display_name": "Python 3 (ipykernel)",
   "language": "python",
   "name": "python3"
  },
  "language_info": {
   "codemirror_mode": {
    "name": "ipython",
    "version": 3
   },
   "file_extension": ".py",
   "mimetype": "text/x-python",
   "name": "python",
   "nbconvert_exporter": "python",
   "pygments_lexer": "ipython3",
   "version": "3.9.0"
  },
  "toc": {
   "base_numbering": 1,
   "nav_menu": {},
   "number_sections": true,
   "sideBar": true,
   "skip_h1_title": false,
   "title_cell": "Table of Contents",
   "title_sidebar": "Contents",
   "toc_cell": false,
   "toc_position": {},
   "toc_section_display": true,
   "toc_window_display": false
  }
 },
 "nbformat": 4,
 "nbformat_minor": 5
}
