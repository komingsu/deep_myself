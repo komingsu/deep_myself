{
 "cells": [
  {
   "cell_type": "markdown",
   "id": "0190bc1c",
   "metadata": {},
   "source": [
    "# 준비"
   ]
  },
  {
   "cell_type": "code",
   "execution_count": null,
   "id": "c380c34c",
   "metadata": {
    "ExecuteTime": {
     "end_time": "2022-06-10T07:09:19.167763Z",
     "start_time": "2022-06-10T07:09:15.750746Z"
    }
   },
   "outputs": [],
   "source": [
    "import numpy as np\n",
    "import pandas as pd\n",
    "import matplotlib.pyplot as plt\n",
    "import seaborn as sns\n",
    "\n",
    "import warnings\n",
    "warnings.filterwarnings(action='ignore')\n",
    "plt.rc(\"axes\", unicode_minus=False) # 음수값 깨지는 폰트 설정"
   ]
  },
  {
   "cell_type": "code",
   "execution_count": null,
   "id": "94950dcc",
   "metadata": {
    "ExecuteTime": {
     "end_time": "2022-06-10T07:09:19.214734Z",
     "start_time": "2022-06-10T07:09:19.185645Z"
    }
   },
   "outputs": [],
   "source": [
    "train_data = pd.read_csv(\"Data/train.csv\")\n",
    "test_data = pd.read_csv(\"Data/test.csv\")\n",
    "submission = pd.read_csv(\"Data/sample_submission.csv\")"
   ]
  },
  {
   "cell_type": "code",
   "execution_count": null,
   "id": "51522576",
   "metadata": {
    "ExecuteTime": {
     "end_time": "2022-06-10T07:09:19.261647Z",
     "start_time": "2022-06-10T07:09:19.246656Z"
    }
   },
   "outputs": [],
   "source": [
    "train_data.shape, test_data.shape"
   ]
  },
  {
   "cell_type": "code",
   "execution_count": null,
   "id": "450ee3eb",
   "metadata": {
    "ExecuteTime": {
     "end_time": "2022-06-10T07:09:19.325499Z",
     "start_time": "2022-06-10T07:09:19.299516Z"
    }
   },
   "outputs": [],
   "source": [
    "train_data.head()"
   ]
  },
  {
   "cell_type": "markdown",
   "id": "53389893",
   "metadata": {},
   "source": [
    "# EDA1"
   ]
  },
  {
   "cell_type": "markdown",
   "id": "fb7736fd",
   "metadata": {},
   "source": [
    "## target"
   ]
  },
  {
   "cell_type": "code",
   "execution_count": null,
   "id": "9375f7c1",
   "metadata": {
    "ExecuteTime": {
     "end_time": "2022-06-09T04:43:24.588196Z",
     "start_time": "2022-06-09T04:43:23.997546Z"
    },
    "scrolled": true
   },
   "outputs": [],
   "source": [
    "f , axes = plt.subplots(1,3)\n",
    "axes = axes.flatten()\n",
    "f.set_size_inches(18,5)\n",
    "\n",
    "# target 의 log_scale\n",
    "train_data[\"log_target\"] = np.log1p(train_data[\"target\"])\n",
    "\n",
    "sns.histplot(x=\"target\", data=train_data, ax=axes[0])\n",
    "axes[0].set(title = \"target histogram\")\n",
    "sns.histplot(x=\"log_target\", data=train_data, ax=axes[1])\n",
    "axes[1].set(title = \"log_target histogram\")\n",
    "sns.boxplot(x=\"log_target\", data=train_data, ax=axes[2])\n",
    "axes[2].set(title = \"log_target boxplot\")"
   ]
  },
  {
   "cell_type": "markdown",
   "id": "e12c02ee",
   "metadata": {
    "ExecuteTime": {
     "end_time": "2022-06-07T21:56:52.791949Z",
     "start_time": "2022-06-07T21:56:52.775277Z"
    }
   },
   "source": [
    "## title"
   ]
  },
  {
   "cell_type": "code",
   "execution_count": null,
   "id": "64a60bb9",
   "metadata": {
    "ExecuteTime": {
     "end_time": "2022-06-10T00:24:38.567847Z",
     "start_time": "2022-06-10T00:24:38.528901Z"
    }
   },
   "outputs": [],
   "source": [
    "# train + test\n",
    "all_data = pd.concat([train_data, test_data], axis=0, ignore_index=True)\n",
    "print(all_data.shape)\n",
    "# 자동차 회사 피쳐 생성\n",
    "all_data[\"com\"] = all_data[\"title\"].map(lambda x: x.split()[0].upper())\n",
    "\n",
    "# title 대문자\n",
    "all_data[\"title\"] = all_data[\"title\"].apply(lambda x: x.upper())"
   ]
  },
  {
   "cell_type": "code",
   "execution_count": null,
   "id": "8883b314",
   "metadata": {
    "ExecuteTime": {
     "end_time": "2022-06-10T00:24:54.983728Z",
     "start_time": "2022-06-10T00:24:54.952680Z"
    }
   },
   "outputs": [],
   "source": [
    "all_data[\"title\"].value_counts()"
   ]
  },
  {
   "cell_type": "code",
   "execution_count": null,
   "id": "c6224526",
   "metadata": {
    "ExecuteTime": {
     "end_time": "2022-06-09T04:43:25.344118Z",
     "start_time": "2022-06-09T04:43:25.331115Z"
    }
   },
   "outputs": [],
   "source": [
    "all_data[\"com\"].unique()"
   ]
  },
  {
   "cell_type": "code",
   "execution_count": null,
   "id": "a844cbaf",
   "metadata": {
    "ExecuteTime": {
     "end_time": "2022-06-09T04:43:25.360074Z",
     "start_time": "2022-06-09T04:43:25.346076Z"
    }
   },
   "outputs": [],
   "source": [
    "all_data[\"com\"].replace(\"MERCEDES-BENZ/52\",\"MERCEDES-BENZ\",inplace=True)"
   ]
  },
  {
   "cell_type": "code",
   "execution_count": null,
   "id": "18c7e807",
   "metadata": {
    "ExecuteTime": {
     "end_time": "2022-06-09T04:43:25.376033Z",
     "start_time": "2022-06-09T04:43:25.362032Z"
    }
   },
   "outputs": [],
   "source": [
    "all_data.shape"
   ]
  },
  {
   "cell_type": "markdown",
   "id": "291f172f",
   "metadata": {},
   "source": [
    "## odometer"
   ]
  },
  {
   "cell_type": "code",
   "execution_count": null,
   "id": "b47a3a65",
   "metadata": {
    "ExecuteTime": {
     "end_time": "2022-06-09T04:43:25.503653Z",
     "start_time": "2022-06-09T04:43:25.377989Z"
    }
   },
   "outputs": [],
   "source": [
    "all_data[[\"odometer\"]].boxplot(column=\"odometer\")"
   ]
  },
  {
   "cell_type": "code",
   "execution_count": null,
   "id": "9c9be062",
   "metadata": {
    "ExecuteTime": {
     "end_time": "2022-06-09T04:43:25.630314Z",
     "start_time": "2022-06-09T04:43:25.505650Z"
    }
   },
   "outputs": [],
   "source": [
    "all_data[\"log_odometer\"]=np.log1p(all_data[\"odometer\"])\n",
    "all_data[[\"log_odometer\"]].boxplot(column=\"log_odometer\")"
   ]
  },
  {
   "cell_type": "code",
   "execution_count": null,
   "id": "e9ffef0c",
   "metadata": {
    "ExecuteTime": {
     "end_time": "2022-06-09T04:43:25.672722Z",
     "start_time": "2022-06-09T04:43:25.631312Z"
    }
   },
   "outputs": [],
   "source": [
    "all_data[\"new\"] = all_data[\"odometer\"].copy()\n",
    "all_data[\"new\"][all_data[\"new\"]!=0] = 1\n",
    "all_data[\"new\"][all_data[\"new\"]==0] = 0"
   ]
  },
  {
   "cell_type": "code",
   "execution_count": null,
   "id": "5654e076",
   "metadata": {
    "ExecuteTime": {
     "end_time": "2022-06-09T04:43:25.723918Z",
     "start_time": "2022-06-09T04:43:25.674761Z"
    }
   },
   "outputs": [],
   "source": [
    "all_data[\"too_old\"] = all_data[\"log_odometer\"].copy()\n",
    "all_data[\"too_old\"][all_data[\"too_old\"]<10] = 0\n",
    "all_data[\"too_old\"][all_data[\"too_old\"]>=10] = 1"
   ]
  },
  {
   "cell_type": "code",
   "execution_count": null,
   "id": "ba946bee",
   "metadata": {
    "ExecuteTime": {
     "end_time": "2022-06-09T04:43:25.739903Z",
     "start_time": "2022-06-09T04:43:25.725912Z"
    }
   },
   "outputs": [],
   "source": [
    "all_data.shape"
   ]
  },
  {
   "cell_type": "markdown",
   "id": "7dcb87d5",
   "metadata": {},
   "source": [
    "## year"
   ]
  },
  {
   "cell_type": "code",
   "execution_count": null,
   "id": "db18d0e3",
   "metadata": {
    "ExecuteTime": {
     "end_time": "2022-06-10T00:53:36.252729Z",
     "start_time": "2022-06-10T00:53:36.217352Z"
    }
   },
   "outputs": [],
   "source": [
    "all_data[[\"year\"]].head()"
   ]
  },
  {
   "cell_type": "code",
   "execution_count": null,
   "id": "95252af2",
   "metadata": {
    "ExecuteTime": {
     "end_time": "2022-06-10T00:53:38.036296Z",
     "start_time": "2022-06-10T00:53:36.354200Z"
    }
   },
   "outputs": [],
   "source": [
    "# year - 2020\n",
    "all_data[\"old\"] = all_data[\"year\"]-2020\n",
    "# 0 보다 큰 값은 0으로 수정\n",
    "all_data[\"old\"][all_data[\"old\"]>0] = 0\n",
    "# old 의 median = -10\n",
    "all_data[\"old\"][all_data[\"old\"]<-100] = -10\n",
    "# old 의  abs\n",
    "all_data[\"old\"] = abs(all_data[\"old\"])"
   ]
  },
  {
   "cell_type": "code",
   "execution_count": null,
   "id": "fa0a0d41",
   "metadata": {
    "ExecuteTime": {
     "end_time": "2022-06-10T00:53:38.271438Z",
     "start_time": "2022-06-10T00:53:38.220811Z"
    }
   },
   "outputs": [],
   "source": [
    "all_data[[\"old\"]].head()"
   ]
  },
  {
   "cell_type": "code",
   "execution_count": null,
   "id": "20bcb9ea",
   "metadata": {
    "ExecuteTime": {
     "end_time": "2022-06-09T04:43:25.834657Z",
     "start_time": "2022-06-09T04:43:25.820657Z"
    }
   },
   "outputs": [],
   "source": [
    "all_data.shape"
   ]
  },
  {
   "cell_type": "markdown",
   "id": "a7819ca5",
   "metadata": {},
   "source": [
    "## color"
   ]
  },
  {
   "cell_type": "code",
   "execution_count": null,
   "id": "7340f9c4",
   "metadata": {
    "ExecuteTime": {
     "end_time": "2022-06-09T04:43:25.850577Z",
     "start_time": "2022-06-09T04:43:25.835654Z"
    }
   },
   "outputs": [],
   "source": [
    "import re\n",
    "\n",
    "\n",
    "def clean_text(texts):\n",
    "    corpus = []\n",
    "    for i in range(0, len(texts)):\n",
    "        review = re.sub(\n",
    "            r'[@%\\\\*=()/~#&\\+á?\\xc3\\xa1\\-\\|\\.\\:\\;\\!\\-\\,\\_\\~\\$\\'\\\"\\n\\]\\[\\>\\<]',\n",
    "            '', texts[i])  #@%*=()/+ 와 같은 문장부호 제거\n",
    "        review = re.sub(r'\\d+', '', review)  #숫자 제거\n",
    "        review = review.lower()  #소문자 변환\n",
    "        review = re.sub(r'\\s+', ' ', review)  #extra space 제거\n",
    "        review = re.sub(r'<[^>]+>', '', review)  #Html tags 제거\n",
    "        review = re.sub(r'\\s+', ' ', review)  #spaces 제거\n",
    "        review = re.sub(r\"^\\s+\", '', review)  #space from start 제거\n",
    "        review = re.sub(r'\\s+$', '', review)  #space from the end 제거\n",
    "        review = re.sub(r'_', ' ', review)  #space from the end 제거\n",
    "        #review = re.sub(r'l', '', review)\n",
    "        corpus.append(review)\n",
    "\n",
    "    return corpus"
   ]
  },
  {
   "cell_type": "code",
   "execution_count": null,
   "id": "c742a15f",
   "metadata": {
    "ExecuteTime": {
     "end_time": "2022-06-09T04:43:35.613203Z",
     "start_time": "2022-06-09T04:43:35.566743Z"
    }
   },
   "outputs": [],
   "source": [
    "temp = clean_text(all_data['paint']) #메소드 적용\n",
    "all_data['clean_paint'] = temp"
   ]
  },
  {
   "cell_type": "code",
   "execution_count": null,
   "id": "60a1ab50",
   "metadata": {
    "ExecuteTime": {
     "end_time": "2022-06-09T04:43:35.661161Z",
     "start_time": "2022-06-09T04:43:35.621189Z"
    }
   },
   "outputs": [],
   "source": [
    "all_data['clean_paint'] = all_data['clean_paint'] = all_data['clean_paint'].apply(lambda x : 'blue' if x.find('blue') >= 0 else x)\n",
    "all_data['clean_paint'] = all_data['clean_paint'] = all_data['clean_paint'].apply(lambda x : 'red' if x.find('red') >= 0 else x)\n",
    "all_data['clean_paint'] = all_data['clean_paint'] = all_data['clean_paint'].apply(lambda x : 'green' if x.find('green') >= 0 else x)\n",
    "all_data['clean_paint'] = all_data['clean_paint'] = all_data['clean_paint'].apply(lambda x : 'white' if x.find('white') >= 0 else x)\n",
    "all_data['clean_paint'] = all_data['clean_paint'] = all_data['clean_paint'].apply(lambda x : 'grey' if x.find('grey') >= 0 else x)\n",
    "all_data['clean_paint'] = all_data['clean_paint'] = all_data['clean_paint'].apply(lambda x : 'grey' if x.find('gery') >= 0 else x)\n",
    "all_data['clean_paint'] = all_data['clean_paint'] = all_data['clean_paint'].apply(lambda x : 'grey' if x.find('gray') >= 0 else x)\n",
    "all_data['clean_paint'] = all_data['clean_paint'] = all_data['clean_paint'].apply(lambda x : 'ash' if x.find('ash') >= 0 else x)\n",
    "all_data['clean_paint'] = all_data['clean_paint'] = all_data['clean_paint'].apply(lambda x : 'brown' if x.find('brown') >= 0 else x)\n",
    "all_data['clean_paint'] = all_data['clean_paint'] = all_data['clean_paint'].apply(lambda x : 'silver' if x.find('silver') >= 0 else x)\n",
    "all_data['clean_paint'] = all_data['clean_paint'] = all_data['clean_paint'].apply(lambda x : 'silver' if x.find('sliver') >= 0 else x)\n",
    "all_data['clean_paint'] = all_data['clean_paint'] = all_data['clean_paint'].apply(lambda x : 'black' if x.find('black') >= 0 else x)\n",
    "all_data['clean_paint'] = all_data['clean_paint'] = all_data['clean_paint'].apply(lambda x : 'gold' if x.find('gold') >= 0 else x)\n",
    "all_data['clean_paint'] = all_data['clean_paint'] = all_data['clean_paint'].apply(lambda x : 'wine' if x.find('whine') >= 0 else x)"
   ]
  },
  {
   "cell_type": "code",
   "execution_count": null,
   "id": "22d23ddf",
   "metadata": {
    "ExecuteTime": {
     "end_time": "2022-06-09T04:43:35.693119Z",
     "start_time": "2022-06-09T04:43:35.666154Z"
    },
    "scrolled": false
   },
   "outputs": [],
   "source": [
    "all_data['clean_paint'].value_counts()"
   ]
  },
  {
   "cell_type": "code",
   "execution_count": null,
   "id": "9041372c",
   "metadata": {
    "ExecuteTime": {
     "end_time": "2022-06-09T04:43:35.724997Z",
     "start_time": "2022-06-09T04:43:35.695077Z"
    }
   },
   "outputs": [],
   "source": [
    "all_data[(all_data[\"clean_paint\"] == \"milk\") |\n",
    "         (all_data[\"clean_paint\"] == \"purple\") |\n",
    "         (all_data[\"clean_paint\"] == \"maroon\") |\n",
    "         (all_data[\"clean_paint\"] == \"beige\")]"
   ]
  },
  {
   "cell_type": "code",
   "execution_count": null,
   "id": "7722f313",
   "metadata": {
    "ExecuteTime": {
     "end_time": "2022-06-09T04:43:35.756912Z",
     "start_time": "2022-06-09T04:43:35.725995Z"
    }
   },
   "outputs": [],
   "source": [
    "all_data[(all_data[\"clean_paint\"] == \"golf\") |\n",
    "         (all_data[\"clean_paint\"] == \"orange\") |\n",
    "         (all_data[\"clean_paint\"] == \"blac\") |\n",
    "         (all_data[\"clean_paint\"] == \"indigo ink pearl\")]"
   ]
  },
  {
   "cell_type": "code",
   "execution_count": null,
   "id": "d9bc2c96",
   "metadata": {
    "ExecuteTime": {
     "end_time": "2022-06-09T04:43:35.772868Z",
     "start_time": "2022-06-09T04:43:35.757909Z"
    }
   },
   "outputs": [],
   "source": [
    "def replacestringetc(data,x, counts):\n",
    "    if sum(data == x) >counts:\n",
    "        return x\n",
    "    else:\n",
    "        return \"etc\""
   ]
  },
  {
   "cell_type": "code",
   "execution_count": null,
   "id": "e7d1cfba",
   "metadata": {
    "ExecuteTime": {
     "end_time": "2022-06-09T04:43:36.263943Z",
     "start_time": "2022-06-09T04:43:35.773867Z"
    }
   },
   "outputs": [],
   "source": [
    "all_data[\"clean_paint\"] = all_data[\"clean_paint\"].map(lambda x: replacestringetc(all_data[\"clean_paint\"], x, 5))"
   ]
  },
  {
   "cell_type": "code",
   "execution_count": null,
   "id": "c258248d",
   "metadata": {
    "ExecuteTime": {
     "end_time": "2022-06-09T04:43:36.279897Z",
     "start_time": "2022-06-09T04:43:36.267933Z"
    }
   },
   "outputs": [],
   "source": [
    "all_data['clean_paint'].value_counts()"
   ]
  },
  {
   "cell_type": "code",
   "execution_count": null,
   "id": "5821cc62",
   "metadata": {
    "ExecuteTime": {
     "end_time": "2022-06-09T04:43:36.295887Z",
     "start_time": "2022-06-09T04:43:36.281892Z"
    }
   },
   "outputs": [],
   "source": [
    "all_data.shape"
   ]
  },
  {
   "cell_type": "markdown",
   "id": "39946727",
   "metadata": {},
   "source": [
    "## engine"
   ]
  },
  {
   "cell_type": "code",
   "execution_count": null,
   "id": "e92489ad",
   "metadata": {
    "ExecuteTime": {
     "end_time": "2022-06-09T04:43:36.311854Z",
     "start_time": "2022-06-09T04:43:36.296854Z"
    }
   },
   "outputs": [],
   "source": [
    "all_data[\"engine\"].value_counts()"
   ]
  },
  {
   "cell_type": "code",
   "execution_count": null,
   "id": "68995a79",
   "metadata": {
    "ExecuteTime": {
     "end_time": "2022-06-09T04:43:36.343768Z",
     "start_time": "2022-06-09T04:43:36.313809Z"
    }
   },
   "outputs": [],
   "source": [
    "all_data[(all_data[\"engine\"]==\"12-cylinder(V12)\")|(all_data[\"engine\"]==\"2-cylinder(I2)\")|(all_data[\"engine\"]==\"4-cylinder(H4)\")|(all_data[\"engine\"]==\"5-cylinder(I5)\")|(all_data[\"engine\"]==\"3-cylinder(I3)\")]"
   ]
  },
  {
   "cell_type": "code",
   "execution_count": null,
   "id": "45d1ce43",
   "metadata": {
    "ExecuteTime": {
     "end_time": "2022-06-09T04:43:36.359685Z",
     "start_time": "2022-06-09T04:43:36.344725Z"
    }
   },
   "outputs": [],
   "source": [
    "all_data[\"engine_type\"] = all_data[\"engine\"].copy()\n",
    "all_data[\"cylinder\"] = all_data[\"engine\"].copy()\n",
    "all_data[\"cylinder\"] = all_data[\"cylinder\"].map(lambda x: x.split(\"(\")[1][:1])\n",
    "all_data[\"engine_type\"] = all_data[\"engine_type\"].map(\n",
    "    lambda x: x.split(\"(\")[1][1:-1])"
   ]
  },
  {
   "cell_type": "code",
   "execution_count": null,
   "id": "7817cf94",
   "metadata": {
    "ExecuteTime": {
     "end_time": "2022-06-09T04:43:36.375641Z",
     "start_time": "2022-06-09T04:43:36.360682Z"
    }
   },
   "outputs": [],
   "source": [
    "all_data[\"engine_type\"].value_counts()"
   ]
  },
  {
   "cell_type": "code",
   "execution_count": null,
   "id": "bf80c784",
   "metadata": {
    "ExecuteTime": {
     "end_time": "2022-06-09T04:43:36.390639Z",
     "start_time": "2022-06-09T04:43:36.377635Z"
    }
   },
   "outputs": [],
   "source": [
    "all_data[\"cylinder\"].value_counts()"
   ]
  },
  {
   "cell_type": "code",
   "execution_count": null,
   "id": "724f6e00",
   "metadata": {
    "ExecuteTime": {
     "end_time": "2022-06-09T04:43:36.406597Z",
     "start_time": "2022-06-09T04:43:36.392596Z"
    }
   },
   "outputs": [],
   "source": [
    "all_data.shape"
   ]
  },
  {
   "cell_type": "markdown",
   "id": "acb524ad",
   "metadata": {},
   "source": [
    "## location"
   ]
  },
  {
   "cell_type": "code",
   "execution_count": null,
   "id": "3ec765b6",
   "metadata": {
    "ExecuteTime": {
     "end_time": "2022-06-09T04:43:46.411315Z",
     "start_time": "2022-06-09T04:43:46.396851Z"
    }
   },
   "outputs": [],
   "source": [
    "all_data[\"location\"] = all_data[\"location\"].map(lambda x: x.strip())"
   ]
  },
  {
   "cell_type": "code",
   "execution_count": null,
   "id": "f8bae543",
   "metadata": {
    "ExecuteTime": {
     "end_time": "2022-06-09T04:43:47.090135Z",
     "start_time": "2022-06-09T04:43:47.077132Z"
    }
   },
   "outputs": [],
   "source": [
    "all_data[\"location\"].value_counts()"
   ]
  },
  {
   "cell_type": "code",
   "execution_count": null,
   "id": "60850fbf",
   "metadata": {
    "ExecuteTime": {
     "end_time": "2022-06-09T04:43:47.780598Z",
     "start_time": "2022-06-09T04:43:47.764979Z"
    }
   },
   "outputs": [],
   "source": [
    "all_data['location'] = all_data['location'].apply(lambda x : 'Abia' if x.find('Abia') >= 0 else x)\n",
    "all_data['location'] = all_data['location'].apply(lambda x : 'Abuja' if x.find('Abuja') >= 0 else x)\n",
    "all_data['location'] = all_data['location'].apply(lambda x : 'Lagos' if x.find('Lagos') >= 0 else x)\n",
    "all_data['location'] = all_data['location'].apply(lambda x : 'Ogun' if x.find('Ogun') >= 0 else x)\n",
    "all_data['location'] = all_data['location'].apply(lambda x : 'Ogun' if x.find('ogun') >= 0 else x)\n",
    "all_data['location'] = all_data['location'].apply(lambda x : 'Lagos' if x.find('Mushin') >= 0 else x)"
   ]
  },
  {
   "cell_type": "code",
   "execution_count": null,
   "id": "196ba38b",
   "metadata": {
    "ExecuteTime": {
     "end_time": "2022-06-09T04:43:48.429184Z",
     "start_time": "2022-06-09T04:43:48.416222Z"
    }
   },
   "outputs": [],
   "source": [
    "all_data[\"location\"].value_counts()"
   ]
  },
  {
   "cell_type": "code",
   "execution_count": null,
   "id": "6beff93b",
   "metadata": {
    "ExecuteTime": {
     "end_time": "2022-06-09T04:43:49.108187Z",
     "start_time": "2022-06-09T04:43:49.097217Z"
    }
   },
   "outputs": [],
   "source": [
    "all_data.shape"
   ]
  },
  {
   "cell_type": "markdown",
   "id": "776a8f8c",
   "metadata": {},
   "source": [
    "# 전처리2"
   ]
  },
  {
   "cell_type": "code",
   "execution_count": null,
   "id": "c779441f",
   "metadata": {
    "ExecuteTime": {
     "end_time": "2022-06-09T04:43:49.795872Z",
     "start_time": "2022-06-09T04:43:49.780984Z"
    }
   },
   "outputs": [],
   "source": [
    "temp = all_data[~all_data[\"target\"].isnull()]"
   ]
  },
  {
   "cell_type": "code",
   "execution_count": null,
   "id": "c4552b3a",
   "metadata": {
    "ExecuteTime": {
     "end_time": "2022-06-09T04:43:50.761829Z",
     "start_time": "2022-06-09T04:43:50.453416Z"
    }
   },
   "outputs": [],
   "source": [
    "plt.figure(figsize=(10,8))\n",
    "sns.barplot(data=temp, x=\"location\", y=\"target\")"
   ]
  },
  {
   "cell_type": "code",
   "execution_count": null,
   "id": "a7caeaaa",
   "metadata": {
    "ExecuteTime": {
     "end_time": "2022-06-09T04:43:51.860903Z",
     "start_time": "2022-06-09T04:43:51.420336Z"
    }
   },
   "outputs": [],
   "source": [
    "all_data[\"location\"] = all_data[\"location\"].map(lambda x: replacestringetc(all_data[\"location\"], x, 2))"
   ]
  },
  {
   "cell_type": "code",
   "execution_count": null,
   "id": "cb4eafd1",
   "metadata": {
    "ExecuteTime": {
     "end_time": "2022-06-09T04:43:52.813312Z",
     "start_time": "2022-06-09T04:43:52.519600Z"
    }
   },
   "outputs": [],
   "source": [
    "temp = all_data[~all_data[\"target\"].isnull()]\n",
    "sns.barplot(data=temp, x=\"location\", y=\"target\")"
   ]
  },
  {
   "cell_type": "code",
   "execution_count": null,
   "id": "40cb039c",
   "metadata": {
    "ExecuteTime": {
     "end_time": "2022-06-09T04:43:53.509632Z",
     "start_time": "2022-06-09T04:43:53.494590Z"
    }
   },
   "outputs": [],
   "source": [
    "all_data.shape"
   ]
  },
  {
   "cell_type": "markdown",
   "id": "42286809",
   "metadata": {},
   "source": [
    "## isimported"
   ]
  },
  {
   "cell_type": "code",
   "execution_count": null,
   "id": "da930e0d",
   "metadata": {
    "ExecuteTime": {
     "end_time": "2022-06-09T04:43:54.197679Z",
     "start_time": "2022-06-09T04:43:54.168177Z"
    }
   },
   "outputs": [],
   "source": [
    "all_data[\"isimported\"].value_counts()"
   ]
  },
  {
   "cell_type": "code",
   "execution_count": null,
   "id": "857ea6b1",
   "metadata": {
    "ExecuteTime": {
     "end_time": "2022-06-09T04:43:55.112367Z",
     "start_time": "2022-06-09T04:43:54.909839Z"
    }
   },
   "outputs": [],
   "source": [
    "sns.barplot(data=temp, x=\"isimported\", y=\"target\")"
   ]
  },
  {
   "cell_type": "code",
   "execution_count": null,
   "id": "1910aecd",
   "metadata": {
    "ExecuteTime": {
     "end_time": "2022-06-09T04:43:56.153180Z",
     "start_time": "2022-06-09T04:43:55.775636Z"
    }
   },
   "outputs": [],
   "source": [
    "sns.barplot(data=all_data, x=\"isimported\", y=\"odometer\")"
   ]
  },
  {
   "cell_type": "markdown",
   "id": "eef008fa",
   "metadata": {},
   "source": [
    "## transmission"
   ]
  },
  {
   "cell_type": "code",
   "execution_count": null,
   "id": "e41e7c1c",
   "metadata": {
    "ExecuteTime": {
     "end_time": "2022-06-09T04:43:56.844657Z",
     "start_time": "2022-06-09T04:43:56.831780Z"
    }
   },
   "outputs": [],
   "source": [
    "all_data[\"transmission\"].value_counts()"
   ]
  },
  {
   "cell_type": "code",
   "execution_count": null,
   "id": "f2e56bc6",
   "metadata": {
    "ExecuteTime": {
     "end_time": "2022-06-09T04:43:57.723186Z",
     "start_time": "2022-06-09T04:43:57.562037Z"
    }
   },
   "outputs": [],
   "source": [
    "sns.barplot(data=temp, x=\"transmission\", y=\"target\")"
   ]
  },
  {
   "cell_type": "markdown",
   "id": "b5cfc772",
   "metadata": {},
   "source": [
    "## fuel"
   ]
  },
  {
   "cell_type": "code",
   "execution_count": null,
   "id": "931fe4ca",
   "metadata": {
    "ExecuteTime": {
     "end_time": "2022-06-09T04:43:58.386347Z",
     "start_time": "2022-06-09T04:43:58.372377Z"
    }
   },
   "outputs": [],
   "source": [
    "all_data[\"fuel\"].value_counts()"
   ]
  },
  {
   "cell_type": "code",
   "execution_count": null,
   "id": "a0803235",
   "metadata": {
    "ExecuteTime": {
     "end_time": "2022-06-09T04:43:59.261775Z",
     "start_time": "2022-06-09T04:43:59.084399Z"
    }
   },
   "outputs": [],
   "source": [
    "sns.barplot(data=temp, x=\"fuel\", y=\"target\")"
   ]
  },
  {
   "cell_type": "code",
   "execution_count": null,
   "id": "1fcecdb6",
   "metadata": {
    "ExecuteTime": {
     "end_time": "2022-06-09T04:43:59.937651Z",
     "start_time": "2022-06-09T04:43:59.922683Z"
    }
   },
   "outputs": [],
   "source": [
    "all_data.shape"
   ]
  },
  {
   "cell_type": "markdown",
   "id": "ba62d010",
   "metadata": {},
   "source": [
    "## brand"
   ]
  },
  {
   "cell_type": "code",
   "execution_count": null,
   "id": "3418b8b4",
   "metadata": {
    "ExecuteTime": {
     "end_time": "2022-06-09T04:44:01.791093Z",
     "start_time": "2022-06-09T04:44:00.613908Z"
    }
   },
   "outputs": [],
   "source": [
    "plt.figure(figsize=(20,15))\n",
    "sns.barplot(data=temp, x=\"com\", y=\"target\")"
   ]
  },
  {
   "cell_type": "code",
   "execution_count": null,
   "id": "b2991fd4",
   "metadata": {
    "ExecuteTime": {
     "end_time": "2022-06-09T04:44:03.637616Z",
     "start_time": "2022-06-09T04:44:02.461939Z"
    }
   },
   "outputs": [],
   "source": [
    "plt.figure(figsize=(20,15))\n",
    "sns.barplot(data=temp, x=\"com\", y=\"log_target\")"
   ]
  },
  {
   "cell_type": "code",
   "execution_count": null,
   "id": "954ebe03",
   "metadata": {
    "ExecuteTime": {
     "end_time": "2022-06-09T04:44:04.345783Z",
     "start_time": "2022-06-09T04:44:04.315067Z"
    }
   },
   "outputs": [],
   "source": [
    "pt = pd.pivot_table(data=temp, index=[\"com\"], values=[\"target\"], aggfunc=np.max).reset_index()\n",
    "pt = pt.sort_values(\"target\",ascending=False)\n",
    "len(pt)"
   ]
  },
  {
   "cell_type": "code",
   "execution_count": null,
   "id": "fe79a248",
   "metadata": {
    "ExecuteTime": {
     "end_time": "2022-06-09T04:44:05.039647Z",
     "start_time": "2022-06-09T04:44:05.024495Z"
    }
   },
   "outputs": [],
   "source": [
    "pt.tail()"
   ]
  },
  {
   "cell_type": "code",
   "execution_count": null,
   "id": "fd42cc14",
   "metadata": {
    "ExecuteTime": {
     "end_time": "2022-06-09T04:44:06.162385Z",
     "start_time": "2022-06-09T04:44:05.713084Z"
    }
   },
   "outputs": [],
   "source": [
    "plt.figure(figsize=(15,12))\n",
    "sns.barplot(data=pt, x=\"com\", y=\"target\")"
   ]
  },
  {
   "cell_type": "code",
   "execution_count": null,
   "id": "1c801e76",
   "metadata": {
    "ExecuteTime": {
     "end_time": "2022-06-09T04:44:06.831496Z",
     "start_time": "2022-06-09T04:44:06.818375Z"
    }
   },
   "outputs": [],
   "source": [
    "clurst = [1,2,2,2,3,3,4,4,4,4,4,4] + [5 for i in range(28)]\n",
    "len(clurst)"
   ]
  },
  {
   "cell_type": "code",
   "execution_count": null,
   "id": "a147e05c",
   "metadata": {
    "ExecuteTime": {
     "end_time": "2022-06-09T04:44:07.514793Z",
     "start_time": "2022-06-09T04:44:07.500703Z"
    }
   },
   "outputs": [],
   "source": [
    "pt[\"target_com_rank\"] = clurst"
   ]
  },
  {
   "cell_type": "code",
   "execution_count": null,
   "id": "9f118579",
   "metadata": {
    "ExecuteTime": {
     "end_time": "2022-06-09T04:44:08.207767Z",
     "start_time": "2022-06-09T04:44:08.193980Z"
    }
   },
   "outputs": [],
   "source": [
    "all_data = pd.merge(left=all_data, right=pt, how=\"left\", on=\"com\")"
   ]
  },
  {
   "cell_type": "code",
   "execution_count": null,
   "id": "1c0b3e4a",
   "metadata": {
    "ExecuteTime": {
     "end_time": "2022-06-09T04:44:08.888903Z",
     "start_time": "2022-06-09T04:44:08.874469Z"
    }
   },
   "outputs": [],
   "source": [
    "# 결측값 확인후 5라고 줌\n",
    "all_data.loc[all_data[\"target_com_rank\"].isnull(),\"target_com_rank\"] = 5"
   ]
  },
  {
   "cell_type": "code",
   "execution_count": null,
   "id": "605ebbf4",
   "metadata": {
    "ExecuteTime": {
     "end_time": "2022-06-09T04:44:09.654658Z",
     "start_time": "2022-06-09T04:44:09.639291Z"
    }
   },
   "outputs": [],
   "source": [
    "all_data.shape"
   ]
  },
  {
   "cell_type": "markdown",
   "id": "391bc7a1",
   "metadata": {},
   "source": [
    "## color"
   ]
  },
  {
   "cell_type": "code",
   "execution_count": null,
   "id": "f3d0dbe1",
   "metadata": {
    "ExecuteTime": {
     "end_time": "2022-06-09T04:44:10.369384Z",
     "start_time": "2022-06-09T04:44:10.358419Z"
    }
   },
   "outputs": [],
   "source": [
    "all_data[\"paint\"].unique()"
   ]
  },
  {
   "cell_type": "code",
   "execution_count": null,
   "id": "eed872f7",
   "metadata": {
    "ExecuteTime": {
     "end_time": "2022-06-09T04:44:11.198573Z",
     "start_time": "2022-06-09T04:44:11.103279Z"
    }
   },
   "outputs": [],
   "source": [
    "all_data['paint'].map(lambda x: \"\".join(clean_text(x))).unique()"
   ]
  },
  {
   "cell_type": "code",
   "execution_count": null,
   "id": "10458e6e",
   "metadata": {
    "ExecuteTime": {
     "end_time": "2022-06-09T04:44:11.959592Z",
     "start_time": "2022-06-09T04:44:11.879124Z"
    }
   },
   "outputs": [],
   "source": [
    "all_data[\"paint\"] = all_data['paint'].map(lambda x: \"\".join(clean_text(x)))"
   ]
  },
  {
   "cell_type": "code",
   "execution_count": null,
   "id": "568d6265",
   "metadata": {
    "ExecuteTime": {
     "end_time": "2022-06-09T04:44:12.677524Z",
     "start_time": "2022-06-09T04:44:12.630337Z"
    }
   },
   "outputs": [],
   "source": [
    "all_data['paint'] = all_data['paint'] = all_data['paint'].apply(lambda x : 'blue' if x.find('blue') >= 0 else x)\n",
    "all_data['paint'] = all_data['paint'] = all_data['paint'].apply(lambda x : 'red' if x.find('red') >= 0 else x)\n",
    "all_data['paint'] = all_data['paint'] = all_data['paint'].apply(lambda x : 'green' if x.find('green') >= 0 else x)\n",
    "all_data['paint'] = all_data['paint'] = all_data['paint'].apply(lambda x : 'grey' if x.find('grey') >= 0 else x)\n",
    "all_data['paint'] = all_data['paint'] = all_data['paint'].apply(lambda x : 'grey' if x.find('gery') >= 0 else x)\n",
    "all_data['paint'] = all_data['paint'] = all_data['paint'].apply(lambda x : 'grey' if x.find('gray') >= 0 else x)\n",
    "all_data['paint'] = all_data['paint'] = all_data['paint'].apply(lambda x : 'grey' if x.find('ash') >= 0 else x)\n",
    "all_data['paint'] = all_data['paint'] = all_data['paint'].apply(lambda x : 'brown' if x.find('brown') >= 0 else x)\n",
    "all_data['paint'] = all_data['paint'] = all_data['paint'].apply(lambda x : 'grey' if x.find('silver') >= 0 else x)\n",
    "all_data['paint'] = all_data['paint'] = all_data['paint'].apply(lambda x : 'grey' if x.find('sliver') >= 0 else x)\n",
    "all_data['paint'] = all_data['paint'] = all_data['paint'].apply(lambda x : 'black' if x.find('black') >= 0 else x)\n",
    "all_data['paint'] = all_data['paint'] = all_data['paint'].apply(lambda x : 'gold' if x.find('gold') >= 0 else x)\n",
    "all_data['paint'] = all_data['paint'] = all_data['paint'].apply(lambda x : 'red' if x.find('whine') >= 0 else x)\n",
    "all_data['paint'] = all_data['paint'] = all_data['paint'].apply(lambda x : 'wine' if x.find('metal') >= 0 else x)\n",
    "all_data['paint'] = all_data['paint'] = all_data['paint'].apply(lambda x : 'red' if x.find('maroon') >= 0 else x)\n",
    "all_data['paint'] = all_data['paint'] = all_data['paint'].apply(lambda x : 'black' if x.find('blac') >= 0 else x)\n",
    "all_data['paint'] = all_data['paint'] = all_data['paint'].apply(lambda x : 'blue' if x.find('indigoinkpearl') >= 0 else x)\n",
    "all_data['paint'] = all_data['paint'] = all_data['paint'].apply(lambda x : 'black' if x.find('black') >= 0 else x)\n",
    "all_data['paint'] = all_data['paint'] = all_data['paint'].apply(lambda x : 'white' if x.find('white') >= 0 else x)\n",
    "all_data['paint'] = all_data['paint'] = all_data['paint'].apply(lambda x : 'gold' if x.find('golf') >= 0 else x)\n",
    "all_data['paint'] = all_data['paint'] = all_data['paint'].apply(lambda x : 'white' if x.find('milk') >= 0 else x)\n",
    "all_data['paint'] = all_data['paint'] = all_data['paint'].apply(lambda x : 'yellow' if x.find('orange') >= 0 else x)\n",
    "all_data['paint'] = all_data['paint'] = all_data['paint'].apply(lambda x : 'red' if x.find('wine') >= 0 else x)"
   ]
  },
  {
   "cell_type": "code",
   "execution_count": null,
   "id": "d50848ca",
   "metadata": {
    "ExecuteTime": {
     "end_time": "2022-06-09T04:44:13.405682Z",
     "start_time": "2022-06-09T04:44:13.374940Z"
    }
   },
   "outputs": [],
   "source": [
    "all_data[\"paint\"].value_counts()"
   ]
  },
  {
   "cell_type": "code",
   "execution_count": null,
   "id": "a93ce419",
   "metadata": {
    "ExecuteTime": {
     "end_time": "2022-06-09T04:44:14.119077Z",
     "start_time": "2022-06-09T04:44:14.104834Z"
    }
   },
   "outputs": [],
   "source": [
    "temp = all_data[~all_data[\"target_x\"].isnull()]"
   ]
  },
  {
   "cell_type": "code",
   "execution_count": null,
   "id": "87a56379",
   "metadata": {
    "ExecuteTime": {
     "end_time": "2022-06-09T04:44:15.355938Z",
     "start_time": "2022-06-09T04:44:14.792901Z"
    }
   },
   "outputs": [],
   "source": [
    "plt.figure(figsize=(15,10))\n",
    "sns.barplot(data=temp, x=\"clean_paint\", y=\"target_x\")"
   ]
  },
  {
   "cell_type": "code",
   "execution_count": null,
   "id": "331e9a4d",
   "metadata": {
    "ExecuteTime": {
     "end_time": "2022-06-09T04:44:16.544422Z",
     "start_time": "2022-06-09T04:44:16.053628Z"
    }
   },
   "outputs": [],
   "source": [
    "plt.figure(figsize=(15,10))\n",
    "sns.barplot(data=temp, x=\"paint\", y=\"target_x\")"
   ]
  },
  {
   "cell_type": "code",
   "execution_count": null,
   "id": "b9791f91",
   "metadata": {
    "ExecuteTime": {
     "end_time": "2022-06-09T04:44:17.768326Z",
     "start_time": "2022-06-09T04:44:17.277981Z"
    }
   },
   "outputs": [],
   "source": [
    "# 10개 이하 etc 처리\n",
    "all_data[\"paint_etc\"] = all_data[\"paint\"].map(lambda x : replacestringetc(all_data[\"paint\"], x, 10))"
   ]
  },
  {
   "cell_type": "code",
   "execution_count": null,
   "id": "4c6f91b1",
   "metadata": {
    "ExecuteTime": {
     "end_time": "2022-06-09T04:44:18.496135Z",
     "start_time": "2022-06-09T04:44:18.482173Z"
    }
   },
   "outputs": [],
   "source": [
    "# 무채색 / 유채색\n",
    "all_data[\"BWG\"] = all_data[\"paint_etc\"].copy()"
   ]
  },
  {
   "cell_type": "code",
   "execution_count": null,
   "id": "c1120228",
   "metadata": {
    "ExecuteTime": {
     "end_time": "2022-06-09T04:44:19.192667Z",
     "start_time": "2022-06-09T04:44:19.177673Z"
    }
   },
   "outputs": [],
   "source": [
    "def paint_bwg(x):\n",
    "    if x in [\"black\", \"grey\", \"white\"]:\n",
    "        return 1\n",
    "    else:\n",
    "        return 0"
   ]
  },
  {
   "cell_type": "code",
   "execution_count": null,
   "id": "5460300f",
   "metadata": {
    "ExecuteTime": {
     "end_time": "2022-06-09T04:44:19.910924Z",
     "start_time": "2022-06-09T04:44:19.895997Z"
    }
   },
   "outputs": [],
   "source": [
    "all_data[\"BWG\"] = all_data[\"BWG\"].map(lambda x: paint_bwg(x))"
   ]
  },
  {
   "cell_type": "code",
   "execution_count": null,
   "id": "b886caed",
   "metadata": {
    "ExecuteTime": {
     "end_time": "2022-06-09T04:44:20.621046Z",
     "start_time": "2022-06-09T04:44:20.608815Z"
    }
   },
   "outputs": [],
   "source": [
    "all_data[\"BWG\"].value_counts()"
   ]
  },
  {
   "cell_type": "code",
   "execution_count": null,
   "id": "92ab4d21",
   "metadata": {
    "ExecuteTime": {
     "end_time": "2022-06-09T04:44:21.399350Z",
     "start_time": "2022-06-09T04:44:21.374982Z"
    }
   },
   "outputs": [],
   "source": [
    "all_data.shape"
   ]
  },
  {
   "cell_type": "markdown",
   "id": "ce0b269a",
   "metadata": {
    "ExecuteTime": {
     "end_time": "2022-06-08T05:28:17.413216Z",
     "start_time": "2022-06-08T05:28:17.405239Z"
    }
   },
   "source": [
    "* 분기점\n",
    "    1. clean_paint 를 쓸 때\n",
    "    2. paint 를 쓸 때\n",
    "    3. paint_etc 를 쓸 때"
   ]
  },
  {
   "cell_type": "markdown",
   "id": "fb7a0269",
   "metadata": {},
   "source": [
    "# drop"
   ]
  },
  {
   "cell_type": "markdown",
   "id": "d792bd63",
   "metadata": {},
   "source": [
    "완전히 필요 없는 피쳐 제거"
   ]
  },
  {
   "cell_type": "code",
   "execution_count": null,
   "id": "d0d9d8cf",
   "metadata": {
    "ExecuteTime": {
     "end_time": "2022-06-09T04:44:22.160103Z",
     "start_time": "2022-06-09T04:44:22.122204Z"
    }
   },
   "outputs": [],
   "source": [
    "all_data.head()"
   ]
  },
  {
   "cell_type": "code",
   "execution_count": null,
   "id": "479a3671",
   "metadata": {
    "ExecuteTime": {
     "end_time": "2022-06-09T04:44:49.735415Z",
     "start_time": "2022-06-09T04:44:49.713478Z"
    }
   },
   "outputs": [],
   "source": [
    "drop_feature = [\"id\", \"engine\", \"year\", \"target_y\"]\n",
    "all_data = all_data.drop(drop_feature, axis=1)"
   ]
  },
  {
   "cell_type": "markdown",
   "id": "ef28f35a",
   "metadata": {},
   "source": [
    "# 데이터 정리"
   ]
  },
  {
   "cell_type": "code",
   "execution_count": null,
   "id": "94cd29f1",
   "metadata": {
    "ExecuteTime": {
     "end_time": "2022-06-09T04:44:59.002081Z",
     "start_time": "2022-06-09T04:44:58.993108Z"
    }
   },
   "outputs": [],
   "source": [
    "all_data[\"too_old\"] = all_data[\"too_old\"].astype(int)\n",
    "all_data[\"target_com_rank\"] = all_data[\"target_com_rank\"].astype(int)"
   ]
  },
  {
   "cell_type": "code",
   "execution_count": null,
   "id": "c2416000",
   "metadata": {
    "ExecuteTime": {
     "end_time": "2022-06-09T04:45:01.486312Z",
     "start_time": "2022-06-09T04:45:01.478287Z"
    }
   },
   "outputs": [],
   "source": [
    "all_data = all_data.rename(columns={\"target_x\":\"target\", \"new\":\"use\"})"
   ]
  },
  {
   "cell_type": "markdown",
   "id": "fa1a8056",
   "metadata": {},
   "source": [
    "# 저장"
   ]
  },
  {
   "cell_type": "code",
   "execution_count": null,
   "id": "2d93d9af",
   "metadata": {
    "ExecuteTime": {
     "end_time": "2022-06-09T04:45:03.795348Z",
     "start_time": "2022-06-09T04:45:03.760397Z"
    }
   },
   "outputs": [],
   "source": [
    "all_data.to_csv(\"preprocessing_done.csv\", index=False)"
   ]
  },
  {
   "cell_type": "code",
   "execution_count": null,
   "id": "6d1f9047",
   "metadata": {
    "ExecuteTime": {
     "end_time": "2022-06-09T04:45:04.543966Z",
     "start_time": "2022-06-09T04:45:04.514039Z"
    }
   },
   "outputs": [],
   "source": [
    "all_data = pd.read_csv(\"preprocessing_done.csv\")"
   ]
  },
  {
   "cell_type": "markdown",
   "id": "0496c473",
   "metadata": {},
   "source": [
    "# 데이터 분기점"
   ]
  },
  {
   "cell_type": "code",
   "execution_count": null,
   "id": "0adc4385",
   "metadata": {
    "ExecuteTime": {
     "end_time": "2022-06-09T04:45:16.320717Z",
     "start_time": "2022-06-09T04:45:16.309755Z"
    }
   },
   "outputs": [],
   "source": [
    "list(all_data)"
   ]
  },
  {
   "cell_type": "code",
   "execution_count": null,
   "id": "88397800",
   "metadata": {
    "ExecuteTime": {
     "end_time": "2022-06-09T04:47:17.672182Z",
     "start_time": "2022-06-09T04:47:17.640609Z"
    }
   },
   "outputs": [],
   "source": [
    "# [\n",
    "#     'title', 'odometer', 'location', 'isimported', 'transmission', 'fuel',\n",
    "#     'paint', 'target', 'log_target', 'com', 'log_odometer', 'use', 'too_old',\n",
    "#     'old', 'clean_paint', 'engine_type', 'cylinder', 'target_com_rank',\n",
    "#     'paint_etc'\n",
    "# ]\n",
    "# 가져갈 피쳐 체크\n",
    "\n",
    "all_data = all_data[[\n",
    " 'title',\n",
    " 'odometer',\n",
    " 'location',\n",
    " 'isimported',\n",
    " 'transmission',\n",
    " 'fuel',\n",
    "#  'paint',\n",
    "#  'target',\n",
    " 'log_target',\n",
    " 'com',\n",
    " 'log_odometer',\n",
    " 'use',\n",
    "#  'too_old',\n",
    " 'old',\n",
    "#  'clean_paint',\n",
    " 'engine_type',\n",
    " 'cylinder',\n",
    " 'target_com_rank',\n",
    " 'paint_etc',\n",
    " 'BWG'\n",
    "]]\n",
    "\n",
    "train = all_data[~all_data[\"log_target\"].isnull()].reset_index().drop(\"index\", axis=1)\n",
    "test = all_data[all_data[\"log_target\"].isnull()].reset_index().drop(\"index\", axis=1).drop(\"log_target\", axis=1)"
   ]
  },
  {
   "cell_type": "code",
   "execution_count": null,
   "id": "03a9c14a",
   "metadata": {
    "ExecuteTime": {
     "end_time": "2022-06-09T04:47:18.427282Z",
     "start_time": "2022-06-09T04:47:18.414024Z"
    }
   },
   "outputs": [],
   "source": [
    "train.shape, train_data.shape"
   ]
  },
  {
   "cell_type": "code",
   "execution_count": null,
   "id": "bb964092",
   "metadata": {
    "ExecuteTime": {
     "end_time": "2022-06-09T04:47:19.156688Z",
     "start_time": "2022-06-09T04:47:19.145647Z"
    }
   },
   "outputs": [],
   "source": [
    "test.shape, test_data.shape"
   ]
  },
  {
   "cell_type": "code",
   "execution_count": null,
   "id": "11348b70",
   "metadata": {
    "ExecuteTime": {
     "end_time": "2022-06-09T04:47:19.881386Z",
     "start_time": "2022-06-09T04:47:19.867424Z"
    }
   },
   "outputs": [],
   "source": [
    "sum(test.odometer - test_data.odometer)"
   ]
  },
  {
   "cell_type": "code",
   "execution_count": null,
   "id": "93650de8",
   "metadata": {
    "ExecuteTime": {
     "end_time": "2022-06-09T04:47:20.954146Z",
     "start_time": "2022-06-09T04:47:20.937190Z"
    }
   },
   "outputs": [],
   "source": [
    "train.head(2)"
   ]
  },
  {
   "cell_type": "code",
   "execution_count": null,
   "id": "efe81ff5",
   "metadata": {
    "ExecuteTime": {
     "end_time": "2022-06-09T04:47:21.743447Z",
     "start_time": "2022-06-09T04:47:21.715522Z"
    }
   },
   "outputs": [],
   "source": [
    "test.head(2)"
   ]
  },
  {
   "cell_type": "markdown",
   "id": "5f07b45a",
   "metadata": {},
   "source": [
    "# 평가지표 작성"
   ]
  },
  {
   "cell_type": "code",
   "execution_count": null,
   "id": "bc6125a1",
   "metadata": {
    "ExecuteTime": {
     "end_time": "2022-06-09T04:47:23.269107Z",
     "start_time": "2022-06-09T04:47:23.250153Z"
    }
   },
   "outputs": [],
   "source": [
    "def nmae(answer, pred):\n",
    "    mae = np.mean(np.abs(answer-pred))\n",
    "    score = mae / np.mean(np.abs(answer))\n",
    "    return score"
   ]
  },
  {
   "cell_type": "markdown",
   "id": "73817a57",
   "metadata": {},
   "source": [
    "# 모델링"
   ]
  },
  {
   "cell_type": "code",
   "execution_count": null,
   "id": "86472e21",
   "metadata": {
    "ExecuteTime": {
     "end_time": "2022-06-09T04:47:27.014984Z",
     "start_time": "2022-06-09T04:47:27.003984Z"
    }
   },
   "outputs": [],
   "source": [
    "from pycaret.regression import *"
   ]
  },
  {
   "cell_type": "code",
   "execution_count": null,
   "id": "aeddcdf6",
   "metadata": {
    "ExecuteTime": {
     "end_time": "2022-06-09T04:48:47.080984Z",
     "start_time": "2022-06-09T04:48:44.600589Z"
    }
   },
   "outputs": [],
   "source": [
    "data = setup(\n",
    "   data=train,\n",
    "   target='log_target',\n",
    "   train_size= 0.85,\n",
    "   normalize=True,\n",
    "   normalize_method ='minmax',\n",
    "   remove_perfect_collinearity=False,\n",
    "   fold=10,\n",
    ")"
   ]
  },
  {
   "cell_type": "code",
   "execution_count": null,
   "id": "b18ad5a0",
   "metadata": {
    "ExecuteTime": {
     "end_time": "2022-06-09T05:10:35.804188Z",
     "start_time": "2022-06-09T05:10:34.088342Z"
    }
   },
   "outputs": [],
   "source": [
    "add_metric(\"nmae\",\"NMAE\",nmae, False)"
   ]
  },
  {
   "cell_type": "code",
   "execution_count": null,
   "id": "dcb9763a",
   "metadata": {
    "ExecuteTime": {
     "end_time": "2022-06-09T04:50:12.737039Z",
     "start_time": "2022-06-09T04:48:59.771042Z"
    },
    "scrolled": true
   },
   "outputs": [],
   "source": [
    "compare_models(sort=\"NMAE\")"
   ]
  },
  {
   "cell_type": "code",
   "execution_count": null,
   "id": "065a8e3f",
   "metadata": {
    "ExecuteTime": {
     "end_time": "2022-06-09T05:12:22.848902Z",
     "start_time": "2022-06-09T05:10:56.845728Z"
    }
   },
   "outputs": [],
   "source": [
    "blender = blend_models(estimator_list=compare_models(n_select=2, sort=\"NMAE\"))"
   ]
  },
  {
   "cell_type": "code",
   "execution_count": null,
   "id": "3604d564",
   "metadata": {
    "ExecuteTime": {
     "end_time": "2022-06-09T05:12:46.503320Z",
     "start_time": "2022-06-09T05:12:26.124380Z"
    }
   },
   "outputs": [],
   "source": [
    "final = finalize_model(blender)"
   ]
  },
  {
   "cell_type": "code",
   "execution_count": null,
   "id": "34cd751b",
   "metadata": {
    "ExecuteTime": {
     "end_time": "2022-06-09T05:12:47.566451Z",
     "start_time": "2022-06-09T05:12:47.202946Z"
    }
   },
   "outputs": [],
   "source": [
    "y_pred = predict_model(final, data=test)"
   ]
  },
  {
   "cell_type": "code",
   "execution_count": null,
   "id": "60ae1de6",
   "metadata": {
    "ExecuteTime": {
     "end_time": "2022-06-09T05:12:48.351717Z",
     "start_time": "2022-06-09T05:12:48.336096Z"
    }
   },
   "outputs": [],
   "source": [
    "y_pred = y_pred.reset_index()"
   ]
  },
  {
   "cell_type": "code",
   "execution_count": null,
   "id": "91f5726f",
   "metadata": {
    "ExecuteTime": {
     "end_time": "2022-06-09T05:12:49.103508Z",
     "start_time": "2022-06-09T05:12:49.083492Z"
    }
   },
   "outputs": [],
   "source": [
    "y_pred_exp = np.expm1(y_pred[\"Label\"])"
   ]
  },
  {
   "cell_type": "code",
   "execution_count": null,
   "id": "2b9f29db",
   "metadata": {
    "ExecuteTime": {
     "end_time": "2022-06-09T05:12:49.798098Z",
     "start_time": "2022-06-09T05:12:49.788050Z"
    }
   },
   "outputs": [],
   "source": [
    "submission[\"target\"] = y_pred_exp"
   ]
  },
  {
   "cell_type": "code",
   "execution_count": null,
   "id": "3dbb449b",
   "metadata": {
    "ExecuteTime": {
     "end_time": "2022-06-09T05:12:50.456812Z",
     "start_time": "2022-06-09T05:12:50.441282Z"
    }
   },
   "outputs": [],
   "source": [
    "submission.to_csv(\"submission_14.csv\", index=False)"
   ]
  },
  {
   "cell_type": "code",
   "execution_count": null,
   "id": "07a3e301",
   "metadata": {
    "ExecuteTime": {
     "end_time": "2022-06-09T05:12:51.164681Z",
     "start_time": "2022-06-09T05:12:51.133438Z"
    }
   },
   "outputs": [],
   "source": [
    "pd.read_csv(\"submission_14.csv\")"
   ]
  },
  {
   "cell_type": "code",
   "execution_count": null,
   "id": "194bc5e7",
   "metadata": {},
   "outputs": [],
   "source": []
  }
 ],
 "metadata": {
  "kernelspec": {
   "display_name": "Python 3 (ipykernel)",
   "language": "python",
   "name": "python3"
  },
  "language_info": {
   "codemirror_mode": {
    "name": "ipython",
    "version": 3
   },
   "file_extension": ".py",
   "mimetype": "text/x-python",
   "name": "python",
   "nbconvert_exporter": "python",
   "pygments_lexer": "ipython3",
   "version": "3.9.0"
  },
  "toc": {
   "base_numbering": 1,
   "nav_menu": {},
   "number_sections": true,
   "sideBar": true,
   "skip_h1_title": false,
   "title_cell": "Table of Contents",
   "title_sidebar": "Contents",
   "toc_cell": false,
   "toc_position": {
    "height": "calc(100% - 180px)",
    "left": "10px",
    "top": "150px",
    "width": "297.3px"
   },
   "toc_section_display": true,
   "toc_window_display": true
  },
  "varInspector": {
   "cols": {
    "lenName": 16,
    "lenType": 16,
    "lenVar": 40
   },
   "kernels_config": {
    "python": {
     "delete_cmd_postfix": "",
     "delete_cmd_prefix": "del ",
     "library": "var_list.py",
     "varRefreshCmd": "print(var_dic_list())"
    },
    "r": {
     "delete_cmd_postfix": ") ",
     "delete_cmd_prefix": "rm(",
     "library": "var_list.r",
     "varRefreshCmd": "cat(var_dic_list()) "
    }
   },
   "types_to_exclude": [
    "module",
    "function",
    "builtin_function_or_method",
    "instance",
    "_Feature"
   ],
   "window_display": false
  }
 },
 "nbformat": 4,
 "nbformat_minor": 5
}
