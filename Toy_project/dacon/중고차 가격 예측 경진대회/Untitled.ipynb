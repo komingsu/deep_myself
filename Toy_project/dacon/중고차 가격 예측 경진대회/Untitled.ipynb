{
 "cells": [
  {
   "cell_type": "code",
   "execution_count": 9,
   "id": "15db1c10",
   "metadata": {},
   "outputs": [],
   "source": [
    "sample_seg=[[\n",
    "2235.76,\n",
    "677.61,\n",
    "2309.06,\n",
    "812.64,\n",
    "2417.97,\n",
    "1026.3,\n",
    "2476.59,\n",
    "1143.71,\n",
    "2487.2,\n",
    "1167.9,\n",
    "2508.3,\n",
    "1209.2,\n",
    "2559.31,\n",
    "1303.58,\n",
    "2587.44,\n",
    "1291.52,\n",
    "2527.5,\n",
    "1168.6,\n",
    "2502.89,\n",
    "1126.81,\n",
    "2454.5,\n",
    "1031.9,\n",
    "2374.37,\n",
    "874.2,\n",
    "2300.37,\n",
    "737.5,\n",
    "2239.87,\n",
    "626.84,\n",
    "2214.75,\n",
    "637.08]]"
   ]
  },
  {
   "cell_type": "code",
   "execution_count": 2,
   "id": "4a42de9c",
   "metadata": {},
   "outputs": [],
   "source": [
    "import numpy as np"
   ]
  },
  {
   "cell_type": "code",
   "execution_count": 16,
   "id": "72465be3",
   "metadata": {},
   "outputs": [
    {
     "data": {
      "text/plain": [
       "array([[2235.76,  677.61],\n",
       "       [2309.06,  812.64],\n",
       "       [2417.97, 1026.3 ],\n",
       "       [2476.59, 1143.71],\n",
       "       [2487.2 , 1167.9 ],\n",
       "       [2508.3 , 1209.2 ],\n",
       "       [2559.31, 1303.58],\n",
       "       [2587.44, 1291.52],\n",
       "       [2527.5 , 1168.6 ],\n",
       "       [2502.89, 1126.81],\n",
       "       [2454.5 , 1031.9 ],\n",
       "       [2374.37,  874.2 ],\n",
       "       [2300.37,  737.5 ],\n",
       "       [2239.87,  626.84],\n",
       "       [2214.75,  637.08]])"
      ]
     },
     "execution_count": 16,
     "metadata": {},
     "output_type": "execute_result"
    }
   ],
   "source": [
    "seg = np.array(sample_seg[0]).reshape(int(len(sample_seg[0])/2),2)\n",
    "seg"
   ]
  },
  {
   "cell_type": "code",
   "execution_count": 10,
   "id": "96cbb02a",
   "metadata": {},
   "outputs": [],
   "source": [
    "def convert_seg(seg):\n",
    "    seg = np.array(seg[0]).reshape(int(len(seg[0])/2),2)\n",
    "    seg = np.float16(np.divide(seg, [3980,2160]))\n",
    "    seg = list(seg.reshape(-1))\n",
    "    return seg"
   ]
  },
  {
   "cell_type": "code",
   "execution_count": 11,
   "id": "eebc3a45",
   "metadata": {},
   "outputs": [
    {
     "data": {
      "text/plain": [
       "[0.5615,\n",
       " 0.3137,\n",
       " 0.58,\n",
       " 0.3762,\n",
       " 0.6074,\n",
       " 0.475,\n",
       " 0.622,\n",
       " 0.5293,\n",
       " 0.625,\n",
       " 0.5405,\n",
       " 0.6304,\n",
       " 0.56,\n",
       " 0.643,\n",
       " 0.6035,\n",
       " 0.65,\n",
       " 0.598,\n",
       " 0.6353,\n",
       " 0.541,\n",
       " 0.629,\n",
       " 0.5215,\n",
       " 0.6167,\n",
       " 0.4778,\n",
       " 0.5967,\n",
       " 0.4048,\n",
       " 0.578,\n",
       " 0.3416,\n",
       " 0.563,\n",
       " 0.2903,\n",
       " 0.5566,\n",
       " 0.295]"
      ]
     },
     "execution_count": 11,
     "metadata": {},
     "output_type": "execute_result"
    }
   ],
   "source": [
    "convert_seg(sample_seg)"
   ]
  },
  {
   "cell_type": "code",
   "execution_count": 8,
   "id": "3abd6b87",
   "metadata": {},
   "outputs": [
    {
     "data": {
      "text/plain": [
       "[2235.76,\n",
       " 677.61,\n",
       " 2309.06,\n",
       " 812.64,\n",
       " 2417.97,\n",
       " 1026.3,\n",
       " 2476.59,\n",
       " 1143.71,\n",
       " 2487.2,\n",
       " 1167.9,\n",
       " 2508.3,\n",
       " 1209.2,\n",
       " 2559.31,\n",
       " 1303.58,\n",
       " 2587.44,\n",
       " 1291.52,\n",
       " 2527.5,\n",
       " 1168.6,\n",
       " 2502.89,\n",
       " 1126.81,\n",
       " 2454.5,\n",
       " 1031.9,\n",
       " 2374.37,\n",
       " 874.2,\n",
       " 2300.37,\n",
       " 737.5,\n",
       " 2239.87,\n",
       " 626.84,\n",
       " 2214.75,\n",
       " 637.08]"
      ]
     },
     "execution_count": 8,
     "metadata": {},
     "output_type": "execute_result"
    }
   ],
   "source": [
    "sample_seg"
   ]
  },
  {
   "cell_type": "code",
   "execution_count": null,
   "id": "b3160170",
   "metadata": {},
   "outputs": [],
   "source": []
  }
 ],
 "metadata": {
  "kernelspec": {
   "display_name": "Python 3 (ipykernel)",
   "language": "python",
   "name": "python3"
  },
  "language_info": {
   "codemirror_mode": {
    "name": "ipython",
    "version": 3
   },
   "file_extension": ".py",
   "mimetype": "text/x-python",
   "name": "python",
   "nbconvert_exporter": "python",
   "pygments_lexer": "ipython3",
   "version": "3.8.13"
  }
 },
 "nbformat": 4,
 "nbformat_minor": 5
}
