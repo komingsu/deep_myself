{
 "cells": [
  {
   "cell_type": "code",
   "execution_count": 24,
   "id": "30e6aa2e",
   "metadata": {
    "ExecuteTime": {
     "end_time": "2022-06-02T18:54:49.195364Z",
     "start_time": "2022-06-02T18:54:49.188339Z"
    }
   },
   "outputs": [],
   "source": [
    "import numpy as np\n",
    "import pandas as pd\n",
    "import matplotlib.pyplot as plt\n",
    "import seaborn as sns\n",
    "\n",
    "import warnings\n",
    "warnings.filterwarnings(action='ignore')"
   ]
  },
  {
   "cell_type": "code",
   "execution_count": 25,
   "id": "edb9bfea",
   "metadata": {
    "ExecuteTime": {
     "end_time": "2022-06-02T18:54:49.432963Z",
     "start_time": "2022-06-02T18:54:49.404957Z"
    }
   },
   "outputs": [
    {
     "data": {
      "text/plain": [
       "((1015, 12), (436, 10), (436, 2))"
      ]
     },
     "execution_count": 25,
     "metadata": {},
     "output_type": "execute_result"
    }
   ],
   "source": [
    "train_data = pd.read_csv(\"train.csv\")\n",
    "test_data = pd.read_csv(\"test.csv\")\n",
    "submission = pd.read_csv(\"sample_submission.csv\")\n",
    "train_data[\"log_target\"] = np.log1p(train_data[\"target\"])\n",
    "\n",
    "all_data = pd.concat([train_data, test_data], ignore_index=True)\n",
    "train_data.shape, test_data.shape, submission.shape"
   ]
  },
  {
   "cell_type": "code",
   "execution_count": 26,
   "id": "ee1635ca",
   "metadata": {
    "ExecuteTime": {
     "end_time": "2022-06-02T18:54:49.660970Z",
     "start_time": "2022-06-02T18:54:49.641961Z"
    }
   },
   "outputs": [],
   "source": [
    "all_data[\"com\"] = all_data[\"title\"].map(lambda x: x.split()[0].upper())\n",
    "all_data[\"com\"].replace(\"MERCEDES-BENZ/52\",\"MERCEDES-BENZ\",inplace=True)"
   ]
  },
  {
   "cell_type": "code",
   "execution_count": 27,
   "id": "3b6de078",
   "metadata": {
    "ExecuteTime": {
     "end_time": "2022-06-02T18:54:49.819330Z",
     "start_time": "2022-06-02T18:54:49.814328Z"
    }
   },
   "outputs": [],
   "source": [
    "all_data[\"title\"] = all_data[\"title\"].apply(lambda x: x.upper())"
   ]
  },
  {
   "cell_type": "code",
   "execution_count": 28,
   "id": "0eed1425",
   "metadata": {
    "ExecuteTime": {
     "end_time": "2022-06-02T18:54:50.056930Z",
     "start_time": "2022-06-02T18:54:50.003062Z"
    }
   },
   "outputs": [],
   "source": [
    "all_data[\"new\"] = all_data[\"odometer\"].copy()\n",
    "all_data[\"new\"][all_data[\"new\"]!=0] = 1\n",
    "all_data[\"new\"][all_data[\"new\"]==0] = 0\n",
    "all_data[\"log_odometer\"] = all_data[\"odometer\"].copy()\n",
    "all_data[\"log_odometer\"][all_data[\"log_odometer\"]==0]=10\n",
    "all_data[\"log_odometer\"] = np.log(all_data[\"log_odometer\"])\n",
    "all_data[\"too_old\"] = all_data[\"log_odometer\"].copy()\n",
    "all_data[\"too_old\"][all_data[\"too_old\"]<10] = 0\n",
    "all_data[\"too_old\"][all_data[\"too_old\"]>=10] = 1"
   ]
  },
  {
   "cell_type": "code",
   "execution_count": 29,
   "id": "d53cac42",
   "metadata": {
    "ExecuteTime": {
     "end_time": "2022-06-02T18:54:50.198296Z",
     "start_time": "2022-06-02T18:54:50.175292Z"
    }
   },
   "outputs": [],
   "source": [
    "# year - 2020\n",
    "all_data[\"old\"] = all_data[\"year\"]-2020\n",
    "# 0 보다 큰 값은 0으로 수정\n",
    "all_data[\"old\"][all_data[\"old\"]>0] = 0\n",
    "# old 의 median = -10\n",
    "all_data[\"old\"][all_data[\"old\"]<-100] = -10\n",
    "# old 의  abs\n",
    "all_data[\"old\"] = abs(all_data[\"old\"])"
   ]
  },
  {
   "cell_type": "code",
   "execution_count": 30,
   "id": "5c8f22ba",
   "metadata": {
    "ExecuteTime": {
     "end_time": "2022-06-02T18:54:50.806470Z",
     "start_time": "2022-06-02T18:54:50.777329Z"
    }
   },
   "outputs": [],
   "source": [
    "import re \n",
    "\n",
    "def clean_text(texts): \n",
    "    corpus = [] \n",
    "    for i in range(0, len(texts)): \n",
    "        review = re.sub(r'[@%\\\\*=()/~#&\\+á?\\xc3\\xa1\\-\\|\\.\\:\\;\\!\\-\\,\\_\\~\\$\\'\\\"\\n\\]\\[\\>\\<]', '',texts[i]) #@%*=()/+ 와 같은 문장부호 제거\n",
    "        review = re.sub(r'\\d+','',review)#숫자 제거\n",
    "        review = review.lower() #소문자 변환\n",
    "        review = re.sub(r'\\s+', ' ', review) #extra space 제거\n",
    "        review = re.sub(r'<[^>]+>','',review) #Html tags 제거\n",
    "        review = re.sub(r'\\s+', ' ', review) #spaces 제거\n",
    "        review = re.sub(r\"^\\s+\", '', review) #space from start 제거\n",
    "        review = re.sub(r'\\s+$', '', review) #space from the end 제거\n",
    "        review = re.sub(r'_', ' ', review) #space from the end 제거\n",
    "        #review = re.sub(r'l', '', review)\n",
    "        corpus.append(review) \n",
    "        \n",
    "    return corpus\n",
    "\n",
    "temp = clean_text(all_data['paint']) #메소드 적용\n",
    "all_data['paint'] = temp"
   ]
  },
  {
   "cell_type": "code",
   "execution_count": 31,
   "id": "e63b4e92",
   "metadata": {
    "ExecuteTime": {
     "end_time": "2022-06-02T18:54:51.249352Z",
     "start_time": "2022-06-02T18:54:51.218341Z"
    }
   },
   "outputs": [],
   "source": [
    "all_data['paint'] = all_data['paint'] = all_data['paint'].apply(lambda x : 'blue' if x.find('blue') >= 0 else x)\n",
    "all_data['paint'] = all_data['paint'] = all_data['paint'].apply(lambda x : 'red' if x.find('red') >= 0 else x)\n",
    "all_data['paint'] = all_data['paint'] = all_data['paint'].apply(lambda x : 'green' if x.find('green') >= 0 else x)\n",
    "all_data['paint'] = all_data['paint'] = all_data['paint'].apply(lambda x : 'white' if x.find('white') >= 0 else x)\n",
    "all_data['paint'] = all_data['paint'] = all_data['paint'].apply(lambda x : 'grey' if x.find('grey') >= 0 else x)\n",
    "all_data['paint'] = all_data['paint'] = all_data['paint'].apply(lambda x : 'grey' if x.find('gery') >= 0 else x)\n",
    "all_data['paint'] = all_data['paint'] = all_data['paint'].apply(lambda x : 'grey' if x.find('gray') >= 0 else x)\n",
    "all_data['paint'] = all_data['paint'] = all_data['paint'].apply(lambda x : 'ash' if x.find('ash') >= 0 else x)\n",
    "all_data['paint'] = all_data['paint'] = all_data['paint'].apply(lambda x : 'brown' if x.find('brown') >= 0 else x)\n",
    "all_data['paint'] = all_data['paint'] = all_data['paint'].apply(lambda x : 'silver' if x.find('silver') >= 0 else x)\n",
    "all_data['paint'] = all_data['paint'] = all_data['paint'].apply(lambda x : 'silver' if x.find('sliver') >= 0 else x)\n",
    "all_data['paint'] = all_data['paint'] = all_data['paint'].apply(lambda x : 'black' if x.find('black') >= 0 else x)\n",
    "all_data['paint'] = all_data['paint'] = all_data['paint'].apply(lambda x : 'gold' if x.find('gold') >= 0 else x)\n",
    "all_data['paint'] = all_data['paint'] = all_data['paint'].apply(lambda x : 'wine' if x.find('whine') >= 0 else x)"
   ]
  },
  {
   "cell_type": "code",
   "execution_count": 32,
   "id": "29f2ea50",
   "metadata": {
    "ExecuteTime": {
     "end_time": "2022-06-02T18:54:52.034427Z",
     "start_time": "2022-06-02T18:54:51.730732Z"
    }
   },
   "outputs": [],
   "source": [
    "def replacestringetc(data,x, counts):\n",
    "    if sum(data == x) >counts:\n",
    "        return x\n",
    "    else:\n",
    "        return \"etc\"\n",
    "    \n",
    "all_data[\"paint\"] = all_data[\"paint\"].map(lambda x: replacestringetc(all_data[\"paint\"], x, 3))"
   ]
  },
  {
   "cell_type": "code",
   "execution_count": 33,
   "id": "9dbe2098",
   "metadata": {
    "ExecuteTime": {
     "end_time": "2022-06-02T18:54:52.884499Z",
     "start_time": "2022-06-02T18:54:52.876368Z"
    }
   },
   "outputs": [],
   "source": [
    "all_data[\"engine_type\"] = all_data[\"engine\"].copy()\n",
    "all_data[\"cylinder\"] = all_data[\"engine\"].copy()\n",
    "all_data[\"cylinder\"] = all_data[\"cylinder\"].map(lambda x: x[-2])\n",
    "all_data[\"engine_type\"] = all_data[\"engine_type\"].map(lambda x: x[-3])"
   ]
  },
  {
   "cell_type": "code",
   "execution_count": 34,
   "id": "3228b154",
   "metadata": {
    "ExecuteTime": {
     "end_time": "2022-06-02T18:54:53.921968Z",
     "start_time": "2022-06-02T18:54:53.625368Z"
    }
   },
   "outputs": [],
   "source": [
    "all_data[\"location\"] = all_data[\"location\"].map(lambda x: replacestringetc(all_data[\"location\"],x,1))"
   ]
  },
  {
   "cell_type": "code",
   "execution_count": 35,
   "id": "e8db3d38",
   "metadata": {
    "ExecuteTime": {
     "end_time": "2022-06-02T18:54:55.744446Z",
     "start_time": "2022-06-02T18:54:55.724402Z"
    }
   },
   "outputs": [
    {
     "data": {
      "text/html": [
       "<div>\n",
       "<style scoped>\n",
       "    .dataframe tbody tr th:only-of-type {\n",
       "        vertical-align: middle;\n",
       "    }\n",
       "\n",
       "    .dataframe tbody tr th {\n",
       "        vertical-align: top;\n",
       "    }\n",
       "\n",
       "    .dataframe thead th {\n",
       "        text-align: right;\n",
       "    }\n",
       "</style>\n",
       "<table border=\"1\" class=\"dataframe\">\n",
       "  <thead>\n",
       "    <tr style=\"text-align: right;\">\n",
       "      <th></th>\n",
       "      <th>id</th>\n",
       "      <th>title</th>\n",
       "      <th>odometer</th>\n",
       "      <th>location</th>\n",
       "      <th>isimported</th>\n",
       "      <th>engine</th>\n",
       "      <th>transmission</th>\n",
       "      <th>fuel</th>\n",
       "      <th>paint</th>\n",
       "      <th>year</th>\n",
       "      <th>target</th>\n",
       "      <th>log_target</th>\n",
       "      <th>com</th>\n",
       "      <th>new</th>\n",
       "      <th>log_odometer</th>\n",
       "      <th>too_old</th>\n",
       "      <th>old</th>\n",
       "      <th>engine_type</th>\n",
       "      <th>cylinder</th>\n",
       "    </tr>\n",
       "  </thead>\n",
       "  <tbody>\n",
       "    <tr>\n",
       "      <th>0</th>\n",
       "      <td>0</td>\n",
       "      <td>TOYOTA RAV 4</td>\n",
       "      <td>18277</td>\n",
       "      <td>Lagos</td>\n",
       "      <td>Foreign Used</td>\n",
       "      <td>4-cylinder(I4)</td>\n",
       "      <td>automatic</td>\n",
       "      <td>petrol</td>\n",
       "      <td>red</td>\n",
       "      <td>2016</td>\n",
       "      <td>13665000.0</td>\n",
       "      <td>16.430348</td>\n",
       "      <td>TOYOTA</td>\n",
       "      <td>1</td>\n",
       "      <td>9.813399</td>\n",
       "      <td>0.0</td>\n",
       "      <td>4</td>\n",
       "      <td>I</td>\n",
       "      <td>4</td>\n",
       "    </tr>\n",
       "    <tr>\n",
       "      <th>1</th>\n",
       "      <td>1</td>\n",
       "      <td>TOYOTA LAND CRUISER</td>\n",
       "      <td>10</td>\n",
       "      <td>Lagos</td>\n",
       "      <td>New</td>\n",
       "      <td>4-cylinder(I4)</td>\n",
       "      <td>automatic</td>\n",
       "      <td>petrol</td>\n",
       "      <td>black</td>\n",
       "      <td>2019</td>\n",
       "      <td>33015000.0</td>\n",
       "      <td>17.312473</td>\n",
       "      <td>TOYOTA</td>\n",
       "      <td>1</td>\n",
       "      <td>2.302585</td>\n",
       "      <td>0.0</td>\n",
       "      <td>1</td>\n",
       "      <td>I</td>\n",
       "      <td>4</td>\n",
       "    </tr>\n",
       "    <tr>\n",
       "      <th>2</th>\n",
       "      <td>2</td>\n",
       "      <td>LAND ROVER RANGE ROVER EVOQUE</td>\n",
       "      <td>83091</td>\n",
       "      <td>Lagos</td>\n",
       "      <td>Foreign Used</td>\n",
       "      <td>6-cylinder(V6)</td>\n",
       "      <td>automatic</td>\n",
       "      <td>petrol</td>\n",
       "      <td>red</td>\n",
       "      <td>2012</td>\n",
       "      <td>9915000.0</td>\n",
       "      <td>16.109559</td>\n",
       "      <td>LAND</td>\n",
       "      <td>1</td>\n",
       "      <td>11.327692</td>\n",
       "      <td>1.0</td>\n",
       "      <td>8</td>\n",
       "      <td>V</td>\n",
       "      <td>6</td>\n",
       "    </tr>\n",
       "  </tbody>\n",
       "</table>\n",
       "</div>"
      ],
      "text/plain": [
       "   id                          title  odometer location    isimported  \\\n",
       "0   0                   TOYOTA RAV 4     18277   Lagos   Foreign Used   \n",
       "1   1            TOYOTA LAND CRUISER        10    Lagos          New    \n",
       "2   2  LAND ROVER RANGE ROVER EVOQUE     83091    Lagos  Foreign Used   \n",
       "\n",
       "           engine transmission    fuel  paint  year      target  log_target  \\\n",
       "0  4-cylinder(I4)    automatic  petrol    red  2016  13665000.0   16.430348   \n",
       "1  4-cylinder(I4)    automatic  petrol  black  2019  33015000.0   17.312473   \n",
       "2  6-cylinder(V6)    automatic  petrol    red  2012   9915000.0   16.109559   \n",
       "\n",
       "      com  new  log_odometer  too_old  old engine_type cylinder  \n",
       "0  TOYOTA    1      9.813399      0.0    4           I        4  \n",
       "1  TOYOTA    1      2.302585      0.0    1           I        4  \n",
       "2    LAND    1     11.327692      1.0    8           V        6  "
      ]
     },
     "execution_count": 35,
     "metadata": {},
     "output_type": "execute_result"
    }
   ],
   "source": [
    "all_data.head(3)"
   ]
  },
  {
   "cell_type": "code",
   "execution_count": 36,
   "id": "e874702f",
   "metadata": {
    "ExecuteTime": {
     "end_time": "2022-06-02T18:54:58.453200Z",
     "start_time": "2022-06-02T18:54:58.443127Z"
    }
   },
   "outputs": [],
   "source": [
    "drop_feature = [\"id\",\"year\",\"target\",\"log_odometer\",\"engine\"]\n",
    "all_data = all_data.drop(drop_feature, axis=1)\n",
    "all_data[\"too_old\"] = all_data[\"too_old\"].astype(int)"
   ]
  },
  {
   "cell_type": "code",
   "execution_count": 37,
   "id": "40914ac5",
   "metadata": {
    "ExecuteTime": {
     "end_time": "2022-06-02T18:54:59.015708Z",
     "start_time": "2022-06-02T18:54:58.998044Z"
    }
   },
   "outputs": [
    {
     "data": {
      "text/html": [
       "<div>\n",
       "<style scoped>\n",
       "    .dataframe tbody tr th:only-of-type {\n",
       "        vertical-align: middle;\n",
       "    }\n",
       "\n",
       "    .dataframe tbody tr th {\n",
       "        vertical-align: top;\n",
       "    }\n",
       "\n",
       "    .dataframe thead th {\n",
       "        text-align: right;\n",
       "    }\n",
       "</style>\n",
       "<table border=\"1\" class=\"dataframe\">\n",
       "  <thead>\n",
       "    <tr style=\"text-align: right;\">\n",
       "      <th></th>\n",
       "      <th>title</th>\n",
       "      <th>odometer</th>\n",
       "      <th>location</th>\n",
       "      <th>isimported</th>\n",
       "      <th>transmission</th>\n",
       "      <th>fuel</th>\n",
       "      <th>paint</th>\n",
       "      <th>log_target</th>\n",
       "      <th>com</th>\n",
       "      <th>new</th>\n",
       "      <th>too_old</th>\n",
       "      <th>old</th>\n",
       "      <th>engine_type</th>\n",
       "      <th>cylinder</th>\n",
       "    </tr>\n",
       "  </thead>\n",
       "  <tbody>\n",
       "    <tr>\n",
       "      <th>0</th>\n",
       "      <td>TOYOTA RAV 4</td>\n",
       "      <td>18277</td>\n",
       "      <td>Lagos</td>\n",
       "      <td>Foreign Used</td>\n",
       "      <td>automatic</td>\n",
       "      <td>petrol</td>\n",
       "      <td>red</td>\n",
       "      <td>16.430348</td>\n",
       "      <td>TOYOTA</td>\n",
       "      <td>1</td>\n",
       "      <td>0</td>\n",
       "      <td>4</td>\n",
       "      <td>I</td>\n",
       "      <td>4</td>\n",
       "    </tr>\n",
       "    <tr>\n",
       "      <th>1</th>\n",
       "      <td>TOYOTA LAND CRUISER</td>\n",
       "      <td>10</td>\n",
       "      <td>Lagos</td>\n",
       "      <td>New</td>\n",
       "      <td>automatic</td>\n",
       "      <td>petrol</td>\n",
       "      <td>black</td>\n",
       "      <td>17.312473</td>\n",
       "      <td>TOYOTA</td>\n",
       "      <td>1</td>\n",
       "      <td>0</td>\n",
       "      <td>1</td>\n",
       "      <td>I</td>\n",
       "      <td>4</td>\n",
       "    </tr>\n",
       "    <tr>\n",
       "      <th>2</th>\n",
       "      <td>LAND ROVER RANGE ROVER EVOQUE</td>\n",
       "      <td>83091</td>\n",
       "      <td>Lagos</td>\n",
       "      <td>Foreign Used</td>\n",
       "      <td>automatic</td>\n",
       "      <td>petrol</td>\n",
       "      <td>red</td>\n",
       "      <td>16.109559</td>\n",
       "      <td>LAND</td>\n",
       "      <td>1</td>\n",
       "      <td>1</td>\n",
       "      <td>8</td>\n",
       "      <td>V</td>\n",
       "      <td>6</td>\n",
       "    </tr>\n",
       "    <tr>\n",
       "      <th>3</th>\n",
       "      <td>LEXUS ES 350</td>\n",
       "      <td>91524</td>\n",
       "      <td>Lagos</td>\n",
       "      <td>Foreign Used</td>\n",
       "      <td>automatic</td>\n",
       "      <td>petrol</td>\n",
       "      <td>grey</td>\n",
       "      <td>15.154451</td>\n",
       "      <td>LEXUS</td>\n",
       "      <td>1</td>\n",
       "      <td>1</td>\n",
       "      <td>13</td>\n",
       "      <td>I</td>\n",
       "      <td>4</td>\n",
       "    </tr>\n",
       "    <tr>\n",
       "      <th>4</th>\n",
       "      <td>TOYOTA VENZA</td>\n",
       "      <td>94177</td>\n",
       "      <td>Lagos</td>\n",
       "      <td>Foreign Used</td>\n",
       "      <td>automatic</td>\n",
       "      <td>petrol</td>\n",
       "      <td>red</td>\n",
       "      <td>15.814962</td>\n",
       "      <td>TOYOTA</td>\n",
       "      <td>1</td>\n",
       "      <td>1</td>\n",
       "      <td>10</td>\n",
       "      <td>V</td>\n",
       "      <td>6</td>\n",
       "    </tr>\n",
       "    <tr>\n",
       "      <th>...</th>\n",
       "      <td>...</td>\n",
       "      <td>...</td>\n",
       "      <td>...</td>\n",
       "      <td>...</td>\n",
       "      <td>...</td>\n",
       "      <td>...</td>\n",
       "      <td>...</td>\n",
       "      <td>...</td>\n",
       "      <td>...</td>\n",
       "      <td>...</td>\n",
       "      <td>...</td>\n",
       "      <td>...</td>\n",
       "      <td>...</td>\n",
       "      <td>...</td>\n",
       "    </tr>\n",
       "    <tr>\n",
       "      <th>1446</th>\n",
       "      <td>MERCEDES-BENZ GLK 350</td>\n",
       "      <td>78175</td>\n",
       "      <td>Lagos</td>\n",
       "      <td>Foreign Used</td>\n",
       "      <td>automatic</td>\n",
       "      <td>petrol</td>\n",
       "      <td>blue</td>\n",
       "      <td>NaN</td>\n",
       "      <td>MERCEDES-BENZ</td>\n",
       "      <td>1</td>\n",
       "      <td>1</td>\n",
       "      <td>6</td>\n",
       "      <td>V</td>\n",
       "      <td>6</td>\n",
       "    </tr>\n",
       "    <tr>\n",
       "      <th>1447</th>\n",
       "      <td>HONDA CROSSTOUR</td>\n",
       "      <td>129223</td>\n",
       "      <td>Lagos</td>\n",
       "      <td>Foreign Used</td>\n",
       "      <td>automatic</td>\n",
       "      <td>petrol</td>\n",
       "      <td>red</td>\n",
       "      <td>NaN</td>\n",
       "      <td>HONDA</td>\n",
       "      <td>1</td>\n",
       "      <td>1</td>\n",
       "      <td>9</td>\n",
       "      <td>V</td>\n",
       "      <td>6</td>\n",
       "    </tr>\n",
       "    <tr>\n",
       "      <th>1448</th>\n",
       "      <td>MERCEDES-BENZ ML 350</td>\n",
       "      <td>100943</td>\n",
       "      <td>Lagos</td>\n",
       "      <td>Foreign Used</td>\n",
       "      <td>automatic</td>\n",
       "      <td>petrol</td>\n",
       "      <td>black</td>\n",
       "      <td>NaN</td>\n",
       "      <td>MERCEDES-BENZ</td>\n",
       "      <td>1</td>\n",
       "      <td>1</td>\n",
       "      <td>7</td>\n",
       "      <td>I</td>\n",
       "      <td>4</td>\n",
       "    </tr>\n",
       "    <tr>\n",
       "      <th>1449</th>\n",
       "      <td>LEXUS GX 470</td>\n",
       "      <td>81463</td>\n",
       "      <td>Lagos</td>\n",
       "      <td>Foreign Used</td>\n",
       "      <td>automatic</td>\n",
       "      <td>petrol</td>\n",
       "      <td>green</td>\n",
       "      <td>NaN</td>\n",
       "      <td>LEXUS</td>\n",
       "      <td>1</td>\n",
       "      <td>1</td>\n",
       "      <td>17</td>\n",
       "      <td>I</td>\n",
       "      <td>4</td>\n",
       "    </tr>\n",
       "    <tr>\n",
       "      <th>1450</th>\n",
       "      <td>TOYOTA SIENNA</td>\n",
       "      <td>646</td>\n",
       "      <td>Lagos</td>\n",
       "      <td>Foreign Used</td>\n",
       "      <td>automatic</td>\n",
       "      <td>petrol</td>\n",
       "      <td>silver</td>\n",
       "      <td>NaN</td>\n",
       "      <td>TOYOTA</td>\n",
       "      <td>1</td>\n",
       "      <td>0</td>\n",
       "      <td>14</td>\n",
       "      <td>V</td>\n",
       "      <td>6</td>\n",
       "    </tr>\n",
       "  </tbody>\n",
       "</table>\n",
       "<p>1451 rows × 14 columns</p>\n",
       "</div>"
      ],
      "text/plain": [
       "                              title  odometer location    isimported  \\\n",
       "0                      TOYOTA RAV 4     18277   Lagos   Foreign Used   \n",
       "1               TOYOTA LAND CRUISER        10    Lagos          New    \n",
       "2     LAND ROVER RANGE ROVER EVOQUE     83091    Lagos  Foreign Used   \n",
       "3                      LEXUS ES 350     91524    Lagos  Foreign Used   \n",
       "4                      TOYOTA VENZA     94177    Lagos  Foreign Used   \n",
       "...                             ...       ...      ...           ...   \n",
       "1446          MERCEDES-BENZ GLK 350     78175    Lagos  Foreign Used   \n",
       "1447                HONDA CROSSTOUR    129223    Lagos  Foreign Used   \n",
       "1448           MERCEDES-BENZ ML 350    100943    Lagos  Foreign Used   \n",
       "1449                   LEXUS GX 470     81463    Lagos  Foreign Used   \n",
       "1450                  TOYOTA SIENNA       646    Lagos  Foreign Used   \n",
       "\n",
       "     transmission    fuel   paint  log_target            com  new  too_old  \\\n",
       "0       automatic  petrol     red   16.430348         TOYOTA    1        0   \n",
       "1       automatic  petrol   black   17.312473         TOYOTA    1        0   \n",
       "2       automatic  petrol     red   16.109559           LAND    1        1   \n",
       "3       automatic  petrol    grey   15.154451          LEXUS    1        1   \n",
       "4       automatic  petrol     red   15.814962         TOYOTA    1        1   \n",
       "...           ...     ...     ...         ...            ...  ...      ...   \n",
       "1446    automatic  petrol    blue         NaN  MERCEDES-BENZ    1        1   \n",
       "1447    automatic  petrol     red         NaN          HONDA    1        1   \n",
       "1448    automatic  petrol   black         NaN  MERCEDES-BENZ    1        1   \n",
       "1449    automatic  petrol   green         NaN          LEXUS    1        1   \n",
       "1450    automatic  petrol  silver         NaN         TOYOTA    1        0   \n",
       "\n",
       "      old engine_type cylinder  \n",
       "0       4           I        4  \n",
       "1       1           I        4  \n",
       "2       8           V        6  \n",
       "3      13           I        4  \n",
       "4      10           V        6  \n",
       "...   ...         ...      ...  \n",
       "1446    6           V        6  \n",
       "1447    9           V        6  \n",
       "1448    7           I        4  \n",
       "1449   17           I        4  \n",
       "1450   14           V        6  \n",
       "\n",
       "[1451 rows x 14 columns]"
      ]
     },
     "execution_count": 37,
     "metadata": {},
     "output_type": "execute_result"
    }
   ],
   "source": [
    "all_data"
   ]
  },
  {
   "cell_type": "code",
   "execution_count": 15,
   "id": "89f8e871",
   "metadata": {
    "ExecuteTime": {
     "end_time": "2022-06-02T18:52:55.436251Z",
     "start_time": "2022-06-02T18:52:55.418309Z"
    }
   },
   "outputs": [],
   "source": [
    "temp = pd.get_dummies(all_data[[\"title\",\"location\",\"isimported\",\"transmission\",\"fuel\",\"paint\",\"com\",\"engine_type\"]])\n",
    "temp = pd.concat([all_data,temp],axis=1)"
   ]
  },
  {
   "cell_type": "code",
   "execution_count": 16,
   "id": "94e3e050",
   "metadata": {
    "ExecuteTime": {
     "end_time": "2022-06-02T18:52:55.908075Z",
     "start_time": "2022-06-02T18:52:55.898072Z"
    }
   },
   "outputs": [],
   "source": [
    "all_data = temp.drop([\"title\",\"location\",\"isimported\",\"transmission\",\"fuel\",\"paint\",\"com\",\"engine_type\"], axis=1)"
   ]
  },
  {
   "cell_type": "code",
   "execution_count": 17,
   "id": "e8dc1d78",
   "metadata": {
    "ExecuteTime": {
     "end_time": "2022-06-02T17:43:24.405966Z",
     "start_time": "2022-06-02T17:43:24.338941Z"
    }
   },
   "outputs": [],
   "source": [
    "from sklearn.preprocessing import MinMaxScaler\n",
    "X_scaler = MinMaxScaler()\n",
    "y_scaler = MinMaxScaler()"
   ]
  },
  {
   "cell_type": "code",
   "execution_count": 18,
   "id": "3d36b68a",
   "metadata": {
    "ExecuteTime": {
     "end_time": "2022-06-02T17:43:24.501990Z",
     "start_time": "2022-06-02T17:43:24.484986Z"
    }
   },
   "outputs": [
    {
     "data": {
      "text/plain": [
       "1015"
      ]
     },
     "execution_count": 18,
     "metadata": {},
     "output_type": "execute_result"
    }
   ],
   "source": [
    "X = all_data.drop(\"log_target\", axis=1)\n",
    "y = all_data[[\"log_target\"]]\n",
    "len(all_data[~all_data[\"log_target\"].isnull()])"
   ]
  },
  {
   "cell_type": "code",
   "execution_count": 19,
   "id": "e041be04",
   "metadata": {
    "ExecuteTime": {
     "end_time": "2022-06-02T17:43:24.707310Z",
     "start_time": "2022-06-02T17:43:24.656291Z"
    }
   },
   "outputs": [],
   "source": [
    "X = X_scaler.fit_transform(X)\n",
    "y = y_scaler.fit_transform(y)"
   ]
  },
  {
   "cell_type": "code",
   "execution_count": 20,
   "id": "b0cbae4f",
   "metadata": {
    "ExecuteTime": {
     "end_time": "2022-06-02T17:43:24.816362Z",
     "start_time": "2022-06-02T17:43:24.799359Z"
    }
   },
   "outputs": [],
   "source": [
    "X_train = X[:1015]\n",
    "X_test = X[1015:]\n",
    "y_train = y[:1015]"
   ]
  },
  {
   "cell_type": "code",
   "execution_count": 21,
   "id": "4629e27e",
   "metadata": {
    "ExecuteTime": {
     "end_time": "2022-06-02T17:43:25.063077Z",
     "start_time": "2022-06-02T17:43:25.056075Z"
    }
   },
   "outputs": [
    {
     "data": {
      "text/plain": [
       "((1015, 322), (436, 322), (1015, 1))"
      ]
     },
     "execution_count": 21,
     "metadata": {},
     "output_type": "execute_result"
    }
   ],
   "source": [
    "X_train.shape,X_test.shape, y_train.shape"
   ]
  },
  {
   "cell_type": "code",
   "execution_count": 53,
   "id": "fd849b44",
   "metadata": {
    "ExecuteTime": {
     "end_time": "2022-06-02T18:56:39.265185Z",
     "start_time": "2022-06-02T18:56:39.257183Z"
    }
   },
   "outputs": [],
   "source": [
    "# 평가산식\n",
    "from sklearn.metrics import make_scorer\n",
    "\n",
    "def nmae(answer, pred):\n",
    "    mae = np.mean(np.abs(answer-pred))\n",
    "    score = mae / np.mean(np.abs(answer))\n",
    "    return score\n",
    "\n",
    "NMAE = make_scorer(nmae, greater_is_better=False)\n",
    "\n",
    "def at_NMAE(y_pred, dataset):\n",
    "    y_true = dataset.get_label()\n",
    "    \n",
    "    mae = np.mean(np.abs(y_true-y_pred))\n",
    "    score = mae / np.mean(np.abs(y_true))\n",
    "\n",
    "    return \"score\", score, False"
   ]
  },
  {
   "cell_type": "markdown",
   "id": "dfbc1a00",
   "metadata": {},
   "source": [
    "# 모델링"
   ]
  },
  {
   "cell_type": "markdown",
   "id": "5c7f8254",
   "metadata": {},
   "source": [
    "## XGB"
   ]
  },
  {
   "cell_type": "code",
   "execution_count": 37,
   "id": "5c0eda22",
   "metadata": {
    "ExecuteTime": {
     "end_time": "2022-06-02T17:51:29.273757Z",
     "start_time": "2022-06-02T17:51:29.267399Z"
    }
   },
   "outputs": [],
   "source": [
    "# XGB\n",
    "pbounds = { 'learning_rate': (0.0001, 0.4),\n",
    "            'n_estimators': (16, 1024),\n",
    "            'max_depth': (3,10),   \n",
    "            'subsample': (0.5, 1),  \n",
    "            'colsample_bytree': (0.5, 1),   \n",
    "            'gamma': (0, 5)}\n",
    "\n",
    "def xgb_opt(learning_rate, n_estimators, max_depth, subsample, colsample_bytree, gamma):\n",
    "\n",
    "    params = {\n",
    "        'learning_rate': learning_rate,\n",
    "        'n_estimators' : int(round(n_estimators)),\n",
    "        'max_depth' : int(round(max_depth)),\n",
    "        'subsample': subsample,\n",
    "        'colsample': colsample_bytree,   \n",
    "        'gamma': gamma,\n",
    "        'n_jobs' : -1,\n",
    "        'random_state' : 777\n",
    "    }\n",
    "    \n",
    "    xgb = XGBRegressor(**params)\n",
    "    \n",
    "    kf = KFold(n_splits = 4 , shuffle=True, random_state=50)\n",
    "\n",
    "    score = cross_val_score(xgb, X_train, y_train, scoring=NMAE, cv=kf, n_jobs=-1)\n",
    "    \n",
    "    return np.mean(score)\n",
    "\n",
    "BO_xgb = BayesianOptimization(f = xgb_opt, pbounds = pbounds, random_state=0)"
   ]
  },
  {
   "cell_type": "code",
   "execution_count": 38,
   "id": "1db9a9ec",
   "metadata": {
    "ExecuteTime": {
     "end_time": "2022-06-02T17:58:35.399467Z",
     "start_time": "2022-06-02T17:51:29.754297Z"
    }
   },
   "outputs": [
    {
     "name": "stdout",
     "output_type": "stream",
     "text": [
      "|   iter    |  target   | colsam... |   gamma   | learni... | max_depth | n_esti... | subsample |\n",
      "-------------------------------------------------------------------------------------------------\n",
      "| \u001b[0m 1       \u001b[0m | \u001b[0m-0.3221  \u001b[0m | \u001b[0m 0.7744  \u001b[0m | \u001b[0m 3.576   \u001b[0m | \u001b[0m 0.2411  \u001b[0m | \u001b[0m 6.814   \u001b[0m | \u001b[0m 443.0   \u001b[0m | \u001b[0m 0.8229  \u001b[0m |\n",
      "| \u001b[95m 2       \u001b[0m | \u001b[95m-0.3185  \u001b[0m | \u001b[95m 0.7188  \u001b[0m | \u001b[95m 4.459   \u001b[0m | \u001b[95m 0.3855  \u001b[0m | \u001b[95m 5.684   \u001b[0m | \u001b[95m 814.1   \u001b[0m | \u001b[95m 0.7644  \u001b[0m |\n",
      "| \u001b[0m 3       \u001b[0m | \u001b[0m-0.3247  \u001b[0m | \u001b[0m 0.784   \u001b[0m | \u001b[0m 4.628   \u001b[0m | \u001b[0m 0.02851 \u001b[0m | \u001b[0m 3.61    \u001b[0m | \u001b[0m 36.38   \u001b[0m | \u001b[0m 0.9163  \u001b[0m |\n",
      "| \u001b[0m 4       \u001b[0m | \u001b[0m-0.3188  \u001b[0m | \u001b[0m 0.8891  \u001b[0m | \u001b[0m 4.35    \u001b[0m | \u001b[0m 0.3914  \u001b[0m | \u001b[0m 8.594   \u001b[0m | \u001b[0m 481.2   \u001b[0m | \u001b[0m 0.8903  \u001b[0m |\n",
      "| \u001b[0m 5       \u001b[0m | \u001b[0m-0.3204  \u001b[0m | \u001b[0m 0.5591  \u001b[0m | \u001b[0m 3.2     \u001b[0m | \u001b[0m 0.05743 \u001b[0m | \u001b[0m 9.613   \u001b[0m | \u001b[0m 542.0   \u001b[0m | \u001b[0m 0.7073  \u001b[0m |\n",
      "| \u001b[0m 6       \u001b[0m | \u001b[0m-0.3209  \u001b[0m | \u001b[0m 0.6323  \u001b[0m | \u001b[0m 3.871   \u001b[0m | \u001b[0m 0.1825  \u001b[0m | \u001b[0m 6.979   \u001b[0m | \u001b[0m 34.94   \u001b[0m | \u001b[0m 0.8088  \u001b[0m |\n",
      "| \u001b[0m 7       \u001b[0m | \u001b[0m-0.3316  \u001b[0m | \u001b[0m 0.806   \u001b[0m | \u001b[0m 3.085   \u001b[0m | \u001b[0m 0.3775  \u001b[0m | \u001b[0m 7.773   \u001b[0m | \u001b[0m 378.4   \u001b[0m | \u001b[0m 0.7185  \u001b[0m |\n",
      "| \u001b[0m 8       \u001b[0m | \u001b[0m-0.3815  \u001b[0m | \u001b[0m 0.8488  \u001b[0m | \u001b[0m 0.3011  \u001b[0m | \u001b[0m 0.2667  \u001b[0m | \u001b[0m 7.694   \u001b[0m | \u001b[0m 228.1   \u001b[0m | \u001b[0m 0.5645  \u001b[0m |\n",
      "| \u001b[0m 9       \u001b[0m | \u001b[0m-0.3384  \u001b[0m | \u001b[0m 0.6577  \u001b[0m | \u001b[0m 1.819   \u001b[0m | \u001b[0m 0.2281  \u001b[0m | \u001b[0m 6.07    \u001b[0m | \u001b[0m 1.012e+0\u001b[0m | \u001b[0m 0.551   \u001b[0m |\n",
      "| \u001b[0m 10      \u001b[0m | \u001b[0m-0.3644  \u001b[0m | \u001b[0m 0.6044  \u001b[0m | \u001b[0m 0.8065  \u001b[0m | \u001b[0m 0.2613  \u001b[0m | \u001b[0m 4.773   \u001b[0m | \u001b[0m 486.0   \u001b[0m | \u001b[0m 0.6222  \u001b[0m |\n",
      "| \u001b[0m 11      \u001b[0m | \u001b[0m-0.3193  \u001b[0m | \u001b[0m 1.0     \u001b[0m | \u001b[0m 5.0     \u001b[0m | \u001b[0m 0.4     \u001b[0m | \u001b[0m 10.0    \u001b[0m | \u001b[0m 477.1   \u001b[0m | \u001b[0m 1.0     \u001b[0m |\n",
      "| \u001b[0m 12      \u001b[0m | \u001b[0m-0.3799  \u001b[0m | \u001b[0m 0.5654  \u001b[0m | \u001b[0m 0.4145  \u001b[0m | \u001b[0m 0.3876  \u001b[0m | \u001b[0m 8.432   \u001b[0m | \u001b[0m 819.7   \u001b[0m | \u001b[0m 0.7669  \u001b[0m |\n",
      "| \u001b[95m 13      \u001b[0m | \u001b[95m-0.3122  \u001b[0m | \u001b[95m 0.8687  \u001b[0m | \u001b[95m 4.208   \u001b[0m | \u001b[95m 0.2047  \u001b[0m | \u001b[95m 5.599   \u001b[0m | \u001b[95m 476.7   \u001b[0m | \u001b[95m 0.5078  \u001b[0m |\n",
      "| \u001b[0m 14      \u001b[0m | \u001b[0m-0.3183  \u001b[0m | \u001b[0m 0.8558  \u001b[0m | \u001b[0m 5.0     \u001b[0m | \u001b[0m 0.385   \u001b[0m | \u001b[0m 3.263   \u001b[0m | \u001b[0m 809.1   \u001b[0m | \u001b[0m 0.7638  \u001b[0m |\n",
      "| \u001b[0m 15      \u001b[0m | \u001b[0m-0.3376  \u001b[0m | \u001b[0m 0.9818  \u001b[0m | \u001b[0m 1.574   \u001b[0m | \u001b[0m 0.1182  \u001b[0m | \u001b[0m 6.19    \u001b[0m | \u001b[0m 470.7   \u001b[0m | \u001b[0m 0.6757  \u001b[0m |\n",
      "| \u001b[0m 16      \u001b[0m | \u001b[0m-0.3198  \u001b[0m | \u001b[0m 0.9581  \u001b[0m | \u001b[0m 4.386   \u001b[0m | \u001b[0m 0.3983  \u001b[0m | \u001b[0m 9.303   \u001b[0m | \u001b[0m 807.5   \u001b[0m | \u001b[0m 0.543   \u001b[0m |\n",
      "| \u001b[0m 17      \u001b[0m | \u001b[0m-0.3915  \u001b[0m | \u001b[0m 0.6368  \u001b[0m | \u001b[0m 0.1778  \u001b[0m | \u001b[0m 0.2898  \u001b[0m | \u001b[0m 4.793   \u001b[0m | \u001b[0m 803.3   \u001b[0m | \u001b[0m 0.9929  \u001b[0m |\n",
      "| \u001b[0m 18      \u001b[0m | \u001b[0m-0.4213  \u001b[0m | \u001b[0m 0.6461  \u001b[0m | \u001b[0m 0.0198  \u001b[0m | \u001b[0m 0.3282  \u001b[0m | \u001b[0m 9.767   \u001b[0m | \u001b[0m 476.9   \u001b[0m | \u001b[0m 0.5283  \u001b[0m |\n",
      "| \u001b[95m 19      \u001b[0m | \u001b[95m-0.3115  \u001b[0m | \u001b[95m 0.8624  \u001b[0m | \u001b[95m 4.903   \u001b[0m | \u001b[95m 0.05291 \u001b[0m | \u001b[95m 7.812   \u001b[0m | \u001b[95m 476.6   \u001b[0m | \u001b[95m 0.5807  \u001b[0m |\n",
      "| \u001b[0m 20      \u001b[0m | \u001b[0m-0.3342  \u001b[0m | \u001b[0m 0.5911  \u001b[0m | \u001b[0m 2.19    \u001b[0m | \u001b[0m 0.1866  \u001b[0m | \u001b[0m 6.241   \u001b[0m | \u001b[0m 810.4   \u001b[0m | \u001b[0m 0.9935  \u001b[0m |\n",
      "| \u001b[0m 21      \u001b[0m | \u001b[0m-0.3558  \u001b[0m | \u001b[0m 0.5     \u001b[0m | \u001b[0m 5.0     \u001b[0m | \u001b[0m 0.0001  \u001b[0m | \u001b[0m 3.451   \u001b[0m | \u001b[0m 473.8   \u001b[0m | \u001b[0m 1.0     \u001b[0m |\n",
      "| \u001b[0m 22      \u001b[0m | \u001b[0m-0.3176  \u001b[0m | \u001b[0m 0.956   \u001b[0m | \u001b[0m 4.412   \u001b[0m | \u001b[0m 0.145   \u001b[0m | \u001b[0m 6.613   \u001b[0m | \u001b[0m 479.2   \u001b[0m | \u001b[0m 0.8634  \u001b[0m |\n",
      "| \u001b[0m 23      \u001b[0m | \u001b[0m-0.3346  \u001b[0m | \u001b[0m 0.9079  \u001b[0m | \u001b[0m 1.339   \u001b[0m | \u001b[0m 0.08999 \u001b[0m | \u001b[0m 4.099   \u001b[0m | \u001b[0m 32.23   \u001b[0m | \u001b[0m 0.5285  \u001b[0m |\n",
      "| \u001b[0m 24      \u001b[0m | \u001b[0m-0.3167  \u001b[0m | \u001b[0m 0.5317  \u001b[0m | \u001b[0m 3.5     \u001b[0m | \u001b[0m 0.08831 \u001b[0m | \u001b[0m 7.705   \u001b[0m | \u001b[0m 39.56   \u001b[0m | \u001b[0m 0.6199  \u001b[0m |\n",
      "| \u001b[0m 25      \u001b[0m | \u001b[0m-0.3719  \u001b[0m | \u001b[0m 0.6363  \u001b[0m | \u001b[0m 0.3873  \u001b[0m | \u001b[0m 0.1571  \u001b[0m | \u001b[0m 9.731   \u001b[0m | \u001b[0m 37.19   \u001b[0m | \u001b[0m 0.99    \u001b[0m |\n",
      "| \u001b[0m 26      \u001b[0m | \u001b[0m-0.3187  \u001b[0m | \u001b[0m 0.5104  \u001b[0m | \u001b[0m 3.932   \u001b[0m | \u001b[0m 0.22    \u001b[0m | \u001b[0m 4.838   \u001b[0m | \u001b[0m 41.18   \u001b[0m | \u001b[0m 0.612   \u001b[0m |\n",
      "| \u001b[0m 27      \u001b[0m | \u001b[0m-0.3178  \u001b[0m | \u001b[0m 0.5563  \u001b[0m | \u001b[0m 4.916   \u001b[0m | \u001b[0m 0.3769  \u001b[0m | \u001b[0m 8.417   \u001b[0m | \u001b[0m 43.07   \u001b[0m | \u001b[0m 0.574   \u001b[0m |\n",
      "| \u001b[0m 28      \u001b[0m | \u001b[0m-0.3407  \u001b[0m | \u001b[0m 0.9607  \u001b[0m | \u001b[0m 1.344   \u001b[0m | \u001b[0m 0.07287 \u001b[0m | \u001b[0m 6.746   \u001b[0m | \u001b[0m 43.55   \u001b[0m | \u001b[0m 0.8916  \u001b[0m |\n",
      "| \u001b[0m 29      \u001b[0m | \u001b[0m-0.3179  \u001b[0m | \u001b[0m 0.9136  \u001b[0m | \u001b[0m 4.867   \u001b[0m | \u001b[0m 0.3738  \u001b[0m | \u001b[0m 9.433   \u001b[0m | \u001b[0m 811.6   \u001b[0m | \u001b[0m 0.8383  \u001b[0m |\n",
      "| \u001b[0m 30      \u001b[0m | \u001b[0m-0.3808  \u001b[0m | \u001b[0m 0.5114  \u001b[0m | \u001b[0m 0.3844  \u001b[0m | \u001b[0m 0.3091  \u001b[0m | \u001b[0m 8.177   \u001b[0m | \u001b[0m 545.6   \u001b[0m | \u001b[0m 0.8444  \u001b[0m |\n",
      "| \u001b[0m 31      \u001b[0m | \u001b[0m-0.3141  \u001b[0m | \u001b[0m 0.8413  \u001b[0m | \u001b[0m 4.547   \u001b[0m | \u001b[0m 0.09894 \u001b[0m | \u001b[0m 9.665   \u001b[0m | \u001b[0m 538.6   \u001b[0m | \u001b[0m 0.6604  \u001b[0m |\n",
      "| \u001b[0m 32      \u001b[0m | \u001b[0m-0.3583  \u001b[0m | \u001b[0m 0.7519  \u001b[0m | \u001b[0m 0.6568  \u001b[0m | \u001b[0m 0.05977 \u001b[0m | \u001b[0m 9.61    \u001b[0m | \u001b[0m 536.8   \u001b[0m | \u001b[0m 0.9785  \u001b[0m |\n",
      "| \u001b[0m 33      \u001b[0m | \u001b[0m-0.3157  \u001b[0m | \u001b[0m 0.6959  \u001b[0m | \u001b[0m 4.411   \u001b[0m | \u001b[0m 0.12    \u001b[0m | \u001b[0m 6.389   \u001b[0m | \u001b[0m 539.2   \u001b[0m | \u001b[0m 0.7284  \u001b[0m |\n",
      "| \u001b[0m 34      \u001b[0m | \u001b[0m-0.3178  \u001b[0m | \u001b[0m 0.8078  \u001b[0m | \u001b[0m 3.976   \u001b[0m | \u001b[0m 0.1058  \u001b[0m | \u001b[0m 5.641   \u001b[0m | \u001b[0m 447.8   \u001b[0m | \u001b[0m 0.7839  \u001b[0m |\n",
      "| \u001b[0m 35      \u001b[0m | \u001b[0m-0.3322  \u001b[0m | \u001b[0m 0.6327  \u001b[0m | \u001b[0m 2.273   \u001b[0m | \u001b[0m 0.197   \u001b[0m | \u001b[0m 9.461   \u001b[0m | \u001b[0m 446.5   \u001b[0m | \u001b[0m 0.9177  \u001b[0m |\n",
      "| \u001b[0m 36      \u001b[0m | \u001b[0m-0.356   \u001b[0m | \u001b[0m 1.0     \u001b[0m | \u001b[0m 5.0     \u001b[0m | \u001b[0m 0.0001  \u001b[0m | \u001b[0m 3.0     \u001b[0m | \u001b[0m 444.7   \u001b[0m | \u001b[0m 1.0     \u001b[0m |\n",
      "| \u001b[0m 37      \u001b[0m | \u001b[0m-0.3171  \u001b[0m | \u001b[0m 0.7197  \u001b[0m | \u001b[0m 4.973   \u001b[0m | \u001b[0m 0.1935  \u001b[0m | \u001b[0m 6.22    \u001b[0m | \u001b[0m 451.8   \u001b[0m | \u001b[0m 0.7531  \u001b[0m |\n",
      "| \u001b[0m 38      \u001b[0m | \u001b[0m-0.3511  \u001b[0m | \u001b[0m 0.5178  \u001b[0m | \u001b[0m 1.309   \u001b[0m | \u001b[0m 0.3044  \u001b[0m | \u001b[0m 5.777   \u001b[0m | \u001b[0m 451.0   \u001b[0m | \u001b[0m 0.594   \u001b[0m |\n",
      "| \u001b[0m 39      \u001b[0m | \u001b[0m-0.3157  \u001b[0m | \u001b[0m 0.6908  \u001b[0m | \u001b[0m 4.992   \u001b[0m | \u001b[0m 0.261   \u001b[0m | \u001b[0m 8.927   \u001b[0m | \u001b[0m 450.1   \u001b[0m | \u001b[0m 0.8313  \u001b[0m |\n",
      "| \u001b[0m 40      \u001b[0m | \u001b[0m-0.3187  \u001b[0m | \u001b[0m 0.5344  \u001b[0m | \u001b[0m 4.955   \u001b[0m | \u001b[0m 0.3875  \u001b[0m | \u001b[0m 8.444   \u001b[0m | \u001b[0m 455.3   \u001b[0m | \u001b[0m 0.8103  \u001b[0m |\n",
      "| \u001b[0m 41      \u001b[0m | \u001b[0m-0.3189  \u001b[0m | \u001b[0m 0.796   \u001b[0m | \u001b[0m 4.956   \u001b[0m | \u001b[0m 0.3936  \u001b[0m | \u001b[0m 4.833   \u001b[0m | \u001b[0m 458.2   \u001b[0m | \u001b[0m 0.7196  \u001b[0m |\n",
      "| \u001b[0m 42      \u001b[0m | \u001b[0m-0.3388  \u001b[0m | \u001b[0m 0.5833  \u001b[0m | \u001b[0m 2.062   \u001b[0m | \u001b[0m 0.3496  \u001b[0m | \u001b[0m 8.014   \u001b[0m | \u001b[0m 458.7   \u001b[0m | \u001b[0m 0.5221  \u001b[0m |\n",
      "| \u001b[0m 43      \u001b[0m | \u001b[0m-0.3357  \u001b[0m | \u001b[0m 0.9245  \u001b[0m | \u001b[0m 1.721   \u001b[0m | \u001b[0m 0.0488  \u001b[0m | \u001b[0m 8.26    \u001b[0m | \u001b[0m 439.1   \u001b[0m | \u001b[0m 0.9407  \u001b[0m |\n",
      "| \u001b[0m 44      \u001b[0m | \u001b[0m-0.3142  \u001b[0m | \u001b[0m 0.6255  \u001b[0m | \u001b[0m 4.9     \u001b[0m | \u001b[0m 0.1026  \u001b[0m | \u001b[0m 3.035   \u001b[0m | \u001b[0m 454.7   \u001b[0m | \u001b[0m 0.7774  \u001b[0m |\n",
      "| \u001b[0m 45      \u001b[0m | \u001b[0m-0.3184  \u001b[0m | \u001b[0m 0.7432  \u001b[0m | \u001b[0m 4.884   \u001b[0m | \u001b[0m 0.3815  \u001b[0m | \u001b[0m 4.775   \u001b[0m | \u001b[0m 534.5   \u001b[0m | \u001b[0m 0.7126  \u001b[0m |\n",
      "| \u001b[0m 46      \u001b[0m | \u001b[0m-0.3182  \u001b[0m | \u001b[0m 0.8633  \u001b[0m | \u001b[0m 4.245   \u001b[0m | \u001b[0m 0.2167  \u001b[0m | \u001b[0m 3.744   \u001b[0m | \u001b[0m 529.6   \u001b[0m | \u001b[0m 0.7269  \u001b[0m |\n",
      "| \u001b[0m 47      \u001b[0m | \u001b[0m-0.3193  \u001b[0m | \u001b[0m 0.5061  \u001b[0m | \u001b[0m 4.175   \u001b[0m | \u001b[0m 0.1265  \u001b[0m | \u001b[0m 8.406   \u001b[0m | \u001b[0m 528.0   \u001b[0m | \u001b[0m 0.8744  \u001b[0m |\n",
      "| \u001b[0m 48      \u001b[0m | \u001b[0m-0.3225  \u001b[0m | \u001b[0m 0.6235  \u001b[0m | \u001b[0m 4.773   \u001b[0m | \u001b[0m 0.2746  \u001b[0m | \u001b[0m 4.394   \u001b[0m | \u001b[0m 524.7   \u001b[0m | \u001b[0m 0.9872  \u001b[0m |\n",
      "| \u001b[0m 49      \u001b[0m | \u001b[0m-0.3615  \u001b[0m | \u001b[0m 0.5956  \u001b[0m | \u001b[0m 1.119   \u001b[0m | \u001b[0m 0.3856  \u001b[0m | \u001b[0m 6.337   \u001b[0m | \u001b[0m 527.2   \u001b[0m | \u001b[0m 0.5634  \u001b[0m |\n",
      "| \u001b[0m 50      \u001b[0m | \u001b[0m-0.3189  \u001b[0m | \u001b[0m 0.9148  \u001b[0m | \u001b[0m 4.335   \u001b[0m | \u001b[0m 0.393   \u001b[0m | \u001b[0m 8.13    \u001b[0m | \u001b[0m 531.8   \u001b[0m | \u001b[0m 0.8937  \u001b[0m |\n"
     ]
    },
    {
     "name": "stdout",
     "output_type": "stream",
     "text": [
      "| \u001b[0m 51      \u001b[0m | \u001b[0m-0.3554  \u001b[0m | \u001b[0m 1.0     \u001b[0m | \u001b[0m 2.902   \u001b[0m | \u001b[0m 0.0001  \u001b[0m | \u001b[0m 3.0     \u001b[0m | \u001b[0m 537.7   \u001b[0m | \u001b[0m 0.5     \u001b[0m |\n",
      "| \u001b[0m 52      \u001b[0m | \u001b[0m-0.3498  \u001b[0m | \u001b[0m 0.9336  \u001b[0m | \u001b[0m 1.192   \u001b[0m | \u001b[0m 0.2195  \u001b[0m | \u001b[0m 3.438   \u001b[0m | \u001b[0m 457.1   \u001b[0m | \u001b[0m 0.9566  \u001b[0m |\n",
      "| \u001b[0m 53      \u001b[0m | \u001b[0m-0.3555  \u001b[0m | \u001b[0m 0.8789  \u001b[0m | \u001b[0m 5.0     \u001b[0m | \u001b[0m 0.0001  \u001b[0m | \u001b[0m 10.0    \u001b[0m | \u001b[0m 524.3   \u001b[0m | \u001b[0m 1.0     \u001b[0m |\n",
      "| \u001b[0m 54      \u001b[0m | \u001b[0m-0.3178  \u001b[0m | \u001b[0m 0.803   \u001b[0m | \u001b[0m 4.538   \u001b[0m | \u001b[0m 0.1475  \u001b[0m | \u001b[0m 7.9     \u001b[0m | \u001b[0m 535.5   \u001b[0m | \u001b[0m 0.8872  \u001b[0m |\n",
      "| \u001b[0m 55      \u001b[0m | \u001b[0m-0.3166  \u001b[0m | \u001b[0m 0.8125  \u001b[0m | \u001b[0m 4.256   \u001b[0m | \u001b[0m 0.2818  \u001b[0m | \u001b[0m 9.577   \u001b[0m | \u001b[0m 48.43   \u001b[0m | \u001b[0m 0.7077  \u001b[0m |\n",
      "| \u001b[0m 56      \u001b[0m | \u001b[0m-0.3146  \u001b[0m | \u001b[0m 0.7569  \u001b[0m | \u001b[0m 4.6     \u001b[0m | \u001b[0m 0.03438 \u001b[0m | \u001b[0m 6.037   \u001b[0m | \u001b[0m 49.38   \u001b[0m | \u001b[0m 0.5448  \u001b[0m |\n",
      "| \u001b[0m 57      \u001b[0m | \u001b[0m-0.3183  \u001b[0m | \u001b[0m 0.8882  \u001b[0m | \u001b[0m 4.685   \u001b[0m | \u001b[0m 0.3811  \u001b[0m | \u001b[0m 8.353   \u001b[0m | \u001b[0m 52.22   \u001b[0m | \u001b[0m 0.7239  \u001b[0m |\n",
      "| \u001b[0m 58      \u001b[0m | \u001b[0m-0.3448  \u001b[0m | \u001b[0m 0.7715  \u001b[0m | \u001b[0m 0.6537  \u001b[0m | \u001b[0m 0.005513\u001b[0m | \u001b[0m 7.424   \u001b[0m | \u001b[0m 50.93   \u001b[0m | \u001b[0m 0.7054  \u001b[0m |\n",
      "| \u001b[0m 59      \u001b[0m | \u001b[0m-0.3193  \u001b[0m | \u001b[0m 0.6638  \u001b[0m | \u001b[0m 5.0     \u001b[0m | \u001b[0m 0.4     \u001b[0m | \u001b[0m 3.889   \u001b[0m | \u001b[0m 52.68   \u001b[0m | \u001b[0m 1.0     \u001b[0m |\n",
      "| \u001b[0m 60      \u001b[0m | \u001b[0m-0.3193  \u001b[0m | \u001b[0m 0.5     \u001b[0m | \u001b[0m 5.0     \u001b[0m | \u001b[0m 0.4     \u001b[0m | \u001b[0m 3.0     \u001b[0m | \u001b[0m 46.72   \u001b[0m | \u001b[0m 1.0     \u001b[0m |\n",
      "| \u001b[0m 61      \u001b[0m | \u001b[0m-0.3168  \u001b[0m | \u001b[0m 0.5127  \u001b[0m | \u001b[0m 4.377   \u001b[0m | \u001b[0m 0.1999  \u001b[0m | \u001b[0m 7.122   \u001b[0m | \u001b[0m 56.77   \u001b[0m | \u001b[0m 0.8958  \u001b[0m |\n",
      "| \u001b[0m 62      \u001b[0m | \u001b[0m-0.3159  \u001b[0m | \u001b[0m 0.6384  \u001b[0m | \u001b[0m 4.669   \u001b[0m | \u001b[0m 0.09136 \u001b[0m | \u001b[0m 3.138   \u001b[0m | \u001b[0m 58.96   \u001b[0m | \u001b[0m 0.9971  \u001b[0m |\n",
      "| \u001b[0m 63      \u001b[0m | \u001b[0m-0.3183  \u001b[0m | \u001b[0m 0.6379  \u001b[0m | \u001b[0m 3.926   \u001b[0m | \u001b[0m 0.2764  \u001b[0m | \u001b[0m 6.918   \u001b[0m | \u001b[0m 61.46   \u001b[0m | \u001b[0m 0.6563  \u001b[0m |\n",
      "| \u001b[0m 64      \u001b[0m | \u001b[0m-0.3599  \u001b[0m | \u001b[0m 0.7517  \u001b[0m | \u001b[0m 0.7586  \u001b[0m | \u001b[0m 0.2287  \u001b[0m | \u001b[0m 3.941   \u001b[0m | \u001b[0m 59.95   \u001b[0m | \u001b[0m 0.568   \u001b[0m |\n",
      "| \u001b[0m 65      \u001b[0m | \u001b[0m-0.3191  \u001b[0m | \u001b[0m 0.6269  \u001b[0m | \u001b[0m 4.665   \u001b[0m | \u001b[0m 0.3276  \u001b[0m | \u001b[0m 9.353   \u001b[0m | \u001b[0m 65.41   \u001b[0m | \u001b[0m 0.9057  \u001b[0m |\n",
      "| \u001b[0m 66      \u001b[0m | \u001b[0m-0.3184  \u001b[0m | \u001b[0m 0.6943  \u001b[0m | \u001b[0m 4.265   \u001b[0m | \u001b[0m 0.1187  \u001b[0m | \u001b[0m 9.688   \u001b[0m | \u001b[0m 58.8    \u001b[0m | \u001b[0m 0.8565  \u001b[0m |\n",
      "| \u001b[0m 67      \u001b[0m | \u001b[0m-0.3589  \u001b[0m | \u001b[0m 0.5     \u001b[0m | \u001b[0m 5.0     \u001b[0m | \u001b[0m 0.0001  \u001b[0m | \u001b[0m 4.889   \u001b[0m | \u001b[0m 65.37   \u001b[0m | \u001b[0m 1.0     \u001b[0m |\n",
      "| \u001b[0m 68      \u001b[0m | \u001b[0m-0.3193  \u001b[0m | \u001b[0m 1.0     \u001b[0m | \u001b[0m 5.0     \u001b[0m | \u001b[0m 0.4     \u001b[0m | \u001b[0m 3.0     \u001b[0m | \u001b[0m 56.0    \u001b[0m | \u001b[0m 1.0     \u001b[0m |\n",
      "| \u001b[0m 69      \u001b[0m | \u001b[0m-0.3308  \u001b[0m | \u001b[0m 0.5242  \u001b[0m | \u001b[0m 2.01    \u001b[0m | \u001b[0m 0.1126  \u001b[0m | \u001b[0m 9.75    \u001b[0m | \u001b[0m 63.8    \u001b[0m | \u001b[0m 0.7755  \u001b[0m |\n",
      "| \u001b[0m 70      \u001b[0m | \u001b[0m-0.3469  \u001b[0m | \u001b[0m 0.7461  \u001b[0m | \u001b[0m 4.834   \u001b[0m | \u001b[0m 0.007264\u001b[0m | \u001b[0m 8.542   \u001b[0m | \u001b[0m 29.15   \u001b[0m | \u001b[0m 0.828   \u001b[0m |\n",
      "| \u001b[0m 71      \u001b[0m | \u001b[0m-0.3183  \u001b[0m | \u001b[0m 0.8824  \u001b[0m | \u001b[0m 4.697   \u001b[0m | \u001b[0m 0.219   \u001b[0m | \u001b[0m 3.126   \u001b[0m | \u001b[0m 520.6   \u001b[0m | \u001b[0m 0.9608  \u001b[0m |\n",
      "| \u001b[0m 72      \u001b[0m | \u001b[0m-0.3517  \u001b[0m | \u001b[0m 0.5054  \u001b[0m | \u001b[0m 1.363   \u001b[0m | \u001b[0m 0.3406  \u001b[0m | \u001b[0m 4.58    \u001b[0m | \u001b[0m 517.3   \u001b[0m | \u001b[0m 0.6694  \u001b[0m |\n",
      "| \u001b[0m 73      \u001b[0m | \u001b[0m-0.326   \u001b[0m | \u001b[0m 0.6487  \u001b[0m | \u001b[0m 2.485   \u001b[0m | \u001b[0m 0.0774  \u001b[0m | \u001b[0m 9.686   \u001b[0m | \u001b[0m 69.84   \u001b[0m | \u001b[0m 0.756   \u001b[0m |\n",
      "| \u001b[0m 74      \u001b[0m | \u001b[0m-0.3188  \u001b[0m | \u001b[0m 0.7353  \u001b[0m | \u001b[0m 4.97    \u001b[0m | \u001b[0m 0.2242  \u001b[0m | \u001b[0m 6.121   \u001b[0m | \u001b[0m 38.43   \u001b[0m | \u001b[0m 0.8365  \u001b[0m |\n",
      "| \u001b[0m 75      \u001b[0m | \u001b[0m-0.3204  \u001b[0m | \u001b[0m 1.0     \u001b[0m | \u001b[0m 5.0     \u001b[0m | \u001b[0m 0.4     \u001b[0m | \u001b[0m 10.0    \u001b[0m | \u001b[0m 75.1    \u001b[0m | \u001b[0m 0.5     \u001b[0m |\n",
      "| \u001b[0m 76      \u001b[0m | \u001b[0m-0.3579  \u001b[0m | \u001b[0m 0.9866  \u001b[0m | \u001b[0m 0.8054  \u001b[0m | \u001b[0m 0.2567  \u001b[0m | \u001b[0m 8.931   \u001b[0m | \u001b[0m 76.48   \u001b[0m | \u001b[0m 0.6718  \u001b[0m |\n",
      "| \u001b[0m 77      \u001b[0m | \u001b[0m-0.3536  \u001b[0m | \u001b[0m 1.0     \u001b[0m | \u001b[0m 5.0     \u001b[0m | \u001b[0m 0.0001  \u001b[0m | \u001b[0m 3.0     \u001b[0m | \u001b[0m 812.6   \u001b[0m | \u001b[0m 1.0     \u001b[0m |\n",
      "| \u001b[0m 78      \u001b[0m | \u001b[0m-0.316   \u001b[0m | \u001b[0m 0.8493  \u001b[0m | \u001b[0m 3.983   \u001b[0m | \u001b[0m 0.1269  \u001b[0m | \u001b[0m 3.042   \u001b[0m | \u001b[0m 49.53   \u001b[0m | \u001b[0m 0.6858  \u001b[0m |\n",
      "| \u001b[0m 79      \u001b[0m | \u001b[0m-0.3152  \u001b[0m | \u001b[0m 0.7122  \u001b[0m | \u001b[0m 4.904   \u001b[0m | \u001b[0m 0.304   \u001b[0m | \u001b[0m 5.896   \u001b[0m | \u001b[0m 45.71   \u001b[0m | \u001b[0m 0.8198  \u001b[0m |\n",
      "| \u001b[0m 80      \u001b[0m | \u001b[0m-0.3154  \u001b[0m | \u001b[0m 0.8939  \u001b[0m | \u001b[0m 4.159   \u001b[0m | \u001b[0m 0.1638  \u001b[0m | \u001b[0m 9.837   \u001b[0m | \u001b[0m 815.2   \u001b[0m | \u001b[0m 0.5325  \u001b[0m |\n",
      "| \u001b[0m 81      \u001b[0m | \u001b[0m-0.3257  \u001b[0m | \u001b[0m 0.9366  \u001b[0m | \u001b[0m 4.872   \u001b[0m | \u001b[0m 0.01398 \u001b[0m | \u001b[0m 9.703   \u001b[0m | \u001b[0m 55.09   \u001b[0m | \u001b[0m 0.6659  \u001b[0m |\n",
      "| \u001b[0m 82      \u001b[0m | \u001b[0m-0.3151  \u001b[0m | \u001b[0m 0.7209  \u001b[0m | \u001b[0m 4.318   \u001b[0m | \u001b[0m 0.3026  \u001b[0m | \u001b[0m 3.025   \u001b[0m | \u001b[0m 479.3   \u001b[0m | \u001b[0m 0.6364  \u001b[0m |\n",
      "| \u001b[0m 83      \u001b[0m | \u001b[0m-0.3205  \u001b[0m | \u001b[0m 0.5     \u001b[0m | \u001b[0m 5.0     \u001b[0m | \u001b[0m 0.4     \u001b[0m | \u001b[0m 3.0     \u001b[0m | \u001b[0m 462.7   \u001b[0m | \u001b[0m 0.5     \u001b[0m |\n",
      "| \u001b[0m 84      \u001b[0m | \u001b[0m-0.3217  \u001b[0m | \u001b[0m 0.8444  \u001b[0m | \u001b[0m 4.172   \u001b[0m | \u001b[0m 0.3804  \u001b[0m | \u001b[0m 7.206   \u001b[0m | \u001b[0m 463.9   \u001b[0m | \u001b[0m 0.9912  \u001b[0m |\n",
      "| \u001b[0m 85      \u001b[0m | \u001b[0m-0.3374  \u001b[0m | \u001b[0m 0.5928  \u001b[0m | \u001b[0m 1.973   \u001b[0m | \u001b[0m 0.2228  \u001b[0m | \u001b[0m 4.148   \u001b[0m | \u001b[0m 465.3   \u001b[0m | \u001b[0m 0.8974  \u001b[0m |\n",
      "| \u001b[0m 86      \u001b[0m | \u001b[0m-0.3323  \u001b[0m | \u001b[0m 0.5263  \u001b[0m | \u001b[0m 1.968   \u001b[0m | \u001b[0m 0.03808 \u001b[0m | \u001b[0m 7.883   \u001b[0m | \u001b[0m 387.1   \u001b[0m | \u001b[0m 0.8814  \u001b[0m |\n",
      "| \u001b[0m 87      \u001b[0m | \u001b[0m-0.3896  \u001b[0m | \u001b[0m 0.6294  \u001b[0m | \u001b[0m 0.2264  \u001b[0m | \u001b[0m 0.2194  \u001b[0m | \u001b[0m 9.862   \u001b[0m | \u001b[0m 812.5   \u001b[0m | \u001b[0m 0.7796  \u001b[0m |\n",
      "| \u001b[0m 88      \u001b[0m | \u001b[0m-0.3193  \u001b[0m | \u001b[0m 1.0     \u001b[0m | \u001b[0m 5.0     \u001b[0m | \u001b[0m 0.4     \u001b[0m | \u001b[0m 6.823   \u001b[0m | \u001b[0m 72.52   \u001b[0m | \u001b[0m 1.0     \u001b[0m |\n",
      "| \u001b[0m 89      \u001b[0m | \u001b[0m-0.3535  \u001b[0m | \u001b[0m 0.5     \u001b[0m | \u001b[0m 5.0     \u001b[0m | \u001b[0m 0.0001  \u001b[0m | \u001b[0m 7.45    \u001b[0m | \u001b[0m 816.3   \u001b[0m | \u001b[0m 1.0     \u001b[0m |\n",
      "| \u001b[0m 90      \u001b[0m | \u001b[0m-0.3554  \u001b[0m | \u001b[0m 0.5     \u001b[0m | \u001b[0m 5.0     \u001b[0m | \u001b[0m 0.0001  \u001b[0m | \u001b[0m 5.427   \u001b[0m | \u001b[0m 531.7   \u001b[0m | \u001b[0m 1.0     \u001b[0m |\n",
      "| \u001b[0m 91      \u001b[0m | \u001b[0m-0.3167  \u001b[0m | \u001b[0m 0.9424  \u001b[0m | \u001b[0m 4.445   \u001b[0m | \u001b[0m 0.1357  \u001b[0m | \u001b[0m 7.989   \u001b[0m | \u001b[0m 46.88   \u001b[0m | \u001b[0m 0.8636  \u001b[0m |\n",
      "| \u001b[0m 92      \u001b[0m | \u001b[0m-0.3209  \u001b[0m | \u001b[0m 0.9254  \u001b[0m | \u001b[0m 4.673   \u001b[0m | \u001b[0m 0.2534  \u001b[0m | \u001b[0m 6.256   \u001b[0m | \u001b[0m 54.41   \u001b[0m | \u001b[0m 0.8621  \u001b[0m |\n",
      "| \u001b[0m 93      \u001b[0m | \u001b[0m-0.3195  \u001b[0m | \u001b[0m 0.7899  \u001b[0m | \u001b[0m 4.827   \u001b[0m | \u001b[0m 0.2361  \u001b[0m | \u001b[0m 5.444   \u001b[0m | \u001b[0m 455.2   \u001b[0m | \u001b[0m 0.9557  \u001b[0m |\n",
      "| \u001b[0m 94      \u001b[0m | \u001b[0m-0.3309  \u001b[0m | \u001b[0m 0.8914  \u001b[0m | \u001b[0m 3.109   \u001b[0m | \u001b[0m 0.3936  \u001b[0m | \u001b[0m 5.425   \u001b[0m | \u001b[0m 47.74   \u001b[0m | \u001b[0m 0.6905  \u001b[0m |\n",
      "| \u001b[0m 95      \u001b[0m | \u001b[0m-0.3393  \u001b[0m | \u001b[0m 0.5162  \u001b[0m | \u001b[0m 1.955   \u001b[0m | \u001b[0m 0.3438  \u001b[0m | \u001b[0m 3.268   \u001b[0m | \u001b[0m 478.6   \u001b[0m | \u001b[0m 0.5824  \u001b[0m |\n",
      "| \u001b[0m 96      \u001b[0m | \u001b[0m-0.3133  \u001b[0m | \u001b[0m 0.6863  \u001b[0m | \u001b[0m 4.935   \u001b[0m | \u001b[0m 0.246   \u001b[0m | \u001b[0m 9.768   \u001b[0m | \u001b[0m 61.79   \u001b[0m | \u001b[0m 0.5758  \u001b[0m |\n",
      "| \u001b[0m 97      \u001b[0m | \u001b[0m-0.356   \u001b[0m | \u001b[0m 1.0     \u001b[0m | \u001b[0m 5.0     \u001b[0m | \u001b[0m 0.0001  \u001b[0m | \u001b[0m 9.801   \u001b[0m | \u001b[0m 452.8   \u001b[0m | \u001b[0m 1.0     \u001b[0m |\n",
      "| \u001b[0m 98      \u001b[0m | \u001b[0m-0.3161  \u001b[0m | \u001b[0m 0.9632  \u001b[0m | \u001b[0m 4.569   \u001b[0m | \u001b[0m 0.3264  \u001b[0m | \u001b[0m 7.459   \u001b[0m | \u001b[0m 59.66   \u001b[0m | \u001b[0m 0.8733  \u001b[0m |\n",
      "| \u001b[0m 99      \u001b[0m | \u001b[0m-0.323   \u001b[0m | \u001b[0m 0.7873  \u001b[0m | \u001b[0m 2.857   \u001b[0m | \u001b[0m 0.1942  \u001b[0m | \u001b[0m 9.763   \u001b[0m | \u001b[0m 530.5   \u001b[0m | \u001b[0m 0.5851  \u001b[0m |\n",
      "| \u001b[0m 100     \u001b[0m | \u001b[0m-0.3145  \u001b[0m | \u001b[0m 0.8398  \u001b[0m | \u001b[0m 4.979   \u001b[0m | \u001b[0m 0.02233 \u001b[0m | \u001b[0m 3.992   \u001b[0m | \u001b[0m 452.2   \u001b[0m | \u001b[0m 0.9747  \u001b[0m |\n",
      "| \u001b[0m 101     \u001b[0m | \u001b[0m-0.3153  \u001b[0m | \u001b[0m 0.5215  \u001b[0m | \u001b[0m 4.694   \u001b[0m | \u001b[0m 0.1469  \u001b[0m | \u001b[0m 8.415   \u001b[0m | \u001b[0m 540.1   \u001b[0m | \u001b[0m 0.737   \u001b[0m |\n"
     ]
    },
    {
     "name": "stdout",
     "output_type": "stream",
     "text": [
      "| \u001b[0m 102     \u001b[0m | \u001b[0m-0.316   \u001b[0m | \u001b[0m 0.9449  \u001b[0m | \u001b[0m 4.643   \u001b[0m | \u001b[0m 0.1789  \u001b[0m | \u001b[0m 8.258   \u001b[0m | \u001b[0m 447.6   \u001b[0m | \u001b[0m 0.622   \u001b[0m |\n",
      "| \u001b[0m 103     \u001b[0m | \u001b[0m-0.3175  \u001b[0m | \u001b[0m 0.8873  \u001b[0m | \u001b[0m 4.602   \u001b[0m | \u001b[0m 0.208   \u001b[0m | \u001b[0m 4.711   \u001b[0m | \u001b[0m 481.8   \u001b[0m | \u001b[0m 0.8884  \u001b[0m |\n",
      "| \u001b[0m 104     \u001b[0m | \u001b[0m-0.3138  \u001b[0m | \u001b[0m 0.5559  \u001b[0m | \u001b[0m 4.879   \u001b[0m | \u001b[0m 0.05133 \u001b[0m | \u001b[0m 5.616   \u001b[0m | \u001b[0m 806.7   \u001b[0m | \u001b[0m 0.8023  \u001b[0m |\n",
      "| \u001b[0m 105     \u001b[0m | \u001b[0m-0.3448  \u001b[0m | \u001b[0m 0.5369  \u001b[0m | \u001b[0m 4.808   \u001b[0m | \u001b[0m 0.00312 \u001b[0m | \u001b[0m 9.718   \u001b[0m | \u001b[0m 72.14   \u001b[0m | \u001b[0m 0.5803  \u001b[0m |\n",
      "| \u001b[0m 106     \u001b[0m | \u001b[0m-0.3163  \u001b[0m | \u001b[0m 0.6368  \u001b[0m | \u001b[0m 4.88    \u001b[0m | \u001b[0m 0.3351  \u001b[0m | \u001b[0m 6.365   \u001b[0m | \u001b[0m 808.6   \u001b[0m | \u001b[0m 0.9746  \u001b[0m |\n",
      "| \u001b[0m 107     \u001b[0m | \u001b[0m-0.3165  \u001b[0m | \u001b[0m 0.6064  \u001b[0m | \u001b[0m 3.735   \u001b[0m | \u001b[0m 0.2755  \u001b[0m | \u001b[0m 3.833   \u001b[0m | \u001b[0m 72.08   \u001b[0m | \u001b[0m 0.5795  \u001b[0m |\n",
      "| \u001b[0m 108     \u001b[0m | \u001b[0m-0.3185  \u001b[0m | \u001b[0m 0.8776  \u001b[0m | \u001b[0m 4.816   \u001b[0m | \u001b[0m 0.3804  \u001b[0m | \u001b[0m 3.928   \u001b[0m | \u001b[0m 74.41   \u001b[0m | \u001b[0m 0.8624  \u001b[0m |\n",
      "| \u001b[0m 109     \u001b[0m | \u001b[0m-0.3193  \u001b[0m | \u001b[0m 0.5     \u001b[0m | \u001b[0m 5.0     \u001b[0m | \u001b[0m 0.4     \u001b[0m | \u001b[0m 10.0    \u001b[0m | \u001b[0m 40.31   \u001b[0m | \u001b[0m 1.0     \u001b[0m |\n",
      "| \u001b[0m 110     \u001b[0m | \u001b[0m-0.3813  \u001b[0m | \u001b[0m 0.9807  \u001b[0m | \u001b[0m 0.4256  \u001b[0m | \u001b[0m 0.3817  \u001b[0m | \u001b[0m 5.877   \u001b[0m | \u001b[0m 71.24   \u001b[0m | \u001b[0m 0.8239  \u001b[0m |\n",
      "| \u001b[0m 111     \u001b[0m | \u001b[0m-0.3534  \u001b[0m | \u001b[0m 1.0     \u001b[0m | \u001b[0m 5.0     \u001b[0m | \u001b[0m 0.0001  \u001b[0m | \u001b[0m 3.0     \u001b[0m | \u001b[0m 806.3   \u001b[0m | \u001b[0m 0.5     \u001b[0m |\n",
      "| \u001b[0m 112     \u001b[0m | \u001b[0m-0.3589  \u001b[0m | \u001b[0m 0.5     \u001b[0m | \u001b[0m 2.064   \u001b[0m | \u001b[0m 0.0001  \u001b[0m | \u001b[0m 3.0     \u001b[0m | \u001b[0m 52.87   \u001b[0m | \u001b[0m 0.5     \u001b[0m |\n",
      "| \u001b[0m 113     \u001b[0m | \u001b[0m-0.3159  \u001b[0m | \u001b[0m 0.791   \u001b[0m | \u001b[0m 4.804   \u001b[0m | \u001b[0m 0.2727  \u001b[0m | \u001b[0m 7.246   \u001b[0m | \u001b[0m 805.1   \u001b[0m | \u001b[0m 0.7898  \u001b[0m |\n",
      "| \u001b[0m 114     \u001b[0m | \u001b[0m-0.3554  \u001b[0m | \u001b[0m 1.0     \u001b[0m | \u001b[0m 5.0     \u001b[0m | \u001b[0m 0.0001  \u001b[0m | \u001b[0m 3.0     \u001b[0m | \u001b[0m 527.4   \u001b[0m | \u001b[0m 1.0     \u001b[0m |\n",
      "| \u001b[0m 115     \u001b[0m | \u001b[0m-0.3318  \u001b[0m | \u001b[0m 0.839   \u001b[0m | \u001b[0m 2.434   \u001b[0m | \u001b[0m 0.3547  \u001b[0m | \u001b[0m 8.788   \u001b[0m | \u001b[0m 60.34   \u001b[0m | \u001b[0m 0.6632  \u001b[0m |\n",
      "| \u001b[0m 116     \u001b[0m | \u001b[0m-0.3334  \u001b[0m | \u001b[0m 0.5     \u001b[0m | \u001b[0m 2.869   \u001b[0m | \u001b[0m 0.4     \u001b[0m | \u001b[0m 3.0     \u001b[0m | \u001b[0m 522.6   \u001b[0m | \u001b[0m 1.0     \u001b[0m |\n",
      "| \u001b[0m 117     \u001b[0m | \u001b[0m-0.3148  \u001b[0m | \u001b[0m 0.9242  \u001b[0m | \u001b[0m 4.638   \u001b[0m | \u001b[0m 0.09257 \u001b[0m | \u001b[0m 6.679   \u001b[0m | \u001b[0m 449.7   \u001b[0m | \u001b[0m 0.7199  \u001b[0m |\n",
      "| \u001b[0m 118     \u001b[0m | \u001b[0m-0.3156  \u001b[0m | \u001b[0m 0.882   \u001b[0m | \u001b[0m 4.425   \u001b[0m | \u001b[0m 0.07272 \u001b[0m | \u001b[0m 3.39    \u001b[0m | \u001b[0m 43.34   \u001b[0m | \u001b[0m 0.8313  \u001b[0m |\n",
      "| \u001b[0m 119     \u001b[0m | \u001b[0m-0.3492  \u001b[0m | \u001b[0m 0.7208  \u001b[0m | \u001b[0m 1.574   \u001b[0m | \u001b[0m 0.3137  \u001b[0m | \u001b[0m 3.335   \u001b[0m | \u001b[0m 39.02   \u001b[0m | \u001b[0m 0.815   \u001b[0m |\n",
      "| \u001b[0m 120     \u001b[0m | \u001b[0m-0.3193  \u001b[0m | \u001b[0m 1.0     \u001b[0m | \u001b[0m 5.0     \u001b[0m | \u001b[0m 0.4     \u001b[0m | \u001b[0m 8.691   \u001b[0m | \u001b[0m 474.1   \u001b[0m | \u001b[0m 1.0     \u001b[0m |\n",
      "| \u001b[0m 121     \u001b[0m | \u001b[0m-0.3201  \u001b[0m | \u001b[0m 0.5     \u001b[0m | \u001b[0m 5.0     \u001b[0m | \u001b[0m 0.4     \u001b[0m | \u001b[0m 10.0    \u001b[0m | \u001b[0m 45.51   \u001b[0m | \u001b[0m 0.5     \u001b[0m |\n",
      "| \u001b[0m 122     \u001b[0m | \u001b[0m-0.3211  \u001b[0m | \u001b[0m 0.5522  \u001b[0m | \u001b[0m 4.982   \u001b[0m | \u001b[0m 0.3996  \u001b[0m | \u001b[0m 5.841   \u001b[0m | \u001b[0m 536.7   \u001b[0m | \u001b[0m 0.51    \u001b[0m |\n",
      "| \u001b[0m 123     \u001b[0m | \u001b[0m-0.3167  \u001b[0m | \u001b[0m 0.852   \u001b[0m | \u001b[0m 4.81    \u001b[0m | \u001b[0m 0.3431  \u001b[0m | \u001b[0m 5.396   \u001b[0m | \u001b[0m 58.52   \u001b[0m | \u001b[0m 0.6488  \u001b[0m |\n",
      "| \u001b[0m 124     \u001b[0m | \u001b[0m-0.3167  \u001b[0m | \u001b[0m 0.9115  \u001b[0m | \u001b[0m 3.774   \u001b[0m | \u001b[0m 0.04132 \u001b[0m | \u001b[0m 9.927   \u001b[0m | \u001b[0m 466.0   \u001b[0m | \u001b[0m 0.6917  \u001b[0m |\n",
      "| \u001b[0m 125     \u001b[0m | \u001b[0m-0.3187  \u001b[0m | \u001b[0m 0.6415  \u001b[0m | \u001b[0m 4.699   \u001b[0m | \u001b[0m 0.3907  \u001b[0m | \u001b[0m 9.007   \u001b[0m | \u001b[0m 468.7   \u001b[0m | \u001b[0m 0.9533  \u001b[0m |\n",
      "| \u001b[0m 126     \u001b[0m | \u001b[0m-0.3494  \u001b[0m | \u001b[0m 0.7785  \u001b[0m | \u001b[0m 1.051   \u001b[0m | \u001b[0m 0.1557  \u001b[0m | \u001b[0m 9.989   \u001b[0m | \u001b[0m 468.2   \u001b[0m | \u001b[0m 0.6031  \u001b[0m |\n",
      "| \u001b[0m 127     \u001b[0m | \u001b[0m-0.3167  \u001b[0m | \u001b[0m 0.5932  \u001b[0m | \u001b[0m 4.867   \u001b[0m | \u001b[0m 0.3457  \u001b[0m | \u001b[0m 6.627   \u001b[0m | \u001b[0m 76.13   \u001b[0m | \u001b[0m 0.7737  \u001b[0m |\n",
      "| \u001b[0m 128     \u001b[0m | \u001b[0m-0.3194  \u001b[0m | \u001b[0m 0.7191  \u001b[0m | \u001b[0m 4.551   \u001b[0m | \u001b[0m 0.2336  \u001b[0m | \u001b[0m 9.899   \u001b[0m | \u001b[0m 462.4   \u001b[0m | \u001b[0m 0.9479  \u001b[0m |\n",
      "| \u001b[0m 129     \u001b[0m | \u001b[0m-0.3215  \u001b[0m | \u001b[0m 0.981   \u001b[0m | \u001b[0m 4.767   \u001b[0m | \u001b[0m 0.2903  \u001b[0m | \u001b[0m 4.937   \u001b[0m | \u001b[0m 79.54   \u001b[0m | \u001b[0m 0.947   \u001b[0m |\n",
      "| \u001b[0m 130     \u001b[0m | \u001b[0m-0.3128  \u001b[0m | \u001b[0m 0.5722  \u001b[0m | \u001b[0m 4.97    \u001b[0m | \u001b[0m 0.1241  \u001b[0m | \u001b[0m 9.878   \u001b[0m | \u001b[0m 803.8   \u001b[0m | \u001b[0m 0.7056  \u001b[0m |\n",
      "| \u001b[0m 131     \u001b[0m | \u001b[0m-0.3173  \u001b[0m | \u001b[0m 0.6163  \u001b[0m | \u001b[0m 4.982   \u001b[0m | \u001b[0m 0.3605  \u001b[0m | \u001b[0m 9.258   \u001b[0m | \u001b[0m 79.6    \u001b[0m | \u001b[0m 0.8028  \u001b[0m |\n",
      "| \u001b[95m 132     \u001b[0m | \u001b[95m-0.3115  \u001b[0m | \u001b[95m 0.5799  \u001b[0m | \u001b[95m 4.941   \u001b[0m | \u001b[95m 0.1031  \u001b[0m | \u001b[95m 8.974   \u001b[0m | \u001b[95m 83.63   \u001b[0m | \u001b[95m 0.5718  \u001b[0m |\n",
      "| \u001b[0m 133     \u001b[0m | \u001b[0m-0.3315  \u001b[0m | \u001b[0m 0.5546  \u001b[0m | \u001b[0m 1.914   \u001b[0m | \u001b[0m 0.04724 \u001b[0m | \u001b[0m 9.186   \u001b[0m | \u001b[0m 83.23   \u001b[0m | \u001b[0m 0.8054  \u001b[0m |\n",
      "| \u001b[0m 134     \u001b[0m | \u001b[0m-0.3126  \u001b[0m | \u001b[0m 0.6214  \u001b[0m | \u001b[0m 4.865   \u001b[0m | \u001b[0m 0.08242 \u001b[0m | \u001b[0m 6.953   \u001b[0m | \u001b[0m 85.35   \u001b[0m | \u001b[0m 0.722   \u001b[0m |\n",
      "| \u001b[0m 135     \u001b[0m | \u001b[0m-0.3194  \u001b[0m | \u001b[0m 0.99    \u001b[0m | \u001b[0m 3.423   \u001b[0m | \u001b[0m 0.1639  \u001b[0m | \u001b[0m 5.667   \u001b[0m | \u001b[0m 83.31   \u001b[0m | \u001b[0m 0.6899  \u001b[0m |\n",
      "| \u001b[0m 136     \u001b[0m | \u001b[0m-0.3205  \u001b[0m | \u001b[0m 0.9743  \u001b[0m | \u001b[0m 5.0     \u001b[0m | \u001b[0m 0.4     \u001b[0m | \u001b[0m 3.724   \u001b[0m | \u001b[0m 86.17   \u001b[0m | \u001b[0m 0.5     \u001b[0m |\n",
      "| \u001b[0m 137     \u001b[0m | \u001b[0m-0.3208  \u001b[0m | \u001b[0m 1.0     \u001b[0m | \u001b[0m 5.0     \u001b[0m | \u001b[0m 0.4     \u001b[0m | \u001b[0m 9.877   \u001b[0m | \u001b[0m 86.59   \u001b[0m | \u001b[0m 0.5     \u001b[0m |\n",
      "| \u001b[0m 138     \u001b[0m | \u001b[0m-0.3359  \u001b[0m | \u001b[0m 0.5975  \u001b[0m | \u001b[0m 2.462   \u001b[0m | \u001b[0m 0.3936  \u001b[0m | \u001b[0m 6.987   \u001b[0m | \u001b[0m 88.24   \u001b[0m | \u001b[0m 0.5688  \u001b[0m |\n",
      "| \u001b[0m 139     \u001b[0m | \u001b[0m-0.3168  \u001b[0m | \u001b[0m 0.5119  \u001b[0m | \u001b[0m 4.168   \u001b[0m | \u001b[0m 0.1762  \u001b[0m | \u001b[0m 9.253   \u001b[0m | \u001b[0m 800.4   \u001b[0m | \u001b[0m 0.7048  \u001b[0m |\n",
      "| \u001b[0m 140     \u001b[0m | \u001b[0m-0.318   \u001b[0m | \u001b[0m 0.7827  \u001b[0m | \u001b[0m 4.214   \u001b[0m | \u001b[0m 0.3556  \u001b[0m | \u001b[0m 7.755   \u001b[0m | \u001b[0m 796.8   \u001b[0m | \u001b[0m 0.5682  \u001b[0m |\n",
      "| \u001b[0m 141     \u001b[0m | \u001b[0m-0.3484  \u001b[0m | \u001b[0m 0.9181  \u001b[0m | \u001b[0m 1.199   \u001b[0m | \u001b[0m 0.2099  \u001b[0m | \u001b[0m 9.904   \u001b[0m | \u001b[0m 797.3   \u001b[0m | \u001b[0m 0.5137  \u001b[0m |\n",
      "| \u001b[0m 142     \u001b[0m | \u001b[0m-0.3158  \u001b[0m | \u001b[0m 0.5209  \u001b[0m | \u001b[0m 4.413   \u001b[0m | \u001b[0m 0.0992  \u001b[0m | \u001b[0m 4.296   \u001b[0m | \u001b[0m 796.3   \u001b[0m | \u001b[0m 0.6917  \u001b[0m |\n",
      "| \u001b[0m 143     \u001b[0m | \u001b[0m-0.3258  \u001b[0m | \u001b[0m 0.5768  \u001b[0m | \u001b[0m 4.404   \u001b[0m | \u001b[0m 0.3148  \u001b[0m | \u001b[0m 6.068   \u001b[0m | \u001b[0m 793.4   \u001b[0m | \u001b[0m 0.9203  \u001b[0m |\n",
      "| \u001b[0m 144     \u001b[0m | \u001b[0m-0.3165  \u001b[0m | \u001b[0m 0.5102  \u001b[0m | \u001b[0m 4.578   \u001b[0m | \u001b[0m 0.3425  \u001b[0m | \u001b[0m 5.124   \u001b[0m | \u001b[0m 798.9   \u001b[0m | \u001b[0m 0.8152  \u001b[0m |\n",
      "| \u001b[0m 145     \u001b[0m | \u001b[0m-0.3554  \u001b[0m | \u001b[0m 0.5     \u001b[0m | \u001b[0m 1.347   \u001b[0m | \u001b[0m 0.4     \u001b[0m | \u001b[0m 3.0     \u001b[0m | \u001b[0m 795.2   \u001b[0m | \u001b[0m 0.5     \u001b[0m |\n",
      "| \u001b[0m 146     \u001b[0m | \u001b[0m-0.3557  \u001b[0m | \u001b[0m 1.0     \u001b[0m | \u001b[0m 5.0     \u001b[0m | \u001b[0m 0.0001  \u001b[0m | \u001b[0m 10.0    \u001b[0m | \u001b[0m 484.3   \u001b[0m | \u001b[0m 0.5     \u001b[0m |\n",
      "| \u001b[0m 147     \u001b[0m | \u001b[0m-0.3533  \u001b[0m | \u001b[0m 1.0     \u001b[0m | \u001b[0m 5.0     \u001b[0m | \u001b[0m 0.0001  \u001b[0m | \u001b[0m 7.04    \u001b[0m | \u001b[0m 812.1   \u001b[0m | \u001b[0m 0.5     \u001b[0m |\n",
      "| \u001b[0m 148     \u001b[0m | \u001b[0m-0.3261  \u001b[0m | \u001b[0m 0.8322  \u001b[0m | \u001b[0m 3.911   \u001b[0m | \u001b[0m 0.318   \u001b[0m | \u001b[0m 7.438   \u001b[0m | \u001b[0m 81.3    \u001b[0m | \u001b[0m 0.9462  \u001b[0m |\n",
      "| \u001b[0m 149     \u001b[0m | \u001b[0m-0.3149  \u001b[0m | \u001b[0m 0.844   \u001b[0m | \u001b[0m 4.771   \u001b[0m | \u001b[0m 0.304   \u001b[0m | \u001b[0m 7.246   \u001b[0m | \u001b[0m 801.1   \u001b[0m | \u001b[0m 0.7952  \u001b[0m |\n",
      "| \u001b[0m 150     \u001b[0m | \u001b[0m-0.3336  \u001b[0m | \u001b[0m 0.6267  \u001b[0m | \u001b[0m 2.086   \u001b[0m | \u001b[0m 0.154   \u001b[0m | \u001b[0m 9.807   \u001b[0m | \u001b[0m 803.3   \u001b[0m | \u001b[0m 0.9978  \u001b[0m |\n",
      "| \u001b[0m 151     \u001b[0m | \u001b[0m-0.3587  \u001b[0m | \u001b[0m 0.5     \u001b[0m | \u001b[0m 5.0     \u001b[0m | \u001b[0m 0.0001  \u001b[0m | \u001b[0m 3.0     \u001b[0m | \u001b[0m 82.83   \u001b[0m | \u001b[0m 0.5     \u001b[0m |\n",
      "| \u001b[0m 152     \u001b[0m | \u001b[0m-0.3192  \u001b[0m | \u001b[0m 0.764   \u001b[0m | \u001b[0m 4.853   \u001b[0m | \u001b[0m 0.3736  \u001b[0m | \u001b[0m 5.937   \u001b[0m | \u001b[0m 461.4   \u001b[0m | \u001b[0m 0.5437  \u001b[0m |\n"
     ]
    },
    {
     "name": "stdout",
     "output_type": "stream",
     "text": [
      "| \u001b[0m 153     \u001b[0m | \u001b[0m-0.3154  \u001b[0m | \u001b[0m 0.5838  \u001b[0m | \u001b[0m 4.757   \u001b[0m | \u001b[0m 0.06685 \u001b[0m | \u001b[0m 6.73    \u001b[0m | \u001b[0m 41.88   \u001b[0m | \u001b[0m 0.8551  \u001b[0m |\n",
      "| \u001b[0m 154     \u001b[0m | \u001b[0m-0.3205  \u001b[0m | \u001b[0m 0.5     \u001b[0m | \u001b[0m 5.0     \u001b[0m | \u001b[0m 0.4     \u001b[0m | \u001b[0m 3.435   \u001b[0m | \u001b[0m 449.7   \u001b[0m | \u001b[0m 0.5     \u001b[0m |\n",
      "| \u001b[0m 155     \u001b[0m | \u001b[0m-0.3479  \u001b[0m | \u001b[0m 1.0     \u001b[0m | \u001b[0m 1.774   \u001b[0m | \u001b[0m 0.4     \u001b[0m | \u001b[0m 10.0    \u001b[0m | \u001b[0m 463.4   \u001b[0m | \u001b[0m 0.5     \u001b[0m |\n",
      "| \u001b[0m 156     \u001b[0m | \u001b[0m-0.3164  \u001b[0m | \u001b[0m 0.5138  \u001b[0m | \u001b[0m 4.858   \u001b[0m | \u001b[0m 0.133   \u001b[0m | \u001b[0m 5.324   \u001b[0m | \u001b[0m 542.1   \u001b[0m | \u001b[0m 0.928   \u001b[0m |\n",
      "| \u001b[0m 157     \u001b[0m | \u001b[0m-0.3199  \u001b[0m | \u001b[0m 0.8595  \u001b[0m | \u001b[0m 3.676   \u001b[0m | \u001b[0m 0.2435  \u001b[0m | \u001b[0m 3.535   \u001b[0m | \u001b[0m 76.91   \u001b[0m | \u001b[0m 0.7339  \u001b[0m |\n",
      "| \u001b[0m 158     \u001b[0m | \u001b[0m-0.3196  \u001b[0m | \u001b[0m 1.0     \u001b[0m | \u001b[0m 5.0     \u001b[0m | \u001b[0m 0.4     \u001b[0m | \u001b[0m 8.836   \u001b[0m | \u001b[0m 37.36   \u001b[0m | \u001b[0m 0.5     \u001b[0m |\n",
      "| \u001b[0m 159     \u001b[0m | \u001b[0m-0.3204  \u001b[0m | \u001b[0m 1.0     \u001b[0m | \u001b[0m 5.0     \u001b[0m | \u001b[0m 0.4     \u001b[0m | \u001b[0m 3.0     \u001b[0m | \u001b[0m 70.45   \u001b[0m | \u001b[0m 0.5     \u001b[0m |\n",
      "| \u001b[0m 160     \u001b[0m | \u001b[0m-0.3162  \u001b[0m | \u001b[0m 0.8748  \u001b[0m | \u001b[0m 4.609   \u001b[0m | \u001b[0m 0.1133  \u001b[0m | \u001b[0m 3.461   \u001b[0m | \u001b[0m 90.11   \u001b[0m | \u001b[0m 0.9021  \u001b[0m |\n",
      "| \u001b[0m 161     \u001b[0m | \u001b[0m-0.3242  \u001b[0m | \u001b[0m 0.9899  \u001b[0m | \u001b[0m 2.512   \u001b[0m | \u001b[0m 0.2676  \u001b[0m | \u001b[0m 3.531   \u001b[0m | \u001b[0m 92.85   \u001b[0m | \u001b[0m 0.5538  \u001b[0m |\n",
      "| \u001b[0m 162     \u001b[0m | \u001b[0m-0.3145  \u001b[0m | \u001b[0m 0.9336  \u001b[0m | \u001b[0m 4.911   \u001b[0m | \u001b[0m 0.2747  \u001b[0m | \u001b[0m 5.863   \u001b[0m | \u001b[0m 92.2    \u001b[0m | \u001b[0m 0.5379  \u001b[0m |\n",
      "| \u001b[0m 163     \u001b[0m | \u001b[0m-0.313   \u001b[0m | \u001b[0m 0.8297  \u001b[0m | \u001b[0m 4.931   \u001b[0m | \u001b[0m 0.1407  \u001b[0m | \u001b[0m 4.707   \u001b[0m | \u001b[0m 95.63   \u001b[0m | \u001b[0m 0.6138  \u001b[0m |\n",
      "| \u001b[0m 164     \u001b[0m | \u001b[0m-0.3183  \u001b[0m | \u001b[0m 0.5657  \u001b[0m | \u001b[0m 4.867   \u001b[0m | \u001b[0m 0.3746  \u001b[0m | \u001b[0m 7.294   \u001b[0m | \u001b[0m 94.37   \u001b[0m | \u001b[0m 0.6026  \u001b[0m |\n",
      "| \u001b[0m 165     \u001b[0m | \u001b[0m-0.3404  \u001b[0m | \u001b[0m 0.6614  \u001b[0m | \u001b[0m 1.968   \u001b[0m | \u001b[0m 0.3498  \u001b[0m | \u001b[0m 5.515   \u001b[0m | \u001b[0m 96.57   \u001b[0m | \u001b[0m 0.6372  \u001b[0m |\n",
      "| \u001b[0m 166     \u001b[0m | \u001b[0m-0.3558  \u001b[0m | \u001b[0m 0.5     \u001b[0m | \u001b[0m 5.0     \u001b[0m | \u001b[0m 0.0001  \u001b[0m | \u001b[0m 7.7     \u001b[0m | \u001b[0m 466.5   \u001b[0m | \u001b[0m 0.5     \u001b[0m |\n",
      "| \u001b[0m 167     \u001b[0m | \u001b[0m-0.3203  \u001b[0m | \u001b[0m 0.753   \u001b[0m | \u001b[0m 4.546   \u001b[0m | \u001b[0m 0.2381  \u001b[0m | \u001b[0m 3.05    \u001b[0m | \u001b[0m 93.39   \u001b[0m | \u001b[0m 0.725   \u001b[0m |\n",
      "| \u001b[0m 168     \u001b[0m | \u001b[0m-0.3276  \u001b[0m | \u001b[0m 0.9204  \u001b[0m | \u001b[0m 2.285   \u001b[0m | \u001b[0m 0.03494 \u001b[0m | \u001b[0m 3.194   \u001b[0m | \u001b[0m 87.38   \u001b[0m | \u001b[0m 0.8035  \u001b[0m |\n",
      "| \u001b[0m 169     \u001b[0m | \u001b[0m-0.3152  \u001b[0m | \u001b[0m 0.5992  \u001b[0m | \u001b[0m 4.473   \u001b[0m | \u001b[0m 0.3042  \u001b[0m | \u001b[0m 9.767   \u001b[0m | \u001b[0m 92.77   \u001b[0m | \u001b[0m 0.7718  \u001b[0m |\n",
      "| \u001b[0m 170     \u001b[0m | \u001b[0m-0.3304  \u001b[0m | \u001b[0m 0.6341  \u001b[0m | \u001b[0m 2.279   \u001b[0m | \u001b[0m 0.1994  \u001b[0m | \u001b[0m 8.341   \u001b[0m | \u001b[0m 92.86   \u001b[0m | \u001b[0m 0.6855  \u001b[0m |\n",
      "| \u001b[0m 171     \u001b[0m | \u001b[0m-0.3129  \u001b[0m | \u001b[0m 0.9134  \u001b[0m | \u001b[0m 4.79    \u001b[0m | \u001b[0m 0.1196  \u001b[0m | \u001b[0m 9.821   \u001b[0m | \u001b[0m 534.0   \u001b[0m | \u001b[0m 0.5649  \u001b[0m |\n",
      "| \u001b[0m 172     \u001b[0m | \u001b[0m-0.3586  \u001b[0m | \u001b[0m 1.0     \u001b[0m | \u001b[0m 5.0     \u001b[0m | \u001b[0m 0.0001  \u001b[0m | \u001b[0m 10.0    \u001b[0m | \u001b[0m 95.65   \u001b[0m | \u001b[0m 1.0     \u001b[0m |\n",
      "| \u001b[95m 173     \u001b[0m | \u001b[95m-0.3115  \u001b[0m | \u001b[95m 0.6086  \u001b[0m | \u001b[95m 4.482   \u001b[0m | \u001b[95m 0.06757 \u001b[0m | \u001b[95m 8.952   \u001b[0m | \u001b[95m 90.62   \u001b[0m | \u001b[95m 0.5085  \u001b[0m |\n",
      "| \u001b[0m 174     \u001b[0m | \u001b[0m-0.3537  \u001b[0m | \u001b[0m 1.0     \u001b[0m | \u001b[0m 5.0     \u001b[0m | \u001b[0m 0.0001  \u001b[0m | \u001b[0m 3.0     \u001b[0m | \u001b[0m 798.3   \u001b[0m | \u001b[0m 1.0     \u001b[0m |\n",
      "| \u001b[0m 175     \u001b[0m | \u001b[0m-0.3157  \u001b[0m | \u001b[0m 0.797   \u001b[0m | \u001b[0m 4.962   \u001b[0m | \u001b[0m 0.1609  \u001b[0m | \u001b[0m 6.979   \u001b[0m | \u001b[0m 88.59   \u001b[0m | \u001b[0m 0.9438  \u001b[0m |\n",
      "| \u001b[0m 176     \u001b[0m | \u001b[0m-0.3586  \u001b[0m | \u001b[0m 1.0     \u001b[0m | \u001b[0m 5.0     \u001b[0m | \u001b[0m 0.0001  \u001b[0m | \u001b[0m 3.0     \u001b[0m | \u001b[0m 97.64   \u001b[0m | \u001b[0m 0.5     \u001b[0m |\n",
      "| \u001b[0m 177     \u001b[0m | \u001b[0m-0.3139  \u001b[0m | \u001b[0m 0.8983  \u001b[0m | \u001b[0m 4.965   \u001b[0m | \u001b[0m 0.1422  \u001b[0m | \u001b[0m 7.368   \u001b[0m | \u001b[0m 799.4   \u001b[0m | \u001b[0m 0.7159  \u001b[0m |\n",
      "| \u001b[0m 178     \u001b[0m | \u001b[0m-0.3171  \u001b[0m | \u001b[0m 0.7152  \u001b[0m | \u001b[0m 3.359   \u001b[0m | \u001b[0m 0.05142 \u001b[0m | \u001b[0m 5.581   \u001b[0m | \u001b[0m 797.5   \u001b[0m | \u001b[0m 0.5745  \u001b[0m |\n",
      "| \u001b[0m 179     \u001b[0m | \u001b[0m-0.3367  \u001b[0m | \u001b[0m 1.0     \u001b[0m | \u001b[0m 2.093   \u001b[0m | \u001b[0m 0.4     \u001b[0m | \u001b[0m 3.0     \u001b[0m | \u001b[0m 530.9   \u001b[0m | \u001b[0m 0.5     \u001b[0m |\n",
      "| \u001b[0m 180     \u001b[0m | \u001b[0m-0.3392  \u001b[0m | \u001b[0m 0.8476  \u001b[0m | \u001b[0m 2.409   \u001b[0m | \u001b[0m 0.3304  \u001b[0m | \u001b[0m 6.304   \u001b[0m | \u001b[0m 541.2   \u001b[0m | \u001b[0m 0.9031  \u001b[0m |\n",
      "| \u001b[0m 181     \u001b[0m | \u001b[0m-0.3176  \u001b[0m | \u001b[0m 0.65    \u001b[0m | \u001b[0m 4.963   \u001b[0m | \u001b[0m 0.3678  \u001b[0m | \u001b[0m 9.468   \u001b[0m | \u001b[0m 470.5   \u001b[0m | \u001b[0m 0.8075  \u001b[0m |\n",
      "| \u001b[0m 182     \u001b[0m | \u001b[0m-0.3382  \u001b[0m | \u001b[0m 0.6301  \u001b[0m | \u001b[0m 2.736   \u001b[0m | \u001b[0m 0.3618  \u001b[0m | \u001b[0m 7.218   \u001b[0m | \u001b[0m 807.1   \u001b[0m | \u001b[0m 0.8857  \u001b[0m |\n",
      "| \u001b[0m 183     \u001b[0m | \u001b[0m-0.3195  \u001b[0m | \u001b[0m 0.7476  \u001b[0m | \u001b[0m 4.98    \u001b[0m | \u001b[0m 0.3999  \u001b[0m | \u001b[0m 4.766   \u001b[0m | \u001b[0m 88.01   \u001b[0m | \u001b[0m 0.7419  \u001b[0m |\n",
      "| \u001b[0m 184     \u001b[0m | \u001b[0m-0.3158  \u001b[0m | \u001b[0m 0.8968  \u001b[0m | \u001b[0m 4.373   \u001b[0m | \u001b[0m 0.08367 \u001b[0m | \u001b[0m 3.321   \u001b[0m | \u001b[0m 544.2   \u001b[0m | \u001b[0m 0.728   \u001b[0m |\n",
      "| \u001b[0m 185     \u001b[0m | \u001b[0m-0.3177  \u001b[0m | \u001b[0m 0.5588  \u001b[0m | \u001b[0m 4.803   \u001b[0m | \u001b[0m 0.2096  \u001b[0m | \u001b[0m 4.595   \u001b[0m | \u001b[0m 548.5   \u001b[0m | \u001b[0m 0.7551  \u001b[0m |\n",
      "| \u001b[0m 186     \u001b[0m | \u001b[0m-0.3179  \u001b[0m | \u001b[0m 0.5355  \u001b[0m | \u001b[0m 4.439   \u001b[0m | \u001b[0m 0.3534  \u001b[0m | \u001b[0m 4.324   \u001b[0m | \u001b[0m 551.3   \u001b[0m | \u001b[0m 0.5035  \u001b[0m |\n",
      "| \u001b[0m 187     \u001b[0m | \u001b[0m-0.3226  \u001b[0m | \u001b[0m 0.9278  \u001b[0m | \u001b[0m 2.564   \u001b[0m | \u001b[0m 0.06477 \u001b[0m | \u001b[0m 3.394   \u001b[0m | \u001b[0m 549.8   \u001b[0m | \u001b[0m 0.602   \u001b[0m |\n",
      "| \u001b[0m 188     \u001b[0m | \u001b[0m-0.3193  \u001b[0m | \u001b[0m 0.5324  \u001b[0m | \u001b[0m 4.302   \u001b[0m | \u001b[0m 0.2084  \u001b[0m | \u001b[0m 7.726   \u001b[0m | \u001b[0m 551.0   \u001b[0m | \u001b[0m 0.9002  \u001b[0m |\n",
      "| \u001b[0m 189     \u001b[0m | \u001b[0m-0.345   \u001b[0m | \u001b[0m 0.5347  \u001b[0m | \u001b[0m 1.528   \u001b[0m | \u001b[0m 0.2042  \u001b[0m | \u001b[0m 5.916   \u001b[0m | \u001b[0m 553.1   \u001b[0m | \u001b[0m 0.9282  \u001b[0m |\n",
      "| \u001b[0m 190     \u001b[0m | \u001b[0m-0.3334  \u001b[0m | \u001b[0m 0.7961  \u001b[0m | \u001b[0m 2.6     \u001b[0m | \u001b[0m 0.2706  \u001b[0m | \u001b[0m 3.139   \u001b[0m | \u001b[0m 546.5   \u001b[0m | \u001b[0m 0.9019  \u001b[0m |\n",
      "| \u001b[0m 191     \u001b[0m | \u001b[0m-0.3175  \u001b[0m | \u001b[0m 0.777   \u001b[0m | \u001b[0m 4.931   \u001b[0m | \u001b[0m 0.3683  \u001b[0m | \u001b[0m 6.502   \u001b[0m | \u001b[0m 544.4   \u001b[0m | \u001b[0m 0.9224  \u001b[0m |\n",
      "| \u001b[0m 192     \u001b[0m | \u001b[0m-0.3204  \u001b[0m | \u001b[0m 0.8601  \u001b[0m | \u001b[0m 4.907   \u001b[0m | \u001b[0m 0.2728  \u001b[0m | \u001b[0m 7.509   \u001b[0m | \u001b[0m 547.5   \u001b[0m | \u001b[0m 0.8618  \u001b[0m |\n",
      "| \u001b[0m 193     \u001b[0m | \u001b[0m-0.3211  \u001b[0m | \u001b[0m 0.8275  \u001b[0m | \u001b[0m 4.091   \u001b[0m | \u001b[0m 0.3655  \u001b[0m | \u001b[0m 9.207   \u001b[0m | \u001b[0m 785.7   \u001b[0m | \u001b[0m 0.8049  \u001b[0m |\n",
      "| \u001b[0m 194     \u001b[0m | \u001b[0m-0.3187  \u001b[0m | \u001b[0m 0.5445  \u001b[0m | \u001b[0m 3.599   \u001b[0m | \u001b[0m 0.09593 \u001b[0m | \u001b[0m 7.142   \u001b[0m | \u001b[0m 782.9   \u001b[0m | \u001b[0m 0.7054  \u001b[0m |\n",
      "| \u001b[0m 195     \u001b[0m | \u001b[0m-0.3658  \u001b[0m | \u001b[0m 0.7175  \u001b[0m | \u001b[0m 0.5726  \u001b[0m | \u001b[0m 0.1232  \u001b[0m | \u001b[0m 8.513   \u001b[0m | \u001b[0m 783.4   \u001b[0m | \u001b[0m 0.8686  \u001b[0m |\n",
      "| \u001b[0m 196     \u001b[0m | \u001b[0m-0.3171  \u001b[0m | \u001b[0m 0.5     \u001b[0m | \u001b[0m 5.0     \u001b[0m | \u001b[0m 0.3312  \u001b[0m | \u001b[0m 5.942   \u001b[0m | \u001b[0m 785.0   \u001b[0m | \u001b[0m 0.5     \u001b[0m |\n",
      "| \u001b[0m 197     \u001b[0m | \u001b[0m-0.3192  \u001b[0m | \u001b[0m 0.5495  \u001b[0m | \u001b[0m 4.485   \u001b[0m | \u001b[0m 0.3951  \u001b[0m | \u001b[0m 4.252   \u001b[0m | \u001b[0m 782.8   \u001b[0m | \u001b[0m 0.5751  \u001b[0m |\n",
      "| \u001b[0m 198     \u001b[0m | \u001b[0m-0.3165  \u001b[0m | \u001b[0m 0.6458  \u001b[0m | \u001b[0m 4.558   \u001b[0m | \u001b[0m 0.1316  \u001b[0m | \u001b[0m 6.337   \u001b[0m | \u001b[0m 779.9   \u001b[0m | \u001b[0m 0.8615  \u001b[0m |\n",
      "| \u001b[0m 199     \u001b[0m | \u001b[0m-0.3366  \u001b[0m | \u001b[0m 0.8074  \u001b[0m | \u001b[0m 2.745   \u001b[0m | \u001b[0m 0.3682  \u001b[0m | \u001b[0m 3.776   \u001b[0m | \u001b[0m 779.2   \u001b[0m | \u001b[0m 0.9244  \u001b[0m |\n",
      "| \u001b[0m 200     \u001b[0m | \u001b[0m-0.3537  \u001b[0m | \u001b[0m 1.0     \u001b[0m | \u001b[0m 5.0     \u001b[0m | \u001b[0m 0.0001  \u001b[0m | \u001b[0m 7.057   \u001b[0m | \u001b[0m 788.1   \u001b[0m | \u001b[0m 1.0     \u001b[0m |\n",
      "| \u001b[0m 201     \u001b[0m | \u001b[0m-0.3188  \u001b[0m | \u001b[0m 0.7844  \u001b[0m | \u001b[0m 4.138   \u001b[0m | \u001b[0m 0.08425 \u001b[0m | \u001b[0m 9.221   \u001b[0m | \u001b[0m 778.1   \u001b[0m | \u001b[0m 0.9076  \u001b[0m |\n",
      "| \u001b[0m 202     \u001b[0m | \u001b[0m-0.3166  \u001b[0m | \u001b[0m 0.5298  \u001b[0m | \u001b[0m 4.757   \u001b[0m | \u001b[0m 0.3127  \u001b[0m | \u001b[0m 6.114   \u001b[0m | \u001b[0m 776.0   \u001b[0m | \u001b[0m 0.5589  \u001b[0m |\n",
      "| \u001b[0m 203     \u001b[0m | \u001b[0m-0.3162  \u001b[0m | \u001b[0m 0.9794  \u001b[0m | \u001b[0m 4.993   \u001b[0m | \u001b[0m 0.1819  \u001b[0m | \u001b[0m 8.752   \u001b[0m | \u001b[0m 783.0   \u001b[0m | \u001b[0m 0.7284  \u001b[0m |\n"
     ]
    },
    {
     "name": "stdout",
     "output_type": "stream",
     "text": [
      "| \u001b[0m 204     \u001b[0m | \u001b[0m-0.3115  \u001b[0m | \u001b[0m 0.5092  \u001b[0m | \u001b[0m 4.705   \u001b[0m | \u001b[0m 0.02053 \u001b[0m | \u001b[0m 9.081   \u001b[0m | \u001b[0m 774.9   \u001b[0m | \u001b[0m 0.5679  \u001b[0m |\n",
      "| \u001b[0m 205     \u001b[0m | \u001b[0m-0.3236  \u001b[0m | \u001b[0m 1.0     \u001b[0m | \u001b[0m 2.403   \u001b[0m | \u001b[0m 0.1888  \u001b[0m | \u001b[0m 8.037   \u001b[0m | \u001b[0m 775.3   \u001b[0m | \u001b[0m 0.5     \u001b[0m |\n",
      "| \u001b[0m 206     \u001b[0m | \u001b[0m-0.3538  \u001b[0m | \u001b[0m 0.5     \u001b[0m | \u001b[0m 5.0     \u001b[0m | \u001b[0m 0.0001  \u001b[0m | \u001b[0m 7.24    \u001b[0m | \u001b[0m 773.0   \u001b[0m | \u001b[0m 1.0     \u001b[0m |\n",
      "| \u001b[0m 207     \u001b[0m | \u001b[0m-0.3205  \u001b[0m | \u001b[0m 1.0     \u001b[0m | \u001b[0m 5.0     \u001b[0m | \u001b[0m 0.4     \u001b[0m | \u001b[0m 9.835   \u001b[0m | \u001b[0m 443.3   \u001b[0m | \u001b[0m 0.5     \u001b[0m |\n",
      "| \u001b[0m 208     \u001b[0m | \u001b[0m-0.3559  \u001b[0m | \u001b[0m 0.5     \u001b[0m | \u001b[0m 5.0     \u001b[0m | \u001b[0m 0.0001  \u001b[0m | \u001b[0m 3.0     \u001b[0m | \u001b[0m 460.0   \u001b[0m | \u001b[0m 1.0     \u001b[0m |\n",
      "| \u001b[0m 209     \u001b[0m | \u001b[0m-0.3161  \u001b[0m | \u001b[0m 0.7569  \u001b[0m | \u001b[0m 4.836   \u001b[0m | \u001b[0m 0.1273  \u001b[0m | \u001b[0m 9.129   \u001b[0m | \u001b[0m 780.8   \u001b[0m | \u001b[0m 0.7623  \u001b[0m |\n",
      "| \u001b[0m 210     \u001b[0m | \u001b[0m-0.3193  \u001b[0m | \u001b[0m 1.0     \u001b[0m | \u001b[0m 5.0     \u001b[0m | \u001b[0m 0.4     \u001b[0m | \u001b[0m 7.328   \u001b[0m | \u001b[0m 457.7   \u001b[0m | \u001b[0m 1.0     \u001b[0m |\n",
      "=================================================================================================\n"
     ]
    }
   ],
   "source": [
    "BO_xgb.maximize(init_points = 10, n_iter = 200)"
   ]
  },
  {
   "cell_type": "code",
   "execution_count": 44,
   "id": "368b97ef",
   "metadata": {
    "ExecuteTime": {
     "end_time": "2022-06-02T18:01:28.147545Z",
     "start_time": "2022-06-02T18:01:28.131542Z"
    }
   },
   "outputs": [
    {
     "data": {
      "text/plain": [
       "{'target': -0.3114613401742714,\n",
       " 'params': {'colsample_bytree': 0.6086311591938874,\n",
       "  'gamma': 4.4823554111740975,\n",
       "  'learning_rate': 0.06756917692030592,\n",
       "  'max_depth': 8.951621721309039,\n",
       "  'n_estimators': 90.6237357490009,\n",
       "  'subsample': 0.5084855077624653}}"
      ]
     },
     "execution_count": 44,
     "metadata": {},
     "output_type": "execute_result"
    }
   ],
   "source": [
    "BO_xgb.max"
   ]
  },
  {
   "cell_type": "code",
   "execution_count": 45,
   "id": "d23cdf3a",
   "metadata": {
    "ExecuteTime": {
     "end_time": "2022-06-02T18:01:35.869167Z",
     "start_time": "2022-06-02T18:01:35.852497Z"
    }
   },
   "outputs": [],
   "source": [
    "params = BO_xgb.max['params']\n",
    "params['max_depth'] = int(round(params['max_depth']))\n",
    "params['n_estimators'] = int(round(params['n_estimators']))"
   ]
  },
  {
   "cell_type": "code",
   "execution_count": 46,
   "id": "c4dc3704",
   "metadata": {
    "ExecuteTime": {
     "end_time": "2022-06-02T18:01:46.215969Z",
     "start_time": "2022-06-02T18:01:46.211969Z"
    }
   },
   "outputs": [],
   "source": [
    "xgb = XGBRegressor(random_state = 42, **params)"
   ]
  },
  {
   "cell_type": "code",
   "execution_count": 47,
   "id": "2367a044",
   "metadata": {
    "ExecuteTime": {
     "end_time": "2022-06-02T18:02:12.418858Z",
     "start_time": "2022-06-02T18:02:12.209153Z"
    }
   },
   "outputs": [
    {
     "data": {
      "text/plain": [
       "XGBRegressor(base_score=0.5, booster='gbtree', colsample_bylevel=1,\n",
       "             colsample_bynode=1, colsample_bytree=0.6086311591938874,\n",
       "             gamma=4.4823554111740975, gpu_id=-1, importance_type='gain',\n",
       "             interaction_constraints='', learning_rate=0.06756917692030592,\n",
       "             max_delta_step=0, max_depth=9, min_child_weight=1, missing=nan,\n",
       "             monotone_constraints='()', n_estimators=91, n_jobs=16,\n",
       "             num_parallel_tree=1, random_state=42, reg_alpha=0, reg_lambda=1,\n",
       "             scale_pos_weight=1, subsample=0.5084855077624653,\n",
       "             tree_method='exact', validate_parameters=1, verbosity=None)"
      ]
     },
     "execution_count": 47,
     "metadata": {},
     "output_type": "execute_result"
    }
   ],
   "source": [
    "xgb.fit(X_train, y_train)"
   ]
  },
  {
   "cell_type": "code",
   "execution_count": 109,
   "id": "a83ddc5d",
   "metadata": {
    "ExecuteTime": {
     "end_time": "2022-06-02T18:38:58.075597Z",
     "start_time": "2022-06-02T18:38:58.060869Z"
    }
   },
   "outputs": [],
   "source": [
    "y_pred_xgb = y_scaler.inverse_transform([xgb.predict(X_test)])\n",
    "y_pred_xgb = np.expm1(y_pred)"
   ]
  },
  {
   "cell_type": "markdown",
   "id": "3b800ade",
   "metadata": {},
   "source": [
    "## 엑스트라트리"
   ]
  },
  {
   "cell_type": "code",
   "execution_count": 59,
   "id": "0cc558ba",
   "metadata": {
    "ExecuteTime": {
     "end_time": "2022-06-02T18:08:42.040234Z",
     "start_time": "2022-06-02T18:08:42.026231Z"
    }
   },
   "outputs": [],
   "source": [
    "from sklearn.ensemble import ExtraTreesRegressor"
   ]
  },
  {
   "cell_type": "code",
   "execution_count": 68,
   "id": "e45efe17",
   "metadata": {
    "ExecuteTime": {
     "end_time": "2022-06-02T18:14:31.790500Z",
     "start_time": "2022-06-02T18:14:31.779196Z"
    }
   },
   "outputs": [],
   "source": [
    "param = {'max_depth' : [2,3,4,5,6,7,8,9,10], 'n_estimators' : [100,150,200,400,600,1000]}\n",
    "grid_et = GridSearchCV(ExtraTreesRegressor(random_state = 42), param, cv = KFold(n_splits = 5, shuffle = True, random_state = 1011), scoring = NMAE, n_jobs = -1)"
   ]
  },
  {
   "cell_type": "code",
   "execution_count": 70,
   "id": "4d3705d5",
   "metadata": {
    "ExecuteTime": {
     "end_time": "2022-06-02T18:15:48.735384Z",
     "start_time": "2022-06-02T18:14:49.207550Z"
    }
   },
   "outputs": [
    {
     "data": {
      "text/plain": [
       "GridSearchCV(cv=KFold(n_splits=5, random_state=1011, shuffle=True),\n",
       "             estimator=ExtraTreesRegressor(random_state=42), n_jobs=-1,\n",
       "             param_grid={'max_depth': [2, 3, 4, 5, 6, 7, 8, 9, 10],\n",
       "                         'n_estimators': [100, 150, 200, 400, 600, 1000]},\n",
       "             scoring=make_scorer(nmae, greater_is_better=False))"
      ]
     },
     "execution_count": 70,
     "metadata": {},
     "output_type": "execute_result"
    }
   ],
   "source": [
    "grid_et.fit(X_train, y_train)"
   ]
  },
  {
   "cell_type": "code",
   "execution_count": 71,
   "id": "859508db",
   "metadata": {
    "ExecuteTime": {
     "end_time": "2022-06-02T18:16:13.748314Z",
     "start_time": "2022-06-02T18:16:13.734426Z"
    }
   },
   "outputs": [],
   "source": [
    "et = ExtraTreesRegressor(random_state = 42, **grid_et.best_params_)"
   ]
  },
  {
   "cell_type": "code",
   "execution_count": 72,
   "id": "c720fb57",
   "metadata": {
    "ExecuteTime": {
     "end_time": "2022-06-02T18:16:26.270061Z",
     "start_time": "2022-06-02T18:16:24.535705Z"
    }
   },
   "outputs": [
    {
     "data": {
      "text/plain": [
       "ExtraTreesRegressor(max_depth=2, n_estimators=1000, random_state=42)"
      ]
     },
     "execution_count": 72,
     "metadata": {},
     "output_type": "execute_result"
    }
   ],
   "source": [
    "et.fit(X_train, y_train)"
   ]
  },
  {
   "cell_type": "code",
   "execution_count": 76,
   "id": "b9386bf2",
   "metadata": {
    "ExecuteTime": {
     "end_time": "2022-06-02T18:17:39.546417Z",
     "start_time": "2022-06-02T18:17:39.486107Z"
    }
   },
   "outputs": [],
   "source": [
    "y_pred = y_scaler.inverse_transform([et.predict(X_test)])\n",
    "y_pred_et = np.expm1(y_pred)"
   ]
  },
  {
   "cell_type": "markdown",
   "id": "913e536c",
   "metadata": {},
   "source": [
    "## 베이지안 릿지"
   ]
  },
  {
   "cell_type": "code",
   "execution_count": 78,
   "id": "bf84c20a",
   "metadata": {
    "ExecuteTime": {
     "end_time": "2022-06-02T18:24:04.580860Z",
     "start_time": "2022-06-02T18:24:04.562434Z"
    }
   },
   "outputs": [],
   "source": [
    "from sklearn.linear_model import BayesianRidge, LinearRegression"
   ]
  },
  {
   "cell_type": "code",
   "execution_count": 81,
   "id": "ff4ed6f5",
   "metadata": {
    "ExecuteTime": {
     "end_time": "2022-06-02T18:24:17.677652Z",
     "start_time": "2022-06-02T18:24:17.669637Z"
    }
   },
   "outputs": [],
   "source": [
    " br = BayesianRidge(alpha_1=1e-06, alpha_2=1e-06, alpha_init=None,\n",
    "               compute_score=False, copy_X=True, fit_intercept=True,\n",
    "               lambda_1=1e-06, lambda_2=1e-06, lambda_init=None, n_iter=300,\n",
    "               normalize=False, tol=0.001, verbose=False)"
   ]
  },
  {
   "cell_type": "code",
   "execution_count": 82,
   "id": "9b97273e",
   "metadata": {
    "ExecuteTime": {
     "end_time": "2022-06-02T18:24:25.073521Z",
     "start_time": "2022-06-02T18:24:25.011179Z"
    }
   },
   "outputs": [
    {
     "data": {
      "text/plain": [
       "BayesianRidge()"
      ]
     },
     "execution_count": 82,
     "metadata": {},
     "output_type": "execute_result"
    }
   ],
   "source": [
    "br.fit(X_train, y_train)"
   ]
  },
  {
   "cell_type": "code",
   "execution_count": 85,
   "id": "25609f85",
   "metadata": {
    "ExecuteTime": {
     "end_time": "2022-06-02T18:25:12.586862Z",
     "start_time": "2022-06-02T18:25:12.578870Z"
    }
   },
   "outputs": [],
   "source": [
    "y_pred = y_scaler.inverse_transform([br.predict(X_test)])\n",
    "y_pred_br = np.expm1(y_pred)"
   ]
  },
  {
   "cell_type": "markdown",
   "id": "4082eaca",
   "metadata": {},
   "source": [
    "## 그라디언트부스팅"
   ]
  },
  {
   "cell_type": "code",
   "execution_count": 86,
   "id": "a988cb19",
   "metadata": {
    "ExecuteTime": {
     "end_time": "2022-06-02T18:26:25.072050Z",
     "start_time": "2022-06-02T18:26:25.065871Z"
    }
   },
   "outputs": [],
   "source": [
    "pbounds = { 'learning_rate': (0.0005, 0.2),\n",
    "            'n_estimators': (16, 512),\n",
    "            'max_depth': (3,10),   \n",
    "            'subsample': (0.5,1), \n",
    "            'min_samples_split': (2,5),   \n",
    "            'min_samples_leaf': (1,5)}\n",
    "\n",
    "def gbm_opt(learning_rate, n_estimators, max_depth, subsample, min_samples_split, min_samples_leaf):\n",
    "\n",
    "    params = {\n",
    "        'learning_rate': learning_rate,\n",
    "        'n_estimators' : int(round(n_estimators)),\n",
    "        'max_depth' : int(round(max_depth)),\n",
    "        'subsample': subsample,\n",
    "        'min_samples_split' : int(round(min_samples_split)),\n",
    "        'min_samples_leaf' : int(round(min_samples_leaf))\n",
    "    }\n",
    "    \n",
    "    gbm = GradientBoostingRegressor(**params)\n",
    "    kf = KFold(n_splits = 4 , shuffle = True, random_state=50)\n",
    "    score = cross_val_score(gbm, X_train, y_train, scoring=NMAE, cv = kf, n_jobs=-1)\n",
    "    return np.mean(score)\n",
    "\n",
    "BO_gbm = BayesianOptimization(f = gbm_opt, pbounds = pbounds, random_state=0)    "
   ]
  },
  {
   "cell_type": "code",
   "execution_count": 87,
   "id": "ca68c4ac",
   "metadata": {
    "ExecuteTime": {
     "end_time": "2022-06-02T18:29:10.454052Z",
     "start_time": "2022-06-02T18:26:30.016762Z"
    }
   },
   "outputs": [
    {
     "name": "stdout",
     "output_type": "stream",
     "text": [
      "|   iter    |  target   | learni... | max_depth | min_sa... | min_sa... | n_esti... | subsample |\n",
      "-------------------------------------------------------------------------------------------------\n",
      "| \u001b[0m 1       \u001b[0m | \u001b[0m-0.4226  \u001b[0m | \u001b[0m 0.11    \u001b[0m | \u001b[0m 8.006   \u001b[0m | \u001b[0m 3.411   \u001b[0m | \u001b[0m 3.635   \u001b[0m | \u001b[0m 226.1   \u001b[0m | \u001b[0m 0.8229  \u001b[0m |\n",
      "| \u001b[0m 2       \u001b[0m | \u001b[0m-0.4252  \u001b[0m | \u001b[0m 0.0878  \u001b[0m | \u001b[0m 9.242   \u001b[0m | \u001b[0m 4.855   \u001b[0m | \u001b[0m 3.15    \u001b[0m | \u001b[0m 408.7   \u001b[0m | \u001b[0m 0.7644  \u001b[0m |\n",
      "| \u001b[95m 3       \u001b[0m | \u001b[95m-0.4104  \u001b[0m | \u001b[95m 0.1138  \u001b[0m | \u001b[95m 9.479   \u001b[0m | \u001b[95m 1.284   \u001b[0m | \u001b[95m 2.261   \u001b[0m | \u001b[95m 26.03   \u001b[0m | \u001b[95m 0.9163  \u001b[0m |\n",
      "| \u001b[0m 4       \u001b[0m | \u001b[0m-0.4247  \u001b[0m | \u001b[0m 0.1557  \u001b[0m | \u001b[0m 9.09    \u001b[0m | \u001b[0m 4.914   \u001b[0m | \u001b[0m 4.397   \u001b[0m | \u001b[0m 244.9   \u001b[0m | \u001b[0m 0.8903  \u001b[0m |\n",
      "| \u001b[0m 5       \u001b[0m | \u001b[0m-0.419   \u001b[0m | \u001b[0m 0.0241  \u001b[0m | \u001b[0m 7.479   \u001b[0m | \u001b[0m 1.573   \u001b[0m | \u001b[0m 4.834   \u001b[0m | \u001b[0m 274.8   \u001b[0m | \u001b[0m 0.7073  \u001b[0m |\n",
      "| \u001b[95m 6       \u001b[0m | \u001b[95m-0.3715  \u001b[0m | \u001b[95m 0.05328 \u001b[0m | \u001b[95m 8.42    \u001b[0m | \u001b[95m 2.825   \u001b[0m | \u001b[95m 3.705   \u001b[0m | \u001b[95m 25.32   \u001b[0m | \u001b[95m 0.8088  \u001b[0m |\n",
      "| \u001b[0m 7       \u001b[0m | \u001b[0m-0.4243  \u001b[0m | \u001b[0m 0.1226  \u001b[0m | \u001b[0m 7.319   \u001b[0m | \u001b[0m 4.775   \u001b[0m | \u001b[0m 4.045   \u001b[0m | \u001b[0m 194.3   \u001b[0m | \u001b[0m 0.7185  \u001b[0m |\n",
      "| \u001b[0m 8       \u001b[0m | \u001b[0m-0.4226  \u001b[0m | \u001b[0m 0.1397  \u001b[0m | \u001b[0m 3.422   \u001b[0m | \u001b[0m 3.667   \u001b[0m | \u001b[0m 4.012   \u001b[0m | \u001b[0m 120.3   \u001b[0m | \u001b[0m 0.5645  \u001b[0m |\n",
      "| \u001b[0m 9       \u001b[0m | \u001b[0m-0.425   \u001b[0m | \u001b[0m 0.06343 \u001b[0m | \u001b[0m 5.546   \u001b[0m | \u001b[0m 3.281   \u001b[0m | \u001b[0m 3.316   \u001b[0m | \u001b[0m 506.2   \u001b[0m | \u001b[0m 0.551   \u001b[0m |\n",
      "| \u001b[0m 10      \u001b[0m | \u001b[0m-0.42    \u001b[0m | \u001b[0m 0.04217 \u001b[0m | \u001b[0m 4.129   \u001b[0m | \u001b[0m 3.612   \u001b[0m | \u001b[0m 2.76    \u001b[0m | \u001b[0m 247.3   \u001b[0m | \u001b[0m 0.6222  \u001b[0m |\n",
      "| \u001b[0m 11      \u001b[0m | \u001b[0m-0.3866  \u001b[0m | \u001b[0m 0.07115 \u001b[0m | \u001b[0m 8.456   \u001b[0m | \u001b[0m 3.598   \u001b[0m | \u001b[0m 3.606   \u001b[0m | \u001b[0m 24.81   \u001b[0m | \u001b[0m 0.6705  \u001b[0m |\n",
      "| \u001b[0m 12      \u001b[0m | \u001b[0m-0.4205  \u001b[0m | \u001b[0m 0.191   \u001b[0m | \u001b[0m 9.66    \u001b[0m | \u001b[0m 2.394   \u001b[0m | \u001b[0m 3.856   \u001b[0m | \u001b[0m 25.01   \u001b[0m | \u001b[0m 0.8541  \u001b[0m |\n",
      "| \u001b[0m 13      \u001b[0m | \u001b[0m-0.4168  \u001b[0m | \u001b[0m 0.1503  \u001b[0m | \u001b[0m 8.656   \u001b[0m | \u001b[0m 2.311   \u001b[0m | \u001b[0m 3.295   \u001b[0m | \u001b[0m 25.38   \u001b[0m | \u001b[0m 0.9481  \u001b[0m |\n",
      "| \u001b[0m 14      \u001b[0m | \u001b[0m-0.4191  \u001b[0m | \u001b[0m 0.1826  \u001b[0m | \u001b[0m 9.326   \u001b[0m | \u001b[0m 3.42    \u001b[0m | \u001b[0m 3.769   \u001b[0m | \u001b[0m 25.94   \u001b[0m | \u001b[0m 0.5103  \u001b[0m |\n",
      "| \u001b[0m 15      \u001b[0m | \u001b[0m-0.4168  \u001b[0m | \u001b[0m 0.03347 \u001b[0m | \u001b[0m 4.329   \u001b[0m | \u001b[0m 2.857   \u001b[0m | \u001b[0m 4.687   \u001b[0m | \u001b[0m 249.0   \u001b[0m | \u001b[0m 0.5954  \u001b[0m |\n",
      "| \u001b[0m 16      \u001b[0m | \u001b[0m-0.4112  \u001b[0m | \u001b[0m 0.1233  \u001b[0m | \u001b[0m 8.674   \u001b[0m | \u001b[0m 3.559   \u001b[0m | \u001b[0m 3.54    \u001b[0m | \u001b[0m 25.6    \u001b[0m | \u001b[0m 0.6081  \u001b[0m |\n",
      "| \u001b[0m 17      \u001b[0m | \u001b[0m-0.422   \u001b[0m | \u001b[0m 0.1315  \u001b[0m | \u001b[0m 3.921   \u001b[0m | \u001b[0m 3.546   \u001b[0m | \u001b[0m 4.337   \u001b[0m | \u001b[0m 141.2   \u001b[0m | \u001b[0m 0.6211  \u001b[0m |\n",
      "| \u001b[0m 18      \u001b[0m | \u001b[0m-0.4274  \u001b[0m | \u001b[0m 0.1578  \u001b[0m | \u001b[0m 9.491   \u001b[0m | \u001b[0m 4.964   \u001b[0m | \u001b[0m 4.411   \u001b[0m | \u001b[0m 381.6   \u001b[0m | \u001b[0m 0.5565  \u001b[0m |\n",
      "| \u001b[0m 19      \u001b[0m | \u001b[0m-0.4156  \u001b[0m | \u001b[0m 0.1535  \u001b[0m | \u001b[0m 8.03    \u001b[0m | \u001b[0m 3.383   \u001b[0m | \u001b[0m 3.356   \u001b[0m | \u001b[0m 24.36   \u001b[0m | \u001b[0m 0.6774  \u001b[0m |\n",
      "| \u001b[0m 20      \u001b[0m | \u001b[0m-0.4157  \u001b[0m | \u001b[0m 0.04926 \u001b[0m | \u001b[0m 5.221   \u001b[0m | \u001b[0m 1.708   \u001b[0m | \u001b[0m 4.69    \u001b[0m | \u001b[0m 115.8   \u001b[0m | \u001b[0m 0.7708  \u001b[0m |\n",
      "| \u001b[0m 21      \u001b[0m | \u001b[0m-0.3756  \u001b[0m | \u001b[0m 0.07084 \u001b[0m | \u001b[0m 4.775   \u001b[0m | \u001b[0m 3.37    \u001b[0m | \u001b[0m 2.289   \u001b[0m | \u001b[0m 22.22   \u001b[0m | \u001b[0m 0.631   \u001b[0m |\n",
      "| \u001b[0m 22      \u001b[0m | \u001b[0m-0.4214  \u001b[0m | \u001b[0m 0.02783 \u001b[0m | \u001b[0m 4.824   \u001b[0m | \u001b[0m 1.904   \u001b[0m | \u001b[0m 2.388   \u001b[0m | \u001b[0m 499.6   \u001b[0m | \u001b[0m 0.7801  \u001b[0m |\n",
      "| \u001b[0m 23      \u001b[0m | \u001b[0m-0.4236  \u001b[0m | \u001b[0m 0.1853  \u001b[0m | \u001b[0m 6.743   \u001b[0m | \u001b[0m 2.394   \u001b[0m | \u001b[0m 3.676   \u001b[0m | \u001b[0m 150.5   \u001b[0m | \u001b[0m 0.9328  \u001b[0m |\n",
      "| \u001b[95m 24      \u001b[0m | \u001b[95m-0.3366  \u001b[0m | \u001b[95m 0.0262  \u001b[0m | \u001b[95m 8.41    \u001b[0m | \u001b[95m 2.943   \u001b[0m | \u001b[95m 3.516   \u001b[0m | \u001b[95m 24.58   \u001b[0m | \u001b[95m 0.894   \u001b[0m |\n",
      "| \u001b[0m 25      \u001b[0m | \u001b[0m-0.4202  \u001b[0m | \u001b[0m 0.06449 \u001b[0m | \u001b[0m 3.299   \u001b[0m | \u001b[0m 4.475   \u001b[0m | \u001b[0m 3.165   \u001b[0m | \u001b[0m 245.7   \u001b[0m | \u001b[0m 0.6738  \u001b[0m |\n",
      "| \u001b[95m 26      \u001b[0m | \u001b[95m-0.3155  \u001b[0m | \u001b[95m 0.01237 \u001b[0m | \u001b[95m 4.627   \u001b[0m | \u001b[95m 3.557   \u001b[0m | \u001b[95m 2.965   \u001b[0m | \u001b[95m 22.67   \u001b[0m | \u001b[95m 0.5081  \u001b[0m |\n",
      "| \u001b[0m 27      \u001b[0m | \u001b[0m-0.4147  \u001b[0m | \u001b[0m 0.1418  \u001b[0m | \u001b[0m 8.931   \u001b[0m | \u001b[0m 3.196   \u001b[0m | \u001b[0m 3.732   \u001b[0m | \u001b[0m 24.76   \u001b[0m | \u001b[0m 0.552   \u001b[0m |\n",
      "| \u001b[0m 28      \u001b[0m | \u001b[0m-0.4225  \u001b[0m | \u001b[0m 0.1946  \u001b[0m | \u001b[0m 7.845   \u001b[0m | \u001b[0m 2.694   \u001b[0m | \u001b[0m 2.267   \u001b[0m | \u001b[0m 53.48   \u001b[0m | \u001b[0m 0.6782  \u001b[0m |\n",
      "| \u001b[0m 29      \u001b[0m | \u001b[0m-0.4238  \u001b[0m | \u001b[0m 0.1051  \u001b[0m | \u001b[0m 9.536   \u001b[0m | \u001b[0m 1.799   \u001b[0m | \u001b[0m 2.7     \u001b[0m | \u001b[0m 452.7   \u001b[0m | \u001b[0m 0.7464  \u001b[0m |\n",
      "| \u001b[0m 30      \u001b[0m | \u001b[0m-0.425   \u001b[0m | \u001b[0m 0.1297  \u001b[0m | \u001b[0m 6.039   \u001b[0m | \u001b[0m 2.584   \u001b[0m | \u001b[0m 2.848   \u001b[0m | \u001b[0m 401.9   \u001b[0m | \u001b[0m 0.6838  \u001b[0m |\n",
      "| \u001b[0m 31      \u001b[0m | \u001b[0m-0.4184  \u001b[0m | \u001b[0m 0.0197  \u001b[0m | \u001b[0m 8.397   \u001b[0m | \u001b[0m 2.873   \u001b[0m | \u001b[0m 3.509   \u001b[0m | \u001b[0m 299.9   \u001b[0m | \u001b[0m 0.5173  \u001b[0m |\n",
      "| \u001b[0m 32      \u001b[0m | \u001b[0m-0.4099  \u001b[0m | \u001b[0m 0.1758  \u001b[0m | \u001b[0m 3.917   \u001b[0m | \u001b[0m 3.266   \u001b[0m | \u001b[0m 2.808   \u001b[0m | \u001b[0m 22.5    \u001b[0m | \u001b[0m 0.5838  \u001b[0m |\n",
      "| \u001b[95m 33      \u001b[0m | \u001b[95m-0.3096  \u001b[0m | \u001b[95m 0.000825\u001b[0m | \u001b[95m 8.086   \u001b[0m | \u001b[95m 3.76    \u001b[0m | \u001b[95m 4.818   \u001b[0m | \u001b[95m 19.55   \u001b[0m | \u001b[95m 0.864   \u001b[0m |\n",
      "| \u001b[0m 34      \u001b[0m | \u001b[0m-0.4249  \u001b[0m | \u001b[0m 0.1218  \u001b[0m | \u001b[0m 4.34    \u001b[0m | \u001b[0m 4.165   \u001b[0m | \u001b[0m 4.727   \u001b[0m | \u001b[0m 238.3   \u001b[0m | \u001b[0m 0.8186  \u001b[0m |\n",
      "| \u001b[0m 35      \u001b[0m | \u001b[0m-0.3277  \u001b[0m | \u001b[0m 0.02426 \u001b[0m | \u001b[0m 4.457   \u001b[0m | \u001b[0m 3.276   \u001b[0m | \u001b[0m 3.14    \u001b[0m | \u001b[0m 22.81   \u001b[0m | \u001b[0m 0.5425  \u001b[0m |\n",
      "| \u001b[0m 36      \u001b[0m | \u001b[0m-0.4225  \u001b[0m | \u001b[0m 0.1893  \u001b[0m | \u001b[0m 4.076   \u001b[0m | \u001b[0m 2.774   \u001b[0m | \u001b[0m 4.31    \u001b[0m | \u001b[0m 72.72   \u001b[0m | \u001b[0m 0.7616  \u001b[0m |\n",
      "| \u001b[0m 37      \u001b[0m | \u001b[0m-0.4169  \u001b[0m | \u001b[0m 0.1243  \u001b[0m | \u001b[0m 4.606   \u001b[0m | \u001b[0m 4.172   \u001b[0m | \u001b[0m 2.779   \u001b[0m | \u001b[0m 44.4    \u001b[0m | \u001b[0m 0.6811  \u001b[0m |\n",
      "| \u001b[0m 38      \u001b[0m | \u001b[0m-0.4225  \u001b[0m | \u001b[0m 0.08706 \u001b[0m | \u001b[0m 9.14    \u001b[0m | \u001b[0m 1.71    \u001b[0m | \u001b[0m 3.199   \u001b[0m | \u001b[0m 218.9   \u001b[0m | \u001b[0m 0.8423  \u001b[0m |\n",
      "| \u001b[0m 39      \u001b[0m | \u001b[0m-0.3935  \u001b[0m | \u001b[0m 0.09819 \u001b[0m | \u001b[0m 4.646   \u001b[0m | \u001b[0m 3.253   \u001b[0m | \u001b[0m 2.989   \u001b[0m | \u001b[0m 22.89   \u001b[0m | \u001b[0m 0.7516  \u001b[0m |\n",
      "| \u001b[0m 40      \u001b[0m | \u001b[0m-0.4117  \u001b[0m | \u001b[0m 0.1718  \u001b[0m | \u001b[0m 4.89    \u001b[0m | \u001b[0m 3.255   \u001b[0m | \u001b[0m 3.494   \u001b[0m | \u001b[0m 22.63   \u001b[0m | \u001b[0m 0.643   \u001b[0m |\n",
      "| \u001b[0m 41      \u001b[0m | \u001b[0m-0.4193  \u001b[0m | \u001b[0m 0.1616  \u001b[0m | \u001b[0m 8.177   \u001b[0m | \u001b[0m 1.622   \u001b[0m | \u001b[0m 2.419   \u001b[0m | \u001b[0m 30.22   \u001b[0m | \u001b[0m 0.8858  \u001b[0m |\n",
      "| \u001b[0m 42      \u001b[0m | \u001b[0m-0.4     \u001b[0m | \u001b[0m 0.1336  \u001b[0m | \u001b[0m 4.28    \u001b[0m | \u001b[0m 3.592   \u001b[0m | \u001b[0m 2.278   \u001b[0m | \u001b[0m 22.09   \u001b[0m | \u001b[0m 0.7648  \u001b[0m |\n",
      "| \u001b[0m 43      \u001b[0m | \u001b[0m-0.334   \u001b[0m | \u001b[0m 0.03094 \u001b[0m | \u001b[0m 7.916   \u001b[0m | \u001b[0m 3.892   \u001b[0m | \u001b[0m 4.58    \u001b[0m | \u001b[0m 20.17   \u001b[0m | \u001b[0m 0.7396  \u001b[0m |\n",
      "| \u001b[0m 44      \u001b[0m | \u001b[0m-0.4275  \u001b[0m | \u001b[0m 0.1771  \u001b[0m | \u001b[0m 9.285   \u001b[0m | \u001b[0m 2.347   \u001b[0m | \u001b[0m 4.719   \u001b[0m | \u001b[0m 310.5   \u001b[0m | \u001b[0m 0.5062  \u001b[0m |\n",
      "| \u001b[0m 45      \u001b[0m | \u001b[0m-0.4246  \u001b[0m | \u001b[0m 0.09354 \u001b[0m | \u001b[0m 3.473   \u001b[0m | \u001b[0m 1.663   \u001b[0m | \u001b[0m 4.413   \u001b[0m | \u001b[0m 315.7   \u001b[0m | \u001b[0m 0.6133  \u001b[0m |\n",
      "| \u001b[0m 46      \u001b[0m | \u001b[0m-0.3887  \u001b[0m | \u001b[0m 0.09172 \u001b[0m | \u001b[0m 8.272   \u001b[0m | \u001b[0m 3.32    \u001b[0m | \u001b[0m 4.534   \u001b[0m | \u001b[0m 19.54   \u001b[0m | \u001b[0m 0.5321  \u001b[0m |\n",
      "| \u001b[0m 47      \u001b[0m | \u001b[0m-0.4178  \u001b[0m | \u001b[0m 0.1607  \u001b[0m | \u001b[0m 8.439   \u001b[0m | \u001b[0m 4.239   \u001b[0m | \u001b[0m 3.735   \u001b[0m | \u001b[0m 34.86   \u001b[0m | \u001b[0m 0.9714  \u001b[0m |\n",
      "| \u001b[0m 48      \u001b[0m | \u001b[0m-0.4257  \u001b[0m | \u001b[0m 0.1509  \u001b[0m | \u001b[0m 6.203   \u001b[0m | \u001b[0m 4.283   \u001b[0m | \u001b[0m 2.931   \u001b[0m | \u001b[0m 229.0   \u001b[0m | \u001b[0m 0.723   \u001b[0m |\n",
      "| \u001b[0m 49      \u001b[0m | \u001b[0m-0.4267  \u001b[0m | \u001b[0m 0.1467  \u001b[0m | \u001b[0m 5.139   \u001b[0m | \u001b[0m 3.196   \u001b[0m | \u001b[0m 2.909   \u001b[0m | \u001b[0m 323.7   \u001b[0m | \u001b[0m 0.521   \u001b[0m |\n",
      "| \u001b[0m 50      \u001b[0m | \u001b[0m-0.3714  \u001b[0m | \u001b[0m 0.06289 \u001b[0m | \u001b[0m 4.54    \u001b[0m | \u001b[0m 3.632   \u001b[0m | \u001b[0m 3.274   \u001b[0m | \u001b[0m 22.82   \u001b[0m | \u001b[0m 0.5105  \u001b[0m |\n"
     ]
    },
    {
     "name": "stdout",
     "output_type": "stream",
     "text": [
      "| \u001b[0m 51      \u001b[0m | \u001b[0m-0.3969  \u001b[0m | \u001b[0m 0.1226  \u001b[0m | \u001b[0m 4.429   \u001b[0m | \u001b[0m 4.304   \u001b[0m | \u001b[0m 2.922   \u001b[0m | \u001b[0m 22.48   \u001b[0m | \u001b[0m 0.7288  \u001b[0m |\n",
      "| \u001b[0m 52      \u001b[0m | \u001b[0m-0.3849  \u001b[0m | \u001b[0m 0.08172 \u001b[0m | \u001b[0m 7.716   \u001b[0m | \u001b[0m 4.014   \u001b[0m | \u001b[0m 4.193   \u001b[0m | \u001b[0m 20.57   \u001b[0m | \u001b[0m 0.5701  \u001b[0m |\n",
      "| \u001b[0m 53      \u001b[0m | \u001b[0m-0.4092  \u001b[0m | \u001b[0m 0.1516  \u001b[0m | \u001b[0m 7.867   \u001b[0m | \u001b[0m 3.593   \u001b[0m | \u001b[0m 4.525   \u001b[0m | \u001b[0m 19.4    \u001b[0m | \u001b[0m 0.8858  \u001b[0m |\n",
      "| \u001b[0m 54      \u001b[0m | \u001b[0m-0.4169  \u001b[0m | \u001b[0m 0.01301 \u001b[0m | \u001b[0m 6.911   \u001b[0m | \u001b[0m 1.494   \u001b[0m | \u001b[0m 4.334   \u001b[0m | \u001b[0m 424.9   \u001b[0m | \u001b[0m 0.8195  \u001b[0m |\n",
      "| \u001b[0m 55      \u001b[0m | \u001b[0m-0.4228  \u001b[0m | \u001b[0m 0.09413 \u001b[0m | \u001b[0m 3.645   \u001b[0m | \u001b[0m 2.767   \u001b[0m | \u001b[0m 4.872   \u001b[0m | \u001b[0m 276.8   \u001b[0m | \u001b[0m 0.7509  \u001b[0m |\n",
      "| \u001b[0m 56      \u001b[0m | \u001b[0m-0.3616  \u001b[0m | \u001b[0m 0.05492 \u001b[0m | \u001b[0m 4.706   \u001b[0m | \u001b[0m 3.034   \u001b[0m | \u001b[0m 2.458   \u001b[0m | \u001b[0m 22.12   \u001b[0m | \u001b[0m 0.8164  \u001b[0m |\n",
      "| \u001b[0m 57      \u001b[0m | \u001b[0m-0.4243  \u001b[0m | \u001b[0m 0.09049 \u001b[0m | \u001b[0m 8.35    \u001b[0m | \u001b[0m 4.667   \u001b[0m | \u001b[0m 3.855   \u001b[0m | \u001b[0m 252.6   \u001b[0m | \u001b[0m 0.6121  \u001b[0m |\n",
      "| \u001b[0m 58      \u001b[0m | \u001b[0m-0.4256  \u001b[0m | \u001b[0m 0.06054 \u001b[0m | \u001b[0m 8.092   \u001b[0m | \u001b[0m 4.586   \u001b[0m | \u001b[0m 2.942   \u001b[0m | \u001b[0m 370.0   \u001b[0m | \u001b[0m 0.6423  \u001b[0m |\n",
      "| \u001b[0m 59      \u001b[0m | \u001b[0m-0.3334  \u001b[0m | \u001b[0m 0.02945 \u001b[0m | \u001b[0m 4.782   \u001b[0m | \u001b[0m 2.911   \u001b[0m | \u001b[0m 2.521   \u001b[0m | \u001b[0m 22.09   \u001b[0m | \u001b[0m 0.7085  \u001b[0m |\n",
      "| \u001b[0m 60      \u001b[0m | \u001b[0m-0.4241  \u001b[0m | \u001b[0m 0.09861 \u001b[0m | \u001b[0m 9.048   \u001b[0m | \u001b[0m 2.786   \u001b[0m | \u001b[0m 3.764   \u001b[0m | \u001b[0m 322.2   \u001b[0m | \u001b[0m 0.8459  \u001b[0m |\n",
      "| \u001b[0m 61      \u001b[0m | \u001b[0m-0.4265  \u001b[0m | \u001b[0m 0.1559  \u001b[0m | \u001b[0m 5.756   \u001b[0m | \u001b[0m 4.242   \u001b[0m | \u001b[0m 3.623   \u001b[0m | \u001b[0m 402.1   \u001b[0m | \u001b[0m 0.6235  \u001b[0m |\n",
      "| \u001b[0m 62      \u001b[0m | \u001b[0m-0.4213  \u001b[0m | \u001b[0m 0.04106 \u001b[0m | \u001b[0m 3.486   \u001b[0m | \u001b[0m 4.987   \u001b[0m | \u001b[0m 2.342   \u001b[0m | \u001b[0m 501.0   \u001b[0m | \u001b[0m 0.9252  \u001b[0m |\n",
      "| \u001b[0m 63      \u001b[0m | \u001b[0m-0.3147  \u001b[0m | \u001b[0m 0.01254 \u001b[0m | \u001b[0m 8.2     \u001b[0m | \u001b[0m 3.478   \u001b[0m | \u001b[0m 4.32    \u001b[0m | \u001b[0m 19.95   \u001b[0m | \u001b[0m 0.6516  \u001b[0m |\n",
      "| \u001b[0m 64      \u001b[0m | \u001b[0m-0.3233  \u001b[0m | \u001b[0m 0.0202  \u001b[0m | \u001b[0m 8.227   \u001b[0m | \u001b[0m 3.729   \u001b[0m | \u001b[0m 4.268   \u001b[0m | \u001b[0m 20.91   \u001b[0m | \u001b[0m 0.9071  \u001b[0m |\n",
      "| \u001b[0m 65      \u001b[0m | \u001b[0m-0.4151  \u001b[0m | \u001b[0m 0.1952  \u001b[0m | \u001b[0m 7.737   \u001b[0m | \u001b[0m 4.188   \u001b[0m | \u001b[0m 4.531   \u001b[0m | \u001b[0m 20.25   \u001b[0m | \u001b[0m 0.5187  \u001b[0m |\n",
      "| \u001b[0m 66      \u001b[0m | \u001b[0m-0.42    \u001b[0m | \u001b[0m 0.1337  \u001b[0m | \u001b[0m 4.882   \u001b[0m | \u001b[0m 2.104   \u001b[0m | \u001b[0m 3.273   \u001b[0m | \u001b[0m 58.87   \u001b[0m | \u001b[0m 0.5266  \u001b[0m |\n",
      "| \u001b[0m 67      \u001b[0m | \u001b[0m-0.3291  \u001b[0m | \u001b[0m 0.02436 \u001b[0m | \u001b[0m 4.624   \u001b[0m | \u001b[0m 2.744   \u001b[0m | \u001b[0m 2.322   \u001b[0m | \u001b[0m 22.74   \u001b[0m | \u001b[0m 0.7626  \u001b[0m |\n",
      "| \u001b[0m 68      \u001b[0m | \u001b[0m-0.3782  \u001b[0m | \u001b[0m 0.07316 \u001b[0m | \u001b[0m 7.936   \u001b[0m | \u001b[0m 3.961   \u001b[0m | \u001b[0m 4.019   \u001b[0m | \u001b[0m 19.71   \u001b[0m | \u001b[0m 0.9577  \u001b[0m |\n",
      "| \u001b[0m 69      \u001b[0m | \u001b[0m-0.424   \u001b[0m | \u001b[0m 0.1222  \u001b[0m | \u001b[0m 5.137   \u001b[0m | \u001b[0m 3.719   \u001b[0m | \u001b[0m 2.165   \u001b[0m | \u001b[0m 298.2   \u001b[0m | \u001b[0m 0.6406  \u001b[0m |\n",
      "| \u001b[0m 70      \u001b[0m | \u001b[0m-0.4164  \u001b[0m | \u001b[0m 0.06942 \u001b[0m | \u001b[0m 6.856   \u001b[0m | \u001b[0m 4.145   \u001b[0m | \u001b[0m 2.399   \u001b[0m | \u001b[0m 65.82   \u001b[0m | \u001b[0m 0.6592  \u001b[0m |\n",
      "| \u001b[0m 71      \u001b[0m | \u001b[0m-0.4116  \u001b[0m | \u001b[0m 0.03226 \u001b[0m | \u001b[0m 4.76    \u001b[0m | \u001b[0m 3.778   \u001b[0m | \u001b[0m 3.664   \u001b[0m | \u001b[0m 137.0   \u001b[0m | \u001b[0m 0.6725  \u001b[0m |\n",
      "| \u001b[0m 72      \u001b[0m | \u001b[0m-0.404   \u001b[0m | \u001b[0m 0.1503  \u001b[0m | \u001b[0m 4.046   \u001b[0m | \u001b[0m 2.888   \u001b[0m | \u001b[0m 3.185   \u001b[0m | \u001b[0m 22.52   \u001b[0m | \u001b[0m 0.534   \u001b[0m |\n",
      "| \u001b[0m 73      \u001b[0m | \u001b[0m-0.3738  \u001b[0m | \u001b[0m 0.06352 \u001b[0m | \u001b[0m 9.964   \u001b[0m | \u001b[0m 2.884   \u001b[0m | \u001b[0m 2.032   \u001b[0m | \u001b[0m 20.61   \u001b[0m | \u001b[0m 0.8752  \u001b[0m |\n",
      "| \u001b[0m 74      \u001b[0m | \u001b[0m-0.3096  \u001b[0m | \u001b[0m 0.0005  \u001b[0m | \u001b[0m 8.319   \u001b[0m | \u001b[0m 2.909   \u001b[0m | \u001b[0m 3.621   \u001b[0m | \u001b[0m 24.83   \u001b[0m | \u001b[0m 0.9699  \u001b[0m |\n",
      "| \u001b[0m 75      \u001b[0m | \u001b[0m-0.4142  \u001b[0m | \u001b[0m 0.1675  \u001b[0m | \u001b[0m 8.514   \u001b[0m | \u001b[0m 3.293   \u001b[0m | \u001b[0m 3.275   \u001b[0m | \u001b[0m 20.33   \u001b[0m | \u001b[0m 0.9689  \u001b[0m |\n",
      "| \u001b[0m 76      \u001b[0m | \u001b[0m-0.4053  \u001b[0m | \u001b[0m 0.1282  \u001b[0m | \u001b[0m 8.174   \u001b[0m | \u001b[0m 2.918   \u001b[0m | \u001b[0m 3.883   \u001b[0m | \u001b[0m 19.89   \u001b[0m | \u001b[0m 0.5499  \u001b[0m |\n",
      "| \u001b[0m 77      \u001b[0m | \u001b[0m-0.4231  \u001b[0m | \u001b[0m 0.09267 \u001b[0m | \u001b[0m 8.523   \u001b[0m | \u001b[0m 3.327   \u001b[0m | \u001b[0m 2.328   \u001b[0m | \u001b[0m 504.5   \u001b[0m | \u001b[0m 0.9128  \u001b[0m |\n",
      "| \u001b[0m 78      \u001b[0m | \u001b[0m-0.376   \u001b[0m | \u001b[0m 0.07166 \u001b[0m | \u001b[0m 4.599   \u001b[0m | \u001b[0m 3.05    \u001b[0m | \u001b[0m 2.811   \u001b[0m | \u001b[0m 21.99   \u001b[0m | \u001b[0m 0.7142  \u001b[0m |\n",
      "| \u001b[0m 79      \u001b[0m | \u001b[0m-0.422   \u001b[0m | \u001b[0m 0.1147  \u001b[0m | \u001b[0m 5.126   \u001b[0m | \u001b[0m 4.404   \u001b[0m | \u001b[0m 4.643   \u001b[0m | \u001b[0m 125.4   \u001b[0m | \u001b[0m 0.9325  \u001b[0m |\n",
      "| \u001b[0m 80      \u001b[0m | \u001b[0m-0.3128  \u001b[0m | \u001b[0m 0.009898\u001b[0m | \u001b[0m 7.933   \u001b[0m | \u001b[0m 3.356   \u001b[0m | \u001b[0m 4.701   \u001b[0m | \u001b[0m 19.98   \u001b[0m | \u001b[0m 0.542   \u001b[0m |\n",
      "| \u001b[0m 81      \u001b[0m | \u001b[0m-0.4254  \u001b[0m | \u001b[0m 0.1454  \u001b[0m | \u001b[0m 3.864   \u001b[0m | \u001b[0m 4.651   \u001b[0m | \u001b[0m 3.381   \u001b[0m | \u001b[0m 156.3   \u001b[0m | \u001b[0m 0.5566  \u001b[0m |\n",
      "| \u001b[0m 82      \u001b[0m | \u001b[0m-0.3918  \u001b[0m | \u001b[0m 0.01057 \u001b[0m | \u001b[0m 5.776   \u001b[0m | \u001b[0m 1.66    \u001b[0m | \u001b[0m 3.676   \u001b[0m | \u001b[0m 202.1   \u001b[0m | \u001b[0m 0.9685  \u001b[0m |\n",
      "| \u001b[0m 83      \u001b[0m | \u001b[0m-0.3175  \u001b[0m | \u001b[0m 0.01593 \u001b[0m | \u001b[0m 7.355   \u001b[0m | \u001b[0m 3.482   \u001b[0m | \u001b[0m 4.917   \u001b[0m | \u001b[0m 19.9    \u001b[0m | \u001b[0m 0.7541  \u001b[0m |\n",
      "| \u001b[0m 84      \u001b[0m | \u001b[0m-0.4175  \u001b[0m | \u001b[0m 0.1807  \u001b[0m | \u001b[0m 8.297   \u001b[0m | \u001b[0m 3.791   \u001b[0m | \u001b[0m 4.923   \u001b[0m | \u001b[0m 20.36   \u001b[0m | \u001b[0m 0.5972  \u001b[0m |\n",
      "| \u001b[0m 85      \u001b[0m | \u001b[0m-0.4158  \u001b[0m | \u001b[0m 0.0389  \u001b[0m | \u001b[0m 3.685   \u001b[0m | \u001b[0m 1.684   \u001b[0m | \u001b[0m 3.716   \u001b[0m | \u001b[0m 214.0   \u001b[0m | \u001b[0m 0.8974  \u001b[0m |\n",
      "| \u001b[0m 86      \u001b[0m | \u001b[0m-0.4249  \u001b[0m | \u001b[0m 0.1472  \u001b[0m | \u001b[0m 3.569   \u001b[0m | \u001b[0m 2.039   \u001b[0m | \u001b[0m 3.762   \u001b[0m | \u001b[0m 265.7   \u001b[0m | \u001b[0m 0.9784  \u001b[0m |\n",
      "| \u001b[0m 87      \u001b[0m | \u001b[0m-0.4244  \u001b[0m | \u001b[0m 0.1297  \u001b[0m | \u001b[0m 9.259   \u001b[0m | \u001b[0m 4.871   \u001b[0m | \u001b[0m 3.497   \u001b[0m | \u001b[0m 186.5   \u001b[0m | \u001b[0m 0.875   \u001b[0m |\n",
      "| \u001b[0m 88      \u001b[0m | \u001b[0m-0.4239  \u001b[0m | \u001b[0m 0.06748 \u001b[0m | \u001b[0m 7.941   \u001b[0m | \u001b[0m 2.014   \u001b[0m | \u001b[0m 2.531   \u001b[0m | \u001b[0m 323.9   \u001b[0m | \u001b[0m 0.7272  \u001b[0m |\n",
      "| \u001b[0m 89      \u001b[0m | \u001b[0m-0.3928  \u001b[0m | \u001b[0m 0.09682 \u001b[0m | \u001b[0m 8.059   \u001b[0m | \u001b[0m 3.27    \u001b[0m | \u001b[0m 4.221   \u001b[0m | \u001b[0m 20.46   \u001b[0m | \u001b[0m 0.759   \u001b[0m |\n",
      "| \u001b[0m 90      \u001b[0m | \u001b[0m-0.423   \u001b[0m | \u001b[0m 0.09083 \u001b[0m | \u001b[0m 7.632   \u001b[0m | \u001b[0m 3.388   \u001b[0m | \u001b[0m 4.381   \u001b[0m | \u001b[0m 362.6   \u001b[0m | \u001b[0m 0.8316  \u001b[0m |\n",
      "| \u001b[0m 91      \u001b[0m | \u001b[0m-0.3686  \u001b[0m | \u001b[0m 0.0646  \u001b[0m | \u001b[0m 4.379   \u001b[0m | \u001b[0m 3.129   \u001b[0m | \u001b[0m 2.314   \u001b[0m | \u001b[0m 22.6    \u001b[0m | \u001b[0m 0.6268  \u001b[0m |\n",
      "| \u001b[0m 92      \u001b[0m | \u001b[0m-0.3681  \u001b[0m | \u001b[0m 0.06036 \u001b[0m | \u001b[0m 8.505   \u001b[0m | \u001b[0m 3.658   \u001b[0m | \u001b[0m 4.334   \u001b[0m | \u001b[0m 20.35   \u001b[0m | \u001b[0m 0.9607  \u001b[0m |\n",
      "| \u001b[0m 93      \u001b[0m | \u001b[0m-0.409   \u001b[0m | \u001b[0m 0.1434  \u001b[0m | \u001b[0m 7.844   \u001b[0m | \u001b[0m 3.658   \u001b[0m | \u001b[0m 4.836   \u001b[0m | \u001b[0m 20.2    \u001b[0m | \u001b[0m 0.8743  \u001b[0m |\n",
      "| \u001b[0m 94      \u001b[0m | \u001b[0m-0.4239  \u001b[0m | \u001b[0m 0.08672 \u001b[0m | \u001b[0m 3.683   \u001b[0m | \u001b[0m 1.658   \u001b[0m | \u001b[0m 4.59    \u001b[0m | \u001b[0m 236.5   \u001b[0m | \u001b[0m 0.6109  \u001b[0m |\n",
      "| \u001b[0m 95      \u001b[0m | \u001b[0m-0.4027  \u001b[0m | \u001b[0m 0.119   \u001b[0m | \u001b[0m 7.447   \u001b[0m | \u001b[0m 3.539   \u001b[0m | \u001b[0m 4.484   \u001b[0m | \u001b[0m 21.15   \u001b[0m | \u001b[0m 0.5733  \u001b[0m |\n",
      "| \u001b[0m 96      \u001b[0m | \u001b[0m-0.4013  \u001b[0m | \u001b[0m 0.116   \u001b[0m | \u001b[0m 8.152   \u001b[0m | \u001b[0m 4.344   \u001b[0m | \u001b[0m 4.68    \u001b[0m | \u001b[0m 20.0    \u001b[0m | \u001b[0m 0.93    \u001b[0m |\n",
      "| \u001b[0m 97      \u001b[0m | \u001b[0m-0.395   \u001b[0m | \u001b[0m 0.08396 \u001b[0m | \u001b[0m 8.2     \u001b[0m | \u001b[0m 3.039   \u001b[0m | \u001b[0m 3.66    \u001b[0m | \u001b[0m 24.86   \u001b[0m | \u001b[0m 0.6784  \u001b[0m |\n",
      "| \u001b[0m 98      \u001b[0m | \u001b[0m-0.4262  \u001b[0m | \u001b[0m 0.1449  \u001b[0m | \u001b[0m 5.657   \u001b[0m | \u001b[0m 2.388   \u001b[0m | \u001b[0m 2.53    \u001b[0m | \u001b[0m 509.7   \u001b[0m | \u001b[0m 0.8781  \u001b[0m |\n",
      "| \u001b[0m 99      \u001b[0m | \u001b[0m-0.3931  \u001b[0m | \u001b[0m 0.1101  \u001b[0m | \u001b[0m 4.241   \u001b[0m | \u001b[0m 2.811   \u001b[0m | \u001b[0m 2.058   \u001b[0m | \u001b[0m 22.85   \u001b[0m | \u001b[0m 0.6456  \u001b[0m |\n",
      "| \u001b[0m 100     \u001b[0m | \u001b[0m-0.4261  \u001b[0m | \u001b[0m 0.1783  \u001b[0m | \u001b[0m 4.929   \u001b[0m | \u001b[0m 1.671   \u001b[0m | \u001b[0m 2.472   \u001b[0m | \u001b[0m 429.6   \u001b[0m | \u001b[0m 0.8386  \u001b[0m |\n",
      "| \u001b[0m 101     \u001b[0m | \u001b[0m-0.425   \u001b[0m | \u001b[0m 0.1575  \u001b[0m | \u001b[0m 7.043   \u001b[0m | \u001b[0m 1.925   \u001b[0m | \u001b[0m 2.256   \u001b[0m | \u001b[0m 393.5   \u001b[0m | \u001b[0m 0.5709  \u001b[0m |\n"
     ]
    },
    {
     "name": "stdout",
     "output_type": "stream",
     "text": [
      "| \u001b[0m 102     \u001b[0m | \u001b[0m-0.4249  \u001b[0m | \u001b[0m 0.1851  \u001b[0m | \u001b[0m 8.591   \u001b[0m | \u001b[0m 1.661   \u001b[0m | \u001b[0m 3.514   \u001b[0m | \u001b[0m 214.3   \u001b[0m | \u001b[0m 0.8894  \u001b[0m |\n",
      "| \u001b[0m 103     \u001b[0m | \u001b[0m-0.3175  \u001b[0m | \u001b[0m 0.01259 \u001b[0m | \u001b[0m 8.273   \u001b[0m | \u001b[0m 3.124   \u001b[0m | \u001b[0m 3.463   \u001b[0m | \u001b[0m 24.67   \u001b[0m | \u001b[0m 0.7751  \u001b[0m |\n",
      "| \u001b[0m 104     \u001b[0m | \u001b[0m-0.4249  \u001b[0m | \u001b[0m 0.09092 \u001b[0m | \u001b[0m 4.835   \u001b[0m | \u001b[0m 1.41    \u001b[0m | \u001b[0m 3.299   \u001b[0m | \u001b[0m 460.2   \u001b[0m | \u001b[0m 0.721   \u001b[0m |\n",
      "| \u001b[0m 105     \u001b[0m | \u001b[0m-0.4242  \u001b[0m | \u001b[0m 0.09987 \u001b[0m | \u001b[0m 8.889   \u001b[0m | \u001b[0m 3.246   \u001b[0m | \u001b[0m 3.033   \u001b[0m | \u001b[0m 220.0   \u001b[0m | \u001b[0m 0.5792  \u001b[0m |\n",
      "| \u001b[0m 106     \u001b[0m | \u001b[0m-0.4165  \u001b[0m | \u001b[0m 0.05002 \u001b[0m | \u001b[0m 9.245   \u001b[0m | \u001b[0m 4.8     \u001b[0m | \u001b[0m 4.116   \u001b[0m | \u001b[0m 85.37   \u001b[0m | \u001b[0m 0.6827  \u001b[0m |\n",
      "| \u001b[0m 107     \u001b[0m | \u001b[0m-0.4221  \u001b[0m | \u001b[0m 0.04335 \u001b[0m | \u001b[0m 3.241   \u001b[0m | \u001b[0m 1.626   \u001b[0m | \u001b[0m 4.589   \u001b[0m | \u001b[0m 471.1   \u001b[0m | \u001b[0m 0.5544  \u001b[0m |\n",
      "| \u001b[0m 108     \u001b[0m | \u001b[0m-0.3862  \u001b[0m | \u001b[0m 0.08685 \u001b[0m | \u001b[0m 6.834   \u001b[0m | \u001b[0m 3.137   \u001b[0m | \u001b[0m 4.752   \u001b[0m | \u001b[0m 20.06   \u001b[0m | \u001b[0m 0.9288  \u001b[0m |\n",
      "| \u001b[0m 109     \u001b[0m | \u001b[0m-0.3821  \u001b[0m | \u001b[0m 0.0811  \u001b[0m | \u001b[0m 5.099   \u001b[0m | \u001b[0m 3.277   \u001b[0m | \u001b[0m 2.12    \u001b[0m | \u001b[0m 22.27   \u001b[0m | \u001b[0m 0.5962  \u001b[0m |\n",
      "| \u001b[0m 110     \u001b[0m | \u001b[0m-0.4229  \u001b[0m | \u001b[0m 0.1405  \u001b[0m | \u001b[0m 4.24    \u001b[0m | \u001b[0m 3.973   \u001b[0m | \u001b[0m 3.565   \u001b[0m | \u001b[0m 156.3   \u001b[0m | \u001b[0m 0.6633  \u001b[0m |\n",
      "| \u001b[0m 111     \u001b[0m | \u001b[0m-0.4234  \u001b[0m | \u001b[0m 0.1545  \u001b[0m | \u001b[0m 8.848   \u001b[0m | \u001b[0m 1.06    \u001b[0m | \u001b[0m 2.371   \u001b[0m | \u001b[0m 478.7   \u001b[0m | \u001b[0m 0.503   \u001b[0m |\n",
      "| \u001b[0m 112     \u001b[0m | \u001b[0m-0.3966  \u001b[0m | \u001b[0m 0.1057  \u001b[0m | \u001b[0m 4.989   \u001b[0m | \u001b[0m 2.695   \u001b[0m | \u001b[0m 2.611   \u001b[0m | \u001b[0m 22.67   \u001b[0m | \u001b[0m 0.9186  \u001b[0m |\n",
      "| \u001b[0m 113     \u001b[0m | \u001b[0m-0.3692  \u001b[0m | \u001b[0m 0.02832 \u001b[0m | \u001b[0m 7.253   \u001b[0m | \u001b[0m 3.96    \u001b[0m | \u001b[0m 4.915   \u001b[0m | \u001b[0m 46.06   \u001b[0m | \u001b[0m 0.9827  \u001b[0m |\n",
      "| \u001b[0m 114     \u001b[0m | \u001b[0m-0.3359  \u001b[0m | \u001b[0m 0.03171 \u001b[0m | \u001b[0m 4.435   \u001b[0m | \u001b[0m 3.368   \u001b[0m | \u001b[0m 3.289   \u001b[0m | \u001b[0m 22.78   \u001b[0m | \u001b[0m 0.5435  \u001b[0m |\n",
      "| \u001b[0m 115     \u001b[0m | \u001b[0m-0.4143  \u001b[0m | \u001b[0m 0.1234  \u001b[0m | \u001b[0m 4.808   \u001b[0m | \u001b[0m 3.056   \u001b[0m | \u001b[0m 2.537   \u001b[0m | \u001b[0m 43.68   \u001b[0m | \u001b[0m 0.8422  \u001b[0m |\n",
      "| \u001b[0m 116     \u001b[0m | \u001b[0m-0.4161  \u001b[0m | \u001b[0m 0.02285 \u001b[0m | \u001b[0m 3.444   \u001b[0m | \u001b[0m 4.568   \u001b[0m | \u001b[0m 3.018   \u001b[0m | \u001b[0m 454.8   \u001b[0m | \u001b[0m 0.93    \u001b[0m |\n",
      "| \u001b[0m 117     \u001b[0m | \u001b[0m-0.3961  \u001b[0m | \u001b[0m 0.1039  \u001b[0m | \u001b[0m 7.925   \u001b[0m | \u001b[0m 3.079   \u001b[0m | \u001b[0m 4.472   \u001b[0m | \u001b[0m 20.2    \u001b[0m | \u001b[0m 0.979   \u001b[0m |\n",
      "| \u001b[0m 118     \u001b[0m | \u001b[0m-0.4101  \u001b[0m | \u001b[0m 0.1586  \u001b[0m | \u001b[0m 4.502   \u001b[0m | \u001b[0m 2.257   \u001b[0m | \u001b[0m 2.664   \u001b[0m | \u001b[0m 22.8    \u001b[0m | \u001b[0m 0.6508  \u001b[0m |\n",
      "| \u001b[0m 119     \u001b[0m | \u001b[0m-0.41    \u001b[0m | \u001b[0m 0.1252  \u001b[0m | \u001b[0m 7.985   \u001b[0m | \u001b[0m 2.741   \u001b[0m | \u001b[0m 3.651   \u001b[0m | \u001b[0m 24.39   \u001b[0m | \u001b[0m 0.7747  \u001b[0m |\n",
      "| \u001b[0m 120     \u001b[0m | \u001b[0m-0.4231  \u001b[0m | \u001b[0m 0.1069  \u001b[0m | \u001b[0m 7.863   \u001b[0m | \u001b[0m 2.775   \u001b[0m | \u001b[0m 3.316   \u001b[0m | \u001b[0m 241.1   \u001b[0m | \u001b[0m 0.8407  \u001b[0m |\n",
      "| \u001b[0m 121     \u001b[0m | \u001b[0m-0.4133  \u001b[0m | \u001b[0m 0.1566  \u001b[0m | \u001b[0m 7.686   \u001b[0m | \u001b[0m 3.759   \u001b[0m | \u001b[0m 3.897   \u001b[0m | \u001b[0m 20.76   \u001b[0m | \u001b[0m 0.9428  \u001b[0m |\n",
      "| \u001b[0m 122     \u001b[0m | \u001b[0m-0.3291  \u001b[0m | \u001b[0m 0.02557 \u001b[0m | \u001b[0m 5.223   \u001b[0m | \u001b[0m 2.624   \u001b[0m | \u001b[0m 3.033   \u001b[0m | \u001b[0m 22.36   \u001b[0m | \u001b[0m 0.7735  \u001b[0m |\n",
      "| \u001b[0m 123     \u001b[0m | \u001b[0m-0.4193  \u001b[0m | \u001b[0m 0.03159 \u001b[0m | \u001b[0m 3.613   \u001b[0m | \u001b[0m 4.919   \u001b[0m | \u001b[0m 3.22    \u001b[0m | \u001b[0m 286.7   \u001b[0m | \u001b[0m 0.6144  \u001b[0m |\n",
      "| \u001b[0m 124     \u001b[0m | \u001b[0m-0.3622  \u001b[0m | \u001b[0m 0.05742 \u001b[0m | \u001b[0m 7.461   \u001b[0m | \u001b[0m 3.476   \u001b[0m | \u001b[0m 3.966   \u001b[0m | \u001b[0m 19.81   \u001b[0m | \u001b[0m 0.7912  \u001b[0m |\n",
      "| \u001b[0m 125     \u001b[0m | \u001b[0m-0.4025  \u001b[0m | \u001b[0m 0.006629\u001b[0m | \u001b[0m 4.693   \u001b[0m | \u001b[0m 4.421   \u001b[0m | \u001b[0m 4.531   \u001b[0m | \u001b[0m 456.1   \u001b[0m | \u001b[0m 0.5605  \u001b[0m |\n",
      "| \u001b[0m 126     \u001b[0m | \u001b[0m-0.4001  \u001b[0m | \u001b[0m 0.1093  \u001b[0m | \u001b[0m 8.423   \u001b[0m | \u001b[0m 3.636   \u001b[0m | \u001b[0m 4.616   \u001b[0m | \u001b[0m 21.19   \u001b[0m | \u001b[0m 0.6802  \u001b[0m |\n",
      "| \u001b[0m 127     \u001b[0m | \u001b[0m-0.4274  \u001b[0m | \u001b[0m 0.1474  \u001b[0m | \u001b[0m 5.345   \u001b[0m | \u001b[0m 4.515   \u001b[0m | \u001b[0m 3.069   \u001b[0m | \u001b[0m 348.2   \u001b[0m | \u001b[0m 0.8476  \u001b[0m |\n",
      "| \u001b[0m 128     \u001b[0m | \u001b[0m-0.3702  \u001b[0m | \u001b[0m 0.0653  \u001b[0m | \u001b[0m 7.442   \u001b[0m | \u001b[0m 2.712   \u001b[0m | \u001b[0m 4.465   \u001b[0m | \u001b[0m 20.06   \u001b[0m | \u001b[0m 0.8387  \u001b[0m |\n",
      "| \u001b[0m 129     \u001b[0m | \u001b[0m-0.392   \u001b[0m | \u001b[0m 0.07786 \u001b[0m | \u001b[0m 8.38    \u001b[0m | \u001b[0m 3.306   \u001b[0m | \u001b[0m 3.23    \u001b[0m | \u001b[0m 24.89   \u001b[0m | \u001b[0m 0.502   \u001b[0m |\n",
      "| \u001b[0m 130     \u001b[0m | \u001b[0m-0.426   \u001b[0m | \u001b[0m 0.1817  \u001b[0m | \u001b[0m 4.866   \u001b[0m | \u001b[0m 2.528   \u001b[0m | \u001b[0m 2.207   \u001b[0m | \u001b[0m 214.4   \u001b[0m | \u001b[0m 0.676   \u001b[0m |\n",
      "| \u001b[0m 131     \u001b[0m | \u001b[0m-0.3469  \u001b[0m | \u001b[0m 0.04199 \u001b[0m | \u001b[0m 8.397   \u001b[0m | \u001b[0m 4.138   \u001b[0m | \u001b[0m 3.998   \u001b[0m | \u001b[0m 20.44   \u001b[0m | \u001b[0m 0.803   \u001b[0m |\n",
      "| \u001b[0m 132     \u001b[0m | \u001b[0m-0.397   \u001b[0m | \u001b[0m 0.1067  \u001b[0m | \u001b[0m 8.137   \u001b[0m | \u001b[0m 4.275   \u001b[0m | \u001b[0m 3.355   \u001b[0m | \u001b[0m 19.95   \u001b[0m | \u001b[0m 0.8752  \u001b[0m |\n",
      "| \u001b[0m 133     \u001b[0m | \u001b[0m-0.4255  \u001b[0m | \u001b[0m 0.1197  \u001b[0m | \u001b[0m 5.223   \u001b[0m | \u001b[0m 3.431   \u001b[0m | \u001b[0m 4.563   \u001b[0m | \u001b[0m 436.8   \u001b[0m | \u001b[0m 0.6757  \u001b[0m |\n",
      "| \u001b[0m 134     \u001b[0m | \u001b[0m-0.4067  \u001b[0m | \u001b[0m 0.1342  \u001b[0m | \u001b[0m 7.528   \u001b[0m | \u001b[0m 2.971   \u001b[0m | \u001b[0m 4.428   \u001b[0m | \u001b[0m 19.64   \u001b[0m | \u001b[0m 0.7226  \u001b[0m |\n",
      "| \u001b[0m 135     \u001b[0m | \u001b[0m-0.4237  \u001b[0m | \u001b[0m 0.0558  \u001b[0m | \u001b[0m 8.58    \u001b[0m | \u001b[0m 3.666   \u001b[0m | \u001b[0m 3.046   \u001b[0m | \u001b[0m 374.6   \u001b[0m | \u001b[0m 0.5475  \u001b[0m |\n",
      "| \u001b[0m 136     \u001b[0m | \u001b[0m-0.4152  \u001b[0m | \u001b[0m 0.1706  \u001b[0m | \u001b[0m 8.249   \u001b[0m | \u001b[0m 4.346   \u001b[0m | \u001b[0m 4.23    \u001b[0m | \u001b[0m 20.72   \u001b[0m | \u001b[0m 0.7412  \u001b[0m |\n",
      "| \u001b[0m 137     \u001b[0m | \u001b[0m-0.4216  \u001b[0m | \u001b[0m 0.06875 \u001b[0m | \u001b[0m 8.201   \u001b[0m | \u001b[0m 3.717   \u001b[0m | \u001b[0m 2.149   \u001b[0m | \u001b[0m 200.0   \u001b[0m | \u001b[0m 0.9429  \u001b[0m |\n",
      "| \u001b[0m 138     \u001b[0m | \u001b[0m-0.4241  \u001b[0m | \u001b[0m 0.1509  \u001b[0m | \u001b[0m 5.652   \u001b[0m | \u001b[0m 4.306   \u001b[0m | \u001b[0m 3.815   \u001b[0m | \u001b[0m 309.9   \u001b[0m | \u001b[0m 0.8523  \u001b[0m |\n",
      "| \u001b[0m 139     \u001b[0m | \u001b[0m-0.4267  \u001b[0m | \u001b[0m 0.1533  \u001b[0m | \u001b[0m 6.243   \u001b[0m | \u001b[0m 3.605   \u001b[0m | \u001b[0m 3.165   \u001b[0m | \u001b[0m 321.9   \u001b[0m | \u001b[0m 0.7751  \u001b[0m |\n",
      "| \u001b[0m 140     \u001b[0m | \u001b[0m-0.3338  \u001b[0m | \u001b[0m 0.02828 \u001b[0m | \u001b[0m 4.562   \u001b[0m | \u001b[0m 3.449   \u001b[0m | \u001b[0m 2.055   \u001b[0m | \u001b[0m 23.12   \u001b[0m | \u001b[0m 0.5622  \u001b[0m |\n",
      "| \u001b[0m 141     \u001b[0m | \u001b[0m-0.3571  \u001b[0m | \u001b[0m 0.04884 \u001b[0m | \u001b[0m 8.582   \u001b[0m | \u001b[0m 3.726   \u001b[0m | \u001b[0m 3.857   \u001b[0m | \u001b[0m 20.86   \u001b[0m | \u001b[0m 0.6457  \u001b[0m |\n",
      "| \u001b[0m 142     \u001b[0m | \u001b[0m-0.4131  \u001b[0m | \u001b[0m 0.1624  \u001b[0m | \u001b[0m 3.496   \u001b[0m | \u001b[0m 2.616   \u001b[0m | \u001b[0m 3.888   \u001b[0m | \u001b[0m 41.93   \u001b[0m | \u001b[0m 0.6291  \u001b[0m |\n",
      "| \u001b[0m 143     \u001b[0m | \u001b[0m-0.3834  \u001b[0m | \u001b[0m 0.09042 \u001b[0m | \u001b[0m 4.313   \u001b[0m | \u001b[0m 2.72    \u001b[0m | \u001b[0m 2.188   \u001b[0m | \u001b[0m 22.19   \u001b[0m | \u001b[0m 0.8376  \u001b[0m |\n",
      "| \u001b[0m 144     \u001b[0m | \u001b[0m-0.4214  \u001b[0m | \u001b[0m 0.1193  \u001b[0m | \u001b[0m 6.05    \u001b[0m | \u001b[0m 2.854   \u001b[0m | \u001b[0m 3.217   \u001b[0m | \u001b[0m 82.24   \u001b[0m | \u001b[0m 0.8106  \u001b[0m |\n",
      "| \u001b[0m 145     \u001b[0m | \u001b[0m-0.4209  \u001b[0m | \u001b[0m 0.02771 \u001b[0m | \u001b[0m 4.805   \u001b[0m | \u001b[0m 1.736   \u001b[0m | \u001b[0m 2.146   \u001b[0m | \u001b[0m 397.8   \u001b[0m | \u001b[0m 0.7398  \u001b[0m |\n",
      "| \u001b[0m 146     \u001b[0m | \u001b[0m-0.4006  \u001b[0m | \u001b[0m 0.1103  \u001b[0m | \u001b[0m 8.581   \u001b[0m | \u001b[0m 3.718   \u001b[0m | \u001b[0m 3.603   \u001b[0m | \u001b[0m 20.89   \u001b[0m | \u001b[0m 0.5179  \u001b[0m |\n",
      "| \u001b[0m 147     \u001b[0m | \u001b[0m-0.4243  \u001b[0m | \u001b[0m 0.1252  \u001b[0m | \u001b[0m 9.865   \u001b[0m | \u001b[0m 3.23    \u001b[0m | \u001b[0m 2.394   \u001b[0m | \u001b[0m 149.1   \u001b[0m | \u001b[0m 0.9959  \u001b[0m |\n",
      "| \u001b[0m 148     \u001b[0m | \u001b[0m-0.4164  \u001b[0m | \u001b[0m 0.05474 \u001b[0m | \u001b[0m 4.86    \u001b[0m | \u001b[0m 1.582   \u001b[0m | \u001b[0m 4.955   \u001b[0m | \u001b[0m 132.1   \u001b[0m | \u001b[0m 0.9742  \u001b[0m |\n",
      "| \u001b[0m 149     \u001b[0m | \u001b[0m-0.3947  \u001b[0m | \u001b[0m 0.07749 \u001b[0m | \u001b[0m 8.41    \u001b[0m | \u001b[0m 2.833   \u001b[0m | \u001b[0m 3.63    \u001b[0m | \u001b[0m 25.73   \u001b[0m | \u001b[0m 0.9171  \u001b[0m |\n",
      "| \u001b[0m 150     \u001b[0m | \u001b[0m-0.4245  \u001b[0m | \u001b[0m 0.1599  \u001b[0m | \u001b[0m 5.335   \u001b[0m | \u001b[0m 3.323   \u001b[0m | \u001b[0m 4.731   \u001b[0m | \u001b[0m 150.5   \u001b[0m | \u001b[0m 0.7315  \u001b[0m |\n",
      "| \u001b[0m 151     \u001b[0m | \u001b[0m-0.4238  \u001b[0m | \u001b[0m 0.1256  \u001b[0m | \u001b[0m 9.992   \u001b[0m | \u001b[0m 1.625   \u001b[0m | \u001b[0m 4.743   \u001b[0m | \u001b[0m 467.5   \u001b[0m | \u001b[0m 0.9006  \u001b[0m |\n",
      "| \u001b[0m 152     \u001b[0m | \u001b[0m-0.4214  \u001b[0m | \u001b[0m 0.1498  \u001b[0m | \u001b[0m 8.605   \u001b[0m | \u001b[0m 2.516   \u001b[0m | \u001b[0m 4.772   \u001b[0m | \u001b[0m 48.81   \u001b[0m | \u001b[0m 0.788   \u001b[0m |\n"
     ]
    },
    {
     "name": "stdout",
     "output_type": "stream",
     "text": [
      "| \u001b[0m 153     \u001b[0m | \u001b[0m-0.3354  \u001b[0m | \u001b[0m 0.03276 \u001b[0m | \u001b[0m 8.216   \u001b[0m | \u001b[0m 3.805   \u001b[0m | \u001b[0m 3.99    \u001b[0m | \u001b[0m 20.13   \u001b[0m | \u001b[0m 0.5454  \u001b[0m |\n",
      "| \u001b[0m 154     \u001b[0m | \u001b[0m-0.4213  \u001b[0m | \u001b[0m 0.03777 \u001b[0m | \u001b[0m 7.792   \u001b[0m | \u001b[0m 2.865   \u001b[0m | \u001b[0m 2.391   \u001b[0m | \u001b[0m 228.7   \u001b[0m | \u001b[0m 0.5666  \u001b[0m |\n",
      "| \u001b[0m 155     \u001b[0m | \u001b[0m-0.4045  \u001b[0m | \u001b[0m 0.1194  \u001b[0m | \u001b[0m 8.299   \u001b[0m | \u001b[0m 4.148   \u001b[0m | \u001b[0m 3.786   \u001b[0m | \u001b[0m 20.95   \u001b[0m | \u001b[0m 0.5393  \u001b[0m |\n",
      "| \u001b[0m 156     \u001b[0m | \u001b[0m-0.4153  \u001b[0m | \u001b[0m 0.05222 \u001b[0m | \u001b[0m 6.612   \u001b[0m | \u001b[0m 4.021   \u001b[0m | \u001b[0m 2.393   \u001b[0m | \u001b[0m 84.69   \u001b[0m | \u001b[0m 0.795   \u001b[0m |\n",
      "| \u001b[0m 157     \u001b[0m | \u001b[0m-0.4103  \u001b[0m | \u001b[0m 0.1978  \u001b[0m | \u001b[0m 4.086   \u001b[0m | \u001b[0m 3.283   \u001b[0m | \u001b[0m 3.214   \u001b[0m | \u001b[0m 23.15   \u001b[0m | \u001b[0m 0.5623  \u001b[0m |\n",
      "| \u001b[0m 158     \u001b[0m | \u001b[0m-0.3698  \u001b[0m | \u001b[0m 0.05356 \u001b[0m | \u001b[0m 8.274   \u001b[0m | \u001b[0m 3.082   \u001b[0m | \u001b[0m 3.508   \u001b[0m | \u001b[0m 24.34   \u001b[0m | \u001b[0m 0.738   \u001b[0m |\n",
      "| \u001b[0m 159     \u001b[0m | \u001b[0m-0.347   \u001b[0m | \u001b[0m 0.01005 \u001b[0m | \u001b[0m 4.092   \u001b[0m | \u001b[0m 2.19    \u001b[0m | \u001b[0m 3.28    \u001b[0m | \u001b[0m 95.73   \u001b[0m | \u001b[0m 0.7393  \u001b[0m |\n",
      "| \u001b[0m 160     \u001b[0m | \u001b[0m-0.4254  \u001b[0m | \u001b[0m 0.1946  \u001b[0m | \u001b[0m 9.66    \u001b[0m | \u001b[0m 2.302   \u001b[0m | \u001b[0m 4.922   \u001b[0m | \u001b[0m 401.8   \u001b[0m | \u001b[0m 0.6102  \u001b[0m |\n",
      "| \u001b[95m 161     \u001b[0m | \u001b[95m-0.3096  \u001b[0m | \u001b[95m 0.0005  \u001b[0m | \u001b[95m 8.021   \u001b[0m | \u001b[95m 3.641   \u001b[0m | \u001b[95m 4.536   \u001b[0m | \u001b[95m 19.92   \u001b[0m | \u001b[95m 0.634   \u001b[0m |\n",
      "| \u001b[0m 162     \u001b[0m | \u001b[0m-0.4004  \u001b[0m | \u001b[0m 0.01294 \u001b[0m | \u001b[0m 9.617   \u001b[0m | \u001b[0m 2.835   \u001b[0m | \u001b[0m 3.02    \u001b[0m | \u001b[0m 180.1   \u001b[0m | \u001b[0m 0.8488  \u001b[0m |\n",
      "| \u001b[0m 163     \u001b[0m | \u001b[0m-0.3292  \u001b[0m | \u001b[0m 0.02548 \u001b[0m | \u001b[0m 4.577   \u001b[0m | \u001b[0m 3.23    \u001b[0m | \u001b[0m 2.362   \u001b[0m | \u001b[0m 22.43   \u001b[0m | \u001b[0m 0.8739  \u001b[0m |\n",
      "| \u001b[0m 164     \u001b[0m | \u001b[0m-0.4238  \u001b[0m | \u001b[0m 0.143   \u001b[0m | \u001b[0m 7.846   \u001b[0m | \u001b[0m 4.703   \u001b[0m | \u001b[0m 4.123   \u001b[0m | \u001b[0m 125.3   \u001b[0m | \u001b[0m 0.9686  \u001b[0m |\n",
      "| \u001b[0m 165     \u001b[0m | \u001b[0m-0.4239  \u001b[0m | \u001b[0m 0.1662  \u001b[0m | \u001b[0m 5.47    \u001b[0m | \u001b[0m 3.595   \u001b[0m | \u001b[0m 2.236   \u001b[0m | \u001b[0m 72.9    \u001b[0m | \u001b[0m 0.802   \u001b[0m |\n",
      "| \u001b[0m 166     \u001b[0m | \u001b[0m-0.4264  \u001b[0m | \u001b[0m 0.1426  \u001b[0m | \u001b[0m 7.581   \u001b[0m | \u001b[0m 3.23    \u001b[0m | \u001b[0m 2.983   \u001b[0m | \u001b[0m 409.0   \u001b[0m | \u001b[0m 0.5657  \u001b[0m |\n",
      "| \u001b[0m 167     \u001b[0m | \u001b[0m-0.4242  \u001b[0m | \u001b[0m 0.04901 \u001b[0m | \u001b[0m 4.513   \u001b[0m | \u001b[0m 4.763   \u001b[0m | \u001b[0m 4.199   \u001b[0m | \u001b[0m 493.2   \u001b[0m | \u001b[0m 0.7978  \u001b[0m |\n",
      "| \u001b[0m 168     \u001b[0m | \u001b[0m-0.4225  \u001b[0m | \u001b[0m 0.07924 \u001b[0m | \u001b[0m 3.934   \u001b[0m | \u001b[0m 2.673   \u001b[0m | \u001b[0m 3.88    \u001b[0m | \u001b[0m 358.2   \u001b[0m | \u001b[0m 0.8849  \u001b[0m |\n",
      "| \u001b[0m 169     \u001b[0m | \u001b[0m-0.3582  \u001b[0m | \u001b[0m 0.05208 \u001b[0m | \u001b[0m 5.375   \u001b[0m | \u001b[0m 2.283   \u001b[0m | \u001b[0m 2.862   \u001b[0m | \u001b[0m 21.88   \u001b[0m | \u001b[0m 0.6327  \u001b[0m |\n",
      "| \u001b[0m 170     \u001b[0m | \u001b[0m-0.3119  \u001b[0m | \u001b[0m 0.007872\u001b[0m | \u001b[0m 5.149   \u001b[0m | \u001b[0m 3.885   \u001b[0m | \u001b[0m 3.288   \u001b[0m | \u001b[0m 22.18   \u001b[0m | \u001b[0m 0.6007  \u001b[0m |\n",
      "| \u001b[0m 171     \u001b[0m | \u001b[0m-0.4017  \u001b[0m | \u001b[0m 0.1224  \u001b[0m | \u001b[0m 5.069   \u001b[0m | \u001b[0m 2.258   \u001b[0m | \u001b[0m 2.939   \u001b[0m | \u001b[0m 22.79   \u001b[0m | \u001b[0m 0.7563  \u001b[0m |\n",
      "| \u001b[0m 172     \u001b[0m | \u001b[0m-0.4243  \u001b[0m | \u001b[0m 0.1302  \u001b[0m | \u001b[0m 4.092   \u001b[0m | \u001b[0m 4.481   \u001b[0m | \u001b[0m 2.063   \u001b[0m | \u001b[0m 203.1   \u001b[0m | \u001b[0m 0.7738  \u001b[0m |\n",
      "| \u001b[0m 173     \u001b[0m | \u001b[0m-0.4277  \u001b[0m | \u001b[0m 0.1681  \u001b[0m | \u001b[0m 4.538   \u001b[0m | \u001b[0m 4.554   \u001b[0m | \u001b[0m 4.993   \u001b[0m | \u001b[0m 181.8   \u001b[0m | \u001b[0m 0.8635  \u001b[0m |\n",
      "| \u001b[0m 174     \u001b[0m | \u001b[0m-0.4171  \u001b[0m | \u001b[0m 0.1909  \u001b[0m | \u001b[0m 4.94    \u001b[0m | \u001b[0m 1.974   \u001b[0m | \u001b[0m 3.481   \u001b[0m | \u001b[0m 37.66   \u001b[0m | \u001b[0m 0.8117  \u001b[0m |\n",
      "| \u001b[0m 175     \u001b[0m | \u001b[0m-0.344   \u001b[0m | \u001b[0m 0.03857 \u001b[0m | \u001b[0m 4.546   \u001b[0m | \u001b[0m 3.019   \u001b[0m | \u001b[0m 2.229   \u001b[0m | \u001b[0m 22.22   \u001b[0m | \u001b[0m 0.6659  \u001b[0m |\n",
      "| \u001b[0m 176     \u001b[0m | \u001b[0m-0.4212  \u001b[0m | \u001b[0m 0.05126 \u001b[0m | \u001b[0m 9.726   \u001b[0m | \u001b[0m 2.785   \u001b[0m | \u001b[0m 2.212   \u001b[0m | \u001b[0m 185.5   \u001b[0m | \u001b[0m 0.7384  \u001b[0m |\n",
      "| \u001b[0m 177     \u001b[0m | \u001b[0m-0.4278  \u001b[0m | \u001b[0m 0.1699  \u001b[0m | \u001b[0m 5.034   \u001b[0m | \u001b[0m 3.482   \u001b[0m | \u001b[0m 4.721   \u001b[0m | \u001b[0m 310.1   \u001b[0m | \u001b[0m 0.5744  \u001b[0m |\n",
      "| \u001b[0m 178     \u001b[0m | \u001b[0m-0.4249  \u001b[0m | \u001b[0m 0.191   \u001b[0m | \u001b[0m 3.545   \u001b[0m | \u001b[0m 2.031   \u001b[0m | \u001b[0m 3.648   \u001b[0m | \u001b[0m 95.55   \u001b[0m | \u001b[0m 0.6418  \u001b[0m |\n",
      "| \u001b[0m 179     \u001b[0m | \u001b[0m-0.4012  \u001b[0m | \u001b[0m 0.1212  \u001b[0m | \u001b[0m 4.949   \u001b[0m | \u001b[0m 3.963   \u001b[0m | \u001b[0m 2.802   \u001b[0m | \u001b[0m 22.11   \u001b[0m | \u001b[0m 0.7722  \u001b[0m |\n",
      "| \u001b[0m 180     \u001b[0m | \u001b[0m-0.3462  \u001b[0m | \u001b[0m 0.003607\u001b[0m | \u001b[0m 3.061   \u001b[0m | \u001b[0m 1.821   \u001b[0m | \u001b[0m 3.062   \u001b[0m | \u001b[0m 288.7   \u001b[0m | \u001b[0m 0.8848  \u001b[0m |\n",
      "| \u001b[0m 181     \u001b[0m | \u001b[0m-0.4075  \u001b[0m | \u001b[0m 0.1522  \u001b[0m | \u001b[0m 5.479   \u001b[0m | \u001b[0m 4.285   \u001b[0m | \u001b[0m 3.189   \u001b[0m | \u001b[0m 21.8    \u001b[0m | \u001b[0m 0.53    \u001b[0m |\n",
      "| \u001b[0m 182     \u001b[0m | \u001b[0m-0.3506  \u001b[0m | \u001b[0m 0.04479 \u001b[0m | \u001b[0m 4.26    \u001b[0m | \u001b[0m 3.493   \u001b[0m | \u001b[0m 2.81    \u001b[0m | \u001b[0m 22.85   \u001b[0m | \u001b[0m 0.5946  \u001b[0m |\n",
      "| \u001b[0m 183     \u001b[0m | \u001b[0m-0.3721  \u001b[0m | \u001b[0m 0.06746 \u001b[0m | \u001b[0m 5.231   \u001b[0m | \u001b[0m 2.81    \u001b[0m | \u001b[0m 2.918   \u001b[0m | \u001b[0m 21.7    \u001b[0m | \u001b[0m 0.5493  \u001b[0m |\n",
      "| \u001b[0m 184     \u001b[0m | \u001b[0m-0.424   \u001b[0m | \u001b[0m 0.09009 \u001b[0m | \u001b[0m 5.605   \u001b[0m | \u001b[0m 1.099   \u001b[0m | \u001b[0m 3.687   \u001b[0m | \u001b[0m 440.0   \u001b[0m | \u001b[0m 0.5393  \u001b[0m |\n",
      "| \u001b[0m 185     \u001b[0m | \u001b[0m-0.3288  \u001b[0m | \u001b[0m 0.005284\u001b[0m | \u001b[0m 7.351   \u001b[0m | \u001b[0m 1.767   \u001b[0m | \u001b[0m 3.15    \u001b[0m | \u001b[0m 103.1   \u001b[0m | \u001b[0m 0.7711  \u001b[0m |\n",
      "| \u001b[0m 186     \u001b[0m | \u001b[0m-0.4214  \u001b[0m | \u001b[0m 0.07499 \u001b[0m | \u001b[0m 8.091   \u001b[0m | \u001b[0m 4.514   \u001b[0m | \u001b[0m 4.686   \u001b[0m | \u001b[0m 105.8   \u001b[0m | \u001b[0m 0.9847  \u001b[0m |\n",
      "| \u001b[0m 187     \u001b[0m | \u001b[0m-0.4275  \u001b[0m | \u001b[0m 0.1374  \u001b[0m | \u001b[0m 4.795   \u001b[0m | \u001b[0m 4.819   \u001b[0m | \u001b[0m 4.7     \u001b[0m | \u001b[0m 297.6   \u001b[0m | \u001b[0m 0.9694  \u001b[0m |\n",
      "| \u001b[0m 188     \u001b[0m | \u001b[0m-0.4114  \u001b[0m | \u001b[0m 0.03408 \u001b[0m | \u001b[0m 7.911   \u001b[0m | \u001b[0m 1.77    \u001b[0m | \u001b[0m 2.952   \u001b[0m | \u001b[0m 103.4   \u001b[0m | \u001b[0m 0.6209  \u001b[0m |\n",
      "| \u001b[0m 189     \u001b[0m | \u001b[0m-0.3226  \u001b[0m | \u001b[0m 0.00479 \u001b[0m | \u001b[0m 4.146   \u001b[0m | \u001b[0m 2.48    \u001b[0m | \u001b[0m 3.107   \u001b[0m | \u001b[0m 96.11   \u001b[0m | \u001b[0m 0.6611  \u001b[0m |\n",
      "| \u001b[0m 190     \u001b[0m | \u001b[0m-0.3896  \u001b[0m | \u001b[0m 0.008055\u001b[0m | \u001b[0m 9.857   \u001b[0m | \u001b[0m 3.77    \u001b[0m | \u001b[0m 2.974   \u001b[0m | \u001b[0m 236.6   \u001b[0m | \u001b[0m 0.6137  \u001b[0m |\n",
      "| \u001b[0m 191     \u001b[0m | \u001b[0m-0.4163  \u001b[0m | \u001b[0m 0.1961  \u001b[0m | \u001b[0m 5.03    \u001b[0m | \u001b[0m 3.638   \u001b[0m | \u001b[0m 3.16    \u001b[0m | \u001b[0m 22.64   \u001b[0m | \u001b[0m 0.583   \u001b[0m |\n",
      "| \u001b[0m 192     \u001b[0m | \u001b[0m-0.4192  \u001b[0m | \u001b[0m 0.07212 \u001b[0m | \u001b[0m 7.367   \u001b[0m | \u001b[0m 2.001   \u001b[0m | \u001b[0m 2.988   \u001b[0m | \u001b[0m 103.3   \u001b[0m | \u001b[0m 0.9452  \u001b[0m |\n",
      "| \u001b[0m 193     \u001b[0m | \u001b[0m-0.3098  \u001b[0m | \u001b[0m 0.0005  \u001b[0m | \u001b[0m 7.298   \u001b[0m | \u001b[0m 1.629   \u001b[0m | \u001b[0m 3.259   \u001b[0m | \u001b[0m 103.0   \u001b[0m | \u001b[0m 0.6803  \u001b[0m |\n",
      "| \u001b[0m 194     \u001b[0m | \u001b[0m-0.3968  \u001b[0m | \u001b[0m 0.1067  \u001b[0m | \u001b[0m 8.442   \u001b[0m | \u001b[0m 3.851   \u001b[0m | \u001b[0m 4.465   \u001b[0m | \u001b[0m 19.74   \u001b[0m | \u001b[0m 0.6331  \u001b[0m |\n",
      "| \u001b[0m 195     \u001b[0m | \u001b[0m-0.4231  \u001b[0m | \u001b[0m 0.1708  \u001b[0m | \u001b[0m 3.918   \u001b[0m | \u001b[0m 2.834   \u001b[0m | \u001b[0m 2.729   \u001b[0m | \u001b[0m 96.04   \u001b[0m | \u001b[0m 0.7322  \u001b[0m |\n",
      "| \u001b[0m 196     \u001b[0m | \u001b[0m-0.4275  \u001b[0m | \u001b[0m 0.183   \u001b[0m | \u001b[0m 7.055   \u001b[0m | \u001b[0m 4.964   \u001b[0m | \u001b[0m 2.517   \u001b[0m | \u001b[0m 333.7   \u001b[0m | \u001b[0m 0.841   \u001b[0m |\n",
      "| \u001b[0m 197     \u001b[0m | \u001b[0m-0.3096  \u001b[0m | \u001b[0m 0.0005  \u001b[0m | \u001b[0m 4.721   \u001b[0m | \u001b[0m 2.936   \u001b[0m | \u001b[0m 2.36    \u001b[0m | \u001b[0m 22.49   \u001b[0m | \u001b[0m 0.7025  \u001b[0m |\n",
      "| \u001b[0m 198     \u001b[0m | \u001b[0m-0.4213  \u001b[0m | \u001b[0m 0.08891 \u001b[0m | \u001b[0m 7.722   \u001b[0m | \u001b[0m 2.276   \u001b[0m | \u001b[0m 3.738   \u001b[0m | \u001b[0m 102.8   \u001b[0m | \u001b[0m 0.5283  \u001b[0m |\n",
      "| \u001b[0m 199     \u001b[0m | \u001b[0m-0.4262  \u001b[0m | \u001b[0m 0.1768  \u001b[0m | \u001b[0m 8.426   \u001b[0m | \u001b[0m 4.42    \u001b[0m | \u001b[0m 2.018   \u001b[0m | \u001b[0m 364.1   \u001b[0m | \u001b[0m 0.5797  \u001b[0m |\n",
      "| \u001b[0m 200     \u001b[0m | \u001b[0m-0.3887  \u001b[0m | \u001b[0m 0.09657 \u001b[0m | \u001b[0m 4.422   \u001b[0m | \u001b[0m 2.706   \u001b[0m | \u001b[0m 2.128   \u001b[0m | \u001b[0m 22.67   \u001b[0m | \u001b[0m 0.9744  \u001b[0m |\n",
      "| \u001b[0m 201     \u001b[0m | \u001b[0m-0.4243  \u001b[0m | \u001b[0m 0.07099 \u001b[0m | \u001b[0m 6.689   \u001b[0m | \u001b[0m 2.21    \u001b[0m | \u001b[0m 3.125   \u001b[0m | \u001b[0m 470.1   \u001b[0m | \u001b[0m 0.6943  \u001b[0m |\n",
      "| \u001b[0m 202     \u001b[0m | \u001b[0m-0.3147  \u001b[0m | \u001b[0m 0.01274 \u001b[0m | \u001b[0m 6.879   \u001b[0m | \u001b[0m 2.79    \u001b[0m | \u001b[0m 4.623   \u001b[0m | \u001b[0m 20.17   \u001b[0m | \u001b[0m 0.5052  \u001b[0m |\n",
      "| \u001b[0m 203     \u001b[0m | \u001b[0m-0.4223  \u001b[0m | \u001b[0m 0.02652 \u001b[0m | \u001b[0m 6.864   \u001b[0m | \u001b[0m 4.709   \u001b[0m | \u001b[0m 4.747   \u001b[0m | \u001b[0m 505.6   \u001b[0m | \u001b[0m 0.719   \u001b[0m |\n"
     ]
    },
    {
     "name": "stdout",
     "output_type": "stream",
     "text": [
      "| \u001b[0m 204     \u001b[0m | \u001b[0m-0.3097  \u001b[0m | \u001b[0m 0.001985\u001b[0m | \u001b[0m 7.805   \u001b[0m | \u001b[0m 4.054   \u001b[0m | \u001b[0m 3.73    \u001b[0m | \u001b[0m 20.3    \u001b[0m | \u001b[0m 0.5307  \u001b[0m |\n",
      "| \u001b[0m 205     \u001b[0m | \u001b[0m-0.4153  \u001b[0m | \u001b[0m 0.1885  \u001b[0m | \u001b[0m 7.58    \u001b[0m | \u001b[0m 3.799   \u001b[0m | \u001b[0m 3.654   \u001b[0m | \u001b[0m 19.72   \u001b[0m | \u001b[0m 0.9889  \u001b[0m |\n",
      "| \u001b[0m 206     \u001b[0m | \u001b[0m-0.4136  \u001b[0m | \u001b[0m 0.1653  \u001b[0m | \u001b[0m 8.291   \u001b[0m | \u001b[0m 3.644   \u001b[0m | \u001b[0m 4.333   \u001b[0m | \u001b[0m 21.0    \u001b[0m | \u001b[0m 0.7161  \u001b[0m |\n",
      "| \u001b[0m 207     \u001b[0m | \u001b[0m-0.4     \u001b[0m | \u001b[0m 0.05421 \u001b[0m | \u001b[0m 7.452   \u001b[0m | \u001b[0m 4.281   \u001b[0m | \u001b[0m 4.37    \u001b[0m | \u001b[0m 45.22   \u001b[0m | \u001b[0m 0.7141  \u001b[0m |\n",
      "| \u001b[0m 208     \u001b[0m | \u001b[0m-0.4069  \u001b[0m | \u001b[0m 0.1328  \u001b[0m | \u001b[0m 7.874   \u001b[0m | \u001b[0m 3.226   \u001b[0m | \u001b[0m 4.883   \u001b[0m | \u001b[0m 19.65   \u001b[0m | \u001b[0m 0.7091  \u001b[0m |\n",
      "| \u001b[0m 209     \u001b[0m | \u001b[0m-0.4248  \u001b[0m | \u001b[0m 0.07622 \u001b[0m | \u001b[0m 4.666   \u001b[0m | \u001b[0m 1.562   \u001b[0m | \u001b[0m 2.458   \u001b[0m | \u001b[0m 413.3   \u001b[0m | \u001b[0m 0.8491  \u001b[0m |\n",
      "| \u001b[0m 210     \u001b[0m | \u001b[0m-0.4237  \u001b[0m | \u001b[0m 0.07174 \u001b[0m | \u001b[0m 7.774   \u001b[0m | \u001b[0m 1.689   \u001b[0m | \u001b[0m 2.786   \u001b[0m | \u001b[0m 456.5   \u001b[0m | \u001b[0m 0.7523  \u001b[0m |\n",
      "=================================================================================================\n"
     ]
    }
   ],
   "source": [
    "BO_gbm.maximize(init_points = 10, n_iter = 200)"
   ]
  },
  {
   "cell_type": "code",
   "execution_count": 88,
   "id": "7634cbd2",
   "metadata": {
    "ExecuteTime": {
     "end_time": "2022-06-02T18:29:48.900669Z",
     "start_time": "2022-06-02T18:29:48.893646Z"
    }
   },
   "outputs": [
    {
     "data": {
      "text/plain": [
       "{'target': -0.3096418485805604,\n",
       " 'params': {'learning_rate': 0.0005,\n",
       "  'max_depth': 8.021138569018108,\n",
       "  'min_samples_leaf': 3.6406549269759805,\n",
       "  'min_samples_split': 4.53609633372976,\n",
       "  'n_estimators': 19.918557538720293,\n",
       "  'subsample': 0.6339769535524644}}"
      ]
     },
     "execution_count": 88,
     "metadata": {},
     "output_type": "execute_result"
    }
   ],
   "source": [
    "BO_gbm.max"
   ]
  },
  {
   "cell_type": "code",
   "execution_count": 89,
   "id": "92571c09",
   "metadata": {
    "ExecuteTime": {
     "end_time": "2022-06-02T18:29:54.305916Z",
     "start_time": "2022-06-02T18:29:54.288439Z"
    }
   },
   "outputs": [],
   "source": [
    "params = BO_gbm.max['params']\n",
    "params['max_depth'] = int(round(params['max_depth']))\n",
    "params['n_estimators'] = int(round(params['n_estimators']))\n",
    "params['min_samples_leaf'] = int(round(params['min_samples_leaf']))\n",
    "params['min_samples_split'] = int(round(params['min_samples_split']))"
   ]
  },
  {
   "cell_type": "code",
   "execution_count": 90,
   "id": "1333c8cf",
   "metadata": {
    "ExecuteTime": {
     "end_time": "2022-06-02T18:30:11.065816Z",
     "start_time": "2022-06-02T18:30:10.983966Z"
    }
   },
   "outputs": [
    {
     "data": {
      "text/plain": [
       "GradientBoostingRegressor(learning_rate=0.0005, max_depth=8, min_samples_leaf=4,\n",
       "                          min_samples_split=5, n_estimators=20, random_state=42,\n",
       "                          subsample=0.6339769535524644)"
      ]
     },
     "execution_count": 90,
     "metadata": {},
     "output_type": "execute_result"
    }
   ],
   "source": [
    "gbm = GradientBoostingRegressor(random_state = 42, **params)\n",
    "gbm.fit(X_train, y_train)"
   ]
  },
  {
   "cell_type": "code",
   "execution_count": 94,
   "id": "2dbf3722",
   "metadata": {
    "ExecuteTime": {
     "end_time": "2022-06-02T18:30:40.268822Z",
     "start_time": "2022-06-02T18:30:40.249462Z"
    }
   },
   "outputs": [],
   "source": [
    "y_pred = y_scaler.inverse_transform([gbm.predict(X_test)])\n",
    "y_pred_gbm = np.expm1(y_pred)"
   ]
  },
  {
   "cell_type": "markdown",
   "id": "edf82d86",
   "metadata": {},
   "source": [
    "## votingRegressor"
   ]
  },
  {
   "cell_type": "code",
   "execution_count": 147,
   "id": "9d3da89e",
   "metadata": {
    "ExecuteTime": {
     "end_time": "2022-06-02T18:46:25.133452Z",
     "start_time": "2022-06-02T18:46:25.120444Z"
    }
   },
   "outputs": [],
   "source": [
    "vot = VotingRegressor(estimators = [('br', br), ('xgb' ,xgb), ('gbr', gbr), ('et', et)], weights = [.2, .4, .1, .3])"
   ]
  },
  {
   "cell_type": "code",
   "execution_count": 148,
   "id": "b88916da",
   "metadata": {
    "ExecuteTime": {
     "end_time": "2022-06-02T18:46:28.108835Z",
     "start_time": "2022-06-02T18:46:25.885778Z"
    }
   },
   "outputs": [
    {
     "data": {
      "text/plain": [
       "VotingRegressor(estimators=[('br', BayesianRidge()),\n",
       "                            ('xgb',\n",
       "                             XGBRegressor(base_score=0.5, booster='gbtree',\n",
       "                                          colsample_bylevel=1,\n",
       "                                          colsample_bynode=1,\n",
       "                                          colsample_bytree=0.6086311591938874,\n",
       "                                          gamma=4.4823554111740975, gpu_id=-1,\n",
       "                                          importance_type='gain',\n",
       "                                          interaction_constraints='',\n",
       "                                          learning_rate=0.06756917692030592,\n",
       "                                          max_delta_step=0, max_depth=9,\n",
       "                                          min_child_weight=1, missi...\n",
       "                                          monotone_constraints='()',\n",
       "                                          n_estimators=91, n_jobs=16,\n",
       "                                          num_parallel_tree=1, random_state=42,\n",
       "                                          reg_alpha=0, reg_lambda=1,\n",
       "                                          scale_pos_weight=1,\n",
       "                                          subsample=0.5084855077624653,\n",
       "                                          tree_method='exact',\n",
       "                                          validate_parameters=1,\n",
       "                                          verbosity=None)),\n",
       "                            ('gbr',\n",
       "                             GradientBoostingRegressor(random_state=8293)),\n",
       "                            ('et',\n",
       "                             ExtraTreesRegressor(max_depth=2, n_estimators=1000,\n",
       "                                                 random_state=42))],\n",
       "                weights=[0.2, 0.4, 0.1, 0.3])"
      ]
     },
     "execution_count": 148,
     "metadata": {},
     "output_type": "execute_result"
    }
   ],
   "source": [
    "vot.fit(X_train, y_train)"
   ]
  },
  {
   "cell_type": "code",
   "execution_count": 149,
   "id": "67c20711",
   "metadata": {
    "ExecuteTime": {
     "end_time": "2022-06-02T18:46:30.063769Z",
     "start_time": "2022-06-02T18:46:29.982346Z"
    }
   },
   "outputs": [],
   "source": [
    "y_pred = y_scaler.inverse_transform([vot.predict(X_test)])\n",
    "y_pred_vot = np.expm1(y_pred)"
   ]
  },
  {
   "cell_type": "markdown",
   "id": "40d1d784",
   "metadata": {},
   "source": [
    "## 앙상블"
   ]
  },
  {
   "cell_type": "code",
   "execution_count": 105,
   "id": "e088169e",
   "metadata": {
    "ExecuteTime": {
     "end_time": "2022-06-02T18:37:17.913484Z",
     "start_time": "2022-06-02T18:37:17.898340Z"
    }
   },
   "outputs": [
    {
     "data": {
      "text/html": [
       "<div>\n",
       "<style scoped>\n",
       "    .dataframe tbody tr th:only-of-type {\n",
       "        vertical-align: middle;\n",
       "    }\n",
       "\n",
       "    .dataframe tbody tr th {\n",
       "        vertical-align: top;\n",
       "    }\n",
       "\n",
       "    .dataframe thead th {\n",
       "        text-align: right;\n",
       "    }\n",
       "</style>\n",
       "<table border=\"1\" class=\"dataframe\">\n",
       "  <thead>\n",
       "    <tr style=\"text-align: right;\">\n",
       "      <th></th>\n",
       "      <th>id</th>\n",
       "      <th>target</th>\n",
       "    </tr>\n",
       "  </thead>\n",
       "  <tbody>\n",
       "    <tr>\n",
       "      <th>0</th>\n",
       "      <td>0</td>\n",
       "      <td>0</td>\n",
       "    </tr>\n",
       "    <tr>\n",
       "      <th>1</th>\n",
       "      <td>1</td>\n",
       "      <td>0</td>\n",
       "    </tr>\n",
       "    <tr>\n",
       "      <th>2</th>\n",
       "      <td>2</td>\n",
       "      <td>0</td>\n",
       "    </tr>\n",
       "    <tr>\n",
       "      <th>3</th>\n",
       "      <td>3</td>\n",
       "      <td>0</td>\n",
       "    </tr>\n",
       "    <tr>\n",
       "      <th>4</th>\n",
       "      <td>4</td>\n",
       "      <td>0</td>\n",
       "    </tr>\n",
       "    <tr>\n",
       "      <th>...</th>\n",
       "      <td>...</td>\n",
       "      <td>...</td>\n",
       "    </tr>\n",
       "    <tr>\n",
       "      <th>431</th>\n",
       "      <td>431</td>\n",
       "      <td>0</td>\n",
       "    </tr>\n",
       "    <tr>\n",
       "      <th>432</th>\n",
       "      <td>432</td>\n",
       "      <td>0</td>\n",
       "    </tr>\n",
       "    <tr>\n",
       "      <th>433</th>\n",
       "      <td>433</td>\n",
       "      <td>0</td>\n",
       "    </tr>\n",
       "    <tr>\n",
       "      <th>434</th>\n",
       "      <td>434</td>\n",
       "      <td>0</td>\n",
       "    </tr>\n",
       "    <tr>\n",
       "      <th>435</th>\n",
       "      <td>435</td>\n",
       "      <td>0</td>\n",
       "    </tr>\n",
       "  </tbody>\n",
       "</table>\n",
       "<p>436 rows × 2 columns</p>\n",
       "</div>"
      ],
      "text/plain": [
       "      id  target\n",
       "0      0       0\n",
       "1      1       0\n",
       "2      2       0\n",
       "3      3       0\n",
       "4      4       0\n",
       "..   ...     ...\n",
       "431  431       0\n",
       "432  432       0\n",
       "433  433       0\n",
       "434  434       0\n",
       "435  435       0\n",
       "\n",
       "[436 rows x 2 columns]"
      ]
     },
     "execution_count": 105,
     "metadata": {},
     "output_type": "execute_result"
    }
   ],
   "source": [
    "submission"
   ]
  },
  {
   "cell_type": "code",
   "execution_count": 166,
   "id": "e0ee4945",
   "metadata": {
    "ExecuteTime": {
     "end_time": "2022-06-02T18:50:59.863468Z",
     "start_time": "2022-06-02T18:50:59.848032Z"
    }
   },
   "outputs": [],
   "source": [
    "temp = (y_pred_xgb*y_pred_br*y_pred_et*y_pred_gbm*y_pred_vot) ** (1/5)"
   ]
  },
  {
   "cell_type": "code",
   "execution_count": 167,
   "id": "cc703849",
   "metadata": {
    "ExecuteTime": {
     "end_time": "2022-06-02T18:51:07.883147Z",
     "start_time": "2022-06-02T18:51:07.870146Z"
    }
   },
   "outputs": [],
   "source": [
    "temp = temp.reshape(-1)\n",
    "submission['target'] = temp"
   ]
  },
  {
   "cell_type": "code",
   "execution_count": 168,
   "id": "ef114a3f",
   "metadata": {
    "ExecuteTime": {
     "end_time": "2022-06-02T18:51:09.196971Z",
     "start_time": "2022-06-02T18:51:09.165959Z"
    }
   },
   "outputs": [
    {
     "data": {
      "text/html": [
       "<div>\n",
       "<style scoped>\n",
       "    .dataframe tbody tr th:only-of-type {\n",
       "        vertical-align: middle;\n",
       "    }\n",
       "\n",
       "    .dataframe tbody tr th {\n",
       "        vertical-align: top;\n",
       "    }\n",
       "\n",
       "    .dataframe thead th {\n",
       "        text-align: right;\n",
       "    }\n",
       "</style>\n",
       "<table border=\"1\" class=\"dataframe\">\n",
       "  <thead>\n",
       "    <tr style=\"text-align: right;\">\n",
       "      <th></th>\n",
       "      <th>id</th>\n",
       "      <th>target</th>\n",
       "    </tr>\n",
       "  </thead>\n",
       "  <tbody>\n",
       "    <tr>\n",
       "      <th>0</th>\n",
       "      <td>0</td>\n",
       "      <td>1.073861e+07</td>\n",
       "    </tr>\n",
       "    <tr>\n",
       "      <th>1</th>\n",
       "      <td>1</td>\n",
       "      <td>5.247044e+06</td>\n",
       "    </tr>\n",
       "    <tr>\n",
       "      <th>2</th>\n",
       "      <td>2</td>\n",
       "      <td>5.937264e+06</td>\n",
       "    </tr>\n",
       "    <tr>\n",
       "      <th>3</th>\n",
       "      <td>3</td>\n",
       "      <td>2.226318e+06</td>\n",
       "    </tr>\n",
       "    <tr>\n",
       "      <th>4</th>\n",
       "      <td>4</td>\n",
       "      <td>3.850711e+06</td>\n",
       "    </tr>\n",
       "    <tr>\n",
       "      <th>...</th>\n",
       "      <td>...</td>\n",
       "      <td>...</td>\n",
       "    </tr>\n",
       "    <tr>\n",
       "      <th>431</th>\n",
       "      <td>431</td>\n",
       "      <td>6.972575e+06</td>\n",
       "    </tr>\n",
       "    <tr>\n",
       "      <th>432</th>\n",
       "      <td>432</td>\n",
       "      <td>5.103097e+06</td>\n",
       "    </tr>\n",
       "    <tr>\n",
       "      <th>433</th>\n",
       "      <td>433</td>\n",
       "      <td>6.523353e+06</td>\n",
       "    </tr>\n",
       "    <tr>\n",
       "      <th>434</th>\n",
       "      <td>434</td>\n",
       "      <td>3.988343e+06</td>\n",
       "    </tr>\n",
       "    <tr>\n",
       "      <th>435</th>\n",
       "      <td>435</td>\n",
       "      <td>4.817552e+06</td>\n",
       "    </tr>\n",
       "  </tbody>\n",
       "</table>\n",
       "<p>436 rows × 2 columns</p>\n",
       "</div>"
      ],
      "text/plain": [
       "      id        target\n",
       "0      0  1.073861e+07\n",
       "1      1  5.247044e+06\n",
       "2      2  5.937264e+06\n",
       "3      3  2.226318e+06\n",
       "4      4  3.850711e+06\n",
       "..   ...           ...\n",
       "431  431  6.972575e+06\n",
       "432  432  5.103097e+06\n",
       "433  433  6.523353e+06\n",
       "434  434  3.988343e+06\n",
       "435  435  4.817552e+06\n",
       "\n",
       "[436 rows x 2 columns]"
      ]
     },
     "execution_count": 168,
     "metadata": {},
     "output_type": "execute_result"
    }
   ],
   "source": [
    "submission.to_csv(\"submission_8.csv\", index=False)\n",
    "pd.read_csv(\"submission_8.csv\")"
   ]
  },
  {
   "cell_type": "code",
   "execution_count": null,
   "id": "d44e0e06",
   "metadata": {},
   "outputs": [],
   "source": []
  },
  {
   "cell_type": "code",
   "execution_count": 142,
   "id": "be11adb9",
   "metadata": {
    "ExecuteTime": {
     "end_time": "2022-06-02T18:44:50.236632Z",
     "start_time": "2022-06-02T18:44:50.231638Z"
    }
   },
   "outputs": [],
   "source": [
    " gbr = GradientBoostingRegressor(alpha=0.9, ccp_alpha=0.0,\n",
    "                           init=None, learning_rate=0.1, loss='ls', max_depth=3,\n",
    "                           max_features=None, max_leaf_nodes=None,\n",
    "                           min_impurity_decrease=0.0, min_impurity_split=None,\n",
    "                           min_samples_leaf=1, min_samples_split=2,\n",
    "                           min_weight_fraction_leaf=0.0, n_estimators=100,\n",
    "                           n_iter_no_change=None,\n",
    "                           random_state=8293, subsample=1.0, tol=0.0001,\n",
    "                           validation_fraction=0.1, verbose=0, warm_start=False)"
   ]
  },
  {
   "cell_type": "code",
   "execution_count": 143,
   "id": "b0ca460a",
   "metadata": {
    "ExecuteTime": {
     "end_time": "2022-06-02T18:44:52.582643Z",
     "start_time": "2022-06-02T18:44:52.290087Z"
    }
   },
   "outputs": [
    {
     "data": {
      "text/plain": [
       "GradientBoostingRegressor(random_state=8293)"
      ]
     },
     "execution_count": 143,
     "metadata": {},
     "output_type": "execute_result"
    }
   ],
   "source": [
    "gbr.fit(X_train,y_train)"
   ]
  },
  {
   "cell_type": "code",
   "execution_count": 145,
   "id": "de529e37",
   "metadata": {
    "ExecuteTime": {
     "end_time": "2022-06-02T18:45:49.293984Z",
     "start_time": "2022-06-02T18:45:49.269050Z"
    }
   },
   "outputs": [],
   "source": [
    "y_pred = y_scaler.inverse_transform([gbr.predict(X_test)])\n",
    "y_pred_gbr = np.expm1(y_pred)"
   ]
  },
  {
   "cell_type": "code",
   "execution_count": null,
   "id": "22ab1b3a",
   "metadata": {},
   "outputs": [],
   "source": []
  },
  {
   "cell_type": "code",
   "execution_count": null,
   "id": "5501088a",
   "metadata": {},
   "outputs": [],
   "source": []
  },
  {
   "cell_type": "code",
   "execution_count": null,
   "id": "1c7a6d5e",
   "metadata": {},
   "outputs": [],
   "source": []
  },
  {
   "cell_type": "code",
   "execution_count": null,
   "id": "3ef62dbc",
   "metadata": {},
   "outputs": [],
   "source": []
  },
  {
   "cell_type": "code",
   "execution_count": null,
   "id": "dc1b432e",
   "metadata": {},
   "outputs": [],
   "source": []
  },
  {
   "cell_type": "code",
   "execution_count": null,
   "id": "2266dbbf",
   "metadata": {},
   "outputs": [],
   "source": []
  },
  {
   "cell_type": "code",
   "execution_count": 47,
   "id": "ee004891",
   "metadata": {
    "ExecuteTime": {
     "end_time": "2022-06-02T18:55:59.215763Z",
     "start_time": "2022-06-02T18:55:59.201058Z"
    }
   },
   "outputs": [],
   "source": [
    "X_train = all_data[~all_data[\"log_target\"].isnull()]\n",
    "X_test = all_data[all_data[\"log_target\"].isnull()]\n",
    "X_test = X_test.reset_index()\n",
    "X_test = X_test.drop([\"log_target\",\"index\"], axis=1)"
   ]
  },
  {
   "cell_type": "code",
   "execution_count": 48,
   "id": "f68fef8d",
   "metadata": {
    "ExecuteTime": {
     "end_time": "2022-06-02T18:55:59.800507Z",
     "start_time": "2022-06-02T18:55:59.784692Z"
    }
   },
   "outputs": [
    {
     "data": {
      "text/html": [
       "<div>\n",
       "<style scoped>\n",
       "    .dataframe tbody tr th:only-of-type {\n",
       "        vertical-align: middle;\n",
       "    }\n",
       "\n",
       "    .dataframe tbody tr th {\n",
       "        vertical-align: top;\n",
       "    }\n",
       "\n",
       "    .dataframe thead th {\n",
       "        text-align: right;\n",
       "    }\n",
       "</style>\n",
       "<table border=\"1\" class=\"dataframe\">\n",
       "  <thead>\n",
       "    <tr style=\"text-align: right;\">\n",
       "      <th></th>\n",
       "      <th>title</th>\n",
       "      <th>odometer</th>\n",
       "      <th>location</th>\n",
       "      <th>isimported</th>\n",
       "      <th>transmission</th>\n",
       "      <th>fuel</th>\n",
       "      <th>paint</th>\n",
       "      <th>log_target</th>\n",
       "      <th>com</th>\n",
       "      <th>new</th>\n",
       "      <th>too_old</th>\n",
       "      <th>old</th>\n",
       "      <th>engine_type</th>\n",
       "      <th>cylinder</th>\n",
       "    </tr>\n",
       "  </thead>\n",
       "  <tbody>\n",
       "    <tr>\n",
       "      <th>0</th>\n",
       "      <td>TOYOTA RAV 4</td>\n",
       "      <td>18277</td>\n",
       "      <td>Lagos</td>\n",
       "      <td>Foreign Used</td>\n",
       "      <td>automatic</td>\n",
       "      <td>petrol</td>\n",
       "      <td>red</td>\n",
       "      <td>16.430348</td>\n",
       "      <td>TOYOTA</td>\n",
       "      <td>1</td>\n",
       "      <td>0</td>\n",
       "      <td>4</td>\n",
       "      <td>I</td>\n",
       "      <td>4</td>\n",
       "    </tr>\n",
       "    <tr>\n",
       "      <th>1</th>\n",
       "      <td>TOYOTA LAND CRUISER</td>\n",
       "      <td>10</td>\n",
       "      <td>Lagos</td>\n",
       "      <td>New</td>\n",
       "      <td>automatic</td>\n",
       "      <td>petrol</td>\n",
       "      <td>black</td>\n",
       "      <td>17.312473</td>\n",
       "      <td>TOYOTA</td>\n",
       "      <td>1</td>\n",
       "      <td>0</td>\n",
       "      <td>1</td>\n",
       "      <td>I</td>\n",
       "      <td>4</td>\n",
       "    </tr>\n",
       "    <tr>\n",
       "      <th>2</th>\n",
       "      <td>LAND ROVER RANGE ROVER EVOQUE</td>\n",
       "      <td>83091</td>\n",
       "      <td>Lagos</td>\n",
       "      <td>Foreign Used</td>\n",
       "      <td>automatic</td>\n",
       "      <td>petrol</td>\n",
       "      <td>red</td>\n",
       "      <td>16.109559</td>\n",
       "      <td>LAND</td>\n",
       "      <td>1</td>\n",
       "      <td>1</td>\n",
       "      <td>8</td>\n",
       "      <td>V</td>\n",
       "      <td>6</td>\n",
       "    </tr>\n",
       "  </tbody>\n",
       "</table>\n",
       "</div>"
      ],
      "text/plain": [
       "                           title  odometer location    isimported  \\\n",
       "0                   TOYOTA RAV 4     18277   Lagos   Foreign Used   \n",
       "1            TOYOTA LAND CRUISER        10    Lagos          New    \n",
       "2  LAND ROVER RANGE ROVER EVOQUE     83091    Lagos  Foreign Used   \n",
       "\n",
       "  transmission    fuel  paint  log_target     com  new  too_old  old  \\\n",
       "0    automatic  petrol    red   16.430348  TOYOTA    1        0    4   \n",
       "1    automatic  petrol  black   17.312473  TOYOTA    1        0    1   \n",
       "2    automatic  petrol    red   16.109559    LAND    1        1    8   \n",
       "\n",
       "  engine_type cylinder  \n",
       "0           I        4  \n",
       "1           I        4  \n",
       "2           V        6  "
      ]
     },
     "execution_count": 48,
     "metadata": {},
     "output_type": "execute_result"
    }
   ],
   "source": [
    "X_train.head(3)"
   ]
  },
  {
   "cell_type": "code",
   "execution_count": 49,
   "id": "5971f669",
   "metadata": {
    "ExecuteTime": {
     "end_time": "2022-06-02T18:56:00.130196Z",
     "start_time": "2022-06-02T18:56:00.104186Z"
    }
   },
   "outputs": [
    {
     "data": {
      "text/html": [
       "<div>\n",
       "<style scoped>\n",
       "    .dataframe tbody tr th:only-of-type {\n",
       "        vertical-align: middle;\n",
       "    }\n",
       "\n",
       "    .dataframe tbody tr th {\n",
       "        vertical-align: top;\n",
       "    }\n",
       "\n",
       "    .dataframe thead th {\n",
       "        text-align: right;\n",
       "    }\n",
       "</style>\n",
       "<table border=\"1\" class=\"dataframe\">\n",
       "  <thead>\n",
       "    <tr style=\"text-align: right;\">\n",
       "      <th></th>\n",
       "      <th>title</th>\n",
       "      <th>odometer</th>\n",
       "      <th>location</th>\n",
       "      <th>isimported</th>\n",
       "      <th>transmission</th>\n",
       "      <th>fuel</th>\n",
       "      <th>paint</th>\n",
       "      <th>com</th>\n",
       "      <th>new</th>\n",
       "      <th>too_old</th>\n",
       "      <th>old</th>\n",
       "      <th>engine_type</th>\n",
       "      <th>cylinder</th>\n",
       "    </tr>\n",
       "  </thead>\n",
       "  <tbody>\n",
       "    <tr>\n",
       "      <th>0</th>\n",
       "      <td>MERCEDES-BENZ C 300</td>\n",
       "      <td>1234</td>\n",
       "      <td>Abuja</td>\n",
       "      <td>New</td>\n",
       "      <td>automatic</td>\n",
       "      <td>petrol</td>\n",
       "      <td>white</td>\n",
       "      <td>MERCEDES-BENZ</td>\n",
       "      <td>1</td>\n",
       "      <td>0</td>\n",
       "      <td>3</td>\n",
       "      <td>I</td>\n",
       "      <td>4</td>\n",
       "    </tr>\n",
       "    <tr>\n",
       "      <th>1</th>\n",
       "      <td>HONDA ACCORD</td>\n",
       "      <td>29938</td>\n",
       "      <td>Abuja</td>\n",
       "      <td>Foreign Used</td>\n",
       "      <td>automatic</td>\n",
       "      <td>petrol</td>\n",
       "      <td>white</td>\n",
       "      <td>HONDA</td>\n",
       "      <td>1</td>\n",
       "      <td>1</td>\n",
       "      <td>7</td>\n",
       "      <td>I</td>\n",
       "      <td>4</td>\n",
       "    </tr>\n",
       "    <tr>\n",
       "      <th>2</th>\n",
       "      <td>MERCEDES-BENZ S 550</td>\n",
       "      <td>87501</td>\n",
       "      <td>Lagos</td>\n",
       "      <td>Foreign Used</td>\n",
       "      <td>automatic</td>\n",
       "      <td>petrol</td>\n",
       "      <td>black</td>\n",
       "      <td>MERCEDES-BENZ</td>\n",
       "      <td>1</td>\n",
       "      <td>1</td>\n",
       "      <td>8</td>\n",
       "      <td>I</td>\n",
       "      <td>4</td>\n",
       "    </tr>\n",
       "    <tr>\n",
       "      <th>3</th>\n",
       "      <td>TOYOTA SIENNA</td>\n",
       "      <td>180894</td>\n",
       "      <td>Lagos</td>\n",
       "      <td>Locally used</td>\n",
       "      <td>automatic</td>\n",
       "      <td>petrol</td>\n",
       "      <td>grey</td>\n",
       "      <td>TOYOTA</td>\n",
       "      <td>1</td>\n",
       "      <td>1</td>\n",
       "      <td>19</td>\n",
       "      <td>V</td>\n",
       "      <td>6</td>\n",
       "    </tr>\n",
       "    <tr>\n",
       "      <th>4</th>\n",
       "      <td>TOYOTA HIACE</td>\n",
       "      <td>104814</td>\n",
       "      <td>Lagos</td>\n",
       "      <td>Foreign Used</td>\n",
       "      <td>automatic</td>\n",
       "      <td>petrol</td>\n",
       "      <td>white</td>\n",
       "      <td>TOYOTA</td>\n",
       "      <td>1</td>\n",
       "      <td>1</td>\n",
       "      <td>20</td>\n",
       "      <td>I</td>\n",
       "      <td>4</td>\n",
       "    </tr>\n",
       "    <tr>\n",
       "      <th>...</th>\n",
       "      <td>...</td>\n",
       "      <td>...</td>\n",
       "      <td>...</td>\n",
       "      <td>...</td>\n",
       "      <td>...</td>\n",
       "      <td>...</td>\n",
       "      <td>...</td>\n",
       "      <td>...</td>\n",
       "      <td>...</td>\n",
       "      <td>...</td>\n",
       "      <td>...</td>\n",
       "      <td>...</td>\n",
       "      <td>...</td>\n",
       "    </tr>\n",
       "    <tr>\n",
       "      <th>431</th>\n",
       "      <td>MERCEDES-BENZ GLK 350</td>\n",
       "      <td>78175</td>\n",
       "      <td>Lagos</td>\n",
       "      <td>Foreign Used</td>\n",
       "      <td>automatic</td>\n",
       "      <td>petrol</td>\n",
       "      <td>blue</td>\n",
       "      <td>MERCEDES-BENZ</td>\n",
       "      <td>1</td>\n",
       "      <td>1</td>\n",
       "      <td>6</td>\n",
       "      <td>V</td>\n",
       "      <td>6</td>\n",
       "    </tr>\n",
       "    <tr>\n",
       "      <th>432</th>\n",
       "      <td>HONDA CROSSTOUR</td>\n",
       "      <td>129223</td>\n",
       "      <td>Lagos</td>\n",
       "      <td>Foreign Used</td>\n",
       "      <td>automatic</td>\n",
       "      <td>petrol</td>\n",
       "      <td>red</td>\n",
       "      <td>HONDA</td>\n",
       "      <td>1</td>\n",
       "      <td>1</td>\n",
       "      <td>9</td>\n",
       "      <td>V</td>\n",
       "      <td>6</td>\n",
       "    </tr>\n",
       "    <tr>\n",
       "      <th>433</th>\n",
       "      <td>MERCEDES-BENZ ML 350</td>\n",
       "      <td>100943</td>\n",
       "      <td>Lagos</td>\n",
       "      <td>Foreign Used</td>\n",
       "      <td>automatic</td>\n",
       "      <td>petrol</td>\n",
       "      <td>black</td>\n",
       "      <td>MERCEDES-BENZ</td>\n",
       "      <td>1</td>\n",
       "      <td>1</td>\n",
       "      <td>7</td>\n",
       "      <td>I</td>\n",
       "      <td>4</td>\n",
       "    </tr>\n",
       "    <tr>\n",
       "      <th>434</th>\n",
       "      <td>LEXUS GX 470</td>\n",
       "      <td>81463</td>\n",
       "      <td>Lagos</td>\n",
       "      <td>Foreign Used</td>\n",
       "      <td>automatic</td>\n",
       "      <td>petrol</td>\n",
       "      <td>green</td>\n",
       "      <td>LEXUS</td>\n",
       "      <td>1</td>\n",
       "      <td>1</td>\n",
       "      <td>17</td>\n",
       "      <td>I</td>\n",
       "      <td>4</td>\n",
       "    </tr>\n",
       "    <tr>\n",
       "      <th>435</th>\n",
       "      <td>TOYOTA SIENNA</td>\n",
       "      <td>646</td>\n",
       "      <td>Lagos</td>\n",
       "      <td>Foreign Used</td>\n",
       "      <td>automatic</td>\n",
       "      <td>petrol</td>\n",
       "      <td>silver</td>\n",
       "      <td>TOYOTA</td>\n",
       "      <td>1</td>\n",
       "      <td>0</td>\n",
       "      <td>14</td>\n",
       "      <td>V</td>\n",
       "      <td>6</td>\n",
       "    </tr>\n",
       "  </tbody>\n",
       "</table>\n",
       "<p>436 rows × 13 columns</p>\n",
       "</div>"
      ],
      "text/plain": [
       "                     title  odometer location    isimported transmission  \\\n",
       "0      MERCEDES-BENZ C 300      1234    Abuja          New     automatic   \n",
       "1             HONDA ACCORD     29938    Abuja  Foreign Used    automatic   \n",
       "2      MERCEDES-BENZ S 550     87501    Lagos  Foreign Used    automatic   \n",
       "3            TOYOTA SIENNA    180894    Lagos  Locally used    automatic   \n",
       "4             TOYOTA HIACE    104814    Lagos  Foreign Used    automatic   \n",
       "..                     ...       ...      ...           ...          ...   \n",
       "431  MERCEDES-BENZ GLK 350     78175    Lagos  Foreign Used    automatic   \n",
       "432        HONDA CROSSTOUR    129223    Lagos  Foreign Used    automatic   \n",
       "433   MERCEDES-BENZ ML 350    100943    Lagos  Foreign Used    automatic   \n",
       "434           LEXUS GX 470     81463    Lagos  Foreign Used    automatic   \n",
       "435          TOYOTA SIENNA       646    Lagos  Foreign Used    automatic   \n",
       "\n",
       "       fuel   paint            com  new  too_old  old engine_type cylinder  \n",
       "0    petrol   white  MERCEDES-BENZ    1        0    3           I        4  \n",
       "1    petrol   white          HONDA    1        1    7           I        4  \n",
       "2    petrol   black  MERCEDES-BENZ    1        1    8           I        4  \n",
       "3    petrol    grey         TOYOTA    1        1   19           V        6  \n",
       "4    petrol   white         TOYOTA    1        1   20           I        4  \n",
       "..      ...     ...            ...  ...      ...  ...         ...      ...  \n",
       "431  petrol    blue  MERCEDES-BENZ    1        1    6           V        6  \n",
       "432  petrol     red          HONDA    1        1    9           V        6  \n",
       "433  petrol   black  MERCEDES-BENZ    1        1    7           I        4  \n",
       "434  petrol   green          LEXUS    1        1   17           I        4  \n",
       "435  petrol  silver         TOYOTA    1        0   14           V        6  \n",
       "\n",
       "[436 rows x 13 columns]"
      ]
     },
     "execution_count": 49,
     "metadata": {},
     "output_type": "execute_result"
    }
   ],
   "source": [
    "X_test"
   ]
  },
  {
   "cell_type": "code",
   "execution_count": 50,
   "id": "c8b913c1",
   "metadata": {
    "ExecuteTime": {
     "end_time": "2022-06-02T18:56:16.628248Z",
     "start_time": "2022-06-02T18:56:15.401014Z"
    }
   },
   "outputs": [],
   "source": [
    "from pycaret.regression import *"
   ]
  },
  {
   "cell_type": "code",
   "execution_count": 51,
   "id": "c3c5b3ca",
   "metadata": {
    "ExecuteTime": {
     "end_time": "2022-06-02T18:56:27.852096Z",
     "start_time": "2022-06-02T18:56:25.520058Z"
    }
   },
   "outputs": [
    {
     "data": {
      "text/html": [
       "<style type=\"text/css\">\n",
       "#T_c394f_row42_col1 {\n",
       "  background-color: lightgreen;\n",
       "}\n",
       "</style>\n",
       "<table id=\"T_c394f\">\n",
       "  <thead>\n",
       "    <tr>\n",
       "      <th class=\"blank level0\" >&nbsp;</th>\n",
       "      <th id=\"T_c394f_level0_col0\" class=\"col_heading level0 col0\" >Description</th>\n",
       "      <th id=\"T_c394f_level0_col1\" class=\"col_heading level0 col1\" >Value</th>\n",
       "    </tr>\n",
       "  </thead>\n",
       "  <tbody>\n",
       "    <tr>\n",
       "      <th id=\"T_c394f_level0_row0\" class=\"row_heading level0 row0\" >0</th>\n",
       "      <td id=\"T_c394f_row0_col0\" class=\"data row0 col0\" >session_id</td>\n",
       "      <td id=\"T_c394f_row0_col1\" class=\"data row0 col1\" >615</td>\n",
       "    </tr>\n",
       "    <tr>\n",
       "      <th id=\"T_c394f_level0_row1\" class=\"row_heading level0 row1\" >1</th>\n",
       "      <td id=\"T_c394f_row1_col0\" class=\"data row1 col0\" >Target</td>\n",
       "      <td id=\"T_c394f_row1_col1\" class=\"data row1 col1\" >log_target</td>\n",
       "    </tr>\n",
       "    <tr>\n",
       "      <th id=\"T_c394f_level0_row2\" class=\"row_heading level0 row2\" >2</th>\n",
       "      <td id=\"T_c394f_row2_col0\" class=\"data row2 col0\" >Original Data</td>\n",
       "      <td id=\"T_c394f_row2_col1\" class=\"data row2 col1\" >(1015, 14)</td>\n",
       "    </tr>\n",
       "    <tr>\n",
       "      <th id=\"T_c394f_level0_row3\" class=\"row_heading level0 row3\" >3</th>\n",
       "      <td id=\"T_c394f_row3_col0\" class=\"data row3 col0\" >Missing Values</td>\n",
       "      <td id=\"T_c394f_row3_col1\" class=\"data row3 col1\" >False</td>\n",
       "    </tr>\n",
       "    <tr>\n",
       "      <th id=\"T_c394f_level0_row4\" class=\"row_heading level0 row4\" >4</th>\n",
       "      <td id=\"T_c394f_row4_col0\" class=\"data row4 col0\" >Numeric Features</td>\n",
       "      <td id=\"T_c394f_row4_col1\" class=\"data row4 col1\" >3</td>\n",
       "    </tr>\n",
       "    <tr>\n",
       "      <th id=\"T_c394f_level0_row5\" class=\"row_heading level0 row5\" >5</th>\n",
       "      <td id=\"T_c394f_row5_col0\" class=\"data row5 col0\" >Categorical Features</td>\n",
       "      <td id=\"T_c394f_row5_col1\" class=\"data row5 col1\" >10</td>\n",
       "    </tr>\n",
       "    <tr>\n",
       "      <th id=\"T_c394f_level0_row6\" class=\"row_heading level0 row6\" >6</th>\n",
       "      <td id=\"T_c394f_row6_col0\" class=\"data row6 col0\" >Ordinal Features</td>\n",
       "      <td id=\"T_c394f_row6_col1\" class=\"data row6 col1\" >False</td>\n",
       "    </tr>\n",
       "    <tr>\n",
       "      <th id=\"T_c394f_level0_row7\" class=\"row_heading level0 row7\" >7</th>\n",
       "      <td id=\"T_c394f_row7_col0\" class=\"data row7 col0\" >High Cardinality Features</td>\n",
       "      <td id=\"T_c394f_row7_col1\" class=\"data row7 col1\" >False</td>\n",
       "    </tr>\n",
       "    <tr>\n",
       "      <th id=\"T_c394f_level0_row8\" class=\"row_heading level0 row8\" >8</th>\n",
       "      <td id=\"T_c394f_row8_col0\" class=\"data row8 col0\" >High Cardinality Method</td>\n",
       "      <td id=\"T_c394f_row8_col1\" class=\"data row8 col1\" >None</td>\n",
       "    </tr>\n",
       "    <tr>\n",
       "      <th id=\"T_c394f_level0_row9\" class=\"row_heading level0 row9\" >9</th>\n",
       "      <td id=\"T_c394f_row9_col0\" class=\"data row9 col0\" >Transformed Train Set</td>\n",
       "      <td id=\"T_c394f_row9_col1\" class=\"data row9 col1\" >(812, 245)</td>\n",
       "    </tr>\n",
       "    <tr>\n",
       "      <th id=\"T_c394f_level0_row10\" class=\"row_heading level0 row10\" >10</th>\n",
       "      <td id=\"T_c394f_row10_col0\" class=\"data row10 col0\" >Transformed Test Set</td>\n",
       "      <td id=\"T_c394f_row10_col1\" class=\"data row10 col1\" >(203, 245)</td>\n",
       "    </tr>\n",
       "    <tr>\n",
       "      <th id=\"T_c394f_level0_row11\" class=\"row_heading level0 row11\" >11</th>\n",
       "      <td id=\"T_c394f_row11_col0\" class=\"data row11 col0\" >Shuffle Train-Test</td>\n",
       "      <td id=\"T_c394f_row11_col1\" class=\"data row11 col1\" >True</td>\n",
       "    </tr>\n",
       "    <tr>\n",
       "      <th id=\"T_c394f_level0_row12\" class=\"row_heading level0 row12\" >12</th>\n",
       "      <td id=\"T_c394f_row12_col0\" class=\"data row12 col0\" >Stratify Train-Test</td>\n",
       "      <td id=\"T_c394f_row12_col1\" class=\"data row12 col1\" >False</td>\n",
       "    </tr>\n",
       "    <tr>\n",
       "      <th id=\"T_c394f_level0_row13\" class=\"row_heading level0 row13\" >13</th>\n",
       "      <td id=\"T_c394f_row13_col0\" class=\"data row13 col0\" >Fold Generator</td>\n",
       "      <td id=\"T_c394f_row13_col1\" class=\"data row13 col1\" >KFold</td>\n",
       "    </tr>\n",
       "    <tr>\n",
       "      <th id=\"T_c394f_level0_row14\" class=\"row_heading level0 row14\" >14</th>\n",
       "      <td id=\"T_c394f_row14_col0\" class=\"data row14 col0\" >Fold Number</td>\n",
       "      <td id=\"T_c394f_row14_col1\" class=\"data row14 col1\" >10</td>\n",
       "    </tr>\n",
       "    <tr>\n",
       "      <th id=\"T_c394f_level0_row15\" class=\"row_heading level0 row15\" >15</th>\n",
       "      <td id=\"T_c394f_row15_col0\" class=\"data row15 col0\" >CPU Jobs</td>\n",
       "      <td id=\"T_c394f_row15_col1\" class=\"data row15 col1\" >-1</td>\n",
       "    </tr>\n",
       "    <tr>\n",
       "      <th id=\"T_c394f_level0_row16\" class=\"row_heading level0 row16\" >16</th>\n",
       "      <td id=\"T_c394f_row16_col0\" class=\"data row16 col0\" >Use GPU</td>\n",
       "      <td id=\"T_c394f_row16_col1\" class=\"data row16 col1\" >False</td>\n",
       "    </tr>\n",
       "    <tr>\n",
       "      <th id=\"T_c394f_level0_row17\" class=\"row_heading level0 row17\" >17</th>\n",
       "      <td id=\"T_c394f_row17_col0\" class=\"data row17 col0\" >Log Experiment</td>\n",
       "      <td id=\"T_c394f_row17_col1\" class=\"data row17 col1\" >False</td>\n",
       "    </tr>\n",
       "    <tr>\n",
       "      <th id=\"T_c394f_level0_row18\" class=\"row_heading level0 row18\" >18</th>\n",
       "      <td id=\"T_c394f_row18_col0\" class=\"data row18 col0\" >Experiment Name</td>\n",
       "      <td id=\"T_c394f_row18_col1\" class=\"data row18 col1\" >reg-default-name</td>\n",
       "    </tr>\n",
       "    <tr>\n",
       "      <th id=\"T_c394f_level0_row19\" class=\"row_heading level0 row19\" >19</th>\n",
       "      <td id=\"T_c394f_row19_col0\" class=\"data row19 col0\" >USI</td>\n",
       "      <td id=\"T_c394f_row19_col1\" class=\"data row19 col1\" >c107</td>\n",
       "    </tr>\n",
       "    <tr>\n",
       "      <th id=\"T_c394f_level0_row20\" class=\"row_heading level0 row20\" >20</th>\n",
       "      <td id=\"T_c394f_row20_col0\" class=\"data row20 col0\" >Imputation Type</td>\n",
       "      <td id=\"T_c394f_row20_col1\" class=\"data row20 col1\" >simple</td>\n",
       "    </tr>\n",
       "    <tr>\n",
       "      <th id=\"T_c394f_level0_row21\" class=\"row_heading level0 row21\" >21</th>\n",
       "      <td id=\"T_c394f_row21_col0\" class=\"data row21 col0\" >Iterative Imputation Iteration</td>\n",
       "      <td id=\"T_c394f_row21_col1\" class=\"data row21 col1\" >None</td>\n",
       "    </tr>\n",
       "    <tr>\n",
       "      <th id=\"T_c394f_level0_row22\" class=\"row_heading level0 row22\" >22</th>\n",
       "      <td id=\"T_c394f_row22_col0\" class=\"data row22 col0\" >Numeric Imputer</td>\n",
       "      <td id=\"T_c394f_row22_col1\" class=\"data row22 col1\" >mean</td>\n",
       "    </tr>\n",
       "    <tr>\n",
       "      <th id=\"T_c394f_level0_row23\" class=\"row_heading level0 row23\" >23</th>\n",
       "      <td id=\"T_c394f_row23_col0\" class=\"data row23 col0\" >Iterative Imputation Numeric Model</td>\n",
       "      <td id=\"T_c394f_row23_col1\" class=\"data row23 col1\" >None</td>\n",
       "    </tr>\n",
       "    <tr>\n",
       "      <th id=\"T_c394f_level0_row24\" class=\"row_heading level0 row24\" >24</th>\n",
       "      <td id=\"T_c394f_row24_col0\" class=\"data row24 col0\" >Categorical Imputer</td>\n",
       "      <td id=\"T_c394f_row24_col1\" class=\"data row24 col1\" >constant</td>\n",
       "    </tr>\n",
       "    <tr>\n",
       "      <th id=\"T_c394f_level0_row25\" class=\"row_heading level0 row25\" >25</th>\n",
       "      <td id=\"T_c394f_row25_col0\" class=\"data row25 col0\" >Iterative Imputation Categorical Model</td>\n",
       "      <td id=\"T_c394f_row25_col1\" class=\"data row25 col1\" >None</td>\n",
       "    </tr>\n",
       "    <tr>\n",
       "      <th id=\"T_c394f_level0_row26\" class=\"row_heading level0 row26\" >26</th>\n",
       "      <td id=\"T_c394f_row26_col0\" class=\"data row26 col0\" >Unknown Categoricals Handling</td>\n",
       "      <td id=\"T_c394f_row26_col1\" class=\"data row26 col1\" >least_frequent</td>\n",
       "    </tr>\n",
       "    <tr>\n",
       "      <th id=\"T_c394f_level0_row27\" class=\"row_heading level0 row27\" >27</th>\n",
       "      <td id=\"T_c394f_row27_col0\" class=\"data row27 col0\" >Normalize</td>\n",
       "      <td id=\"T_c394f_row27_col1\" class=\"data row27 col1\" >False</td>\n",
       "    </tr>\n",
       "    <tr>\n",
       "      <th id=\"T_c394f_level0_row28\" class=\"row_heading level0 row28\" >28</th>\n",
       "      <td id=\"T_c394f_row28_col0\" class=\"data row28 col0\" >Normalize Method</td>\n",
       "      <td id=\"T_c394f_row28_col1\" class=\"data row28 col1\" >None</td>\n",
       "    </tr>\n",
       "    <tr>\n",
       "      <th id=\"T_c394f_level0_row29\" class=\"row_heading level0 row29\" >29</th>\n",
       "      <td id=\"T_c394f_row29_col0\" class=\"data row29 col0\" >Transformation</td>\n",
       "      <td id=\"T_c394f_row29_col1\" class=\"data row29 col1\" >False</td>\n",
       "    </tr>\n",
       "    <tr>\n",
       "      <th id=\"T_c394f_level0_row30\" class=\"row_heading level0 row30\" >30</th>\n",
       "      <td id=\"T_c394f_row30_col0\" class=\"data row30 col0\" >Transformation Method</td>\n",
       "      <td id=\"T_c394f_row30_col1\" class=\"data row30 col1\" >None</td>\n",
       "    </tr>\n",
       "    <tr>\n",
       "      <th id=\"T_c394f_level0_row31\" class=\"row_heading level0 row31\" >31</th>\n",
       "      <td id=\"T_c394f_row31_col0\" class=\"data row31 col0\" >PCA</td>\n",
       "      <td id=\"T_c394f_row31_col1\" class=\"data row31 col1\" >False</td>\n",
       "    </tr>\n",
       "    <tr>\n",
       "      <th id=\"T_c394f_level0_row32\" class=\"row_heading level0 row32\" >32</th>\n",
       "      <td id=\"T_c394f_row32_col0\" class=\"data row32 col0\" >PCA Method</td>\n",
       "      <td id=\"T_c394f_row32_col1\" class=\"data row32 col1\" >None</td>\n",
       "    </tr>\n",
       "    <tr>\n",
       "      <th id=\"T_c394f_level0_row33\" class=\"row_heading level0 row33\" >33</th>\n",
       "      <td id=\"T_c394f_row33_col0\" class=\"data row33 col0\" >PCA Components</td>\n",
       "      <td id=\"T_c394f_row33_col1\" class=\"data row33 col1\" >None</td>\n",
       "    </tr>\n",
       "    <tr>\n",
       "      <th id=\"T_c394f_level0_row34\" class=\"row_heading level0 row34\" >34</th>\n",
       "      <td id=\"T_c394f_row34_col0\" class=\"data row34 col0\" >Ignore Low Variance</td>\n",
       "      <td id=\"T_c394f_row34_col1\" class=\"data row34 col1\" >False</td>\n",
       "    </tr>\n",
       "    <tr>\n",
       "      <th id=\"T_c394f_level0_row35\" class=\"row_heading level0 row35\" >35</th>\n",
       "      <td id=\"T_c394f_row35_col0\" class=\"data row35 col0\" >Combine Rare Levels</td>\n",
       "      <td id=\"T_c394f_row35_col1\" class=\"data row35 col1\" >False</td>\n",
       "    </tr>\n",
       "    <tr>\n",
       "      <th id=\"T_c394f_level0_row36\" class=\"row_heading level0 row36\" >36</th>\n",
       "      <td id=\"T_c394f_row36_col0\" class=\"data row36 col0\" >Rare Level Threshold</td>\n",
       "      <td id=\"T_c394f_row36_col1\" class=\"data row36 col1\" >None</td>\n",
       "    </tr>\n",
       "    <tr>\n",
       "      <th id=\"T_c394f_level0_row37\" class=\"row_heading level0 row37\" >37</th>\n",
       "      <td id=\"T_c394f_row37_col0\" class=\"data row37 col0\" >Numeric Binning</td>\n",
       "      <td id=\"T_c394f_row37_col1\" class=\"data row37 col1\" >False</td>\n",
       "    </tr>\n",
       "    <tr>\n",
       "      <th id=\"T_c394f_level0_row38\" class=\"row_heading level0 row38\" >38</th>\n",
       "      <td id=\"T_c394f_row38_col0\" class=\"data row38 col0\" >Remove Outliers</td>\n",
       "      <td id=\"T_c394f_row38_col1\" class=\"data row38 col1\" >False</td>\n",
       "    </tr>\n",
       "    <tr>\n",
       "      <th id=\"T_c394f_level0_row39\" class=\"row_heading level0 row39\" >39</th>\n",
       "      <td id=\"T_c394f_row39_col0\" class=\"data row39 col0\" >Outliers Threshold</td>\n",
       "      <td id=\"T_c394f_row39_col1\" class=\"data row39 col1\" >None</td>\n",
       "    </tr>\n",
       "    <tr>\n",
       "      <th id=\"T_c394f_level0_row40\" class=\"row_heading level0 row40\" >40</th>\n",
       "      <td id=\"T_c394f_row40_col0\" class=\"data row40 col0\" >Remove Multicollinearity</td>\n",
       "      <td id=\"T_c394f_row40_col1\" class=\"data row40 col1\" >False</td>\n",
       "    </tr>\n",
       "    <tr>\n",
       "      <th id=\"T_c394f_level0_row41\" class=\"row_heading level0 row41\" >41</th>\n",
       "      <td id=\"T_c394f_row41_col0\" class=\"data row41 col0\" >Multicollinearity Threshold</td>\n",
       "      <td id=\"T_c394f_row41_col1\" class=\"data row41 col1\" >None</td>\n",
       "    </tr>\n",
       "    <tr>\n",
       "      <th id=\"T_c394f_level0_row42\" class=\"row_heading level0 row42\" >42</th>\n",
       "      <td id=\"T_c394f_row42_col0\" class=\"data row42 col0\" >Remove Perfect Collinearity</td>\n",
       "      <td id=\"T_c394f_row42_col1\" class=\"data row42 col1\" >True</td>\n",
       "    </tr>\n",
       "    <tr>\n",
       "      <th id=\"T_c394f_level0_row43\" class=\"row_heading level0 row43\" >43</th>\n",
       "      <td id=\"T_c394f_row43_col0\" class=\"data row43 col0\" >Clustering</td>\n",
       "      <td id=\"T_c394f_row43_col1\" class=\"data row43 col1\" >False</td>\n",
       "    </tr>\n",
       "    <tr>\n",
       "      <th id=\"T_c394f_level0_row44\" class=\"row_heading level0 row44\" >44</th>\n",
       "      <td id=\"T_c394f_row44_col0\" class=\"data row44 col0\" >Clustering Iteration</td>\n",
       "      <td id=\"T_c394f_row44_col1\" class=\"data row44 col1\" >None</td>\n",
       "    </tr>\n",
       "    <tr>\n",
       "      <th id=\"T_c394f_level0_row45\" class=\"row_heading level0 row45\" >45</th>\n",
       "      <td id=\"T_c394f_row45_col0\" class=\"data row45 col0\" >Polynomial Features</td>\n",
       "      <td id=\"T_c394f_row45_col1\" class=\"data row45 col1\" >False</td>\n",
       "    </tr>\n",
       "    <tr>\n",
       "      <th id=\"T_c394f_level0_row46\" class=\"row_heading level0 row46\" >46</th>\n",
       "      <td id=\"T_c394f_row46_col0\" class=\"data row46 col0\" >Polynomial Degree</td>\n",
       "      <td id=\"T_c394f_row46_col1\" class=\"data row46 col1\" >None</td>\n",
       "    </tr>\n",
       "    <tr>\n",
       "      <th id=\"T_c394f_level0_row47\" class=\"row_heading level0 row47\" >47</th>\n",
       "      <td id=\"T_c394f_row47_col0\" class=\"data row47 col0\" >Trignometry Features</td>\n",
       "      <td id=\"T_c394f_row47_col1\" class=\"data row47 col1\" >False</td>\n",
       "    </tr>\n",
       "    <tr>\n",
       "      <th id=\"T_c394f_level0_row48\" class=\"row_heading level0 row48\" >48</th>\n",
       "      <td id=\"T_c394f_row48_col0\" class=\"data row48 col0\" >Polynomial Threshold</td>\n",
       "      <td id=\"T_c394f_row48_col1\" class=\"data row48 col1\" >None</td>\n",
       "    </tr>\n",
       "    <tr>\n",
       "      <th id=\"T_c394f_level0_row49\" class=\"row_heading level0 row49\" >49</th>\n",
       "      <td id=\"T_c394f_row49_col0\" class=\"data row49 col0\" >Group Features</td>\n",
       "      <td id=\"T_c394f_row49_col1\" class=\"data row49 col1\" >False</td>\n",
       "    </tr>\n",
       "    <tr>\n",
       "      <th id=\"T_c394f_level0_row50\" class=\"row_heading level0 row50\" >50</th>\n",
       "      <td id=\"T_c394f_row50_col0\" class=\"data row50 col0\" >Feature Selection</td>\n",
       "      <td id=\"T_c394f_row50_col1\" class=\"data row50 col1\" >False</td>\n",
       "    </tr>\n",
       "    <tr>\n",
       "      <th id=\"T_c394f_level0_row51\" class=\"row_heading level0 row51\" >51</th>\n",
       "      <td id=\"T_c394f_row51_col0\" class=\"data row51 col0\" >Feature Selection Method</td>\n",
       "      <td id=\"T_c394f_row51_col1\" class=\"data row51 col1\" >classic</td>\n",
       "    </tr>\n",
       "    <tr>\n",
       "      <th id=\"T_c394f_level0_row52\" class=\"row_heading level0 row52\" >52</th>\n",
       "      <td id=\"T_c394f_row52_col0\" class=\"data row52 col0\" >Features Selection Threshold</td>\n",
       "      <td id=\"T_c394f_row52_col1\" class=\"data row52 col1\" >None</td>\n",
       "    </tr>\n",
       "    <tr>\n",
       "      <th id=\"T_c394f_level0_row53\" class=\"row_heading level0 row53\" >53</th>\n",
       "      <td id=\"T_c394f_row53_col0\" class=\"data row53 col0\" >Feature Interaction</td>\n",
       "      <td id=\"T_c394f_row53_col1\" class=\"data row53 col1\" >False</td>\n",
       "    </tr>\n",
       "    <tr>\n",
       "      <th id=\"T_c394f_level0_row54\" class=\"row_heading level0 row54\" >54</th>\n",
       "      <td id=\"T_c394f_row54_col0\" class=\"data row54 col0\" >Feature Ratio</td>\n",
       "      <td id=\"T_c394f_row54_col1\" class=\"data row54 col1\" >False</td>\n",
       "    </tr>\n",
       "    <tr>\n",
       "      <th id=\"T_c394f_level0_row55\" class=\"row_heading level0 row55\" >55</th>\n",
       "      <td id=\"T_c394f_row55_col0\" class=\"data row55 col0\" >Interaction Threshold</td>\n",
       "      <td id=\"T_c394f_row55_col1\" class=\"data row55 col1\" >None</td>\n",
       "    </tr>\n",
       "    <tr>\n",
       "      <th id=\"T_c394f_level0_row56\" class=\"row_heading level0 row56\" >56</th>\n",
       "      <td id=\"T_c394f_row56_col0\" class=\"data row56 col0\" >Transform Target</td>\n",
       "      <td id=\"T_c394f_row56_col1\" class=\"data row56 col1\" >False</td>\n",
       "    </tr>\n",
       "    <tr>\n",
       "      <th id=\"T_c394f_level0_row57\" class=\"row_heading level0 row57\" >57</th>\n",
       "      <td id=\"T_c394f_row57_col0\" class=\"data row57 col0\" >Transform Target Method</td>\n",
       "      <td id=\"T_c394f_row57_col1\" class=\"data row57 col1\" >box-cox</td>\n",
       "    </tr>\n",
       "  </tbody>\n",
       "</table>\n"
      ],
      "text/plain": [
       "<pandas.io.formats.style.Styler at 0x192381ad790>"
      ]
     },
     "metadata": {},
     "output_type": "display_data"
    }
   ],
   "source": [
    "data = setup(data=X_train, target=\"log_target\", train_size=0.8)"
   ]
  },
  {
   "cell_type": "code",
   "execution_count": 54,
   "id": "9ad7b60a",
   "metadata": {
    "ExecuteTime": {
     "end_time": "2022-06-02T18:56:42.783591Z",
     "start_time": "2022-06-02T18:56:42.778127Z"
    }
   },
   "outputs": [
    {
     "data": {
      "text/plain": [
       "Name                                                      NMAE2\n",
       "Display Name                                              NMAE2\n",
       "Score Function            <function nmae at 0x0000019231E25A60>\n",
       "Scorer               make_scorer(nmae, greater_is_better=False)\n",
       "Target                                                     pred\n",
       "Args                                                         {}\n",
       "Greater is Better                                         False\n",
       "Custom                                                     True\n",
       "Name: nmae2, dtype: object"
      ]
     },
     "execution_count": 54,
     "metadata": {},
     "output_type": "execute_result"
    }
   ],
   "source": [
    "add_metric(\"nmae2\",\"NMAE2\",nmae, False)"
   ]
  },
  {
   "cell_type": "code",
   "execution_count": 55,
   "id": "1e8e2d89",
   "metadata": {
    "ExecuteTime": {
     "end_time": "2022-06-02T18:57:08.500870Z",
     "start_time": "2022-06-02T18:56:49.157639Z"
    }
   },
   "outputs": [
    {
     "data": {
      "text/html": [
       "<style type=\"text/css\">\n",
       "#T_779be th {\n",
       "  text-align: left;\n",
       "}\n",
       "#T_779be_row0_col0, #T_779be_row1_col0, #T_779be_row1_col1, #T_779be_row1_col2, #T_779be_row1_col3, #T_779be_row1_col4, #T_779be_row1_col5, #T_779be_row1_col6, #T_779be_row1_col7, #T_779be_row2_col0, #T_779be_row2_col1, #T_779be_row2_col2, #T_779be_row2_col3, #T_779be_row2_col4, #T_779be_row2_col5, #T_779be_row2_col6, #T_779be_row2_col7, #T_779be_row3_col0, #T_779be_row3_col1, #T_779be_row3_col2, #T_779be_row3_col3, #T_779be_row3_col4, #T_779be_row3_col5, #T_779be_row3_col6, #T_779be_row3_col7, #T_779be_row4_col0, #T_779be_row4_col1, #T_779be_row4_col2, #T_779be_row4_col3, #T_779be_row4_col4, #T_779be_row4_col5, #T_779be_row4_col6, #T_779be_row4_col7, #T_779be_row5_col0, #T_779be_row5_col1, #T_779be_row5_col2, #T_779be_row5_col3, #T_779be_row5_col4, #T_779be_row5_col5, #T_779be_row5_col6, #T_779be_row5_col7, #T_779be_row6_col0, #T_779be_row6_col1, #T_779be_row6_col2, #T_779be_row6_col3, #T_779be_row6_col4, #T_779be_row6_col5, #T_779be_row6_col6, #T_779be_row6_col7, #T_779be_row7_col0, #T_779be_row7_col1, #T_779be_row7_col2, #T_779be_row7_col3, #T_779be_row7_col4, #T_779be_row7_col5, #T_779be_row7_col6, #T_779be_row7_col7, #T_779be_row8_col0, #T_779be_row8_col1, #T_779be_row8_col2, #T_779be_row8_col3, #T_779be_row8_col4, #T_779be_row8_col5, #T_779be_row8_col6, #T_779be_row8_col7, #T_779be_row9_col0, #T_779be_row9_col1, #T_779be_row9_col2, #T_779be_row9_col3, #T_779be_row9_col4, #T_779be_row9_col5, #T_779be_row9_col6, #T_779be_row9_col7, #T_779be_row10_col0, #T_779be_row10_col1, #T_779be_row10_col2, #T_779be_row10_col3, #T_779be_row10_col4, #T_779be_row10_col5, #T_779be_row10_col6, #T_779be_row10_col7, #T_779be_row11_col0, #T_779be_row11_col1, #T_779be_row11_col2, #T_779be_row11_col3, #T_779be_row11_col4, #T_779be_row11_col5, #T_779be_row11_col6, #T_779be_row11_col7, #T_779be_row12_col0, #T_779be_row12_col1, #T_779be_row12_col2, #T_779be_row12_col3, #T_779be_row12_col4, #T_779be_row12_col5, #T_779be_row12_col6, #T_779be_row12_col7, #T_779be_row13_col0, #T_779be_row13_col1, #T_779be_row13_col2, #T_779be_row13_col3, #T_779be_row13_col4, #T_779be_row13_col5, #T_779be_row13_col6, #T_779be_row13_col7, #T_779be_row14_col0, #T_779be_row14_col1, #T_779be_row14_col2, #T_779be_row14_col3, #T_779be_row14_col4, #T_779be_row14_col5, #T_779be_row14_col6, #T_779be_row14_col7, #T_779be_row15_col0, #T_779be_row15_col1, #T_779be_row15_col2, #T_779be_row15_col3, #T_779be_row15_col4, #T_779be_row15_col5, #T_779be_row15_col6, #T_779be_row15_col7, #T_779be_row16_col0, #T_779be_row16_col1, #T_779be_row16_col2, #T_779be_row16_col3, #T_779be_row16_col4, #T_779be_row16_col5, #T_779be_row16_col6, #T_779be_row16_col7, #T_779be_row17_col0, #T_779be_row17_col1, #T_779be_row17_col2, #T_779be_row17_col3, #T_779be_row17_col4, #T_779be_row17_col5, #T_779be_row17_col6, #T_779be_row17_col7, #T_779be_row18_col0, #T_779be_row18_col1, #T_779be_row18_col2, #T_779be_row18_col3, #T_779be_row18_col4, #T_779be_row18_col5, #T_779be_row18_col6, #T_779be_row18_col7 {\n",
       "  text-align: left;\n",
       "}\n",
       "#T_779be_row0_col1, #T_779be_row0_col2, #T_779be_row0_col3, #T_779be_row0_col4, #T_779be_row0_col5, #T_779be_row0_col6, #T_779be_row0_col7 {\n",
       "  text-align: left;\n",
       "  background-color: yellow;\n",
       "}\n",
       "#T_779be_row0_col8, #T_779be_row1_col8, #T_779be_row2_col8, #T_779be_row3_col8, #T_779be_row4_col8, #T_779be_row5_col8, #T_779be_row6_col8, #T_779be_row7_col8, #T_779be_row8_col8, #T_779be_row9_col8, #T_779be_row11_col8, #T_779be_row12_col8, #T_779be_row13_col8, #T_779be_row15_col8, #T_779be_row16_col8, #T_779be_row17_col8, #T_779be_row18_col8 {\n",
       "  text-align: left;\n",
       "  background-color: lightgrey;\n",
       "}\n",
       "#T_779be_row10_col8, #T_779be_row14_col8 {\n",
       "  text-align: left;\n",
       "  background-color: yellow;\n",
       "  background-color: lightgrey;\n",
       "}\n",
       "</style>\n",
       "<table id=\"T_779be\">\n",
       "  <thead>\n",
       "    <tr>\n",
       "      <th class=\"blank level0\" >&nbsp;</th>\n",
       "      <th id=\"T_779be_level0_col0\" class=\"col_heading level0 col0\" >Model</th>\n",
       "      <th id=\"T_779be_level0_col1\" class=\"col_heading level0 col1\" >MAE</th>\n",
       "      <th id=\"T_779be_level0_col2\" class=\"col_heading level0 col2\" >MSE</th>\n",
       "      <th id=\"T_779be_level0_col3\" class=\"col_heading level0 col3\" >RMSE</th>\n",
       "      <th id=\"T_779be_level0_col4\" class=\"col_heading level0 col4\" >R2</th>\n",
       "      <th id=\"T_779be_level0_col5\" class=\"col_heading level0 col5\" >RMSLE</th>\n",
       "      <th id=\"T_779be_level0_col6\" class=\"col_heading level0 col6\" >MAPE</th>\n",
       "      <th id=\"T_779be_level0_col7\" class=\"col_heading level0 col7\" >NMAE2</th>\n",
       "      <th id=\"T_779be_level0_col8\" class=\"col_heading level0 col8\" >TT (Sec)</th>\n",
       "    </tr>\n",
       "  </thead>\n",
       "  <tbody>\n",
       "    <tr>\n",
       "      <th id=\"T_779be_level0_row0\" class=\"row_heading level0 row0\" >xgboost</th>\n",
       "      <td id=\"T_779be_row0_col0\" class=\"data row0 col0\" >Extreme Gradient Boosting</td>\n",
       "      <td id=\"T_779be_row0_col1\" class=\"data row0 col1\" >0.2382</td>\n",
       "      <td id=\"T_779be_row0_col2\" class=\"data row0 col2\" >0.1183</td>\n",
       "      <td id=\"T_779be_row0_col3\" class=\"data row0 col3\" >0.3422</td>\n",
       "      <td id=\"T_779be_row0_col4\" class=\"data row0 col4\" >0.8738</td>\n",
       "      <td id=\"T_779be_row0_col5\" class=\"data row0 col5\" >0.0207</td>\n",
       "      <td id=\"T_779be_row0_col6\" class=\"data row0 col6\" >0.0155</td>\n",
       "      <td id=\"T_779be_row0_col7\" class=\"data row0 col7\" >0.0155</td>\n",
       "      <td id=\"T_779be_row0_col8\" class=\"data row0 col8\" >0.2120</td>\n",
       "    </tr>\n",
       "    <tr>\n",
       "      <th id=\"T_779be_level0_row1\" class=\"row_heading level0 row1\" >br</th>\n",
       "      <td id=\"T_779be_row1_col0\" class=\"data row1 col0\" >Bayesian Ridge</td>\n",
       "      <td id=\"T_779be_row1_col1\" class=\"data row1 col1\" >0.2487</td>\n",
       "      <td id=\"T_779be_row1_col2\" class=\"data row1 col2\" >0.1291</td>\n",
       "      <td id=\"T_779be_row1_col3\" class=\"data row1 col3\" >0.3571</td>\n",
       "      <td id=\"T_779be_row1_col4\" class=\"data row1 col4\" >0.8637</td>\n",
       "      <td id=\"T_779be_row1_col5\" class=\"data row1 col5\" >0.0217</td>\n",
       "      <td id=\"T_779be_row1_col6\" class=\"data row1 col6\" >0.0162</td>\n",
       "      <td id=\"T_779be_row1_col7\" class=\"data row1 col7\" >0.0162</td>\n",
       "      <td id=\"T_779be_row1_col8\" class=\"data row1 col8\" >0.0110</td>\n",
       "    </tr>\n",
       "    <tr>\n",
       "      <th id=\"T_779be_level0_row2\" class=\"row_heading level0 row2\" >ridge</th>\n",
       "      <td id=\"T_779be_row2_col0\" class=\"data row2 col0\" >Ridge Regression</td>\n",
       "      <td id=\"T_779be_row2_col1\" class=\"data row2 col1\" >0.2510</td>\n",
       "      <td id=\"T_779be_row2_col2\" class=\"data row2 col2\" >0.1289</td>\n",
       "      <td id=\"T_779be_row2_col3\" class=\"data row2 col3\" >0.3568</td>\n",
       "      <td id=\"T_779be_row2_col4\" class=\"data row2 col4\" >0.8636</td>\n",
       "      <td id=\"T_779be_row2_col5\" class=\"data row2 col5\" >0.0217</td>\n",
       "      <td id=\"T_779be_row2_col6\" class=\"data row2 col6\" >0.0163</td>\n",
       "      <td id=\"T_779be_row2_col7\" class=\"data row2 col7\" >0.0163</td>\n",
       "      <td id=\"T_779be_row2_col8\" class=\"data row2 col8\" >0.0070</td>\n",
       "    </tr>\n",
       "    <tr>\n",
       "      <th id=\"T_779be_level0_row3\" class=\"row_heading level0 row3\" >et</th>\n",
       "      <td id=\"T_779be_row3_col0\" class=\"data row3 col0\" >Extra Trees Regressor</td>\n",
       "      <td id=\"T_779be_row3_col1\" class=\"data row3 col1\" >0.2549</td>\n",
       "      <td id=\"T_779be_row3_col2\" class=\"data row3 col2\" >0.1457</td>\n",
       "      <td id=\"T_779be_row3_col3\" class=\"data row3 col3\" >0.3786</td>\n",
       "      <td id=\"T_779be_row3_col4\" class=\"data row3 col4\" >0.8457</td>\n",
       "      <td id=\"T_779be_row3_col5\" class=\"data row3 col5\" >0.0229</td>\n",
       "      <td id=\"T_779be_row3_col6\" class=\"data row3 col6\" >0.0165</td>\n",
       "      <td id=\"T_779be_row3_col7\" class=\"data row3 col7\" >0.0166</td>\n",
       "      <td id=\"T_779be_row3_col8\" class=\"data row3 col8\" >0.0750</td>\n",
       "    </tr>\n",
       "    <tr>\n",
       "      <th id=\"T_779be_level0_row4\" class=\"row_heading level0 row4\" >gbr</th>\n",
       "      <td id=\"T_779be_row4_col0\" class=\"data row4 col0\" >Gradient Boosting Regressor</td>\n",
       "      <td id=\"T_779be_row4_col1\" class=\"data row4 col1\" >0.2609</td>\n",
       "      <td id=\"T_779be_row4_col2\" class=\"data row4 col2\" >0.1331</td>\n",
       "      <td id=\"T_779be_row4_col3\" class=\"data row4 col3\" >0.3627</td>\n",
       "      <td id=\"T_779be_row4_col4\" class=\"data row4 col4\" >0.8588</td>\n",
       "      <td id=\"T_779be_row4_col5\" class=\"data row4 col5\" >0.0219</td>\n",
       "      <td id=\"T_779be_row4_col6\" class=\"data row4 col6\" >0.0169</td>\n",
       "      <td id=\"T_779be_row4_col7\" class=\"data row4 col7\" >0.0170</td>\n",
       "      <td id=\"T_779be_row4_col8\" class=\"data row4 col8\" >0.0350</td>\n",
       "    </tr>\n",
       "    <tr>\n",
       "      <th id=\"T_779be_level0_row5\" class=\"row_heading level0 row5\" >rf</th>\n",
       "      <td id=\"T_779be_row5_col0\" class=\"data row5 col0\" >Random Forest Regressor</td>\n",
       "      <td id=\"T_779be_row5_col1\" class=\"data row5 col1\" >0.2656</td>\n",
       "      <td id=\"T_779be_row5_col2\" class=\"data row5 col2\" >0.1531</td>\n",
       "      <td id=\"T_779be_row5_col3\" class=\"data row5 col3\" >0.3883</td>\n",
       "      <td id=\"T_779be_row5_col4\" class=\"data row5 col4\" >0.8387</td>\n",
       "      <td id=\"T_779be_row5_col5\" class=\"data row5 col5\" >0.0233</td>\n",
       "      <td id=\"T_779be_row5_col6\" class=\"data row5 col6\" >0.0171</td>\n",
       "      <td id=\"T_779be_row5_col7\" class=\"data row5 col7\" >0.0173</td>\n",
       "      <td id=\"T_779be_row5_col8\" class=\"data row5 col8\" >0.0590</td>\n",
       "    </tr>\n",
       "    <tr>\n",
       "      <th id=\"T_779be_level0_row6\" class=\"row_heading level0 row6\" >lightgbm</th>\n",
       "      <td id=\"T_779be_row6_col0\" class=\"data row6 col0\" >Light Gradient Boosting Machine</td>\n",
       "      <td id=\"T_779be_row6_col1\" class=\"data row6 col1\" >0.3014</td>\n",
       "      <td id=\"T_779be_row6_col2\" class=\"data row6 col2\" >0.1771</td>\n",
       "      <td id=\"T_779be_row6_col3\" class=\"data row6 col3\" >0.4189</td>\n",
       "      <td id=\"T_779be_row6_col4\" class=\"data row6 col4\" >0.8136</td>\n",
       "      <td id=\"T_779be_row6_col5\" class=\"data row6 col5\" >0.0252</td>\n",
       "      <td id=\"T_779be_row6_col6\" class=\"data row6 col6\" >0.0195</td>\n",
       "      <td id=\"T_779be_row6_col7\" class=\"data row6 col7\" >0.0196</td>\n",
       "      <td id=\"T_779be_row6_col8\" class=\"data row6 col8\" >0.0130</td>\n",
       "    </tr>\n",
       "    <tr>\n",
       "      <th id=\"T_779be_level0_row7\" class=\"row_heading level0 row7\" >omp</th>\n",
       "      <td id=\"T_779be_row7_col0\" class=\"data row7 col0\" >Orthogonal Matching Pursuit</td>\n",
       "      <td id=\"T_779be_row7_col1\" class=\"data row7 col1\" >0.3049</td>\n",
       "      <td id=\"T_779be_row7_col2\" class=\"data row7 col2\" >0.1906</td>\n",
       "      <td id=\"T_779be_row7_col3\" class=\"data row7 col3\" >0.4334</td>\n",
       "      <td id=\"T_779be_row7_col4\" class=\"data row7 col4\" >0.7957</td>\n",
       "      <td id=\"T_779be_row7_col5\" class=\"data row7 col5\" >0.0266</td>\n",
       "      <td id=\"T_779be_row7_col6\" class=\"data row7 col6\" >0.0198</td>\n",
       "      <td id=\"T_779be_row7_col7\" class=\"data row7 col7\" >0.0198</td>\n",
       "      <td id=\"T_779be_row7_col8\" class=\"data row7 col8\" >0.0060</td>\n",
       "    </tr>\n",
       "    <tr>\n",
       "      <th id=\"T_779be_level0_row8\" class=\"row_heading level0 row8\" >dt</th>\n",
       "      <td id=\"T_779be_row8_col0\" class=\"data row8 col0\" >Decision Tree Regressor</td>\n",
       "      <td id=\"T_779be_row8_col1\" class=\"data row8 col1\" >0.3343</td>\n",
       "      <td id=\"T_779be_row8_col2\" class=\"data row8 col2\" >0.2311</td>\n",
       "      <td id=\"T_779be_row8_col3\" class=\"data row8 col3\" >0.4788</td>\n",
       "      <td id=\"T_779be_row8_col4\" class=\"data row8 col4\" >0.7547</td>\n",
       "      <td id=\"T_779be_row8_col5\" class=\"data row8 col5\" >0.0289</td>\n",
       "      <td id=\"T_779be_row8_col6\" class=\"data row8 col6\" >0.0216</td>\n",
       "      <td id=\"T_779be_row8_col7\" class=\"data row8 col7\" >0.0217</td>\n",
       "      <td id=\"T_779be_row8_col8\" class=\"data row8 col8\" >0.0060</td>\n",
       "    </tr>\n",
       "    <tr>\n",
       "      <th id=\"T_779be_level0_row9\" class=\"row_heading level0 row9\" >ada</th>\n",
       "      <td id=\"T_779be_row9_col0\" class=\"data row9 col0\" >AdaBoost Regressor</td>\n",
       "      <td id=\"T_779be_row9_col1\" class=\"data row9 col1\" >0.3818</td>\n",
       "      <td id=\"T_779be_row9_col2\" class=\"data row9 col2\" >0.2455</td>\n",
       "      <td id=\"T_779be_row9_col3\" class=\"data row9 col3\" >0.4934</td>\n",
       "      <td id=\"T_779be_row9_col4\" class=\"data row9 col4\" >0.7429</td>\n",
       "      <td id=\"T_779be_row9_col5\" class=\"data row9 col5\" >0.0298</td>\n",
       "      <td id=\"T_779be_row9_col6\" class=\"data row9 col6\" >0.0248</td>\n",
       "      <td id=\"T_779be_row9_col7\" class=\"data row9 col7\" >0.0248</td>\n",
       "      <td id=\"T_779be_row9_col8\" class=\"data row9 col8\" >0.0380</td>\n",
       "    </tr>\n",
       "    <tr>\n",
       "      <th id=\"T_779be_level0_row10\" class=\"row_heading level0 row10\" >en</th>\n",
       "      <td id=\"T_779be_row10_col0\" class=\"data row10 col0\" >Elastic Net</td>\n",
       "      <td id=\"T_779be_row10_col1\" class=\"data row10 col1\" >0.5175</td>\n",
       "      <td id=\"T_779be_row10_col2\" class=\"data row10 col2\" >0.4905</td>\n",
       "      <td id=\"T_779be_row10_col3\" class=\"data row10 col3\" >0.6966</td>\n",
       "      <td id=\"T_779be_row10_col4\" class=\"data row10 col4\" >0.4882</td>\n",
       "      <td id=\"T_779be_row10_col5\" class=\"data row10 col5\" >0.0426</td>\n",
       "      <td id=\"T_779be_row10_col6\" class=\"data row10 col6\" >0.0336</td>\n",
       "      <td id=\"T_779be_row10_col7\" class=\"data row10 col7\" >0.0336</td>\n",
       "      <td id=\"T_779be_row10_col8\" class=\"data row10 col8\" >0.0050</td>\n",
       "    </tr>\n",
       "    <tr>\n",
       "      <th id=\"T_779be_level0_row11\" class=\"row_heading level0 row11\" >lasso</th>\n",
       "      <td id=\"T_779be_row11_col0\" class=\"data row11 col0\" >Lasso Regression</td>\n",
       "      <td id=\"T_779be_row11_col1\" class=\"data row11 col1\" >0.5418</td>\n",
       "      <td id=\"T_779be_row11_col2\" class=\"data row11 col2\" >0.5218</td>\n",
       "      <td id=\"T_779be_row11_col3\" class=\"data row11 col3\" >0.7183</td>\n",
       "      <td id=\"T_779be_row11_col4\" class=\"data row11 col4\" >0.4561</td>\n",
       "      <td id=\"T_779be_row11_col5\" class=\"data row11 col5\" >0.0438</td>\n",
       "      <td id=\"T_779be_row11_col6\" class=\"data row11 col6\" >0.0352</td>\n",
       "      <td id=\"T_779be_row11_col7\" class=\"data row11 col7\" >0.0352</td>\n",
       "      <td id=\"T_779be_row11_col8\" class=\"data row11 col8\" >0.1990</td>\n",
       "    </tr>\n",
       "    <tr>\n",
       "      <th id=\"T_779be_level0_row12\" class=\"row_heading level0 row12\" >knn</th>\n",
       "      <td id=\"T_779be_row12_col0\" class=\"data row12 col0\" >K Neighbors Regressor</td>\n",
       "      <td id=\"T_779be_row12_col1\" class=\"data row12 col1\" >0.6539</td>\n",
       "      <td id=\"T_779be_row12_col2\" class=\"data row12 col2\" >0.7128</td>\n",
       "      <td id=\"T_779be_row12_col3\" class=\"data row12 col3\" >0.8415</td>\n",
       "      <td id=\"T_779be_row12_col4\" class=\"data row12 col4\" >0.2474</td>\n",
       "      <td id=\"T_779be_row12_col5\" class=\"data row12 col5\" >0.0512</td>\n",
       "      <td id=\"T_779be_row12_col6\" class=\"data row12 col6\" >0.0426</td>\n",
       "      <td id=\"T_779be_row12_col7\" class=\"data row12 col7\" >0.0425</td>\n",
       "      <td id=\"T_779be_row12_col8\" class=\"data row12 col8\" >0.0080</td>\n",
       "    </tr>\n",
       "    <tr>\n",
       "      <th id=\"T_779be_level0_row13\" class=\"row_heading level0 row13\" >llar</th>\n",
       "      <td id=\"T_779be_row13_col0\" class=\"data row13 col0\" >Lasso Least Angle Regression</td>\n",
       "      <td id=\"T_779be_row13_col1\" class=\"data row13 col1\" >0.7748</td>\n",
       "      <td id=\"T_779be_row13_col2\" class=\"data row13 col2\" >0.9654</td>\n",
       "      <td id=\"T_779be_row13_col3\" class=\"data row13 col3\" >0.9803</td>\n",
       "      <td id=\"T_779be_row13_col4\" class=\"data row13 col4\" >-0.0088</td>\n",
       "      <td id=\"T_779be_row13_col5\" class=\"data row13 col5\" >0.0595</td>\n",
       "      <td id=\"T_779be_row13_col6\" class=\"data row13 col6\" >0.0503</td>\n",
       "      <td id=\"T_779be_row13_col7\" class=\"data row13 col7\" >0.0504</td>\n",
       "      <td id=\"T_779be_row13_col8\" class=\"data row13 col8\" >0.0070</td>\n",
       "    </tr>\n",
       "    <tr>\n",
       "      <th id=\"T_779be_level0_row14\" class=\"row_heading level0 row14\" >dummy</th>\n",
       "      <td id=\"T_779be_row14_col0\" class=\"data row14 col0\" >Dummy Regressor</td>\n",
       "      <td id=\"T_779be_row14_col1\" class=\"data row14 col1\" >0.7748</td>\n",
       "      <td id=\"T_779be_row14_col2\" class=\"data row14 col2\" >0.9654</td>\n",
       "      <td id=\"T_779be_row14_col3\" class=\"data row14 col3\" >0.9803</td>\n",
       "      <td id=\"T_779be_row14_col4\" class=\"data row14 col4\" >-0.0088</td>\n",
       "      <td id=\"T_779be_row14_col5\" class=\"data row14 col5\" >0.0595</td>\n",
       "      <td id=\"T_779be_row14_col6\" class=\"data row14 col6\" >0.0503</td>\n",
       "      <td id=\"T_779be_row14_col7\" class=\"data row14 col7\" >0.0504</td>\n",
       "      <td id=\"T_779be_row14_col8\" class=\"data row14 col8\" >0.0050</td>\n",
       "    </tr>\n",
       "    <tr>\n",
       "      <th id=\"T_779be_level0_row15\" class=\"row_heading level0 row15\" >huber</th>\n",
       "      <td id=\"T_779be_row15_col0\" class=\"data row15 col0\" >Huber Regressor</td>\n",
       "      <td id=\"T_779be_row15_col1\" class=\"data row15 col1\" >7.9066</td>\n",
       "      <td id=\"T_779be_row15_col2\" class=\"data row15 col2\" >100.9023</td>\n",
       "      <td id=\"T_779be_row15_col3\" class=\"data row15 col3\" >9.8824</td>\n",
       "      <td id=\"T_779be_row15_col4\" class=\"data row15 col4\" >-106.0304</td>\n",
       "      <td id=\"T_779be_row15_col5\" class=\"data row15 col5\" >0.9833</td>\n",
       "      <td id=\"T_779be_row15_col6\" class=\"data row15 col6\" >0.5054</td>\n",
       "      <td id=\"T_779be_row15_col7\" class=\"data row15 col7\" >0.5139</td>\n",
       "      <td id=\"T_779be_row15_col8\" class=\"data row15 col8\" >0.0080</td>\n",
       "    </tr>\n",
       "    <tr>\n",
       "      <th id=\"T_779be_level0_row16\" class=\"row_heading level0 row16\" >par</th>\n",
       "      <td id=\"T_779be_row16_col0\" class=\"data row16 col0\" >Passive Aggressive Regressor</td>\n",
       "      <td id=\"T_779be_row16_col1\" class=\"data row16 col1\" >20.9876</td>\n",
       "      <td id=\"T_779be_row16_col2\" class=\"data row16 col2\" >1756.0308</td>\n",
       "      <td id=\"T_779be_row16_col3\" class=\"data row16 col3\" >26.9741</td>\n",
       "      <td id=\"T_779be_row16_col4\" class=\"data row16 col4\" >-1773.3524</td>\n",
       "      <td id=\"T_779be_row16_col5\" class=\"data row16 col5\" >0.7112</td>\n",
       "      <td id=\"T_779be_row16_col6\" class=\"data row16 col6\" >1.4006</td>\n",
       "      <td id=\"T_779be_row16_col7\" class=\"data row16 col7\" >1.3680</td>\n",
       "      <td id=\"T_779be_row16_col8\" class=\"data row16 col8\" >0.0060</td>\n",
       "    </tr>\n",
       "    <tr>\n",
       "      <th id=\"T_779be_level0_row17\" class=\"row_heading level0 row17\" >lr</th>\n",
       "      <td id=\"T_779be_row17_col0\" class=\"data row17 col0\" >Linear Regression</td>\n",
       "      <td id=\"T_779be_row17_col1\" class=\"data row17 col1\" >101332.7850</td>\n",
       "      <td id=\"T_779be_row17_col2\" class=\"data row17 col2\" >1250655150337.7214</td>\n",
       "      <td id=\"T_779be_row17_col3\" class=\"data row17 col3\" >653045.1502</td>\n",
       "      <td id=\"T_779be_row17_col4\" class=\"data row17 col4\" >-1356609763812.9312</td>\n",
       "      <td id=\"T_779be_row17_col5\" class=\"data row17 col5\" >3.2690</td>\n",
       "      <td id=\"T_779be_row17_col6\" class=\"data row17 col6\" >6630.9993</td>\n",
       "      <td id=\"T_779be_row17_col7\" class=\"data row17 col7\" >6586.8474</td>\n",
       "      <td id=\"T_779be_row17_col8\" class=\"data row17 col8\" >0.3720</td>\n",
       "    </tr>\n",
       "    <tr>\n",
       "      <th id=\"T_779be_level0_row18\" class=\"row_heading level0 row18\" >lar</th>\n",
       "      <td id=\"T_779be_row18_col0\" class=\"data row18 col0\" >Least Angle Regression</td>\n",
       "      <td id=\"T_779be_row18_col1\" class=\"data row18 col1\" >359953129210915217902960520462336.0000</td>\n",
       "      <td id=\"T_779be_row18_col2\" class=\"data row18 col2\" >24519437190071971073450387917294281894938006068730137631935820726272.0000</td>\n",
       "      <td id=\"T_779be_row18_col3\" class=\"data row18 col3\" >1566159872764589713816071914389504.0000</td>\n",
       "      <td id=\"T_779be_row18_col4\" class=\"data row18 col4\" >-24861385105525650455122685773375361408934341759941269175688312651776.0000</td>\n",
       "      <td id=\"T_779be_row18_col5\" class=\"data row18 col5\" >29.6314</td>\n",
       "      <td id=\"T_779be_row18_col6\" class=\"data row18 col6\" >22823569050653111416804691935232.0000</td>\n",
       "      <td id=\"T_779be_row18_col7\" class=\"data row18 col7\" >23546277276874128992783164243968.0000</td>\n",
       "      <td id=\"T_779be_row18_col8\" class=\"data row18 col8\" >0.0150</td>\n",
       "    </tr>\n",
       "  </tbody>\n",
       "</table>\n"
      ],
      "text/plain": [
       "<pandas.io.formats.style.Styler at 0x19237c3e820>"
      ]
     },
     "metadata": {},
     "output_type": "display_data"
    },
    {
     "data": {
      "text/plain": [
       "[XGBRegressor(base_score=0.5, booster='gbtree', callbacks=None,\n",
       "              colsample_bylevel=1, colsample_bynode=1, colsample_bytree=1,\n",
       "              early_stopping_rounds=None, enable_categorical=False,\n",
       "              eval_metric=None, gamma=0, gpu_id=-1, grow_policy='depthwise',\n",
       "              importance_type=None, interaction_constraints='',\n",
       "              learning_rate=0.300000012, max_bin=256, max_cat_to_onehot=4,\n",
       "              max_delta_step=0, max_depth=6, max_leaves=0, min_child_weight=1,\n",
       "              missing=nan, monotone_constraints='()', n_estimators=100,\n",
       "              n_jobs=-1, num_parallel_tree=1, objective='reg:squarederror',\n",
       "              predictor='auto', random_state=615, reg_alpha=0, ...),\n",
       " BayesianRidge(alpha_1=1e-06, alpha_2=1e-06, alpha_init=None,\n",
       "               compute_score=False, copy_X=True, fit_intercept=True,\n",
       "               lambda_1=1e-06, lambda_2=1e-06, lambda_init=None, n_iter=300,\n",
       "               normalize=False, tol=0.001, verbose=False),\n",
       " Ridge(alpha=1.0, copy_X=True, fit_intercept=True, max_iter=None,\n",
       "       normalize=False, random_state=615, solver='auto', tol=0.001),\n",
       " ExtraTreesRegressor(bootstrap=False, ccp_alpha=0.0, criterion='mse',\n",
       "                     max_depth=None, max_features='auto', max_leaf_nodes=None,\n",
       "                     max_samples=None, min_impurity_decrease=0.0,\n",
       "                     min_impurity_split=None, min_samples_leaf=1,\n",
       "                     min_samples_split=2, min_weight_fraction_leaf=0.0,\n",
       "                     n_estimators=100, n_jobs=-1, oob_score=False,\n",
       "                     random_state=615, verbose=0, warm_start=False),\n",
       " GradientBoostingRegressor(alpha=0.9, ccp_alpha=0.0, criterion='friedman_mse',\n",
       "                           init=None, learning_rate=0.1, loss='ls', max_depth=3,\n",
       "                           max_features=None, max_leaf_nodes=None,\n",
       "                           min_impurity_decrease=0.0, min_impurity_split=None,\n",
       "                           min_samples_leaf=1, min_samples_split=2,\n",
       "                           min_weight_fraction_leaf=0.0, n_estimators=100,\n",
       "                           n_iter_no_change=None, presort='deprecated',\n",
       "                           random_state=615, subsample=1.0, tol=0.0001,\n",
       "                           validation_fraction=0.1, verbose=0, warm_start=False),\n",
       " RandomForestRegressor(bootstrap=True, ccp_alpha=0.0, criterion='mse',\n",
       "                       max_depth=None, max_features='auto', max_leaf_nodes=None,\n",
       "                       max_samples=None, min_impurity_decrease=0.0,\n",
       "                       min_impurity_split=None, min_samples_leaf=1,\n",
       "                       min_samples_split=2, min_weight_fraction_leaf=0.0,\n",
       "                       n_estimators=100, n_jobs=-1, oob_score=False,\n",
       "                       random_state=615, verbose=0, warm_start=False),\n",
       " LGBMRegressor(boosting_type='gbdt', class_weight=None, colsample_bytree=1.0,\n",
       "               importance_type='split', learning_rate=0.1, max_depth=-1,\n",
       "               min_child_samples=20, min_child_weight=0.001, min_split_gain=0.0,\n",
       "               n_estimators=100, n_jobs=-1, num_leaves=31, objective=None,\n",
       "               random_state=615, reg_alpha=0.0, reg_lambda=0.0, silent='warn',\n",
       "               subsample=1.0, subsample_for_bin=200000, subsample_freq=0)]"
      ]
     },
     "execution_count": 55,
     "metadata": {},
     "output_type": "execute_result"
    }
   ],
   "source": [
    "compare_models(n_select=7, sort=\"NMAE2\")"
   ]
  },
  {
   "cell_type": "code",
   "execution_count": 56,
   "id": "159e09f8",
   "metadata": {
    "ExecuteTime": {
     "end_time": "2022-06-02T18:57:53.970341Z",
     "start_time": "2022-06-02T18:57:37.816846Z"
    }
   },
   "outputs": [
    {
     "data": {
      "text/html": [
       "<style type=\"text/css\">\n",
       "#T_d7c97_row10_col0, #T_d7c97_row10_col1, #T_d7c97_row10_col2, #T_d7c97_row10_col3, #T_d7c97_row10_col4, #T_d7c97_row10_col5, #T_d7c97_row10_col6 {\n",
       "  background: yellow;\n",
       "}\n",
       "</style>\n",
       "<table id=\"T_d7c97\">\n",
       "  <thead>\n",
       "    <tr>\n",
       "      <th class=\"blank level0\" >&nbsp;</th>\n",
       "      <th id=\"T_d7c97_level0_col0\" class=\"col_heading level0 col0\" >MAE</th>\n",
       "      <th id=\"T_d7c97_level0_col1\" class=\"col_heading level0 col1\" >MSE</th>\n",
       "      <th id=\"T_d7c97_level0_col2\" class=\"col_heading level0 col2\" >RMSE</th>\n",
       "      <th id=\"T_d7c97_level0_col3\" class=\"col_heading level0 col3\" >R2</th>\n",
       "      <th id=\"T_d7c97_level0_col4\" class=\"col_heading level0 col4\" >RMSLE</th>\n",
       "      <th id=\"T_d7c97_level0_col5\" class=\"col_heading level0 col5\" >MAPE</th>\n",
       "      <th id=\"T_d7c97_level0_col6\" class=\"col_heading level0 col6\" >NMAE2</th>\n",
       "    </tr>\n",
       "    <tr>\n",
       "      <th class=\"index_name level0\" >Fold</th>\n",
       "      <th class=\"blank col0\" >&nbsp;</th>\n",
       "      <th class=\"blank col1\" >&nbsp;</th>\n",
       "      <th class=\"blank col2\" >&nbsp;</th>\n",
       "      <th class=\"blank col3\" >&nbsp;</th>\n",
       "      <th class=\"blank col4\" >&nbsp;</th>\n",
       "      <th class=\"blank col5\" >&nbsp;</th>\n",
       "      <th class=\"blank col6\" >&nbsp;</th>\n",
       "    </tr>\n",
       "  </thead>\n",
       "  <tbody>\n",
       "    <tr>\n",
       "      <th id=\"T_d7c97_level0_row0\" class=\"row_heading level0 row0\" >0</th>\n",
       "      <td id=\"T_d7c97_row0_col0\" class=\"data row0 col0\" >0.2136</td>\n",
       "      <td id=\"T_d7c97_row0_col1\" class=\"data row0 col1\" >0.0793</td>\n",
       "      <td id=\"T_d7c97_row0_col2\" class=\"data row0 col2\" >0.2815</td>\n",
       "      <td id=\"T_d7c97_row0_col3\" class=\"data row0 col3\" >0.9284</td>\n",
       "      <td id=\"T_d7c97_row0_col4\" class=\"data row0 col4\" >0.0171</td>\n",
       "      <td id=\"T_d7c97_row0_col5\" class=\"data row0 col5\" >0.0137</td>\n",
       "      <td id=\"T_d7c97_row0_col6\" class=\"data row0 col6\" >0.0137</td>\n",
       "    </tr>\n",
       "    <tr>\n",
       "      <th id=\"T_d7c97_level0_row1\" class=\"row_heading level0 row1\" >1</th>\n",
       "      <td id=\"T_d7c97_row1_col0\" class=\"data row1 col0\" >0.2338</td>\n",
       "      <td id=\"T_d7c97_row1_col1\" class=\"data row1 col1\" >0.1623</td>\n",
       "      <td id=\"T_d7c97_row1_col2\" class=\"data row1 col2\" >0.4028</td>\n",
       "      <td id=\"T_d7c97_row1_col3\" class=\"data row1 col3\" >0.8310</td>\n",
       "      <td id=\"T_d7c97_row1_col4\" class=\"data row1 col4\" >0.0237</td>\n",
       "      <td id=\"T_d7c97_row1_col5\" class=\"data row1 col5\" >0.0148</td>\n",
       "      <td id=\"T_d7c97_row1_col6\" class=\"data row1 col6\" >0.0151</td>\n",
       "    </tr>\n",
       "    <tr>\n",
       "      <th id=\"T_d7c97_level0_row2\" class=\"row_heading level0 row2\" >2</th>\n",
       "      <td id=\"T_d7c97_row2_col0\" class=\"data row2 col0\" >0.2213</td>\n",
       "      <td id=\"T_d7c97_row2_col1\" class=\"data row2 col1\" >0.0993</td>\n",
       "      <td id=\"T_d7c97_row2_col2\" class=\"data row2 col2\" >0.3151</td>\n",
       "      <td id=\"T_d7c97_row2_col3\" class=\"data row2 col3\" >0.8719</td>\n",
       "      <td id=\"T_d7c97_row2_col4\" class=\"data row2 col4\" >0.0194</td>\n",
       "      <td id=\"T_d7c97_row2_col5\" class=\"data row2 col5\" >0.0145</td>\n",
       "      <td id=\"T_d7c97_row2_col6\" class=\"data row2 col6\" >0.0145</td>\n",
       "    </tr>\n",
       "    <tr>\n",
       "      <th id=\"T_d7c97_level0_row3\" class=\"row_heading level0 row3\" >3</th>\n",
       "      <td id=\"T_d7c97_row3_col0\" class=\"data row3 col0\" >0.2178</td>\n",
       "      <td id=\"T_d7c97_row3_col1\" class=\"data row3 col1\" >0.1070</td>\n",
       "      <td id=\"T_d7c97_row3_col2\" class=\"data row3 col2\" >0.3271</td>\n",
       "      <td id=\"T_d7c97_row3_col3\" class=\"data row3 col3\" >0.8988</td>\n",
       "      <td id=\"T_d7c97_row3_col4\" class=\"data row3 col4\" >0.0193</td>\n",
       "      <td id=\"T_d7c97_row3_col5\" class=\"data row3 col5\" >0.0140</td>\n",
       "      <td id=\"T_d7c97_row3_col6\" class=\"data row3 col6\" >0.0142</td>\n",
       "    </tr>\n",
       "    <tr>\n",
       "      <th id=\"T_d7c97_level0_row4\" class=\"row_heading level0 row4\" >4</th>\n",
       "      <td id=\"T_d7c97_row4_col0\" class=\"data row4 col0\" >0.2224</td>\n",
       "      <td id=\"T_d7c97_row4_col1\" class=\"data row4 col1\" >0.1016</td>\n",
       "      <td id=\"T_d7c97_row4_col2\" class=\"data row4 col2\" >0.3188</td>\n",
       "      <td id=\"T_d7c97_row4_col3\" class=\"data row4 col3\" >0.9031</td>\n",
       "      <td id=\"T_d7c97_row4_col4\" class=\"data row4 col4\" >0.0196</td>\n",
       "      <td id=\"T_d7c97_row4_col5\" class=\"data row4 col5\" >0.0147</td>\n",
       "      <td id=\"T_d7c97_row4_col6\" class=\"data row4 col6\" >0.0146</td>\n",
       "    </tr>\n",
       "    <tr>\n",
       "      <th id=\"T_d7c97_level0_row5\" class=\"row_heading level0 row5\" >5</th>\n",
       "      <td id=\"T_d7c97_row5_col0\" class=\"data row5 col0\" >0.2569</td>\n",
       "      <td id=\"T_d7c97_row5_col1\" class=\"data row5 col1\" >0.1620</td>\n",
       "      <td id=\"T_d7c97_row5_col2\" class=\"data row5 col2\" >0.4025</td>\n",
       "      <td id=\"T_d7c97_row5_col3\" class=\"data row5 col3\" >0.8358</td>\n",
       "      <td id=\"T_d7c97_row5_col4\" class=\"data row5 col4\" >0.0240</td>\n",
       "      <td id=\"T_d7c97_row5_col5\" class=\"data row5 col5\" >0.0167</td>\n",
       "      <td id=\"T_d7c97_row5_col6\" class=\"data row5 col6\" >0.0168</td>\n",
       "    </tr>\n",
       "    <tr>\n",
       "      <th id=\"T_d7c97_level0_row6\" class=\"row_heading level0 row6\" >6</th>\n",
       "      <td id=\"T_d7c97_row6_col0\" class=\"data row6 col0\" >0.2263</td>\n",
       "      <td id=\"T_d7c97_row6_col1\" class=\"data row6 col1\" >0.1067</td>\n",
       "      <td id=\"T_d7c97_row6_col2\" class=\"data row6 col2\" >0.3266</td>\n",
       "      <td id=\"T_d7c97_row6_col3\" class=\"data row6 col3\" >0.8807</td>\n",
       "      <td id=\"T_d7c97_row6_col4\" class=\"data row6 col4\" >0.0196</td>\n",
       "      <td id=\"T_d7c97_row6_col5\" class=\"data row6 col5\" >0.0146</td>\n",
       "      <td id=\"T_d7c97_row6_col6\" class=\"data row6 col6\" >0.0147</td>\n",
       "    </tr>\n",
       "    <tr>\n",
       "      <th id=\"T_d7c97_level0_row7\" class=\"row_heading level0 row7\" >7</th>\n",
       "      <td id=\"T_d7c97_row7_col0\" class=\"data row7 col0\" >0.2520</td>\n",
       "      <td id=\"T_d7c97_row7_col1\" class=\"data row7 col1\" >0.0967</td>\n",
       "      <td id=\"T_d7c97_row7_col2\" class=\"data row7 col2\" >0.3110</td>\n",
       "      <td id=\"T_d7c97_row7_col3\" class=\"data row7 col3\" >0.9078</td>\n",
       "      <td id=\"T_d7c97_row7_col4\" class=\"data row7 col4\" >0.0190</td>\n",
       "      <td id=\"T_d7c97_row7_col5\" class=\"data row7 col5\" >0.0164</td>\n",
       "      <td id=\"T_d7c97_row7_col6\" class=\"data row7 col6\" >0.0163</td>\n",
       "    </tr>\n",
       "    <tr>\n",
       "      <th id=\"T_d7c97_level0_row8\" class=\"row_heading level0 row8\" >8</th>\n",
       "      <td id=\"T_d7c97_row8_col0\" class=\"data row8 col0\" >0.2305</td>\n",
       "      <td id=\"T_d7c97_row8_col1\" class=\"data row8 col1\" >0.0861</td>\n",
       "      <td id=\"T_d7c97_row8_col2\" class=\"data row8 col2\" >0.2934</td>\n",
       "      <td id=\"T_d7c97_row8_col3\" class=\"data row8 col3\" >0.9114</td>\n",
       "      <td id=\"T_d7c97_row8_col4\" class=\"data row8 col4\" >0.0180</td>\n",
       "      <td id=\"T_d7c97_row8_col5\" class=\"data row8 col5\" >0.0151</td>\n",
       "      <td id=\"T_d7c97_row8_col6\" class=\"data row8 col6\" >0.0150</td>\n",
       "    </tr>\n",
       "    <tr>\n",
       "      <th id=\"T_d7c97_level0_row9\" class=\"row_heading level0 row9\" >9</th>\n",
       "      <td id=\"T_d7c97_row9_col0\" class=\"data row9 col0\" >0.2045</td>\n",
       "      <td id=\"T_d7c97_row9_col1\" class=\"data row9 col1\" >0.0757</td>\n",
       "      <td id=\"T_d7c97_row9_col2\" class=\"data row9 col2\" >0.2751</td>\n",
       "      <td id=\"T_d7c97_row9_col3\" class=\"data row9 col3\" >0.8943</td>\n",
       "      <td id=\"T_d7c97_row9_col4\" class=\"data row9 col4\" >0.0165</td>\n",
       "      <td id=\"T_d7c97_row9_col5\" class=\"data row9 col5\" >0.0132</td>\n",
       "      <td id=\"T_d7c97_row9_col6\" class=\"data row9 col6\" >0.0133</td>\n",
       "    </tr>\n",
       "    <tr>\n",
       "      <th id=\"T_d7c97_level0_row10\" class=\"row_heading level0 row10\" >Mean</th>\n",
       "      <td id=\"T_d7c97_row10_col0\" class=\"data row10 col0\" >0.2279</td>\n",
       "      <td id=\"T_d7c97_row10_col1\" class=\"data row10 col1\" >0.1077</td>\n",
       "      <td id=\"T_d7c97_row10_col2\" class=\"data row10 col2\" >0.3254</td>\n",
       "      <td id=\"T_d7c97_row10_col3\" class=\"data row10 col3\" >0.8863</td>\n",
       "      <td id=\"T_d7c97_row10_col4\" class=\"data row10 col4\" >0.0196</td>\n",
       "      <td id=\"T_d7c97_row10_col5\" class=\"data row10 col5\" >0.0148</td>\n",
       "      <td id=\"T_d7c97_row10_col6\" class=\"data row10 col6\" >0.0148</td>\n",
       "    </tr>\n",
       "    <tr>\n",
       "      <th id=\"T_d7c97_level0_row11\" class=\"row_heading level0 row11\" >Std</th>\n",
       "      <td id=\"T_d7c97_row11_col0\" class=\"data row11 col0\" >0.0155</td>\n",
       "      <td id=\"T_d7c97_row11_col1\" class=\"data row11 col1\" >0.0291</td>\n",
       "      <td id=\"T_d7c97_row11_col2\" class=\"data row11 col2\" >0.0422</td>\n",
       "      <td id=\"T_d7c97_row11_col3\" class=\"data row11 col3\" >0.0304</td>\n",
       "      <td id=\"T_d7c97_row11_col4\" class=\"data row11 col4\" >0.0024</td>\n",
       "      <td id=\"T_d7c97_row11_col5\" class=\"data row11 col5\" >0.0011</td>\n",
       "      <td id=\"T_d7c97_row11_col6\" class=\"data row11 col6\" >0.0010</td>\n",
       "    </tr>\n",
       "  </tbody>\n",
       "</table>\n"
      ],
      "text/plain": [
       "<pandas.io.formats.style.Styler at 0x1923037caf0>"
      ]
     },
     "metadata": {},
     "output_type": "display_data"
    }
   ],
   "source": [
    "blender = blend_models(estimator_list=compare_models(n_select=7, sort=\"NMAE2\"))"
   ]
  },
  {
   "cell_type": "code",
   "execution_count": 57,
   "id": "8ec133a2",
   "metadata": {
    "ExecuteTime": {
     "end_time": "2022-06-02T18:58:00.947747Z",
     "start_time": "2022-06-02T18:57:56.740343Z"
    }
   },
   "outputs": [],
   "source": [
    "final = finalize_model(blender)"
   ]
  },
  {
   "cell_type": "code",
   "execution_count": 59,
   "id": "30cf50a6",
   "metadata": {
    "ExecuteTime": {
     "end_time": "2022-06-02T18:58:05.930314Z",
     "start_time": "2022-06-02T18:58:05.563554Z"
    }
   },
   "outputs": [],
   "source": [
    "y_pred = predict_model(final, data=X_test)"
   ]
  },
  {
   "cell_type": "code",
   "execution_count": 60,
   "id": "a190ecab",
   "metadata": {
    "ExecuteTime": {
     "end_time": "2022-06-02T18:58:08.227342Z",
     "start_time": "2022-06-02T18:58:08.218317Z"
    }
   },
   "outputs": [],
   "source": [
    "y_pred = y_pred.reset_index()"
   ]
  },
  {
   "cell_type": "code",
   "execution_count": 61,
   "id": "b63dc0b9",
   "metadata": {
    "ExecuteTime": {
     "end_time": "2022-06-02T18:58:09.768056Z",
     "start_time": "2022-06-02T18:58:09.765055Z"
    }
   },
   "outputs": [],
   "source": [
    "y_pred_exp = np.expm1(y_pred[\"Label\"])"
   ]
  },
  {
   "cell_type": "code",
   "execution_count": 62,
   "id": "8b5c0a9e",
   "metadata": {
    "ExecuteTime": {
     "end_time": "2022-06-02T18:58:12.747846Z",
     "start_time": "2022-06-02T18:58:12.732536Z"
    }
   },
   "outputs": [],
   "source": [
    "submission[\"target\"] = y_pred_exp"
   ]
  },
  {
   "cell_type": "code",
   "execution_count": 63,
   "id": "33e373c4",
   "metadata": {
    "ExecuteTime": {
     "end_time": "2022-06-02T18:58:16.751242Z",
     "start_time": "2022-06-02T18:58:16.728240Z"
    }
   },
   "outputs": [
    {
     "data": {
      "text/html": [
       "<div>\n",
       "<style scoped>\n",
       "    .dataframe tbody tr th:only-of-type {\n",
       "        vertical-align: middle;\n",
       "    }\n",
       "\n",
       "    .dataframe tbody tr th {\n",
       "        vertical-align: top;\n",
       "    }\n",
       "\n",
       "    .dataframe thead th {\n",
       "        text-align: right;\n",
       "    }\n",
       "</style>\n",
       "<table border=\"1\" class=\"dataframe\">\n",
       "  <thead>\n",
       "    <tr style=\"text-align: right;\">\n",
       "      <th></th>\n",
       "      <th>id</th>\n",
       "      <th>target</th>\n",
       "    </tr>\n",
       "  </thead>\n",
       "  <tbody>\n",
       "    <tr>\n",
       "      <th>0</th>\n",
       "      <td>0</td>\n",
       "      <td>1.725737e+07</td>\n",
       "    </tr>\n",
       "    <tr>\n",
       "      <th>1</th>\n",
       "      <td>1</td>\n",
       "      <td>4.933374e+06</td>\n",
       "    </tr>\n",
       "    <tr>\n",
       "      <th>2</th>\n",
       "      <td>2</td>\n",
       "      <td>7.452176e+06</td>\n",
       "    </tr>\n",
       "    <tr>\n",
       "      <th>3</th>\n",
       "      <td>3</td>\n",
       "      <td>1.099029e+06</td>\n",
       "    </tr>\n",
       "    <tr>\n",
       "      <th>4</th>\n",
       "      <td>4</td>\n",
       "      <td>2.693722e+06</td>\n",
       "    </tr>\n",
       "    <tr>\n",
       "      <th>...</th>\n",
       "      <td>...</td>\n",
       "      <td>...</td>\n",
       "    </tr>\n",
       "    <tr>\n",
       "      <th>431</th>\n",
       "      <td>431</td>\n",
       "      <td>1.103373e+07</td>\n",
       "    </tr>\n",
       "    <tr>\n",
       "      <th>432</th>\n",
       "      <td>432</td>\n",
       "      <td>5.422465e+06</td>\n",
       "    </tr>\n",
       "    <tr>\n",
       "      <th>433</th>\n",
       "      <td>433</td>\n",
       "      <td>9.106959e+06</td>\n",
       "    </tr>\n",
       "    <tr>\n",
       "      <th>434</th>\n",
       "      <td>434</td>\n",
       "      <td>3.026632e+06</td>\n",
       "    </tr>\n",
       "    <tr>\n",
       "      <th>435</th>\n",
       "      <td>435</td>\n",
       "      <td>3.420092e+06</td>\n",
       "    </tr>\n",
       "  </tbody>\n",
       "</table>\n",
       "<p>436 rows × 2 columns</p>\n",
       "</div>"
      ],
      "text/plain": [
       "      id        target\n",
       "0      0  1.725737e+07\n",
       "1      1  4.933374e+06\n",
       "2      2  7.452176e+06\n",
       "3      3  1.099029e+06\n",
       "4      4  2.693722e+06\n",
       "..   ...           ...\n",
       "431  431  1.103373e+07\n",
       "432  432  5.422465e+06\n",
       "433  433  9.106959e+06\n",
       "434  434  3.026632e+06\n",
       "435  435  3.420092e+06\n",
       "\n",
       "[436 rows x 2 columns]"
      ]
     },
     "execution_count": 63,
     "metadata": {},
     "output_type": "execute_result"
    }
   ],
   "source": [
    "submission.to_csv(\"submission_9.csv\", index=False)\n",
    "pd.read_csv(\"submission_9.csv\")"
   ]
  },
  {
   "cell_type": "code",
   "execution_count": null,
   "id": "8f4abd97",
   "metadata": {},
   "outputs": [],
   "source": []
  }
 ],
 "metadata": {
  "kernelspec": {
   "display_name": "Python 3 (ipykernel)",
   "language": "python",
   "name": "python3"
  },
  "language_info": {
   "codemirror_mode": {
    "name": "ipython",
    "version": 3
   },
   "file_extension": ".py",
   "mimetype": "text/x-python",
   "name": "python",
   "nbconvert_exporter": "python",
   "pygments_lexer": "ipython3",
   "version": "3.8.13"
  },
  "toc": {
   "base_numbering": 1,
   "nav_menu": {},
   "number_sections": true,
   "sideBar": true,
   "skip_h1_title": false,
   "title_cell": "Table of Contents",
   "title_sidebar": "Contents",
   "toc_cell": false,
   "toc_position": {
    "height": "calc(100% - 180px)",
    "left": "10px",
    "top": "150px",
    "width": "303.837px"
   },
   "toc_section_display": true,
   "toc_window_display": true
  },
  "varInspector": {
   "cols": {
    "lenName": 16,
    "lenType": 16,
    "lenVar": 40
   },
   "kernels_config": {
    "python": {
     "delete_cmd_postfix": "",
     "delete_cmd_prefix": "del ",
     "library": "var_list.py",
     "varRefreshCmd": "print(var_dic_list())"
    },
    "r": {
     "delete_cmd_postfix": ") ",
     "delete_cmd_prefix": "rm(",
     "library": "var_list.r",
     "varRefreshCmd": "cat(var_dic_list()) "
    }
   },
   "types_to_exclude": [
    "module",
    "function",
    "builtin_function_or_method",
    "instance",
    "_Feature"
   ],
   "window_display": false
  }
 },
 "nbformat": 4,
 "nbformat_minor": 5
}
