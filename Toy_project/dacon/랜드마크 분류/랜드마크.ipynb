{
 "cells": [
  {
   "cell_type": "code",
   "execution_count": null,
   "id": "6d2e4354",
   "metadata": {
    "ExecuteTime": {
     "end_time": "2022-08-12T12:58:38.439071Z",
     "start_time": "2022-08-12T12:58:35.917400Z"
    }
   },
   "outputs": [],
   "source": [
    "import datetime, os, time, pathlib\n",
    "import numpy as np\n",
    "import tensorflow as tf\n",
    "from tensorflow.keras import losses, models, layers, optimizers, callbacks, utils, metrics\n",
    "from tensorflow.keras.layers.experimental import preprocessing\n",
    "from tensorflow.keras.applications import EfficientNetB0, EfficientNetB1, EfficientNetB2, EfficientNetB3, EfficientNetB4, EfficientNetB5, EfficientNetB6, EfficientNetB7"
   ]
  },
  {
   "cell_type": "code",
   "execution_count": null,
   "id": "6941eb38",
   "metadata": {
    "ExecuteTime": {
     "end_time": "2022-08-12T12:58:38.487082Z",
     "start_time": "2022-08-12T12:58:38.441073Z"
    }
   },
   "outputs": [],
   "source": [
    "tf.config.list_physical_devices(\"GPU\")"
   ]
  },
  {
   "cell_type": "code",
   "execution_count": null,
   "id": "e617d725",
   "metadata": {
    "ExecuteTime": {
     "end_time": "2022-08-12T12:59:17.804005Z",
     "start_time": "2022-08-12T12:59:17.799004Z"
    }
   },
   "outputs": [],
   "source": [
    "data_dir = pathlib.Path(\"D:Dataset/dataset/랜드마크 이미지/training\")"
   ]
  },
  {
   "cell_type": "code",
   "execution_count": null,
   "id": "b6838004",
   "metadata": {
    "ExecuteTime": {
     "end_time": "2022-08-12T12:59:19.343203Z",
     "start_time": "2022-08-12T12:59:18.784880Z"
    }
   },
   "outputs": [],
   "source": [
    "image_count = len(list(data_dir.glob('*/*.jpg'))) # 총 이미지 개수\n",
    "list_ds = tf.data.Dataset.list_files(str(data_dir/'*/*'), shuffle=False)\n",
    "list_ds = list_ds.shuffle(image_count, reshuffle_each_iteration=False)"
   ]
  },
  {
   "cell_type": "code",
   "execution_count": null,
   "id": "681eaede",
   "metadata": {
    "ExecuteTime": {
     "end_time": "2022-08-12T12:59:20.127256Z",
     "start_time": "2022-08-12T12:59:20.113709Z"
    }
   },
   "outputs": [],
   "source": [
    "val_size = int(image_count * 0.15)\n",
    "train_ = list_ds.skip(val_size) # 20% 를 넘김\n",
    "valid_ = list_ds.take(val_size) # 20% 를 가짐 \n",
    "NUM_TRAIN = tf.data.experimental.cardinality(train_).numpy()\n",
    "NUM_VALID = tf.data.experimental.cardinality(valid_).numpy()\n",
    "print(tf.data.experimental.cardinality(train_).numpy())\n",
    "print(tf.data.experimental.cardinality(valid_).numpy())"
   ]
  },
  {
   "cell_type": "code",
   "execution_count": null,
   "id": "aab015a4",
   "metadata": {
    "ExecuteTime": {
     "end_time": "2022-08-12T12:59:21.210509Z",
     "start_time": "2022-08-12T12:59:21.195501Z"
    }
   },
   "outputs": [],
   "source": [
    "def get_label(file_path):\n",
    "  # convert the path to a list of path components\n",
    "  parts = tf.strings.split(file_path, os.path.sep)\n",
    "  # The second to last is the class-directory\n",
    "  one_hot = parts[-2] == class_names\n",
    "  # Integer encode the label\n",
    "  return tf.argmax(one_hot)"
   ]
  },
  {
   "cell_type": "code",
   "execution_count": null,
   "id": "8f528892",
   "metadata": {
    "ExecuteTime": {
     "end_time": "2022-08-12T12:59:21.491271Z",
     "start_time": "2022-08-12T12:59:21.477244Z"
    }
   },
   "outputs": [],
   "source": [
    "def decode_img(img):\n",
    "    # convert the compressed string to a 3D uint8 tensor\n",
    "    img = tf.io.decode_jpeg(img, channels=3)\n",
    "    # resize the image to the desired size\n",
    "    return tf.image.resize(img, [img_height, img_width])"
   ]
  },
  {
   "cell_type": "code",
   "execution_count": null,
   "id": "bb239587",
   "metadata": {
    "ExecuteTime": {
     "end_time": "2022-08-12T12:59:21.774251Z",
     "start_time": "2022-08-12T12:59:21.768779Z"
    }
   },
   "outputs": [],
   "source": [
    "def process_path(file_path):\n",
    "    label = get_label(file_path)\n",
    "    # load the raw data from the file as a string\n",
    "    img = tf.io.read_file(file_path)\n",
    "    img = decode_img(img)\n",
    "    return img, label"
   ]
  },
  {
   "cell_type": "code",
   "execution_count": null,
   "id": "cdaf0ee0",
   "metadata": {
    "ExecuteTime": {
     "end_time": "2022-08-12T12:59:22.072841Z",
     "start_time": "2022-08-12T12:59:22.060731Z"
    }
   },
   "outputs": [],
   "source": [
    "def build_eff_model():\n",
    "    # Top\n",
    "    x = layers.Input(shape=(img_height, img_width, 3))\n",
    "    y = base_model(x)\n",
    "\n",
    "    # Rebuild\n",
    "    y = layers.GlobalAveragePooling2D(name=\"avg_pool\")(y)\n",
    "    y = layers.BatchNormalization()(y)\n",
    "    top_dropout_rate = 0.2\n",
    "    y = layers.Dropout(top_dropout_rate, name=\"top_dropout\")(y)\n",
    "    y = layers.Dense(84, activation=\"softmax\", name=\"Pred\")(y)\n",
    "    \n",
    "    # compile\n",
    "    model = models.Model(x, y, name=\"EfficientNet\")\n",
    "    optimizer = optimizers.Adam(learning_rate=0.0001)\n",
    "    loss = losses.SparseCategoricalCrossentropy()\n",
    "    model.compile(optimizer=optimizer, loss=loss, metrics=[\"acc\"])\n",
    "    return model"
   ]
  },
  {
   "cell_type": "code",
   "execution_count": null,
   "id": "7bed075d",
   "metadata": {
    "ExecuteTime": {
     "end_time": "2022-08-12T12:59:22.373574Z",
     "start_time": "2022-08-12T12:59:22.361562Z"
    }
   },
   "outputs": [],
   "source": [
    "def configure_for_performance(ds):\n",
    "    ds = ds.cache()\n",
    "    ds = ds.shuffle(buffer_size=1000)\n",
    "    ds = ds.batch(batch_size)\n",
    "    ds = ds.prefetch(buffer_size=AUTOTUNE)\n",
    "    return ds"
   ]
  },
  {
   "cell_type": "code",
   "execution_count": null,
   "id": "d40a1b01",
   "metadata": {
    "ExecuteTime": {
     "end_time": "2022-08-12T12:59:26.823709Z",
     "start_time": "2022-08-12T12:59:26.807703Z"
    }
   },
   "outputs": [],
   "source": [
    "class_names = np.array(sorted([item.name for item in data_dir.glob('*')]))\n",
    "class_names"
   ]
  },
  {
   "cell_type": "code",
   "execution_count": null,
   "id": "1b99dec7",
   "metadata": {
    "ExecuteTime": {
     "end_time": "2022-07-19T04:57:12.351770Z",
     "start_time": "2022-07-19T04:57:08.699868Z"
    },
    "scrolled": false
   },
   "outputs": [],
   "source": [
    "BATCH_SIZES = [32, 16, 16, 8, 4, 4, 2, 2]\n",
    "SIZES = [224, 224, 224, 224, 224, 224, 224, 224]\n",
    "AUTOTUNE = tf.data.experimental.AUTOTUNE\n",
    "NAME = [\"B0\", \"B1\", \"B2\", \"B3\", \"B4\",\"B5\",\"B6\",\"B7\"]\n",
    "MODEL = [EfficientNetB0, EfficientNetB1, EfficientNetB2, EfficientNetB3, EfficientNetB4, EfficientNetB5, EfficientNetB6, EfficientNetB7]\n",
    "\n",
    "for name,M, size, bs in zip(NAME, MODEL, SIZES, BATCH_SIZES):\n",
    "    SIZE = size\n",
    "    batch_size = bs\n",
    "    img_height = SIZE\n",
    "    img_width = SIZE\n",
    "    image_size=(img_height, img_width)\n",
    "    train_ds = train_.map(process_path, num_parallel_calls=AUTOTUNE)\n",
    "    valid_ds = valid_.map(process_path, num_parallel_calls=AUTOTUNE)\n",
    "    train_ds = configure_for_performance(train_ds)\n",
    "    valid_ds = configure_for_performance(valid_ds)\n",
    "    base_model = M(input_shape=(img_height,img_width,3), include_top=False, weights='imagenet')\n",
    "    model = build_eff_model()\n",
    "    ckp = callbacks.ModelCheckpoint(f\"model/model_{name}.h5\", save_best_only=True,  monitor=\"val_acc\")\n",
    "    early_stopping = callbacks.EarlyStopping(monitor=\"val_acc\", patience=5)\n",
    "    reduce_lr = callbacks.ReduceLROnPlateau(monitor=\"val_acc\", patience=3, factor=0.1)\n",
    "    model.fit(train_ds,epochs=10,validation_data=valid_ds,callbacks=[ckp, early_stopping, reduce_lr])"
   ]
  },
  {
   "cell_type": "code",
   "execution_count": null,
   "id": "7566d198",
   "metadata": {
    "ExecuteTime": {
     "end_time": "2022-07-19T04:57:44.527638Z",
     "start_time": "2022-07-19T04:57:44.499626Z"
    }
   },
   "outputs": [],
   "source": [
    "model.summary()"
   ]
  },
  {
   "cell_type": "code",
   "execution_count": null,
   "id": "eb1160f0",
   "metadata": {},
   "outputs": [],
   "source": []
  },
  {
   "cell_type": "code",
   "execution_count": null,
   "id": "d79cec21",
   "metadata": {},
   "outputs": [],
   "source": []
  },
  {
   "cell_type": "code",
   "execution_count": null,
   "id": "ab52731b",
   "metadata": {},
   "outputs": [],
   "source": []
  },
  {
   "cell_type": "code",
   "execution_count": null,
   "id": "ba1f761b",
   "metadata": {},
   "outputs": [],
   "source": []
  },
  {
   "cell_type": "code",
   "execution_count": null,
   "id": "ed61eeac",
   "metadata": {},
   "outputs": [],
   "source": []
  },
  {
   "cell_type": "code",
   "execution_count": null,
   "id": "5c33e2ae",
   "metadata": {},
   "outputs": [],
   "source": []
  },
  {
   "cell_type": "code",
   "execution_count": null,
   "id": "f9e17f19",
   "metadata": {},
   "outputs": [],
   "source": []
  },
  {
   "cell_type": "code",
   "execution_count": null,
   "id": "22382432",
   "metadata": {},
   "outputs": [],
   "source": []
  }
 ],
 "metadata": {
  "kernelspec": {
   "display_name": "Python 3 (ipykernel)",
   "language": "python",
   "name": "python3"
  },
  "language_info": {
   "codemirror_mode": {
    "name": "ipython",
    "version": 3
   },
   "file_extension": ".py",
   "mimetype": "text/x-python",
   "name": "python",
   "nbconvert_exporter": "python",
   "pygments_lexer": "ipython3",
   "version": "3.7.10"
  },
  "toc": {
   "base_numbering": 1,
   "nav_menu": {},
   "number_sections": true,
   "sideBar": true,
   "skip_h1_title": false,
   "title_cell": "Table of Contents",
   "title_sidebar": "Contents",
   "toc_cell": false,
   "toc_position": {},
   "toc_section_display": true,
   "toc_window_display": false
  }
 },
 "nbformat": 4,
 "nbformat_minor": 5
}
