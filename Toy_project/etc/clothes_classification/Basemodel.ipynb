{
 "cells": [
  {
   "cell_type": "markdown",
   "id": "9ce7fbac",
   "metadata": {},
   "source": [
    "# 준비\n",
    "## 라이브러리"
   ]
  },
  {
   "cell_type": "code",
   "execution_count": 1,
   "id": "2642f94a",
   "metadata": {
    "ExecuteTime": {
     "end_time": "2022-08-17T18:38:06.481710Z",
     "start_time": "2022-08-17T18:38:02.222892Z"
    }
   },
   "outputs": [
    {
     "data": {
      "text/plain": [
       "[PhysicalDevice(name='/physical_device:GPU:0', device_type='GPU')]"
      ]
     },
     "execution_count": 1,
     "metadata": {},
     "output_type": "execute_result"
    }
   ],
   "source": [
    "import datetime, os, time, pathlib\n",
    "import numpy as np\n",
    "import pandas as pd\n",
    "import tensorflow as tf\n",
    "from PIL import Image\n",
    "from tensorflow.keras import losses, models, layers, optimizers, callbacks, utils, metrics\n",
    "from tensorflow.keras.layers.experimental import preprocessing\n",
    "from tensorflow.keras.applications import EfficientNetV2S\n",
    "import matplotlib.pyplot as plt\n",
    "\n",
    "tf.config.list_physical_devices(\"GPU\")"
   ]
  },
  {
   "cell_type": "markdown",
   "id": "d81f3514",
   "metadata": {},
   "source": [
    "## 데이터"
   ]
  },
  {
   "cell_type": "code",
   "execution_count": 2,
   "id": "f37fc14d",
   "metadata": {
    "ExecuteTime": {
     "end_time": "2022-08-17T18:38:07.424152Z",
     "start_time": "2022-08-17T18:38:07.382746Z"
    }
   },
   "outputs": [],
   "source": [
    "# Dataframe\n",
    "train = pd.read_csv(\"D:Dataset/dataset/Task1/info_etri20_emotion_train.csv\", index_col=0)\n",
    "train[\"Daily\"] = train[\"Daily\"].astype(\"str\")\n",
    "train[\"Gender\"] = train[\"Gender\"].astype(\"str\")\n",
    "train[\"Embellishment\"] = train[\"Embellishment\"].astype(\"str\")"
   ]
  },
  {
   "cell_type": "markdown",
   "id": "658e8bf4",
   "metadata": {},
   "source": [
    "# Helper function"
   ]
  },
  {
   "cell_type": "code",
   "execution_count": 3,
   "id": "65746ab8",
   "metadata": {
    "ExecuteTime": {
     "end_time": "2022-08-17T18:38:08.862927Z",
     "start_time": "2022-08-17T18:38:08.379430Z"
    }
   },
   "outputs": [],
   "source": [
    "def get_label(target):\n",
    "    one_hot = target == class_names  # True / False\n",
    "    return tf.argmax(one_hot)\n",
    "\n",
    "\n",
    "def process_path(file_path, target):  # image, label\n",
    "    label = get_label(target)  # 원-핫 벡터 label     |       4 -> (0,0,0,0,1,0,0)\n",
    "    img = tf.io.read_file(file_path)  # %A3 %df %Ae #16진법 2비트\n",
    "    img = tf.io.decode_jpeg(img, channels=3)  # 2진법 8비트로 해독 (0~255)\n",
    "    img = tf.image.resize(img, [img_height, img_width])  # 사이즈 조절 (3 채널만 가능하다)\n",
    "    img = img / 255  # normalize ([0.444, 0.234, 0.323]) # 정규화 1/255\n",
    "    return img, label\n",
    "\n",
    "def configure_for_performance(ds):\n",
    "    ds = ds.cache()\n",
    "    ds = ds.shuffle(buffer_size=1000)\n",
    "    ds = ds.batch(batch_size)\n",
    "    ds = ds.prefetch(buffer_size=AUTOTUNE)\n",
    "    return ds\n",
    "\n",
    "\n",
    "def batch_calc(size):\n",
    "    if size >= 400:\n",
    "        batch_size = 1\n",
    "    elif size >= 300:\n",
    "        batch_size = 4\n",
    "    elif size >= 200:\n",
    "        batch_size = 8\n",
    "    else:\n",
    "        batch_size = 16\n",
    "    return batch_size\n",
    "\n",
    "\n",
    "def build_eff_model(cl):\n",
    "    # Top\n",
    "    x = layers.Input(shape=(img_height, img_width, 3))  #input_layer\n",
    "    y = base_model(x)  # EfficientB7 , inclode_top = False, inclode_top=True면 input_layer를 포함함\n",
    "\n",
    "    # Rebuild\n",
    "    y = layers.GlobalAveragePooling2D(name=\"avg_pool\")(y)\n",
    "    y = layers.BatchNormalization()(y)\n",
    "    y = layers.Dense(128,\n",
    "                     activation=tf.keras.layers.LeakyReLU(),\n",
    "                     name=\"Dense_last\")(y)\n",
    "    y = layers.BatchNormalization()(y)\n",
    "    y = layers.Dense(cl, activation=\"softmax\", name=\"Pred\")(y)\n",
    "    # 클래스 개수만큼 마지막 Dense 층 설정, (0/1 분류면 Dense=1, sigmoid), (다중 분류면 Dense=N, softmax)\n",
    "\n",
    "    # compile\n",
    "    model = models.Model(x, y, name=\"EfficientNet\")\n",
    "    optimizer = optimizers.Adam(learning_rate=0.0002)\n",
    "    loss = losses.SparseCategoricalCrossentropy(\n",
    "    )  # label이 원-핫이면 SCC, # label이 원-핫이 아니면 CC\n",
    "    model.compile(optimizer=optimizer, loss=loss, metrics=[\"acc\"])\n",
    "    return model\n",
    "\n",
    "\n",
    "simple_aug = tf.keras.Sequential(\n",
    "    [\n",
    "        layers.RandomFlip(\"horizontal\"),\n",
    "        layers.RandomRotation(factor=0.02),\n",
    "        layers.RandomZoom(height_factor=0.2, width_factor=0.2),\n",
    "        layers.RandomBrightness(0.2),\n",
    "        layers.RandomContrast(0.2)\n",
    "    ]\n",
    ")"
   ]
  },
  {
   "cell_type": "code",
   "execution_count": 4,
   "id": "78180ef8",
   "metadata": {
    "ExecuteTime": {
     "end_time": "2022-08-17T18:38:09.131388Z",
     "start_time": "2022-08-17T18:38:09.121356Z"
    }
   },
   "outputs": [],
   "source": [
    "from IPython.display import clear_output\n",
    "from tensorflow.keras import backend as K\n",
    "import matplotlib.pyplot as plt\n",
    "\n",
    "class PlotLearning(tf.keras.callbacks.Callback):\n",
    "    def on_train_begin(self, logs={}):\n",
    "        self.metrics = {}\n",
    "        for metric in logs:\n",
    "            self.metrics[metric] = []   \n",
    "    def on_epoch_end(self, epoch, logs={}):\n",
    "        # Storing metrics\n",
    "        for metric in logs:\n",
    "            if metric in self.metrics:\n",
    "                self.metrics[metric].append(logs.get(metric))\n",
    "            else:\n",
    "                self.metrics[metric] = [logs.get(metric)]     \n",
    "        metrics = [x for x in logs if 'val' not in x]\n",
    "        f, axs = plt.subplots(1, len(metrics), figsize=(15,5))\n",
    "        clear_output(wait=True)\n",
    "        for i, metric in enumerate(metrics):\n",
    "            axs[i].plot(range(1, epoch + 2), \n",
    "                        self.metrics[metric], \n",
    "                        label=metric)\n",
    "            if logs['val_' + metric]:\n",
    "                axs[i].plot(range(1, epoch + 2), \n",
    "                            self.metrics['val_' + metric], \n",
    "                            label='val_' + metric)      \n",
    "            axs[i].legend()\n",
    "        plt.tight_layout()\n",
    "        plt.show()"
   ]
  },
  {
   "cell_type": "markdown",
   "id": "c7eacd8c",
   "metadata": {},
   "source": [
    "# Training"
   ]
  },
  {
   "cell_type": "markdown",
   "id": "95df35e2",
   "metadata": {},
   "source": [
    "## Gender"
   ]
  },
  {
   "cell_type": "code",
   "execution_count": null,
   "id": "59a0293e",
   "metadata": {
    "ExecuteTime": {
     "end_time": "2022-08-17T16:34:44.541747Z",
     "start_time": "2022-08-17T16:34:44.532745Z"
    }
   },
   "outputs": [],
   "source": [
    "# DS\n",
    "list_ds = tf.data.Dataset.from_tensor_slices( (train[\"data_path\"].values, train[\"Gender\"].values) ) # (x,y) = (image, label)\n",
    "list_ds = list_ds.shuffle(len(list_ds), reshuffle_each_iteration=False) # 데이터 셔플 / 랜덤\n",
    "class_names = np.array( train[\"Gender\"].unique() )\n",
    "\n",
    "# DS split (10%)\n",
    "val_size = int(len(list_ds)*0.1) # 1147 # 10%는 valid set\n",
    "train_ = list_ds.skip(val_size) # 10% 를 넘김 # 90%\n",
    "valid_ = list_ds.take(val_size) # 10% 를 가짐 \n",
    "NUM_TRAIN = tf.data.experimental.cardinality(train_).numpy()\n",
    "NUM_VALID = tf.data.experimental.cardinality(valid_).numpy()"
   ]
  },
  {
   "cell_type": "code",
   "execution_count": null,
   "id": "7801b81f",
   "metadata": {
    "ExecuteTime": {
     "end_time": "2022-08-17T13:57:04.002586Z",
     "start_time": "2022-08-17T13:57:04.002586Z"
    },
    "scrolled": false
   },
   "outputs": [],
   "source": [
    "# batch_size = 16\n",
    "# AUTOTUNE = tf.data.experimental.AUTOTUNE\n",
    "# NAME = [\"B4\",\"B7\"]\n",
    "# MODEL = [EfficientNetB4, EfficientNetB7]\n",
    "# SIZE = [180, 300]\n",
    "# for name, M, size in zip(NAME, MODEL, SIZE):\n",
    "#     # img 사이즈 설정\n",
    "#     img_height = size\n",
    "#     img_width = size\n",
    "#     image_size=(img_height, img_width)\n",
    "    \n",
    "#     batch_size=batch_calc(size)\n",
    "    \n",
    "#     # 데이터셋 호출!\n",
    "#     # img_path, label -> img, one_hot vector label\n",
    "#     train_ds = train_.map(process_path, num_parallel_calls=AUTOTUNE)\n",
    "#     valid_ds = valid_.map(process_path, num_parallel_calls=AUTOTUNE)\n",
    "    \n",
    "#     # 하드웨어 성능향상 \n",
    "#     train_ds = configure_for_performance(train_ds)\n",
    "#     valid_ds = configure_for_performance(valid_ds)\n",
    "    \n",
    "#     # 베이스 모델 호출!\n",
    "#     base_model = M(input_shape=(img_height,img_width,3), include_top=False, weights='imagenet')\n",
    "#     model = build_eff_model()\n",
    "    \n",
    "#     # 콜백!\n",
    "#     ckp = callbacks.ModelCheckpoint(f\"model/model_{name}_gender.h5\", save_best_only=True,  monitor=\"val_acc\")\n",
    "#     lr = callbacks.ReduceLROnPlateau(monitor=\"val_loss\", patience=5, cooldown=2)\n",
    "#     es = callbacks.EarlyStopping(monitor=\"val_loss\", patience=10)\n",
    "    \n",
    "#     # 학습!\n",
    "#     print(\"\\n\\n\"+name+\"Pre Training\")\n",
    "#     base_model.trainable=False\n",
    "#     model.fit(train_ds, epochs=20, validation_data=valid_ds, callbacks=[ckp, lr,es])\n",
    "#     print(\"\\n\\n\"+name+\"Fine Tuning\")\n",
    "#     base_model.trainable=True\n",
    "#     model.fit(train_ds, epochs=20, validation_data=valid_ds, callbacks=[ckp, lr,es])"
   ]
  },
  {
   "cell_type": "markdown",
   "id": "0ed5b13e",
   "metadata": {
    "heading_collapsed": true
   },
   "source": [
    "## Daily"
   ]
  },
  {
   "cell_type": "code",
   "execution_count": null,
   "id": "af7ab81a",
   "metadata": {
    "ExecuteTime": {
     "end_time": "2022-08-17T14:30:31.921637Z",
     "start_time": "2022-08-17T14:30:31.427474Z"
    },
    "hidden": true
   },
   "outputs": [],
   "source": [
    "# # DS\n",
    "# list_ds = tf.data.Dataset.from_tensor_slices( (train[\"data_path\"].values, train[\"Daily\"].values) ) # (x,y) = (image, label)\n",
    "# list_ds = list_ds.shuffle(len(list_ds), reshuffle_each_iteration=False) # 데이터 셔플 / 랜덤\n",
    "# class_names = np.array(train[\"Daily\"].unique())\n",
    "# class_len = len(class_names)\n",
    "\n",
    "# # DS split (10%)\n",
    "# val_size = int(len(list_ds)*0.1) # 1147 # 10%는 valid set\n",
    "# train_ = list_ds.skip(val_size) # 10% 를 넘김 # 90%\n",
    "# valid_ = list_ds.take(val_size) # 10% 를 가짐 \n",
    "# NUM_TRAIN = tf.data.experimental.cardinality(train_).numpy()\n",
    "# NUM_VALID = tf.data.experimental.cardinality(valid_).numpy()"
   ]
  },
  {
   "cell_type": "code",
   "execution_count": null,
   "id": "c42180ef",
   "metadata": {
    "ExecuteTime": {
     "end_time": "2022-08-17T15:51:38.025811Z",
     "start_time": "2022-08-17T14:30:32.516378Z"
    },
    "hidden": true,
    "scrolled": false
   },
   "outputs": [],
   "source": [
    "# batch_size = 16\n",
    "# AUTOTUNE = tf.data.experimental.AUTOTUNE\n",
    "# NAME = [\"B4\",\"B5\"]\n",
    "# MODEL = [EfficientNetB4, EfficientNetB5]\n",
    "# SIZE = [180, 240]\n",
    "# for name, M, size in zip(NAME, MODEL, SIZE):\n",
    "#     # img 사이즈 설정\n",
    "#     img_height = size\n",
    "#     img_width = size\n",
    "#     image_size=(img_height, img_width)\n",
    "    \n",
    "#     batch_size=batch_calc(size)\n",
    "    \n",
    "#     # 데이터셋 호출!\n",
    "#     # img_path, label -> img, one_hot vector label\n",
    "#     train_ds = train_.map(process_path, num_parallel_calls=AUTOTUNE)\n",
    "#     valid_ds = valid_.map(process_path, num_parallel_calls=AUTOTUNE)\n",
    "    \n",
    "#     # 하드웨어 성능향상 \n",
    "#     train_ds = configure_for_performance(train_ds)\n",
    "#     valid_ds = configure_for_performance(valid_ds)\n",
    "    \n",
    "#     # 베이스 모델 호출!\n",
    "#     base_model = M(input_shape=(img_height,img_width,3), include_top=False, weights='imagenet')\n",
    "#     model = build_eff_model(class_len)\n",
    "    \n",
    "#     # 콜백!\n",
    "#     ckp_p = callbacks.ModelCheckpoint(f\"model/model_{name}_Daily_P.h5\", save_best_only=True,  monitor=\"val_acc\")\n",
    "#     ckp_t = callbacks.ModelCheckpoint(f\"model/model_{name}_Daily_T.h5\", save_best_only=True,  monitor=\"val_acc\")\n",
    "#     lr = callbacks.ReduceLROnPlateau(monitor=\"val_loss\", patience=5, cooldown=2)\n",
    "#     es = callbacks.EarlyStopping(monitor=\"val_loss\", patience=10)\n",
    "    \n",
    "#     # 학습!\n",
    "#     print(\"\\n\"+\"--------------    Pre Training       -----------------\")\n",
    "#     print(\"----------------------- \"+name+\" ------------------------\")\n",
    "#     base_model.trainable=False\n",
    "#     model.fit(train_ds, epochs=20, validation_data=valid_ds, callbacks=[ckp, lr,es])\n",
    "#     print(\"\\n\"+\"--------------      Fine Tuning     -----------------\")\n",
    "#     print(\"----------------------- \"+name+\" -----------------------\")\n",
    "#     base_model.trainable=True\n",
    "#     model.fit(train_ds, epochs=20, validation_data=valid_ds, callbacks=[ckp, lr,es])"
   ]
  },
  {
   "cell_type": "markdown",
   "id": "d84598c7",
   "metadata": {},
   "source": [
    "## Embellishment"
   ]
  },
  {
   "cell_type": "code",
   "execution_count": 5,
   "id": "4d36f619",
   "metadata": {
    "ExecuteTime": {
     "end_time": "2022-08-17T18:38:11.835946Z",
     "start_time": "2022-08-17T18:38:11.820720Z"
    }
   },
   "outputs": [],
   "source": [
    "# DS\n",
    "list_ds = tf.data.Dataset.from_tensor_slices( (train[\"data_path\"].values, train[\"Embellishment\"].values) ) # (x,y) = (image, label)\n",
    "list_ds = list_ds.shuffle(len(list_ds), reshuffle_each_iteration=False) # 데이터 셔플 / 랜덤\n",
    "class_names = np.array(train[\"Embellishment\"].unique())\n",
    "class_len = len(class_names)\n",
    "\n",
    "# DS split (10%)\n",
    "val_size = int(len(list_ds)*0.1) # 1147 # 10%는 valid set\n",
    "train_ = list_ds.skip(val_size) # 10% 를 넘김 # 90%\n",
    "valid_ = list_ds.take(val_size) # 10% 를 가짐 \n",
    "NUM_TRAIN = tf.data.experimental.cardinality(train_).numpy()\n",
    "NUM_VALID = tf.data.experimental.cardinality(valid_).numpy()"
   ]
  },
  {
   "cell_type": "code",
   "execution_count": 6,
   "id": "f20c87a9",
   "metadata": {
    "ExecuteTime": {
     "end_time": "2022-08-17T20:42:31.605919Z",
     "start_time": "2022-08-17T18:39:00.563295Z"
    },
    "scrolled": false
   },
   "outputs": [
    {
     "data": {
      "image/png": "[encoded data removed]",
      "text/plain": [
       "<Figure size 1080x360 with 2 Axes>"
      ]
     },
     "metadata": {
      "needs_background": "light"
     },
     "output_type": "display_data"
    },
    {
     "name": "stdout",
     "output_type": "stream",
     "text": [
      "\b\b\b\b\b\b\b\b\b\b\b\b\b\b\b\b\b\b\b\b\b\b\b\b\b\b\b\b\b\b\b\b\b\b\b\b\b\b\b\b\b\b\b\b\b\b\b\b\b\b\b\b\b\b\b\b\b\b\b\b\b\b\b\b\b\b\b\b\b\b\b\b\b\b\b\b\b\b\b\b\b\r",
      "5165/5165 [==============================] - 525s 102ms/step - loss: 0.9861 - acc: 0.5479 - val_loss: 3.6460 - val_acc: 0.2956\n"
     ]
    }
   ],
   "source": [
    "batch_size = 2\n",
    "AUTOTUNE = tf.data.experimental.AUTOTUNE\n",
    "NAME = [\"V2S\"]\n",
    "MODEL = [EfficientNetV2S]\n",
    "SIZE = [384]\n",
    "for name, M, size in zip(NAME, MODEL, SIZE):\n",
    "    # img 사이즈 설정\n",
    "    img_height = size\n",
    "    img_width = size\n",
    "    image_size=(img_height, img_width)\n",
    "    \n",
    "#     batch_size=batch_calc(size)\n",
    "    \n",
    "    # 데이터셋 호출!\n",
    "    # img_path, label -> img, one_hot vector label\n",
    "    train_ds = train_.map(process_path, num_parallel_calls=AUTOTUNE)\n",
    "    valid_ds = valid_.map(process_path, num_parallel_calls=AUTOTUNE)\n",
    "    \n",
    "    # 증강\n",
    "    train_ds = train_ds.map(lambda x, y: (album_aug(x), y), num_parallel_calls=AUTOTUNE)\n",
    "    \n",
    "    # 하드웨어 성능향상 \n",
    "    train_ds = configure_for_performance(train_ds) \n",
    "    valid_ds = configure_for_performance(valid_ds)\n",
    "    \n",
    "    # 베이스 모델 호출!\n",
    "    base_model = M(input_shape=(img_height,img_width,3), include_top=False, weights='imagenet')\n",
    "    model = build_eff_model(class_len)\n",
    "    \n",
    "    # 콜백!\n",
    "    ckp = callbacks.ModelCheckpoint(f\"model/model_{name}_Embellishment.h5\", save_best_only=True,  monitor=\"val_acc\")\n",
    "    es = callbacks.EarlyStopping(monitor=\"val_loss\", patience=10)\n",
    "    \n",
    "    # 학습!\n",
    "    print(\"\\n\"+\"--------------      Fine Tuning     -----------------\")\n",
    "    print(\"----------------------- \"+name+\" -----------------------\")\n",
    "    model.fit(train_ds, epochs=30, validation_data=valid_ds, callbacks=[ckp, PlotLearning(), es])"
   ]
  },
  {
   "cell_type": "code",
   "execution_count": null,
   "id": "8cd463bd",
   "metadata": {},
   "outputs": [],
   "source": []
  }
 ],
 "metadata": {
  "kernelspec": {
   "display_name": "Python 3 (ipykernel)",
   "language": "python",
   "name": "python3"
  },
  "language_info": {
   "codemirror_mode": {
    "name": "ipython",
    "version": 3
   },
   "file_extension": ".py",
   "mimetype": "text/x-python",
   "name": "python",
   "nbconvert_exporter": "python",
   "pygments_lexer": "ipython3",
   "version": "3.9.0"
  },
  "toc": {
   "base_numbering": 1,
   "nav_menu": {},
   "number_sections": true,
   "sideBar": true,
   "skip_h1_title": false,
   "title_cell": "Table of Contents",
   "title_sidebar": "Contents",
   "toc_cell": false,
   "toc_position": {},
   "toc_section_display": true,
   "toc_window_display": false
  }
 },
 "nbformat": 4,
 "nbformat_minor": 5
}
