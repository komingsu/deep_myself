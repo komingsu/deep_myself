{
 "cells": [
  {
   "cell_type": "code",
   "execution_count": 113,
   "id": "84c8c1fd",
   "metadata": {
    "ExecuteTime": {
     "end_time": "2022-09-08T10:36:33.080219Z",
     "start_time": "2022-09-08T10:36:33.068016Z"
    }
   },
   "outputs": [],
   "source": [
    "import numpy as np\n",
    "from glob import glob\n",
    "import matplotlib.pyplot as plt\n",
    "import matplotlib\n",
    "\n",
    "import tensorflow as tf\n",
    "from PIL import Image\n",
    "import cv2\n",
    "import random\n",
    "from skimage.color import rgb2lab, lab2rgb"
   ]
  },
  {
   "cell_type": "code",
   "execution_count": 114,
   "id": "4a8e3e8c",
   "metadata": {
    "ExecuteTime": {
     "end_time": "2022-09-08T10:36:35.492708Z",
     "start_time": "2022-09-08T10:36:35.417785Z"
    }
   },
   "outputs": [
    {
     "data": {
      "text/plain": [
       "21837"
      ]
     },
     "execution_count": 114,
     "metadata": {},
     "output_type": "execute_result"
    }
   ],
   "source": [
    "paths = glob(\"D:Dataset/dataset/coco_sample/train_sample/*\")# paths 변수에 모든 이미지의 경로를 리스트로 저장.\n",
    "len(paths)"
   ]
  },
  {
   "cell_type": "code",
   "execution_count": 115,
   "id": "9002a5a6",
   "metadata": {
    "ExecuteTime": {
     "end_time": "2022-09-08T10:36:36.916464Z",
     "start_time": "2022-09-08T10:36:36.903351Z"
    }
   },
   "outputs": [
    {
     "name": "stdout",
     "output_type": "stream",
     "text": [
      "8000 2000\n"
     ]
    }
   ],
   "source": [
    "chosen_paths = np.random.choice(paths, 10000, replace=False) # 10000장의 이미지의 경로를 랜덤으로 paths_subset에 저장\n",
    "index = np.random.permutation(10000) # 10000 안에서 랜덤으로 인덱스 생성\n",
    "\n",
    "train_paths = chosen_paths[index[:8000]] # 8000번째까지를 training set 경로로 지정\n",
    "val_paths = chosen_paths[index[8000:]] # 나머지 2000개를 validation set 경로로 지정\n",
    "print(len(train_paths), len(val_paths))"
   ]
  },
  {
   "cell_type": "code",
   "execution_count": 143,
   "id": "ad7877d2",
   "metadata": {
    "ExecuteTime": {
     "end_time": "2022-09-08T10:58:30.836408Z",
     "start_time": "2022-09-08T10:58:30.828406Z"
    }
   },
   "outputs": [
    {
     "data": {
      "text/plain": [
       "array(<map object at 0x000001C86A7B7820>, dtype=object)"
      ]
     },
     "execution_count": 143,
     "metadata": {},
     "output_type": "execute_result"
    }
   ],
   "source": [
    "a = np.array([1,2,3])\n",
    "def time2(x):\n",
    "    return 2*x\n",
    "np.array(map(time2,a))"
   ]
  },
  {
   "cell_type": "code",
   "execution_count": null,
   "id": "7f9f3b87",
   "metadata": {},
   "outputs": [],
   "source": [
    "class ImageDataGenerator(tf.keras.utils.Sequence):\n",
    "    def __init__(self, train_paths, batch_size=32, train=False, size=256):\n",
    "        self.paths = train_pahts\n",
    "        self.dim = size\n",
    "        self.train = train\n",
    "\n",
    "    def __len__(self):\n",
    "        return np.ceil(len(self.paths) / self.batch_size).astype(int)\n",
    "    \n",
    "    def on_epoch_end(self):\n",
    "        if self.train: #Reshuffle train on end of epoch\n",
    "            self.df = np.random.shuffle(self.df)\n",
    "            \n",
    "    def __getitem__(self, idx):\n",
    "        batch_x = self.df[idx*self.batch_size:(idx+1)*self.batch_size]\n",
    "        \n",
    "        if not self.train:\n",
    "            X = np.zeros((batch_x.shape[0], self.dim, self.dim, 3))\n",
    "            \n",
    "            for i in range(batch_x.shape[0]):\n",
    "                image = Image.open(BASE_PATH+f\"{self.pref}_images/{batch_x[i]}.tiff\")\n",
    "                image = image.resize((self.dim, self.dim))\n",
    "                image = np.array(image) / 255.\n",
    "                X[i,] = image\n",
    "                \n",
    "            return X\n",
    "                \n",
    "        else:\n",
    "            batch_y = self.df.iloc[idx*self.batch_size:(idx+1)*self.batch_size].rle.values\n",
    "            batch_w = self.df.iloc[idx*self.batch_size:(idx+1)*self.batch_size].img_width.values\n",
    "            #print(batch_y, batch_w)\n",
    "            X = np.zeros((batch_x.shape[0]*4, self.dim, self.dim, 3))\n",
    "            Y = np.zeros((batch_x.shape[0]*4, self.dim, self.dim, 1))\n",
    "            \n",
    "            for i in range(batch_x.shape[0]):\n",
    "                image = Image.open(BASE_PATH+f\"{self.pref}_images/{batch_x[i]}.tiff\")\n",
    "                image = image.resize((self.dim, self.dim))\n",
    "                image = np.array(image) / 255.\n",
    "                rle = rle2mask(batch_y[i], batch_w[i], self.dim)\n",
    "                rle = rle.reshape((self.dim, self.dim, 1))\n",
    "\n",
    "                for n, (h, v) in enumerate([(0, 0), (0, 1), (1, 0), (1, 1)]):\n",
    "                    X[i*4 + n, :, :, :] = self.flip_image(image, h, v)[:, :, :]\n",
    "                    Y[i*4 + n, :, :, :] = self.flip_image(rle, h, v)[:, :, :]\n",
    "                    \n",
    "            return X, Y#.reshape(Y.shape[:-1])\n",
    "                \n",
    "    \n",
    "    def flip_image(self, image, horizontal=True, vertical=True):\n",
    "        n_image = image.copy()\n",
    "        \n",
    "        if horizontal:\n",
    "            n_image = n_image[:, ::-1, :]\n",
    "        if vertical:\n",
    "            n_image = n_image[::-1, :, :]\n",
    "        return n_image"
   ]
  }
 ],
 "metadata": {
  "kernelspec": {
   "display_name": "Python 3 (ipykernel)",
   "language": "python",
   "name": "python3"
  },
  "language_info": {
   "codemirror_mode": {
    "name": "ipython",
    "version": 3
   },
   "file_extension": ".py",
   "mimetype": "text/x-python",
   "name": "python",
   "nbconvert_exporter": "python",
   "pygments_lexer": "ipython3",
   "version": "3.9.0"
  },
  "toc": {
   "base_numbering": 1,
   "nav_menu": {},
   "number_sections": true,
   "sideBar": true,
   "skip_h1_title": false,
   "title_cell": "Table of Contents",
   "title_sidebar": "Contents",
   "toc_cell": false,
   "toc_position": {},
   "toc_section_display": true,
   "toc_window_display": false
  }
 },
 "nbformat": 4,
 "nbformat_minor": 5
}
