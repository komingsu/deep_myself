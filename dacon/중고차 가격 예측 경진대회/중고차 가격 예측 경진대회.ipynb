{
 "cells": [
  {
   "cell_type": "markdown",
   "id": "04eda52c",
   "metadata": {},
   "source": [
    "# 준비"
   ]
  },
  {
   "cell_type": "code",
   "execution_count": 1,
   "id": "93964002",
   "metadata": {
    "ExecuteTime": {
     "end_time": "2022-06-02T16:52:27.206830Z",
     "start_time": "2022-06-02T16:52:26.373392Z"
    }
   },
   "outputs": [],
   "source": [
    "import numpy as np\n",
    "import pandas as pd\n",
    "import matplotlib.pyplot as plt\n",
    "import seaborn as sns\n",
    "\n",
    "import warnings\n",
    "warnings.filterwarnings(action='ignore')\n",
    "plt.rc(\"axes\", unicode_minus=False) # 음수값 깨지는 폰트 설정\n",
    "pd.options.display.max_columns = 50 # 칼럼수 50개까지"
   ]
  },
  {
   "cell_type": "code",
   "execution_count": 24,
   "id": "a0bf5e72",
   "metadata": {
    "ExecuteTime": {
     "end_time": "2022-06-02T07:26:28.170960Z",
     "start_time": "2022-06-02T07:26:28.156957Z"
    }
   },
   "outputs": [],
   "source": [
    "# 평가산식\n",
    "from sklearn.metrics import make_scorer\n",
    "\n",
    "def nmae(answer, pred):\n",
    "    mae = np.mean(np.abs(answer-pred))\n",
    "    score = mae / np.mean(np.abs(answer))\n",
    "    return score\n",
    "NMAE = make_scorer(nmae, greater_is_better=False)\n",
    "\n",
    "def at_NMAE(y_pred, dataset):\n",
    "    y_true = dataset.get_label()\n",
    "    \n",
    "    mae = np.mean(np.abs(y_true-y_pred))\n",
    "    score = mae / np.mean(np.abs(y_true))\n",
    "\n",
    "    return \"score\", score, False"
   ]
  },
  {
   "cell_type": "code",
   "execution_count": 2,
   "id": "5a4172e5",
   "metadata": {
    "ExecuteTime": {
     "end_time": "2022-06-02T16:52:27.535484Z",
     "start_time": "2022-06-02T16:52:27.517481Z"
    }
   },
   "outputs": [
    {
     "data": {
      "text/plain": [
       "((1015, 11), (436, 10), (436, 2))"
      ]
     },
     "execution_count": 2,
     "metadata": {},
     "output_type": "execute_result"
    }
   ],
   "source": [
    "train_data = pd.read_csv(\"train.csv\")\n",
    "test_data = pd.read_csv(\"test.csv\")\n",
    "submission = pd.read_csv(\"sample_submission.csv\")\n",
    "train_data.shape, test_data.shape, submission.shape"
   ]
  },
  {
   "cell_type": "code",
   "execution_count": 26,
   "id": "b9593b48",
   "metadata": {
    "ExecuteTime": {
     "end_time": "2022-06-02T07:26:30.086117Z",
     "start_time": "2022-06-02T07:26:30.070114Z"
    }
   },
   "outputs": [
    {
     "data": {
      "text/html": [
       "<div>\n",
       "<style scoped>\n",
       "    .dataframe tbody tr th:only-of-type {\n",
       "        vertical-align: middle;\n",
       "    }\n",
       "\n",
       "    .dataframe tbody tr th {\n",
       "        vertical-align: top;\n",
       "    }\n",
       "\n",
       "    .dataframe thead th {\n",
       "        text-align: right;\n",
       "    }\n",
       "</style>\n",
       "<table border=\"1\" class=\"dataframe\">\n",
       "  <thead>\n",
       "    <tr style=\"text-align: right;\">\n",
       "      <th></th>\n",
       "      <th>id</th>\n",
       "      <th>title</th>\n",
       "      <th>odometer</th>\n",
       "      <th>location</th>\n",
       "      <th>isimported</th>\n",
       "      <th>engine</th>\n",
       "      <th>transmission</th>\n",
       "      <th>fuel</th>\n",
       "      <th>paint</th>\n",
       "      <th>year</th>\n",
       "      <th>target</th>\n",
       "    </tr>\n",
       "  </thead>\n",
       "  <tbody>\n",
       "    <tr>\n",
       "      <th>0</th>\n",
       "      <td>0</td>\n",
       "      <td>Toyota RAV 4</td>\n",
       "      <td>18277</td>\n",
       "      <td>Lagos</td>\n",
       "      <td>Foreign Used</td>\n",
       "      <td>4-cylinder(I4)</td>\n",
       "      <td>automatic</td>\n",
       "      <td>petrol</td>\n",
       "      <td>Red</td>\n",
       "      <td>2016</td>\n",
       "      <td>13665000</td>\n",
       "    </tr>\n",
       "    <tr>\n",
       "      <th>1</th>\n",
       "      <td>1</td>\n",
       "      <td>Toyota Land Cruiser</td>\n",
       "      <td>10</td>\n",
       "      <td>Lagos</td>\n",
       "      <td>New</td>\n",
       "      <td>4-cylinder(I4)</td>\n",
       "      <td>automatic</td>\n",
       "      <td>petrol</td>\n",
       "      <td>Black</td>\n",
       "      <td>2019</td>\n",
       "      <td>33015000</td>\n",
       "    </tr>\n",
       "    <tr>\n",
       "      <th>2</th>\n",
       "      <td>2</td>\n",
       "      <td>Land Rover Range Rover Evoque</td>\n",
       "      <td>83091</td>\n",
       "      <td>Lagos</td>\n",
       "      <td>Foreign Used</td>\n",
       "      <td>6-cylinder(V6)</td>\n",
       "      <td>automatic</td>\n",
       "      <td>petrol</td>\n",
       "      <td>Red</td>\n",
       "      <td>2012</td>\n",
       "      <td>9915000</td>\n",
       "    </tr>\n",
       "    <tr>\n",
       "      <th>3</th>\n",
       "      <td>3</td>\n",
       "      <td>Lexus ES 350</td>\n",
       "      <td>91524</td>\n",
       "      <td>Lagos</td>\n",
       "      <td>Foreign Used</td>\n",
       "      <td>4-cylinder(I4)</td>\n",
       "      <td>automatic</td>\n",
       "      <td>petrol</td>\n",
       "      <td>Gray</td>\n",
       "      <td>2007</td>\n",
       "      <td>3815000</td>\n",
       "    </tr>\n",
       "    <tr>\n",
       "      <th>4</th>\n",
       "      <td>4</td>\n",
       "      <td>Toyota Venza</td>\n",
       "      <td>94177</td>\n",
       "      <td>Lagos</td>\n",
       "      <td>Foreign Used</td>\n",
       "      <td>6-cylinder(V6)</td>\n",
       "      <td>automatic</td>\n",
       "      <td>petrol</td>\n",
       "      <td>Red</td>\n",
       "      <td>2010</td>\n",
       "      <td>7385000</td>\n",
       "    </tr>\n",
       "  </tbody>\n",
       "</table>\n",
       "</div>"
      ],
      "text/plain": [
       "   id                          title  odometer location    isimported  \\\n",
       "0   0                   Toyota RAV 4     18277   Lagos   Foreign Used   \n",
       "1   1            Toyota Land Cruiser        10    Lagos          New    \n",
       "2   2  Land Rover Range Rover Evoque     83091    Lagos  Foreign Used   \n",
       "3   3                   Lexus ES 350     91524    Lagos  Foreign Used   \n",
       "4   4                   Toyota Venza     94177    Lagos  Foreign Used   \n",
       "\n",
       "           engine transmission    fuel  paint  year    target  \n",
       "0  4-cylinder(I4)    automatic  petrol    Red  2016  13665000  \n",
       "1  4-cylinder(I4)    automatic  petrol  Black  2019  33015000  \n",
       "2  6-cylinder(V6)    automatic  petrol    Red  2012   9915000  \n",
       "3  4-cylinder(I4)    automatic  petrol   Gray  2007   3815000  \n",
       "4  6-cylinder(V6)    automatic  petrol    Red  2010   7385000  "
      ]
     },
     "execution_count": 26,
     "metadata": {},
     "output_type": "execute_result"
    }
   ],
   "source": [
    "train_data.head()"
   ]
  },
  {
   "cell_type": "code",
   "execution_count": 27,
   "id": "48e92163",
   "metadata": {
    "ExecuteTime": {
     "end_time": "2022-06-02T07:26:31.805719Z",
     "start_time": "2022-06-02T07:26:31.780713Z"
    }
   },
   "outputs": [
    {
     "data": {
      "text/html": [
       "<div>\n",
       "<style scoped>\n",
       "    .dataframe tbody tr th:only-of-type {\n",
       "        vertical-align: middle;\n",
       "    }\n",
       "\n",
       "    .dataframe tbody tr th {\n",
       "        vertical-align: top;\n",
       "    }\n",
       "\n",
       "    .dataframe thead th {\n",
       "        text-align: right;\n",
       "    }\n",
       "</style>\n",
       "<table border=\"1\" class=\"dataframe\">\n",
       "  <thead>\n",
       "    <tr style=\"text-align: right;\">\n",
       "      <th></th>\n",
       "      <th>id</th>\n",
       "      <th>odometer</th>\n",
       "      <th>year</th>\n",
       "      <th>target</th>\n",
       "    </tr>\n",
       "  </thead>\n",
       "  <tbody>\n",
       "    <tr>\n",
       "      <th>count</th>\n",
       "      <td>1015.000000</td>\n",
       "      <td>1015.000000</td>\n",
       "      <td>1015.000000</td>\n",
       "      <td>1.015000e+03</td>\n",
       "    </tr>\n",
       "    <tr>\n",
       "      <th>mean</th>\n",
       "      <td>507.000000</td>\n",
       "      <td>116842.121182</td>\n",
       "      <td>2008.385222</td>\n",
       "      <td>8.243204e+06</td>\n",
       "    </tr>\n",
       "    <tr>\n",
       "      <th>std</th>\n",
       "      <td>293.149564</td>\n",
       "      <td>105162.545836</td>\n",
       "      <td>35.592123</td>\n",
       "      <td>1.239567e+07</td>\n",
       "    </tr>\n",
       "    <tr>\n",
       "      <th>min</th>\n",
       "      <td>0.000000</td>\n",
       "      <td>0.000000</td>\n",
       "      <td>1217.000000</td>\n",
       "      <td>4.000000e+05</td>\n",
       "    </tr>\n",
       "    <tr>\n",
       "      <th>25%</th>\n",
       "      <td>253.500000</td>\n",
       "      <td>55918.000000</td>\n",
       "      <td>2006.000000</td>\n",
       "      <td>2.535000e+06</td>\n",
       "    </tr>\n",
       "    <tr>\n",
       "      <th>50%</th>\n",
       "      <td>507.000000</td>\n",
       "      <td>94972.000000</td>\n",
       "      <td>2010.000000</td>\n",
       "      <td>4.215000e+06</td>\n",
       "    </tr>\n",
       "    <tr>\n",
       "      <th>75%</th>\n",
       "      <td>760.500000</td>\n",
       "      <td>153224.000000</td>\n",
       "      <td>2014.000000</td>\n",
       "      <td>8.927500e+06</td>\n",
       "    </tr>\n",
       "    <tr>\n",
       "      <th>max</th>\n",
       "      <td>1014.000000</td>\n",
       "      <td>987322.000000</td>\n",
       "      <td>2020.000000</td>\n",
       "      <td>1.500150e+08</td>\n",
       "    </tr>\n",
       "  </tbody>\n",
       "</table>\n",
       "</div>"
      ],
      "text/plain": [
       "                id       odometer         year        target\n",
       "count  1015.000000    1015.000000  1015.000000  1.015000e+03\n",
       "mean    507.000000  116842.121182  2008.385222  8.243204e+06\n",
       "std     293.149564  105162.545836    35.592123  1.239567e+07\n",
       "min       0.000000       0.000000  1217.000000  4.000000e+05\n",
       "25%     253.500000   55918.000000  2006.000000  2.535000e+06\n",
       "50%     507.000000   94972.000000  2010.000000  4.215000e+06\n",
       "75%     760.500000  153224.000000  2014.000000  8.927500e+06\n",
       "max    1014.000000  987322.000000  2020.000000  1.500150e+08"
      ]
     },
     "execution_count": 27,
     "metadata": {},
     "output_type": "execute_result"
    }
   ],
   "source": [
    "train_data.describe()"
   ]
  },
  {
   "cell_type": "markdown",
   "id": "d03d4183",
   "metadata": {},
   "source": [
    "* id : 샘플 아이디\n",
    "* title : 제조사 모델명\n",
    "* odometer : 주행 거리\n",
    "* location : 판매처(나이지리아 도시)\n",
    "* isimported : 현지 사용 여부\n",
    "* engine : 엔진 종류\n",
    "* transmission : 트랜스미션 종류\n",
    "* fuel : 연료 종류\n",
    "* paint : 페인트 색상\n",
    "* year : 제조년도\n",
    "* target : 자동차 가격"
   ]
  },
  {
   "cell_type": "markdown",
   "id": "bfec2d3b",
   "metadata": {
    "ExecuteTime": {
     "end_time": "2022-05-30T15:20:32.037417Z",
     "start_time": "2022-05-30T15:20:32.030933Z"
    }
   },
   "source": [
    "# EDA"
   ]
  },
  {
   "cell_type": "markdown",
   "id": "f8a3ba27",
   "metadata": {
    "ExecuteTime": {
     "end_time": "2022-05-30T15:30:00.995683Z",
     "start_time": "2022-05-30T15:30:00.978688Z"
    }
   },
   "source": [
    "## target"
   ]
  },
  {
   "cell_type": "code",
   "execution_count": 10,
   "id": "df1b7d24",
   "metadata": {
    "ExecuteTime": {
     "end_time": "2022-06-02T16:53:17.465654Z",
     "start_time": "2022-06-02T16:53:17.064552Z"
    }
   },
   "outputs": [
    {
     "data": {
      "text/plain": [
       "[Text(0.5, 1.0, 'log_target 박스플롯')]"
      ]
     },
     "execution_count": 10,
     "metadata": {},
     "output_type": "execute_result"
    },
    {
     "data": {
      "image/png": "[encoded data removed]",
      "text/plain": [
       "<Figure size 1296x360 with 3 Axes>"
      ]
     },
     "metadata": {
      "needs_background": "light"
     },
     "output_type": "display_data"
    }
   ],
   "source": [
    "f , axes = plt.subplots(1,3)\n",
    "axes = axes.flatten()\n",
    "f.set_size_inches(18,5)\n",
    "\n",
    "# target 의 log_scale\n",
    "train_data[\"log_target\"] = np.log(train_data[\"target\"])\n",
    "\n",
    "sns.histplot(x=\"target\", data=train_data, ax=axes[0])\n",
    "axes[0].set(title = \"target 히스토그램\")\n",
    "sns.histplot(x=\"log_target\", data=train_data, ax=axes[1])\n",
    "axes[1].set(title = \"log_target 히스토그램\")\n",
    "sns.boxplot(x=\"log_target\", data=train_data, ax=axes[2])\n",
    "axes[2].set(title = \"log_target 박스플롯\")"
   ]
  },
  {
   "cell_type": "markdown",
   "id": "95415f93",
   "metadata": {
    "ExecuteTime": {
     "end_time": "2022-05-30T15:29:34.934887Z",
     "start_time": "2022-05-30T15:29:34.922273Z"
    }
   },
   "source": [
    "* 로그스케일 여부\n",
    "* 이상치 제거 여부"
   ]
  },
  {
   "cell_type": "markdown",
   "id": "abafb959",
   "metadata": {},
   "source": [
    "## 차종별"
   ]
  },
  {
   "cell_type": "code",
   "execution_count": null,
   "id": "50b87b97",
   "metadata": {
    "ExecuteTime": {
     "end_time": "2022-06-02T07:25:00.735695Z",
     "start_time": "2022-06-02T07:25:00.735695Z"
    }
   },
   "outputs": [],
   "source": [
    "# 회사 이름\n",
    "train_data[\"com\"] = train_data[\"title\"].map(lambda x: x.split()[0].upper())"
   ]
  },
  {
   "cell_type": "code",
   "execution_count": 7,
   "id": "ad677119",
   "metadata": {
    "ExecuteTime": {
     "end_time": "2022-06-02T16:53:01.184518Z",
     "start_time": "2022-06-02T16:53:01.166508Z"
    }
   },
   "outputs": [],
   "source": [
    "def replacestring1(x):\n",
    "    if x == \"MERCEDES-BENZ/52\":\n",
    "        return \"MERCEDES-BENZ\"\n",
    "    elif x== \"MAN-VOLKSWAGEN\":\n",
    "        return \"MAN\"\n",
    "    else:\n",
    "        return x\n",
    "    \n",
    "def replacestringetc(data,x, counts):\n",
    "    if sum(data == x) >counts:\n",
    "        return x\n",
    "    else:\n",
    "        return \"etc\""
   ]
  },
  {
   "cell_type": "code",
   "execution_count": null,
   "id": "07f54418",
   "metadata": {
    "ExecuteTime": {
     "end_time": "2022-06-02T07:25:00.736695Z",
     "start_time": "2022-06-02T07:25:00.736695Z"
    }
   },
   "outputs": [],
   "source": [
    "train_data[\"com\"] = train_data[\"com\"].map(lambda x: replacestring1(x))\n",
    "train_data[\"com\"] = train_data[\"com\"].map(lambda x: replacestringetc(train_data[\"com\"], x, 5))"
   ]
  },
  {
   "cell_type": "code",
   "execution_count": null,
   "id": "afe2af67",
   "metadata": {
    "ExecuteTime": {
     "end_time": "2022-06-02T07:25:00.737695Z",
     "start_time": "2022-06-02T07:25:00.737695Z"
    }
   },
   "outputs": [],
   "source": [
    "train_data = train_data.drop(train_data[train_data[\"log_target\"] > 17.875].index, axis=0) # 17.875 는 구간(25~75%) *1.5 + 75%"
   ]
  },
  {
   "cell_type": "code",
   "execution_count": null,
   "id": "5b3ec0c8",
   "metadata": {
    "ExecuteTime": {
     "end_time": "2022-06-02T07:25:00.738696Z",
     "start_time": "2022-06-02T07:25:00.738696Z"
    }
   },
   "outputs": [],
   "source": [
    "f , axes = plt.subplots()\n",
    "f.set_size_inches(10,6)\n",
    "sns.barplot(x=\"com\", y=\"log_target\", data=train_data)"
   ]
  },
  {
   "cell_type": "markdown",
   "id": "895f452d",
   "metadata": {},
   "source": [
    "## 운행거리별"
   ]
  },
  {
   "cell_type": "code",
   "execution_count": null,
   "id": "2d24f221",
   "metadata": {
    "ExecuteTime": {
     "end_time": "2022-06-02T07:25:00.739697Z",
     "start_time": "2022-06-02T07:25:00.739697Z"
    }
   },
   "outputs": [],
   "source": [
    "f , axes = plt.subplots()\n",
    "f.set_size_inches(10,6)\n",
    "sns.barplot(x=\"odometer\", y=\"target\", data=train_data)"
   ]
  },
  {
   "cell_type": "code",
   "execution_count": null,
   "id": "48fd27d9",
   "metadata": {
    "ExecuteTime": {
     "end_time": "2022-06-02T07:25:00.740697Z",
     "start_time": "2022-06-02T07:25:00.740697Z"
    }
   },
   "outputs": [],
   "source": [
    "# 주행거리가 0 인 값들은 새로운 피쳐 NEW -> O\n",
    "train_data[\"old\"] = train_data[\"odometer\"].copy()\n",
    "train_data[\"old\"][train_data[\"old\"]!=0] = 1\n",
    "train_data[\"old\"][train_data[\"old\"]==0] = 0"
   ]
  },
  {
   "cell_type": "code",
   "execution_count": null,
   "id": "1439afde",
   "metadata": {
    "ExecuteTime": {
     "end_time": "2022-06-02T07:25:00.740697Z",
     "start_time": "2022-06-02T07:25:00.740697Z"
    }
   },
   "outputs": [],
   "source": [
    "# 주행거리 0 인값들을 10으로 대체\n",
    "train_data[\"odometer\"][train_data[\"odometer\"]==0]=10\n",
    "\n",
    "# 주행거리 log\n",
    "train_data[\"log_odometer\"] = np.log(train_data[\"odometer\"])"
   ]
  },
  {
   "cell_type": "code",
   "execution_count": null,
   "id": "4eed1a16",
   "metadata": {
    "ExecuteTime": {
     "end_time": "2022-06-02T07:25:00.741697Z",
     "start_time": "2022-06-02T07:25:00.741697Z"
    }
   },
   "outputs": [],
   "source": [
    "# log_odometer 가 10 보다 크면 너무 오래된 것으로 1/0\n",
    "train_data[\"too_old\"] = train_data[\"log_odometer\"].copy()\n",
    "train_data[\"too_old\"][train_data[\"too_old\"]<10] = 0\n",
    "train_data[\"too_old\"][train_data[\"too_old\"]>=10] = 1\n",
    "train_data[\"too_old\"] = train_data[\"too_old\"].astype(int)"
   ]
  },
  {
   "cell_type": "markdown",
   "id": "3a6c65f5",
   "metadata": {},
   "source": [
    "## location별"
   ]
  },
  {
   "cell_type": "code",
   "execution_count": null,
   "id": "223bb101",
   "metadata": {
    "ExecuteTime": {
     "end_time": "2022-06-02T07:25:00.742697Z",
     "start_time": "2022-06-02T07:25:00.742697Z"
    }
   },
   "outputs": [],
   "source": [
    "train_data[\"location\"].value_counts()"
   ]
  },
  {
   "cell_type": "code",
   "execution_count": null,
   "id": "4b39642a",
   "metadata": {
    "ExecuteTime": {
     "end_time": "2022-06-02T07:25:00.743697Z",
     "start_time": "2022-06-02T07:25:00.743697Z"
    }
   },
   "outputs": [],
   "source": [
    "# 5보다 작은 값은 etc\n",
    "train_data[\"location\"] = train_data[\"location\"].map(lambda x: replacestringetc(train_data[\"location\"],x,5))"
   ]
  },
  {
   "cell_type": "code",
   "execution_count": null,
   "id": "f4c9dcfd",
   "metadata": {
    "ExecuteTime": {
     "end_time": "2022-06-02T07:25:00.743697Z",
     "start_time": "2022-06-02T07:25:00.743697Z"
    }
   },
   "outputs": [],
   "source": [
    "train_data[\"location\"].value_counts()"
   ]
  },
  {
   "cell_type": "code",
   "execution_count": null,
   "id": "876bd3ae",
   "metadata": {
    "ExecuteTime": {
     "end_time": "2022-06-02T07:25:00.744698Z",
     "start_time": "2022-06-02T07:25:00.744698Z"
    }
   },
   "outputs": [],
   "source": [
    "f , axes = plt.subplots()\n",
    "f.set_size_inches(10,6)\n",
    "sns.barplot(x=\"location\", y=\"target\", data=train_data)"
   ]
  },
  {
   "cell_type": "markdown",
   "id": "baa56899",
   "metadata": {
    "ExecuteTime": {
     "end_time": "2022-05-30T16:39:44.478877Z",
     "start_time": "2022-05-30T16:39:44.463285Z"
    }
   },
   "source": [
    "## 사용경혐 별"
   ]
  },
  {
   "cell_type": "code",
   "execution_count": null,
   "id": "c79f7721",
   "metadata": {
    "ExecuteTime": {
     "end_time": "2022-06-02T07:25:00.745697Z",
     "start_time": "2022-06-02T07:25:00.745697Z"
    }
   },
   "outputs": [],
   "source": [
    "f , axes = plt.subplots()\n",
    "f.set_size_inches(10,6)\n",
    "sns.barplot(x=\"isimported\", y=\"target\", data=train_data)"
   ]
  },
  {
   "cell_type": "markdown",
   "id": "58d690b6",
   "metadata": {},
   "source": [
    "## 엔진별"
   ]
  },
  {
   "cell_type": "code",
   "execution_count": null,
   "id": "66f27b15",
   "metadata": {
    "ExecuteTime": {
     "end_time": "2022-06-02T07:25:00.746697Z",
     "start_time": "2022-06-02T07:25:00.746697Z"
    }
   },
   "outputs": [],
   "source": [
    "train_data[\"engine_type\"] = train_data[\"engine\"].copy()\n",
    "train_data[\"cylinder\"] = train_data[\"engine\"].copy()\n",
    "\n",
    "train_data[\"cylinder\"] = train_data[\"cylinder\"].map(lambda x: x[-2])\n",
    "train_data[\"engine_type\"] = train_data[\"engine_type\"].map(lambda x: x[-3])"
   ]
  },
  {
   "cell_type": "code",
   "execution_count": null,
   "id": "1a2678e5",
   "metadata": {
    "ExecuteTime": {
     "end_time": "2022-06-02T07:25:00.747698Z",
     "start_time": "2022-06-02T07:25:00.747698Z"
    }
   },
   "outputs": [],
   "source": [
    "train_data[\"engine\"].value_counts()"
   ]
  },
  {
   "cell_type": "code",
   "execution_count": null,
   "id": "ec0043cb",
   "metadata": {
    "ExecuteTime": {
     "end_time": "2022-06-02T07:25:00.748698Z",
     "start_time": "2022-06-02T07:25:00.748698Z"
    }
   },
   "outputs": [],
   "source": [
    "f , axes = plt.subplots(1,2)\n",
    "axes = axes.flatten()\n",
    "f.set_size_inches(15,6)\n",
    "sns.barplot(x=\"cylinder\", y=\"target\", data=train_data, ax=axes[0])\n",
    "sns.barplot(x=\"engine_type\", y=\"target\", data=train_data, ax=axes[1])"
   ]
  },
  {
   "cell_type": "markdown",
   "id": "7de4bbf0",
   "metadata": {},
   "source": [
    "## 변속기별"
   ]
  },
  {
   "cell_type": "code",
   "execution_count": null,
   "id": "e28704a6",
   "metadata": {
    "ExecuteTime": {
     "end_time": "2022-06-02T07:25:00.748698Z",
     "start_time": "2022-06-02T07:25:00.748698Z"
    }
   },
   "outputs": [],
   "source": [
    "train_data[\"transmission\"].value_counts()"
   ]
  },
  {
   "cell_type": "code",
   "execution_count": null,
   "id": "389ec210",
   "metadata": {
    "ExecuteTime": {
     "end_time": "2022-06-02T07:25:00.749698Z",
     "start_time": "2022-06-02T07:25:00.749698Z"
    }
   },
   "outputs": [],
   "source": [
    "f , axes = plt.subplots(1,2)\n",
    "axes = axes.flatten()\n",
    "f.set_size_inches(15,6)\n",
    "sns.barplot(x=\"transmission\", y=\"target\", data=train_data, ax=axes[0])\n",
    "sns.barplot(x=\"transmission\", y=\"log_target\", data=train_data, ax=axes[1])"
   ]
  },
  {
   "cell_type": "markdown",
   "id": "e5180b5f",
   "metadata": {},
   "source": [
    "* 피처 제거"
   ]
  },
  {
   "cell_type": "markdown",
   "id": "5430b145",
   "metadata": {},
   "source": [
    "## 연료별"
   ]
  },
  {
   "cell_type": "code",
   "execution_count": null,
   "id": "50f05f23",
   "metadata": {
    "ExecuteTime": {
     "end_time": "2022-06-02T07:25:00.750698Z",
     "start_time": "2022-06-02T07:25:00.750698Z"
    }
   },
   "outputs": [],
   "source": [
    "f , axes = plt.subplots(1,2)\n",
    "axes = axes.flatten()\n",
    "f.set_size_inches(15,6)\n",
    "sns.barplot(x=\"fuel\", y=\"target\", data=train_data, ax=axes[0])\n",
    "sns.barplot(x=\"fuel\", y=\"log_target\", data=train_data, ax=axes[1])"
   ]
  },
  {
   "cell_type": "markdown",
   "id": "0ef934b1",
   "metadata": {},
   "source": [
    "* 피처 제거"
   ]
  },
  {
   "cell_type": "markdown",
   "id": "035feee5",
   "metadata": {},
   "source": [
    "## 색깔별"
   ]
  },
  {
   "cell_type": "code",
   "execution_count": 4,
   "id": "67c3896d",
   "metadata": {
    "ExecuteTime": {
     "end_time": "2022-06-02T16:52:40.779895Z",
     "start_time": "2022-06-02T16:52:40.761606Z"
    }
   },
   "outputs": [],
   "source": [
    "train_data[\"paint\"] = train_data[\"paint\"].map(lambda x: x.upper())"
   ]
  },
  {
   "cell_type": "code",
   "execution_count": 5,
   "id": "8699f113",
   "metadata": {
    "ExecuteTime": {
     "end_time": "2022-06-02T16:52:42.449592Z",
     "start_time": "2022-06-02T16:52:42.430503Z"
    }
   },
   "outputs": [
    {
     "data": {
      "text/plain": [
       "array(['RED', 'BLACK', 'GRAY', 'WHITE', 'BLUE', 'REDL', 'SILVER',\n",
       "       ' BLACK/RED', 'DEEP BLUE', 'DARK GREY', 'BROWN', 'GREY', 'GREEN',\n",
       "       'PURPLE', 'GOLD', 'DARK BLUE', 'MILK', 'MIDNIGHT BLACK METAL',\n",
       "       'BEIGE', 'BLUE ', 'SILVER ', 'DARK ASH', 'BLACK ', 'ORANGE',\n",
       "       'CREAM', 'DARK GRAY', 'SLIVER', 'WHITE ORCHILD PEARL',\n",
       "       'DARK GREEN', 'GOLD ', 'YELLOW', 'GREY ', 'LIGHT GOLD', 'WHITE ',\n",
       "       'WINE', 'WHITE-BLUE', 'MAGNETIC GRAY', 'GRAY ', 'DARK SILVER ',\n",
       "       'DARK BLUE ', 'BLACK.', 'SILVER/GREY', 'INK BLUE', 'LIGHT BLUE',\n",
       "       'SKY BLUE', 'GERY', 'PALE BROWN', 'WHINE ', 'CREAM ',\n",
       "       'BLACK AND SILVER', 'LIGHT SILVER ', 'BLACK SAND PEARL',\n",
       "       'OFF WHITE', 'ASH', 'MAROON', 'NAVY BLUE', 'SUPER WHITE', ' BLACK',\n",
       "       'ASH AND BLACK', 'GREEN ', 'MAGNETIC GRAY METALLIC', 'SKYE BLUE',\n",
       "       'OFF WHITE L'], dtype=object)"
      ]
     },
     "execution_count": 5,
     "metadata": {},
     "output_type": "execute_result"
    }
   ],
   "source": [
    "train_data[\"paint\"].unique()"
   ]
  },
  {
   "cell_type": "code",
   "execution_count": 8,
   "id": "810d0820",
   "metadata": {
    "ExecuteTime": {
     "end_time": "2022-06-02T16:53:08.326359Z",
     "start_time": "2022-06-02T16:53:08.156792Z"
    }
   },
   "outputs": [],
   "source": [
    "train_data[\"color\"] = train_data[\"paint\"].copy()\n",
    "train_data[\"color\"] = train_data[\"color\"].map(lambda x: x.split()[-1]).map(lambda x:x[0])\n",
    "train_data[\"color\"] = train_data[\"color\"].map(lambda x: replacestringetc(train_data[\"color\"], x, 5))"
   ]
  },
  {
   "cell_type": "code",
   "execution_count": 11,
   "id": "315958be",
   "metadata": {
    "ExecuteTime": {
     "end_time": "2022-06-02T16:53:20.441435Z",
     "start_time": "2022-06-02T16:53:20.062033Z"
    }
   },
   "outputs": [
    {
     "data": {
      "text/plain": [
       "<AxesSubplot:xlabel='color', ylabel='log_target'>"
      ]
     },
     "execution_count": 11,
     "metadata": {},
     "output_type": "execute_result"
    },
    {
     "data": {
      "image/png": "[encoded data removed]",
      "text/plain": [
       "<Figure size 1080x432 with 2 Axes>"
      ]
     },
     "metadata": {
      "needs_background": "light"
     },
     "output_type": "display_data"
    }
   ],
   "source": [
    "f , axes = plt.subplots(1,2)\n",
    "axes = axes.flatten()\n",
    "f.set_size_inches(15,6)\n",
    "sns.barplot(x=\"color\", y=\"target\", data=train_data, ax=axes[0])\n",
    "sns.barplot(x=\"color\", y=\"log_target\", data=train_data, ax=axes[1])"
   ]
  },
  {
   "cell_type": "code",
   "execution_count": 8,
   "id": "55d45d4e",
   "metadata": {
    "ExecuteTime": {
     "end_time": "2022-06-02T07:25:00.764701Z",
     "start_time": "2022-06-02T07:25:00.756700Z"
    }
   },
   "outputs": [],
   "source": [
    "def twocolorcheck(x):\n",
    "    if len(x.split())>1:\n",
    "        return 1\n",
    "    elif len(x.split(\"/\"))>1:\n",
    "        return 1\n",
    "    else:\n",
    "        return 0"
   ]
  },
  {
   "cell_type": "code",
   "execution_count": 9,
   "id": "9c8982c2",
   "metadata": {
    "ExecuteTime": {
     "end_time": "2022-06-02T07:25:00.796708Z",
     "start_time": "2022-06-02T07:25:00.784706Z"
    }
   },
   "outputs": [],
   "source": [
    "train_data[\"2color\"] = train_data[\"paint\"].copy()\n",
    "train_data[\"2color\"] = train_data[\"2color\"].map(lambda x: twocolorcheck(x))"
   ]
  },
  {
   "cell_type": "code",
   "execution_count": 10,
   "id": "8dca9e52",
   "metadata": {
    "ExecuteTime": {
     "end_time": "2022-06-02T07:25:01.610900Z",
     "start_time": "2022-06-02T07:25:00.827716Z"
    }
   },
   "outputs": [
    {
     "ename": "ValueError",
     "evalue": "Could not interpret input 'log_target'",
     "output_type": "error",
     "traceback": [
      "\u001b[1;31m---------------------------------------------------------------------------\u001b[0m",
      "\u001b[1;31mValueError\u001b[0m                                Traceback (most recent call last)",
      "Input \u001b[1;32mIn [10]\u001b[0m, in \u001b[0;36m<cell line: 5>\u001b[1;34m()\u001b[0m\n\u001b[0;32m      3\u001b[0m f\u001b[38;5;241m.\u001b[39mset_size_inches(\u001b[38;5;241m15\u001b[39m,\u001b[38;5;241m6\u001b[39m)\n\u001b[0;32m      4\u001b[0m sns\u001b[38;5;241m.\u001b[39mbarplot(x\u001b[38;5;241m=\u001b[39m\u001b[38;5;124m\"\u001b[39m\u001b[38;5;124m2color\u001b[39m\u001b[38;5;124m\"\u001b[39m, y\u001b[38;5;241m=\u001b[39m\u001b[38;5;124m\"\u001b[39m\u001b[38;5;124mtarget\u001b[39m\u001b[38;5;124m\"\u001b[39m, data\u001b[38;5;241m=\u001b[39mtrain_data, ax\u001b[38;5;241m=\u001b[39maxes[\u001b[38;5;241m0\u001b[39m])\n\u001b[1;32m----> 5\u001b[0m \u001b[43msns\u001b[49m\u001b[38;5;241;43m.\u001b[39;49m\u001b[43mbarplot\u001b[49m\u001b[43m(\u001b[49m\u001b[43mx\u001b[49m\u001b[38;5;241;43m=\u001b[39;49m\u001b[38;5;124;43m\"\u001b[39;49m\u001b[38;5;124;43m2color\u001b[39;49m\u001b[38;5;124;43m\"\u001b[39;49m\u001b[43m,\u001b[49m\u001b[43m \u001b[49m\u001b[43my\u001b[49m\u001b[38;5;241;43m=\u001b[39;49m\u001b[38;5;124;43m\"\u001b[39;49m\u001b[38;5;124;43mlog_target\u001b[39;49m\u001b[38;5;124;43m\"\u001b[39;49m\u001b[43m,\u001b[49m\u001b[43m \u001b[49m\u001b[43mdata\u001b[49m\u001b[38;5;241;43m=\u001b[39;49m\u001b[43mtrain_data\u001b[49m\u001b[43m,\u001b[49m\u001b[43m \u001b[49m\u001b[43max\u001b[49m\u001b[38;5;241;43m=\u001b[39;49m\u001b[43maxes\u001b[49m\u001b[43m[\u001b[49m\u001b[38;5;241;43m1\u001b[39;49m\u001b[43m]\u001b[49m\u001b[43m)\u001b[49m\n",
      "File \u001b[1;32m~\\miniconda3\\envs\\ds_study\\lib\\site-packages\\seaborn\\_decorators.py:46\u001b[0m, in \u001b[0;36m_deprecate_positional_args.<locals>.inner_f\u001b[1;34m(*args, **kwargs)\u001b[0m\n\u001b[0;32m     36\u001b[0m     warnings\u001b[38;5;241m.\u001b[39mwarn(\n\u001b[0;32m     37\u001b[0m         \u001b[38;5;124m\"\u001b[39m\u001b[38;5;124mPass the following variable\u001b[39m\u001b[38;5;132;01m{}\u001b[39;00m\u001b[38;5;124m as \u001b[39m\u001b[38;5;132;01m{}\u001b[39;00m\u001b[38;5;124mkeyword arg\u001b[39m\u001b[38;5;132;01m{}\u001b[39;00m\u001b[38;5;124m: \u001b[39m\u001b[38;5;132;01m{}\u001b[39;00m\u001b[38;5;124m. \u001b[39m\u001b[38;5;124m\"\u001b[39m\n\u001b[0;32m     38\u001b[0m         \u001b[38;5;124m\"\u001b[39m\u001b[38;5;124mFrom version 0.12, the only valid positional argument \u001b[39m\u001b[38;5;124m\"\u001b[39m\n\u001b[1;32m   (...)\u001b[0m\n\u001b[0;32m     43\u001b[0m         \u001b[38;5;167;01mFutureWarning\u001b[39;00m\n\u001b[0;32m     44\u001b[0m     )\n\u001b[0;32m     45\u001b[0m kwargs\u001b[38;5;241m.\u001b[39mupdate({k: arg \u001b[38;5;28;01mfor\u001b[39;00m k, arg \u001b[38;5;129;01min\u001b[39;00m \u001b[38;5;28mzip\u001b[39m(sig\u001b[38;5;241m.\u001b[39mparameters, args)})\n\u001b[1;32m---> 46\u001b[0m \u001b[38;5;28;01mreturn\u001b[39;00m \u001b[43mf\u001b[49m\u001b[43m(\u001b[49m\u001b[38;5;241;43m*\u001b[39;49m\u001b[38;5;241;43m*\u001b[39;49m\u001b[43mkwargs\u001b[49m\u001b[43m)\u001b[49m\n",
      "File \u001b[1;32m~\\miniconda3\\envs\\ds_study\\lib\\site-packages\\seaborn\\categorical.py:3182\u001b[0m, in \u001b[0;36mbarplot\u001b[1;34m(x, y, hue, data, order, hue_order, estimator, ci, n_boot, units, seed, orient, color, palette, saturation, errcolor, errwidth, capsize, dodge, ax, **kwargs)\u001b[0m\n\u001b[0;32m   3169\u001b[0m \u001b[38;5;129m@_deprecate_positional_args\u001b[39m\n\u001b[0;32m   3170\u001b[0m \u001b[38;5;28;01mdef\u001b[39;00m \u001b[38;5;21mbarplot\u001b[39m(\n\u001b[0;32m   3171\u001b[0m     \u001b[38;5;241m*\u001b[39m,\n\u001b[1;32m   (...)\u001b[0m\n\u001b[0;32m   3179\u001b[0m     \u001b[38;5;241m*\u001b[39m\u001b[38;5;241m*\u001b[39mkwargs,\n\u001b[0;32m   3180\u001b[0m ):\n\u001b[1;32m-> 3182\u001b[0m     plotter \u001b[38;5;241m=\u001b[39m \u001b[43m_BarPlotter\u001b[49m\u001b[43m(\u001b[49m\u001b[43mx\u001b[49m\u001b[43m,\u001b[49m\u001b[43m \u001b[49m\u001b[43my\u001b[49m\u001b[43m,\u001b[49m\u001b[43m \u001b[49m\u001b[43mhue\u001b[49m\u001b[43m,\u001b[49m\u001b[43m \u001b[49m\u001b[43mdata\u001b[49m\u001b[43m,\u001b[49m\u001b[43m \u001b[49m\u001b[43morder\u001b[49m\u001b[43m,\u001b[49m\u001b[43m \u001b[49m\u001b[43mhue_order\u001b[49m\u001b[43m,\u001b[49m\n\u001b[0;32m   3183\u001b[0m \u001b[43m                          \u001b[49m\u001b[43mestimator\u001b[49m\u001b[43m,\u001b[49m\u001b[43m \u001b[49m\u001b[43mci\u001b[49m\u001b[43m,\u001b[49m\u001b[43m \u001b[49m\u001b[43mn_boot\u001b[49m\u001b[43m,\u001b[49m\u001b[43m \u001b[49m\u001b[43munits\u001b[49m\u001b[43m,\u001b[49m\u001b[43m \u001b[49m\u001b[43mseed\u001b[49m\u001b[43m,\u001b[49m\n\u001b[0;32m   3184\u001b[0m \u001b[43m                          \u001b[49m\u001b[43morient\u001b[49m\u001b[43m,\u001b[49m\u001b[43m \u001b[49m\u001b[43mcolor\u001b[49m\u001b[43m,\u001b[49m\u001b[43m \u001b[49m\u001b[43mpalette\u001b[49m\u001b[43m,\u001b[49m\u001b[43m \u001b[49m\u001b[43msaturation\u001b[49m\u001b[43m,\u001b[49m\n\u001b[0;32m   3185\u001b[0m \u001b[43m                          \u001b[49m\u001b[43merrcolor\u001b[49m\u001b[43m,\u001b[49m\u001b[43m \u001b[49m\u001b[43merrwidth\u001b[49m\u001b[43m,\u001b[49m\u001b[43m \u001b[49m\u001b[43mcapsize\u001b[49m\u001b[43m,\u001b[49m\u001b[43m \u001b[49m\u001b[43mdodge\u001b[49m\u001b[43m)\u001b[49m\n\u001b[0;32m   3187\u001b[0m     \u001b[38;5;28;01mif\u001b[39;00m ax \u001b[38;5;129;01mis\u001b[39;00m \u001b[38;5;28;01mNone\u001b[39;00m:\n\u001b[0;32m   3188\u001b[0m         ax \u001b[38;5;241m=\u001b[39m plt\u001b[38;5;241m.\u001b[39mgca()\n",
      "File \u001b[1;32m~\\miniconda3\\envs\\ds_study\\lib\\site-packages\\seaborn\\categorical.py:1584\u001b[0m, in \u001b[0;36m_BarPlotter.__init__\u001b[1;34m(self, x, y, hue, data, order, hue_order, estimator, ci, n_boot, units, seed, orient, color, palette, saturation, errcolor, errwidth, capsize, dodge)\u001b[0m\n\u001b[0;32m   1579\u001b[0m \u001b[38;5;28;01mdef\u001b[39;00m \u001b[38;5;21m__init__\u001b[39m(\u001b[38;5;28mself\u001b[39m, x, y, hue, data, order, hue_order,\n\u001b[0;32m   1580\u001b[0m              estimator, ci, n_boot, units, seed,\n\u001b[0;32m   1581\u001b[0m              orient, color, palette, saturation, errcolor,\n\u001b[0;32m   1582\u001b[0m              errwidth, capsize, dodge):\n\u001b[0;32m   1583\u001b[0m     \u001b[38;5;124;03m\"\"\"Initialize the plotter.\"\"\"\u001b[39;00m\n\u001b[1;32m-> 1584\u001b[0m     \u001b[38;5;28;43mself\u001b[39;49m\u001b[38;5;241;43m.\u001b[39;49m\u001b[43mestablish_variables\u001b[49m\u001b[43m(\u001b[49m\u001b[43mx\u001b[49m\u001b[43m,\u001b[49m\u001b[43m \u001b[49m\u001b[43my\u001b[49m\u001b[43m,\u001b[49m\u001b[43m \u001b[49m\u001b[43mhue\u001b[49m\u001b[43m,\u001b[49m\u001b[43m \u001b[49m\u001b[43mdata\u001b[49m\u001b[43m,\u001b[49m\u001b[43m \u001b[49m\u001b[43morient\u001b[49m\u001b[43m,\u001b[49m\n\u001b[0;32m   1585\u001b[0m \u001b[43m                             \u001b[49m\u001b[43morder\u001b[49m\u001b[43m,\u001b[49m\u001b[43m \u001b[49m\u001b[43mhue_order\u001b[49m\u001b[43m,\u001b[49m\u001b[43m \u001b[49m\u001b[43munits\u001b[49m\u001b[43m)\u001b[49m\n\u001b[0;32m   1586\u001b[0m     \u001b[38;5;28mself\u001b[39m\u001b[38;5;241m.\u001b[39mestablish_colors(color, palette, saturation)\n\u001b[0;32m   1587\u001b[0m     \u001b[38;5;28mself\u001b[39m\u001b[38;5;241m.\u001b[39mestimate_statistic(estimator, ci, n_boot, seed)\n",
      "File \u001b[1;32m~\\miniconda3\\envs\\ds_study\\lib\\site-packages\\seaborn\\categorical.py:153\u001b[0m, in \u001b[0;36m_CategoricalPlotter.establish_variables\u001b[1;34m(self, x, y, hue, data, orient, order, hue_order, units)\u001b[0m\n\u001b[0;32m    151\u001b[0m     \u001b[38;5;28;01mif\u001b[39;00m \u001b[38;5;28misinstance\u001b[39m(var, \u001b[38;5;28mstr\u001b[39m):\n\u001b[0;32m    152\u001b[0m         err \u001b[38;5;241m=\u001b[39m \u001b[38;5;124m\"\u001b[39m\u001b[38;5;124mCould not interpret input \u001b[39m\u001b[38;5;124m'\u001b[39m\u001b[38;5;132;01m{}\u001b[39;00m\u001b[38;5;124m'\u001b[39m\u001b[38;5;124m\"\u001b[39m\u001b[38;5;241m.\u001b[39mformat(var)\n\u001b[1;32m--> 153\u001b[0m         \u001b[38;5;28;01mraise\u001b[39;00m \u001b[38;5;167;01mValueError\u001b[39;00m(err)\n\u001b[0;32m    155\u001b[0m \u001b[38;5;66;03m# Figure out the plotting orientation\u001b[39;00m\n\u001b[0;32m    156\u001b[0m orient \u001b[38;5;241m=\u001b[39m infer_orient(\n\u001b[0;32m    157\u001b[0m     x, y, orient, require_numeric\u001b[38;5;241m=\u001b[39m\u001b[38;5;28mself\u001b[39m\u001b[38;5;241m.\u001b[39mrequire_numeric\n\u001b[0;32m    158\u001b[0m )\n",
      "\u001b[1;31mValueError\u001b[0m: Could not interpret input 'log_target'"
     ]
    },
    {
     "name": "stderr",
     "output_type": "stream",
     "text": [
      "findfont: Font family ['Noto Sans KR'] not found. Falling back to DejaVu Sans.\n"
     ]
    },
    {
     "data": {
      "image/png": "[encoded data removed]",
      "text/plain": [
       "<Figure size 1080x432 with 2 Axes>"
      ]
     },
     "metadata": {
      "needs_background": "light"
     },
     "output_type": "display_data"
    }
   ],
   "source": [
    "f , axes = plt.subplots(1,2)\n",
    "axes = axes.flatten()\n",
    "f.set_size_inches(15,6)\n",
    "sns.barplot(x=\"2color\", y=\"target\", data=train_data, ax=axes[0])\n",
    "sns.barplot(x=\"2color\", y=\"log_target\", data=train_data, ax=axes[1])"
   ]
  },
  {
   "cell_type": "markdown",
   "id": "e943ad92",
   "metadata": {},
   "source": [
    "## 연도별"
   ]
  },
  {
   "cell_type": "code",
   "execution_count": null,
   "id": "61d4e100",
   "metadata": {
    "ExecuteTime": {
     "end_time": "2022-06-02T07:25:01.612901Z",
     "start_time": "2022-06-02T07:25:01.612901Z"
    }
   },
   "outputs": [],
   "source": [
    "f , axes = plt.subplots(1,3)\n",
    "axes = axes.flatten()\n",
    "f.set_size_inches(15,6)\n",
    "sns.barplot(x=\"year\", y=\"target\", data=train_data, ax=axes[0])\n",
    "sns.barplot(x=\"year\", y=\"log_target\", data=train_data, ax=axes[1])\n",
    "sns.boxplot(x=\"year\", data=train_data, ax=axes[2])"
   ]
  },
  {
   "cell_type": "code",
   "execution_count": null,
   "id": "2e82a908",
   "metadata": {
    "ExecuteTime": {
     "end_time": "2022-06-02T07:25:01.613901Z",
     "start_time": "2022-06-02T07:25:01.613901Z"
    }
   },
   "outputs": [],
   "source": [
    "train_data[\"year\"].value_counts()"
   ]
  },
  {
   "cell_type": "code",
   "execution_count": 34,
   "id": "b627e5aa",
   "metadata": {
    "ExecuteTime": {
     "end_time": "2022-06-02T07:26:59.739949Z",
     "start_time": "2022-06-02T07:26:59.723942Z"
    }
   },
   "outputs": [],
   "source": [
    "def yearchange(x):\n",
    "    if x >= 1990 and x<2000:\n",
    "        return 1990\n",
    "    elif x >= 1980 and x<1990:\n",
    "        return 1980\n",
    "    elif x<1900:\n",
    "        return 1900\n",
    "    else:\n",
    "        return x"
   ]
  },
  {
   "cell_type": "code",
   "execution_count": null,
   "id": "46138218",
   "metadata": {
    "ExecuteTime": {
     "end_time": "2022-06-02T07:25:01.614901Z",
     "start_time": "2022-06-02T07:25:01.614901Z"
    }
   },
   "outputs": [],
   "source": [
    "train_data[\"year\"] = train_data[\"year\"].map(lambda x: yearchange(x))"
   ]
  },
  {
   "cell_type": "code",
   "execution_count": 35,
   "id": "c79723f3",
   "metadata": {
    "ExecuteTime": {
     "end_time": "2022-06-02T07:27:01.642186Z",
     "start_time": "2022-06-02T07:27:01.638186Z"
    }
   },
   "outputs": [],
   "source": [
    "def antic(x):\n",
    "    if x > 1950:\n",
    "        return 0\n",
    "    if x <= 1950:\n",
    "        return 1\n",
    "train_data[\"antic\"] = train_data[\"year\"].copy()\n",
    "train_data[\"antic\"] = train_data[\"antic\"].map(lambda x: antic(x))"
   ]
  },
  {
   "cell_type": "markdown",
   "id": "438fab67",
   "metadata": {},
   "source": [
    "# 베이스 라인 모델"
   ]
  },
  {
   "cell_type": "code",
   "execution_count": 63,
   "id": "7be3814b",
   "metadata": {
    "ExecuteTime": {
     "end_time": "2022-06-02T07:30:37.157059Z",
     "start_time": "2022-06-02T07:30:37.140838Z"
    }
   },
   "outputs": [],
   "source": [
    "train_data = pd.read_csv(\"train.csv\")\n",
    "test_data = pd.read_csv(\"test.csv\")\n",
    "submission = pd.read_csv(\"sample_submission.csv\")\n",
    "all_data = pd.concat([train_data, test_data], ignore_index=True)"
   ]
  },
  {
   "cell_type": "code",
   "execution_count": 64,
   "id": "7c393f0c",
   "metadata": {
    "ExecuteTime": {
     "end_time": "2022-06-02T07:30:37.600996Z",
     "start_time": "2022-06-02T07:30:37.586849Z"
    }
   },
   "outputs": [
    {
     "data": {
      "text/html": [
       "<div>\n",
       "<style scoped>\n",
       "    .dataframe tbody tr th:only-of-type {\n",
       "        vertical-align: middle;\n",
       "    }\n",
       "\n",
       "    .dataframe tbody tr th {\n",
       "        vertical-align: top;\n",
       "    }\n",
       "\n",
       "    .dataframe thead th {\n",
       "        text-align: right;\n",
       "    }\n",
       "</style>\n",
       "<table border=\"1\" class=\"dataframe\">\n",
       "  <thead>\n",
       "    <tr style=\"text-align: right;\">\n",
       "      <th></th>\n",
       "      <th>id</th>\n",
       "      <th>title</th>\n",
       "      <th>odometer</th>\n",
       "      <th>location</th>\n",
       "      <th>isimported</th>\n",
       "      <th>engine</th>\n",
       "      <th>transmission</th>\n",
       "      <th>fuel</th>\n",
       "      <th>paint</th>\n",
       "      <th>year</th>\n",
       "      <th>target</th>\n",
       "    </tr>\n",
       "  </thead>\n",
       "  <tbody>\n",
       "    <tr>\n",
       "      <th>1446</th>\n",
       "      <td>431</td>\n",
       "      <td>Mercedes-Benz GLK 350</td>\n",
       "      <td>78175</td>\n",
       "      <td>Lagos</td>\n",
       "      <td>Foreign Used</td>\n",
       "      <td>6-cylinder(V6)</td>\n",
       "      <td>automatic</td>\n",
       "      <td>petrol</td>\n",
       "      <td>Dark Blue</td>\n",
       "      <td>2014</td>\n",
       "      <td>NaN</td>\n",
       "    </tr>\n",
       "    <tr>\n",
       "      <th>1447</th>\n",
       "      <td>432</td>\n",
       "      <td>Honda Crosstour</td>\n",
       "      <td>129223</td>\n",
       "      <td>Lagos</td>\n",
       "      <td>Foreign Used</td>\n",
       "      <td>6-cylinder(V6)</td>\n",
       "      <td>automatic</td>\n",
       "      <td>petrol</td>\n",
       "      <td>Red</td>\n",
       "      <td>2011</td>\n",
       "      <td>NaN</td>\n",
       "    </tr>\n",
       "    <tr>\n",
       "      <th>1448</th>\n",
       "      <td>433</td>\n",
       "      <td>Mercedes-Benz ML 350</td>\n",
       "      <td>100943</td>\n",
       "      <td>Lagos</td>\n",
       "      <td>Foreign Used</td>\n",
       "      <td>4-cylinder(I4)</td>\n",
       "      <td>automatic</td>\n",
       "      <td>petrol</td>\n",
       "      <td>Black</td>\n",
       "      <td>2013</td>\n",
       "      <td>NaN</td>\n",
       "    </tr>\n",
       "    <tr>\n",
       "      <th>1449</th>\n",
       "      <td>434</td>\n",
       "      <td>Lexus GX 470</td>\n",
       "      <td>81463</td>\n",
       "      <td>Lagos</td>\n",
       "      <td>Foreign Used</td>\n",
       "      <td>4-cylinder(I4)</td>\n",
       "      <td>automatic</td>\n",
       "      <td>petrol</td>\n",
       "      <td>Mint green</td>\n",
       "      <td>2003</td>\n",
       "      <td>NaN</td>\n",
       "    </tr>\n",
       "    <tr>\n",
       "      <th>1450</th>\n",
       "      <td>435</td>\n",
       "      <td>Toyota Sienna</td>\n",
       "      <td>646</td>\n",
       "      <td>Lagos</td>\n",
       "      <td>Foreign Used</td>\n",
       "      <td>6-cylinder(V6)</td>\n",
       "      <td>automatic</td>\n",
       "      <td>petrol</td>\n",
       "      <td>Silver</td>\n",
       "      <td>2006</td>\n",
       "      <td>NaN</td>\n",
       "    </tr>\n",
       "  </tbody>\n",
       "</table>\n",
       "</div>"
      ],
      "text/plain": [
       "       id                  title  odometer location    isimported  \\\n",
       "1446  431  Mercedes-Benz GLK 350     78175    Lagos  Foreign Used   \n",
       "1447  432        Honda Crosstour    129223    Lagos  Foreign Used   \n",
       "1448  433   Mercedes-Benz ML 350    100943    Lagos  Foreign Used   \n",
       "1449  434           Lexus GX 470     81463    Lagos  Foreign Used   \n",
       "1450  435          Toyota Sienna       646    Lagos  Foreign Used   \n",
       "\n",
       "              engine transmission    fuel       paint  year  target  \n",
       "1446  6-cylinder(V6)    automatic  petrol   Dark Blue  2014     NaN  \n",
       "1447  6-cylinder(V6)    automatic  petrol         Red  2011     NaN  \n",
       "1448  4-cylinder(I4)    automatic  petrol       Black  2013     NaN  \n",
       "1449  4-cylinder(I4)    automatic  petrol  Mint green  2003     NaN  \n",
       "1450  6-cylinder(V6)    automatic  petrol      Silver  2006     NaN  "
      ]
     },
     "execution_count": 64,
     "metadata": {},
     "output_type": "execute_result"
    }
   ],
   "source": [
    "all_data.tail(5)"
   ]
  },
  {
   "cell_type": "code",
   "execution_count": 65,
   "id": "3bc4713b",
   "metadata": {
    "ExecuteTime": {
     "end_time": "2022-06-02T07:30:39.773059Z",
     "start_time": "2022-06-02T07:30:38.789807Z"
    }
   },
   "outputs": [],
   "source": [
    "all_data[\"log_target\"] = np.log(all_data[\"target\"])\n",
    "all_data[\"com\"] = all_data[\"title\"].map(lambda x: x.split()[0].upper())\n",
    "all_data[\"com\"] = all_data[\"com\"].map(lambda x: replacestring1(x))\n",
    "all_data[\"com\"] = all_data[\"com\"].map(lambda x: replacestringetc(all_data[\"com\"], x, 5))\n",
    "all_data = all_data.drop(all_data[all_data[\"log_target\"] > 17.875].index, axis=0) # 17.875 는 구간(25~75%) *1.5 + 75%\n",
    "all_data[\"old\"] = all_data[\"odometer\"].copy()\n",
    "all_data[\"old\"][all_data[\"old\"]!=0] = 1\n",
    "all_data[\"old\"][all_data[\"old\"]==0] = 0\n",
    "all_data[\"odometer\"][all_data[\"odometer\"]==0]=10\n",
    "all_data[\"log_odometer\"] = np.log(all_data[\"odometer\"])\n",
    "all_data[\"too_old\"] = all_data[\"log_odometer\"].copy()\n",
    "all_data[\"too_old\"][all_data[\"too_old\"]<10] = 0\n",
    "all_data[\"too_old\"][all_data[\"too_old\"]>=10] = 1\n",
    "all_data[\"too_old\"] = all_data[\"too_old\"].astype(int)\n",
    "all_data[\"location\"] = all_data[\"location\"].map(lambda x: replacestringetc(all_data[\"location\"],x,5))\n",
    "all_data[\"paint\"] = all_data[\"paint\"].map(lambda x: x.upper())\n",
    "all_data[\"color\"] = all_data[\"paint\"].copy()\n",
    "all_data[\"color\"] = all_data[\"color\"].map(lambda x: x.split()[-1]).map(lambda x:x[0])\n",
    "all_data[\"color\"] = all_data[\"color\"].map(lambda x: replacestringetc(all_data[\"color\"], x, 10))\n",
    "all_data[\"2color\"] = all_data[\"paint\"].copy()\n",
    "all_data[\"2color\"] = all_data[\"2color\"].map(lambda x: twocolorcheck(x))\n",
    "all_data[\"year\"] = all_data[\"year\"].map(lambda x: yearchange(x))\n",
    "all_data[\"antic\"] = all_data[\"year\"].copy()\n",
    "all_data[\"antic\"] = all_data[\"antic\"].map(lambda x: antic(x))\n",
    "all_data[\"engine_type\"] = all_data[\"engine\"].copy()\n",
    "all_data[\"cylinder\"] = all_data[\"engine\"].copy()\n",
    "all_data[\"cylinder\"] = all_data[\"cylinder\"].map(lambda x: x[-2])\n",
    "all_data[\"engine_type\"] = all_data[\"engine_type\"].map(lambda x: x[-3])"
   ]
  },
  {
   "cell_type": "code",
   "execution_count": 49,
   "id": "0e6f132b",
   "metadata": {
    "ExecuteTime": {
     "end_time": "2022-06-02T07:28:26.548393Z",
     "start_time": "2022-06-02T07:28:26.540115Z"
    }
   },
   "outputs": [],
   "source": [
    "# 제거할 피쳐 : 연료별, 변속기별\n",
    "drop_feature = [\"title\",\"id\", \"odometer\",\"transmission\",\"fuel\",\"target\",\"paint\",\"engine\"]\n",
    "nom_feature = [\"location\", \"isimported\",\"engine_type\",\"com\",\"color\",\"year\",\"cylinder\"]\n",
    "bin_feature = [\"too_old\",\"old\",\"2color\",\"antic\"]"
   ]
  },
  {
   "cell_type": "markdown",
   "id": "88808ffb",
   "metadata": {},
   "source": [
    "## 연속형 변수"
   ]
  },
  {
   "cell_type": "code",
   "execution_count": 50,
   "id": "11ff0ebe",
   "metadata": {
    "ExecuteTime": {
     "end_time": "2022-06-02T07:28:31.971136Z",
     "start_time": "2022-06-02T07:28:31.957138Z"
    }
   },
   "outputs": [],
   "source": [
    "from sklearn.preprocessing import MinMaxScaler\n",
    "scaler = MinMaxScaler()\n",
    "all_data[\"log_odometer\"] = scaler.fit_transform(all_data[[\"log_odometer\"]])"
   ]
  },
  {
   "cell_type": "code",
   "execution_count": 66,
   "id": "05e56647",
   "metadata": {
    "ExecuteTime": {
     "end_time": "2022-06-02T07:31:22.391090Z",
     "start_time": "2022-06-02T07:31:22.367085Z"
    }
   },
   "outputs": [
    {
     "data": {
      "text/html": [
       "<div>\n",
       "<style scoped>\n",
       "    .dataframe tbody tr th:only-of-type {\n",
       "        vertical-align: middle;\n",
       "    }\n",
       "\n",
       "    .dataframe tbody tr th {\n",
       "        vertical-align: top;\n",
       "    }\n",
       "\n",
       "    .dataframe thead th {\n",
       "        text-align: right;\n",
       "    }\n",
       "</style>\n",
       "<table border=\"1\" class=\"dataframe\">\n",
       "  <thead>\n",
       "    <tr style=\"text-align: right;\">\n",
       "      <th></th>\n",
       "      <th>id</th>\n",
       "      <th>title</th>\n",
       "      <th>odometer</th>\n",
       "      <th>location</th>\n",
       "      <th>isimported</th>\n",
       "      <th>engine</th>\n",
       "      <th>transmission</th>\n",
       "      <th>fuel</th>\n",
       "      <th>paint</th>\n",
       "      <th>year</th>\n",
       "      <th>...</th>\n",
       "      <th>log_target</th>\n",
       "      <th>com</th>\n",
       "      <th>old</th>\n",
       "      <th>log_odometer</th>\n",
       "      <th>too_old</th>\n",
       "      <th>color</th>\n",
       "      <th>2color</th>\n",
       "      <th>antic</th>\n",
       "      <th>engine_type</th>\n",
       "      <th>cylinder</th>\n",
       "    </tr>\n",
       "  </thead>\n",
       "  <tbody>\n",
       "    <tr>\n",
       "      <th>0</th>\n",
       "      <td>0</td>\n",
       "      <td>Toyota RAV 4</td>\n",
       "      <td>18277</td>\n",
       "      <td>Lagos</td>\n",
       "      <td>Foreign Used</td>\n",
       "      <td>4-cylinder(I4)</td>\n",
       "      <td>automatic</td>\n",
       "      <td>petrol</td>\n",
       "      <td>RED</td>\n",
       "      <td>2016</td>\n",
       "      <td>...</td>\n",
       "      <td>16.430348</td>\n",
       "      <td>TOYOTA</td>\n",
       "      <td>1</td>\n",
       "      <td>9.813399</td>\n",
       "      <td>0</td>\n",
       "      <td>R</td>\n",
       "      <td>0</td>\n",
       "      <td>0</td>\n",
       "      <td>I</td>\n",
       "      <td>4</td>\n",
       "    </tr>\n",
       "    <tr>\n",
       "      <th>1</th>\n",
       "      <td>1</td>\n",
       "      <td>Toyota Land Cruiser</td>\n",
       "      <td>10</td>\n",
       "      <td>Lagos</td>\n",
       "      <td>New</td>\n",
       "      <td>4-cylinder(I4)</td>\n",
       "      <td>automatic</td>\n",
       "      <td>petrol</td>\n",
       "      <td>BLACK</td>\n",
       "      <td>2019</td>\n",
       "      <td>...</td>\n",
       "      <td>17.312473</td>\n",
       "      <td>TOYOTA</td>\n",
       "      <td>1</td>\n",
       "      <td>2.302585</td>\n",
       "      <td>0</td>\n",
       "      <td>B</td>\n",
       "      <td>0</td>\n",
       "      <td>0</td>\n",
       "      <td>I</td>\n",
       "      <td>4</td>\n",
       "    </tr>\n",
       "    <tr>\n",
       "      <th>2</th>\n",
       "      <td>2</td>\n",
       "      <td>Land Rover Range Rover Evoque</td>\n",
       "      <td>83091</td>\n",
       "      <td>Lagos</td>\n",
       "      <td>Foreign Used</td>\n",
       "      <td>6-cylinder(V6)</td>\n",
       "      <td>automatic</td>\n",
       "      <td>petrol</td>\n",
       "      <td>RED</td>\n",
       "      <td>2012</td>\n",
       "      <td>...</td>\n",
       "      <td>16.109559</td>\n",
       "      <td>LAND</td>\n",
       "      <td>1</td>\n",
       "      <td>11.327692</td>\n",
       "      <td>1</td>\n",
       "      <td>R</td>\n",
       "      <td>0</td>\n",
       "      <td>0</td>\n",
       "      <td>V</td>\n",
       "      <td>6</td>\n",
       "    </tr>\n",
       "    <tr>\n",
       "      <th>3</th>\n",
       "      <td>3</td>\n",
       "      <td>Lexus ES 350</td>\n",
       "      <td>91524</td>\n",
       "      <td>Lagos</td>\n",
       "      <td>Foreign Used</td>\n",
       "      <td>4-cylinder(I4)</td>\n",
       "      <td>automatic</td>\n",
       "      <td>petrol</td>\n",
       "      <td>GRAY</td>\n",
       "      <td>2007</td>\n",
       "      <td>...</td>\n",
       "      <td>15.154451</td>\n",
       "      <td>LEXUS</td>\n",
       "      <td>1</td>\n",
       "      <td>11.424357</td>\n",
       "      <td>1</td>\n",
       "      <td>G</td>\n",
       "      <td>0</td>\n",
       "      <td>0</td>\n",
       "      <td>I</td>\n",
       "      <td>4</td>\n",
       "    </tr>\n",
       "    <tr>\n",
       "      <th>4</th>\n",
       "      <td>4</td>\n",
       "      <td>Toyota Venza</td>\n",
       "      <td>94177</td>\n",
       "      <td>Lagos</td>\n",
       "      <td>Foreign Used</td>\n",
       "      <td>6-cylinder(V6)</td>\n",
       "      <td>automatic</td>\n",
       "      <td>petrol</td>\n",
       "      <td>RED</td>\n",
       "      <td>2010</td>\n",
       "      <td>...</td>\n",
       "      <td>15.814961</td>\n",
       "      <td>TOYOTA</td>\n",
       "      <td>1</td>\n",
       "      <td>11.452931</td>\n",
       "      <td>1</td>\n",
       "      <td>R</td>\n",
       "      <td>0</td>\n",
       "      <td>0</td>\n",
       "      <td>V</td>\n",
       "      <td>6</td>\n",
       "    </tr>\n",
       "    <tr>\n",
       "      <th>...</th>\n",
       "      <td>...</td>\n",
       "      <td>...</td>\n",
       "      <td>...</td>\n",
       "      <td>...</td>\n",
       "      <td>...</td>\n",
       "      <td>...</td>\n",
       "      <td>...</td>\n",
       "      <td>...</td>\n",
       "      <td>...</td>\n",
       "      <td>...</td>\n",
       "      <td>...</td>\n",
       "      <td>...</td>\n",
       "      <td>...</td>\n",
       "      <td>...</td>\n",
       "      <td>...</td>\n",
       "      <td>...</td>\n",
       "      <td>...</td>\n",
       "      <td>...</td>\n",
       "      <td>...</td>\n",
       "      <td>...</td>\n",
       "      <td>...</td>\n",
       "    </tr>\n",
       "    <tr>\n",
       "      <th>1446</th>\n",
       "      <td>431</td>\n",
       "      <td>Mercedes-Benz GLK 350</td>\n",
       "      <td>78175</td>\n",
       "      <td>Lagos</td>\n",
       "      <td>Foreign Used</td>\n",
       "      <td>6-cylinder(V6)</td>\n",
       "      <td>automatic</td>\n",
       "      <td>petrol</td>\n",
       "      <td>DARK BLUE</td>\n",
       "      <td>2014</td>\n",
       "      <td>...</td>\n",
       "      <td>NaN</td>\n",
       "      <td>MERCEDES-BENZ</td>\n",
       "      <td>1</td>\n",
       "      <td>11.266705</td>\n",
       "      <td>1</td>\n",
       "      <td>B</td>\n",
       "      <td>1</td>\n",
       "      <td>0</td>\n",
       "      <td>V</td>\n",
       "      <td>6</td>\n",
       "    </tr>\n",
       "    <tr>\n",
       "      <th>1447</th>\n",
       "      <td>432</td>\n",
       "      <td>Honda Crosstour</td>\n",
       "      <td>129223</td>\n",
       "      <td>Lagos</td>\n",
       "      <td>Foreign Used</td>\n",
       "      <td>6-cylinder(V6)</td>\n",
       "      <td>automatic</td>\n",
       "      <td>petrol</td>\n",
       "      <td>RED</td>\n",
       "      <td>2011</td>\n",
       "      <td>...</td>\n",
       "      <td>NaN</td>\n",
       "      <td>HONDA</td>\n",
       "      <td>1</td>\n",
       "      <td>11.769295</td>\n",
       "      <td>1</td>\n",
       "      <td>R</td>\n",
       "      <td>0</td>\n",
       "      <td>0</td>\n",
       "      <td>V</td>\n",
       "      <td>6</td>\n",
       "    </tr>\n",
       "    <tr>\n",
       "      <th>1448</th>\n",
       "      <td>433</td>\n",
       "      <td>Mercedes-Benz ML 350</td>\n",
       "      <td>100943</td>\n",
       "      <td>Lagos</td>\n",
       "      <td>Foreign Used</td>\n",
       "      <td>4-cylinder(I4)</td>\n",
       "      <td>automatic</td>\n",
       "      <td>petrol</td>\n",
       "      <td>BLACK</td>\n",
       "      <td>2013</td>\n",
       "      <td>...</td>\n",
       "      <td>NaN</td>\n",
       "      <td>MERCEDES-BENZ</td>\n",
       "      <td>1</td>\n",
       "      <td>11.522311</td>\n",
       "      <td>1</td>\n",
       "      <td>B</td>\n",
       "      <td>0</td>\n",
       "      <td>0</td>\n",
       "      <td>I</td>\n",
       "      <td>4</td>\n",
       "    </tr>\n",
       "    <tr>\n",
       "      <th>1449</th>\n",
       "      <td>434</td>\n",
       "      <td>Lexus GX 470</td>\n",
       "      <td>81463</td>\n",
       "      <td>Lagos</td>\n",
       "      <td>Foreign Used</td>\n",
       "      <td>4-cylinder(I4)</td>\n",
       "      <td>automatic</td>\n",
       "      <td>petrol</td>\n",
       "      <td>MINT GREEN</td>\n",
       "      <td>2003</td>\n",
       "      <td>...</td>\n",
       "      <td>NaN</td>\n",
       "      <td>LEXUS</td>\n",
       "      <td>1</td>\n",
       "      <td>11.307904</td>\n",
       "      <td>1</td>\n",
       "      <td>G</td>\n",
       "      <td>1</td>\n",
       "      <td>0</td>\n",
       "      <td>I</td>\n",
       "      <td>4</td>\n",
       "    </tr>\n",
       "    <tr>\n",
       "      <th>1450</th>\n",
       "      <td>435</td>\n",
       "      <td>Toyota Sienna</td>\n",
       "      <td>646</td>\n",
       "      <td>Lagos</td>\n",
       "      <td>Foreign Used</td>\n",
       "      <td>6-cylinder(V6)</td>\n",
       "      <td>automatic</td>\n",
       "      <td>petrol</td>\n",
       "      <td>SILVER</td>\n",
       "      <td>2006</td>\n",
       "      <td>...</td>\n",
       "      <td>NaN</td>\n",
       "      <td>TOYOTA</td>\n",
       "      <td>1</td>\n",
       "      <td>6.470800</td>\n",
       "      <td>0</td>\n",
       "      <td>S</td>\n",
       "      <td>0</td>\n",
       "      <td>0</td>\n",
       "      <td>V</td>\n",
       "      <td>6</td>\n",
       "    </tr>\n",
       "  </tbody>\n",
       "</table>\n",
       "<p>1441 rows × 21 columns</p>\n",
       "</div>"
      ],
      "text/plain": [
       "       id                          title  odometer location    isimported  \\\n",
       "0       0                   Toyota RAV 4     18277   Lagos   Foreign Used   \n",
       "1       1            Toyota Land Cruiser        10    Lagos          New    \n",
       "2       2  Land Rover Range Rover Evoque     83091    Lagos  Foreign Used   \n",
       "3       3                   Lexus ES 350     91524    Lagos  Foreign Used   \n",
       "4       4                   Toyota Venza     94177    Lagos  Foreign Used   \n",
       "...   ...                            ...       ...      ...           ...   \n",
       "1446  431          Mercedes-Benz GLK 350     78175    Lagos  Foreign Used   \n",
       "1447  432                Honda Crosstour    129223    Lagos  Foreign Used   \n",
       "1448  433           Mercedes-Benz ML 350    100943    Lagos  Foreign Used   \n",
       "1449  434                   Lexus GX 470     81463    Lagos  Foreign Used   \n",
       "1450  435                  Toyota Sienna       646    Lagos  Foreign Used   \n",
       "\n",
       "              engine transmission    fuel       paint  year  ...  log_target  \\\n",
       "0     4-cylinder(I4)    automatic  petrol         RED  2016  ...   16.430348   \n",
       "1     4-cylinder(I4)    automatic  petrol       BLACK  2019  ...   17.312473   \n",
       "2     6-cylinder(V6)    automatic  petrol         RED  2012  ...   16.109559   \n",
       "3     4-cylinder(I4)    automatic  petrol        GRAY  2007  ...   15.154451   \n",
       "4     6-cylinder(V6)    automatic  petrol         RED  2010  ...   15.814961   \n",
       "...              ...          ...     ...         ...   ...  ...         ...   \n",
       "1446  6-cylinder(V6)    automatic  petrol   DARK BLUE  2014  ...         NaN   \n",
       "1447  6-cylinder(V6)    automatic  petrol         RED  2011  ...         NaN   \n",
       "1448  4-cylinder(I4)    automatic  petrol       BLACK  2013  ...         NaN   \n",
       "1449  4-cylinder(I4)    automatic  petrol  MINT GREEN  2003  ...         NaN   \n",
       "1450  6-cylinder(V6)    automatic  petrol      SILVER  2006  ...         NaN   \n",
       "\n",
       "                com old  log_odometer  too_old  color 2color  antic  \\\n",
       "0            TOYOTA   1      9.813399        0      R      0      0   \n",
       "1            TOYOTA   1      2.302585        0      B      0      0   \n",
       "2              LAND   1     11.327692        1      R      0      0   \n",
       "3             LEXUS   1     11.424357        1      G      0      0   \n",
       "4            TOYOTA   1     11.452931        1      R      0      0   \n",
       "...             ...  ..           ...      ...    ...    ...    ...   \n",
       "1446  MERCEDES-BENZ   1     11.266705        1      B      1      0   \n",
       "1447          HONDA   1     11.769295        1      R      0      0   \n",
       "1448  MERCEDES-BENZ   1     11.522311        1      B      0      0   \n",
       "1449          LEXUS   1     11.307904        1      G      1      0   \n",
       "1450         TOYOTA   1      6.470800        0      S      0      0   \n",
       "\n",
       "      engine_type cylinder  \n",
       "0               I        4  \n",
       "1               I        4  \n",
       "2               V        6  \n",
       "3               I        4  \n",
       "4               V        6  \n",
       "...           ...      ...  \n",
       "1446            V        6  \n",
       "1447            V        6  \n",
       "1448            I        4  \n",
       "1449            I        4  \n",
       "1450            V        6  \n",
       "\n",
       "[1441 rows x 21 columns]"
      ]
     },
     "execution_count": 66,
     "metadata": {},
     "output_type": "execute_result"
    }
   ],
   "source": [
    "all_data"
   ]
  },
  {
   "cell_type": "markdown",
   "id": "fa7eea89",
   "metadata": {
    "ExecuteTime": {
     "end_time": "2022-05-30T18:16:33.476248Z",
     "start_time": "2022-05-30T18:16:33.449822Z"
    }
   },
   "source": [
    "## 명목형 변수"
   ]
  },
  {
   "cell_type": "code",
   "execution_count": 52,
   "id": "39e7a17b",
   "metadata": {
    "ExecuteTime": {
     "end_time": "2022-06-02T07:28:43.022567Z",
     "start_time": "2022-06-02T07:28:43.012564Z"
    }
   },
   "outputs": [
    {
     "data": {
      "text/plain": [
       "<1441x71 sparse matrix of type '<class 'numpy.float64'>'\n",
       "\twith 10087 stored elements in Compressed Sparse Row format>"
      ]
     },
     "execution_count": 52,
     "metadata": {},
     "output_type": "execute_result"
    }
   ],
   "source": [
    "from sklearn.preprocessing import OneHotEncoder\n",
    "\n",
    "encoder =OneHotEncoder()\n",
    "encoded_nom_matrix = encoder.fit_transform(all_data[nom_feature])\n",
    "encoded_nom_matrix"
   ]
  },
  {
   "cell_type": "code",
   "execution_count": 53,
   "id": "48619635",
   "metadata": {
    "ExecuteTime": {
     "end_time": "2022-06-02T07:28:44.243148Z",
     "start_time": "2022-06-02T07:28:44.237147Z"
    }
   },
   "outputs": [],
   "source": [
    "all_data = all_data.drop(nom_feature, axis=1)\n",
    "all_data = all_data.drop(drop_feature, axis=1)"
   ]
  },
  {
   "cell_type": "code",
   "execution_count": 54,
   "id": "d683c21c",
   "metadata": {
    "ExecuteTime": {
     "end_time": "2022-06-02T07:28:45.681130Z",
     "start_time": "2022-06-02T07:28:45.662129Z"
    }
   },
   "outputs": [
    {
     "data": {
      "text/html": [
       "<div>\n",
       "<style scoped>\n",
       "    .dataframe tbody tr th:only-of-type {\n",
       "        vertical-align: middle;\n",
       "    }\n",
       "\n",
       "    .dataframe tbody tr th {\n",
       "        vertical-align: top;\n",
       "    }\n",
       "\n",
       "    .dataframe thead th {\n",
       "        text-align: right;\n",
       "    }\n",
       "</style>\n",
       "<table border=\"1\" class=\"dataframe\">\n",
       "  <thead>\n",
       "    <tr style=\"text-align: right;\">\n",
       "      <th></th>\n",
       "      <th>log_target</th>\n",
       "      <th>old</th>\n",
       "      <th>log_odometer</th>\n",
       "      <th>too_old</th>\n",
       "      <th>2color</th>\n",
       "      <th>antic</th>\n",
       "    </tr>\n",
       "  </thead>\n",
       "  <tbody>\n",
       "    <tr>\n",
       "      <th>0</th>\n",
       "      <td>16.430348</td>\n",
       "      <td>1</td>\n",
       "      <td>0.621393</td>\n",
       "      <td>0</td>\n",
       "      <td>0</td>\n",
       "      <td>0</td>\n",
       "    </tr>\n",
       "    <tr>\n",
       "      <th>1</th>\n",
       "      <td>17.312473</td>\n",
       "      <td>1</td>\n",
       "      <td>0.000000</td>\n",
       "      <td>0</td>\n",
       "      <td>0</td>\n",
       "      <td>0</td>\n",
       "    </tr>\n",
       "    <tr>\n",
       "      <th>2</th>\n",
       "      <td>16.109559</td>\n",
       "      <td>1</td>\n",
       "      <td>0.746675</td>\n",
       "      <td>1</td>\n",
       "      <td>0</td>\n",
       "      <td>0</td>\n",
       "    </tr>\n",
       "    <tr>\n",
       "      <th>3</th>\n",
       "      <td>15.154451</td>\n",
       "      <td>1</td>\n",
       "      <td>0.754673</td>\n",
       "      <td>1</td>\n",
       "      <td>0</td>\n",
       "      <td>0</td>\n",
       "    </tr>\n",
       "    <tr>\n",
       "      <th>4</th>\n",
       "      <td>15.814961</td>\n",
       "      <td>1</td>\n",
       "      <td>0.757037</td>\n",
       "      <td>1</td>\n",
       "      <td>0</td>\n",
       "      <td>0</td>\n",
       "    </tr>\n",
       "    <tr>\n",
       "      <th>...</th>\n",
       "      <td>...</td>\n",
       "      <td>...</td>\n",
       "      <td>...</td>\n",
       "      <td>...</td>\n",
       "      <td>...</td>\n",
       "      <td>...</td>\n",
       "    </tr>\n",
       "    <tr>\n",
       "      <th>1446</th>\n",
       "      <td>NaN</td>\n",
       "      <td>1</td>\n",
       "      <td>0.741630</td>\n",
       "      <td>1</td>\n",
       "      <td>1</td>\n",
       "      <td>0</td>\n",
       "    </tr>\n",
       "    <tr>\n",
       "      <th>1447</th>\n",
       "      <td>NaN</td>\n",
       "      <td>1</td>\n",
       "      <td>0.783210</td>\n",
       "      <td>1</td>\n",
       "      <td>0</td>\n",
       "      <td>0</td>\n",
       "    </tr>\n",
       "    <tr>\n",
       "      <th>1448</th>\n",
       "      <td>NaN</td>\n",
       "      <td>1</td>\n",
       "      <td>0.762777</td>\n",
       "      <td>1</td>\n",
       "      <td>0</td>\n",
       "      <td>0</td>\n",
       "    </tr>\n",
       "    <tr>\n",
       "      <th>1449</th>\n",
       "      <td>NaN</td>\n",
       "      <td>1</td>\n",
       "      <td>0.745038</td>\n",
       "      <td>1</td>\n",
       "      <td>1</td>\n",
       "      <td>0</td>\n",
       "    </tr>\n",
       "    <tr>\n",
       "      <th>1450</th>\n",
       "      <td>NaN</td>\n",
       "      <td>1</td>\n",
       "      <td>0.344849</td>\n",
       "      <td>0</td>\n",
       "      <td>0</td>\n",
       "      <td>0</td>\n",
       "    </tr>\n",
       "  </tbody>\n",
       "</table>\n",
       "<p>1441 rows × 6 columns</p>\n",
       "</div>"
      ],
      "text/plain": [
       "      log_target  old  log_odometer  too_old  2color  antic\n",
       "0      16.430348    1      0.621393        0       0      0\n",
       "1      17.312473    1      0.000000        0       0      0\n",
       "2      16.109559    1      0.746675        1       0      0\n",
       "3      15.154451    1      0.754673        1       0      0\n",
       "4      15.814961    1      0.757037        1       0      0\n",
       "...          ...  ...           ...      ...     ...    ...\n",
       "1446         NaN    1      0.741630        1       1      0\n",
       "1447         NaN    1      0.783210        1       0      0\n",
       "1448         NaN    1      0.762777        1       0      0\n",
       "1449         NaN    1      0.745038        1       1      0\n",
       "1450         NaN    1      0.344849        0       0      0\n",
       "\n",
       "[1441 rows x 6 columns]"
      ]
     },
     "execution_count": 54,
     "metadata": {},
     "output_type": "execute_result"
    }
   ],
   "source": [
    "all_data"
   ]
  },
  {
   "cell_type": "markdown",
   "id": "e43cb988",
   "metadata": {},
   "source": [
    "## 합치기"
   ]
  },
  {
   "cell_type": "code",
   "execution_count": 58,
   "id": "97028bc1",
   "metadata": {
    "ExecuteTime": {
     "end_time": "2022-06-02T07:29:02.713052Z",
     "start_time": "2022-06-02T07:29:01.765249Z"
    }
   },
   "outputs": [],
   "source": [
    "from scipy import sparse\n",
    "from pycaret.regression import *"
   ]
  },
  {
   "cell_type": "code",
   "execution_count": 59,
   "id": "0ddc7be2",
   "metadata": {
    "ExecuteTime": {
     "end_time": "2022-06-02T07:29:06.321620Z",
     "start_time": "2022-06-02T07:29:06.308611Z"
    }
   },
   "outputs": [],
   "source": [
    "all_data_sprs = sparse.hstack([sparse.csr_matrix(all_data),\n",
    "                              encoded_nom_matrix], format=\"csr\")"
   ]
  },
  {
   "cell_type": "code",
   "execution_count": 61,
   "id": "6d32ca50",
   "metadata": {
    "ExecuteTime": {
     "end_time": "2022-06-02T07:29:13.397481Z",
     "start_time": "2022-06-02T07:29:11.278545Z"
    }
   },
   "outputs": [
    {
     "data": {
      "text/html": [
       "<style type=\"text/css\">\n",
       "#T_5107f_row3_col1, #T_5107f_row42_col1 {\n",
       "  background-color: lightgreen;\n",
       "}\n",
       "</style>\n",
       "<table id=\"T_5107f\">\n",
       "  <thead>\n",
       "    <tr>\n",
       "      <th class=\"blank level0\" >&nbsp;</th>\n",
       "      <th id=\"T_5107f_level0_col0\" class=\"col_heading level0 col0\" >Description</th>\n",
       "      <th id=\"T_5107f_level0_col1\" class=\"col_heading level0 col1\" >Value</th>\n",
       "    </tr>\n",
       "  </thead>\n",
       "  <tbody>\n",
       "    <tr>\n",
       "      <th id=\"T_5107f_level0_row0\" class=\"row_heading level0 row0\" >0</th>\n",
       "      <td id=\"T_5107f_row0_col0\" class=\"data row0 col0\" >session_id</td>\n",
       "      <td id=\"T_5107f_row0_col1\" class=\"data row0 col1\" >7777</td>\n",
       "    </tr>\n",
       "    <tr>\n",
       "      <th id=\"T_5107f_level0_row1\" class=\"row_heading level0 row1\" >1</th>\n",
       "      <td id=\"T_5107f_row1_col0\" class=\"data row1 col0\" >Target</td>\n",
       "      <td id=\"T_5107f_row1_col1\" class=\"data row1 col1\" >log_target</td>\n",
       "    </tr>\n",
       "    <tr>\n",
       "      <th id=\"T_5107f_level0_row2\" class=\"row_heading level0 row2\" >2</th>\n",
       "      <td id=\"T_5107f_row2_col0\" class=\"data row2 col0\" >Original Data</td>\n",
       "      <td id=\"T_5107f_row2_col1\" class=\"data row2 col1\" >(1441, 6)</td>\n",
       "    </tr>\n",
       "    <tr>\n",
       "      <th id=\"T_5107f_level0_row3\" class=\"row_heading level0 row3\" >3</th>\n",
       "      <td id=\"T_5107f_row3_col0\" class=\"data row3 col0\" >Missing Values</td>\n",
       "      <td id=\"T_5107f_row3_col1\" class=\"data row3 col1\" >True</td>\n",
       "    </tr>\n",
       "    <tr>\n",
       "      <th id=\"T_5107f_level0_row4\" class=\"row_heading level0 row4\" >4</th>\n",
       "      <td id=\"T_5107f_row4_col0\" class=\"data row4 col0\" >Numeric Features</td>\n",
       "      <td id=\"T_5107f_row4_col1\" class=\"data row4 col1\" >2</td>\n",
       "    </tr>\n",
       "    <tr>\n",
       "      <th id=\"T_5107f_level0_row5\" class=\"row_heading level0 row5\" >5</th>\n",
       "      <td id=\"T_5107f_row5_col0\" class=\"data row5 col0\" >Categorical Features</td>\n",
       "      <td id=\"T_5107f_row5_col1\" class=\"data row5 col1\" >3</td>\n",
       "    </tr>\n",
       "    <tr>\n",
       "      <th id=\"T_5107f_level0_row6\" class=\"row_heading level0 row6\" >6</th>\n",
       "      <td id=\"T_5107f_row6_col0\" class=\"data row6 col0\" >Ordinal Features</td>\n",
       "      <td id=\"T_5107f_row6_col1\" class=\"data row6 col1\" >False</td>\n",
       "    </tr>\n",
       "    <tr>\n",
       "      <th id=\"T_5107f_level0_row7\" class=\"row_heading level0 row7\" >7</th>\n",
       "      <td id=\"T_5107f_row7_col0\" class=\"data row7 col0\" >High Cardinality Features</td>\n",
       "      <td id=\"T_5107f_row7_col1\" class=\"data row7 col1\" >False</td>\n",
       "    </tr>\n",
       "    <tr>\n",
       "      <th id=\"T_5107f_level0_row8\" class=\"row_heading level0 row8\" >8</th>\n",
       "      <td id=\"T_5107f_row8_col0\" class=\"data row8 col0\" >High Cardinality Method</td>\n",
       "      <td id=\"T_5107f_row8_col1\" class=\"data row8 col1\" >None</td>\n",
       "    </tr>\n",
       "    <tr>\n",
       "      <th id=\"T_5107f_level0_row9\" class=\"row_heading level0 row9\" >9</th>\n",
       "      <td id=\"T_5107f_row9_col0\" class=\"data row9 col0\" >Transformed Train Set</td>\n",
       "      <td id=\"T_5107f_row9_col1\" class=\"data row9 col1\" >(791, 5)</td>\n",
       "    </tr>\n",
       "    <tr>\n",
       "      <th id=\"T_5107f_level0_row10\" class=\"row_heading level0 row10\" >10</th>\n",
       "      <td id=\"T_5107f_row10_col0\" class=\"data row10 col0\" >Transformed Test Set</td>\n",
       "      <td id=\"T_5107f_row10_col1\" class=\"data row10 col1\" >(214, 5)</td>\n",
       "    </tr>\n",
       "    <tr>\n",
       "      <th id=\"T_5107f_level0_row11\" class=\"row_heading level0 row11\" >11</th>\n",
       "      <td id=\"T_5107f_row11_col0\" class=\"data row11 col0\" >Shuffle Train-Test</td>\n",
       "      <td id=\"T_5107f_row11_col1\" class=\"data row11 col1\" >True</td>\n",
       "    </tr>\n",
       "    <tr>\n",
       "      <th id=\"T_5107f_level0_row12\" class=\"row_heading level0 row12\" >12</th>\n",
       "      <td id=\"T_5107f_row12_col0\" class=\"data row12 col0\" >Stratify Train-Test</td>\n",
       "      <td id=\"T_5107f_row12_col1\" class=\"data row12 col1\" >False</td>\n",
       "    </tr>\n",
       "    <tr>\n",
       "      <th id=\"T_5107f_level0_row13\" class=\"row_heading level0 row13\" >13</th>\n",
       "      <td id=\"T_5107f_row13_col0\" class=\"data row13 col0\" >Fold Generator</td>\n",
       "      <td id=\"T_5107f_row13_col1\" class=\"data row13 col1\" >KFold</td>\n",
       "    </tr>\n",
       "    <tr>\n",
       "      <th id=\"T_5107f_level0_row14\" class=\"row_heading level0 row14\" >14</th>\n",
       "      <td id=\"T_5107f_row14_col0\" class=\"data row14 col0\" >Fold Number</td>\n",
       "      <td id=\"T_5107f_row14_col1\" class=\"data row14 col1\" >10</td>\n",
       "    </tr>\n",
       "    <tr>\n",
       "      <th id=\"T_5107f_level0_row15\" class=\"row_heading level0 row15\" >15</th>\n",
       "      <td id=\"T_5107f_row15_col0\" class=\"data row15 col0\" >CPU Jobs</td>\n",
       "      <td id=\"T_5107f_row15_col1\" class=\"data row15 col1\" >-1</td>\n",
       "    </tr>\n",
       "    <tr>\n",
       "      <th id=\"T_5107f_level0_row16\" class=\"row_heading level0 row16\" >16</th>\n",
       "      <td id=\"T_5107f_row16_col0\" class=\"data row16 col0\" >Use GPU</td>\n",
       "      <td id=\"T_5107f_row16_col1\" class=\"data row16 col1\" >False</td>\n",
       "    </tr>\n",
       "    <tr>\n",
       "      <th id=\"T_5107f_level0_row17\" class=\"row_heading level0 row17\" >17</th>\n",
       "      <td id=\"T_5107f_row17_col0\" class=\"data row17 col0\" >Log Experiment</td>\n",
       "      <td id=\"T_5107f_row17_col1\" class=\"data row17 col1\" >False</td>\n",
       "    </tr>\n",
       "    <tr>\n",
       "      <th id=\"T_5107f_level0_row18\" class=\"row_heading level0 row18\" >18</th>\n",
       "      <td id=\"T_5107f_row18_col0\" class=\"data row18 col0\" >Experiment Name</td>\n",
       "      <td id=\"T_5107f_row18_col1\" class=\"data row18 col1\" >reg-default-name</td>\n",
       "    </tr>\n",
       "    <tr>\n",
       "      <th id=\"T_5107f_level0_row19\" class=\"row_heading level0 row19\" >19</th>\n",
       "      <td id=\"T_5107f_row19_col0\" class=\"data row19 col0\" >USI</td>\n",
       "      <td id=\"T_5107f_row19_col1\" class=\"data row19 col1\" >f7dd</td>\n",
       "    </tr>\n",
       "    <tr>\n",
       "      <th id=\"T_5107f_level0_row20\" class=\"row_heading level0 row20\" >20</th>\n",
       "      <td id=\"T_5107f_row20_col0\" class=\"data row20 col0\" >Imputation Type</td>\n",
       "      <td id=\"T_5107f_row20_col1\" class=\"data row20 col1\" >simple</td>\n",
       "    </tr>\n",
       "    <tr>\n",
       "      <th id=\"T_5107f_level0_row21\" class=\"row_heading level0 row21\" >21</th>\n",
       "      <td id=\"T_5107f_row21_col0\" class=\"data row21 col0\" >Iterative Imputation Iteration</td>\n",
       "      <td id=\"T_5107f_row21_col1\" class=\"data row21 col1\" >None</td>\n",
       "    </tr>\n",
       "    <tr>\n",
       "      <th id=\"T_5107f_level0_row22\" class=\"row_heading level0 row22\" >22</th>\n",
       "      <td id=\"T_5107f_row22_col0\" class=\"data row22 col0\" >Numeric Imputer</td>\n",
       "      <td id=\"T_5107f_row22_col1\" class=\"data row22 col1\" >mean</td>\n",
       "    </tr>\n",
       "    <tr>\n",
       "      <th id=\"T_5107f_level0_row23\" class=\"row_heading level0 row23\" >23</th>\n",
       "      <td id=\"T_5107f_row23_col0\" class=\"data row23 col0\" >Iterative Imputation Numeric Model</td>\n",
       "      <td id=\"T_5107f_row23_col1\" class=\"data row23 col1\" >None</td>\n",
       "    </tr>\n",
       "    <tr>\n",
       "      <th id=\"T_5107f_level0_row24\" class=\"row_heading level0 row24\" >24</th>\n",
       "      <td id=\"T_5107f_row24_col0\" class=\"data row24 col0\" >Categorical Imputer</td>\n",
       "      <td id=\"T_5107f_row24_col1\" class=\"data row24 col1\" >constant</td>\n",
       "    </tr>\n",
       "    <tr>\n",
       "      <th id=\"T_5107f_level0_row25\" class=\"row_heading level0 row25\" >25</th>\n",
       "      <td id=\"T_5107f_row25_col0\" class=\"data row25 col0\" >Iterative Imputation Categorical Model</td>\n",
       "      <td id=\"T_5107f_row25_col1\" class=\"data row25 col1\" >None</td>\n",
       "    </tr>\n",
       "    <tr>\n",
       "      <th id=\"T_5107f_level0_row26\" class=\"row_heading level0 row26\" >26</th>\n",
       "      <td id=\"T_5107f_row26_col0\" class=\"data row26 col0\" >Unknown Categoricals Handling</td>\n",
       "      <td id=\"T_5107f_row26_col1\" class=\"data row26 col1\" >least_frequent</td>\n",
       "    </tr>\n",
       "    <tr>\n",
       "      <th id=\"T_5107f_level0_row27\" class=\"row_heading level0 row27\" >27</th>\n",
       "      <td id=\"T_5107f_row27_col0\" class=\"data row27 col0\" >Normalize</td>\n",
       "      <td id=\"T_5107f_row27_col1\" class=\"data row27 col1\" >False</td>\n",
       "    </tr>\n",
       "    <tr>\n",
       "      <th id=\"T_5107f_level0_row28\" class=\"row_heading level0 row28\" >28</th>\n",
       "      <td id=\"T_5107f_row28_col0\" class=\"data row28 col0\" >Normalize Method</td>\n",
       "      <td id=\"T_5107f_row28_col1\" class=\"data row28 col1\" >None</td>\n",
       "    </tr>\n",
       "    <tr>\n",
       "      <th id=\"T_5107f_level0_row29\" class=\"row_heading level0 row29\" >29</th>\n",
       "      <td id=\"T_5107f_row29_col0\" class=\"data row29 col0\" >Transformation</td>\n",
       "      <td id=\"T_5107f_row29_col1\" class=\"data row29 col1\" >False</td>\n",
       "    </tr>\n",
       "    <tr>\n",
       "      <th id=\"T_5107f_level0_row30\" class=\"row_heading level0 row30\" >30</th>\n",
       "      <td id=\"T_5107f_row30_col0\" class=\"data row30 col0\" >Transformation Method</td>\n",
       "      <td id=\"T_5107f_row30_col1\" class=\"data row30 col1\" >None</td>\n",
       "    </tr>\n",
       "    <tr>\n",
       "      <th id=\"T_5107f_level0_row31\" class=\"row_heading level0 row31\" >31</th>\n",
       "      <td id=\"T_5107f_row31_col0\" class=\"data row31 col0\" >PCA</td>\n",
       "      <td id=\"T_5107f_row31_col1\" class=\"data row31 col1\" >False</td>\n",
       "    </tr>\n",
       "    <tr>\n",
       "      <th id=\"T_5107f_level0_row32\" class=\"row_heading level0 row32\" >32</th>\n",
       "      <td id=\"T_5107f_row32_col0\" class=\"data row32 col0\" >PCA Method</td>\n",
       "      <td id=\"T_5107f_row32_col1\" class=\"data row32 col1\" >None</td>\n",
       "    </tr>\n",
       "    <tr>\n",
       "      <th id=\"T_5107f_level0_row33\" class=\"row_heading level0 row33\" >33</th>\n",
       "      <td id=\"T_5107f_row33_col0\" class=\"data row33 col0\" >PCA Components</td>\n",
       "      <td id=\"T_5107f_row33_col1\" class=\"data row33 col1\" >None</td>\n",
       "    </tr>\n",
       "    <tr>\n",
       "      <th id=\"T_5107f_level0_row34\" class=\"row_heading level0 row34\" >34</th>\n",
       "      <td id=\"T_5107f_row34_col0\" class=\"data row34 col0\" >Ignore Low Variance</td>\n",
       "      <td id=\"T_5107f_row34_col1\" class=\"data row34 col1\" >False</td>\n",
       "    </tr>\n",
       "    <tr>\n",
       "      <th id=\"T_5107f_level0_row35\" class=\"row_heading level0 row35\" >35</th>\n",
       "      <td id=\"T_5107f_row35_col0\" class=\"data row35 col0\" >Combine Rare Levels</td>\n",
       "      <td id=\"T_5107f_row35_col1\" class=\"data row35 col1\" >False</td>\n",
       "    </tr>\n",
       "    <tr>\n",
       "      <th id=\"T_5107f_level0_row36\" class=\"row_heading level0 row36\" >36</th>\n",
       "      <td id=\"T_5107f_row36_col0\" class=\"data row36 col0\" >Rare Level Threshold</td>\n",
       "      <td id=\"T_5107f_row36_col1\" class=\"data row36 col1\" >None</td>\n",
       "    </tr>\n",
       "    <tr>\n",
       "      <th id=\"T_5107f_level0_row37\" class=\"row_heading level0 row37\" >37</th>\n",
       "      <td id=\"T_5107f_row37_col0\" class=\"data row37 col0\" >Numeric Binning</td>\n",
       "      <td id=\"T_5107f_row37_col1\" class=\"data row37 col1\" >False</td>\n",
       "    </tr>\n",
       "    <tr>\n",
       "      <th id=\"T_5107f_level0_row38\" class=\"row_heading level0 row38\" >38</th>\n",
       "      <td id=\"T_5107f_row38_col0\" class=\"data row38 col0\" >Remove Outliers</td>\n",
       "      <td id=\"T_5107f_row38_col1\" class=\"data row38 col1\" >False</td>\n",
       "    </tr>\n",
       "    <tr>\n",
       "      <th id=\"T_5107f_level0_row39\" class=\"row_heading level0 row39\" >39</th>\n",
       "      <td id=\"T_5107f_row39_col0\" class=\"data row39 col0\" >Outliers Threshold</td>\n",
       "      <td id=\"T_5107f_row39_col1\" class=\"data row39 col1\" >None</td>\n",
       "    </tr>\n",
       "    <tr>\n",
       "      <th id=\"T_5107f_level0_row40\" class=\"row_heading level0 row40\" >40</th>\n",
       "      <td id=\"T_5107f_row40_col0\" class=\"data row40 col0\" >Remove Multicollinearity</td>\n",
       "      <td id=\"T_5107f_row40_col1\" class=\"data row40 col1\" >False</td>\n",
       "    </tr>\n",
       "    <tr>\n",
       "      <th id=\"T_5107f_level0_row41\" class=\"row_heading level0 row41\" >41</th>\n",
       "      <td id=\"T_5107f_row41_col0\" class=\"data row41 col0\" >Multicollinearity Threshold</td>\n",
       "      <td id=\"T_5107f_row41_col1\" class=\"data row41 col1\" >None</td>\n",
       "    </tr>\n",
       "    <tr>\n",
       "      <th id=\"T_5107f_level0_row42\" class=\"row_heading level0 row42\" >42</th>\n",
       "      <td id=\"T_5107f_row42_col0\" class=\"data row42 col0\" >Remove Perfect Collinearity</td>\n",
       "      <td id=\"T_5107f_row42_col1\" class=\"data row42 col1\" >True</td>\n",
       "    </tr>\n",
       "    <tr>\n",
       "      <th id=\"T_5107f_level0_row43\" class=\"row_heading level0 row43\" >43</th>\n",
       "      <td id=\"T_5107f_row43_col0\" class=\"data row43 col0\" >Clustering</td>\n",
       "      <td id=\"T_5107f_row43_col1\" class=\"data row43 col1\" >False</td>\n",
       "    </tr>\n",
       "    <tr>\n",
       "      <th id=\"T_5107f_level0_row44\" class=\"row_heading level0 row44\" >44</th>\n",
       "      <td id=\"T_5107f_row44_col0\" class=\"data row44 col0\" >Clustering Iteration</td>\n",
       "      <td id=\"T_5107f_row44_col1\" class=\"data row44 col1\" >None</td>\n",
       "    </tr>\n",
       "    <tr>\n",
       "      <th id=\"T_5107f_level0_row45\" class=\"row_heading level0 row45\" >45</th>\n",
       "      <td id=\"T_5107f_row45_col0\" class=\"data row45 col0\" >Polynomial Features</td>\n",
       "      <td id=\"T_5107f_row45_col1\" class=\"data row45 col1\" >False</td>\n",
       "    </tr>\n",
       "    <tr>\n",
       "      <th id=\"T_5107f_level0_row46\" class=\"row_heading level0 row46\" >46</th>\n",
       "      <td id=\"T_5107f_row46_col0\" class=\"data row46 col0\" >Polynomial Degree</td>\n",
       "      <td id=\"T_5107f_row46_col1\" class=\"data row46 col1\" >None</td>\n",
       "    </tr>\n",
       "    <tr>\n",
       "      <th id=\"T_5107f_level0_row47\" class=\"row_heading level0 row47\" >47</th>\n",
       "      <td id=\"T_5107f_row47_col0\" class=\"data row47 col0\" >Trignometry Features</td>\n",
       "      <td id=\"T_5107f_row47_col1\" class=\"data row47 col1\" >False</td>\n",
       "    </tr>\n",
       "    <tr>\n",
       "      <th id=\"T_5107f_level0_row48\" class=\"row_heading level0 row48\" >48</th>\n",
       "      <td id=\"T_5107f_row48_col0\" class=\"data row48 col0\" >Polynomial Threshold</td>\n",
       "      <td id=\"T_5107f_row48_col1\" class=\"data row48 col1\" >None</td>\n",
       "    </tr>\n",
       "    <tr>\n",
       "      <th id=\"T_5107f_level0_row49\" class=\"row_heading level0 row49\" >49</th>\n",
       "      <td id=\"T_5107f_row49_col0\" class=\"data row49 col0\" >Group Features</td>\n",
       "      <td id=\"T_5107f_row49_col1\" class=\"data row49 col1\" >False</td>\n",
       "    </tr>\n",
       "    <tr>\n",
       "      <th id=\"T_5107f_level0_row50\" class=\"row_heading level0 row50\" >50</th>\n",
       "      <td id=\"T_5107f_row50_col0\" class=\"data row50 col0\" >Feature Selection</td>\n",
       "      <td id=\"T_5107f_row50_col1\" class=\"data row50 col1\" >False</td>\n",
       "    </tr>\n",
       "    <tr>\n",
       "      <th id=\"T_5107f_level0_row51\" class=\"row_heading level0 row51\" >51</th>\n",
       "      <td id=\"T_5107f_row51_col0\" class=\"data row51 col0\" >Feature Selection Method</td>\n",
       "      <td id=\"T_5107f_row51_col1\" class=\"data row51 col1\" >classic</td>\n",
       "    </tr>\n",
       "    <tr>\n",
       "      <th id=\"T_5107f_level0_row52\" class=\"row_heading level0 row52\" >52</th>\n",
       "      <td id=\"T_5107f_row52_col0\" class=\"data row52 col0\" >Features Selection Threshold</td>\n",
       "      <td id=\"T_5107f_row52_col1\" class=\"data row52 col1\" >None</td>\n",
       "    </tr>\n",
       "    <tr>\n",
       "      <th id=\"T_5107f_level0_row53\" class=\"row_heading level0 row53\" >53</th>\n",
       "      <td id=\"T_5107f_row53_col0\" class=\"data row53 col0\" >Feature Interaction</td>\n",
       "      <td id=\"T_5107f_row53_col1\" class=\"data row53 col1\" >False</td>\n",
       "    </tr>\n",
       "    <tr>\n",
       "      <th id=\"T_5107f_level0_row54\" class=\"row_heading level0 row54\" >54</th>\n",
       "      <td id=\"T_5107f_row54_col0\" class=\"data row54 col0\" >Feature Ratio</td>\n",
       "      <td id=\"T_5107f_row54_col1\" class=\"data row54 col1\" >False</td>\n",
       "    </tr>\n",
       "    <tr>\n",
       "      <th id=\"T_5107f_level0_row55\" class=\"row_heading level0 row55\" >55</th>\n",
       "      <td id=\"T_5107f_row55_col0\" class=\"data row55 col0\" >Interaction Threshold</td>\n",
       "      <td id=\"T_5107f_row55_col1\" class=\"data row55 col1\" >None</td>\n",
       "    </tr>\n",
       "    <tr>\n",
       "      <th id=\"T_5107f_level0_row56\" class=\"row_heading level0 row56\" >56</th>\n",
       "      <td id=\"T_5107f_row56_col0\" class=\"data row56 col0\" >Transform Target</td>\n",
       "      <td id=\"T_5107f_row56_col1\" class=\"data row56 col1\" >False</td>\n",
       "    </tr>\n",
       "    <tr>\n",
       "      <th id=\"T_5107f_level0_row57\" class=\"row_heading level0 row57\" >57</th>\n",
       "      <td id=\"T_5107f_row57_col0\" class=\"data row57 col0\" >Transform Target Method</td>\n",
       "      <td id=\"T_5107f_row57_col1\" class=\"data row57 col1\" >box-cox</td>\n",
       "    </tr>\n",
       "  </tbody>\n",
       "</table>\n"
      ],
      "text/plain": [
       "<pandas.io.formats.style.Styler at 0x21fb64f7f40>"
      ]
     },
     "metadata": {},
     "output_type": "display_data"
    }
   ],
   "source": [
    "data = setup(data=all_data, target=\"log_target\", train_size=0.8)"
   ]
  },
  {
   "cell_type": "code",
   "execution_count": 62,
   "id": "c4c9fc3c",
   "metadata": {
    "ExecuteTime": {
     "end_time": "2022-06-02T07:30:08.983931Z",
     "start_time": "2022-06-02T07:30:07.605692Z"
    }
   },
   "outputs": [
    {
     "ename": "ValueError",
     "evalue": "Sort method not supported. See docstring for list of available parameters.",
     "output_type": "error",
     "traceback": [
      "\u001b[1;31m---------------------------------------------------------------------------\u001b[0m",
      "\u001b[1;31mValueError\u001b[0m                                Traceback (most recent call last)",
      "Input \u001b[1;32mIn [62]\u001b[0m, in \u001b[0;36m<cell line: 1>\u001b[1;34m()\u001b[0m\n\u001b[1;32m----> 1\u001b[0m blender \u001b[38;5;241m=\u001b[39m blend_models(estimator_list\u001b[38;5;241m=\u001b[39m\u001b[43mcompare_models\u001b[49m\u001b[43m(\u001b[49m\u001b[43mn_select\u001b[49m\u001b[38;5;241;43m=\u001b[39;49m\u001b[38;5;241;43m3\u001b[39;49m\u001b[43m,\u001b[49m\u001b[43m \u001b[49m\u001b[43msort\u001b[49m\u001b[38;5;241;43m=\u001b[39;49m\u001b[38;5;124;43m\"\u001b[39;49m\u001b[38;5;124;43mNMAE\u001b[39;49m\u001b[38;5;124;43m\"\u001b[39;49m\u001b[43m)\u001b[49m)\n",
      "File \u001b[1;32m~\\AppData\\Roaming\\Python\\Python38\\site-packages\\pycaret\\regression.py:812\u001b[0m, in \u001b[0;36mcompare_models\u001b[1;34m(include, exclude, fold, round, cross_validation, sort, n_select, budget_time, turbo, errors, fit_kwargs, groups, experiment_custom_tags, verbose, display, parallel)\u001b[0m\n\u001b[0;32m    809\u001b[0m     \u001b[38;5;28;01mdel\u001b[39;00m params[\u001b[38;5;124m\"\u001b[39m\u001b[38;5;124mparallel\u001b[39m\u001b[38;5;124m\"\u001b[39m]\n\u001b[0;32m    810\u001b[0m     \u001b[38;5;28;01mreturn\u001b[39;00m parallel\u001b[38;5;241m.\u001b[39mcompare_models(compare_models, params)\n\u001b[1;32m--> 812\u001b[0m \u001b[38;5;28;01mreturn\u001b[39;00m \u001b[43mpycaret\u001b[49m\u001b[38;5;241;43m.\u001b[39;49m\u001b[43minternal\u001b[49m\u001b[38;5;241;43m.\u001b[39;49m\u001b[43mtabular\u001b[49m\u001b[38;5;241;43m.\u001b[39;49m\u001b[43mcompare_models\u001b[49m\u001b[43m(\u001b[49m\n\u001b[0;32m    813\u001b[0m \u001b[43m    \u001b[49m\u001b[43minclude\u001b[49m\u001b[38;5;241;43m=\u001b[39;49m\u001b[43minclude\u001b[49m\u001b[43m,\u001b[49m\n\u001b[0;32m    814\u001b[0m \u001b[43m    \u001b[49m\u001b[43mexclude\u001b[49m\u001b[38;5;241;43m=\u001b[39;49m\u001b[43mexclude\u001b[49m\u001b[43m,\u001b[49m\n\u001b[0;32m    815\u001b[0m \u001b[43m    \u001b[49m\u001b[43mfold\u001b[49m\u001b[38;5;241;43m=\u001b[39;49m\u001b[43mfold\u001b[49m\u001b[43m,\u001b[49m\n\u001b[0;32m    816\u001b[0m \u001b[43m    \u001b[49m\u001b[38;5;28;43mround\u001b[39;49m\u001b[38;5;241;43m=\u001b[39;49m\u001b[38;5;28;43mround\u001b[39;49m\u001b[43m,\u001b[49m\n\u001b[0;32m    817\u001b[0m \u001b[43m    \u001b[49m\u001b[43mcross_validation\u001b[49m\u001b[38;5;241;43m=\u001b[39;49m\u001b[43mcross_validation\u001b[49m\u001b[43m,\u001b[49m\n\u001b[0;32m    818\u001b[0m \u001b[43m    \u001b[49m\u001b[43msort\u001b[49m\u001b[38;5;241;43m=\u001b[39;49m\u001b[43msort\u001b[49m\u001b[43m,\u001b[49m\n\u001b[0;32m    819\u001b[0m \u001b[43m    \u001b[49m\u001b[43mn_select\u001b[49m\u001b[38;5;241;43m=\u001b[39;49m\u001b[43mn_select\u001b[49m\u001b[43m,\u001b[49m\n\u001b[0;32m    820\u001b[0m \u001b[43m    \u001b[49m\u001b[43mbudget_time\u001b[49m\u001b[38;5;241;43m=\u001b[39;49m\u001b[43mbudget_time\u001b[49m\u001b[43m,\u001b[49m\n\u001b[0;32m    821\u001b[0m \u001b[43m    \u001b[49m\u001b[43mturbo\u001b[49m\u001b[38;5;241;43m=\u001b[39;49m\u001b[43mturbo\u001b[49m\u001b[43m,\u001b[49m\n\u001b[0;32m    822\u001b[0m \u001b[43m    \u001b[49m\u001b[43merrors\u001b[49m\u001b[38;5;241;43m=\u001b[39;49m\u001b[43merrors\u001b[49m\u001b[43m,\u001b[49m\n\u001b[0;32m    823\u001b[0m \u001b[43m    \u001b[49m\u001b[43mfit_kwargs\u001b[49m\u001b[38;5;241;43m=\u001b[39;49m\u001b[43mfit_kwargs\u001b[49m\u001b[43m,\u001b[49m\n\u001b[0;32m    824\u001b[0m \u001b[43m    \u001b[49m\u001b[43mgroups\u001b[49m\u001b[38;5;241;43m=\u001b[39;49m\u001b[43mgroups\u001b[49m\u001b[43m,\u001b[49m\n\u001b[0;32m    825\u001b[0m \u001b[43m    \u001b[49m\u001b[43mexperiment_custom_tags\u001b[49m\u001b[38;5;241;43m=\u001b[39;49m\u001b[43mexperiment_custom_tags\u001b[49m\u001b[43m,\u001b[49m\n\u001b[0;32m    826\u001b[0m \u001b[43m    \u001b[49m\u001b[43mverbose\u001b[49m\u001b[38;5;241;43m=\u001b[39;49m\u001b[43mverbose\u001b[49m\u001b[43m,\u001b[49m\n\u001b[0;32m    827\u001b[0m \u001b[43m    \u001b[49m\u001b[43mdisplay\u001b[49m\u001b[38;5;241;43m=\u001b[39;49m\u001b[43mdisplay\u001b[49m\u001b[43m,\u001b[49m\n\u001b[0;32m    828\u001b[0m \u001b[43m\u001b[49m\u001b[43m)\u001b[49m\n",
      "File \u001b[1;32m~\\AppData\\Roaming\\Python\\Python38\\site-packages\\pycaret\\internal\\tabular.py:2019\u001b[0m, in \u001b[0;36mcompare_models\u001b[1;34m(include, exclude, fold, round, cross_validation, sort, n_select, budget_time, turbo, errors, fit_kwargs, groups, experiment_custom_tags, probability_threshold, verbose, display)\u001b[0m\n\u001b[0;32m   2017\u001b[0m     sort \u001b[38;5;241m=\u001b[39m _get_metric(sort)\n\u001b[0;32m   2018\u001b[0m     \u001b[38;5;28;01mif\u001b[39;00m sort \u001b[38;5;129;01mis\u001b[39;00m \u001b[38;5;28;01mNone\u001b[39;00m:\n\u001b[1;32m-> 2019\u001b[0m         \u001b[38;5;28;01mraise\u001b[39;00m \u001b[38;5;167;01mValueError\u001b[39;00m(\n\u001b[0;32m   2020\u001b[0m             \u001b[38;5;124mf\u001b[39m\u001b[38;5;124m\"\u001b[39m\u001b[38;5;124mSort method not supported. See docstring for list of available parameters.\u001b[39m\u001b[38;5;124m\"\u001b[39m\n\u001b[0;32m   2021\u001b[0m         )\n\u001b[0;32m   2023\u001b[0m \u001b[38;5;66;03m# checking errors parameter\u001b[39;00m\n\u001b[0;32m   2024\u001b[0m possible_errors \u001b[38;5;241m=\u001b[39m [\u001b[38;5;124m\"\u001b[39m\u001b[38;5;124mignore\u001b[39m\u001b[38;5;124m\"\u001b[39m, \u001b[38;5;124m\"\u001b[39m\u001b[38;5;124mraise\u001b[39m\u001b[38;5;124m\"\u001b[39m]\n",
      "\u001b[1;31mValueError\u001b[0m: Sort method not supported. See docstring for list of available parameters."
     ]
    }
   ],
   "source": [
    "blender = blend_models(estimator_list=compare_models(n_select=3, sort=\"NMAE\"))"
   ]
  },
  {
   "cell_type": "code",
   "execution_count": null,
   "id": "5087182f",
   "metadata": {},
   "outputs": [],
   "source": []
  }
 ],
 "metadata": {
  "kernelspec": {
   "display_name": "Python 3 (ipykernel)",
   "language": "python",
   "name": "python3"
  },
  "language_info": {
   "codemirror_mode": {
    "name": "ipython",
    "version": 3
   },
   "file_extension": ".py",
   "mimetype": "text/x-python",
   "name": "python",
   "nbconvert_exporter": "python",
   "pygments_lexer": "ipython3",
   "version": "3.9.0"
  },
  "toc": {
   "base_numbering": 1,
   "nav_menu": {},
   "number_sections": true,
   "sideBar": true,
   "skip_h1_title": false,
   "title_cell": "Table of Contents",
   "title_sidebar": "Contents",
   "toc_cell": false,
   "toc_position": {
    "height": "calc(100% - 180px)",
    "left": "10px",
    "top": "150px",
    "width": "288.825px"
   },
   "toc_section_display": true,
   "toc_window_display": true
  }
 },
 "nbformat": 4,
 "nbformat_minor": 5
}
