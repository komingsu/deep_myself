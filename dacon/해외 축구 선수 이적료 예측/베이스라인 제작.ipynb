{
 "cells": [
  {
   "cell_type": "markdown",
   "id": "e864d4bf",
   "metadata": {},
   "source": [
    "# 데이터 불러오기"
   ]
  },
  {
   "cell_type": "code",
   "execution_count": 1,
   "id": "64aae847",
   "metadata": {
    "ExecuteTime": {
     "end_time": "2022-06-02T08:58:31.105485Z",
     "start_time": "2022-06-02T08:58:30.605476Z"
    }
   },
   "outputs": [],
   "source": [
    "from sklearn.model_selection import train_test_split\n",
    "from sklearn.preprocessing import StandardScaler\n",
    "from sklearn.linear_model import LinearRegression, Lasso, Ridge, BayesianRidge, ElasticNet\n",
    "from sklearn.tree import DecisionTreeRegressor\n",
    "from sklearn.ensemble import RandomForestRegressor, ExtraTreesRegressor, GradientBoostingRegressor\n",
    "from xgboost import XGBRegressor\n",
    "from lightgbm import LGBMRegressor\n",
    "\n",
    "import numpy as np\n",
    "import pandas as pd\n",
    "\n",
    "train = pd.read_csv(\"data/FIFA_train.csv\")\n",
    "test = pd.read_csv(\"data/FIFA_test.csv\")"
   ]
  },
  {
   "cell_type": "markdown",
   "id": "741a029e",
   "metadata": {},
   "source": [
    "# 전처리1"
   ]
  },
  {
   "cell_type": "markdown",
   "id": "cd06912c",
   "metadata": {},
   "source": [
    "* train data의 value 전처리 우선\n",
    "* value 를 log 스케일로\n",
    "* log(value) 가 10~18 사이인 값만 사용"
   ]
  },
  {
   "cell_type": "code",
   "execution_count": 3,
   "id": "0f3bd91d",
   "metadata": {
    "ExecuteTime": {
     "end_time": "2022-06-02T08:58:34.312824Z",
     "start_time": "2022-06-02T08:58:34.289573Z"
    }
   },
   "outputs": [],
   "source": [
    "train[\"log_value\"] = np.log(train[\"value\"])\n",
    "train = train[10<=np.log(train[\"value\"])]\n",
    "train = train[18>=np.log(train[\"value\"])]"
   ]
  },
  {
   "cell_type": "code",
   "execution_count": 4,
   "id": "d9579cdd",
   "metadata": {
    "ExecuteTime": {
     "end_time": "2022-06-02T08:58:34.762282Z",
     "start_time": "2022-06-02T08:58:34.701870Z"
    }
   },
   "outputs": [
    {
     "data": {
      "text/html": [
       "<div>\n",
       "<style scoped>\n",
       "    .dataframe tbody tr th:only-of-type {\n",
       "        vertical-align: middle;\n",
       "    }\n",
       "\n",
       "    .dataframe tbody tr th {\n",
       "        vertical-align: top;\n",
       "    }\n",
       "\n",
       "    .dataframe thead th {\n",
       "        text-align: right;\n",
       "    }\n",
       "</style>\n",
       "<table border=\"1\" class=\"dataframe\">\n",
       "  <thead>\n",
       "    <tr style=\"text-align: right;\">\n",
       "      <th></th>\n",
       "      <th>id</th>\n",
       "      <th>name</th>\n",
       "      <th>age</th>\n",
       "      <th>continent</th>\n",
       "      <th>contract_until</th>\n",
       "      <th>position</th>\n",
       "      <th>prefer_foot</th>\n",
       "      <th>reputation</th>\n",
       "      <th>stat_overall</th>\n",
       "      <th>stat_potential</th>\n",
       "      <th>stat_skill_moves</th>\n",
       "      <th>value</th>\n",
       "      <th>log_value</th>\n",
       "    </tr>\n",
       "  </thead>\n",
       "  <tbody>\n",
       "    <tr>\n",
       "      <th>12735</th>\n",
       "      <td>16932</td>\n",
       "      <td>Y. Góez</td>\n",
       "      <td>18</td>\n",
       "      <td>south america</td>\n",
       "      <td>2021</td>\n",
       "      <td>MF</td>\n",
       "      <td>right</td>\n",
       "      <td>1.0</td>\n",
       "      <td>48</td>\n",
       "      <td>65</td>\n",
       "      <td>2.0</td>\n",
       "      <td>NaN</td>\n",
       "      <td>NaN</td>\n",
       "    </tr>\n",
       "    <tr>\n",
       "      <th>12736</th>\n",
       "      <td>16937</td>\n",
       "      <td>A. Kaltner</td>\n",
       "      <td>18</td>\n",
       "      <td>europe</td>\n",
       "      <td>2020</td>\n",
       "      <td>ST</td>\n",
       "      <td>right</td>\n",
       "      <td>1.0</td>\n",
       "      <td>47</td>\n",
       "      <td>61</td>\n",
       "      <td>2.0</td>\n",
       "      <td>NaN</td>\n",
       "      <td>NaN</td>\n",
       "    </tr>\n",
       "    <tr>\n",
       "      <th>12737</th>\n",
       "      <td>16943</td>\n",
       "      <td>K. Fujikawa</td>\n",
       "      <td>19</td>\n",
       "      <td>asia</td>\n",
       "      <td>2021</td>\n",
       "      <td>MF</td>\n",
       "      <td>right</td>\n",
       "      <td>1.0</td>\n",
       "      <td>47</td>\n",
       "      <td>61</td>\n",
       "      <td>2.0</td>\n",
       "      <td>NaN</td>\n",
       "      <td>NaN</td>\n",
       "    </tr>\n",
       "  </tbody>\n",
       "</table>\n",
       "</div>"
      ],
      "text/plain": [
       "          id         name  age      continent  ... stat_potential stat_skill_moves value  log_value\n",
       "12735  16932      Y. Góez   18  south america  ...             65              2.0   NaN        NaN\n",
       "12736  16937   A. Kaltner   18         europe  ...             61              2.0   NaN        NaN\n",
       "12737  16943  K. Fujikawa   19           asia  ...             61              2.0   NaN        NaN\n",
       "\n",
       "[3 rows x 13 columns]"
      ]
     },
     "execution_count": 4,
     "metadata": {},
     "output_type": "execute_result"
    }
   ],
   "source": [
    "all_data = pd.concat([train, test], ignore_index=True)\n",
    "all_data.tail(3)"
   ]
  },
  {
   "cell_type": "markdown",
   "id": "f307cbc5",
   "metadata": {},
   "source": [
    "* (stat_overall + stat_potential)/2 하여 새로운 피쳐를 만들고 원래 피쳐 제거"
   ]
  },
  {
   "cell_type": "code",
   "execution_count": 5,
   "id": "16a22842",
   "metadata": {
    "ExecuteTime": {
     "end_time": "2022-06-02T08:58:36.779583Z",
     "start_time": "2022-06-02T08:58:36.757281Z"
    }
   },
   "outputs": [],
   "source": [
    "all_data[\"all_stat\"] = (all_data[\"stat_overall\"]+all_data[\"stat_potential\"])/2"
   ]
  },
  {
   "cell_type": "code",
   "execution_count": 6,
   "id": "fd472625",
   "metadata": {
    "ExecuteTime": {
     "end_time": "2022-06-02T08:58:36.978544Z",
     "start_time": "2022-06-02T08:58:36.956291Z"
    }
   },
   "outputs": [],
   "source": [
    "all_data = all_data.drop([\"stat_overall\", \"stat_potential\"], axis=1)"
   ]
  },
  {
   "cell_type": "code",
   "execution_count": 7,
   "id": "eaab4b7b",
   "metadata": {
    "ExecuteTime": {
     "end_time": "2022-06-02T08:58:37.494108Z",
     "start_time": "2022-06-02T08:58:37.455539Z"
    }
   },
   "outputs": [
    {
     "data": {
      "text/html": [
       "<div>\n",
       "<style scoped>\n",
       "    .dataframe tbody tr th:only-of-type {\n",
       "        vertical-align: middle;\n",
       "    }\n",
       "\n",
       "    .dataframe tbody tr th {\n",
       "        vertical-align: top;\n",
       "    }\n",
       "\n",
       "    .dataframe thead th {\n",
       "        text-align: right;\n",
       "    }\n",
       "</style>\n",
       "<table border=\"1\" class=\"dataframe\">\n",
       "  <thead>\n",
       "    <tr style=\"text-align: right;\">\n",
       "      <th></th>\n",
       "      <th>id</th>\n",
       "      <th>name</th>\n",
       "      <th>age</th>\n",
       "      <th>continent</th>\n",
       "      <th>contract_until</th>\n",
       "      <th>position</th>\n",
       "      <th>prefer_foot</th>\n",
       "      <th>reputation</th>\n",
       "      <th>stat_skill_moves</th>\n",
       "      <th>value</th>\n",
       "      <th>log_value</th>\n",
       "      <th>all_stat</th>\n",
       "    </tr>\n",
       "  </thead>\n",
       "  <tbody>\n",
       "    <tr>\n",
       "      <th>12735</th>\n",
       "      <td>16932</td>\n",
       "      <td>Y. Góez</td>\n",
       "      <td>18</td>\n",
       "      <td>south america</td>\n",
       "      <td>2021</td>\n",
       "      <td>MF</td>\n",
       "      <td>right</td>\n",
       "      <td>1.0</td>\n",
       "      <td>2.0</td>\n",
       "      <td>NaN</td>\n",
       "      <td>NaN</td>\n",
       "      <td>56.5</td>\n",
       "    </tr>\n",
       "    <tr>\n",
       "      <th>12736</th>\n",
       "      <td>16937</td>\n",
       "      <td>A. Kaltner</td>\n",
       "      <td>18</td>\n",
       "      <td>europe</td>\n",
       "      <td>2020</td>\n",
       "      <td>ST</td>\n",
       "      <td>right</td>\n",
       "      <td>1.0</td>\n",
       "      <td>2.0</td>\n",
       "      <td>NaN</td>\n",
       "      <td>NaN</td>\n",
       "      <td>54.0</td>\n",
       "    </tr>\n",
       "    <tr>\n",
       "      <th>12737</th>\n",
       "      <td>16943</td>\n",
       "      <td>K. Fujikawa</td>\n",
       "      <td>19</td>\n",
       "      <td>asia</td>\n",
       "      <td>2021</td>\n",
       "      <td>MF</td>\n",
       "      <td>right</td>\n",
       "      <td>1.0</td>\n",
       "      <td>2.0</td>\n",
       "      <td>NaN</td>\n",
       "      <td>NaN</td>\n",
       "      <td>54.0</td>\n",
       "    </tr>\n",
       "  </tbody>\n",
       "</table>\n",
       "</div>"
      ],
      "text/plain": [
       "          id         name  age      continent contract_until  ... reputation stat_skill_moves  value  log_value  all_stat\n",
       "12735  16932      Y. Góez   18  south america           2021  ...        1.0              2.0    NaN        NaN      56.5\n",
       "12736  16937   A. Kaltner   18         europe           2020  ...        1.0              2.0    NaN        NaN      54.0\n",
       "12737  16943  K. Fujikawa   19           asia           2021  ...        1.0              2.0    NaN        NaN      54.0\n",
       "\n",
       "[3 rows x 12 columns]"
      ]
     },
     "execution_count": 7,
     "metadata": {},
     "output_type": "execute_result"
    }
   ],
   "source": [
    "all_data.tail(3)"
   ]
  },
  {
   "cell_type": "markdown",
   "id": "15e1f618",
   "metadata": {},
   "source": [
    "* 계약 만료기간을 남은 계약기간으로"
   ]
  },
  {
   "cell_type": "code",
   "execution_count": 8,
   "id": "0b56efb4",
   "metadata": {
    "ExecuteTime": {
     "end_time": "2022-06-02T08:58:39.093566Z",
     "start_time": "2022-06-02T08:58:39.066014Z"
    }
   },
   "outputs": [],
   "source": [
    "all_data.loc[all_data[\"contract_until\"]==\"Jun 30, 2019\",\"contract_until\"] = 2018\n",
    "all_data.loc[all_data[\"contract_until\"]==\"Dec 31, 2018\",\"contract_until\"] = 2018\n",
    "all_data.loc[all_data[\"contract_until\"]==\"May 31, 2019\",\"contract_until\"] = 2019\n",
    "all_data.loc[all_data[\"contract_until\"]==\"Jan 31, 2019\",\"contract_until\"] = 2018\n",
    "all_data.loc[all_data[\"contract_until\"]==\"Jun 30, 2020\",\"contract_until\"] = 2019\n",
    "all_data.loc[all_data[\"contract_until\"]==\"Jan 1, 2019\",\"contract_until\"] = 2018\n",
    "all_data.loc[all_data[\"contract_until\"]==\"May 31, 2020\",\"contract_until\"] = 2020\n",
    "all_data.loc[all_data[\"contract_until\"]==\"Jan 12, 2019\",\"contract_until\"] = 2018\n",
    "all_data.loc[all_data[\"contract_until\"]==\"Dec 31, 2019\",\"contract_until\"] = 2020\n",
    "all_data.loc[all_data[\"contract_until\"]==\"Jun 1, 2019\",\"contract_until\"] = 2018\n",
    "\n",
    "# \"2019\", 2019를 하나로 묶어주기 위한 타입 변화\n",
    "all_data[\"contract_until\"] = all_data[\"contract_until\"].astype(int)"
   ]
  },
  {
   "cell_type": "code",
   "execution_count": 9,
   "id": "be4e6430",
   "metadata": {
    "ExecuteTime": {
     "end_time": "2022-06-02T08:58:40.305158Z",
     "start_time": "2022-06-02T08:58:40.282329Z"
    }
   },
   "outputs": [],
   "source": [
    "all_data[\"contract_until\"] = all_data[\"contract_until\"].apply(lambda x: x-2018)"
   ]
  },
  {
   "cell_type": "code",
   "execution_count": 10,
   "id": "1eaa456f",
   "metadata": {
    "ExecuteTime": {
     "end_time": "2022-06-02T08:58:40.479770Z",
     "start_time": "2022-06-02T08:58:40.441430Z"
    }
   },
   "outputs": [
    {
     "data": {
      "text/html": [
       "<div>\n",
       "<style scoped>\n",
       "    .dataframe tbody tr th:only-of-type {\n",
       "        vertical-align: middle;\n",
       "    }\n",
       "\n",
       "    .dataframe tbody tr th {\n",
       "        vertical-align: top;\n",
       "    }\n",
       "\n",
       "    .dataframe thead th {\n",
       "        text-align: right;\n",
       "    }\n",
       "</style>\n",
       "<table border=\"1\" class=\"dataframe\">\n",
       "  <thead>\n",
       "    <tr style=\"text-align: right;\">\n",
       "      <th></th>\n",
       "      <th>id</th>\n",
       "      <th>name</th>\n",
       "      <th>age</th>\n",
       "      <th>continent</th>\n",
       "      <th>contract_until</th>\n",
       "      <th>position</th>\n",
       "      <th>prefer_foot</th>\n",
       "      <th>reputation</th>\n",
       "      <th>stat_skill_moves</th>\n",
       "      <th>value</th>\n",
       "      <th>log_value</th>\n",
       "      <th>all_stat</th>\n",
       "    </tr>\n",
       "  </thead>\n",
       "  <tbody>\n",
       "    <tr>\n",
       "      <th>12735</th>\n",
       "      <td>16932</td>\n",
       "      <td>Y. Góez</td>\n",
       "      <td>18</td>\n",
       "      <td>south america</td>\n",
       "      <td>3</td>\n",
       "      <td>MF</td>\n",
       "      <td>right</td>\n",
       "      <td>1.0</td>\n",
       "      <td>2.0</td>\n",
       "      <td>NaN</td>\n",
       "      <td>NaN</td>\n",
       "      <td>56.5</td>\n",
       "    </tr>\n",
       "    <tr>\n",
       "      <th>12736</th>\n",
       "      <td>16937</td>\n",
       "      <td>A. Kaltner</td>\n",
       "      <td>18</td>\n",
       "      <td>europe</td>\n",
       "      <td>2</td>\n",
       "      <td>ST</td>\n",
       "      <td>right</td>\n",
       "      <td>1.0</td>\n",
       "      <td>2.0</td>\n",
       "      <td>NaN</td>\n",
       "      <td>NaN</td>\n",
       "      <td>54.0</td>\n",
       "    </tr>\n",
       "    <tr>\n",
       "      <th>12737</th>\n",
       "      <td>16943</td>\n",
       "      <td>K. Fujikawa</td>\n",
       "      <td>19</td>\n",
       "      <td>asia</td>\n",
       "      <td>3</td>\n",
       "      <td>MF</td>\n",
       "      <td>right</td>\n",
       "      <td>1.0</td>\n",
       "      <td>2.0</td>\n",
       "      <td>NaN</td>\n",
       "      <td>NaN</td>\n",
       "      <td>54.0</td>\n",
       "    </tr>\n",
       "  </tbody>\n",
       "</table>\n",
       "</div>"
      ],
      "text/plain": [
       "          id         name  age      continent  contract_until  ... reputation stat_skill_moves  value  log_value  all_stat\n",
       "12735  16932      Y. Góez   18  south america               3  ...        1.0              2.0    NaN        NaN      56.5\n",
       "12736  16937   A. Kaltner   18         europe               2  ...        1.0              2.0    NaN        NaN      54.0\n",
       "12737  16943  K. Fujikawa   19           asia               3  ...        1.0              2.0    NaN        NaN      54.0\n",
       "\n",
       "[3 rows x 12 columns]"
      ]
     },
     "execution_count": 10,
     "metadata": {},
     "output_type": "execute_result"
    }
   ],
   "source": [
    "all_data.tail(3)"
   ]
  },
  {
   "cell_type": "markdown",
   "id": "54cc6cb8",
   "metadata": {},
   "source": [
    "* 왼발 오른발 변수 제거, value 제거, id, name 제거"
   ]
  },
  {
   "cell_type": "code",
   "execution_count": 11,
   "id": "4c3a3f59",
   "metadata": {
    "ExecuteTime": {
     "end_time": "2022-06-02T08:58:41.526320Z",
     "start_time": "2022-06-02T08:58:41.510643Z"
    }
   },
   "outputs": [],
   "source": [
    "all_data = all_data.drop([\"prefer_foot\", \"value\",\"id\",\"name\"], axis=1)"
   ]
  },
  {
   "cell_type": "code",
   "execution_count": 12,
   "id": "3232ba1a",
   "metadata": {
    "ExecuteTime": {
     "end_time": "2022-06-02T08:58:41.704950Z",
     "start_time": "2022-06-02T08:58:41.678335Z"
    }
   },
   "outputs": [
    {
     "data": {
      "text/html": [
       "<div>\n",
       "<style scoped>\n",
       "    .dataframe tbody tr th:only-of-type {\n",
       "        vertical-align: middle;\n",
       "    }\n",
       "\n",
       "    .dataframe tbody tr th {\n",
       "        vertical-align: top;\n",
       "    }\n",
       "\n",
       "    .dataframe thead th {\n",
       "        text-align: right;\n",
       "    }\n",
       "</style>\n",
       "<table border=\"1\" class=\"dataframe\">\n",
       "  <thead>\n",
       "    <tr style=\"text-align: right;\">\n",
       "      <th></th>\n",
       "      <th>age</th>\n",
       "      <th>continent</th>\n",
       "      <th>contract_until</th>\n",
       "      <th>position</th>\n",
       "      <th>reputation</th>\n",
       "      <th>stat_skill_moves</th>\n",
       "      <th>log_value</th>\n",
       "      <th>all_stat</th>\n",
       "    </tr>\n",
       "  </thead>\n",
       "  <tbody>\n",
       "    <tr>\n",
       "      <th>12735</th>\n",
       "      <td>18</td>\n",
       "      <td>south america</td>\n",
       "      <td>3</td>\n",
       "      <td>MF</td>\n",
       "      <td>1.0</td>\n",
       "      <td>2.0</td>\n",
       "      <td>NaN</td>\n",
       "      <td>56.5</td>\n",
       "    </tr>\n",
       "    <tr>\n",
       "      <th>12736</th>\n",
       "      <td>18</td>\n",
       "      <td>europe</td>\n",
       "      <td>2</td>\n",
       "      <td>ST</td>\n",
       "      <td>1.0</td>\n",
       "      <td>2.0</td>\n",
       "      <td>NaN</td>\n",
       "      <td>54.0</td>\n",
       "    </tr>\n",
       "    <tr>\n",
       "      <th>12737</th>\n",
       "      <td>19</td>\n",
       "      <td>asia</td>\n",
       "      <td>3</td>\n",
       "      <td>MF</td>\n",
       "      <td>1.0</td>\n",
       "      <td>2.0</td>\n",
       "      <td>NaN</td>\n",
       "      <td>54.0</td>\n",
       "    </tr>\n",
       "  </tbody>\n",
       "</table>\n",
       "</div>"
      ],
      "text/plain": [
       "       age      continent  contract_until position  reputation  stat_skill_moves  log_value  all_stat\n",
       "12735   18  south america               3       MF         1.0               2.0        NaN      56.5\n",
       "12736   18         europe               2       ST         1.0               2.0        NaN      54.0\n",
       "12737   19           asia               3       MF         1.0               2.0        NaN      54.0"
      ]
     },
     "execution_count": 12,
     "metadata": {},
     "output_type": "execute_result"
    }
   ],
   "source": [
    "all_data.tail(3)"
   ]
  },
  {
   "cell_type": "markdown",
   "id": "536cf49d",
   "metadata": {},
   "source": [
    "# 전처리 2"
   ]
  },
  {
   "cell_type": "code",
   "execution_count": 13,
   "id": "c7897b76",
   "metadata": {
    "ExecuteTime": {
     "end_time": "2022-06-02T08:58:42.942801Z",
     "start_time": "2022-06-02T08:58:42.936851Z"
    }
   },
   "outputs": [],
   "source": [
    "from sklearn.preprocessing import OneHotEncoder\n",
    "from scipy import sparse"
   ]
  },
  {
   "cell_type": "code",
   "execution_count": 185,
   "id": "eb88c0ee",
   "metadata": {},
   "outputs": [
    {
     "data": {
      "text/html": [
       "<div>\n",
       "<style scoped>\n",
       "    .dataframe tbody tr th:only-of-type {\n",
       "        vertical-align: middle;\n",
       "    }\n",
       "\n",
       "    .dataframe tbody tr th {\n",
       "        vertical-align: top;\n",
       "    }\n",
       "\n",
       "    .dataframe thead th {\n",
       "        text-align: right;\n",
       "    }\n",
       "</style>\n",
       "<table border=\"1\" class=\"dataframe\">\n",
       "  <thead>\n",
       "    <tr style=\"text-align: right;\">\n",
       "      <th></th>\n",
       "      <th>age</th>\n",
       "      <th>continent</th>\n",
       "      <th>contract_until</th>\n",
       "      <th>position</th>\n",
       "      <th>reputation</th>\n",
       "      <th>stat_skill_moves</th>\n",
       "      <th>log_value</th>\n",
       "      <th>all_stat</th>\n",
       "    </tr>\n",
       "  </thead>\n",
       "  <tbody>\n",
       "    <tr>\n",
       "      <th>12735</th>\n",
       "      <td>18</td>\n",
       "      <td>south america</td>\n",
       "      <td>3</td>\n",
       "      <td>MF</td>\n",
       "      <td>1.0</td>\n",
       "      <td>2.0</td>\n",
       "      <td>NaN</td>\n",
       "      <td>56.5</td>\n",
       "    </tr>\n",
       "    <tr>\n",
       "      <th>12736</th>\n",
       "      <td>18</td>\n",
       "      <td>europe</td>\n",
       "      <td>2</td>\n",
       "      <td>ST</td>\n",
       "      <td>1.0</td>\n",
       "      <td>2.0</td>\n",
       "      <td>NaN</td>\n",
       "      <td>54.0</td>\n",
       "    </tr>\n",
       "    <tr>\n",
       "      <th>12737</th>\n",
       "      <td>19</td>\n",
       "      <td>asia</td>\n",
       "      <td>3</td>\n",
       "      <td>MF</td>\n",
       "      <td>1.0</td>\n",
       "      <td>2.0</td>\n",
       "      <td>NaN</td>\n",
       "      <td>54.0</td>\n",
       "    </tr>\n",
       "  </tbody>\n",
       "</table>\n",
       "</div>"
      ],
      "text/plain": [
       "       age      continent  contract_until position  reputation  stat_skill_moves  log_value  all_stat\n",
       "12735   18  south america               3       MF         1.0               2.0        NaN      56.5\n",
       "12736   18         europe               2       ST         1.0               2.0        NaN      54.0\n",
       "12737   19           asia               3       MF         1.0               2.0        NaN      54.0"
      ]
     },
     "execution_count": 185,
     "metadata": {},
     "output_type": "execute_result"
    }
   ],
   "source": [
    "all_data.tail(3)"
   ]
  },
  {
   "cell_type": "markdown",
   "id": "42311a7a",
   "metadata": {},
   "source": [
    "* 원-핫인코딩"
   ]
  },
  {
   "cell_type": "code",
   "execution_count": 180,
   "id": "b554d75e",
   "metadata": {},
   "outputs": [],
   "source": [
    "ohe = OneHotEncoder()\n",
    "encoded_matrix = ohe.fit_transform(all_data[[\"continent\",\"position\"]])"
   ]
  },
  {
   "cell_type": "markdown",
   "id": "4225f4e9",
   "metadata": {},
   "source": [
    "* 데이터 모으기"
   ]
  },
  {
   "cell_type": "code",
   "execution_count": 190,
   "id": "884f29d3",
   "metadata": {},
   "outputs": [],
   "source": [
    "feature = [\"age\", \"contract_until\", \"reputation\",\"stat_skill_moves\",\"all_stat\"]\n",
    "all_data_sprs = sparse.hstack([sparse.csr_matrix(all_data[feature]), encoded_matrix], format=\"csr\")"
   ]
  },
  {
   "cell_type": "markdown",
   "id": "b98b3470",
   "metadata": {},
   "source": [
    "* 데이터 분할하기"
   ]
  },
  {
   "cell_type": "code",
   "execution_count": 202,
   "id": "1553e9ca",
   "metadata": {},
   "outputs": [],
   "source": [
    "num_train = len(train)\n",
    "X = all_data_sprs[:num_train].toarray()\n",
    "X_test = all_data_sprs[num_train:].toarray()\n",
    "y = train[\"log_value\"]"
   ]
  },
  {
   "cell_type": "code",
   "execution_count": 203,
   "id": "25db127c",
   "metadata": {},
   "outputs": [],
   "source": [
    "X_train, X_val, y_train, y_val = train_test_split(X, y, test_size=0.2) "
   ]
  },
  {
   "cell_type": "markdown",
   "id": "3fe5267d",
   "metadata": {},
   "source": [
    "# 베이스라인 평가"
   ]
  },
  {
   "cell_type": "code",
   "execution_count": 204,
   "id": "b73edaec",
   "metadata": {},
   "outputs": [],
   "source": [
    "from Metrics import regression_scores"
   ]
  },
  {
   "cell_type": "markdown",
   "id": "115f8576",
   "metadata": {},
   "source": [
    "## 베이스 베이스"
   ]
  },
  {
   "cell_type": "code",
   "execution_count": 205,
   "id": "5b602da1",
   "metadata": {},
   "outputs": [
    {
     "name": "stdout",
     "output_type": "stream",
     "text": [
      "{'MSE': 0.152, 'RMSE': 0.39, 'MAE': 0.277, 'NMAE': 0.02, 'MAPE': 2.044, 'R^2': 0.924, 'name': 'lr'}\n",
      "{'MSE': 0.152, 'RMSE': 0.39, 'MAE': 0.277, 'NMAE': 0.02, 'MAPE': 2.044, 'R^2': 0.924, 'name': 'ridge'}\n",
      "{'MSE': 0.175, 'RMSE': 0.418, 'MAE': 0.303, 'NMAE': 0.022, 'MAPE': 2.23, 'R^2': 0.913, 'name': 'lasso'}\n",
      "{'MSE': 0.162, 'RMSE': 0.403, 'MAE': 0.289, 'NMAE': 0.021, 'MAPE': 2.123, 'R^2': 0.919, 'name': 'elastic'}\n",
      "{'MSE': 0.152, 'RMSE': 0.39, 'MAE': 0.277, 'NMAE': 0.02, 'MAPE': 2.044, 'R^2': 0.924, 'name': 'bayes_ridge'}\n",
      "{'MSE': 0.042, 'RMSE': 0.206, 'MAE': 0.132, 'NMAE': 0.01, 'MAPE': 0.968, 'R^2': 0.979, 'name': 'tree'}\n",
      "{'MSE': 0.025, 'RMSE': 0.157, 'MAE': 0.107, 'NMAE': 0.008, 'MAPE': 0.782, 'R^2': 0.988, 'name': 'forest'}\n",
      "{'MSE': 0.027, 'RMSE': 0.165, 'MAE': 0.111, 'NMAE': 0.008, 'MAPE': 0.813, 'R^2': 0.986, 'name': 'et'}\n",
      "{'MSE': 0.021, 'RMSE': 0.144, 'MAE': 0.108, 'NMAE': 0.008, 'MAPE': 0.787, 'R^2': 0.99, 'name': 'gb'}\n",
      "{'MSE': 0.019, 'RMSE': 0.139, 'MAE': 0.096, 'NMAE': 0.007, 'MAPE': 0.704, 'R^2': 0.99, 'name': 'xgb'}\n"
     ]
    }
   ],
   "source": [
    "'linear', 'ridge', 'lasso', 'elastic', 'bayes_ridge', 'tree', 'forest', 'et', 'gb', 'xgb'\n",
    "lr = LinearRegression()\n",
    "ridge = Ridge(alpha=0.1)\n",
    "lasso = Lasso(alpha=0.1)\n",
    "elastic = ElasticNet(alpha =0.1)\n",
    "bayes_ridge = BayesianRidge()\n",
    "tree = DecisionTreeRegressor()\n",
    "forest = RandomForestRegressor()\n",
    "et = ExtraTreesRegressor()\n",
    "gb = GradientBoostingRegressor()\n",
    "xgb = XGBRegressor()\n",
    "\n",
    "model_lst = [\"lr\", \"ridge\", \"lasso\", \"elastic\", \"bayes_ridge\", \"tree\", \"forest\", \"et\", \"gb\", \"xgb\"]\n",
    "\n",
    "for idx, model in enumerate(model_lst):\n",
    "    eval(model).fit(X_train, y_train)\n",
    "    y_pred = eval(model).predict(X_val)\n",
    "    score=regression_scores(y_val, y_pred)\n",
    "    score[\"name\"] = model\n",
    "    print(score)"
   ]
  },
  {
   "cell_type": "markdown",
   "id": "f2b6de17",
   "metadata": {},
   "source": [
    "# 예측 및 제출"
   ]
  },
  {
   "cell_type": "code",
   "execution_count": 214,
   "id": "fa5085b2",
   "metadata": {},
   "outputs": [
    {
     "name": "stdout",
     "output_type": "stream",
     "text": [
      "(3828, 2) (3828, 14)\n"
     ]
    }
   ],
   "source": [
    "submission = pd.read_csv(\"data/submission.csv\")\n",
    "print(submission.shape, X_test.shape)\n",
    "submission[\"value\"] = np.exp(xgb.predict(X_test))"
   ]
  },
  {
   "cell_type": "code",
   "execution_count": 225,
   "id": "b7aca2ea",
   "metadata": {},
   "outputs": [],
   "source": [
    "submission.to_csv(\"submission_1.csv\", index=False)"
   ]
  },
  {
   "cell_type": "code",
   "execution_count": 224,
   "id": "f6764659",
   "metadata": {},
   "outputs": [
    {
     "data": {
      "text/html": [
       "<div>\n",
       "<style scoped>\n",
       "    .dataframe tbody tr th:only-of-type {\n",
       "        vertical-align: middle;\n",
       "    }\n",
       "\n",
       "    .dataframe tbody tr th {\n",
       "        vertical-align: top;\n",
       "    }\n",
       "\n",
       "    .dataframe thead th {\n",
       "        text-align: right;\n",
       "    }\n",
       "</style>\n",
       "<table border=\"1\" class=\"dataframe\">\n",
       "  <thead>\n",
       "    <tr style=\"text-align: right;\">\n",
       "      <th></th>\n",
       "      <th>id</th>\n",
       "      <th>value</th>\n",
       "    </tr>\n",
       "  </thead>\n",
       "  <tbody>\n",
       "    <tr>\n",
       "      <th>0</th>\n",
       "      <td>1</td>\n",
       "      <td>3.230921e+07</td>\n",
       "    </tr>\n",
       "    <tr>\n",
       "      <th>1</th>\n",
       "      <td>2</td>\n",
       "      <td>6.027849e+07</td>\n",
       "    </tr>\n",
       "    <tr>\n",
       "      <th>2</th>\n",
       "      <td>4</td>\n",
       "      <td>6.356716e+07</td>\n",
       "    </tr>\n",
       "    <tr>\n",
       "      <th>3</th>\n",
       "      <td>5</td>\n",
       "      <td>6.652283e+07</td>\n",
       "    </tr>\n",
       "    <tr>\n",
       "      <th>4</th>\n",
       "      <td>6</td>\n",
       "      <td>4.972656e+07</td>\n",
       "    </tr>\n",
       "    <tr>\n",
       "      <th>...</th>\n",
       "      <td>...</td>\n",
       "      <td>...</td>\n",
       "    </tr>\n",
       "    <tr>\n",
       "      <th>3823</th>\n",
       "      <td>16924</td>\n",
       "      <td>5.452637e+04</td>\n",
       "    </tr>\n",
       "    <tr>\n",
       "      <th>3824</th>\n",
       "      <td>16929</td>\n",
       "      <td>4.324331e+04</td>\n",
       "    </tr>\n",
       "    <tr>\n",
       "      <th>3825</th>\n",
       "      <td>16932</td>\n",
       "      <td>5.702469e+04</td>\n",
       "    </tr>\n",
       "    <tr>\n",
       "      <th>3826</th>\n",
       "      <td>16937</td>\n",
       "      <td>6.363220e+04</td>\n",
       "    </tr>\n",
       "    <tr>\n",
       "      <th>3827</th>\n",
       "      <td>16943</td>\n",
       "      <td>4.807463e+04</td>\n",
       "    </tr>\n",
       "  </tbody>\n",
       "</table>\n",
       "<p>3828 rows × 2 columns</p>\n",
       "</div>"
      ],
      "text/plain": [
       "         id         value\n",
       "0         1  3.230921e+07\n",
       "1         2  6.027849e+07\n",
       "2         4  6.356716e+07\n",
       "3         5  6.652283e+07\n",
       "4         6  4.972656e+07\n",
       "...     ...           ...\n",
       "3823  16924  5.452637e+04\n",
       "3824  16929  4.324331e+04\n",
       "3825  16932  5.702469e+04\n",
       "3826  16937  6.363220e+04\n",
       "3827  16943  4.807463e+04\n",
       "\n",
       "[3828 rows x 2 columns]"
      ]
     },
     "execution_count": 224,
     "metadata": {},
     "output_type": "execute_result"
    }
   ],
   "source": [
    "pd.read_csv(\"submission_1.csv\")"
   ]
  },
  {
   "cell_type": "code",
   "execution_count": null,
   "id": "b2f4e6d9",
   "metadata": {},
   "outputs": [],
   "source": []
  }
 ],
 "metadata": {
  "kernelspec": {
   "display_name": "Python 3 (ipykernel)",
   "language": "python",
   "name": "python3"
  },
  "language_info": {
   "codemirror_mode": {
    "name": "ipython",
    "version": 3
   },
   "file_extension": ".py",
   "mimetype": "text/x-python",
   "name": "python",
   "nbconvert_exporter": "python",
   "pygments_lexer": "ipython3",
   "version": "3.8.13"
  },
  "toc": {
   "base_numbering": 1,
   "nav_menu": {},
   "number_sections": true,
   "sideBar": true,
   "skip_h1_title": false,
   "title_cell": "Table of Contents",
   "title_sidebar": "Contents",
   "toc_cell": false,
   "toc_position": {},
   "toc_section_display": true,
   "toc_window_display": false
  },
  "varInspector": {
   "cols": {
    "lenName": 16,
    "lenType": 16,
    "lenVar": 40
   },
   "kernels_config": {
    "python": {
     "delete_cmd_postfix": "",
     "delete_cmd_prefix": "del ",
     "library": "var_list.py",
     "varRefreshCmd": "print(var_dic_list())"
    },
    "r": {
     "delete_cmd_postfix": ") ",
     "delete_cmd_prefix": "rm(",
     "library": "var_list.r",
     "varRefreshCmd": "cat(var_dic_list()) "
    }
   },
   "types_to_exclude": [
    "module",
    "function",
    "builtin_function_or_method",
    "instance",
    "_Feature"
   ],
   "window_display": false
  }
 },
 "nbformat": 4,
 "nbformat_minor": 5
}
