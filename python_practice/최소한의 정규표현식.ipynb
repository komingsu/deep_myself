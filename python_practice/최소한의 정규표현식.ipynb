{
 "cells": [
  {
   "cell_type": "markdown",
   "id": "cf2a3d21",
   "metadata": {},
   "source": [
    "# 정규 표현식\n",
    "\n",
    "`Regular expression`"
   ]
  },
  {
   "cell_type": "markdown",
   "id": "831ae100",
   "metadata": {},
   "source": [
    "|메타문자|기능|설명|\n",
    "|---|---|---|\n",
    "|.|문자|1개의 문자와 일치|\n",
    "|[]|문자 클래스| [ ] 안의 문자 중 하나를 선택, - 기호와 함께쓰면 범위를 지정|\n",
    "|[^]|부정|[] 안의 문자가 들어있는 것은 포함하지 않고 나머지 전부|\n",
    "|^|처음|문자열의 처음|\n",
    "|$|끝|문자열의 끝|\n",
    "|()|하위식|경우를 묶음|\n",
    "|\\n|일치하는 n번째 패턴| 일치하는 패턴들 중 n번째를 선택 n은 1~9|\n",
    "|*|아무 문자|어떤 문자든지, 어떤 개수든지|\n",
    "|{m,n}| m회 이상 n회 이하| 앞 문자의 갯수를 지정|\n",
    "|?|0또는 1회|{0,1}|\n",
    "|+|1회이상|1회이상|\n",
    "|ㅣ|or|어떤것도 만족하면 포함|\n",
    "\n",
    "* `tip`\n",
    "    * [^0-9] : 숫자를 포함하고 있지 않음\n",
    "    * [^가-힣]: 한글이 포함되어 있지 않음\n",
    "    * [가-힣+]: 한글이 하나 이상 포함되는지"
   ]
  },
  {
   "cell_type": "markdown",
   "id": "2c81b72a",
   "metadata": {},
   "source": [
    "## 데이터"
   ]
  },
  {
   "cell_type": "code",
   "execution_count": 21,
   "id": "50c3ac17",
   "metadata": {},
   "outputs": [
    {
     "data": {
      "text/html": [
       "<div>\n",
       "<style scoped>\n",
       "    .dataframe tbody tr th:only-of-type {\n",
       "        vertical-align: middle;\n",
       "    }\n",
       "\n",
       "    .dataframe tbody tr th {\n",
       "        vertical-align: top;\n",
       "    }\n",
       "\n",
       "    .dataframe thead th {\n",
       "        text-align: right;\n",
       "    }\n",
       "</style>\n",
       "<table border=\"1\" class=\"dataframe\">\n",
       "  <thead>\n",
       "    <tr style=\"text-align: right;\">\n",
       "      <th></th>\n",
       "      <th>이름</th>\n",
       "      <th>나이</th>\n",
       "      <th>닉네임</th>\n",
       "      <th>아이디</th>\n",
       "      <th>메세지</th>\n",
       "    </tr>\n",
       "  </thead>\n",
       "  <tbody>\n",
       "    <tr>\n",
       "      <th>0</th>\n",
       "      <td>민수</td>\n",
       "      <td>20</td>\n",
       "      <td>귀요미123</td>\n",
       "      <td>rh9872</td>\n",
       "      <td>안녕하세요 저는 고민수입니다. 이 친구들의 책임자죠</td>\n",
       "    </tr>\n",
       "    <tr>\n",
       "      <th>1</th>\n",
       "      <td>승원</td>\n",
       "      <td>28</td>\n",
       "      <td>못생이33</td>\n",
       "      <td>WIN1</td>\n",
       "      <td>뀨뀨까까?</td>\n",
       "    </tr>\n",
       "    <tr>\n",
       "      <th>2</th>\n",
       "      <td>준영</td>\n",
       "      <td>24</td>\n",
       "      <td>군인냄새&lt;3</td>\n",
       "      <td>solt&lt;3&lt;3</td>\n",
       "      <td>cover me!! move move move!!!!</td>\n",
       "    </tr>\n",
       "  </tbody>\n",
       "</table>\n",
       "</div>"
      ],
      "text/plain": [
       "   이름  나이     닉네임       아이디                            메세지\n",
       "0  민수  20  귀요미123    rh9872   안녕하세요 저는 고민수입니다. 이 친구들의 책임자죠\n",
       "1  승원  28   못생이33      WIN1                          뀨뀨까까?\n",
       "2  준영  24  군인냄새<3  solt<3<3  cover me!! move move move!!!!"
      ]
     },
     "execution_count": 21,
     "metadata": {},
     "output_type": "execute_result"
    }
   ],
   "source": [
    "import pandas as pd\n",
    "\n",
    "df = pd.DataFrame({\"이름\":[\"민수\",\"승원\",\"준영\"],\"나이\":[20,28,24],\"닉네임\":[\"귀요미123\",\"못생이33\",\"군인냄새<3\"],\"아이디\" :[\"rh9872\",\"WIN1\",\"solt<3<3\"],\"메세지\":[\"안녕하세요 저는 고민수입니다. 이 친구들의 책임자죠\", \"뀨뀨까까?\", \"cover me!! move move move!!!!\"]})\n",
    "df"
   ]
  },
  {
   "cell_type": "markdown",
   "id": "ffccfe5f",
   "metadata": {},
   "source": [
    "## 숫자 제거하기"
   ]
  },
  {
   "cell_type": "code",
   "execution_count": 11,
   "id": "19dd9172",
   "metadata": {},
   "outputs": [
    {
     "data": {
      "text/plain": [
       "0      귀요미\n",
       "1      못생이\n",
       "2    군인냄새<\n",
       "Name: 닉네임, dtype: object"
      ]
     },
     "execution_count": 11,
     "metadata": {},
     "output_type": "execute_result"
    }
   ],
   "source": [
    "df[\"닉네임\"].str.replace(\"[0-9]\",\"\",regex=True)\n",
    "# regex = True 로 하면 경고를 없애줌 그것뿐"
   ]
  },
  {
   "cell_type": "markdown",
   "id": "c699bb24",
   "metadata": {},
   "source": [
    "## 숫자 제외 전부 제거"
   ]
  },
  {
   "cell_type": "code",
   "execution_count": 12,
   "id": "8bbb1199",
   "metadata": {},
   "outputs": [
    {
     "data": {
      "text/plain": [
       "0    123\n",
       "1     33\n",
       "2      3\n",
       "Name: 닉네임, dtype: object"
      ]
     },
     "execution_count": 12,
     "metadata": {},
     "output_type": "execute_result"
    }
   ],
   "source": [
    "df[\"닉네임\"].str.replace(\"[^0-9]\",\"\",regex=True)"
   ]
  },
  {
   "cell_type": "markdown",
   "id": "3f469693",
   "metadata": {},
   "source": [
    "## 영문자 제거"
   ]
  },
  {
   "cell_type": "code",
   "execution_count": 13,
   "id": "ccf3128c",
   "metadata": {},
   "outputs": [
    {
     "data": {
      "text/plain": [
       "0    9872\n",
       "1    WIN1\n",
       "2    <3<3\n",
       "Name: 아이디, dtype: object"
      ]
     },
     "execution_count": 13,
     "metadata": {},
     "output_type": "execute_result"
    }
   ],
   "source": [
    "# 소문자 제거\n",
    "df[\"아이디\"].str.replace(\"[a-z]\",\"\",regex=True)"
   ]
  },
  {
   "cell_type": "code",
   "execution_count": 16,
   "id": "0bdf5880",
   "metadata": {},
   "outputs": [
    {
     "data": {
      "text/plain": [
       "0    9872\n",
       "1       1\n",
       "2    <3<3\n",
       "Name: 아이디, dtype: object"
      ]
     },
     "execution_count": 16,
     "metadata": {},
     "output_type": "execute_result"
    }
   ],
   "source": [
    "## 소문자 대문자 모두 제거\n",
    "df[\"아이디\"].str.replace(\"[a-zA-Z]\",\"\",regex=True)"
   ]
  },
  {
   "cell_type": "markdown",
   "id": "8774f6d9",
   "metadata": {},
   "source": [
    "# 문자열 다루기\n",
    "\n",
    "## 문자, 단어 수 구하기"
   ]
  },
  {
   "cell_type": "code",
   "execution_count": 22,
   "id": "a6079361",
   "metadata": {},
   "outputs": [
    {
     "data": {
      "text/plain": [
       "0    28\n",
       "1     5\n",
       "2    29\n",
       "Name: 메세지, dtype: int64"
      ]
     },
     "execution_count": 22,
     "metadata": {},
     "output_type": "execute_result"
    }
   ],
   "source": [
    "# 문자의 개수\n",
    "df[\"메세지\"].str.len()"
   ]
  },
  {
   "cell_type": "code",
   "execution_count": 23,
   "id": "3141abf1",
   "metadata": {},
   "outputs": [
    {
     "data": {
      "text/plain": [
       "0    6\n",
       "1    1\n",
       "2    5\n",
       "Name: 메세지, dtype: int64"
      ]
     },
     "execution_count": 23,
     "metadata": {},
     "output_type": "execute_result"
    }
   ],
   "source": [
    "# 단어의 개수\n",
    "df[\"메세지\"].str.split().str.len()"
   ]
  },
  {
   "cell_type": "markdown",
   "id": "22c021b2",
   "metadata": {},
   "source": [
    "## 문자열 인덱싱, 슬라이싱"
   ]
  },
  {
   "cell_type": "code",
   "execution_count": 24,
   "id": "f31def56",
   "metadata": {},
   "outputs": [
    {
     "data": {
      "text/plain": [
       "0    안녕하세요\n",
       "1    뀨뀨까까?\n",
       "2    cover\n",
       "Name: 메세지, dtype: object"
      ]
     },
     "execution_count": 24,
     "metadata": {},
     "output_type": "execute_result"
    }
   ],
   "source": [
    "df[\"메세지\"].str[:5]"
   ]
  },
  {
   "cell_type": "code",
   "execution_count": 27,
   "id": "41c36860",
   "metadata": {},
   "outputs": [
    {
     "data": {
      "text/plain": [
       "0     친구들의 책임자죠\n",
       "1         뀨뀨까까?\n",
       "2    e move!!!!\n",
       "Name: 메세지, dtype: object"
      ]
     },
     "execution_count": 27,
     "metadata": {},
     "output_type": "execute_result"
    }
   ],
   "source": [
    "df[\"메세지\"].str[-10:]"
   ]
  },
  {
   "cell_type": "markdown",
   "id": "f0b037d3",
   "metadata": {},
   "source": [
    "## map, apply 를 활용하기\n",
    "\n",
    "||Series|DataFrame|사용 예|\n",
    "|--|--|--|--|\n",
    "|map|O|X|df[\"컬럼명\"].map(함수 or dict)|\n",
    "|apply|O|O|df.apply(함수)|\n",
    "|||| df[\"칼럼명\"].apply(함수)|\n",
    "|applymap|X|O|df.applymap(함수)|"
   ]
  },
  {
   "cell_type": "markdown",
   "id": "47eebd7f",
   "metadata": {},
   "source": [
    "### map"
   ]
  },
  {
   "cell_type": "code",
   "execution_count": 32,
   "id": "ec28d474",
   "metadata": {},
   "outputs": [
    {
     "data": {
      "text/plain": [
       "0    28\n",
       "1     5\n",
       "2    29\n",
       "Name: 메세지, dtype: int64"
      ]
     },
     "execution_count": 32,
     "metadata": {},
     "output_type": "execute_result"
    }
   ],
   "source": [
    "# 문자 수\n",
    "df[\"메세지\"].map(lambda x: len(x))"
   ]
  },
  {
   "cell_type": "code",
   "execution_count": 37,
   "id": "e5170606",
   "metadata": {},
   "outputs": [
    {
     "data": {
      "text/plain": [
       "0    6\n",
       "1    1\n",
       "2    5\n",
       "Name: 메세지, dtype: int64"
      ]
     },
     "execution_count": 37,
     "metadata": {},
     "output_type": "execute_result"
    }
   ],
   "source": [
    "# 단어수\n",
    "df[\"메세지\"].map(lambda x: len(x.split()) )"
   ]
  },
  {
   "cell_type": "markdown",
   "id": "e28bb842",
   "metadata": {},
   "source": [
    "### apply"
   ]
  },
  {
   "cell_type": "code",
   "execution_count": 38,
   "id": "95acefe2",
   "metadata": {},
   "outputs": [
    {
     "data": {
      "text/html": [
       "<div>\n",
       "<style scoped>\n",
       "    .dataframe tbody tr th:only-of-type {\n",
       "        vertical-align: middle;\n",
       "    }\n",
       "\n",
       "    .dataframe tbody tr th {\n",
       "        vertical-align: top;\n",
       "    }\n",
       "\n",
       "    .dataframe thead th {\n",
       "        text-align: right;\n",
       "    }\n",
       "</style>\n",
       "<table border=\"1\" class=\"dataframe\">\n",
       "  <thead>\n",
       "    <tr style=\"text-align: right;\">\n",
       "      <th></th>\n",
       "      <th>이름</th>\n",
       "      <th>나이</th>\n",
       "      <th>닉네임</th>\n",
       "      <th>아이디</th>\n",
       "      <th>메세지</th>\n",
       "    </tr>\n",
       "  </thead>\n",
       "  <tbody>\n",
       "    <tr>\n",
       "      <th>0</th>\n",
       "      <td>민수</td>\n",
       "      <td>20</td>\n",
       "      <td>귀요미123</td>\n",
       "      <td>rh9872</td>\n",
       "      <td>안녕하세요 저는 고민수입니다. 이 친구들의 책임자죠</td>\n",
       "    </tr>\n",
       "    <tr>\n",
       "      <th>1</th>\n",
       "      <td>승원</td>\n",
       "      <td>28</td>\n",
       "      <td>못생이33</td>\n",
       "      <td>WIN1</td>\n",
       "      <td>뀨뀨까까?</td>\n",
       "    </tr>\n",
       "    <tr>\n",
       "      <th>2</th>\n",
       "      <td>준영</td>\n",
       "      <td>24</td>\n",
       "      <td>군인냄새&lt;3</td>\n",
       "      <td>solt&lt;3&lt;3</td>\n",
       "      <td>cover me!! move move move!!!!</td>\n",
       "    </tr>\n",
       "  </tbody>\n",
       "</table>\n",
       "</div>"
      ],
      "text/plain": [
       "   이름  나이     닉네임       아이디                            메세지\n",
       "0  민수  20  귀요미123    rh9872   안녕하세요 저는 고민수입니다. 이 친구들의 책임자죠\n",
       "1  승원  28   못생이33      WIN1                          뀨뀨까까?\n",
       "2  준영  24  군인냄새<3  solt<3<3  cover me!! move move move!!!!"
      ]
     },
     "execution_count": 38,
     "metadata": {},
     "output_type": "execute_result"
    }
   ],
   "source": [
    "df.apply(lambda x: x)"
   ]
  },
  {
   "cell_type": "code",
   "execution_count": 39,
   "id": "97e82212",
   "metadata": {},
   "outputs": [
    {
     "data": {
      "text/plain": [
       "이름                               민수\n",
       "나이                               20\n",
       "닉네임                          귀요미123\n",
       "아이디                          rh9872\n",
       "메세지    안녕하세요 저는 고민수입니다. 이 친구들의 책임자죠\n",
       "dtype: object"
      ]
     },
     "execution_count": 39,
     "metadata": {},
     "output_type": "execute_result"
    }
   ],
   "source": [
    "# 0번째 데이터\n",
    "df.apply(lambda x: x[0])"
   ]
  },
  {
   "cell_type": "code",
   "execution_count": 45,
   "id": "067c133e",
   "metadata": {},
   "outputs": [
    {
     "data": {
      "text/plain": [
       "0     안녕하세요 저는 고민수입니다. 이 친구들의 책임자죠\n",
       "1                            뀨뀨까까?\n",
       "2    cover me!! move move move!!!!\n",
       "dtype: object"
      ]
     },
     "execution_count": 45,
     "metadata": {},
     "output_type": "execute_result"
    }
   ],
   "source": [
    "# 칼럼 가져오기, axis =1 을 해서 칼럼으로 지정\n",
    "df.apply(lambda x: x[\"메세지\"], axis=1)"
   ]
  },
  {
   "cell_type": "code",
   "execution_count": 43,
   "id": "086585da",
   "metadata": {},
   "outputs": [
    {
     "data": {
      "text/plain": [
       "0    28\n",
       "1     5\n",
       "2    29\n",
       "dtype: int64"
      ]
     },
     "execution_count": 43,
     "metadata": {},
     "output_type": "execute_result"
    }
   ],
   "source": [
    "# 문자 수\n",
    "df.apply(lambda x: len(x[\"메세지\"]), axis=1)"
   ]
  },
  {
   "cell_type": "code",
   "execution_count": 44,
   "id": "83992544",
   "metadata": {},
   "outputs": [
    {
     "data": {
      "text/plain": [
       "0    6\n",
       "1    1\n",
       "2    5\n",
       "dtype: int64"
      ]
     },
     "execution_count": 44,
     "metadata": {},
     "output_type": "execute_result"
    }
   ],
   "source": [
    "# 단어 수\n",
    "df.apply(lambda x: len(x[\"메세지\"].split()), axis=1)"
   ]
  },
  {
   "cell_type": "code",
   "execution_count": null,
   "id": "98974ece",
   "metadata": {},
   "outputs": [],
   "source": []
  }
 ],
 "metadata": {
  "kernelspec": {
   "display_name": "Python 3 (ipykernel)",
   "language": "python",
   "name": "python3"
  },
  "language_info": {
   "codemirror_mode": {
    "name": "ipython",
    "version": 3
   },
   "file_extension": ".py",
   "mimetype": "text/x-python",
   "name": "python",
   "nbconvert_exporter": "python",
   "pygments_lexer": "ipython3",
   "version": "3.9.7"
  },
  "toc": {
   "base_numbering": 1,
   "nav_menu": {},
   "number_sections": true,
   "sideBar": true,
   "skip_h1_title": false,
   "title_cell": "Table of Contents",
   "title_sidebar": "Contents",
   "toc_cell": false,
   "toc_position": {},
   "toc_section_display": true,
   "toc_window_display": false
  },
  "varInspector": {
   "cols": {
    "lenName": 16,
    "lenType": 16,
    "lenVar": 40
   },
   "kernels_config": {
    "python": {
     "delete_cmd_postfix": "",
     "delete_cmd_prefix": "del ",
     "library": "var_list.py",
     "varRefreshCmd": "print(var_dic_list())"
    },
    "r": {
     "delete_cmd_postfix": ") ",
     "delete_cmd_prefix": "rm(",
     "library": "var_list.r",
     "varRefreshCmd": "cat(var_dic_list()) "
    }
   },
   "types_to_exclude": [
    "module",
    "function",
    "builtin_function_or_method",
    "instance",
    "_Feature"
   ],
   "window_display": false
  }
 },
 "nbformat": 4,
 "nbformat_minor": 5
}
