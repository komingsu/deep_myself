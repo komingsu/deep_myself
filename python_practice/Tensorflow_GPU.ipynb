{
 "cells": [
  {
   "cell_type": "markdown",
   "id": "d4c5c56e",
   "metadata": {},
   "source": [
    "아나콘다 업데이트"
   ]
  },
  {
   "cell_type": "code",
   "execution_count": 1,
   "id": "a8742a58",
   "metadata": {},
   "outputs": [
    {
     "name": "stdout",
     "output_type": "stream",
     "text": [
      "Collecting package metadata (current_repodata.json): ...working... done\n",
      "Solving environment: ...working... done\n",
      "\n",
      "# All requested packages already installed.\n",
      "\n",
      "\n",
      "Note: you may need to restart the kernel to use updated packages.\n"
     ]
    }
   ],
   "source": [
    "conda update -n base -c defaults conda -y"
   ]
  },
  {
   "cell_type": "markdown",
   "id": "cc1d0a93",
   "metadata": {},
   "source": [
    "아나콘다 가상환경 설정\n",
    "\n",
    "(tfgpu 가 가상환경 이름)"
   ]
  },
  {
   "cell_type": "code",
   "execution_count": 4,
   "id": "484d4136",
   "metadata": {},
   "outputs": [
    {
     "name": "stdout",
     "output_type": "stream",
     "text": [
      "Collecting package metadata (current_repodata.json): ...working... done\n",
      "Solving environment: ...working... done\n",
      "\n",
      "## Package Plan ##\n",
      "\n",
      "  environment location: C:\\Users\\user\\anaconda3\\envs\\tfgpu\n",
      "\n",
      "  added / updated specs:\n",
      "    - python=3.7\n",
      "\n",
      "\n",
      "The following NEW packages will be INSTALLED:\n",
      "\n",
      "  ca-certificates    pkgs/main/win-64::ca-certificates-2022.3.29-haa95532_0\n",
      "  certifi            pkgs/main/win-64::certifi-2021.10.8-py37haa95532_2\n",
      "  openssl            pkgs/main/win-64::openssl-1.1.1n-h2bbff1b_0\n",
      "  pip                pkgs/main/win-64::pip-21.2.4-py37haa95532_0\n",
      "  python             pkgs/main/win-64::python-3.7.13-h6244533_0\n",
      "  setuptools         pkgs/main/win-64::setuptools-58.0.4-py37haa95532_0\n",
      "  sqlite             pkgs/main/win-64::sqlite-3.38.2-h2bbff1b_0\n",
      "  vc                 pkgs/main/win-64::vc-14.2-h21ff451_1\n",
      "  vs2015_runtime     pkgs/main/win-64::vs2015_runtime-14.27.29016-h5e58377_2\n",
      "  wheel              pkgs/main/noarch::wheel-0.37.1-pyhd3eb1b0_0\n",
      "  wincertstore       pkgs/main/win-64::wincertstore-0.2-py37haa95532_2\n",
      "\n",
      "\n",
      "Preparing transaction: ...working... done\n",
      "Verifying transaction: ...working... done\n",
      "Executing transaction: ...working... done\n",
      "#\n",
      "# To activate this environment, use\n",
      "#\n",
      "#     $ conda activate tfgpu\n",
      "#\n",
      "# To deactivate an active environment, use\n",
      "#\n",
      "#     $ conda deactivate\n",
      "\n",
      "\n",
      "Note: you may need to restart the kernel to use updated packages.\n"
     ]
    }
   ],
   "source": [
    "conda create -n tfgpu python=3.7 -y"
   ]
  },
  {
   "cell_type": "markdown",
   "id": "cfbbd0ab",
   "metadata": {},
   "source": [
    "가상환경 가동"
   ]
  },
  {
   "cell_type": "code",
   "execution_count": 5,
   "id": "6d817ae3",
   "metadata": {},
   "outputs": [
    {
     "name": "stdout",
     "output_type": "stream",
     "text": [
      "\n",
      "Note: you may need to restart the kernel to use updated packages.\n"
     ]
    }
   ],
   "source": [
    "conda activate tfgpu"
   ]
  },
  {
   "cell_type": "markdown",
   "id": "949d7f3e",
   "metadata": {},
   "source": [
    "가상환경 설치"
   ]
  },
  {
   "cell_type": "code",
   "execution_count": null,
   "id": "1ec9313a",
   "metadata": {},
   "outputs": [],
   "source": [
    "conda install -c anaconda tensorflow-gpu"
   ]
  }
 ],
 "metadata": {
  "kernelspec": {
   "display_name": "Python 3 (ipykernel)",
   "language": "python",
   "name": "python3"
  },
  "language_info": {
   "codemirror_mode": {
    "name": "ipython",
    "version": 3
   },
   "file_extension": ".py",
   "mimetype": "text/x-python",
   "name": "python",
   "nbconvert_exporter": "python",
   "pygments_lexer": "ipython3",
   "version": "3.9.7"
  },
  "toc": {
   "base_numbering": 1,
   "nav_menu": {},
   "number_sections": true,
   "sideBar": true,
   "skip_h1_title": false,
   "title_cell": "Table of Contents",
   "title_sidebar": "Contents",
   "toc_cell": false,
   "toc_position": {},
   "toc_section_display": true,
   "toc_window_display": false
  },
  "varInspector": {
   "cols": {
    "lenName": 16,
    "lenType": 16,
    "lenVar": 40
   },
   "kernels_config": {
    "python": {
     "delete_cmd_postfix": "",
     "delete_cmd_prefix": "del ",
     "library": "var_list.py",
     "varRefreshCmd": "print(var_dic_list())"
    },
    "r": {
     "delete_cmd_postfix": ") ",
     "delete_cmd_prefix": "rm(",
     "library": "var_list.r",
     "varRefreshCmd": "cat(var_dic_list()) "
    }
   },
   "types_to_exclude": [
    "module",
    "function",
    "builtin_function_or_method",
    "instance",
    "_Feature"
   ],
   "window_display": false
  }
 },
 "nbformat": 4,
 "nbformat_minor": 5
}
