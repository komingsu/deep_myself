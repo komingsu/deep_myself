{
 "cells": [
  {
   "cell_type": "code",
   "execution_count": 6,
   "id": "f3ceec52",
   "metadata": {
    "ExecuteTime": {
     "end_time": "2022-06-10T07:14:41.763265Z",
     "start_time": "2022-06-10T07:14:41.745312Z"
    }
   },
   "outputs": [
    {
     "ename": "SyntaxError",
     "evalue": "invalid syntax (4118584397.py, line 1)",
     "output_type": "error",
     "traceback": [
      "\u001b[1;36m  Input \u001b[1;32mIn [6]\u001b[1;36m\u001b[0m\n\u001b[1;33m    .__version__\u001b[0m\n\u001b[1;37m    ^\u001b[0m\n\u001b[1;31mSyntaxError\u001b[0m\u001b[1;31m:\u001b[0m invalid syntax\n"
     ]
    }
   ],
   "source": []
  },
  {
   "cell_type": "code",
   "execution_count": 1,
   "id": "21977e8d",
   "metadata": {
    "ExecuteTime": {
     "end_time": "2022-06-10T07:07:22.683413Z",
     "start_time": "2022-06-10T07:07:22.671409Z"
    }
   },
   "outputs": [],
   "source": [
    "s = \"aabbaccc\""
   ]
  },
  {
   "cell_type": "code",
   "execution_count": 2,
   "id": "5b4c1fbe",
   "metadata": {
    "ExecuteTime": {
     "end_time": "2022-06-10T07:07:25.882033Z",
     "start_time": "2022-06-10T07:07:25.865080Z"
    },
    "scrolled": true
   },
   "outputs": [
    {
     "data": {
      "text/plain": [
       "(4, 8)"
      ]
     },
     "execution_count": 2,
     "metadata": {},
     "output_type": "execute_result"
    }
   ],
   "source": [
    "max_len = len(s)//2\n",
    "s_len = len(s)\n",
    "max_len, s_len"
   ]
  },
  {
   "cell_type": "code",
   "execution_count": null,
   "id": "dababeef",
   "metadata": {},
   "outputs": [],
   "source": []
  },
  {
   "cell_type": "code",
   "execution_count": 52,
   "id": "dce2587e",
   "metadata": {},
   "outputs": [
    {
     "data": {
      "text/plain": [
       "7"
      ]
     },
     "execution_count": 52,
     "metadata": {},
     "output_type": "execute_result"
    }
   ],
   "source": [
    "for cut_len in range(1,max_len+1,1):\n",
    "    idx=0\n",
    "    lst = []\n",
    "    while idx+cut_len<=s_len:\n",
    "        if idx+cut_len<=s_len:\n",
    "            lst.append(s[idx:idx+cut_len])\n",
    "            idx+=cut_len\n",
    "    if idx+cut_len>s_len:\n",
    "        lst.append(s[idx:])\n",
    "\n",
    "    idx = 0\n",
    "    count = 1\n",
    "    while idx+1<len(lst):\n",
    "        if lst[idx]==lst[idx+1]:\n",
    "            lst[idx]=\"\"\n",
    "            count+=1\n",
    "            idx+=1\n",
    "        else:\n",
    "            if count>1:\n",
    "                lst[idx]=f\"{count}\"+lst[idx]\n",
    "                count=1\n",
    "                idx+=1\n",
    "            else:\n",
    "                idx+=1\n",
    "    lst = \"\".join(lst)\n",
    "    len_list.append(len(lst))\n",
    "min(len_list)   "
   ]
  },
  {
   "cell_type": "code",
   "execution_count": null,
   "id": "742b1aa3",
   "metadata": {},
   "outputs": [],
   "source": [
    "len_list = []\n",
    "\n",
    "for lst in cut_dict.values():\n",
    "    idx = 0\n",
    "    count = 1\n",
    "    while idx+1<len(lst):\n",
    "        if lst[idx]==lst[idx+1]:\n",
    "            lst[idx]=\"\"\n",
    "            count+=1\n",
    "            idx+=1\n",
    "        else:\n",
    "            if count>1:\n",
    "                lst[idx]=f\"{count}\"+lst[idx]\n",
    "                count=1\n",
    "                idx+=1\n",
    "            else:\n",
    "                idx+=1\n",
    "    lst = \"\".join(lst)\n",
    "    len_list.append(len(lst))\n",
    "min(len_list)"
   ]
  },
  {
   "cell_type": "code",
   "execution_count": 9,
   "id": "8acbf0ad",
   "metadata": {},
   "outputs": [
    {
     "data": {
      "text/plain": [
       "'a'"
      ]
     },
     "execution_count": 9,
     "metadata": {},
     "output_type": "execute_result"
    }
   ],
   "source": [
    "idx=0\n",
    "cut_len = 1\n",
    "\n",
    "idx+cut_len\n",
    "s[idx:idx+cut_len]\n",
    "idx+=cut_len"
   ]
  },
  {
   "cell_type": "code",
   "execution_count": 35,
   "id": "f97b08c6",
   "metadata": {},
   "outputs": [],
   "source": [
    "a = [\"a\",\"b\",\"c\"]\n",
    "a[1] = \"3\"+a[1]\n",
    "a[1]=\"\""
   ]
  },
  {
   "cell_type": "code",
   "execution_count": 36,
   "id": "22415567",
   "metadata": {},
   "outputs": [
    {
     "data": {
      "text/plain": [
       "['a', '', 'c']"
      ]
     },
     "execution_count": 36,
     "metadata": {},
     "output_type": "execute_result"
    }
   ],
   "source": [
    "a"
   ]
  },
  {
   "cell_type": "code",
   "execution_count": 60,
   "id": "73d1b5d4",
   "metadata": {},
   "outputs": [
    {
     "data": {
      "text/plain": [
       "True"
      ]
     },
     "execution_count": 60,
     "metadata": {},
     "output_type": "execute_result"
    }
   ],
   "source": [
    "a = \"abcd\"\n",
    "\n",
    "b = [i for i in a]\n",
    "b = set(b)\n",
    "len(a) == len(b)"
   ]
  },
  {
   "cell_type": "code",
   "execution_count": 79,
   "id": "aeedf83a",
   "metadata": {},
   "outputs": [
    {
     "data": {
      "text/plain": [
       "[1, 2, 3, 4, 5, 6]"
      ]
     },
     "execution_count": 79,
     "metadata": {},
     "output_type": "execute_result"
    }
   ],
   "source": [
    "a = [1,2,3,4,4,5,5,6]\n",
    "a=set(a)\n",
    "a=list(a)\n",
    "a"
   ]
  },
  {
   "cell_type": "code",
   "execution_count": 86,
   "id": "23211284",
   "metadata": {},
   "outputs": [
    {
     "data": {
      "text/plain": [
       "[3, 4, 5, 6, 7, 8, 9, 10, 11]"
      ]
     },
     "execution_count": 86,
     "metadata": {},
     "output_type": "execute_result"
    }
   ],
   "source": [
    "la = len(a)\n",
    "temp = []\n",
    "for i in range(0,la-1):\n",
    "    for j in range(i+1,la):\n",
    "        temp.append(a[i]+a[j])\n",
    "temp = set(temp)\n",
    "temp = list(temp)\n",
    "temp"
   ]
  },
  {
   "cell_type": "code",
   "execution_count": 70,
   "id": "737bb605",
   "metadata": {},
   "outputs": [
    {
     "data": {
      "text/plain": [
       "1"
      ]
     },
     "execution_count": 70,
     "metadata": {},
     "output_type": "execute_result"
    }
   ],
   "source": [
    "a.pop(0)"
   ]
  },
  {
   "cell_type": "code",
   "execution_count": 29,
   "id": "6771a0e7",
   "metadata": {
    "ExecuteTime": {
     "end_time": "2022-06-02T04:40:49.311836Z",
     "start_time": "2022-06-02T04:40:49.209921Z"
    }
   },
   "outputs": [
    {
     "data": {
      "text/plain": [
       "3"
      ]
     },
     "execution_count": 29,
     "metadata": {},
     "output_type": "execute_result"
    }
   ],
   "source": [
    "import numpy as np\n",
    "a, b= [1,2,3,4],[-3,-1,0,2]\n",
    "\n",
    "a = np.array(a)\n",
    "b = np.array(b)\n",
    "\n",
    "np.dot(a.T,b)"
   ]
  },
  {
   "cell_type": "code",
   "execution_count": 30,
   "id": "6c469c46",
   "metadata": {
    "ExecuteTime": {
     "end_time": "2022-06-02T04:40:49.350714Z",
     "start_time": "2022-06-02T04:40:49.343713Z"
    }
   },
   "outputs": [],
   "source": [
    "numbers = [3, 30, 34, 5, 9,91,902,305]"
   ]
  },
  {
   "cell_type": "code",
   "execution_count": 31,
   "id": "bb8aada8",
   "metadata": {
    "ExecuteTime": {
     "end_time": "2022-06-02T04:40:49.492174Z",
     "start_time": "2022-06-02T04:40:49.479171Z"
    }
   },
   "outputs": [
    {
     "data": {
      "text/plain": [
       "['3', '30', '34', '5', '9', '91', '902', '305']"
      ]
     },
     "execution_count": 31,
     "metadata": {},
     "output_type": "execute_result"
    }
   ],
   "source": [
    "from itertools import permutations\n",
    "from collections import defaultdict\n",
    "numbers = list(map(lambda x:f\"{x}\",numbers))\n",
    "numbers"
   ]
  },
  {
   "cell_type": "code",
   "execution_count": 39,
   "id": "aa197370",
   "metadata": {
    "ExecuteTime": {
     "end_time": "2022-06-02T04:42:01.688684Z",
     "start_time": "2022-06-02T04:42:01.682651Z"
    }
   },
   "outputs": [],
   "source": [
    "num_dict = defaultdict(list)\n",
    "for i in numbers:\n",
    "    num_dict[i[0]].append(i)"
   ]
  },
  {
   "cell_type": "code",
   "execution_count": 59,
   "id": "7c9f5131",
   "metadata": {
    "ExecuteTime": {
     "end_time": "2022-06-02T04:46:11.117520Z",
     "start_time": "2022-06-02T04:46:11.113529Z"
    }
   },
   "outputs": [
    {
     "data": {
      "text/plain": [
       "{'9': ['9', '91', '902'], '5': ['5'], '3': ['3', '30', '34', '305']}"
      ]
     },
     "execution_count": 59,
     "metadata": {},
     "output_type": "execute_result"
    }
   ],
   "source": [
    "num_dict = dict(sorted(num_dict.items(), key=lambda key:key, reverse=True))\n",
    "num_dict"
   ]
  },
  {
   "cell_type": "code",
   "execution_count": 60,
   "id": "29f29ba5",
   "metadata": {
    "ExecuteTime": {
     "end_time": "2022-06-02T04:57:43.097830Z",
     "start_time": "2022-06-02T04:57:43.088782Z"
    }
   },
   "outputs": [
    {
     "data": {
      "text/plain": [
       "['9', '91', '902']"
      ]
     },
     "execution_count": 60,
     "metadata": {},
     "output_type": "execute_result"
    }
   ],
   "source": [
    "num_dict[list(num_dict.keys())[0]]"
   ]
  },
  {
   "cell_type": "code",
   "execution_count": 63,
   "id": "9a3eab7d",
   "metadata": {
    "ExecuteTime": {
     "end_time": "2022-06-02T05:00:05.256509Z",
     "start_time": "2022-06-02T05:00:05.247517Z"
    }
   },
   "outputs": [],
   "source": [
    "def highest(lst):\n",
    "    num_dict = defaultdict(list)\n",
    "    for i in numbers:\n",
    "        num_dict[i[0]].append(i)\n",
    "    num_dict = dict(sorted(num_dict.items(), key=lambda key:key, reverse=True))\n",
    "    return num_dict"
   ]
  },
  {
   "cell_type": "code",
   "execution_count": 68,
   "id": "55abe80c",
   "metadata": {
    "ExecuteTime": {
     "end_time": "2022-06-02T05:01:20.945804Z",
     "start_time": "2022-06-02T05:01:20.928747Z"
    }
   },
   "outputs": [
    {
     "data": {
      "text/plain": [
       "3"
      ]
     },
     "execution_count": 68,
     "metadata": {},
     "output_type": "execute_result"
    }
   ],
   "source": [
    "len(highest(numbers))"
   ]
  },
  {
   "cell_type": "code",
   "execution_count": 1,
   "id": "c4b476b7",
   "metadata": {
    "ExecuteTime": {
     "end_time": "2022-06-03T06:47:27.507196Z",
     "start_time": "2022-06-03T06:47:27.492678Z"
    }
   },
   "outputs": [],
   "source": [
    "citations = [3, 0, 6, 1, 5]"
   ]
  },
  {
   "cell_type": "code",
   "execution_count": 2,
   "id": "9744d6c4",
   "metadata": {
    "ExecuteTime": {
     "end_time": "2022-06-03T06:47:27.744747Z",
     "start_time": "2022-06-03T06:47:27.739746Z"
    }
   },
   "outputs": [],
   "source": [
    "citations = sorted(citations, reverse=True)"
   ]
  },
  {
   "cell_type": "code",
   "execution_count": 3,
   "id": "aeea7242",
   "metadata": {
    "ExecuteTime": {
     "end_time": "2022-06-03T06:47:28.198184Z",
     "start_time": "2022-06-03T06:47:28.180576Z"
    }
   },
   "outputs": [],
   "source": [
    "flag2=0\n",
    "for i in citations:\n",
    "    flag2+=1\n",
    "    if i <= flag2:\n",
    "        break"
   ]
  },
  {
   "cell_type": "code",
   "execution_count": 5,
   "id": "bc8ebf07",
   "metadata": {
    "ExecuteTime": {
     "end_time": "2022-06-03T06:47:32.677899Z",
     "start_time": "2022-06-03T06:47:32.662906Z"
    }
   },
   "outputs": [
    {
     "data": {
      "text/plain": [
       "3"
      ]
     },
     "execution_count": 5,
     "metadata": {},
     "output_type": "execute_result"
    }
   ],
   "source": [
    "flag2"
   ]
  },
  {
   "cell_type": "code",
   "execution_count": 8,
   "id": "5e0fc653",
   "metadata": {
    "ExecuteTime": {
     "end_time": "2022-06-03T06:53:44.005120Z",
     "start_time": "2022-06-03T06:53:43.988601Z"
    }
   },
   "outputs": [],
   "source": [
    "n =2\n",
    "def solution(n):\n",
    "    answer1 = \"수박\"*(n//2) \n",
    "    answer2 = \"수\"*(n%2)\n",
    "    answer = answer1+answer2\n",
    "    return answer"
   ]
  },
  {
   "cell_type": "code",
   "execution_count": 9,
   "id": "de0758d4",
   "metadata": {
    "ExecuteTime": {
     "end_time": "2022-06-03T06:53:44.895107Z",
     "start_time": "2022-06-03T06:53:44.876832Z"
    }
   },
   "outputs": [
    {
     "data": {
      "text/plain": [
       "'수박'"
      ]
     },
     "execution_count": 9,
     "metadata": {},
     "output_type": "execute_result"
    }
   ],
   "source": [
    "solution(n)"
   ]
  },
  {
   "cell_type": "code",
   "execution_count": 12,
   "id": "53f75e59",
   "metadata": {
    "ExecuteTime": {
     "end_time": "2022-06-03T07:07:26.706399Z",
     "start_time": "2022-06-03T07:07:26.693385Z"
    }
   },
   "outputs": [],
   "source": [
    "from itertools import product\n",
    "items = [[0,1,2,3], [0,1,2,3]]\n",
    "new_items = list(product(*items))"
   ]
  },
  {
   "cell_type": "code",
   "execution_count": 19,
   "id": "c27ddc78",
   "metadata": {
    "ExecuteTime": {
     "end_time": "2022-06-03T07:11:12.624340Z",
     "start_time": "2022-06-03T07:11:12.613296Z"
    }
   },
   "outputs": [],
   "source": [
    "from itertools import combinations\n",
    "a = [0,1,2,3]\n",
    "combi = combinations(a,4)"
   ]
  },
  {
   "cell_type": "code",
   "execution_count": 20,
   "id": "667aa756",
   "metadata": {
    "ExecuteTime": {
     "end_time": "2022-06-03T07:11:12.955354Z",
     "start_time": "2022-06-03T07:11:12.940308Z"
    }
   },
   "outputs": [
    {
     "data": {
      "text/plain": [
       "[(0, 1, 2, 3)]"
      ]
     },
     "execution_count": 20,
     "metadata": {},
     "output_type": "execute_result"
    }
   ],
   "source": [
    "list(combi)"
   ]
  },
  {
   "cell_type": "code",
   "execution_count": 34,
   "id": "9a903042",
   "metadata": {
    "ExecuteTime": {
     "end_time": "2022-06-03T07:20:41.619941Z",
     "start_time": "2022-06-03T07:20:41.517083Z"
    }
   },
   "outputs": [],
   "source": [
    "import numpy as np"
   ]
  },
  {
   "cell_type": "code",
   "execution_count": 41,
   "id": "a7c65f09",
   "metadata": {
    "ExecuteTime": {
     "end_time": "2022-06-03T07:21:49.705355Z",
     "start_time": "2022-06-03T07:21:49.701483Z"
    }
   },
   "outputs": [],
   "source": [
    "for j in range(lr):\n",
    "    temp2 = temp.copy()\n",
    "    for i in temp[:1]:\n",
    "        temp2.remove(i)\n",
    "        temp2.remove(i+1)\n",
    "        temp2.remove(i+2)\n",
    "        temp2.remove(i+3)"
   ]
  },
  {
   "cell_type": "code",
   "execution_count": 49,
   "id": "9d719c37",
   "metadata": {
    "ExecuteTime": {
     "end_time": "2022-06-03T07:22:35.479342Z",
     "start_time": "2022-06-03T07:22:35.463716Z"
    }
   },
   "outputs": [
    {
     "data": {
      "text/plain": [
       "array([], dtype=float64)"
      ]
     },
     "execution_count": 49,
     "metadata": {},
     "output_type": "execute_result"
    }
   ],
   "source": [
    "temp"
   ]
  },
  {
   "cell_type": "code",
   "execution_count": 51,
   "id": "5c50bafc",
   "metadata": {
    "ExecuteTime": {
     "end_time": "2022-06-03T07:30:47.975217Z",
     "start_time": "2022-06-03T07:30:47.597298Z"
    }
   },
   "outputs": [],
   "source": [
    "import pandas as pd\n"
   ]
  },
  {
   "cell_type": "code",
   "execution_count": 52,
   "id": "df91128b",
   "metadata": {
    "ExecuteTime": {
     "end_time": "2022-06-03T07:30:56.277211Z",
     "start_time": "2022-06-03T07:30:56.261208Z"
    }
   },
   "outputs": [],
   "source": [
    "df = pd.DataFrame([])"
   ]
  },
  {
   "cell_type": "code",
   "execution_count": null,
   "id": "ac99b6ba",
   "metadata": {},
   "outputs": [],
   "source": [
    "pd.read_csv()"
   ]
  },
  {
   "cell_type": "code",
   "execution_count": null,
   "id": "6bf9a6c6",
   "metadata": {},
   "outputs": [],
   "source": []
  },
  {
   "cell_type": "code",
   "execution_count": null,
   "id": "405062af",
   "metadata": {},
   "outputs": [],
   "source": []
  },
  {
   "cell_type": "code",
   "execution_count": null,
   "id": "2e3047b8",
   "metadata": {},
   "outputs": [],
   "source": []
  },
  {
   "cell_type": "code",
   "execution_count": null,
   "id": "bf753c0c",
   "metadata": {},
   "outputs": [],
   "source": []
  },
  {
   "cell_type": "code",
   "execution_count": null,
   "id": "6c2fdd71",
   "metadata": {},
   "outputs": [],
   "source": []
  },
  {
   "cell_type": "code",
   "execution_count": null,
   "id": "51c74185",
   "metadata": {},
   "outputs": [],
   "source": []
  },
  {
   "cell_type": "code",
   "execution_count": null,
   "id": "e4ee30e6",
   "metadata": {},
   "outputs": [],
   "source": []
  },
  {
   "cell_type": "code",
   "execution_count": null,
   "id": "b8bb0c17",
   "metadata": {},
   "outputs": [],
   "source": []
  },
  {
   "cell_type": "code",
   "execution_count": 1,
   "id": "7a5dd87c",
   "metadata": {
    "ExecuteTime": {
     "end_time": "2022-06-10T06:26:42.727408Z",
     "start_time": "2022-06-10T06:26:42.713168Z"
    }
   },
   "outputs": [],
   "source": [
    "def solution(numbers):\n",
    "    numbers = list(map(lambda x:f\"{x}\",numbers))\n",
    "    l = len(numbers)\n",
    "    \n",
    "    numbers = sorted(numbers, reverse=True)\n",
    "    answer = \"\".join(numbers)"
   ]
  },
  {
   "cell_type": "code",
   "execution_count": 2,
   "id": "362dbb4e",
   "metadata": {
    "ExecuteTime": {
     "end_time": "2022-06-10T06:26:42.853759Z",
     "start_time": "2022-06-10T06:26:42.839806Z"
    }
   },
   "outputs": [],
   "source": [
    "numbers = [6, 10, 2]"
   ]
  },
  {
   "cell_type": "code",
   "execution_count": 3,
   "id": "aa26dbb4",
   "metadata": {
    "ExecuteTime": {
     "end_time": "2022-06-10T06:26:43.057134Z",
     "start_time": "2022-06-10T06:26:43.042160Z"
    }
   },
   "outputs": [],
   "source": [
    "solution(numbers)"
   ]
  },
  {
   "cell_type": "code",
   "execution_count": 4,
   "id": "ae1a75a7",
   "metadata": {
    "ExecuteTime": {
     "end_time": "2022-06-10T06:26:43.214177Z",
     "start_time": "2022-06-10T06:26:43.187610Z"
    }
   },
   "outputs": [
    {
     "data": {
      "text/plain": [
       "['321', '31', '3020', '302', '3012', '3010', '301', '3002', '300', '30', '3']"
      ]
     },
     "execution_count": 4,
     "metadata": {},
     "output_type": "execute_result"
    }
   ],
   "source": [
    "sorted([\"3\", \"30\",\"300\",\"301\",\"3002\",\"31\",\"321\",\"3012\",\"302\",\"3010\",\"3020\"], reverse=True)"
   ]
  },
  {
   "cell_type": "code",
   "execution_count": 5,
   "id": "e4e7ef69",
   "metadata": {
    "ExecuteTime": {
     "end_time": "2022-06-10T06:26:43.482913Z",
     "start_time": "2022-06-10T06:26:43.475936Z"
    }
   },
   "outputs": [],
   "source": [
    "numbers = [\"3\", \"30\",\"300\",\"301\",\"3002\",\"31\",\"321\",\"3012\",\"302\",\"3010\"]"
   ]
  },
  {
   "cell_type": "code",
   "execution_count": 6,
   "id": "8e080505",
   "metadata": {
    "ExecuteTime": {
     "end_time": "2022-06-10T06:26:43.622336Z",
     "start_time": "2022-06-10T06:26:43.617349Z"
    }
   },
   "outputs": [],
   "source": [
    "def sortednum(lst):\n",
    "    return sorted(lst, reverse=True)"
   ]
  },
  {
   "cell_type": "code",
   "execution_count": 7,
   "id": "1dc11b8a",
   "metadata": {
    "ExecuteTime": {
     "end_time": "2022-06-10T06:26:43.780845Z",
     "start_time": "2022-06-10T06:26:43.768907Z"
    }
   },
   "outputs": [],
   "source": [
    "def zerosort(num, index=-1):\n",
    "    idx = index\n",
    "    if num[index] == \"0\":\n",
    "        print(idx)\n",
    "        zerosort(num, index=idx-1)"
   ]
  },
  {
   "cell_type": "code",
   "execution_count": 8,
   "id": "f85fb69f",
   "metadata": {
    "ExecuteTime": {
     "end_time": "2022-06-10T06:26:43.937309Z",
     "start_time": "2022-06-10T06:26:43.922349Z"
    }
   },
   "outputs": [
    {
     "name": "stdout",
     "output_type": "stream",
     "text": [
      "-1\n",
      "-2\n"
     ]
    }
   ],
   "source": [
    "zerosort(\"100\")"
   ]
  },
  {
   "cell_type": "code",
   "execution_count": 9,
   "id": "d808bee4",
   "metadata": {
    "ExecuteTime": {
     "end_time": "2022-06-10T06:26:44.633856Z",
     "start_time": "2022-06-10T06:26:44.040685Z"
    }
   },
   "outputs": [
    {
     "ename": "TypeError",
     "evalue": "'int' object is not subscriptable",
     "output_type": "error",
     "traceback": [
      "\u001b[1;31m---------------------------------------------------------------------------\u001b[0m",
      "\u001b[1;31mTypeError\u001b[0m                                 Traceback (most recent call last)",
      "Input \u001b[1;32mIn [9]\u001b[0m, in \u001b[0;36m<cell line: 1>\u001b[1;34m()\u001b[0m\n\u001b[1;32m----> 1\u001b[0m \u001b[43mzerosort\u001b[49m\u001b[43m(\u001b[49m\u001b[38;5;241;43m5\u001b[39;49m\u001b[43m)\u001b[49m\n",
      "Input \u001b[1;32mIn [7]\u001b[0m, in \u001b[0;36mzerosort\u001b[1;34m(num, index)\u001b[0m\n\u001b[0;32m      1\u001b[0m \u001b[38;5;28;01mdef\u001b[39;00m \u001b[38;5;21mzerosort\u001b[39m(num, index\u001b[38;5;241m=\u001b[39m\u001b[38;5;241m-\u001b[39m\u001b[38;5;241m1\u001b[39m):\n\u001b[0;32m      2\u001b[0m     idx \u001b[38;5;241m=\u001b[39m index\n\u001b[1;32m----> 3\u001b[0m     \u001b[38;5;28;01mif\u001b[39;00m \u001b[43mnum\u001b[49m\u001b[43m[\u001b[49m\u001b[43mindex\u001b[49m\u001b[43m]\u001b[49m \u001b[38;5;241m==\u001b[39m \u001b[38;5;124m\"\u001b[39m\u001b[38;5;124m0\u001b[39m\u001b[38;5;124m\"\u001b[39m:\n\u001b[0;32m      4\u001b[0m         \u001b[38;5;28mprint\u001b[39m(idx)\n\u001b[0;32m      5\u001b[0m         zerosort(num, index\u001b[38;5;241m=\u001b[39midx\u001b[38;5;241m-\u001b[39m\u001b[38;5;241m1\u001b[39m)\n",
      "\u001b[1;31mTypeError\u001b[0m: 'int' object is not subscriptable"
     ]
    }
   ],
   "source": [
    "zerosort(5)"
   ]
  },
  {
   "cell_type": "code",
   "execution_count": 11,
   "id": "733d8813",
   "metadata": {
    "ExecuteTime": {
     "end_time": "2022-06-10T06:26:47.081272Z",
     "start_time": "2022-06-10T06:26:47.065613Z"
    }
   },
   "outputs": [],
   "source": [
    "a = \"12530450\""
   ]
  },
  {
   "cell_type": "code",
   "execution_count": 12,
   "id": "c916381d",
   "metadata": {
    "ExecuteTime": {
     "end_time": "2022-06-10T06:26:47.376636Z",
     "start_time": "2022-06-10T06:26:47.364630Z"
    }
   },
   "outputs": [
    {
     "data": {
      "text/plain": [
       "4"
      ]
     },
     "execution_count": 12,
     "metadata": {},
     "output_type": "execute_result"
    }
   ],
   "source": [
    "a.find(\"0\")"
   ]
  },
  {
   "cell_type": "code",
   "execution_count": 5,
   "id": "16024080",
   "metadata": {
    "ExecuteTime": {
     "end_time": "2022-06-20T00:32:02.442014Z",
     "start_time": "2022-06-20T00:32:02.437027Z"
    }
   },
   "outputs": [],
   "source": [
    "a = \"1D2S3T*\"\n",
    "a_list=[i for i in a]\n",
    "a_list.insert(1,\"1\")"
   ]
  },
  {
   "cell_type": "code",
   "execution_count": 6,
   "id": "7ee07aaa",
   "metadata": {
    "ExecuteTime": {
     "end_time": "2022-06-20T00:32:04.901824Z",
     "start_time": "2022-06-20T00:32:04.884830Z"
    }
   },
   "outputs": [
    {
     "data": {
      "text/plain": [
       "['1', '1', 'D', '2', 'S', '3', 'T', '*']"
      ]
     },
     "execution_count": 6,
     "metadata": {},
     "output_type": "execute_result"
    }
   ],
   "source": [
    "a_list"
   ]
  },
  {
   "cell_type": "code",
   "execution_count": 7,
   "id": "617970ca",
   "metadata": {
    "ExecuteTime": {
     "end_time": "2022-06-20T00:39:59.854026Z",
     "start_time": "2022-06-20T00:39:59.846010Z"
    }
   },
   "outputs": [
    {
     "data": {
      "text/plain": [
       "['1', '2', '3', '4', '5', '6', '7', '8', '9']"
      ]
     },
     "execution_count": 7,
     "metadata": {},
     "output_type": "execute_result"
    }
   ],
   "source": [
    "num_list = [str(i) for i in range(1,10)]\n",
    "num_list"
   ]
  },
  {
   "cell_type": "code",
   "execution_count": 8,
   "id": "ace788f8",
   "metadata": {
    "ExecuteTime": {
     "end_time": "2022-06-20T00:59:03.974372Z",
     "start_time": "2022-06-20T00:59:03.955386Z"
    }
   },
   "outputs": [],
   "source": [
    "a1 = 1"
   ]
  },
  {
   "cell_type": "code",
   "execution_count": 14,
   "id": "0a4ae49c",
   "metadata": {
    "ExecuteTime": {
     "end_time": "2022-06-20T00:59:48.329108Z",
     "start_time": "2022-06-20T00:59:48.315111Z"
    }
   },
   "outputs": [
    {
     "ename": "SyntaxError",
     "evalue": "cannot assign to function call (1902995153.py, line 2)",
     "output_type": "error",
     "traceback": [
      "\u001b[1;36m  Input \u001b[1;32mIn [14]\u001b[1;36m\u001b[0m\n\u001b[1;33m    eval(f\"a{i}\") = 2\u001b[0m\n\u001b[1;37m    ^\u001b[0m\n\u001b[1;31mSyntaxError\u001b[0m\u001b[1;31m:\u001b[0m cannot assign to function call\n"
     ]
    }
   ],
   "source": [
    "i = 1\n",
    "eval(f\"a{i}\") = "
   ]
  },
  {
   "cell_type": "code",
   "execution_count": 16,
   "id": "7455cfb1",
   "metadata": {
    "ExecuteTime": {
     "end_time": "2022-06-20T02:08:10.118900Z",
     "start_time": "2022-06-20T02:08:10.105935Z"
    }
   },
   "outputs": [
    {
     "ename": "SyntaxError",
     "evalue": "cannot assign to function call (1423668657.py, line 2)",
     "output_type": "error",
     "traceback": [
      "\u001b[1;36m  Input \u001b[1;32mIn [16]\u001b[1;36m\u001b[0m\n\u001b[1;33m    exec(f\"range_{idx}\")=\"hello\"\u001b[0m\n\u001b[1;37m    ^\u001b[0m\n\u001b[1;31mSyntaxError\u001b[0m\u001b[1;31m:\u001b[0m cannot assign to function call\n"
     ]
    }
   ],
   "source": [
    "for i in range(5):\n",
    "    exec(f\"range_{idx}\")=\"hello\""
   ]
  },
  {
   "cell_type": "code",
   "execution_count": 17,
   "id": "9944f26a",
   "metadata": {
    "ExecuteTime": {
     "end_time": "2022-06-20T02:16:35.000579Z",
     "start_time": "2022-06-20T02:16:34.993568Z"
    }
   },
   "outputs": [
    {
     "data": {
      "text/plain": [
       "-1"
      ]
     },
     "execution_count": 17,
     "metadata": {},
     "output_type": "execute_result"
    }
   ],
   "source": [
    "a = 1\n",
    "-a"
   ]
  },
  {
   "cell_type": "code",
   "execution_count": 145,
   "id": "4b98fb1b",
   "metadata": {
    "ExecuteTime": {
     "end_time": "2022-06-20T05:02:06.411416Z",
     "start_time": "2022-06-20T05:02:06.388583Z"
    }
   },
   "outputs": [],
   "source": [
    "def score_sdt(score, string):\n",
    "    if string == \"S\":\n",
    "        return score\n",
    "    elif string ==\"D\":\n",
    "        return score**2\n",
    "    else:\n",
    "        return score**3\n",
    "    \n",
    "dartResult = \"1D2S10T\"\n",
    "def solution(dartResult):\n",
    "    a = [i for i in dartResult]\n",
    "    num_list = [str(i) for i in range(0,11)]\n",
    "    s_list = [\"S\",\"D\",\"T\"]\n",
    "    temp = a.copy()\n",
    "    count = 0\n",
    "    for idx,i in enumerate(temp):\n",
    "        if i in num_list:\n",
    "            if temp[idx-1] not in num_list:\n",
    "                a.insert(idx+count, \" \")\n",
    "                count+=1\n",
    "        if i in s_list:\n",
    "            a.insert(idx+count, \" \")\n",
    "            count+=1\n",
    "\n",
    "    a = \"\".join(a)\n",
    "    a = a.split(\" \")[1:]        \n",
    "    score_dict = {}\n",
    "    score_dict[1] = int(a[0])\n",
    "    score_dict[3] = int(a[2])\n",
    "    score_dict[5] = int(a[4])\n",
    "\n",
    "    for i in [1,3,5]:\n",
    "        score_dict[i]=score_sdt(score_dict[i], a[i][0])\n",
    "        if len(a[i])==2:\n",
    "            if i==1:\n",
    "                if a[i][-1]==\"*\":\n",
    "                    score_dict[i] = score_dict[i]*2\n",
    "                else:\n",
    "                    score_dict[i] = -score_dict[i]\n",
    "            else:\n",
    "                if a[i][-1]==\"*\":\n",
    "                    score_dict[i-2] = score_dict[i-2]*2\n",
    "                    score_dict[i] = score_dict[i]*2\n",
    "                else:\n",
    "                    score_dict[i] = -score_dict[i]\n",
    "    return sum(score_dict.values())"
   ]
  },
  {
   "cell_type": "code",
   "execution_count": 146,
   "id": "c06aab08",
   "metadata": {
    "ExecuteTime": {
     "end_time": "2022-06-20T05:02:06.818403Z",
     "start_time": "2022-06-20T05:02:06.811423Z"
    }
   },
   "outputs": [
    {
     "data": {
      "text/plain": [
       "1003"
      ]
     },
     "execution_count": 146,
     "metadata": {},
     "output_type": "execute_result"
    }
   ],
   "source": [
    "solution(dartResult)"
   ]
  },
  {
   "cell_type": "code",
   "execution_count": 147,
   "id": "803f52ed",
   "metadata": {
    "ExecuteTime": {
     "end_time": "2022-06-20T05:02:18.754505Z",
     "start_time": "2022-06-20T05:02:18.746526Z"
    }
   },
   "outputs": [],
   "source": [
    "dartResult = \"1D2S0T\"\n"
   ]
  },
  {
   "cell_type": "code",
   "execution_count": 148,
   "id": "63c9ca2e",
   "metadata": {
    "ExecuteTime": {
     "end_time": "2022-06-20T05:02:19.475454Z",
     "start_time": "2022-06-20T05:02:19.467452Z"
    }
   },
   "outputs": [
    {
     "data": {
      "text/plain": [
       "0"
      ]
     },
     "execution_count": 148,
     "metadata": {},
     "output_type": "execute_result"
    }
   ],
   "source": [
    "dartResult.count(\"*\")"
   ]
  },
  {
   "cell_type": "code",
   "execution_count": 164,
   "id": "beccf710",
   "metadata": {
    "ExecuteTime": {
     "end_time": "2022-06-20T05:19:57.294146Z",
     "start_time": "2022-06-20T05:19:57.281144Z"
    }
   },
   "outputs": [],
   "source": [
    "progresses, speeds = [95, 90, 99, 99, 80, 99], [1, 1, 1, 1, 1, 1]"
   ]
  },
  {
   "cell_type": "code",
   "execution_count": 150,
   "id": "235905cd",
   "metadata": {
    "ExecuteTime": {
     "end_time": "2022-06-20T05:10:11.793546Z",
     "start_time": "2022-06-20T05:10:11.785529Z"
    }
   },
   "outputs": [],
   "source": [
    "def solution(progresses, speeds):\n",
    "    answer = []\n",
    "    return answer"
   ]
  },
  {
   "cell_type": "code",
   "execution_count": null,
   "id": "1ae0cc43",
   "metadata": {},
   "outputs": [],
   "source": []
  },
  {
   "cell_type": "code",
   "execution_count": 152,
   "id": "da4b523b",
   "metadata": {
    "ExecuteTime": {
     "end_time": "2022-06-20T05:10:36.772733Z",
     "start_time": "2022-06-20T05:10:36.762761Z"
    }
   },
   "outputs": [],
   "source": [
    "progress_dict = {}"
   ]
  },
  {
   "cell_type": "code",
   "execution_count": 232,
   "id": "26325c7d",
   "metadata": {
    "ExecuteTime": {
     "end_time": "2022-06-20T05:36:57.501058Z",
     "start_time": "2022-06-20T05:36:57.495074Z"
    }
   },
   "outputs": [],
   "source": [
    "import math\n",
    "\n",
    "publish_list = []\n",
    "for p, s in zip(progresses, speeds):\n",
    "    publish_list.append(math.ceil((100-p)/s))"
   ]
  },
  {
   "cell_type": "code",
   "execution_count": 233,
   "id": "078610c5",
   "metadata": {
    "ExecuteTime": {
     "end_time": "2022-06-20T05:36:57.690094Z",
     "start_time": "2022-06-20T05:36:57.670109Z"
    }
   },
   "outputs": [
    {
     "data": {
      "text/plain": [
       "[5, 10, 1, 1, 20, 1]"
      ]
     },
     "execution_count": 233,
     "metadata": {},
     "output_type": "execute_result"
    }
   ],
   "source": [
    "publish_list"
   ]
  },
  {
   "cell_type": "code",
   "execution_count": 234,
   "id": "25b4e9f8",
   "metadata": {
    "ExecuteTime": {
     "end_time": "2022-06-20T05:36:57.830650Z",
     "start_time": "2022-06-20T05:36:57.814689Z"
    }
   },
   "outputs": [
    {
     "name": "stdout",
     "output_type": "stream",
     "text": [
      "5\n",
      "10\n",
      "1\n",
      "1\n",
      "20\n",
      "1\n"
     ]
    }
   ],
   "source": [
    "top = publish_list.pop(0)\n",
    "print(top)\n",
    "count=0\n",
    "answer = []\n",
    "while True:\n",
    "    \n",
    "    temp = publish_list.pop(0)\n",
    "    count+=1\n",
    "    print(temp)\n",
    "    if temp > top:\n",
    "        answer.append(count)\n",
    "        top = temp\n",
    "        count=0\n",
    "        \n",
    "    if not publish_list:\n",
    "        count+=1\n",
    "        answer.append(count)\n",
    "        break"
   ]
  },
  {
   "cell_type": "code",
   "execution_count": 235,
   "id": "307af38a",
   "metadata": {
    "ExecuteTime": {
     "end_time": "2022-06-20T05:36:58.362724Z",
     "start_time": "2022-06-20T05:36:58.350755Z"
    }
   },
   "outputs": [
    {
     "data": {
      "text/plain": [
       "[1, 3, 2]"
      ]
     },
     "execution_count": 235,
     "metadata": {},
     "output_type": "execute_result"
    }
   ],
   "source": [
    "answer"
   ]
  },
  {
   "cell_type": "code",
   "execution_count": 237,
   "id": "8931d8c9",
   "metadata": {
    "ExecuteTime": {
     "end_time": "2022-06-20T06:09:56.370970Z",
     "start_time": "2022-06-20T06:09:56.362956Z"
    }
   },
   "outputs": [],
   "source": [
    "record = [\"Enter uid1234 Muzi\", \"Enter uid4567 Prodo\",\"Leave uid1234\",\"Enter uid1234 Prodo\",\"Change uid4567 Ryan\"]"
   ]
  },
  {
   "cell_type": "code",
   "execution_count": 250,
   "id": "37669ecd",
   "metadata": {
    "ExecuteTime": {
     "end_time": "2022-06-20T06:19:02.408630Z",
     "start_time": "2022-06-20T06:19:02.394675Z"
    }
   },
   "outputs": [],
   "source": [
    "id_dict = {}\n",
    "answer = []\n",
    "for i in record:\n",
    "    s_temp = i.split(\" \")\n",
    "    if (s_temp[0][0]==\"E\")or(s_temp[0][0]==\"C\"):\n",
    "        id_dict[s_temp[1]]=s_temp[2]"
   ]
  },
  {
   "cell_type": "code",
   "execution_count": 252,
   "id": "492791cb",
   "metadata": {
    "ExecuteTime": {
     "end_time": "2022-06-20T06:20:27.558326Z",
     "start_time": "2022-06-20T06:20:27.546318Z"
    }
   },
   "outputs": [],
   "source": [
    "for i in record:\n",
    "    s_temp = i.split(\" \")\n",
    "    if s_temp[0][0]==\"E\":\n",
    "        answer.append(f\"{id_dict[s_temp[1]]}님이 들어왔습니다.\")\n",
    "    elif s_temp[0][0]==\"L\":\n",
    "        answer.append(f\"{id_dict[s_temp[1]]}님이 나갔습니다.\")"
   ]
  },
  {
   "cell_type": "code",
   "execution_count": 253,
   "id": "be082e7a",
   "metadata": {
    "ExecuteTime": {
     "end_time": "2022-06-20T06:20:32.986564Z",
     "start_time": "2022-06-20T06:20:32.969576Z"
    }
   },
   "outputs": [
    {
     "data": {
      "text/plain": [
       "['Prodo님이 들어왔습니다.', 'Ryan님이 들어왔습니다.', 'Prodo님이 나갔습니다.', 'Prodo님이 들어왔습니다.']"
      ]
     },
     "execution_count": 253,
     "metadata": {},
     "output_type": "execute_result"
    }
   ],
   "source": [
    "answer"
   ]
  },
  {
   "cell_type": "code",
   "execution_count": 2,
   "id": "761b7741",
   "metadata": {
    "ExecuteTime": {
     "end_time": "2022-06-21T17:12:05.265359Z",
     "start_time": "2022-06-21T17:12:05.247355Z"
    }
   },
   "outputs": [],
   "source": [
    "scoville = [2,1, 3, 9, 10, 12]\n",
    "K = 7"
   ]
  },
  {
   "cell_type": "code",
   "execution_count": 1,
   "id": "22dd9163",
   "metadata": {
    "ExecuteTime": {
     "end_time": "2022-06-21T17:12:03.663394Z",
     "start_time": "2022-06-21T17:12:03.647391Z"
    }
   },
   "outputs": [],
   "source": [
    "import heapq"
   ]
  },
  {
   "cell_type": "code",
   "execution_count": 4,
   "id": "651c683c",
   "metadata": {
    "ExecuteTime": {
     "end_time": "2022-06-21T17:12:12.568337Z",
     "start_time": "2022-06-21T17:12:12.562336Z"
    }
   },
   "outputs": [
    {
     "data": {
      "text/plain": [
       "[12, 10]"
      ]
     },
     "execution_count": 4,
     "metadata": {},
     "output_type": "execute_result"
    }
   ],
   "source": [
    "heapq.nlargest(2,scoville)"
   ]
  },
  {
   "cell_type": "code",
   "execution_count": 56,
   "id": "89674c27",
   "metadata": {
    "ExecuteTime": {
     "end_time": "2022-06-21T02:27:02.966210Z",
     "start_time": "2022-06-21T02:27:02.952247Z"
    }
   },
   "outputs": [
    {
     "data": {
      "text/plain": [
       "2"
      ]
     },
     "execution_count": 56,
     "metadata": {},
     "output_type": "execute_result"
    }
   ],
   "source": [
    "heapq.heappop(scoville, )"
   ]
  },
  {
   "cell_type": "code",
   "execution_count": 60,
   "id": "55976cf3",
   "metadata": {
    "ExecuteTime": {
     "end_time": "2022-06-21T02:27:09.538760Z",
     "start_time": "2022-06-21T02:27:09.525797Z"
    }
   },
   "outputs": [
    {
     "data": {
      "text/plain": [
       "[2, 1, 3, 9, 10, 12]"
      ]
     },
     "execution_count": 60,
     "metadata": {},
     "output_type": "execute_result"
    }
   ],
   "source": [
    "scoville"
   ]
  },
  {
   "cell_type": "code",
   "execution_count": 11,
   "id": "7ed60942",
   "metadata": {
    "ExecuteTime": {
     "end_time": "2022-06-21T01:38:36.290968Z",
     "start_time": "2022-06-21T01:38:36.277006Z"
    }
   },
   "outputs": [],
   "source": [
    "def solution(scoville, K):\n",
    "    answer = 0\n",
    "    while True:\n",
    "        temp1 = heapq.heappop(scoville)\n",
    "        if temp1>=K: break\n",
    "        temp2 = heapq.heappop(scoville)\n",
    "        heapq.heappush(scoville, temp1+temp2*2)\n",
    "        answer += 1\n",
    "        if not scoville: return -1\n",
    "    return answer\n",
    "\n",
    "    while scoville[0] < K:\n",
    "        if len(scoville) <= 1:\n",
    "            return -1"
   ]
  },
  {
   "cell_type": "code",
   "execution_count": 20,
   "id": "ee7266b2",
   "metadata": {
    "ExecuteTime": {
     "end_time": "2022-06-21T01:38:47.614985Z",
     "start_time": "2022-06-21T01:38:47.604014Z"
    }
   },
   "outputs": [],
   "source": [
    "scoville.sort()"
   ]
  },
  {
   "cell_type": "code",
   "execution_count": 52,
   "id": "3a7e2c0a",
   "metadata": {
    "ExecuteTime": {
     "end_time": "2022-06-21T02:26:56.991769Z",
     "start_time": "2022-06-21T02:26:56.980768Z"
    }
   },
   "outputs": [
    {
     "data": {
      "text/plain": [
       "[1, 2, 3, 9, 10, 12]"
      ]
     },
     "execution_count": 52,
     "metadata": {},
     "output_type": "execute_result"
    }
   ],
   "source": [
    "scoville"
   ]
  },
  {
   "cell_type": "code",
   "execution_count": 46,
   "id": "58223f78",
   "metadata": {
    "ExecuteTime": {
     "end_time": "2022-06-21T02:13:37.837740Z",
     "start_time": "2022-06-21T02:13:37.831784Z"
    }
   },
   "outputs": [
    {
     "data": {
      "text/plain": [
       "2"
      ]
     },
     "execution_count": 46,
     "metadata": {},
     "output_type": "execute_result"
    }
   ],
   "source": [
    "heapq.heappop(scoville)"
   ]
  },
  {
   "cell_type": "code",
   "execution_count": 61,
   "id": "f8fdfdbf",
   "metadata": {
    "ExecuteTime": {
     "end_time": "2022-06-21T02:27:13.009345Z",
     "start_time": "2022-06-21T02:27:12.997376Z"
    }
   },
   "outputs": [],
   "source": [
    "heapq.heapify(scoville)"
   ]
  },
  {
   "cell_type": "code",
   "execution_count": 62,
   "id": "72b62e9c",
   "metadata": {
    "ExecuteTime": {
     "end_time": "2022-06-21T02:27:13.959689Z",
     "start_time": "2022-06-21T02:27:13.949752Z"
    }
   },
   "outputs": [
    {
     "data": {
      "text/plain": [
       "[1, 2, 3, 9, 10, 12]"
      ]
     },
     "execution_count": 62,
     "metadata": {},
     "output_type": "execute_result"
    }
   ],
   "source": [
    "scoville"
   ]
  },
  {
   "cell_type": "code",
   "execution_count": null,
   "id": "b95f5ddb",
   "metadata": {},
   "outputs": [],
   "source": []
  },
  {
   "cell_type": "code",
   "execution_count": 63,
   "id": "f35c8826",
   "metadata": {
    "ExecuteTime": {
     "end_time": "2022-06-21T02:58:57.800527Z",
     "start_time": "2022-06-21T02:58:57.787523Z"
    }
   },
   "outputs": [
    {
     "data": {
      "text/plain": [
       "8"
      ]
     },
     "execution_count": 63,
     "metadata": {},
     "output_type": "execute_result"
    }
   ],
   "source": [
    "2+3*2"
   ]
  },
  {
   "cell_type": "code",
   "execution_count": null,
   "id": "4a329550",
   "metadata": {},
   "outputs": [],
   "source": []
  },
  {
   "cell_type": "code",
   "execution_count": null,
   "id": "66573913",
   "metadata": {},
   "outputs": [],
   "source": []
  },
  {
   "cell_type": "code",
   "execution_count": null,
   "id": "0b4c810b",
   "metadata": {},
   "outputs": [],
   "source": []
  },
  {
   "cell_type": "code",
   "execution_count": null,
   "id": "94a61973",
   "metadata": {},
   "outputs": [],
   "source": []
  },
  {
   "cell_type": "code",
   "execution_count": null,
   "id": "85c1c2fb",
   "metadata": {},
   "outputs": [],
   "source": []
  },
  {
   "cell_type": "code",
   "execution_count": null,
   "id": "68c20b8e",
   "metadata": {},
   "outputs": [],
   "source": []
  },
  {
   "cell_type": "code",
   "execution_count": null,
   "id": "4aadf00e",
   "metadata": {},
   "outputs": [],
   "source": []
  },
  {
   "cell_type": "code",
   "execution_count": null,
   "id": "d371b761",
   "metadata": {},
   "outputs": [],
   "source": []
  },
  {
   "cell_type": "code",
   "execution_count": null,
   "id": "f02cd9a3",
   "metadata": {},
   "outputs": [],
   "source": []
  },
  {
   "cell_type": "code",
   "execution_count": null,
   "id": "fc8f04e4",
   "metadata": {},
   "outputs": [],
   "source": []
  },
  {
   "cell_type": "code",
   "execution_count": null,
   "id": "ebce1587",
   "metadata": {},
   "outputs": [],
   "source": []
  },
  {
   "cell_type": "code",
   "execution_count": 1,
   "id": "a8013957",
   "metadata": {
    "ExecuteTime": {
     "end_time": "2022-06-24T03:21:45.473046Z",
     "start_time": "2022-06-24T03:21:45.457089Z"
    }
   },
   "outputs": [],
   "source": [
    "numbers = [1, 1, 1, 1, 1]\n",
    "target = 3"
   ]
  },
  {
   "cell_type": "code",
   "execution_count": 3,
   "id": "daea751a",
   "metadata": {
    "ExecuteTime": {
     "end_time": "2022-06-24T03:22:50.820164Z",
     "start_time": "2022-06-24T03:22:50.815142Z"
    }
   },
   "outputs": [],
   "source": [
    "p_list = []\n",
    "for i in numbers:\n",
    "    temp = []\n",
    "    temp.append(i)\n",
    "    temp.append(-i)\n",
    "    p_list.append(temp)"
   ]
  },
  {
   "cell_type": "code",
   "execution_count": 4,
   "id": "8929b631",
   "metadata": {
    "ExecuteTime": {
     "end_time": "2022-06-24T03:22:53.615966Z",
     "start_time": "2022-06-24T03:22:53.598972Z"
    }
   },
   "outputs": [
    {
     "data": {
      "text/plain": [
       "[[1, -1], [1, -1], [1, -1], [1, -1], [1, -1]]"
      ]
     },
     "execution_count": 4,
     "metadata": {},
     "output_type": "execute_result"
    }
   ],
   "source": [
    "p_list"
   ]
  },
  {
   "cell_type": "code",
   "execution_count": 6,
   "id": "f7d21c52",
   "metadata": {
    "ExecuteTime": {
     "end_time": "2022-06-24T03:23:23.372074Z",
     "start_time": "2022-06-24T03:23:23.359117Z"
    }
   },
   "outputs": [],
   "source": [
    "# 중복 없음\n",
    "from itertools import product\n",
    "a = list(product(*p_list))"
   ]
  },
  {
   "cell_type": "code",
   "execution_count": 11,
   "id": "43f90dc3",
   "metadata": {
    "ExecuteTime": {
     "end_time": "2022-06-24T03:24:25.479602Z",
     "start_time": "2022-06-24T03:24:25.470627Z"
    }
   },
   "outputs": [],
   "source": [
    "count = 0\n",
    "for i in a:\n",
    "    if sum(i)==3:\n",
    "        count+=1"
   ]
  },
  {
   "cell_type": "code",
   "execution_count": 12,
   "id": "cac0a9c5",
   "metadata": {
    "ExecuteTime": {
     "end_time": "2022-06-24T03:24:26.210398Z",
     "start_time": "2022-06-24T03:24:26.190452Z"
    }
   },
   "outputs": [
    {
     "data": {
      "text/plain": [
       "5"
      ]
     },
     "execution_count": 12,
     "metadata": {},
     "output_type": "execute_result"
    }
   ],
   "source": [
    "count"
   ]
  },
  {
   "cell_type": "code",
   "execution_count": null,
   "id": "7e5c8aa0",
   "metadata": {},
   "outputs": [],
   "source": []
  },
  {
   "cell_type": "code",
   "execution_count": 75,
   "id": "6dafdd14",
   "metadata": {
    "ExecuteTime": {
     "end_time": "2022-06-24T05:43:24.511197Z",
     "start_time": "2022-06-24T05:43:24.506210Z"
    }
   },
   "outputs": [],
   "source": [
    "priorities = [2, 4, 9, 2, 3, 1,9]\n",
    "location = 0"
   ]
  },
  {
   "cell_type": "code",
   "execution_count": 18,
   "id": "73b27aa2",
   "metadata": {
    "ExecuteTime": {
     "end_time": "2022-06-24T05:26:01.950274Z",
     "start_time": "2022-06-24T05:26:01.942252Z"
    }
   },
   "outputs": [],
   "source": [
    "import numpy as np\n",
    "\n",
    "priorities = np.array(priorities)"
   ]
  },
  {
   "cell_type": "code",
   "execution_count": 21,
   "id": "28877df0",
   "metadata": {
    "ExecuteTime": {
     "end_time": "2022-06-24T05:27:06.534116Z",
     "start_time": "2022-06-24T05:27:06.526098Z"
    }
   },
   "outputs": [
    {
     "data": {
      "text/plain": [
       "2"
      ]
     },
     "execution_count": 21,
     "metadata": {},
     "output_type": "execute_result"
    }
   ],
   "source": [
    "np.argmax(priorities)"
   ]
  },
  {
   "cell_type": "code",
   "execution_count": 40,
   "id": "ea95c074",
   "metadata": {
    "ExecuteTime": {
     "end_time": "2022-06-24T05:36:45.345406Z",
     "start_time": "2022-06-24T05:36:45.325422Z"
    }
   },
   "outputs": [
    {
     "data": {
      "text/plain": [
       "array([1, 1, 1, 2, 2])"
      ]
     },
     "execution_count": 40,
     "metadata": {},
     "output_type": "execute_result"
    }
   ],
   "source": [
    "a= np.array([1,1,1,2,2])\n",
    "np.where(a==1)\n",
    "np.max(a)\n",
    "np.abs(a)"
   ]
  },
  {
   "cell_type": "code",
   "execution_count": 119,
   "id": "54e1787d",
   "metadata": {
    "ExecuteTime": {
     "end_time": "2022-06-24T06:09:25.368353Z",
     "start_time": "2022-06-24T06:09:25.361331Z"
    }
   },
   "outputs": [],
   "source": [
    "def find_idx(idx, lst):\n",
    "    lst = idx-lst\n",
    "    a = np.where(lst<0)[0]\n",
    "    lst[]"
   ]
  },
  {
   "cell_type": "code",
   "execution_count": 120,
   "id": "7baf40b8",
   "metadata": {
    "ExecuteTime": {
     "end_time": "2022-06-24T06:09:25.900239Z",
     "start_time": "2022-06-24T06:09:25.888272Z"
    }
   },
   "outputs": [
    {
     "name": "stdout",
     "output_type": "stream",
     "text": [
      "[2 6]\n",
      "[ 1 -3]\n",
      "[2 6]\n",
      "[ 1 -3]\n",
      "[2 6]\n",
      "[ 1 -3]\n",
      "[2 6]\n",
      "[ 1 -3]\n",
      "[2 6]\n",
      "[ 1 -3]\n",
      "[2 6]\n",
      "[ 1 -3]\n",
      "[2 6]\n",
      "[ 1 -3]\n"
     ]
    }
   ],
   "source": [
    "priorities = [2, 4, 9, 2, 3, 1,9]\n",
    "print_list = []\n",
    "idx=3\n",
    "for i in range(len(priorities)):\n",
    "    a = np.where(priorities == np.max(priorities))[0]\n",
    "    print(a)\n",
    "    b = find_idx(idx, a)\n",
    "    print(b)\n",
    "    \n",
    "    \n",
    "#     print_list.append(a)\n",
    "#     priorities[a]=0\n",
    "#     idx = a"
   ]
  },
  {
   "cell_type": "code",
   "execution_count": 80,
   "id": "8b1bbcc0",
   "metadata": {
    "ExecuteTime": {
     "end_time": "2022-06-24T05:45:43.918465Z",
     "start_time": "2022-06-24T05:45:43.907498Z"
    }
   },
   "outputs": [
    {
     "data": {
      "text/plain": [
       "{2: 7, 4: 6}"
      ]
     },
     "execution_count": 80,
     "metadata": {},
     "output_type": "execute_result"
    }
   ],
   "source": [
    "p_dict"
   ]
  },
  {
   "cell_type": "code",
   "execution_count": 81,
   "id": "0e72ea68",
   "metadata": {
    "ExecuteTime": {
     "end_time": "2022-06-24T05:45:48.066170Z",
     "start_time": "2022-06-24T05:45:48.050543Z"
    }
   },
   "outputs": [
    {
     "data": {
      "text/plain": [
       "[2, 4, 0, 2, 0, 1, 9]"
      ]
     },
     "execution_count": 81,
     "metadata": {},
     "output_type": "execute_result"
    }
   ],
   "source": [
    "priorities"
   ]
  },
  {
   "cell_type": "code",
   "execution_count": null,
   "id": "49d745f4",
   "metadata": {},
   "outputs": [],
   "source": []
  },
  {
   "cell_type": "code",
   "execution_count": 125,
   "id": "12415de8",
   "metadata": {
    "ExecuteTime": {
     "end_time": "2022-06-24T06:23:24.168678Z",
     "start_time": "2022-06-24T06:23:24.151722Z"
    }
   },
   "outputs": [],
   "source": [
    "p_list = []\n",
    "stack1 = 0\n",
    "idx = 0\n",
    "idx_temp = 0\n",
    "pl = len(priorities)\n",
    "for i in range(pl):\n",
    "    for j in range(idx,pl):\n",
    "        if priorities[j]>stack1:\n",
    "            idx_temp = j\n",
    "            stack1 = priorities[idx_temp]\n",
    "            \n",
    "    if idx == idx_temp:\n",
    "        for j in range(0,idx):\n",
    "            if priorities[j]>stack1:\n",
    "                idx_temp = j\n",
    "                stack1 = priorities[idx_temp]\n",
    "                \n",
    "    idx = idx_temp\n",
    "    p_list.append(idx)\n",
    "    priorities[idx]=0"
   ]
  },
  {
   "cell_type": "code",
   "execution_count": 126,
   "id": "705529ee",
   "metadata": {
    "ExecuteTime": {
     "end_time": "2022-06-24T06:23:31.308416Z",
     "start_time": "2022-06-24T06:23:31.303391Z"
    }
   },
   "outputs": [
    {
     "data": {
      "text/plain": [
       "[2, 2, 2, 2, 2, 2, 2]"
      ]
     },
     "execution_count": 126,
     "metadata": {},
     "output_type": "execute_result"
    }
   ],
   "source": [
    "p_list"
   ]
  },
  {
   "cell_type": "code",
   "execution_count": 127,
   "id": "8832c5a6",
   "metadata": {
    "ExecuteTime": {
     "end_time": "2022-06-24T06:23:40.726173Z",
     "start_time": "2022-06-24T06:23:40.718195Z"
    }
   },
   "outputs": [
    {
     "data": {
      "text/plain": [
       "[2, 4, 0, 2, 3, 1, 9]"
      ]
     },
     "execution_count": 127,
     "metadata": {},
     "output_type": "execute_result"
    }
   ],
   "source": [
    "priorities"
   ]
  },
  {
   "cell_type": "code",
   "execution_count": null,
   "id": "376ff0fa",
   "metadata": {},
   "outputs": [],
   "source": []
  },
  {
   "cell_type": "code",
   "execution_count": null,
   "id": "cc5d1c98",
   "metadata": {},
   "outputs": [],
   "source": []
  },
  {
   "cell_type": "code",
   "execution_count": null,
   "id": "8b4433f9",
   "metadata": {},
   "outputs": [],
   "source": []
  },
  {
   "cell_type": "code",
   "execution_count": null,
   "id": "7b5a3648",
   "metadata": {},
   "outputs": [],
   "source": []
  },
  {
   "cell_type": "code",
   "execution_count": null,
   "id": "2ad7d946",
   "metadata": {},
   "outputs": [],
   "source": []
  },
  {
   "cell_type": "code",
   "execution_count": null,
   "id": "20437ecc",
   "metadata": {},
   "outputs": [],
   "source": []
  },
  {
   "cell_type": "code",
   "execution_count": null,
   "id": "a4756f84",
   "metadata": {},
   "outputs": [],
   "source": []
  },
  {
   "cell_type": "code",
   "execution_count": null,
   "id": "c66a3b37",
   "metadata": {},
   "outputs": [],
   "source": []
  },
  {
   "cell_type": "code",
   "execution_count": null,
   "id": "42be5fcc",
   "metadata": {},
   "outputs": [],
   "source": []
  },
  {
   "cell_type": "code",
   "execution_count": null,
   "id": "3f1076b7",
   "metadata": {},
   "outputs": [],
   "source": []
  },
  {
   "cell_type": "code",
   "execution_count": 12,
   "id": "b04b9883",
   "metadata": {
    "ExecuteTime": {
     "end_time": "2022-06-24T10:11:22.621642Z",
     "start_time": "2022-06-24T10:11:22.613606Z"
    }
   },
   "outputs": [],
   "source": [
    "priorities = [2, 4, 9, 2, 3, 1,9]\n",
    "location = 0\n",
    "idx = 0"
   ]
  },
  {
   "cell_type": "code",
   "execution_count": 4,
   "id": "3a7f64c4",
   "metadata": {
    "ExecuteTime": {
     "end_time": "2022-06-24T10:07:29.562692Z",
     "start_time": "2022-06-24T10:07:29.546692Z"
    }
   },
   "outputs": [],
   "source": [
    "import numpy as np"
   ]
  },
  {
   "cell_type": "code",
   "execution_count": 43,
   "id": "f868e67d",
   "metadata": {
    "ExecuteTime": {
     "end_time": "2022-06-24T10:33:36.550364Z",
     "start_time": "2022-06-24T10:33:36.542328Z"
    }
   },
   "outputs": [],
   "source": [
    "def find_max_number_index(priorities):\n",
    "    return np.where(priorities == np.max(priorities))[0]"
   ]
  },
  {
   "cell_type": "code",
   "execution_count": 30,
   "id": "cf7a6d44",
   "metadata": {
    "ExecuteTime": {
     "end_time": "2022-06-24T10:23:03.895204Z",
     "start_time": "2022-06-24T10:23:03.887100Z"
    }
   },
   "outputs": [
    {
     "data": {
      "text/plain": [
       "(array([3], dtype=int64),)"
      ]
     },
     "execution_count": 30,
     "metadata": {},
     "output_type": "execute_result"
    }
   ],
   "source": [
    "a = np.array([1,2,3,4,5])\n",
    "np.where(a==4)"
   ]
  },
  {
   "cell_type": "code",
   "execution_count": 42,
   "id": "e0db74e2",
   "metadata": {
    "ExecuteTime": {
     "end_time": "2022-06-24T10:33:32.053024Z",
     "start_time": "2022-06-24T10:33:32.044987Z"
    }
   },
   "outputs": [],
   "source": [
    "def max_number_choose(idx, max_num_list):\n",
    "    a = idx - max_num_list\n",
    "    temp = 0\n",
    "    temp_p = []\n",
    "    temp_m = []\n",
    "    for i in a:\n",
    "        if i > 0:\n",
    "            temp_p.append(i)\n",
    "        else:\n",
    "            temp_m.append(i)\n",
    "    if temp_m:\n",
    "        temp = max(temp_m)\n",
    "    else:\n",
    "        temp = max(temp_p)\n",
    "        \n",
    "    return np.where(a==temp)[0][0]\n"
   ]
  },
  {
   "cell_type": "code",
   "execution_count": 35,
   "id": "a23e7506",
   "metadata": {
    "ExecuteTime": {
     "end_time": "2022-06-24T10:25:27.401847Z",
     "start_time": "2022-06-24T10:25:27.393844Z"
    }
   },
   "outputs": [],
   "source": [
    "answer = []\n",
    "new_idx = max_number_list[0]\n",
    "answer.append(priorities[new_idx])\n",
    "priorities[new_idx]=0\n",
    "idx = new_idx"
   ]
  },
  {
   "cell_type": "code",
   "execution_count": 36,
   "id": "8384548b",
   "metadata": {
    "ExecuteTime": {
     "end_time": "2022-06-24T10:25:30.743562Z",
     "start_time": "2022-06-24T10:25:30.719563Z"
    }
   },
   "outputs": [
    {
     "data": {
      "text/plain": [
       "[9]"
      ]
     },
     "execution_count": 36,
     "metadata": {},
     "output_type": "execute_result"
    }
   ],
   "source": [
    "answer"
   ]
  },
  {
   "cell_type": "code",
   "execution_count": 53,
   "id": "93bf74fb",
   "metadata": {
    "ExecuteTime": {
     "end_time": "2022-06-24T10:36:45.886070Z",
     "start_time": "2022-06-24T10:36:45.870034Z"
    }
   },
   "outputs": [],
   "source": [
    "def solution(priorities, location):\n",
    "    idx = 0\n",
    "    answer = 0\n",
    "    \n",
    "    for i in range(len(priorities)):\n",
    "        answer += 1\n",
    "        max_number_list = find_max_number_index(priorities)\n",
    "        print(max_number_list)\n",
    "        new_idx = max_number_list[max_number_choose(idx, max_number_list)]\n",
    "        print(new_idx)\n",
    "        if new_idx == location:\n",
    "            return answer\n",
    "        priorities[new_idx]=0\n",
    "        idx = new_idx"
   ]
  },
  {
   "cell_type": "code",
   "execution_count": 54,
   "id": "0ebf00a7",
   "metadata": {
    "ExecuteTime": {
     "end_time": "2022-06-24T10:36:46.541378Z",
     "start_time": "2022-06-24T10:36:46.517375Z"
    }
   },
   "outputs": [
    {
     "name": "stdout",
     "output_type": "stream",
     "text": [
      "[2 6]\n",
      "2\n",
      "[6]\n",
      "6\n",
      "[1]\n",
      "1\n",
      "[4]\n",
      "4\n",
      "[0 3]\n",
      "0\n"
     ]
    },
    {
     "data": {
      "text/plain": [
       "5"
      ]
     },
     "execution_count": 54,
     "metadata": {},
     "output_type": "execute_result"
    }
   ],
   "source": [
    "priorities = [2, 4, 9, 2, 3, 1,9]\n",
    "location = 0\n",
    "solution(priorities, location)"
   ]
  },
  {
   "cell_type": "code",
   "execution_count": 60,
   "id": "89cb354c",
   "metadata": {
    "ExecuteTime": {
     "end_time": "2022-06-24T10:55:17.873603Z",
     "start_time": "2022-06-24T10:55:17.849562Z"
    }
   },
   "outputs": [],
   "source": [
    "a = \"010\"\n",
    "li = [i for i in a]"
   ]
  },
  {
   "cell_type": "code",
   "execution_count": 61,
   "id": "c3421d30",
   "metadata": {
    "ExecuteTime": {
     "end_time": "2022-06-24T10:55:19.380744Z",
     "start_time": "2022-06-24T10:55:19.372703Z"
    }
   },
   "outputs": [
    {
     "data": {
      "text/plain": [
       "['0', '1', '0']"
      ]
     },
     "execution_count": 61,
     "metadata": {},
     "output_type": "execute_result"
    }
   ],
   "source": [
    "li"
   ]
  },
  {
   "cell_type": "code",
   "execution_count": 62,
   "id": "63680f70",
   "metadata": {
    "ExecuteTime": {
     "end_time": "2022-06-24T11:08:12.615486Z",
     "start_time": "2022-06-24T11:08:12.599445Z"
    }
   },
   "outputs": [],
   "source": [
    "items = [\"0\",\"1\",\"2\",\"3\",\"4\"]"
   ]
  },
  {
   "cell_type": "code",
   "execution_count": 72,
   "id": "865bb99a",
   "metadata": {
    "ExecuteTime": {
     "end_time": "2022-06-24T11:11:25.857091Z",
     "start_time": "2022-06-24T11:11:25.833089Z"
    }
   },
   "outputs": [
    {
     "name": "stdout",
     "output_type": "stream",
     "text": [
      "10234\n",
      "10243\n",
      "10324\n",
      "10342\n",
      "10423\n",
      "10432\n",
      "12034\n",
      "12043\n",
      "12304\n",
      "12340\n",
      "12403\n",
      "12430\n",
      "13024\n",
      "13042\n",
      "13204\n",
      "13240\n",
      "13402\n",
      "13420\n",
      "14023\n",
      "14032\n",
      "14203\n",
      "14230\n",
      "14302\n",
      "14320\n",
      "20134\n",
      "20143\n",
      "20314\n",
      "20341\n",
      "20413\n",
      "20431\n",
      "21034\n",
      "21043\n",
      "21304\n",
      "21340\n",
      "21403\n",
      "21430\n",
      "23014\n",
      "23041\n",
      "23104\n",
      "23140\n",
      "23401\n",
      "23410\n",
      "24013\n",
      "24031\n",
      "24103\n",
      "24130\n",
      "24301\n",
      "24310\n",
      "30124\n",
      "30142\n",
      "30214\n",
      "30241\n",
      "30412\n",
      "30421\n",
      "31024\n",
      "31042\n",
      "31204\n",
      "31240\n",
      "31402\n",
      "31420\n",
      "32014\n",
      "32041\n",
      "32104\n",
      "32140\n",
      "32401\n",
      "32410\n",
      "34012\n",
      "34021\n",
      "34102\n",
      "34120\n",
      "34201\n",
      "34210\n",
      "40123\n",
      "40132\n",
      "40213\n",
      "40231\n",
      "40312\n",
      "40321\n",
      "41023\n",
      "41032\n",
      "41203\n",
      "41230\n",
      "41302\n",
      "41320\n",
      "42013\n",
      "42031\n",
      "42103\n",
      "42130\n",
      "42301\n",
      "42310\n",
      "43012\n",
      "43021\n",
      "43102\n",
      "43120\n",
      "43201\n",
      "43210\n"
     ]
    }
   ],
   "source": [
    "# 중복을 포함한 조합\n",
    "from itertools import permutations\n",
    "temp = list(permutations(items, 5))\n",
    "for i in temp:\n",
    "    a = int(\"\".join(i))\n",
    "    if a > 10**4:\n",
    "        "
   ]
  },
  {
   "cell_type": "code",
   "execution_count": 97,
   "id": "fa66ff06",
   "metadata": {
    "ExecuteTime": {
     "end_time": "2022-06-24T11:24:57.874537Z",
     "start_time": "2022-06-24T11:24:57.866537Z"
    }
   },
   "outputs": [],
   "source": [
    "from itertools import permutations\n",
    "import math\n",
    "\n",
    "def is_prime_number(x):    \n",
    "    for i in range(2, int(math.sqrt(x)) + 1):        \n",
    "        if x % i == 0:\n",
    "            return 0\n",
    "    return 1\n",
    "\n",
    "def solution(numbers):\n",
    "    answer_list = set()\n",
    "    num_list = [i for i in numbers]\n",
    "    for i in range(1,len(num_list)):\n",
    "        num_list_per = list(permutations(num_list, i))\n",
    "        for k in num_list_per:\n",
    "            a = int(\"\".join(k))\n",
    "            if is_prime_number(a)==1:\n",
    "                answer_list.add(a)\n",
    "    answer_list.discard(0)\n",
    "    answer_list.discard(1)\n",
    "    return answer_list"
   ]
  },
  {
   "cell_type": "code",
   "execution_count": 99,
   "id": "a2715296",
   "metadata": {
    "ExecuteTime": {
     "end_time": "2022-06-24T11:25:18.806109Z",
     "start_time": "2022-06-24T11:25:18.798108Z"
    }
   },
   "outputs": [
    {
     "data": {
      "text/plain": [
       "{7}"
      ]
     },
     "execution_count": 99,
     "metadata": {},
     "output_type": "execute_result"
    }
   ],
   "source": [
    "solution(\"17\")"
   ]
  },
  {
   "cell_type": "code",
   "execution_count": 90,
   "id": "60aedd30",
   "metadata": {
    "ExecuteTime": {
     "end_time": "2022-06-24T11:24:03.891873Z",
     "start_time": "2022-06-24T11:24:03.883871Z"
    }
   },
   "outputs": [
    {
     "data": {
      "text/plain": [
       "1"
      ]
     },
     "execution_count": 90,
     "metadata": {},
     "output_type": "execute_result"
    }
   ],
   "source": [
    "is_prime_number(1201)"
   ]
  },
  {
   "cell_type": "code",
   "execution_count": 80,
   "id": "2b59f216",
   "metadata": {
    "ExecuteTime": {
     "end_time": "2022-06-24T11:22:13.171937Z",
     "start_time": "2022-06-24T11:22:13.163936Z"
    }
   },
   "outputs": [],
   "source": [
    "a = set()"
   ]
  },
  {
   "cell_type": "code",
   "execution_count": 91,
   "id": "57b2da16",
   "metadata": {
    "ExecuteTime": {
     "end_time": "2022-06-24T11:24:21.843122Z",
     "start_time": "2022-06-24T11:24:21.835122Z"
    }
   },
   "outputs": [],
   "source": [
    "a.add(1)\n",
    "a.add(1)\n",
    "a.add(1)\n",
    "a.discard(1)"
   ]
  },
  {
   "cell_type": "code",
   "execution_count": 96,
   "id": "e2d7419c",
   "metadata": {
    "ExecuteTime": {
     "end_time": "2022-06-24T11:24:41.914807Z",
     "start_time": "2022-06-24T11:24:41.898767Z"
    }
   },
   "outputs": [
    {
     "data": {
      "text/plain": [
       "0"
      ]
     },
     "execution_count": 96,
     "metadata": {},
     "output_type": "execute_result"
    }
   ],
   "source": [
    "len(a)"
   ]
  },
  {
   "cell_type": "code",
   "execution_count": 95,
   "id": "e2aa52ad",
   "metadata": {
    "ExecuteTime": {
     "end_time": "2022-06-24T11:24:40.489592Z",
     "start_time": "2022-06-24T11:24:40.481555Z"
    }
   },
   "outputs": [],
   "source": [
    "a.discard(1)\n",
    "a.discard(1)\n",
    "a.discard(1)"
   ]
  },
  {
   "cell_type": "code",
   "execution_count": 101,
   "id": "aa0a27bf",
   "metadata": {
    "ExecuteTime": {
     "end_time": "2022-06-24T11:43:14.931866Z",
     "start_time": "2022-06-24T11:43:14.921856Z"
    }
   },
   "outputs": [
    {
     "data": {
      "text/plain": [
       "('A', 'Z')"
      ]
     },
     "execution_count": 101,
     "metadata": {},
     "output_type": "execute_result"
    }
   ],
   "source": [
    "chr(65),chr(90)"
   ]
  },
  {
   "cell_type": "code",
   "execution_count": 3,
   "id": "1b6653f8",
   "metadata": {
    "ExecuteTime": {
     "end_time": "2022-06-24T12:22:25.437939Z",
     "start_time": "2022-06-24T12:22:25.421902Z"
    }
   },
   "outputs": [],
   "source": []
  },
  {
   "cell_type": "code",
   "execution_count": 4,
   "id": "83e0b8fc",
   "metadata": {
    "ExecuteTime": {
     "end_time": "2022-06-24T12:22:26.070717Z",
     "start_time": "2022-06-24T12:22:26.054673Z"
    }
   },
   "outputs": [],
   "source": []
  },
  {
   "cell_type": "code",
   "execution_count": 84,
   "id": "d03b47d1",
   "metadata": {
    "ExecuteTime": {
     "end_time": "2022-06-27T01:36:58.002106Z",
     "start_time": "2022-06-27T01:36:57.983115Z"
    }
   },
   "outputs": [
    {
     "data": {
      "text/plain": [
       "{'A': 0,\n",
       " 'B': 1,\n",
       " 'C': 2,\n",
       " 'D': 3,\n",
       " 'E': 4,\n",
       " 'F': 5,\n",
       " 'G': 6,\n",
       " 'H': 7,\n",
       " 'I': 8,\n",
       " 'J': 9,\n",
       " 'K': 10,\n",
       " 'L': 11,\n",
       " 'M': 12,\n",
       " 'N': 13,\n",
       " 'O': 12,\n",
       " 'P': 11,\n",
       " 'Q': 10,\n",
       " 'R': 9,\n",
       " 'S': 8,\n",
       " 'T': 7,\n",
       " 'U': 6,\n",
       " 'V': 5,\n",
       " 'W': 4,\n",
       " 'X': 3,\n",
       " 'Y': 2,\n",
       " 'Z': 1}"
      ]
     },
     "execution_count": 84,
     "metadata": {},
     "output_type": "execute_result"
    }
   ],
   "source": [
    "temp1 = [chr(i) for i in range(65,91)]\n",
    "temp2 = [i for i in range(0,14)]+[i for i in range(12,0,-1)]\n",
    "\n",
    "alp_dict = {}\n",
    "for c, n in zip(temp1, temp2):\n",
    "    alp_dict[c]=n\n",
    "    \n",
    "alp_dict"
   ]
  },
  {
   "cell_type": "code",
   "execution_count": 99,
   "id": "e3b8fd04",
   "metadata": {
    "ExecuteTime": {
     "end_time": "2022-06-27T01:40:14.106061Z",
     "start_time": "2022-06-27T01:40:14.089060Z"
    }
   },
   "outputs": [],
   "source": [
    "name = \"JERIEN\"\n",
    "\n",
    "\n",
    "a = [i for i in name]\n",
    "count = 0\n",
    "for i in a:\n",
    "    count += alp_dict[i]"
   ]
  },
  {
   "cell_type": "code",
   "execution_count": 100,
   "id": "d1c13e2c",
   "metadata": {
    "ExecuteTime": {
     "end_time": "2022-06-27T01:40:15.663040Z",
     "start_time": "2022-06-27T01:40:15.648041Z"
    }
   },
   "outputs": [
    {
     "data": {
      "text/plain": [
       "(47, ['J', 'E', 'R', 'I', 'E', 'N'])"
      ]
     },
     "execution_count": 100,
     "metadata": {},
     "output_type": "execute_result"
    }
   ],
   "source": [
    "count, a"
   ]
  },
  {
   "cell_type": "code",
   "execution_count": 101,
   "id": "7df0efaa",
   "metadata": {
    "ExecuteTime": {
     "end_time": "2022-06-27T01:40:15.802972Z",
     "start_time": "2022-06-27T01:40:15.792001Z"
    }
   },
   "outputs": [],
   "source": [
    "def left_find(idx, name):\n",
    "    count = 0\n",
    "    name_c = name.copy()\n",
    "    try:\n",
    "        for i in range(len(name)):\n",
    "            if name_c[idx] == \"A\":\n",
    "                count +=1\n",
    "                idx-=1\n",
    "            else:\n",
    "                name_c[idx]=\"A\"\n",
    "                return count, idx\n",
    "    except:\n",
    "        return 0, 0"
   ]
  },
  {
   "cell_type": "code",
   "execution_count": 102,
   "id": "59c306e9",
   "metadata": {
    "ExecuteTime": {
     "end_time": "2022-06-27T01:40:15.960765Z",
     "start_time": "2022-06-27T01:40:15.952788Z"
    }
   },
   "outputs": [],
   "source": [
    "def right_find(idx, name):\n",
    "    count = 0\n",
    "    name_c = name.copy()\n",
    "    try:\n",
    "        for i in range(len(name)):\n",
    "            if name_c[idx] == \"A\":\n",
    "                count +=1\n",
    "                idx+=1\n",
    "            else:\n",
    "                name_c[idx]=\"A\"\n",
    "                return count, idx\n",
    "    except:\n",
    "        return 0, 0"
   ]
  },
  {
   "cell_type": "code",
   "execution_count": 103,
   "id": "c08adc17",
   "metadata": {
    "ExecuteTime": {
     "end_time": "2022-06-27T01:40:16.397634Z",
     "start_time": "2022-06-27T01:40:16.375695Z"
    }
   },
   "outputs": [
    {
     "name": "stdout",
     "output_type": "stream",
     "text": [
      "['A', 'E', 'R', 'I', 'E', 'N']\n",
      "['A', 'E', 'R', 'I', 'E', 'A']\n",
      "['A', 'A', 'R', 'I', 'E', 'A']\n",
      "['A', 'A', 'R', 'I', 'A', 'A']\n",
      "['A', 'A', 'A', 'I', 'A', 'A']\n",
      "['A', 'A', 'A', 'A', 'A', 'A']\n",
      "52\n"
     ]
    }
   ],
   "source": [
    "idx=0\n",
    "for i in range(len(name)):\n",
    "    \n",
    "    lc, li = left_find(idx, a)\n",
    "    rc, ri = right_find(idx, a)\n",
    "    if lc >= rc:\n",
    "        c, idx = lc, li\n",
    "    else:\n",
    "        c, idx = rc, ri\n",
    "    a[idx] = \"A\"\n",
    "    print(a)\n",
    "count += c\n",
    "print(count)"
   ]
  },
  {
   "cell_type": "code",
   "execution_count": 75,
   "id": "853ed02c",
   "metadata": {
    "ExecuteTime": {
     "end_time": "2022-06-27T01:35:32.087407Z",
     "start_time": "2022-06-27T01:35:32.080389Z"
    }
   },
   "outputs": [
    {
     "data": {
      "text/plain": [
       "['A', 'A', 'A', 'A', 'A', 'A']"
      ]
     },
     "execution_count": 75,
     "metadata": {},
     "output_type": "execute_result"
    }
   ],
   "source": []
  },
  {
   "cell_type": "code",
   "execution_count": 74,
   "id": "aa27d9c2",
   "metadata": {
    "ExecuteTime": {
     "end_time": "2022-06-27T01:34:59.693428Z",
     "start_time": "2022-06-27T01:34:59.682458Z"
    }
   },
   "outputs": [
    {
     "data": {
      "text/plain": [
       "51"
      ]
     },
     "execution_count": 74,
     "metadata": {},
     "output_type": "execute_result"
    }
   ],
   "source": [
    "count"
   ]
  },
  {
   "cell_type": "code",
   "execution_count": 69,
   "id": "6b079862",
   "metadata": {
    "ExecuteTime": {
     "end_time": "2022-06-27T01:29:53.876896Z",
     "start_time": "2022-06-27T01:29:53.865962Z"
    }
   },
   "outputs": [
    {
     "data": {
      "text/plain": [
       "(0, 0)"
      ]
     },
     "execution_count": 69,
     "metadata": {},
     "output_type": "execute_result"
    }
   ],
   "source": [
    "right_find(0,a)"
   ]
  },
  {
   "cell_type": "code",
   "execution_count": 53,
   "id": "1d3aa925",
   "metadata": {
    "ExecuteTime": {
     "end_time": "2022-06-27T01:29:18.643799Z",
     "start_time": "2022-06-27T01:29:18.632828Z"
    }
   },
   "outputs": [
    {
     "data": {
      "text/plain": [
       "(0, 0, ['A', 'E', 'R', 'O', 'E', 'N'])"
      ]
     },
     "execution_count": 53,
     "metadata": {},
     "output_type": "execute_result"
    }
   ],
   "source": [
    "left_find(0,a)"
   ]
  },
  {
   "cell_type": "code",
   "execution_count": null,
   "id": "b801cd12",
   "metadata": {},
   "outputs": [],
   "source": []
  },
  {
   "cell_type": "code",
   "execution_count": 105,
   "id": "d9551adc",
   "metadata": {
    "ExecuteTime": {
     "end_time": "2022-06-27T01:45:37.974460Z",
     "start_time": "2022-06-27T01:45:37.967477Z"
    }
   },
   "outputs": [],
   "source": [
    "b= \"AAAAA\""
   ]
  },
  {
   "cell_type": "code",
   "execution_count": 106,
   "id": "30f8bb56",
   "metadata": {
    "ExecuteTime": {
     "end_time": "2022-06-27T01:45:40.885562Z",
     "start_time": "2022-06-27T01:45:40.878620Z"
    }
   },
   "outputs": [
    {
     "data": {
      "text/plain": [
       "{'A'}"
      ]
     },
     "execution_count": 106,
     "metadata": {},
     "output_type": "execute_result"
    }
   ],
   "source": [
    "set(b)"
   ]
  },
  {
   "cell_type": "code",
   "execution_count": 111,
   "id": "b3d4da37",
   "metadata": {
    "ExecuteTime": {
     "end_time": "2022-06-27T01:46:39.702276Z",
     "start_time": "2022-06-27T01:46:39.687317Z"
    }
   },
   "outputs": [
    {
     "data": {
      "text/plain": [
       "'ENJERI'"
      ]
     },
     "execution_count": 111,
     "metadata": {},
     "output_type": "execute_result"
    }
   ],
   "source": [
    "name[-2:]+name[:-2]"
   ]
  },
  {
   "cell_type": "code",
   "execution_count": 112,
   "id": "140a9933",
   "metadata": {
    "ExecuteTime": {
     "end_time": "2022-06-27T01:47:13.620600Z",
     "start_time": "2022-06-27T01:47:13.615642Z"
    }
   },
   "outputs": [
    {
     "data": {
      "text/plain": [
       "'RIENJE'"
      ]
     },
     "execution_count": 112,
     "metadata": {},
     "output_type": "execute_result"
    }
   ],
   "source": [
    "name[2:]+name[:2]"
   ]
  },
  {
   "cell_type": "code",
   "execution_count": 114,
   "id": "164ebb29",
   "metadata": {
    "ExecuteTime": {
     "end_time": "2022-06-27T01:48:02.617871Z",
     "start_time": "2022-06-27T01:48:02.599880Z"
    }
   },
   "outputs": [
    {
     "data": {
      "text/plain": [
       "'NEIREJ'"
      ]
     },
     "execution_count": 114,
     "metadata": {},
     "output_type": "execute_result"
    }
   ],
   "source": [
    "name[::-1]"
   ]
  },
  {
   "cell_type": "code",
   "execution_count": 130,
   "id": "79fd2293",
   "metadata": {
    "ExecuteTime": {
     "end_time": "2022-06-27T01:56:58.553546Z",
     "start_time": "2022-06-27T01:56:58.533599Z"
    }
   },
   "outputs": [],
   "source": [
    "def solution(name):\n",
    "    ## A 로만 이루어진 경우\n",
    "    if set(name) == {'A'}:\n",
    "        return 0\n",
    "\n",
    "    ## answer 를 무한대로 잡아둠\n",
    "    answer = float('inf')\n",
    "    \n",
    "    for i in range(len(name) // 2): # 반 이상 움직일 필요 없음\n",
    "        left_moved = name[-i:]+name[:-i]\n",
    "        right_moved = name[i:]+name[:i]\n",
    "        for n in [left_moved, right_moved[0]+right_moved[:0:-1]]:\n",
    "            while n and n[-1] == 'A':\n",
    "                n = n[:-1]\n",
    "\n",
    "            row_move = i + len(n)-1\n",
    "            col_move = 0\n",
    "            for c in map(ord, n):\n",
    "                col_move += min(c - 65, 91 - c)\n",
    "\n",
    "            answer = min(answer, row_move + col_move)\n",
    "\n",
    "    return answer"
   ]
  },
  {
   "cell_type": "code",
   "execution_count": 140,
   "id": "4455f473",
   "metadata": {
    "ExecuteTime": {
     "end_time": "2022-06-27T02:03:34.704773Z",
     "start_time": "2022-06-27T02:03:34.693843Z"
    }
   },
   "outputs": [
    {
     "name": "stdout",
     "output_type": "stream",
     "text": [
      "ABAEJAJ ABAEJAJ\n"
     ]
    },
    {
     "data": {
      "text/plain": [
       "['ABAEJAJ', 'AJAJEAB']"
      ]
     },
     "execution_count": 140,
     "metadata": {},
     "output_type": "execute_result"
    }
   ],
   "source": [
    "name =\"ABAEJAJ\"\n",
    "i = 0\n",
    "left_moved = name[-i:]+name[:-i]\n",
    "right_moved = name[i:]+name[:i]\n",
    "print(left_moved, right_moved)\n",
    "[left_moved, right_moved[0]+right_moved[:0:-1]]"
   ]
  },
  {
   "cell_type": "code",
   "execution_count": 133,
   "id": "e7647ac4",
   "metadata": {
    "ExecuteTime": {
     "end_time": "2022-06-27T01:57:09.445673Z",
     "start_time": "2022-06-27T01:57:09.430678Z"
    }
   },
   "outputs": [],
   "source": [
    "a = float(\"inf\")\n"
   ]
  },
  {
   "cell_type": "code",
   "execution_count": 134,
   "id": "7830360c",
   "metadata": {
    "ExecuteTime": {
     "end_time": "2022-06-27T01:57:11.147566Z",
     "start_time": "2022-06-27T01:57:11.141582Z"
    }
   },
   "outputs": [
    {
     "data": {
      "text/plain": [
       "inf"
      ]
     },
     "execution_count": 134,
     "metadata": {},
     "output_type": "execute_result"
    }
   ],
   "source": [
    "a"
   ]
  },
  {
   "cell_type": "code",
   "execution_count": null,
   "id": "e1817cfa",
   "metadata": {},
   "outputs": [],
   "source": []
  },
  {
   "cell_type": "code",
   "execution_count": 7,
   "id": "bba107ef",
   "metadata": {
    "ExecuteTime": {
     "end_time": "2022-06-24T12:22:53.912239Z",
     "start_time": "2022-06-24T12:22:53.888201Z"
    }
   },
   "outputs": [],
   "source": [
    "def solution(name):\n",
    "    len(name)\n",
    "    answer = 0\n",
    "    return answer"
   ]
  },
  {
   "cell_type": "code",
   "execution_count": 17,
   "id": "2e6b7171",
   "metadata": {
    "ExecuteTime": {
     "end_time": "2022-06-24T12:42:39.137173Z",
     "start_time": "2022-06-24T12:42:39.121133Z"
    }
   },
   "outputs": [],
   "source": [
    "answer = 0\n",
    "for i in name:\n",
    "    answer += alp_dict[i]\n"
   ]
  },
  {
   "cell_type": "code",
   "execution_count": 21,
   "id": "ddfb705e",
   "metadata": {
    "ExecuteTime": {
     "end_time": "2022-06-24T12:56:11.679253Z",
     "start_time": "2022-06-24T12:56:11.663253Z"
    }
   },
   "outputs": [],
   "source": [
    "def find_nearest_alp(idx, name):\n",
    "    count_left, idx_left = left_find(idx, name)\n",
    "    count_right, idx_right = right_find(idx, name)\n",
    "    \n",
    "    if count_left>=count_right:\n",
    "        count = count_right\n",
    "        idx = idx_right\n",
    "    else:\n",
    "        count = count_left\n",
    "        idx = idx_left\n",
    "    \n",
    "    if idx == 100:\n",
    "        return 0, name\n",
    "    else:\n",
    "        name[idx]=\"A\"\n",
    "        return idx, name\n",
    "    \n",
    "def left_find(idx, name):\n",
    "    count = 0\n",
    "    while True:\n",
    "        try:\n",
    "            count+=1\n",
    "            idx -=1\n",
    "            if name[idx] !=\"A\":\n",
    "                return count, idx\n",
    "        except:\n",
    "                return 100, idx\n",
    "            \n",
    "def right_find(idx, name):\n",
    "    count = 0\n",
    "    while True:\n",
    "        try:\n",
    "            count+=1\n",
    "            idx +=1\n",
    "            if name[idx] !=\"A\":\n",
    "                return count, idx\n",
    "        except:\n",
    "                return 100, idx"
   ]
  },
  {
   "cell_type": "code",
   "execution_count": 25,
   "id": "ca34a4a2",
   "metadata": {
    "ExecuteTime": {
     "end_time": "2022-06-24T12:56:59.265199Z",
     "start_time": "2022-06-24T12:56:59.249197Z"
    }
   },
   "outputs": [],
   "source": [
    "name_list = [i for i in name]"
   ]
  },
  {
   "cell_type": "code",
   "execution_count": 36,
   "id": "d32dd712",
   "metadata": {
    "ExecuteTime": {
     "end_time": "2022-06-24T15:55:29.393820Z",
     "start_time": "2022-06-24T15:55:29.381822Z"
    }
   },
   "outputs": [],
   "source": [
    "idx=0"
   ]
  },
  {
   "cell_type": "code",
   "execution_count": 43,
   "id": "e1004fdb",
   "metadata": {
    "ExecuteTime": {
     "end_time": "2022-06-24T15:55:41.665081Z",
     "start_time": "2022-06-24T15:55:41.658097Z"
    }
   },
   "outputs": [],
   "source": [
    "idx, name_list = find_nearest_alp(idx, name_list)"
   ]
  },
  {
   "cell_type": "code",
   "execution_count": 46,
   "id": "e648dffb",
   "metadata": {
    "ExecuteTime": {
     "end_time": "2022-06-24T15:57:13.671939Z",
     "start_time": "2022-06-24T15:57:13.656978Z"
    }
   },
   "outputs": [
    {
     "data": {
      "text/plain": [
       "(1, ['A', 'A', 'C', 'D'])"
      ]
     },
     "execution_count": 46,
     "metadata": {},
     "output_type": "execute_result"
    }
   ],
   "source": [
    "idx,name_list"
   ]
  },
  {
   "cell_type": "code",
   "execution_count": 44,
   "id": "0d16b6be",
   "metadata": {
    "ExecuteTime": {
     "end_time": "2022-06-24T15:55:42.086653Z",
     "start_time": "2022-06-24T15:55:42.066747Z"
    }
   },
   "outputs": [
    {
     "data": {
      "text/plain": [
       "['A', 'A', 'C', 'D']"
      ]
     },
     "execution_count": 44,
     "metadata": {},
     "output_type": "execute_result"
    }
   ],
   "source": [
    "name_list"
   ]
  },
  {
   "cell_type": "code",
   "execution_count": 29,
   "id": "e0f98ace",
   "metadata": {
    "ExecuteTime": {
     "end_time": "2022-06-24T15:54:32.257454Z",
     "start_time": "2022-06-24T15:54:32.247481Z"
    }
   },
   "outputs": [
    {
     "data": {
      "text/plain": [
       "(6, 'ABCD')"
      ]
     },
     "execution_count": 29,
     "metadata": {},
     "output_type": "execute_result"
    }
   ],
   "source": [
    "answer, name"
   ]
  },
  {
   "cell_type": "code",
   "execution_count": 27,
   "id": "52faa082",
   "metadata": {
    "ExecuteTime": {
     "end_time": "2022-06-24T15:54:22.757389Z",
     "start_time": "2022-06-24T15:54:22.746379Z"
    }
   },
   "outputs": [
    {
     "data": {
      "text/plain": [
       "'A'"
      ]
     },
     "execution_count": 27,
     "metadata": {},
     "output_type": "execute_result"
    }
   ],
   "source": [
    "name[-4]"
   ]
  },
  {
   "cell_type": "code",
   "execution_count": null,
   "id": "029d506b",
   "metadata": {},
   "outputs": [],
   "source": []
  }
 ],
 "metadata": {
  "kernelspec": {
   "display_name": "Python 3 (ipykernel)",
   "language": "python",
   "name": "python3"
  },
  "language_info": {
   "codemirror_mode": {
    "name": "ipython",
    "version": 3
   },
   "file_extension": ".py",
   "mimetype": "text/x-python",
   "name": "python",
   "nbconvert_exporter": "python",
   "pygments_lexer": "ipython3",
   "version": "3.8.13"
  },
  "toc": {
   "base_numbering": 1,
   "nav_menu": {},
   "number_sections": true,
   "sideBar": true,
   "skip_h1_title": false,
   "title_cell": "Table of Contents",
   "title_sidebar": "Contents",
   "toc_cell": false,
   "toc_position": {},
   "toc_section_display": true,
   "toc_window_display": false
  },
  "varInspector": {
   "cols": {
    "lenName": 16,
    "lenType": 16,
    "lenVar": 40
   },
   "kernels_config": {
    "python": {
     "delete_cmd_postfix": "",
     "delete_cmd_prefix": "del ",
     "library": "var_list.py",
     "varRefreshCmd": "print(var_dic_list())"
    },
    "r": {
     "delete_cmd_postfix": ") ",
     "delete_cmd_prefix": "rm(",
     "library": "var_list.r",
     "varRefreshCmd": "cat(var_dic_list()) "
    }
   },
   "types_to_exclude": [
    "module",
    "function",
    "builtin_function_or_method",
    "instance",
    "_Feature"
   ],
   "window_display": false
  }
 },
 "nbformat": 4,
 "nbformat_minor": 5
}
