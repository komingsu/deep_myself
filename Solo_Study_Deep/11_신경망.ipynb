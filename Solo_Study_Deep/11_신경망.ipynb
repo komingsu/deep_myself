{
 "cells": [
  {
   "cell_type": "markdown",
   "id": "e49c1b10",
   "metadata": {
    "id": "e49c1b10"
   },
   "source": [
    "# 인공신경망 ANN\n",
    "\n",
    "키워드 : 인공신경망, 텐서플로, 밀집층, 원-핫 인코딩"
   ]
  },
  {
   "cell_type": "markdown",
   "id": "m_IJ0nODgOVL",
   "metadata": {
    "id": "m_IJ0nODgOVL"
   },
   "source": [
    "* 데이터 다운로드"
   ]
  },
  {
   "cell_type": "code",
   "execution_count": 2,
   "id": "aaf8adc4",
   "metadata": {
    "id": "aaf8adc4"
   },
   "outputs": [],
   "source": [
    "from tensorflow import keras\n",
    "(train_input, train_target), (test_input, test_target) = keras.datasets.fashion_mnist.load_data()"
   ]
  },
  {
   "cell_type": "markdown",
   "id": "7PSeHtwRgSNq",
   "metadata": {
    "id": "7PSeHtwRgSNq"
   },
   "source": [
    "* 데이터의 크기 확인"
   ]
  },
  {
   "cell_type": "code",
   "execution_count": 3,
   "id": "hjsVaoyAfwU_",
   "metadata": {
    "colab": {
     "base_uri": "https://localhost:8080/"
    },
    "id": "hjsVaoyAfwU_",
    "outputId": "03c7b9b5-aa55-47e3-b5f4-7786ddd83161"
   },
   "outputs": [
    {
     "name": "stdout",
     "output_type": "stream",
     "text": [
      "(60000, 28, 28) (60000,)\n"
     ]
    }
   ],
   "source": [
    "print(train_input.shape, train_target.shape)"
   ]
  },
  {
   "cell_type": "markdown",
   "id": "wbwqNGJsgcwV",
   "metadata": {
    "id": "wbwqNGJsgcwV"
   },
   "source": [
    "* 테스트 데이터 크기 확인"
   ]
  },
  {
   "cell_type": "code",
   "execution_count": 4,
   "id": "-Pn4pYl2gGB3",
   "metadata": {
    "colab": {
     "base_uri": "https://localhost:8080/"
    },
    "id": "-Pn4pYl2gGB3",
    "outputId": "0668e740-ad6c-4685-9500-ec5a2dafa86b"
   },
   "outputs": [
    {
     "name": "stdout",
     "output_type": "stream",
     "text": [
      "(10000, 28, 28) (10000,)\n"
     ]
    }
   ],
   "source": [
    "print(test_input.shape, test_target.shape)"
   ]
  },
  {
   "cell_type": "markdown",
   "id": "4nfOhQ4ugimB",
   "metadata": {
    "id": "4nfOhQ4ugimB"
   },
   "source": [
    "* 데이터 이미지로 확인하기"
   ]
  },
  {
   "cell_type": "code",
   "execution_count": 5,
   "id": "LL8YYaG0gaV6",
   "metadata": {
    "colab": {
     "base_uri": "https://localhost:8080/",
     "height": 78
    },
    "id": "LL8YYaG0gaV6",
    "outputId": "27ef000b-498b-4aa0-b096-1e72cf8fae2b"
   },
   "outputs": [
    {
     "data": {
      "image/png": "[encoded data removed]",
      "text/plain": [
       "<Figure size 720x720 with 10 Axes>"
      ]
     },
     "metadata": {
      "needs_background": "light"
     },
     "output_type": "display_data"
    }
   ],
   "source": [
    "import matplotlib.pyplot as plt\n",
    "fig, axs = plt.subplots(1,10, figsize=(10,10))\n",
    "for i in range(10):\n",
    "    axs[i].imshow(train_input[i], cmap=\"gray_r\")\n",
    "    axs[i].axis(\"off\")\n",
    "plt.show()"
   ]
  },
  {
   "cell_type": "markdown",
   "id": "AGvbrWzHiERo",
   "metadata": {
    "id": "AGvbrWzHiERo"
   },
   "source": [
    "* MNIST 의 타겟 값 0~9까지의 숫자 레이블\n",
    "\n",
    "* 0:티셔츠, 1:바지, 2:스웨터, 3:드레스, 4:코트\n",
    "* 5:샌달, 6:셔츠, 7:스니커즈, 8:가방, 9:앵클부츠"
   ]
  },
  {
   "cell_type": "code",
   "execution_count": 6,
   "id": "Jw_SwTSEhUdK",
   "metadata": {
    "colab": {
     "base_uri": "https://localhost:8080/"
    },
    "id": "Jw_SwTSEhUdK",
    "outputId": "6807bc9a-1986-4079-b1aa-0808c26f245e"
   },
   "outputs": [
    {
     "name": "stdout",
     "output_type": "stream",
     "text": [
      "[9, 0, 0, 3, 0, 2, 7, 2, 5, 5]\n"
     ]
    }
   ],
   "source": [
    "print([train_target[i] for i in range(10)])"
   ]
  },
  {
   "cell_type": "markdown",
   "id": "akTsyWfuil-0",
   "metadata": {
    "id": "akTsyWfuil-0"
   },
   "source": [
    "* 타켓별 데이터 개수 확인\n",
    "\n",
    "`np.unique(data, return_counts = True)` 외우기!!"
   ]
  },
  {
   "cell_type": "code",
   "execution_count": 7,
   "id": "SXqqg8QUhUZ_",
   "metadata": {
    "colab": {
     "base_uri": "https://localhost:8080/"
    },
    "id": "SXqqg8QUhUZ_",
    "outputId": "3a46512b-80bd-4201-f4c5-caa8a2f14efe"
   },
   "outputs": [
    {
     "name": "stdout",
     "output_type": "stream",
     "text": [
      "(array([0, 1, 2, 3, 4, 5, 6, 7, 8, 9], dtype=uint8), array([6000, 6000, 6000, 6000, 6000, 6000, 6000, 6000, 6000, 6000],\n",
      "      dtype=int64))\n"
     ]
    }
   ],
   "source": [
    "import numpy as np\n",
    "print(np.unique(train_target, return_counts=True))\n",
    "# 각 6000개씩 있는것을 확인"
   ]
  },
  {
   "cell_type": "markdown",
   "id": "0_hk8AYwRhd2",
   "metadata": {
    "id": "0_hk8AYwRhd2"
   },
   "source": [
    "* 데이터가 60000개 이기때문에 샘플을 하나씩 꺼내서 훈련하는것이 효율적임\n",
    "* **경사하강법** 을 사용\n",
    "\n",
    "## 로지스틱 회귀 적용\n",
    "\n",
    "* `SGDClassifier`\n",
    "* 표준화 전처리된 데이터 사용\n",
    "\n",
    "> * 이미지의 경우 0 ~ 255 값을 0 ~ 1 의값으로 정규화를 많이 함\n",
    "\n",
    "> * reshape() 를 활용하여 2차원 데이터를 1차원 배열로 펼침"
   ]
  },
  {
   "cell_type": "code",
   "execution_count": 8,
   "id": "VBQ-rTEgS2qe",
   "metadata": {
    "colab": {
     "base_uri": "https://localhost:8080/"
    },
    "id": "VBQ-rTEgS2qe",
    "outputId": "4dbe6754-86e5-496e-ceda-1de692b829bf"
   },
   "outputs": [
    {
     "name": "stdout",
     "output_type": "stream",
     "text": [
      "(60000, 28, 28) (60000,)\n"
     ]
    }
   ],
   "source": [
    "print(train_input.shape, train_target.shape)"
   ]
  },
  {
   "cell_type": "code",
   "execution_count": 9,
   "id": "YY93rzKZhUXn",
   "metadata": {
    "colab": {
     "base_uri": "https://localhost:8080/"
    },
    "id": "YY93rzKZhUXn",
    "outputId": "d68dadb8-21ad-4603-8f24-f197dac536fc"
   },
   "outputs": [
    {
     "name": "stdout",
     "output_type": "stream",
     "text": [
      "(60000, 784)\n"
     ]
    }
   ],
   "source": [
    "train_scaled = train_input / 255\n",
    "train_scaled = train_scaled.reshape(-1, 28*28)\n",
    "print(train_scaled.shape)"
   ]
  },
  {
   "cell_type": "markdown",
   "id": "rWPDzD-qS_S2",
   "metadata": {
    "id": "rWPDzD-qS_S2"
   },
   "source": [
    "* 전처리된 데이터를 `cross_validate` 함수를 통해 교차 검증으로 성능을 확인"
   ]
  },
  {
   "cell_type": "code",
   "execution_count": 10,
   "id": "IDkgzvUHhUVf",
   "metadata": {
    "colab": {
     "base_uri": "https://localhost:8080/",
     "height": 396
    },
    "id": "IDkgzvUHhUVf",
    "outputId": "db0cfd0f-fe4e-44e7-b577-07c2ac2c142c"
   },
   "outputs": [
    {
     "name": "stdout",
     "output_type": "stream",
     "text": [
      "0.8192833333333333\n",
      "0.8192833333333333\n"
     ]
    },
    {
     "data": {
      "image/png": "[encoded data removed]",
      "text/plain": [
       "<Figure size 432x288 with 1 Axes>"
      ]
     },
     "metadata": {
      "needs_background": "light"
     },
     "output_type": "display_data"
    }
   ],
   "source": [
    "from sklearn.linear_model import SGDClassifier\n",
    "from sklearn.model_selection import cross_validate\n",
    "import matplotlib.pyplot as plt \n",
    "\n",
    "test_sc = []\n",
    "for i in range(3,5):\n",
    "    sgd = SGDClassifier(loss=\"log\", max_iter=5, random_state=42)\n",
    "    scores = cross_validate(sgd, train_scaled, train_target, n_jobs=-1)\n",
    "    print(np.mean(scores[\"test_score\"]))\n",
    "    test_sc.append(np.mean(scores[\"test_score\"]))\n",
    "\n",
    "plt.plot(range(3,5), test_sc)\n",
    "plt.xlabel(\"k\")\n",
    "plt.ylabel(\"inertia\")\n",
    "plt.show()\n",
    "\n",
    "## 반복횟수를 3~9 로 늘려도 성능이 향상되지 않는것을 볼 수 있다."
   ]
  },
  {
   "cell_type": "markdown",
   "id": "8yD5xzLQWE7o",
   "metadata": {
    "id": "8yD5xzLQWE7o"
   },
   "source": [
    "* 로지스틱 회귀의 특성으로 특성의 개수+1 개만큼 항이 생긴다.\n",
    "* 이 데이터에는 784개의 특성이 있으므로 항이 785개가 생긴다.\n",
    "* 즉 가중치가 785개 이다.\n",
    "* 여기서 10개의 타겟 종류가 있으므로 가중치 785개를 10번 찾아야한다."
   ]
  },
  {
   "cell_type": "markdown",
   "id": "kCVNz52RY8dz",
   "metadata": {
    "id": "kCVNz52RY8dz"
   },
   "source": [
    "## 인공신경망 시작"
   ]
  },
  {
   "cell_type": "markdown",
   "id": "ti5Ifx8WW3Vq",
   "metadata": {
    "id": "ti5Ifx8WW3Vq"
   },
   "source": [
    "* 인공신경망의 용어\n",
    "> 1. 10개의 타겟 = `출력층` output layer\n",
    "> 1. z 값을 계산하는 단위 = `뉴런, 유닛`\n",
    "> 1. x1~x784(픽셀) = `입력층` input layer\n",
    "> 1. 입력층, 출력층이 각각 모두 연결된 층 = `밀집층` dense layer, 완전연결층\n",
    "\n",
    "* 인공신경망에서는 교차검증을 잘 사용하지 않는다\n",
    "* 그 대신 검증 세트를 별도로 덜어내어 사용한다.\n",
    "> 그 이유는 딥러닝 분야의 데이터셋은 충분히 크기 때문에 검증 점수가 안정적이다.\n",
    "> 또한 교차 검증을 수행하기에는 시간이 너무 오래 걸리기 때문이다."
   ]
  },
  {
   "cell_type": "code",
   "execution_count": 11,
   "id": "9yHBENwnhUTK",
   "metadata": {
    "id": "9yHBENwnhUTK"
   },
   "outputs": [],
   "source": [
    "from tensorflow import keras"
   ]
  },
  {
   "cell_type": "markdown",
   "id": "gUGxPaIIYzDB",
   "metadata": {
    "id": "gUGxPaIIYzDB"
   },
   "source": [
    "* 훈련 train 세트에서 검증 val 세트을 20% 덜어낸다."
   ]
  },
  {
   "cell_type": "code",
   "execution_count": 12,
   "id": "Jb0PGSI4hUQt",
   "metadata": {
    "id": "Jb0PGSI4hUQt"
   },
   "outputs": [],
   "source": [
    "from sklearn.model_selection import train_test_split\n",
    "train_scaled, val_scaled, train_target, val_target = train_test_split(train_scaled, train_target, test_size=0.2, random_state=42)"
   ]
  },
  {
   "cell_type": "code",
   "execution_count": 13,
   "id": "3YpKuE30hUOa",
   "metadata": {
    "colab": {
     "base_uri": "https://localhost:8080/"
    },
    "id": "3YpKuE30hUOa",
    "outputId": "052aa737-5316-4d25-aed7-38e05dd76f79"
   },
   "outputs": [
    {
     "name": "stdout",
     "output_type": "stream",
     "text": [
      "(48000, 784) (48000,)\n"
     ]
    }
   ],
   "source": [
    "# 훈련세트\n",
    "print(train_scaled.shape, train_target.shape)"
   ]
  },
  {
   "cell_type": "code",
   "execution_count": 14,
   "id": "flf-_zWUhUME",
   "metadata": {
    "colab": {
     "base_uri": "https://localhost:8080/"
    },
    "id": "flf-_zWUhUME",
    "outputId": "a05af8bc-e3ca-4296-f354-8ca1b9a24d50"
   },
   "outputs": [
    {
     "name": "stdout",
     "output_type": "stream",
     "text": [
      "(12000, 784) (12000, 784)\n"
     ]
    }
   ],
   "source": [
    "# 검증세트\n",
    "print(val_scaled.shape, val_scaled.shape)"
   ]
  },
  {
   "cell_type": "markdown",
   "id": "a-q6Sl49b7-3",
   "metadata": {
    "id": "a-q6Sl49b7-3"
   },
   "source": [
    "### 모델 생성"
   ]
  },
  {
   "cell_type": "markdown",
   "id": "iz8xjCFtb7wp",
   "metadata": {
    "id": "iz8xjCFtb7wp"
   },
   "source": [
    "* dense 설정\n",
    "\n",
    "1. 10 => 뉴런 개수\n",
    "1. activation = \"softmax\" => 뉴런의 출력에 적용할 함수 \n",
    "1. input_shape(784,) => 입력의 크기  "
   ]
  },
  {
   "cell_type": "code",
   "execution_count": 15,
   "id": "JeLS-S0ehUJv",
   "metadata": {
    "id": "JeLS-S0ehUJv"
   },
   "outputs": [],
   "source": [
    "dense = keras.layers.Dense(10, activation=\"softmax\", input_shape=(784,))"
   ]
  },
  {
   "cell_type": "markdown",
   "id": "o8K54Cekb46H",
   "metadata": {
    "id": "o8K54Cekb46H"
   },
   "source": [
    "> 1. `시그모이드 함수` -> 하나의 선형 방정식의 출력값을 0~1 로 압축\n",
    "> 1. `소프트맥스 함수` -> 여러개의 선형 방정식의 출력값을 0~1 로 압축한뒤 전체 합이 1이 되도록 하고 여기서 지수 함수를 사용하기 때문에 정규화된 지수 함수라고도 함\n",
    "> 1. 즉 다층연결인 신경망에서는 소프트맥스, 2개의 클래스를 분류하는 이진 분류라면 시그모이드를 사용\n",
    "> 1. 소프트맥스와 같이 뉴런의 선형방정식 계산경과에 적용되는 함수를 `활성화 함수`라고 한다.\n",
    "\n",
    "\n",
    "\n",
    "* **모델 생성 `keras.Sequential(dense)`**"
   ]
  },
  {
   "cell_type": "code",
   "execution_count": 16,
   "id": "Nwx_Tp4uhUHN",
   "metadata": {
    "id": "Nwx_Tp4uhUHN"
   },
   "outputs": [],
   "source": [
    "model = keras.Sequential(dense)"
   ]
  },
  {
   "cell_type": "markdown",
   "id": "oGW1FKEAczQD",
   "metadata": {
    "id": "oGW1FKEAczQD"
   },
   "source": [
    "### 분류하기\n",
    "\n",
    "* 손실 함수 지정하기 "
   ]
  },
  {
   "cell_type": "code",
   "execution_count": 17,
   "id": "NqxxmjfmhUE1",
   "metadata": {
    "id": "NqxxmjfmhUE1"
   },
   "outputs": [],
   "source": [
    "model.compile(loss=\"sparse_categorical_crossentropy\", metrics='accuracy')"
   ]
  },
  {
   "cell_type": "markdown",
   "id": "5-k2UM1Ndqxl",
   "metadata": {
    "id": "5-k2UM1Ndqxl"
   },
   "source": [
    "#### 손실함수 loss\n",
    "\n",
    "> 1. 이진분류 loss : \"binary_crossentropy\"\n",
    "> 1. 다중분류 loss : \"categorical_crossentropy\"\n",
    "\n",
    "* 타깃값을 해당 클래스만 1이고 나머지는 모두 0인 배열로 만드는 것을 `원-핫 인코딩`, `one-hot encoding`이라고 한다.\n",
    "\n",
    "> 1. 하지만 Tensorflow 에서는 정수로 된 타깃값을 원-핫 인코딩 하지 않고도 사용할 수 있다.\n",
    "> 1. 이때 정수로된 타깃값을 사용해 손실 계산을 할때 `sparse (희소)`라는 이름을 사용한다. \n",
    "\n",
    "* 따라서 정수로된 타깃값의 손실을 계산할때는 `sparse_categorical_crossentropy`를 사용한다."
   ]
  },
  {
   "cell_type": "markdown",
   "id": "W9nde5szfaaK",
   "metadata": {
    "id": "W9nde5szfaaK"
   },
   "source": [
    "#### 계량적 분석 metrics\n",
    "\n",
    "> 1. 기본값으로 손실값을 출력해준다.\n",
    "> 1. 추가로 훈련이 잘 되고있는지 볼수있는 정확도를 보고싶을때 metrics 를 사용한다.\n",
    "> 1. metrics=\"accuracy\" 옵션을 추가하면 된다."
   ]
  },
  {
   "cell_type": "code",
   "execution_count": 18,
   "id": "WXYZRX2yhUCe",
   "metadata": {
    "colab": {
     "base_uri": "https://localhost:8080/"
    },
    "id": "WXYZRX2yhUCe",
    "outputId": "63b6804e-c2c2-4f35-9616-b8d68d1b6458"
   },
   "outputs": [
    {
     "name": "stdout",
     "output_type": "stream",
     "text": [
      "Epoch 1/5\n",
      "1500/1500 [==============================] - 2s 1ms/step - loss: 0.6067 - accuracy: 0.7943\n",
      "Epoch 2/5\n",
      "1500/1500 [==============================] - 2s 1ms/step - loss: 0.4790 - accuracy: 0.8393\n",
      "Epoch 3/5\n",
      "1500/1500 [==============================] - 2s 1ms/step - loss: 0.4567 - accuracy: 0.8468\n",
      "Epoch 4/5\n",
      "1500/1500 [==============================] - 2s 1ms/step - loss: 0.4456 - accuracy: 0.8523\n",
      "Epoch 5/5\n",
      "1500/1500 [==============================] - 2s 1ms/step - loss: 0.4365 - accuracy: 0.8557\n"
     ]
    },
    {
     "data": {
      "text/plain": [
       "<keras.callbacks.History at 0x240b54cae20>"
      ]
     },
     "execution_count": 18,
     "metadata": {},
     "output_type": "execute_result"
    }
   ],
   "source": [
    "model.fit(train_scaled, train_target, epochs=5)"
   ]
  },
  {
   "cell_type": "markdown",
   "id": "tnOj-9fqgNwG",
   "metadata": {
    "id": "tnOj-9fqgNwG"
   },
   "source": [
    "### 검증하기\n",
    "\n",
    "`evaluate()`"
   ]
  },
  {
   "cell_type": "code",
   "execution_count": 19,
   "id": "3eA394OQhT_-",
   "metadata": {
    "colab": {
     "base_uri": "https://localhost:8080/"
    },
    "id": "3eA394OQhT_-",
    "outputId": "6d125461-fa1e-4595-e3cf-c7de13f93cd5"
   },
   "outputs": [
    {
     "name": "stdout",
     "output_type": "stream",
     "text": [
      "375/375 [==============================] - 1s 1ms/step - loss: 0.4425 - accuracy: 0.8501\n"
     ]
    },
    {
     "data": {
      "text/plain": [
       "[0.44254252314567566, 0.8500833511352539]"
      ]
     },
     "execution_count": 19,
     "metadata": {},
     "output_type": "execute_result"
    }
   ],
   "source": [
    "model.evaluate(val_scaled, val_target)"
   ]
  },
  {
   "cell_type": "markdown",
   "id": "bPyQ-b1wgtS1",
   "metadata": {
    "id": "bPyQ-b1wgtS1"
   },
   "source": [
    "# 심층 신경망 DNN\n",
    "\n",
    "키워드 : 심층 신경망, 렐루 함수, 옵티마이저\n",
    "\n",
    "* 인공신경망에 층을 여러개 추가하여 심층 신경망을 제작"
   ]
  },
  {
   "cell_type": "code",
   "execution_count": 20,
   "id": "MAaxlFDLhT9j",
   "metadata": {
    "id": "MAaxlFDLhT9j"
   },
   "outputs": [],
   "source": [
    "from tensorflow import keras\n",
    "(train_input, train_target) , (test_input, test_target) = keras.datasets.fashion_mnist.load_data()"
   ]
  },
  {
   "cell_type": "code",
   "execution_count": 21,
   "id": "65b060ac",
   "metadata": {},
   "outputs": [
    {
     "data": {
      "text/plain": [
       "(60000, 28, 28)"
      ]
     },
     "execution_count": 21,
     "metadata": {},
     "output_type": "execute_result"
    }
   ],
   "source": [
    "train_input.shape"
   ]
  },
  {
   "cell_type": "code",
   "execution_count": 22,
   "id": "CwOOjHrrgut-",
   "metadata": {
    "id": "CwOOjHrrgut-"
   },
   "outputs": [],
   "source": [
    "from sklearn.model_selection import train_test_split\n",
    "\n",
    "train_scaled = train_input /255.0\n",
    "train_scaled = train_scaled.reshape(-1, 28*28)\n",
    "train_scaled, val_scaled, train_target, val_target = train_test_split(train_scaled, train_target, test_size=0.2, random_state=42)"
   ]
  },
  {
   "cell_type": "code",
   "execution_count": 23,
   "id": "BcGnouJohT7D",
   "metadata": {
    "id": "BcGnouJohT7D"
   },
   "outputs": [
    {
     "data": {
      "text/plain": [
       "(48000, 784)"
      ]
     },
     "execution_count": 23,
     "metadata": {},
     "output_type": "execute_result"
    }
   ],
   "source": [
    "train_scaled.shape"
   ]
  },
  {
   "cell_type": "markdown",
   "id": "cc0c3f16",
   "metadata": {
    "id": "FglnrzXMhMM1"
   },
   "source": [
    "## 은닉층\n",
    "\n",
    "* 입력층과 출력층 사이에 밀집층이 추가된 것\n",
    "\n",
    "* 은닉층은 활성화 함수가 함께있다.\n",
    "\n",
    "* 활성화 함수로는 시그모이드함수, 렐루(ReLU)함수를 사용한다."
   ]
  },
  {
   "cell_type": "markdown",
   "id": "7345d42b",
   "metadata": {},
   "source": [
    "## 심층 신경만 만들기"
   ]
  },
  {
   "cell_type": "markdown",
   "id": "8e2e1859",
   "metadata": {},
   "source": [
    "**그냥 모델 만들기**"
   ]
  },
  {
   "cell_type": "code",
   "execution_count": 24,
   "id": "5b033451",
   "metadata": {},
   "outputs": [],
   "source": [
    "dense1 = keras.layers.Dense(100, activation=\"sigmoid\", input_shape=(784,)) # 은닉층\n",
    "dense2 = keras.layers.Dense(10,activation=\"softmax\") # 출력층"
   ]
  },
  {
   "cell_type": "code",
   "execution_count": 25,
   "id": "a549de14",
   "metadata": {},
   "outputs": [],
   "source": [
    "model = keras.Sequential([dense1, dense2])\n",
    "# model = keras.Sequential(dense)  => 인공신경망 만들기\n",
    "# [ ] 를 통해 은닉층, 출력층을 넣어주는 차이가 있음"
   ]
  },
  {
   "cell_type": "code",
   "execution_count": 26,
   "id": "05b7afeb",
   "metadata": {},
   "outputs": [
    {
     "name": "stdout",
     "output_type": "stream",
     "text": [
      "Model: \"sequential_1\"\n",
      "_________________________________________________________________\n",
      " Layer (type)                Output Shape              Param #   \n",
      "=================================================================\n",
      " dense_1 (Dense)             (None, 100)               78500     \n",
      "                                                                 \n",
      " dense_2 (Dense)             (None, 10)                1010      \n",
      "                                                                 \n",
      "=================================================================\n",
      "Total params: 79,510\n",
      "Trainable params: 79,510\n",
      "Non-trainable params: 0\n",
      "_________________________________________________________________\n"
     ]
    }
   ],
   "source": [
    "model.summary()\n",
    "# 모델을 제작했지 데이터를 넣어주지는 않음"
   ]
  },
  {
   "cell_type": "markdown",
   "id": "58835dd7",
   "metadata": {},
   "source": [
    "**index 들을 넣어서 model 제작**"
   ]
  },
  {
   "cell_type": "code",
   "execution_count": 27,
   "id": "ee8f3694",
   "metadata": {},
   "outputs": [],
   "source": [
    "dense1 = keras.layers.Dense(100, activation=\"sigmoid\", input_shape=(784,), name=\"hidden\")\n",
    "dense2 = keras.layers.Dense(10, activation=\"softmax\", name=\"output\")"
   ]
  },
  {
   "cell_type": "code",
   "execution_count": 28,
   "id": "d192204b",
   "metadata": {},
   "outputs": [],
   "source": [
    "model = keras.Sequential([dense1, dense2], name=\"패션 MNIST 모델\")"
   ]
  },
  {
   "cell_type": "code",
   "execution_count": 29,
   "id": "4c1a9586",
   "metadata": {},
   "outputs": [
    {
     "name": "stdout",
     "output_type": "stream",
     "text": [
      "Model: \"패션 MNIST 모델\"\n",
      "_________________________________________________________________\n",
      " Layer (type)                Output Shape              Param #   \n",
      "=================================================================\n",
      " hidden (Dense)              (None, 100)               78500     \n",
      "                                                                 \n",
      " output (Dense)              (None, 10)                1010      \n",
      "                                                                 \n",
      "=================================================================\n",
      "Total params: 79,510\n",
      "Trainable params: 79,510\n",
      "Non-trainable params: 0\n",
      "_________________________________________________________________\n"
     ]
    }
   ],
   "source": [
    "model.summary()"
   ]
  },
  {
   "cell_type": "markdown",
   "id": "dc0d43e7",
   "metadata": {},
   "source": [
    "**add를 통해 층 바로넣기**"
   ]
  },
  {
   "cell_type": "code",
   "execution_count": 30,
   "id": "fb1af426",
   "metadata": {},
   "outputs": [],
   "source": [
    "model = keras.Sequential()\n",
    "model.add(keras.layers.Dense(100, activation=\"sigmoid\", input_shape = (784,)))\n",
    "model.add(keras.layers.Dense(10, activation=\"softmax\"))"
   ]
  },
  {
   "cell_type": "markdown",
   "id": "b9e9f3ab",
   "metadata": {},
   "source": [
    "**모델 훈련하기**"
   ]
  },
  {
   "cell_type": "code",
   "execution_count": 31,
   "id": "ddc82b57",
   "metadata": {},
   "outputs": [],
   "source": [
    "model.compile(loss=\"sparse_categorical_crossentropy\", metrics=\"accuracy\")"
   ]
  },
  {
   "cell_type": "markdown",
   "id": "9027e263",
   "metadata": {},
   "source": [
    "에포크 5"
   ]
  },
  {
   "cell_type": "code",
   "execution_count": 32,
   "id": "2ffd165c",
   "metadata": {},
   "outputs": [
    {
     "name": "stdout",
     "output_type": "stream",
     "text": [
      "Epoch 1/5\n",
      "1500/1500 [==============================] - 3s 2ms/step - loss: 0.5590 - accuracy: 0.8080\n",
      "Epoch 2/5\n",
      "1500/1500 [==============================] - 2s 2ms/step - loss: 0.4072 - accuracy: 0.8544\n",
      "Epoch 3/5\n",
      "1500/1500 [==============================] - 2s 2ms/step - loss: 0.3729 - accuracy: 0.8648\n",
      "Epoch 4/5\n",
      "1500/1500 [==============================] - 2s 2ms/step - loss: 0.3502 - accuracy: 0.8736\n",
      "Epoch 5/5\n",
      "1500/1500 [==============================] - 2s 2ms/step - loss: 0.3324 - accuracy: 0.8795\n"
     ]
    },
    {
     "data": {
      "text/plain": [
       "<keras.callbacks.History at 0x240b5089370>"
      ]
     },
     "execution_count": 32,
     "metadata": {},
     "output_type": "execute_result"
    }
   ],
   "source": [
    "model.fit(train_scaled, train_target, epochs=5)"
   ]
  },
  {
   "cell_type": "markdown",
   "id": "3dd82ed7",
   "metadata": {},
   "source": [
    "에포크 10"
   ]
  },
  {
   "cell_type": "code",
   "execution_count": 33,
   "id": "53dfba64",
   "metadata": {},
   "outputs": [
    {
     "name": "stdout",
     "output_type": "stream",
     "text": [
      "Epoch 1/10\n",
      "1500/1500 [==============================] - 3s 2ms/step - loss: 0.3184 - accuracy: 0.8848\n",
      "Epoch 2/10\n",
      "1500/1500 [==============================] - 2s 2ms/step - loss: 0.3082 - accuracy: 0.8874\n",
      "Epoch 3/10\n",
      "1500/1500 [==============================] - 3s 2ms/step - loss: 0.2986 - accuracy: 0.8902\n",
      "Epoch 4/10\n",
      "1500/1500 [==============================] - 3s 2ms/step - loss: 0.2901 - accuracy: 0.8944\n",
      "Epoch 5/10\n",
      "1500/1500 [==============================] - 3s 2ms/step - loss: 0.2802 - accuracy: 0.8981\n",
      "Epoch 6/10\n",
      "1500/1500 [==============================] - 3s 2ms/step - loss: 0.2746 - accuracy: 0.8996\n",
      "Epoch 7/10\n",
      "1500/1500 [==============================] - 3s 2ms/step - loss: 0.2678 - accuracy: 0.9028\n",
      "Epoch 8/10\n",
      "1500/1500 [==============================] - 3s 2ms/step - loss: 0.2613 - accuracy: 0.9045\n",
      "Epoch 9/10\n",
      "1500/1500 [==============================] - 3s 2ms/step - loss: 0.2558 - accuracy: 0.9061\n",
      "Epoch 10/10\n",
      "1500/1500 [==============================] - 3s 2ms/step - loss: 0.2496 - accuracy: 0.9091\n"
     ]
    },
    {
     "data": {
      "text/plain": [
       "<keras.callbacks.History at 0x240b676aee0>"
      ]
     },
     "execution_count": 33,
     "metadata": {},
     "output_type": "execute_result"
    }
   ],
   "source": [
    "model.fit(train_scaled, train_target, epochs=10)"
   ]
  },
  {
   "cell_type": "markdown",
   "id": "0184c3ae",
   "metadata": {},
   "source": [
    "## 렐루함수\n",
    "\n",
    "* 시그모이드 함수가 유선형의 곡선으로 모든 신경망에서 계산하면 신속하게 대응하기 힘들다는 단점이 있다.\n",
    "* 렐루함수는 양수는 통과, 음수는 0 으로 만든다"
   ]
  },
  {
   "cell_type": "markdown",
   "id": "560958cf",
   "metadata": {},
   "source": [
    "## Flatten 층\n",
    "\n",
    "* 다차원을 1차원으로\n",
    "* 입력층과 은닉층 사이에서 다차원의 데이터를 1차원 배열로 만드는 역할을 한다.\n",
    "* 가중치나 절편은 없다"
   ]
  },
  {
   "cell_type": "code",
   "execution_count": 34,
   "id": "ca35703d",
   "metadata": {},
   "outputs": [],
   "source": [
    "model = keras.Sequential()\n",
    "model.add(keras.layers.Flatten(input_shape=(28,28)))\n",
    "model.add(keras.layers.Dense(100, activation=\"relu\", input_shape = (784,)))\n",
    "model.add(keras.layers.Dense(10, activation=\"softmax\"))"
   ]
  },
  {
   "cell_type": "code",
   "execution_count": 35,
   "id": "765ff946",
   "metadata": {},
   "outputs": [
    {
     "name": "stdout",
     "output_type": "stream",
     "text": [
      "Model: \"sequential_3\"\n",
      "_________________________________________________________________\n",
      " Layer (type)                Output Shape              Param #   \n",
      "=================================================================\n",
      " flatten (Flatten)           (None, 784)               0         \n",
      "                                                                 \n",
      " dense_5 (Dense)             (None, 100)               78500     \n",
      "                                                                 \n",
      " dense_6 (Dense)             (None, 10)                1010      \n",
      "                                                                 \n",
      "=================================================================\n",
      "Total params: 79,510\n",
      "Trainable params: 79,510\n",
      "Non-trainable params: 0\n",
      "_________________________________________________________________\n"
     ]
    }
   ],
   "source": [
    "model.summary()"
   ]
  },
  {
   "cell_type": "code",
   "execution_count": 36,
   "id": "c0d435bd",
   "metadata": {},
   "outputs": [],
   "source": [
    "(train_input, train_target), (test_input, test_target) = keras.datasets.fashion_mnist.load_data()\n",
    "train_scaled = train_input/ 255\n",
    "train_scaled, val_scaled, train_target, val_target = train_test_split(train_scaled, train_target, test_size=0.2, random_state=42)"
   ]
  },
  {
   "cell_type": "code",
   "execution_count": 37,
   "id": "0f791644",
   "metadata": {},
   "outputs": [
    {
     "name": "stdout",
     "output_type": "stream",
     "text": [
      "Epoch 1/5\n",
      "1500/1500 [==============================] - 3s 2ms/step - loss: 0.5278 - accuracy: 0.8147\n",
      "Epoch 2/5\n",
      "1500/1500 [==============================] - 2s 2ms/step - loss: 0.3897 - accuracy: 0.8596\n",
      "Epoch 3/5\n",
      "1500/1500 [==============================] - 2s 2ms/step - loss: 0.3529 - accuracy: 0.8734\n",
      "Epoch 4/5\n",
      "1500/1500 [==============================] - 2s 2ms/step - loss: 0.3354 - accuracy: 0.8794\n",
      "Epoch 5/5\n",
      "1500/1500 [==============================] - 2s 2ms/step - loss: 0.3223 - accuracy: 0.8858\n"
     ]
    },
    {
     "data": {
      "text/plain": [
       "<keras.callbacks.History at 0x240b679fca0>"
      ]
     },
     "execution_count": 37,
     "metadata": {},
     "output_type": "execute_result"
    }
   ],
   "source": [
    "model.compile(loss=\"sparse_categorical_crossentropy\", metrics=\"accuracy\")\n",
    "model.fit(train_scaled, train_target, epochs=5)"
   ]
  },
  {
   "cell_type": "markdown",
   "id": "447fadb4",
   "metadata": {},
   "source": [
    "## 검증하기"
   ]
  },
  {
   "cell_type": "code",
   "execution_count": 38,
   "id": "a3a78b94",
   "metadata": {},
   "outputs": [
    {
     "name": "stdout",
     "output_type": "stream",
     "text": [
      "375/375 [==============================] - 1s 1ms/step - loss: 0.3631 - accuracy: 0.8762\n"
     ]
    },
    {
     "data": {
      "text/plain": [
       "[0.3630901277065277, 0.8761666417121887]"
      ]
     },
     "execution_count": 38,
     "metadata": {},
     "output_type": "execute_result"
    }
   ],
   "source": [
    "model.evaluate(val_scaled, val_target)"
   ]
  },
  {
   "cell_type": "markdown",
   "id": "d4ab8af2",
   "metadata": {},
   "source": [
    "## 옵티마이저\n",
    "\n",
    "다양한 종류의 경사하강법"
   ]
  },
  {
   "cell_type": "code",
   "execution_count": 39,
   "id": "3ad52dac",
   "metadata": {},
   "outputs": [],
   "source": [
    "# 여기서 \"sgd\" 는 sgd=keras.optimizers.SGD() 를 대신한다.\n",
    "\n",
    "model.compile(optimizer=\"sgd\", loss=\"sparse_categorical_crossentropy\", metrics=\"accuracy\")"
   ]
  },
  {
   "cell_type": "markdown",
   "id": "640b8a84",
   "metadata": {},
   "source": [
    "### 기본 경사하강법 옵티마이저"
   ]
  },
  {
   "cell_type": "markdown",
   "id": "27dc0e21",
   "metadata": {},
   "source": [
    "#### 학습률"
   ]
  },
  {
   "cell_type": "code",
   "execution_count": 40,
   "id": "bebf1a0b",
   "metadata": {},
   "outputs": [],
   "source": [
    "sgd = keras.optimizers.SGD(learning_rate=0.1)"
   ]
  },
  {
   "cell_type": "markdown",
   "id": "8bf29258",
   "metadata": {},
   "source": [
    "#### 모멘텀 최적화\n",
    "* 모멘텀 0보다 크게 변경 (기본값 0)\n",
    "* 그레이디언트를 가속도 처럼 사용"
   ]
  },
  {
   "cell_type": "code",
   "execution_count": 41,
   "id": "a6238267",
   "metadata": {},
   "outputs": [],
   "source": [
    "sgd = keras.optimizers.SGD(momentum=0.9)"
   ]
  },
  {
   "cell_type": "markdown",
   "id": "1bad1360",
   "metadata": {},
   "source": [
    "#### 네스테로프 모멘텀 최적화 \n",
    "* 네스테로프 가속 경사\n",
    "* 모멘텀 최적화를 2번 반복하여 구현\n",
    "* 일반적으로 기본 확률적 경사 하강법 보다 좋은 성능을 보인다"
   ]
  },
  {
   "cell_type": "code",
   "execution_count": 42,
   "id": "7bd94b5d",
   "metadata": {},
   "outputs": [],
   "source": [
    "sgd = keras.optimizers.SGD(momentum=0.9, nesterov=True)"
   ]
  },
  {
   "cell_type": "markdown",
   "id": "0ed7c0d6",
   "metadata": {},
   "source": [
    "### 적응적 학습률 옵티마이저\n",
    "\n",
    "* 모델이 최적점에 가까이 갈수록 학습률을 낮출 수 있다.\n",
    "* 안정적으로 최적점에 수렴할 가능성이 증가\n",
    "\n",
    "\n",
    "* 아래 3개 모델은 전부 learning_rate 기본값 0.001을 사용한다."
   ]
  },
  {
   "cell_type": "code",
   "execution_count": 43,
   "id": "a965b96d",
   "metadata": {},
   "outputs": [],
   "source": [
    "adagrad = keras.optimizers.Adagrad()"
   ]
  },
  {
   "cell_type": "code",
   "execution_count": 44,
   "id": "3e2abc62",
   "metadata": {},
   "outputs": [],
   "source": [
    "rmsprop = keras.optimizers.RMSprop()"
   ]
  },
  {
   "cell_type": "code",
   "execution_count": 45,
   "id": "dbf97bee",
   "metadata": {},
   "outputs": [],
   "source": [
    "adam = keras.optimizers.Adam()"
   ]
  },
  {
   "cell_type": "code",
   "execution_count": 46,
   "id": "37d4dc33",
   "metadata": {},
   "outputs": [],
   "source": [
    "model = keras.Sequential()\n",
    "model.add(keras.layers.Flatten(input_shape=(28,28)))\n",
    "model.add(keras.layers.Dense(100, activation=\"relu\"))\n",
    "model.add(keras.layers.Dense(10, activation=\"softmax\"))"
   ]
  },
  {
   "cell_type": "code",
   "execution_count": 47,
   "id": "46c47ed2",
   "metadata": {},
   "outputs": [],
   "source": [
    "model.compile(optimizer=\"adam\", loss=\"sparse_categorical_crossentropy\", metrics =\"accuracy\")"
   ]
  },
  {
   "cell_type": "code",
   "execution_count": 48,
   "id": "0de19b3e",
   "metadata": {},
   "outputs": [
    {
     "name": "stdout",
     "output_type": "stream",
     "text": [
      "Epoch 1/5\n",
      "1500/1500 [==============================] - 3s 2ms/step - loss: 0.5300 - accuracy: 0.8141\n",
      "Epoch 2/5\n",
      "1500/1500 [==============================] - 2s 2ms/step - loss: 0.3976 - accuracy: 0.8581\n",
      "Epoch 3/5\n",
      "1500/1500 [==============================] - 2s 2ms/step - loss: 0.3560 - accuracy: 0.8716\n",
      "Epoch 4/5\n",
      "1500/1500 [==============================] - 2s 2ms/step - loss: 0.3279 - accuracy: 0.8819\n",
      "Epoch 5/5\n",
      "1500/1500 [==============================] - 2s 2ms/step - loss: 0.3089 - accuracy: 0.8872\n"
     ]
    },
    {
     "data": {
      "text/plain": [
       "<keras.callbacks.History at 0x240b8319fd0>"
      ]
     },
     "execution_count": 48,
     "metadata": {},
     "output_type": "execute_result"
    }
   ],
   "source": [
    "model.fit(train_scaled, train_target, epochs=5)"
   ]
  },
  {
   "cell_type": "code",
   "execution_count": 49,
   "id": "b310e9ac",
   "metadata": {},
   "outputs": [
    {
     "name": "stdout",
     "output_type": "stream",
     "text": [
      "375/375 [==============================] - 1s 1ms/step - loss: 0.3348 - accuracy: 0.8807\n"
     ]
    },
    {
     "data": {
      "text/plain": [
       "[0.3348294794559479, 0.8806666731834412]"
      ]
     },
     "execution_count": 49,
     "metadata": {},
     "output_type": "execute_result"
    }
   ],
   "source": [
    "model.evaluate(val_scaled, val_target)"
   ]
  },
  {
   "cell_type": "markdown",
   "id": "dfad043f",
   "metadata": {},
   "source": [
    "# 신경망 모델 훈련"
   ]
  },
  {
   "cell_type": "code",
   "execution_count": 50,
   "id": "b9a839ad",
   "metadata": {},
   "outputs": [],
   "source": [
    "from tensorflow import keras\n",
    "from sklearn.model_selection import train_test_split\n",
    "\n",
    "(train_input, train_target), (test_input, test_target) = keras.datasets.fashion_mnist.load_data()\n",
    "train_scaled = train_input/255.0\n",
    "train_scaled, val_scaled, train_target, val_target = train_test_split(train_scaled, train_target, test_size=0.2, random_state=42)"
   ]
  },
  {
   "cell_type": "code",
   "execution_count": 51,
   "id": "06434e0a",
   "metadata": {},
   "outputs": [],
   "source": [
    "def model_fn(a_layer=None):\n",
    "    model = keras.Sequential()\n",
    "    model.add(keras.layers.Flatten(input_shape=(28,28)))\n",
    "    model.add(keras.layers.Dense(100, activation=\"relu\"))\n",
    "    if a_layer:\n",
    "        model.add(a_layer)\n",
    "    model.add(keras.layers.Dense(10, activation=\"softmax\"))\n",
    "    return model"
   ]
  },
  {
   "cell_type": "code",
   "execution_count": 52,
   "id": "45767334",
   "metadata": {},
   "outputs": [
    {
     "name": "stdout",
     "output_type": "stream",
     "text": [
      "Model: \"sequential_5\"\n",
      "_________________________________________________________________\n",
      " Layer (type)                Output Shape              Param #   \n",
      "=================================================================\n",
      " flatten_2 (Flatten)         (None, 784)               0         \n",
      "                                                                 \n",
      " dense_9 (Dense)             (None, 100)               78500     \n",
      "                                                                 \n",
      " dense_10 (Dense)            (None, 10)                1010      \n",
      "                                                                 \n",
      "=================================================================\n",
      "Total params: 79,510\n",
      "Trainable params: 79,510\n",
      "Non-trainable params: 0\n",
      "_________________________________________________________________\n"
     ]
    }
   ],
   "source": [
    "model = model_fn()\n",
    "model.summary()"
   ]
  },
  {
   "cell_type": "code",
   "execution_count": 53,
   "id": "50f42b5a",
   "metadata": {},
   "outputs": [],
   "source": [
    "model.compile(loss=\"sparse_categorical_crossentropy\", metrics=\"accuracy\")\n",
    "history = model.fit(train_scaled, train_target, epochs=5, verbose=0)\n",
    "# verbose=0  -> 훈련과정을 나타내지 않음\n",
    "# verbose=1  -> 기본값, 진행막대, 지표들 출력\n",
    "# verbose=2  -> 진행막대 제거"
   ]
  },
  {
   "cell_type": "code",
   "execution_count": 54,
   "id": "a0dff26e",
   "metadata": {},
   "outputs": [
    {
     "name": "stdout",
     "output_type": "stream",
     "text": [
      "dict_keys(['loss', 'accuracy'])\n"
     ]
    }
   ],
   "source": [
    "print(history.history.keys())"
   ]
  },
  {
   "cell_type": "markdown",
   "id": "c271fb89",
   "metadata": {},
   "source": [
    "## 그래프 그리기"
   ]
  },
  {
   "cell_type": "code",
   "execution_count": 55,
   "id": "063ec47f",
   "metadata": {},
   "outputs": [
    {
     "data": {
      "image/png": "[encoded data removed]",
      "text/plain": [
       "<Figure size 432x288 with 1 Axes>"
      ]
     },
     "metadata": {
      "needs_background": "light"
     },
     "output_type": "display_data"
    }
   ],
   "source": [
    "import matplotlib.pyplot as plt\n",
    "plt.plot(history.history[\"loss\"])\n",
    "plt.xlabel(\"epoch\")\n",
    "plt.ylabel(\"loss\")\n",
    "plt.show()"
   ]
  },
  {
   "cell_type": "code",
   "execution_count": 56,
   "id": "d4d9a57c",
   "metadata": {},
   "outputs": [
    {
     "data": {
      "image/png": "[encoded data removed]",
      "text/plain": [
       "<Figure size 432x288 with 1 Axes>"
      ]
     },
     "metadata": {
      "needs_background": "light"
     },
     "output_type": "display_data"
    }
   ],
   "source": [
    "plt.plot(history.history[\"accuracy\"])\n",
    "plt.xlabel(\"epoch\")\n",
    "plt.ylabel(\"accuracy\")\n",
    "plt.show()"
   ]
  },
  {
   "cell_type": "markdown",
   "id": "b104f64f",
   "metadata": {},
   "source": [
    "* 훈련 epoch 20으로 증가"
   ]
  },
  {
   "cell_type": "code",
   "execution_count": 57,
   "id": "36e73422",
   "metadata": {},
   "outputs": [],
   "source": [
    "model = model_fn()\n",
    "model.compile(loss=\"sparse_categorical_crossentropy\", metrics = \"accuracy\")\n",
    "history = model.fit(train_scaled, train_target, epochs=20, verbose=0)"
   ]
  },
  {
   "cell_type": "code",
   "execution_count": 58,
   "id": "abab9594",
   "metadata": {},
   "outputs": [
    {
     "data": {
      "image/png": "[encoded data removed]",
      "text/plain": [
       "<Figure size 432x288 with 1 Axes>"
      ]
     },
     "metadata": {
      "needs_background": "light"
     },
     "output_type": "display_data"
    }
   ],
   "source": [
    "plt.plot(history.history[\"loss\"])\n",
    "plt.xlabel(\"epoch\")\n",
    "plt.ylabel(\"loss\")\n",
    "plt.show()"
   ]
  },
  {
   "cell_type": "code",
   "execution_count": 59,
   "id": "c90a6a17",
   "metadata": {},
   "outputs": [
    {
     "data": {
      "image/png": "[encoded data removed]",
      "text/plain": [
       "<Figure size 432x288 with 1 Axes>"
      ]
     },
     "metadata": {
      "needs_background": "light"
     },
     "output_type": "display_data"
    }
   ],
   "source": [
    "plt.plot(history.history[\"accuracy\"])\n",
    "plt.xlabel(\"epoch\")\n",
    "plt.ylabel(\"accuracy\")\n",
    "plt.show()"
   ]
  },
  {
   "cell_type": "markdown",
   "id": "9dc21a97",
   "metadata": {},
   "source": [
    "* 정확도가 오르고 손실률이 감소했다고 다 좋은것이 아니다.\n",
    "---\n",
    "\n",
    "## 검증 손실\n",
    "\n",
    "* 과대/과소적합 확인\n",
    "\n",
    "* 정확도를 확인하는 것 보다 손실 함수의 값을 확인하는 것이 더 중요하다."
   ]
  },
  {
   "cell_type": "code",
   "execution_count": 60,
   "id": "d7586065",
   "metadata": {},
   "outputs": [],
   "source": [
    "model = model_fn()\n",
    "model.compile(loss=\"sparse_categorical_crossentropy\", metrics=\"accuracy\")\n",
    "history = model.fit(train_scaled, train_target, epochs=20, verbose=0, validation_data=(val_scaled, val_target))"
   ]
  },
  {
   "cell_type": "code",
   "execution_count": 61,
   "id": "fd201b43",
   "metadata": {},
   "outputs": [
    {
     "name": "stdout",
     "output_type": "stream",
     "text": [
      "dict_keys(['loss', 'accuracy', 'val_loss', 'val_accuracy'])\n"
     ]
    }
   ],
   "source": [
    "print(history.history.keys())"
   ]
  },
  {
   "cell_type": "code",
   "execution_count": 62,
   "id": "9e6c83fc",
   "metadata": {},
   "outputs": [
    {
     "data": {
      "image/png": "[encoded data removed]",
      "text/plain": [
       "<Figure size 432x288 with 1 Axes>"
      ]
     },
     "metadata": {
      "needs_background": "light"
     },
     "output_type": "display_data"
    }
   ],
   "source": [
    "plt.plot(history.history[\"loss\"])\n",
    "plt.plot(history.history[\"val_loss\"])\n",
    "plt.xlabel(\"epoch\")\n",
    "plt.ylabel(\"loss\")\n",
    "plt.legend([\"train\", \"val\"])\n",
    "plt.show()"
   ]
  },
  {
   "cell_type": "markdown",
   "id": "fb536d46",
   "metadata": {},
   "source": [
    "* 초기에는 점수가 감소하다가 점점 검증 손실이 증가하는 것을 볼 수 있다.\n",
    "* 훈련 모델은 꾸준히 감소하기 때문에 이대로는 전형적인 과대적합 모델이 만들어진다.\n",
    "* 검증 손실이 상승 하는 시점을 뒤로 미뤄야 한다."
   ]
  },
  {
   "cell_type": "markdown",
   "id": "d3d4f745",
   "metadata": {},
   "source": [
    "## 옵티마이저 적용"
   ]
  },
  {
   "cell_type": "code",
   "execution_count": 63,
   "id": "5d10a4b5",
   "metadata": {},
   "outputs": [],
   "source": [
    "model = model_fn()\n",
    "model.compile(optimizer=\"adam\", loss=\"sparse_categorical_crossentropy\", metrics=\"accuracy\")\n",
    "history = model.fit(train_scaled, train_target, epochs=20, verbose=0, validation_data=(val_scaled, val_target))"
   ]
  },
  {
   "cell_type": "code",
   "execution_count": 64,
   "id": "c7bc33bd",
   "metadata": {},
   "outputs": [
    {
     "data": {
      "image/png": "[encoded data removed]",
      "text/plain": [
       "<Figure size 432x288 with 1 Axes>"
      ]
     },
     "metadata": {
      "needs_background": "light"
     },
     "output_type": "display_data"
    }
   ],
   "source": [
    "plt.plot(history.history[\"loss\"])\n",
    "plt.plot(history.history[\"val_loss\"])\n",
    "plt.xlabel(\"epoch\")\n",
    "plt.ylabel(\"loss\")\n",
    "plt.legend([\"train\", \"val\"])\n",
    "plt.show()"
   ]
  },
  {
   "cell_type": "markdown",
   "id": "e7171b03",
   "metadata": {},
   "source": [
    "* RMSprop 방법을 썼을 때 보다 과대적합이 훨씬 줄어든것을 볼 수 있다.\n",
    "* 여전히 요동은 남아있지만 8~10번째 까지 전반적인 감소를 확인할 수 있다.\n",
    "* 더 나은 손실 곡선을 얻으려면 학습률을 조정해서 다시 시도해 볼 수 도있다."
   ]
  },
  {
   "cell_type": "markdown",
   "id": "ad1bb982",
   "metadata": {},
   "source": [
    "* 학습률 0.01"
   ]
  },
  {
   "cell_type": "code",
   "execution_count": 65,
   "id": "efae184f",
   "metadata": {},
   "outputs": [
    {
     "data": {
      "image/png": "[encoded data removed]",
      "text/plain": [
       "<Figure size 432x288 with 1 Axes>"
      ]
     },
     "metadata": {
      "needs_background": "light"
     },
     "output_type": "display_data"
    }
   ],
   "source": [
    "adam = keras.optimizers.Adam(learning_rate=0.01)\n",
    "model = model_fn()\n",
    "model.compile(optimizer=\"adam\", loss=\"sparse_categorical_crossentropy\", metrics=\"accuracy\")\n",
    "history = model.fit(train_scaled, train_target, epochs=20, verbose=0, validation_data=(val_scaled, val_target))\n",
    "plt.plot(history.history[\"loss\"])\n",
    "plt.plot(history.history[\"val_loss\"])\n",
    "plt.xlabel(\"epoch\")\n",
    "plt.ylabel(\"loss\")\n",
    "plt.legend([\"train\", \"val\"])\n",
    "plt.show()"
   ]
  },
  {
   "cell_type": "markdown",
   "id": "20e7ed4c",
   "metadata": {},
   "source": [
    "* 학습률 0.1"
   ]
  },
  {
   "cell_type": "code",
   "execution_count": 66,
   "id": "b7988087",
   "metadata": {},
   "outputs": [
    {
     "data": {
      "image/png": "[encoded data removed]",
      "text/plain": [
       "<Figure size 432x288 with 1 Axes>"
      ]
     },
     "metadata": {
      "needs_background": "light"
     },
     "output_type": "display_data"
    }
   ],
   "source": [
    "adam = keras.optimizers.Adam(learning_rate=0.1)\n",
    "model = model_fn()\n",
    "model.compile(optimizer=\"adam\", loss=\"sparse_categorical_crossentropy\", metrics=\"accuracy\")\n",
    "history = model.fit(train_scaled, train_target, epochs=20, verbose=0, validation_data=(val_scaled, val_target))\n",
    "plt.plot(history.history[\"loss\"])\n",
    "plt.plot(history.history[\"val_loss\"])\n",
    "plt.xlabel(\"epoch\")\n",
    "plt.ylabel(\"loss\")\n",
    "plt.legend([\"train\", \"val\"])\n",
    "plt.show()"
   ]
  },
  {
   "cell_type": "markdown",
   "id": "d68f685a",
   "metadata": {},
   "source": [
    "* 위처럼 손실함수를 잘 조절하는것이 실력의 핵심이다."
   ]
  },
  {
   "cell_type": "markdown",
   "id": "f263518d",
   "metadata": {},
   "source": [
    "## 드롭아웃 dropout\n",
    "\n",
    "* 훈련 과정중에 층에 있는 일부 뉴런을 랜덤하게 꺼서 과대적합을 막습니다.\n",
    "\n",
    "* 얼마나 많은 뉴런을 드롭할지는 또 다른 하이퍼 파라미터이다.\n",
    "\n",
    "* 드롭아웃은 앙상블 기법과 모습이 흡사하고 그 결과 과대적합을 막는 것까지도 비슷하다.\n",
    "\n",
    "* 드롭아웃 레이어를 만들어서 추가하는 형태로 적용할 수 있다."
   ]
  },
  {
   "cell_type": "code",
   "execution_count": 67,
   "id": "72628528",
   "metadata": {},
   "outputs": [
    {
     "name": "stdout",
     "output_type": "stream",
     "text": [
      "Model: \"sequential_11\"\n",
      "_________________________________________________________________\n",
      " Layer (type)                Output Shape              Param #   \n",
      "=================================================================\n",
      " flatten_8 (Flatten)         (None, 784)               0         \n",
      "                                                                 \n",
      " dense_21 (Dense)            (None, 100)               78500     \n",
      "                                                                 \n",
      " dropout (Dropout)           (None, 100)               0         \n",
      "                                                                 \n",
      " dense_22 (Dense)            (None, 10)                1010      \n",
      "                                                                 \n",
      "=================================================================\n",
      "Total params: 79,510\n",
      "Trainable params: 79,510\n",
      "Non-trainable params: 0\n",
      "_________________________________________________________________\n"
     ]
    }
   ],
   "source": [
    "model = model_fn(keras.layers.Dropout(0.3))\n",
    "model.summary()"
   ]
  },
  {
   "cell_type": "markdown",
   "id": "07522346",
   "metadata": {},
   "source": [
    "* 훈련이 끝나고 평가, 예측을 할때는 드롭아웃을 적용하지 않아야 한다. 모든 뉴런을 사용해야 올바른 예측을 할 수 있다.\n",
    "\n",
    "* 텐서플로우의 케라스는 이를 자동으로 해줍니다 ^^7"
   ]
  },
  {
   "cell_type": "code",
   "execution_count": 68,
   "id": "3e9f1f5c",
   "metadata": {},
   "outputs": [
    {
     "data": {
      "image/png": "[encoded data removed]",
      "text/plain": [
       "<Figure size 432x288 with 1 Axes>"
      ]
     },
     "metadata": {
      "needs_background": "light"
     },
     "output_type": "display_data"
    }
   ],
   "source": [
    "adam = keras.optimizers.Adam(learning_rate=0.001)\n",
    "model.compile(optimizer=\"adam\", loss=\"sparse_categorical_crossentropy\",metrics=\"accuracy\")\n",
    "history = model.fit(train_scaled, train_target, epochs=20, verbose=0, validation_data=(val_scaled, val_target))\n",
    "plt.plot(history.history[\"loss\"])\n",
    "plt.plot(history.history[\"val_loss\"])\n",
    "plt.xlabel(\"epoch\")\n",
    "plt.ylabel(\"loss\")\n",
    "plt.legend([\"train\", \"val\"])\n",
    "plt.show()"
   ]
  },
  {
   "cell_type": "markdown",
   "id": "ef3c4d46",
   "metadata": {},
   "source": [
    "* 과대적합이 epoch 13 정도까지 꾸준하게 감소하는 것을 확인할 수 있다.\n",
    "\n",
    "* 그렇다면 에포크를 10으로 지정하고 훈련한뒤 저장을 한다."
   ]
  },
  {
   "cell_type": "markdown",
   "id": "de127c7c",
   "metadata": {},
   "source": [
    "## 모델 저장"
   ]
  },
  {
   "cell_type": "code",
   "execution_count": 69,
   "id": "7873cb69",
   "metadata": {},
   "outputs": [],
   "source": [
    "model = model_fn(keras.layers.Dropout(0.3))\n",
    "model.compile(optimizer=\"adam\",loss=\"sparse_categorical_crossentropy\",metrics=\"accuracy\")\n",
    "history = model.fit(train_scaled, train_target, epochs=10, verbose=0, validation_data=(val_scaled,val_target))"
   ]
  },
  {
   "cell_type": "markdown",
   "id": "c76840df",
   "metadata": {},
   "source": [
    "* 모델의 파라미터를 저장"
   ]
  },
  {
   "cell_type": "code",
   "execution_count": 70,
   "id": "92e611f9",
   "metadata": {},
   "outputs": [],
   "source": [
    "model.save_weights(\"model-weights.h5\")"
   ]
  },
  {
   "cell_type": "markdown",
   "id": "1dbde261",
   "metadata": {},
   "source": [
    "* 모델 구조와 모델 파라미터를 함께 저장"
   ]
  },
  {
   "cell_type": "code",
   "execution_count": 71,
   "id": "2d113a52",
   "metadata": {},
   "outputs": [],
   "source": [
    "model.save(\"model-whole.h5\")"
   ]
  },
  {
   "cell_type": "markdown",
   "id": "c1cb45bd",
   "metadata": {},
   "source": [
    "## 모델 복원"
   ]
  },
  {
   "cell_type": "markdown",
   "id": "bfce529d",
   "metadata": {},
   "source": [
    "* 파라미터 불러오기 - 정확히 같은 구조만 불러올수있다."
   ]
  },
  {
   "cell_type": "code",
   "execution_count": 72,
   "id": "2272e4a0",
   "metadata": {},
   "outputs": [],
   "source": [
    "model = model_fn(keras.layers.Dropout(0.3))\n",
    "model.load_weights(\"model-weights.h5\")"
   ]
  },
  {
   "cell_type": "markdown",
   "id": "5e0a21e3",
   "metadata": {},
   "source": [
    "### 검증"
   ]
  },
  {
   "cell_type": "markdown",
   "id": "ff9c1d9e",
   "metadata": {},
   "source": [
    "1. predict() 메서드는 12000,10 크기의 배열을 반환한다.\n",
    "1. 10개의 확률중에 가장 큰 값의 인덱스를 골랄 타깃 레이블과 비교하여 정확도를 계산해본다."
   ]
  },
  {
   "cell_type": "code",
   "execution_count": 73,
   "id": "1fa56820",
   "metadata": {},
   "outputs": [
    {
     "name": "stdout",
     "output_type": "stream",
     "text": [
      "0.8776666666666667\n"
     ]
    }
   ],
   "source": [
    "import numpy as np\n",
    "val_labels = np.argmax(model.predict(val_scaled), axis=-1)\n",
    "print(np.mean(val_labels == val_target))"
   ]
  },
  {
   "cell_type": "code",
   "execution_count": 74,
   "id": "656d0a9e",
   "metadata": {},
   "outputs": [
    {
     "name": "stdout",
     "output_type": "stream",
     "text": [
      "375/375 [==============================] - 1s 1ms/step - loss: 0.3388 - accuracy: 0.8777\n"
     ]
    },
    {
     "data": {
      "text/plain": [
       "[0.3387986719608307, 0.8776666522026062]"
      ]
     },
     "execution_count": 74,
     "metadata": {},
     "output_type": "execute_result"
    }
   ],
   "source": [
    "model = keras.models.load_model(\"model-whole.h5\")\n",
    "model.evaluate(val_scaled, val_target)"
   ]
  },
  {
   "cell_type": "markdown",
   "id": "1e62c362",
   "metadata": {},
   "source": [
    "## 콜백\n",
    "\n",
    "* 진행된 epoch 값들중 과대적합 되지 않은 epoch를 찾고 되돌리는 것\n",
    "\n",
    "* 즉 매 epcoh 마다 저장을 함"
   ]
  },
  {
   "cell_type": "code",
   "execution_count": 75,
   "id": "1eac795d",
   "metadata": {},
   "outputs": [],
   "source": [
    "model = model_fn(keras.layers.Dropout(0.3))\n",
    "model.compile(optimizer=\"adam\", loss=\"sparse_categorical_crossentropy\", metrics=\"accuracy\")"
   ]
  },
  {
   "cell_type": "code",
   "execution_count": 76,
   "id": "668e8e8f",
   "metadata": {},
   "outputs": [
    {
     "data": {
      "text/plain": [
       "<keras.callbacks.History at 0x240b9c84ac0>"
      ]
     },
     "execution_count": 76,
     "metadata": {},
     "output_type": "execute_result"
    }
   ],
   "source": [
    "checkpoint_cb = keras.callbacks.ModelCheckpoint(\"best-model.h5\", save_best_only=True)\n",
    "model.fit(train_scaled, train_target, epochs=20,verbose=0, validation_data=(val_scaled, val_target), callbacks=[checkpoint_cb])"
   ]
  },
  {
   "cell_type": "code",
   "execution_count": 77,
   "id": "ab952399",
   "metadata": {},
   "outputs": [
    {
     "name": "stdout",
     "output_type": "stream",
     "text": [
      "375/375 [==============================] - 1s 1ms/step - loss: 0.3203 - accuracy: 0.8840\n"
     ]
    },
    {
     "data": {
      "text/plain": [
       "[0.3202531933784485, 0.8840000033378601]"
      ]
     },
     "execution_count": 77,
     "metadata": {},
     "output_type": "execute_result"
    }
   ],
   "source": [
    "model = keras.models.load_model(\"best-model.h5\")\n",
    "model.evaluate(val_scaled, val_target)"
   ]
  },
  {
   "cell_type": "markdown",
   "id": "1a4b7f59",
   "metadata": {},
   "source": [
    "## 조기종료\n",
    "\n",
    "* 과대적합이 시작되기전에 훈련을 미리 중지하는 것"
   ]
  },
  {
   "cell_type": "code",
   "execution_count": 78,
   "id": "8bbc19a7",
   "metadata": {},
   "outputs": [],
   "source": [
    "model = model_fn(keras.layers.Dropout(0.3))\n",
    "model.compile(optimizer=\"adam\", loss=\"sparse_categorical_crossentropy\",\n",
    "             metrics=\"accuracy\")\n",
    "checkpoint_cb = keras.callbacks.ModelCheckpoint(\"best-model.h5\", save_best_only=True)\n",
    "early_stopping_cb = keras.callbacks.EarlyStopping(patience=2, restore_best_weights=True)\n",
    "history = model.fit(train_scaled, train_target, epochs=20, verbose=0,\n",
    "                   validation_data=(val_scaled, val_target),\n",
    "                   callbacks=[checkpoint_cb, early_stopping_cb])"
   ]
  },
  {
   "cell_type": "code",
   "execution_count": 79,
   "id": "43f3fbc1",
   "metadata": {},
   "outputs": [
    {
     "name": "stdout",
     "output_type": "stream",
     "text": [
      "10\n"
     ]
    }
   ],
   "source": [
    "print(early_stopping_cb.stopped_epoch)"
   ]
  },
  {
   "cell_type": "code",
   "execution_count": 80,
   "id": "d8ab3ecd",
   "metadata": {},
   "outputs": [
    {
     "data": {
      "image/png": "[encoded data removed]",
      "text/plain": [
       "<Figure size 432x288 with 1 Axes>"
      ]
     },
     "metadata": {
      "needs_background": "light"
     },
     "output_type": "display_data"
    }
   ],
   "source": [
    "import matplotlib.pyplot as plt\n",
    "plt.plot(history.history[\"loss\"])\n",
    "plt.plot(history.history[\"val_loss\"])\n",
    "plt.xlabel(\"epoch\")\n",
    "plt.ylabel(\"loss\")\n",
    "plt.legend([\"train\", \"val\"])\n",
    "plt.show()"
   ]
  },
  {
   "cell_type": "markdown",
   "id": "6230f9d2",
   "metadata": {},
   "source": [
    "### 검증"
   ]
  },
  {
   "cell_type": "code",
   "execution_count": 81,
   "id": "05099cde",
   "metadata": {},
   "outputs": [
    {
     "name": "stdout",
     "output_type": "stream",
     "text": [
      "375/375 [==============================] - 1s 1ms/step - loss: 0.3261 - accuracy: 0.8813\n"
     ]
    },
    {
     "data": {
      "text/plain": [
       "[0.3260958790779114, 0.8812500238418579]"
      ]
     },
     "execution_count": 81,
     "metadata": {},
     "output_type": "execute_result"
    }
   ],
   "source": [
    "model.evaluate(val_scaled, val_target)"
   ]
  },
  {
   "cell_type": "markdown",
   "id": "602b3a8e",
   "metadata": {},
   "source": [
    "# 합성곱 신경망 CNN\n",
    "\n",
    "* 커널은 입력에 곱하는 가중치\n",
    "* 필터는 뉴런 개수를 표현할 때\n",
    "* 합성곱 계산을 통해 얻은 출력을 특별하게 특성 맵(feature map) 이라고한다.\n",
    "* 보통 3X3 이나 5X5 가 많이 사용된다."
   ]
  },
  {
   "cell_type": "markdown",
   "id": "cfc97a2b",
   "metadata": {},
   "source": [
    "## 합성공 신경망의 구성요소"
   ]
  },
  {
   "cell_type": "code",
   "execution_count": 82,
   "id": "d7b40b2f",
   "metadata": {},
   "outputs": [
    {
     "data": {
      "text/plain": [
       "<keras.layers.convolutional.Conv2D at 0x240b7b403a0>"
      ]
     },
     "execution_count": 82,
     "metadata": {},
     "output_type": "execute_result"
    }
   ],
   "source": [
    "from tensorflow import keras\n",
    "keras.layers.Conv2D(10, kernel_size=(3,3), activation='relu')"
   ]
  },
  {
   "cell_type": "markdown",
   "id": "3d379635",
   "metadata": {},
   "source": [
    "### 패딩\n",
    "\n",
    "* 하지만 (3X3)의 도장으로 찍기 시작하면 특성 사이즈가 축소하게 된다\n",
    "* 이를 방지하기위해 입력 배열의 주위를 가상의 원소로 채우는 것을 `패딩`이라고 한다.\n",
    ">1. 여기서 0으로 패딩하는 것을 세임패딩(same padding)\n",
    ">1. 그리고 패딩을 하지 않는 것을 밸리드 패딩(valid padding)\n",
    "\n",
    "이라고한다."
   ]
  },
  {
   "cell_type": "code",
   "execution_count": 83,
   "id": "46aad8b7",
   "metadata": {},
   "outputs": [
    {
     "data": {
      "text/plain": [
       "<keras.layers.convolutional.Conv2D at 0x240b7e353a0>"
      ]
     },
     "execution_count": 83,
     "metadata": {},
     "output_type": "execute_result"
    }
   ],
   "source": [
    "keras.layers.Conv2D(10, kernel_size=(3,3), activation=\"relu\", padding=\"same\")"
   ]
  },
  {
   "cell_type": "markdown",
   "id": "631cf952",
   "metadata": {},
   "source": [
    "### 스트라이드\n",
    "\n",
    "* 상하, 좌우를 1칸 씩 움직이는게 아니라 여러칸을 움직이는 것을 `스트라이드` stride 라고 한다.\n",
    "* 스트라이드는 기본값이 1이고, 다른값은 잘 사용하지 않는다"
   ]
  },
  {
   "cell_type": "code",
   "execution_count": 84,
   "id": "2eced5b9",
   "metadata": {},
   "outputs": [
    {
     "data": {
      "text/plain": [
       "<keras.layers.convolutional.Conv2D at 0x240b7e354f0>"
      ]
     },
     "execution_count": 84,
     "metadata": {},
     "output_type": "execute_result"
    }
   ],
   "source": [
    "keras.layers.Conv2D(10, kernel_size=(3,30), activation=\"relu\", padding=\"same\", strides =1)"
   ]
  },
  {
   "cell_type": "markdown",
   "id": "9d6a8d22",
   "metadata": {},
   "source": [
    "### 풀링\n",
    "\n",
    "* 4X4 입력값을 3가지의 3X3 필터로, 2X2 특성을 3개 만들면 (2,2,3) 의 특성맵이 생긴다\n",
    "* 이 (2,2,3)의 맵을 2x2의 필터로 찍어서 계산하면 (1,1,3)의 특성맵이 된다\n",
    "* 여기서 풀링에는 가중치가 없다, 가장 큰 값을 고르거나 평균값을 계산한다.\n",
    "* 이를 `최대풀링`(max pooling)과 `평균풀링`(average pooling) 이라고 부른다.\n",
    "* 즉 풀링은 가중치가 없고, 배열의 한 데이터에 2번씩 찍히지않는다."
   ]
  },
  {
   "cell_type": "code",
   "execution_count": 85,
   "id": "780605b6",
   "metadata": {},
   "outputs": [
    {
     "data": {
      "text/plain": [
       "keras.layers.pooling.AveragePooling2D"
      ]
     },
     "execution_count": 85,
     "metadata": {},
     "output_type": "execute_result"
    }
   ],
   "source": [
    "keras.layers.MaxPooling2D(2) # 최대풀링\n",
    "keras.layers.AveragePooling2D # 평균풀링"
   ]
  },
  {
   "cell_type": "markdown",
   "id": "fa1d2ce3",
   "metadata": {},
   "source": [
    "## 합성곱 신경망의 전체구조"
   ]
  },
  {
   "cell_type": "markdown",
   "id": "a92a6129",
   "metadata": {},
   "source": [
    "1. 데이터 준비\n",
    "1. 1번 합성곱 층(same padding)\n",
    "1. 1번 풀링 층(max pooling)\n",
    "1. 2번 합성곱 층\n",
    "1. 2번 풀링 층\n",
    "1. Flatten 층\n",
    "1. Dense은닉 층\n",
    "1. 드롭아웃 층\n",
    "1. Dense출력 층"
   ]
  },
  {
   "cell_type": "markdown",
   "id": "9282cf5c",
   "metadata": {},
   "source": [
    "**데이터 준비**"
   ]
  },
  {
   "cell_type": "code",
   "execution_count": 86,
   "id": "843ad63d",
   "metadata": {},
   "outputs": [],
   "source": [
    "from tensorflow import keras\n",
    "from sklearn.model_selection import train_test_split\n",
    "\n",
    "(train_input, train_target), (test_input, test_target) = keras.datasets.fashion_mnist.load_data()\n",
    "\n",
    "train_input, val_input, train_target, val_target = train_test_split(train_input, train_target,\n",
    "                                                                     test_size=0.2, random_state=42)\n",
    "\n",
    "# reshape를 해서 높이 차원을 1로 하면 train_test_split을 하면서 없어지게된다\n",
    "# 데이터를 다 나눈뒤 reshape를 해야한다.\n",
    "\n",
    "# reshape(-1,28,28,1)을 통해 input_shape 를 28,28,1 로 지정\n",
    "train_scaled = train_input.reshape(-1,28,28,1)/255.0\n",
    "test_scaled = test_input.reshape(-1,28,28,1)/255.0\n",
    "val_scaled = val_input.reshape(-1,28,28,1)/255.0"
   ]
  },
  {
   "cell_type": "code",
   "execution_count": 87,
   "id": "578b5d29",
   "metadata": {},
   "outputs": [
    {
     "data": {
      "text/plain": [
       "((48000, 28, 28),\n",
       " (48000, 28, 28, 1),\n",
       " (10000, 28, 28),\n",
       " (10000, 28, 28, 1),\n",
       " (12000, 28, 28, 1))"
      ]
     },
     "execution_count": 87,
     "metadata": {},
     "output_type": "execute_result"
    }
   ],
   "source": [
    "train_input.shape, train_scaled.shape, test_input.shape, test_scaled.shape, val_scaled.shape"
   ]
  },
  {
   "cell_type": "markdown",
   "id": "b9d4ea1b",
   "metadata": {},
   "source": [
    "**첫번째 합성곱 신경망**"
   ]
  },
  {
   "cell_type": "code",
   "execution_count": 88,
   "id": "23a56feb",
   "metadata": {},
   "outputs": [],
   "source": [
    "model = keras.Sequential()\n",
    "model.add(keras.layers.Conv2D(32, kernel_size=3, activation=\"relu\",\n",
    "         padding=\"same\", input_shape=(28,28,1)))\n",
    "# same padding 을 사용했으므로 28X28 은 동일하고 32개의 커널이므로 28X28X32 가 된다."
   ]
  },
  {
   "cell_type": "markdown",
   "id": "584e29bb",
   "metadata": {},
   "source": [
    "**첫번째 풀링**"
   ]
  },
  {
   "cell_type": "code",
   "execution_count": 89,
   "id": "3da2bb08",
   "metadata": {},
   "outputs": [],
   "source": [
    "model.add(keras.layers.MaxPooling2D(2))\n",
    "# 풀링을 2로 사용했으므로 14X14X32"
   ]
  },
  {
   "cell_type": "markdown",
   "id": "f26c83cb",
   "metadata": {},
   "source": [
    "**두번째 합성곱 신경망**"
   ]
  },
  {
   "cell_type": "code",
   "execution_count": 90,
   "id": "018daa3e",
   "metadata": {},
   "outputs": [],
   "source": [
    "model.add(keras.layers.Conv2D(64, kernel_size=3, activation=\"relu\",\n",
    "                              padding=\"same\"))\n",
    "# shape = 14X14X64"
   ]
  },
  {
   "cell_type": "markdown",
   "id": "cb257644",
   "metadata": {},
   "source": [
    "**두번째 풀링**"
   ]
  },
  {
   "cell_type": "code",
   "execution_count": 91,
   "id": "3ce75991",
   "metadata": {},
   "outputs": [],
   "source": [
    "model.add(keras.layers.MaxPooling2D(2))\n",
    "# shape = 7X7X64"
   ]
  },
  {
   "cell_type": "markdown",
   "id": "19c18708",
   "metadata": {},
   "source": [
    "**Flatten층**"
   ]
  },
  {
   "cell_type": "code",
   "execution_count": 92,
   "id": "9c5ecf76",
   "metadata": {},
   "outputs": [],
   "source": [
    "model.add(keras.layers.Flatten())"
   ]
  },
  {
   "cell_type": "markdown",
   "id": "7573446f",
   "metadata": {},
   "source": [
    "**Dense은닉층**"
   ]
  },
  {
   "cell_type": "code",
   "execution_count": 93,
   "id": "8ccd939c",
   "metadata": {},
   "outputs": [],
   "source": [
    "model.add(keras.layers.Dense(100,activation=\"relu\"))"
   ]
  },
  {
   "cell_type": "markdown",
   "id": "3f9ea22b",
   "metadata": {},
   "source": [
    "**드롭아웃**"
   ]
  },
  {
   "cell_type": "code",
   "execution_count": 94,
   "id": "0e0109ff",
   "metadata": {},
   "outputs": [],
   "source": [
    "model.add(keras.layers.Dropout(0.4))"
   ]
  },
  {
   "cell_type": "markdown",
   "id": "04ba7b03",
   "metadata": {},
   "source": [
    "**Dense출력층**"
   ]
  },
  {
   "cell_type": "code",
   "execution_count": 95,
   "id": "f85c7944",
   "metadata": {},
   "outputs": [],
   "source": [
    "model.add(keras.layers.Dense(10, activation=\"softmax\"))"
   ]
  },
  {
   "cell_type": "markdown",
   "id": "9abd4a4d",
   "metadata": {},
   "source": [
    "**정리**"
   ]
  },
  {
   "cell_type": "code",
   "execution_count": 96,
   "id": "e13212b9",
   "metadata": {},
   "outputs": [
    {
     "name": "stdout",
     "output_type": "stream",
     "text": [
      "Model: \"sequential_16\"\n",
      "_________________________________________________________________\n",
      " Layer (type)                Output Shape              Param #   \n",
      "=================================================================\n",
      " conv2d_3 (Conv2D)           (None, 28, 28, 32)        320       \n",
      "                                                                 \n",
      " max_pooling2d_1 (MaxPooling  (None, 14, 14, 32)       0         \n",
      " 2D)                                                             \n",
      "                                                                 \n",
      " conv2d_4 (Conv2D)           (None, 14, 14, 64)        18496     \n",
      "                                                                 \n",
      " max_pooling2d_2 (MaxPooling  (None, 7, 7, 64)         0         \n",
      " 2D)                                                             \n",
      "                                                                 \n",
      " flatten_13 (Flatten)        (None, 3136)              0         \n",
      "                                                                 \n",
      " dense_31 (Dense)            (None, 100)               313700    \n",
      "                                                                 \n",
      " dropout_5 (Dropout)         (None, 100)               0         \n",
      "                                                                 \n",
      " dense_32 (Dense)            (None, 10)                1010      \n",
      "                                                                 \n",
      "=================================================================\n",
      "Total params: 333,526\n",
      "Trainable params: 333,526\n",
      "Non-trainable params: 0\n",
      "_________________________________________________________________\n"
     ]
    }
   ],
   "source": [
    "model.summary()"
   ]
  },
  {
   "cell_type": "markdown",
   "id": "e7d27e55",
   "metadata": {},
   "source": [
    "### 요약"
   ]
  },
  {
   "cell_type": "code",
   "execution_count": 97,
   "id": "c0b9e490",
   "metadata": {},
   "outputs": [
    {
     "data": {
      "image/png": "[encoded data removed]",
      "text/plain": [
       "<IPython.core.display.Image object>"
      ]
     },
     "execution_count": 97,
     "metadata": {},
     "output_type": "execute_result"
    }
   ],
   "source": [
    "keras.utils.plot_model(model)"
   ]
  },
  {
   "cell_type": "code",
   "execution_count": 98,
   "id": "14508c66",
   "metadata": {},
   "outputs": [
    {
     "data": {
      "image/png": "[encoded data removed]",
      "text/plain": [
       "<IPython.core.display.Image object>"
      ]
     },
     "execution_count": 98,
     "metadata": {},
     "output_type": "execute_result"
    }
   ],
   "source": [
    "keras.utils.plot_model(model, show_shapes=True)"
   ]
  },
  {
   "cell_type": "markdown",
   "id": "6bf2a8bf",
   "metadata": {},
   "source": [
    "### 컴파일과 훈련"
   ]
  },
  {
   "cell_type": "markdown",
   "id": "04b7c4fd",
   "metadata": {},
   "source": [
    "**컴파일**"
   ]
  },
  {
   "cell_type": "code",
   "execution_count": 99,
   "id": "6a3b42e7",
   "metadata": {},
   "outputs": [],
   "source": [
    "model.compile(optimizer=\"adam\", loss=\"sparse_categorical_crossentropy\", metrics=\"accuracy\")"
   ]
  },
  {
   "cell_type": "markdown",
   "id": "ce8f4cb7",
   "metadata": {},
   "source": [
    "**콜백**"
   ]
  },
  {
   "cell_type": "code",
   "execution_count": 100,
   "id": "1a501370",
   "metadata": {},
   "outputs": [],
   "source": [
    "checkpoint_cb = keras.callbacks.ModelCheckpoint(\"best-cnn-model.h5\", save_best_only=True)"
   ]
  },
  {
   "cell_type": "markdown",
   "id": "186a9b6d",
   "metadata": {},
   "source": [
    "**조기종료**"
   ]
  },
  {
   "cell_type": "code",
   "execution_count": 101,
   "id": "e8ae4a49",
   "metadata": {},
   "outputs": [],
   "source": [
    "early_stopping_cb = keras.callbacks.EarlyStopping(patience=2, restore_best_weights=True)\n",
    "# restore_best_weights = True 를 하면 훈련이 끝나고 가장 높은 점수의 epoch로 돌아가있다."
   ]
  },
  {
   "cell_type": "markdown",
   "id": "2117fdc0",
   "metadata": {},
   "source": [
    "**훈련**"
   ]
  },
  {
   "cell_type": "code",
   "execution_count": 102,
   "id": "8a84be2e",
   "metadata": {},
   "outputs": [
    {
     "name": "stdout",
     "output_type": "stream",
     "text": [
      "Epoch 1/20\n",
      "1500/1500 [==============================] - 25s 16ms/step - loss: 0.5226 - accuracy: 0.8124 - val_loss: 0.3325 - val_accuracy: 0.8798\n",
      "Epoch 2/20\n",
      "1500/1500 [==============================] - 24s 16ms/step - loss: 0.3416 - accuracy: 0.8771 - val_loss: 0.2731 - val_accuracy: 0.8965\n",
      "Epoch 3/20\n",
      "1500/1500 [==============================] - 24s 16ms/step - loss: 0.2947 - accuracy: 0.8948 - val_loss: 0.2579 - val_accuracy: 0.9035\n",
      "Epoch 4/20\n",
      "1500/1500 [==============================] - 24s 16ms/step - loss: 0.2636 - accuracy: 0.9055 - val_loss: 0.2332 - val_accuracy: 0.9133\n",
      "Epoch 5/20\n",
      "1500/1500 [==============================] - 24s 16ms/step - loss: 0.2398 - accuracy: 0.9133 - val_loss: 0.2295 - val_accuracy: 0.9150\n",
      "Epoch 6/20\n",
      "1500/1500 [==============================] - 24s 16ms/step - loss: 0.2196 - accuracy: 0.9191 - val_loss: 0.2269 - val_accuracy: 0.9177\n",
      "Epoch 7/20\n",
      "1500/1500 [==============================] - 24s 16ms/step - loss: 0.2043 - accuracy: 0.9239 - val_loss: 0.2219 - val_accuracy: 0.9190\n",
      "Epoch 8/20\n",
      "1500/1500 [==============================] - 25s 16ms/step - loss: 0.1892 - accuracy: 0.9300 - val_loss: 0.2417 - val_accuracy: 0.9108\n",
      "Epoch 9/20\n",
      "1500/1500 [==============================] - 24s 16ms/step - loss: 0.1747 - accuracy: 0.9348 - val_loss: 0.2231 - val_accuracy: 0.9204\n"
     ]
    }
   ],
   "source": [
    "history = model.fit(train_scaled, train_target, epochs=20, validation_data=(val_scaled, val_target),\n",
    "                   callbacks=[checkpoint_cb, early_stopping_cb])"
   ]
  },
  {
   "cell_type": "markdown",
   "id": "b3078a2a",
   "metadata": {},
   "source": [
    "**그래프로 확인**"
   ]
  },
  {
   "cell_type": "code",
   "execution_count": 103,
   "id": "dffd23b1",
   "metadata": {},
   "outputs": [
    {
     "name": "stderr",
     "output_type": "stream",
     "text": [
      "C:\\Users\\user\\AppData\\Local\\Temp/ipykernel_7828/3107175652.py:6: UserWarning: Legend does not support 't' instances.\n",
      "A proxy artist may be used instead.\n",
      "See: https://matplotlib.org/users/legend_guide.html#creating-artists-specifically-for-adding-to-the-legend-aka-proxy-artists\n",
      "  plt.legend(\"train\", \"val\")\n",
      "C:\\Users\\user\\AppData\\Local\\Temp/ipykernel_7828/3107175652.py:6: UserWarning: Legend does not support 'r' instances.\n",
      "A proxy artist may be used instead.\n",
      "See: https://matplotlib.org/users/legend_guide.html#creating-artists-specifically-for-adding-to-the-legend-aka-proxy-artists\n",
      "  plt.legend(\"train\", \"val\")\n",
      "C:\\Users\\user\\AppData\\Local\\Temp/ipykernel_7828/3107175652.py:6: UserWarning: Legend does not support 'a' instances.\n",
      "A proxy artist may be used instead.\n",
      "See: https://matplotlib.org/users/legend_guide.html#creating-artists-specifically-for-adding-to-the-legend-aka-proxy-artists\n",
      "  plt.legend(\"train\", \"val\")\n"
     ]
    },
    {
     "data": {
      "image/png": "[encoded data removed]",
      "text/plain": [
       "<Figure size 432x288 with 1 Axes>"
      ]
     },
     "metadata": {
      "needs_background": "light"
     },
     "output_type": "display_data"
    }
   ],
   "source": [
    "import matplotlib.pyplot as plt\n",
    "plt.plot(history.history[\"loss\"])\n",
    "plt.plot(history.history[\"val_loss\"])\n",
    "plt.xlabel(\"epoch\")\n",
    "plt.ylabel(\"loss\")\n",
    "plt.legend(\"train\", \"val\")\n",
    "plt.show()"
   ]
  },
  {
   "cell_type": "code",
   "execution_count": 104,
   "id": "bd7a5421",
   "metadata": {},
   "outputs": [
    {
     "name": "stdout",
     "output_type": "stream",
     "text": [
      "375/375 [==============================] - 2s 6ms/step - loss: 0.2219 - accuracy: 0.9190\n"
     ]
    },
    {
     "data": {
      "text/plain": [
       "[0.22191022336483002, 0.9190000295639038]"
      ]
     },
     "execution_count": 104,
     "metadata": {},
     "output_type": "execute_result"
    }
   ],
   "source": [
    "model.evaluate(val_scaled, val_target)"
   ]
  },
  {
   "cell_type": "code",
   "execution_count": 105,
   "id": "ad1c2e64",
   "metadata": {},
   "outputs": [
    {
     "data": {
      "image/png": "[encoded data removed]",
      "text/plain": [
       "<Figure size 432x288 with 1 Axes>"
      ]
     },
     "metadata": {
      "needs_background": "light"
     },
     "output_type": "display_data"
    }
   ],
   "source": [
    "plt.imshow(val_scaled[0].reshape(28,28), cmap=\"gray_r\")\n",
    "# 맷플롯립의 흑백맵은 2차원이므로 reshape를 해준다.\n",
    "plt.show()"
   ]
  },
  {
   "cell_type": "code",
   "execution_count": 106,
   "id": "bd37b0e1",
   "metadata": {},
   "outputs": [
    {
     "name": "stdout",
     "output_type": "stream",
     "text": [
      "[[1.0242572e-15 3.3053570e-24 2.9880644e-18 4.1950532e-16 1.2223719e-17\n",
      "  1.3105835e-17 9.0791509e-18 2.3307886e-15 1.0000000e+00 1.8651465e-17]]\n"
     ]
    },
    {
     "data": {
      "image/png": "[encoded data removed]",
      "text/plain": [
       "<Figure size 432x288 with 1 Axes>"
      ]
     },
     "metadata": {
      "needs_background": "light"
     },
     "output_type": "display_data"
    }
   ],
   "source": [
    "preds = model.predict(val_scaled[0:1])\n",
    "# 인덱싱 이아니라 슬라이싱을 사용한 이유\n",
    "# 인덱싱은 차원이 부서지지만 슬라이싱은 전체 차원이 유진된다.\n",
    "# 인덱싱을 뽑을경우(28,28,1) 이되고\n",
    "# 슬라이싱은 (1,28,28,1) 이 된다.\n",
    "print(preds)\n",
    "plt.bar(range(1,11), preds[0])\n",
    "plt.xlabel(\"class\")\n",
    "plt.ylabel(\"prob.\")\n",
    "plt.show()\n",
    "# 이를통해 완전히 9라고 예측한 것을 알 수 있다."
   ]
  },
  {
   "cell_type": "markdown",
   "id": "8a423f5a",
   "metadata": {},
   "source": [
    "### 일반화 성능확인"
   ]
  },
  {
   "cell_type": "code",
   "execution_count": 107,
   "id": "98ed5551",
   "metadata": {},
   "outputs": [
    {
     "name": "stdout",
     "output_type": "stream",
     "text": [
      "313/313 [==============================] - 2s 7ms/step - loss: 0.2400 - accuracy: 0.9111\n"
     ]
    },
    {
     "data": {
      "text/plain": [
       "[0.23996052145957947, 0.9110999703407288]"
      ]
     },
     "execution_count": 107,
     "metadata": {},
     "output_type": "execute_result"
    }
   ],
   "source": [
    "model.evaluate(test_scaled, test_target)"
   ]
  },
  {
   "cell_type": "markdown",
   "id": "44cd6804",
   "metadata": {},
   "source": [
    "## 합성곱 신경망의 시각화"
   ]
  },
  {
   "cell_type": "markdown",
   "id": "90fed7ef",
   "metadata": {},
   "source": [
    "### 가중치의 시각화"
   ]
  },
  {
   "cell_type": "code",
   "execution_count": 108,
   "id": "995d2fd9",
   "metadata": {},
   "outputs": [
    {
     "data": {
      "text/plain": [
       "[<keras.layers.convolutional.Conv2D at 0x240b9910310>,\n",
       " <keras.layers.pooling.MaxPooling2D at 0x240b9910d30>,\n",
       " <keras.layers.convolutional.Conv2D at 0x240b7b35130>,\n",
       " <keras.layers.pooling.MaxPooling2D at 0x240b9908250>,\n",
       " <keras.layers.core.flatten.Flatten at 0x240b991c040>,\n",
       " <keras.layers.core.dense.Dense at 0x240b991c7f0>,\n",
       " <keras.layers.core.dropout.Dropout at 0x240b99206a0>,\n",
       " <keras.layers.core.dense.Dense at 0x240b982c670>]"
      ]
     },
     "execution_count": 108,
     "metadata": {},
     "output_type": "execute_result"
    }
   ],
   "source": [
    "from tensorflow import keras\n",
    "model = keras.models.load_model(\"best-cnn-model.h5\")\n",
    "model.layers"
   ]
  },
  {
   "cell_type": "code",
   "execution_count": 109,
   "id": "af92ea76",
   "metadata": {},
   "outputs": [
    {
     "name": "stdout",
     "output_type": "stream",
     "text": [
      "(3, 3, 1, 32) (32,)\n"
     ]
    }
   ],
   "source": [
    "conv = model.layers[0]\n",
    "print(conv.weights[0].shape, conv.weights[1].shape)"
   ]
  },
  {
   "cell_type": "code",
   "execution_count": 110,
   "id": "f6937064",
   "metadata": {},
   "outputs": [
    {
     "name": "stdout",
     "output_type": "stream",
     "text": [
      "-0.029640006 0.26917472\n"
     ]
    }
   ],
   "source": [
    "conv_weights = conv.weights[0].numpy()\n",
    "print(conv_weights.mean(), conv_weights.std())"
   ]
  },
  {
   "cell_type": "markdown",
   "id": "1110382f",
   "metadata": {},
   "source": [
    "#### 훈련모델의 가중치"
   ]
  },
  {
   "cell_type": "code",
   "execution_count": 111,
   "id": "6884c250",
   "metadata": {},
   "outputs": [
    {
     "data": {
      "image/png": "[encoded data removed]",
      "text/plain": [
       "<Figure size 432x288 with 1 Axes>"
      ]
     },
     "metadata": {
      "needs_background": "light"
     },
     "output_type": "display_data"
    }
   ],
   "source": [
    "import matplotlib.pyplot as plt\n",
    "plt.hist(conv_weights.reshape(-1, 1))\n",
    "plt.xlabel(\"weight\")\n",
    "plt.ylabel(\"count\")\n",
    "plt.show()"
   ]
  },
  {
   "cell_type": "code",
   "execution_count": 112,
   "id": "88e11a27",
   "metadata": {},
   "outputs": [
    {
     "data": {
      "image/png": "[encoded data removed]",
      "text/plain": [
       "<Figure size 1080x144 with 32 Axes>"
      ]
     },
     "metadata": {
      "needs_background": "light"
     },
     "output_type": "display_data"
    }
   ],
   "source": [
    "fig, axs = plt.subplots(2, 16, figsize=(15,2))\n",
    "for i in range(2):\n",
    "    for j in range(16):\n",
    "        axs[i, j].imshow(conv_weights[:,:,0,i*16 +j], vmin=-0.5, vmax=0.5)\n",
    "        axs[i, j].axis(\"off\")\n",
    "plt.show()"
   ]
  },
  {
   "cell_type": "markdown",
   "id": "697bf7c7",
   "metadata": {},
   "source": [
    "#### 훈련되지 않은 모델의 가중치"
   ]
  },
  {
   "cell_type": "code",
   "execution_count": 113,
   "id": "f1c6a1e4",
   "metadata": {},
   "outputs": [],
   "source": [
    "no_train_model = keras.Sequential()\n",
    "no_train_model.add(keras.layers.Conv2D(32, kernel_size=3, activation=\"relu\", padding=\"same\", input_shape=(28,28,1)))"
   ]
  },
  {
   "cell_type": "code",
   "execution_count": 114,
   "id": "954236c8",
   "metadata": {},
   "outputs": [
    {
     "name": "stdout",
     "output_type": "stream",
     "text": [
      "(3, 3, 1, 32)\n"
     ]
    }
   ],
   "source": [
    "no_training_conv = no_train_model.layers[0]\n",
    "print(no_training_conv.weights[0].shape)"
   ]
  },
  {
   "cell_type": "code",
   "execution_count": 115,
   "id": "a205d008",
   "metadata": {},
   "outputs": [
    {
     "name": "stdout",
     "output_type": "stream",
     "text": [
      "0.0052549606 0.080510065\n"
     ]
    }
   ],
   "source": [
    "no_training_weights = no_training_conv.weights[0].numpy()\n",
    "print(no_training_weights.mean(), no_training_weights.std())"
   ]
  },
  {
   "cell_type": "code",
   "execution_count": 116,
   "id": "f01bb91c",
   "metadata": {},
   "outputs": [
    {
     "data": {
      "image/png": "[encoded data removed]",
      "text/plain": [
       "<Figure size 432x288 with 1 Axes>"
      ]
     },
     "metadata": {
      "needs_background": "light"
     },
     "output_type": "display_data"
    }
   ],
   "source": [
    "plt.hist(no_training_weights.reshape(-1,1))\n",
    "plt.xlabel(\"weight\")\n",
    "plt.ylabel(\"count\")\n",
    "plt.show()"
   ]
  },
  {
   "cell_type": "code",
   "execution_count": 117,
   "id": "052002b9",
   "metadata": {},
   "outputs": [
    {
     "data": {
      "image/png": "[encoded data removed]",
      "text/plain": [
       "<Figure size 1080x144 with 32 Axes>"
      ]
     },
     "metadata": {
      "needs_background": "light"
     },
     "output_type": "display_data"
    }
   ],
   "source": [
    "fig, axs = plt.subplots(2, 16, figsize=(15,2))\n",
    "for i in range(2):\n",
    "    for j in range(16):\n",
    "        axs[i, j].imshow(no_training_weights[:,:,0,i*16+j], vmin=-0.5, vmax=0.5)\n",
    "        axs[i, j].axis(\"off\")\n",
    "plt.show()"
   ]
  },
  {
   "cell_type": "markdown",
   "id": "21bbd485",
   "metadata": {},
   "source": [
    "### 함수형 API\n",
    "\n",
    "```\n",
    "dense1 = keras.layers.Dense(100, activation=\"sigmoid\")\n",
    "dense2 = keras.layers.Dense(10, activation=\"softmax\")\n",
    "```\n",
    "을 통해 밀집층을 만들어 둔뒤 함수형 API 를 통과시켜 다음 값을 얻을 수 있다.\n",
    "\n",
    "```\n",
    "hidden = dense1(inputs)\n",
    "```\n",
    "\n",
    "```\n",
    "outputs = dense2(hidden)\n",
    "```\n",
    "\n",
    "```\n",
    "model = keras.Model(inputs, outputs)\n",
    "```\n",
    "\n",
    "```\n",
    "inputs = keras.Input(shape=(784,))\n",
    "```\n",
    "\n",
    "이러한 함수형 API 를 통해 합성곱층이 적용되었을때 출력과 다양한 것을 알 수 있다."
   ]
  },
  {
   "cell_type": "markdown",
   "id": "3f8e1f92",
   "metadata": {},
   "source": [
    "* **conv2d_input**"
   ]
  },
  {
   "cell_type": "code",
   "execution_count": 118,
   "id": "da9755fd",
   "metadata": {},
   "outputs": [
    {
     "name": "stdout",
     "output_type": "stream",
     "text": [
      "KerasTensor(type_spec=TensorSpec(shape=(None, 28, 28, 1), dtype=tf.float32, name='conv2d_3_input'), name='conv2d_3_input', description=\"created by layer 'conv2d_3_input'\")\n"
     ]
    }
   ],
   "source": [
    "print(model.input)"
   ]
  },
  {
   "cell_type": "markdown",
   "id": "b5c008b2",
   "metadata": {},
   "source": [
    "* **합성곱 층의 출력값을 이용한 새로운 모델**\n",
    "\n",
    ">1. model 객체의 predict() 메서드는 최종 출력층의 확률을 반환한다.\n",
    ">1. conv_acti 의 predict() 메서드는 Conv2D의 출력을 반환한다.\n",
    ">1. 이를 통해 합성곱 층이 반환한 이미지 세계의 시야를 볼 수 있다!"
   ]
  },
  {
   "cell_type": "code",
   "execution_count": 119,
   "id": "37b000d4",
   "metadata": {},
   "outputs": [],
   "source": [
    "conv_acti = keras.Model(model.input, model.layers[0].output)"
   ]
  },
  {
   "cell_type": "markdown",
   "id": "68ba4514",
   "metadata": {},
   "source": [
    "**원본 이미지**"
   ]
  },
  {
   "cell_type": "code",
   "execution_count": 120,
   "id": "dadafe2e",
   "metadata": {
    "scrolled": true
   },
   "outputs": [
    {
     "data": {
      "image/png": "[encoded data removed]",
      "text/plain": [
       "<Figure size 432x288 with 1 Axes>"
      ]
     },
     "metadata": {
      "needs_background": "light"
     },
     "output_type": "display_data"
    }
   ],
   "source": [
    "(train_input, train_target), (test_input, test_target) = keras.datasets.fashion_mnist.load_data()\n",
    "plt.imshow(train_input[0], cmap=\"gray_r\")\n",
    "plt.show()"
   ]
  },
  {
   "cell_type": "code",
   "execution_count": 121,
   "id": "a69614cf",
   "metadata": {},
   "outputs": [],
   "source": [
    "inputs = train_input[0:1].reshape(-1,28,28,1)/255.0\n",
    "feature_maps = conv_acti.predict(inputs)"
   ]
  },
  {
   "cell_type": "code",
   "execution_count": 122,
   "id": "3fb39703",
   "metadata": {},
   "outputs": [
    {
     "name": "stdout",
     "output_type": "stream",
     "text": [
      "(1, 28, 28, 32)\n"
     ]
    }
   ],
   "source": [
    "print(feature_maps.shape)"
   ]
  },
  {
   "cell_type": "markdown",
   "id": "9d86a21c",
   "metadata": {},
   "source": [
    "**32개의 합성곱층(1번째 합성곱층)의 활성화 영역으로 본 이미지** "
   ]
  },
  {
   "cell_type": "code",
   "execution_count": 123,
   "id": "66dd846b",
   "metadata": {},
   "outputs": [
    {
     "data": {
      "image/png": "[encoded data removed]",
      "text/plain": [
       "<Figure size 1080x144 with 32 Axes>"
      ]
     },
     "metadata": {
      "needs_background": "light"
     },
     "output_type": "display_data"
    }
   ],
   "source": [
    "fig, axs = plt.subplots(2, 16, figsize=(15, 2))\n",
    "for i in range(2):\n",
    "    for j in range(16):\n",
    "        axs[i, j].imshow(feature_maps[0,:,:,i*16 +j])\n",
    "        axs[i, j].axis(\"off\")\n",
    "plt.show()"
   ]
  },
  {
   "cell_type": "markdown",
   "id": "3b7083c8",
   "metadata": {},
   "source": [
    "**3X3커널의 모습과 비교**"
   ]
  },
  {
   "cell_type": "code",
   "execution_count": 124,
   "id": "0be4111d",
   "metadata": {},
   "outputs": [
    {
     "data": {
      "image/png": "[encoded data removed]",
      "text/plain": [
       "<Figure size 1080x144 with 32 Axes>"
      ]
     },
     "metadata": {
      "needs_background": "light"
     },
     "output_type": "display_data"
    }
   ],
   "source": [
    "fig, axs = plt.subplots(2, 16, figsize=(15,2))\n",
    "for i in range(2):\n",
    "    for j in range(16):\n",
    "        axs[i, j].imshow(conv_weights[:,:,0,i*16 +j], vmin=-0.5, vmax=0.5)\n",
    "        axs[i, j].axis(\"off\")\n",
    "plt.show()"
   ]
  },
  {
   "cell_type": "markdown",
   "id": "d3a7f0eb",
   "metadata": {},
   "source": [
    "**64개의 합성곱층(두번째 합성곱층)의 활성화영역으로 본 이미지**"
   ]
  },
  {
   "cell_type": "code",
   "execution_count": 125,
   "id": "5e1690e6",
   "metadata": {},
   "outputs": [
    {
     "name": "stdout",
     "output_type": "stream",
     "text": [
      "(3, 3, 32, 64) (64,)\n"
     ]
    },
    {
     "data": {
      "text/plain": [
       "(3, 3, 32, 64)"
      ]
     },
     "execution_count": 125,
     "metadata": {},
     "output_type": "execute_result"
    }
   ],
   "source": [
    "conv2 = model.layers[2]\n",
    "print(conv2.weights[0].shape, conv2.weights[1].shape)\n",
    "conv2_weights = conv2.weights[0].numpy()\n",
    "conv2_weights.shape"
   ]
  },
  {
   "cell_type": "code",
   "execution_count": 126,
   "id": "9143e2d8",
   "metadata": {},
   "outputs": [
    {
     "data": {
      "image/png": "[encoded data removed]",
      "text/plain": [
       "<Figure size 432x288 with 1 Axes>"
      ]
     },
     "metadata": {
      "needs_background": "light"
     },
     "output_type": "display_data"
    }
   ],
   "source": [
    "plt.hist(conv2_weights.reshape(-1, 1))\n",
    "plt.xlabel(\"weight\")\n",
    "plt.ylabel(\"count\")\n",
    "plt.show()"
   ]
  },
  {
   "cell_type": "code",
   "execution_count": 127,
   "id": "7becf3b6",
   "metadata": {},
   "outputs": [
    {
     "data": {
      "image/png": "[encoded data removed]",
      "text/plain": [
       "<Figure size 360x360 with 64 Axes>"
      ]
     },
     "metadata": {
      "needs_background": "light"
     },
     "output_type": "display_data"
    }
   ],
   "source": [
    "fig, axs = plt.subplots(8, 8, figsize=(5,5))\n",
    "for i in range(8):\n",
    "    for j in range(8):\n",
    "        axs[i, j].imshow(conv2_weights[:,:,0,i*8 +j], vmin=-0.5, vmax=0.5)\n",
    "        axs[i, j].axis(\"off\")\n",
    "plt.show()"
   ]
  },
  {
   "cell_type": "code",
   "execution_count": 128,
   "id": "83ee7de8",
   "metadata": {},
   "outputs": [
    {
     "name": "stdout",
     "output_type": "stream",
     "text": [
      "(1, 14, 14, 64)\n"
     ]
    }
   ],
   "source": [
    "conv2_acti = keras.Model(model.input, model.layers[2].output)\n",
    "inputs = train_input[0:1].reshape(-1, 28, 28, 1) /255.0\n",
    "feature_maps = conv2_acti.predict(inputs)\n",
    "print(feature_maps.shape)"
   ]
  },
  {
   "cell_type": "code",
   "execution_count": 129,
   "id": "96050b4e",
   "metadata": {},
   "outputs": [
    {
     "data": {
      "image/png": "[encoded data removed]",
      "text/plain": [
       "<Figure size 360x360 with 64 Axes>"
      ]
     },
     "metadata": {
      "needs_background": "light"
     },
     "output_type": "display_data"
    }
   ],
   "source": [
    "fig, axs = plt.subplots(8, 8, figsize=(5,5))\n",
    "for i in range(8):\n",
    "    for j in range(8):\n",
    "        axs[i, j].imshow(feature_maps[0,:,:,i*8+j])\n",
    "        axs[i, j].axis(\"off\")\n",
    "plt.show()"
   ]
  },
  {
   "cell_type": "markdown",
   "id": "c4d554c1",
   "metadata": {},
   "source": [
    "# 순환신경망 RNN"
   ]
  },
  {
   "cell_type": "markdown",
   "id": "4c17156b",
   "metadata": {},
   "source": [
    "* 순차 데이터(Sequential data)는 **텍스트**나 **시계열 데이터**와 같이 순서에 의미가 있는 데이터를 말한다.\n",
    "* 입력 데이터의 흐름이 앞으로만 전달되어 계산된 샘플은 버려지는 신경망을 **피드포워드 신경망(FFNN)** 이라고한다.\n",
    "* 합성곱 신경망(CNN)과 완전 연결 신경망(DNN)은 피드포워드 신경망에 속한다고 볼 수 있다.\n",
    "\n",
    "\n",
    "\n",
    "* 신경망이 이전에 처리했던 샘플을 다음 샘플을 위해 순환되어 재사용 할 수 있는 신경망이 **`순환신경망`**이다\n",
    "* 이렇게 샘플을 처리하는 한 단계를 **타임스텝(timestep)**이라고 한다.\n",
    "* 순환 신경망은 층을 **셀(cell)** 이라고 부른다.\n",
    "* 셀의 출력을 **은닉 상태**라고 부른다.\n",
    "* 순환층의 활성화 함수로는 **하이퍼볼릭 탄젠트(tanh)**가 많이 사용된다.\n",
    "* 순환층은 타임스텝에서 오는 가중치가 더해져 가중치가 2개이다.\n",
    "* 타임스텝1은 가중치가 없고 0이다.\n",
    "* 입력층 뉴런 a개, 순환층 뉴런 b개의 가중치 개수는 $a \\times b + b^2 + b$가 된다.\n",
    "* 또한 마지막 타임스텝은 은닉상태로 $h_f$로 받게된다.\n",
    "* 순환층은 마지막 출력이 1차원으로 Flatten 층이 필요없다."
   ]
  },
  {
   "cell_type": "markdown",
   "id": "023a6053",
   "metadata": {},
   "source": [
    "## 자연어 처리, 리뷰데이터분석\n",
    "\n",
    "* 자연어 처리(natural language processing, NLP)에서는 훈련데이터를 말뭉치(corpus)라고 부른다.\n",
    "* 1은 문장의 시작\n",
    "* 2는 어휘사전에 없는 토큰\n",
    "* 0은 패딩을 뜻한다."
   ]
  },
  {
   "cell_type": "markdown",
   "id": "1cc2a8e3",
   "metadata": {},
   "source": [
    "### 데이터 준비"
   ]
  },
  {
   "cell_type": "code",
   "execution_count": 130,
   "id": "b43e57e8",
   "metadata": {},
   "outputs": [],
   "source": [
    "from tensorflow.keras.datasets import imdb\n",
    "(train_input, train_target), (test_input, test_target) = imdb.load_data(num_words = 500)\n",
    "# 어휘사전에는 500개의 단어를 넣어뒀다"
   ]
  },
  {
   "cell_type": "code",
   "execution_count": 131,
   "id": "50bfd498",
   "metadata": {},
   "outputs": [
    {
     "name": "stdout",
     "output_type": "stream",
     "text": [
      "(25000,) (25000,)\n"
     ]
    }
   ],
   "source": [
    "# 샘플의 크기가 훈련과 테스트 각각 25000개\n",
    "print(train_input.shape, test_input.shape)"
   ]
  },
  {
   "cell_type": "code",
   "execution_count": 132,
   "id": "b44da066",
   "metadata": {},
   "outputs": [
    {
     "name": "stdout",
     "output_type": "stream",
     "text": [
      "218 189\n"
     ]
    }
   ],
   "source": [
    "# 훈련데이터의 각 데이터는 리스트로 이루어져있으며 그 길이는 다 다르다\n",
    "print(len(train_input[0]), len(train_input[1]))"
   ]
  },
  {
   "cell_type": "code",
   "execution_count": 133,
   "id": "4ef39b2d",
   "metadata": {},
   "outputs": [
    {
     "name": "stdout",
     "output_type": "stream",
     "text": [
      "[1, 14, 22, 16, 43, 2, 2, 2, 2, 65, 458, 2, 66, 2, 4, 173, 36, 256, 5, 25, 100, 43, 2, 112, 50, 2, 2, 9, 35, 480, 284, 5, 150, 4, 172, 112, 167, 2, 336, 385, 39, 4, 172, 2, 2, 17, 2, 38, 13, 447, 4, 192, 50, 16, 6, 147, 2, 19, 14, 22, 4, 2, 2, 469, 4, 22, 71, 87, 12, 16, 43, 2, 38, 76, 15, 13, 2, 4, 22, 17, 2, 17, 12, 16, 2, 18, 2, 5, 62, 386, 12, 8, 316, 8, 106, 5, 4, 2, 2, 16, 480, 66, 2, 33, 4, 130, 12, 16, 38, 2, 5, 25, 124, 51, 36, 135, 48, 25, 2, 33, 6, 22, 12, 215, 28, 77, 52, 5, 14, 407, 16, 82, 2, 8, 4, 107, 117, 2, 15, 256, 4, 2, 7, 2, 5, 2, 36, 71, 43, 2, 476, 26, 400, 317, 46, 7, 4, 2, 2, 13, 104, 88, 4, 381, 15, 297, 98, 32, 2, 56, 26, 141, 6, 194, 2, 18, 4, 226, 22, 21, 134, 476, 26, 480, 5, 144, 30, 2, 18, 51, 36, 28, 224, 92, 25, 104, 4, 226, 65, 16, 38, 2, 88, 12, 16, 283, 5, 16, 2, 113, 103, 32, 15, 16, 2, 19, 178, 32]\n"
     ]
    }
   ],
   "source": [
    "# 첫번째 데이터를 살펴보면 정수가 들어있다.\n",
    "# 여기서 2는 500개 단어의 어휘사전에 들어있지 않다는 뜻이다.\n",
    "print(train_input[0])"
   ]
  },
  {
   "cell_type": "code",
   "execution_count": 134,
   "id": "79b8acf9",
   "metadata": {},
   "outputs": [
    {
     "name": "stdout",
     "output_type": "stream",
     "text": [
      "[1 0 0 1 0 0 1 0 1 0 1 0 0 0 0 0 1 1 0 1]\n"
     ]
    }
   ],
   "source": [
    "# 타깃 데이터 출력\n",
    "# 즉 리뷰가 긍정인지 부정인지를 판단하는 것이다.\n",
    "print(train_target[:20])"
   ]
  },
  {
   "cell_type": "markdown",
   "id": "17549244",
   "metadata": {},
   "source": [
    "훈련세트에서 검증세트를 떼어 두자."
   ]
  },
  {
   "cell_type": "code",
   "execution_count": 135,
   "id": "8c907e58",
   "metadata": {},
   "outputs": [],
   "source": [
    "from sklearn.model_selection import train_test_split\n",
    "train_input, val_input, train_target, val_target = train_test_split(train_input, train_target, test_size=0.2,\n",
    "                                                                    random_state=42 )"
   ]
  },
  {
   "cell_type": "markdown",
   "id": "e76a0fe9",
   "metadata": {},
   "source": [
    "각 리뷰의 길이를 계산하여 넘파이 배열에 저장\n",
    "> 평균적인 리뷰의 길이와, 가장 짧은 리뷰의 길이, 가장 긴 리뷰의 길이를 확인하기 위해"
   ]
  },
  {
   "cell_type": "code",
   "execution_count": 136,
   "id": "7a270e3f",
   "metadata": {},
   "outputs": [],
   "source": [
    "import numpy as np\n",
    "lengths = np.array([len(x) for x in train_input])"
   ]
  },
  {
   "cell_type": "code",
   "execution_count": 137,
   "id": "09e6be42",
   "metadata": {},
   "outputs": [
    {
     "name": "stdout",
     "output_type": "stream",
     "text": [
      "239.00925 178.0\n"
     ]
    }
   ],
   "source": [
    "print(np.mean(lengths), np.median(lengths))"
   ]
  },
  {
   "cell_type": "code",
   "execution_count": 138,
   "id": "bd463426",
   "metadata": {},
   "outputs": [
    {
     "data": {
      "image/png": "[encoded data removed]",
      "text/plain": [
       "<Figure size 432x288 with 1 Axes>"
      ]
     },
     "metadata": {
      "needs_background": "light"
     },
     "output_type": "display_data"
    }
   ],
   "source": [
    "import matplotlib.pyplot as plt\n",
    "plt.hist(lengths)\n",
    "plt.xlabel(\"length\")\n",
    "plt.ylabel(\"frequency\")\n",
    "plt.show()\n",
    "# 데이터가 한쪽으로 치우친것을 확인할 수 잇다."
   ]
  },
  {
   "cell_type": "markdown",
   "id": "31bcbefa",
   "metadata": {},
   "source": [
    "### 시퀸스데이터 길이조절\n",
    "\n",
    "`pad_sequences()`\n",
    "* maxlen를 지정하고 그 보다 긴경우는 잘라내고, 짧은경우는 0으로 패딩한다.\n",
    "* 패딩을 할때는 기본으로 앞부분을 0으로 채우게 된다.\n",
    "* 뒷부분에 패딩을 하려면 매개변수`padding=\"post\"`를 통해 바꿀 수 있다.\n",
    "\n",
    "\n",
    "* 길이가 긴 경우 기본으로 앞부분을 잘라낸다. 뒷부분의 정보가 유용할것으로 예상하고 설정되었다.\n",
    "* 뒷부분을 잘라내고 싶다면 매개변수`truncating=\"post\"`를 통해 바꿀 수 있다."
   ]
  },
  {
   "cell_type": "code",
   "execution_count": 139,
   "id": "c4ef10b9",
   "metadata": {},
   "outputs": [],
   "source": [
    "from tensorflow.keras.preprocessing.sequence import pad_sequences\n",
    "train_seq = pad_sequences(train_input, maxlen=100)\n",
    "val_seq = pad_sequences(val_input, maxlen=100)"
   ]
  },
  {
   "cell_type": "code",
   "execution_count": 140,
   "id": "b3ad6414",
   "metadata": {},
   "outputs": [
    {
     "name": "stdout",
     "output_type": "stream",
     "text": [
      "(20000,) (20000, 100)\n"
     ]
    }
   ],
   "source": [
    "print(train_input.shape, train_seq.shape)\n",
    "# train_input은 리스트로 이루어진 배열이였지만\n",
    "# train_seq에서 리스트를 길이 100으로 제한하며 풀어내고 20000,100 의 2차원 배열로 만듬"
   ]
  },
  {
   "cell_type": "code",
   "execution_count": 141,
   "id": "c68ffe56",
   "metadata": {},
   "outputs": [
    {
     "name": "stdout",
     "output_type": "stream",
     "text": [
      "[ 10   4  20   9   2 364 352   5  45   6   2   2  33 269   8   2 142   2\n",
      "   5   2  17  73  17 204   5   2  19  55   2   2  92  66 104  14  20  93\n",
      "  76   2 151  33   4  58  12 188   2 151  12 215  69 224 142  73 237   6\n",
      "   2   7   2   2 188   2 103  14  31  10  10 451   7   2   5   2  80  91\n",
      "   2  30   2  34  14  20 151  50  26 131  49   2  84  46  50  37  80  79\n",
      "   6   2  46   7  14  20  10  10 470 158]\n"
     ]
    }
   ],
   "source": [
    "print(train_seq[0])\n",
    "# 샘플의 앞뒤에 패딩값 0 이 없는 것을 보면 100보다 길었을 것으로 볼 수 있다."
   ]
  },
  {
   "cell_type": "code",
   "execution_count": 142,
   "id": "0ace76bb",
   "metadata": {},
   "outputs": [
    {
     "name": "stdout",
     "output_type": "stream",
     "text": [
      "[6, 2, 46, 7, 14, 20, 10, 10, 470, 158]\n",
      "[1, 73, 89, 81, 25, 60, 2, 6, 20, 141]\n"
     ]
    }
   ],
   "source": [
    "print(train_input[0][-10:]) # 훈련데이터의 뒷부분 10개\n",
    "print(train_input[0][:10]) # 훈련데이터의 앞부분 10개\n",
    "# 앞뒤를 확인해본결과 훈련데이터의 앞부분이 잘린것을 확인할 수 있다."
   ]
  },
  {
   "cell_type": "code",
   "execution_count": 143,
   "id": "49b480b1",
   "metadata": {},
   "outputs": [
    {
     "name": "stdout",
     "output_type": "stream",
     "text": [
      "[  0   0   0   0   1   2 195  19  49   2   2 190   4   2 352   2 183  10\n",
      "  10  13  82  79   4   2  36  71 269   8   2  25  19  49   7   4   2   2\n",
      "   2   2   2  10  10  48  25  40   2  11   2   2  40   2   2   5   4   2\n",
      "   2  95  14 238  56 129   2  10  10  21   2  94 364 352   2   2  11 190\n",
      "  24 484   2   7  94 205 405  10  10  87   2  34  49   2   7   2   2   2\n",
      "   2   2 290   2  46  48  64  18   4   2]\n"
     ]
    }
   ],
   "source": [
    "print(train_seq[5])\n",
    "# 앞부분에 0이 있는 것으로 원래 길이가 100이 되지 않았다는 것을 확인할 수 있다."
   ]
  },
  {
   "cell_type": "markdown",
   "id": "31482cbb",
   "metadata": {},
   "source": [
    "### 순환신경망 만들기\n",
    "\n",
    "`SimpleRNN`클래스를 이용하기"
   ]
  },
  {
   "cell_type": "code",
   "execution_count": 144,
   "id": "d910d1e7",
   "metadata": {},
   "outputs": [],
   "source": [
    "from tensorflow import keras\n",
    "model = keras.Sequential()\n",
    "model.add(keras.layers.SimpleRNN(8, input_shape = (100,500)))\n",
    "# input_shape 를 100,500 으로 한 이유\n",
    "# 100 -> 샘플의 길이를 100으로 했기때문\n",
    "# 500 -> 어휘사전의 길이가 500이기 때문\n",
    "model.add(keras.layers.Dense(1, activation=\"sigmoid\"))"
   ]
  },
  {
   "cell_type": "markdown",
   "id": "b562cb35",
   "metadata": {},
   "source": [
    "#### 원-핫 인코딩\n",
    "\n",
    "* 출력층에서 만든 확률과 크로스 엔트로피 손실을 계산하기 위해\n",
    "* `to_categorical()`함수를 통해 자동으로 배열을 반환"
   ]
  },
  {
   "cell_type": "code",
   "execution_count": 145,
   "id": "16d31dc9",
   "metadata": {},
   "outputs": [
    {
     "data": {
      "text/plain": [
       "(20000, 100, 500)"
      ]
     },
     "execution_count": 145,
     "metadata": {},
     "output_type": "execute_result"
    }
   ],
   "source": [
    "train_oh = keras.utils.to_categorical(train_seq)\n",
    "val_oh = keras.utils.to_categorical(val_seq)\n",
    "train_oh.shape"
   ]
  },
  {
   "cell_type": "code",
   "execution_count": 146,
   "id": "7dc599de",
   "metadata": {},
   "outputs": [
    {
     "name": "stdout",
     "output_type": "stream",
     "text": [
      "[0. 0. 0. 0. 0. 0. 0. 0. 0. 0. 1. 0.]\n"
     ]
    }
   ],
   "source": [
    "print(train_oh[0][0][:12])"
   ]
  },
  {
   "cell_type": "code",
   "execution_count": 147,
   "id": "660f6462",
   "metadata": {},
   "outputs": [
    {
     "name": "stdout",
     "output_type": "stream",
     "text": [
      "1.0\n"
     ]
    }
   ],
   "source": [
    "print(np.sum(train_oh[0][0]))"
   ]
  },
  {
   "cell_type": "code",
   "execution_count": 148,
   "id": "fc519410",
   "metadata": {},
   "outputs": [
    {
     "name": "stdout",
     "output_type": "stream",
     "text": [
      "Model: \"sequential_18\"\n",
      "_________________________________________________________________\n",
      " Layer (type)                Output Shape              Param #   \n",
      "=================================================================\n",
      " simple_rnn (SimpleRNN)      (None, 8)                 4072      \n",
      "                                                                 \n",
      " dense_33 (Dense)            (None, 1)                 9         \n",
      "                                                                 \n",
      "=================================================================\n",
      "Total params: 4,081\n",
      "Trainable params: 4,081\n",
      "Non-trainable params: 0\n",
      "_________________________________________________________________\n"
     ]
    }
   ],
   "source": [
    "model.summary()\n",
    "# 전달된 샘플의 크기는 (100,500)이지만\n",
    "# output은 뉴런의 개수인 8 인것을 볼 수 있다.\n",
    "# 파라미터수 계산해보기\n",
    "# 500*8 = 4000\n",
    "# 8*8 = 64\n",
    "# 8\n",
    "# 파라미터수 => 4072개 "
   ]
  },
  {
   "cell_type": "markdown",
   "id": "0340799d",
   "metadata": {},
   "source": [
    "### 순환신경망 훈련하기"
   ]
  },
  {
   "cell_type": "code",
   "execution_count": 149,
   "id": "70b97231",
   "metadata": {},
   "outputs": [
    {
     "name": "stdout",
     "output_type": "stream",
     "text": [
      "Epoch 1/100\n",
      "313/313 [==============================] - 8s 22ms/step - loss: 0.6957 - accuracy: 0.5268 - val_loss: 0.6790 - val_accuracy: 0.5706\n",
      "Epoch 2/100\n",
      "313/313 [==============================] - 7s 21ms/step - loss: 0.6683 - accuracy: 0.5979 - val_loss: 0.6532 - val_accuracy: 0.6230\n",
      "Epoch 3/100\n",
      "313/313 [==============================] - 7s 21ms/step - loss: 0.6426 - accuracy: 0.6388 - val_loss: 0.6312 - val_accuracy: 0.6518\n",
      "Epoch 4/100\n",
      "313/313 [==============================] - 6s 21ms/step - loss: 0.6168 - accuracy: 0.6780 - val_loss: 0.6067 - val_accuracy: 0.6894\n",
      "Epoch 5/100\n",
      "313/313 [==============================] - 6s 21ms/step - loss: 0.5924 - accuracy: 0.7060 - val_loss: 0.5854 - val_accuracy: 0.7110\n",
      "Epoch 6/100\n",
      "313/313 [==============================] - 6s 21ms/step - loss: 0.5718 - accuracy: 0.7272 - val_loss: 0.5682 - val_accuracy: 0.7286\n",
      "Epoch 7/100\n",
      "313/313 [==============================] - 7s 21ms/step - loss: 0.5544 - accuracy: 0.7417 - val_loss: 0.5517 - val_accuracy: 0.7390\n",
      "Epoch 8/100\n",
      "313/313 [==============================] - 7s 21ms/step - loss: 0.5402 - accuracy: 0.7519 - val_loss: 0.5409 - val_accuracy: 0.7508\n",
      "Epoch 9/100\n",
      "313/313 [==============================] - 6s 20ms/step - loss: 0.5272 - accuracy: 0.7617 - val_loss: 0.5308 - val_accuracy: 0.7506\n",
      "Epoch 10/100\n",
      "313/313 [==============================] - 6s 20ms/step - loss: 0.5157 - accuracy: 0.7681 - val_loss: 0.5243 - val_accuracy: 0.7524\n",
      "Epoch 11/100\n",
      "313/313 [==============================] - 6s 20ms/step - loss: 0.5055 - accuracy: 0.7746 - val_loss: 0.5144 - val_accuracy: 0.7616\n",
      "Epoch 12/100\n",
      "313/313 [==============================] - 7s 21ms/step - loss: 0.4971 - accuracy: 0.7791 - val_loss: 0.5055 - val_accuracy: 0.7680\n",
      "Epoch 13/100\n",
      "313/313 [==============================] - 6s 21ms/step - loss: 0.4883 - accuracy: 0.7836 - val_loss: 0.4972 - val_accuracy: 0.7762\n",
      "Epoch 14/100\n",
      "313/313 [==============================] - 7s 21ms/step - loss: 0.4805 - accuracy: 0.7888 - val_loss: 0.4918 - val_accuracy: 0.7776\n",
      "Epoch 15/100\n",
      "313/313 [==============================] - 6s 20ms/step - loss: 0.4744 - accuracy: 0.7915 - val_loss: 0.4885 - val_accuracy: 0.7768\n",
      "Epoch 16/100\n",
      "313/313 [==============================] - 6s 21ms/step - loss: 0.4678 - accuracy: 0.7961 - val_loss: 0.4833 - val_accuracy: 0.7794\n",
      "Epoch 17/100\n",
      "313/313 [==============================] - 6s 20ms/step - loss: 0.4626 - accuracy: 0.7968 - val_loss: 0.4802 - val_accuracy: 0.7766\n",
      "Epoch 18/100\n",
      "313/313 [==============================] - 6s 21ms/step - loss: 0.4582 - accuracy: 0.7986 - val_loss: 0.4778 - val_accuracy: 0.7760\n",
      "Epoch 19/100\n",
      "313/313 [==============================] - 6s 20ms/step - loss: 0.4537 - accuracy: 0.8002 - val_loss: 0.4723 - val_accuracy: 0.7824\n",
      "Epoch 20/100\n",
      "313/313 [==============================] - 6s 21ms/step - loss: 0.4491 - accuracy: 0.8030 - val_loss: 0.4720 - val_accuracy: 0.7808\n",
      "Epoch 21/100\n",
      "313/313 [==============================] - 6s 21ms/step - loss: 0.4454 - accuracy: 0.8041 - val_loss: 0.4672 - val_accuracy: 0.7838\n",
      "Epoch 22/100\n",
      "313/313 [==============================] - 7s 21ms/step - loss: 0.4420 - accuracy: 0.8065 - val_loss: 0.4657 - val_accuracy: 0.7880\n",
      "Epoch 23/100\n",
      "313/313 [==============================] - 6s 20ms/step - loss: 0.4394 - accuracy: 0.8066 - val_loss: 0.4675 - val_accuracy: 0.7806\n",
      "Epoch 24/100\n",
      "313/313 [==============================] - 6s 20ms/step - loss: 0.4367 - accuracy: 0.8077 - val_loss: 0.4626 - val_accuracy: 0.7896\n",
      "Epoch 25/100\n",
      "313/313 [==============================] - 6s 21ms/step - loss: 0.4345 - accuracy: 0.8086 - val_loss: 0.4593 - val_accuracy: 0.7912\n",
      "Epoch 26/100\n",
      "313/313 [==============================] - 6s 21ms/step - loss: 0.4316 - accuracy: 0.8092 - val_loss: 0.4605 - val_accuracy: 0.7860\n",
      "Epoch 27/100\n",
      "313/313 [==============================] - 6s 21ms/step - loss: 0.4289 - accuracy: 0.8108 - val_loss: 0.4589 - val_accuracy: 0.7902\n",
      "Epoch 28/100\n",
      "313/313 [==============================] - 6s 21ms/step - loss: 0.4271 - accuracy: 0.8112 - val_loss: 0.4578 - val_accuracy: 0.7888\n",
      "Epoch 29/100\n",
      "313/313 [==============================] - 7s 21ms/step - loss: 0.4251 - accuracy: 0.8118 - val_loss: 0.4589 - val_accuracy: 0.7886\n",
      "Epoch 30/100\n",
      "313/313 [==============================] - 6s 21ms/step - loss: 0.4235 - accuracy: 0.8131 - val_loss: 0.4550 - val_accuracy: 0.7912\n",
      "Epoch 31/100\n",
      "313/313 [==============================] - 6s 21ms/step - loss: 0.4213 - accuracy: 0.8138 - val_loss: 0.4538 - val_accuracy: 0.7912\n",
      "Epoch 32/100\n",
      "313/313 [==============================] - 6s 20ms/step - loss: 0.4194 - accuracy: 0.8146 - val_loss: 0.4577 - val_accuracy: 0.7914\n",
      "Epoch 33/100\n",
      "313/313 [==============================] - 6s 20ms/step - loss: 0.4178 - accuracy: 0.8173 - val_loss: 0.4545 - val_accuracy: 0.7888\n",
      "Epoch 34/100\n",
      "313/313 [==============================] - 6s 21ms/step - loss: 0.4164 - accuracy: 0.8160 - val_loss: 0.4547 - val_accuracy: 0.7908\n",
      "Epoch 35/100\n",
      "313/313 [==============================] - 6s 21ms/step - loss: 0.4158 - accuracy: 0.8165 - val_loss: 0.4518 - val_accuracy: 0.7920\n",
      "Epoch 36/100\n",
      "313/313 [==============================] - 6s 21ms/step - loss: 0.4143 - accuracy: 0.8169 - val_loss: 0.4511 - val_accuracy: 0.7916\n",
      "Epoch 37/100\n",
      "313/313 [==============================] - 7s 21ms/step - loss: 0.4130 - accuracy: 0.8180 - val_loss: 0.4511 - val_accuracy: 0.7920\n",
      "Epoch 38/100\n",
      "313/313 [==============================] - 6s 20ms/step - loss: 0.4119 - accuracy: 0.8191 - val_loss: 0.4554 - val_accuracy: 0.7860\n",
      "Epoch 39/100\n",
      "313/313 [==============================] - 6s 21ms/step - loss: 0.4108 - accuracy: 0.8209 - val_loss: 0.4502 - val_accuracy: 0.7898\n",
      "Epoch 40/100\n",
      "313/313 [==============================] - 6s 20ms/step - loss: 0.4096 - accuracy: 0.8196 - val_loss: 0.4497 - val_accuracy: 0.7900\n",
      "Epoch 41/100\n",
      "313/313 [==============================] - 7s 21ms/step - loss: 0.4088 - accuracy: 0.8205 - val_loss: 0.4532 - val_accuracy: 0.7922\n",
      "Epoch 42/100\n",
      "313/313 [==============================] - 6s 21ms/step - loss: 0.4076 - accuracy: 0.8209 - val_loss: 0.4502 - val_accuracy: 0.7900\n",
      "Epoch 43/100\n",
      "313/313 [==============================] - 6s 21ms/step - loss: 0.4064 - accuracy: 0.8210 - val_loss: 0.4520 - val_accuracy: 0.7918\n",
      "Epoch 44/100\n",
      "313/313 [==============================] - 6s 20ms/step - loss: 0.4057 - accuracy: 0.8213 - val_loss: 0.4528 - val_accuracy: 0.7922\n",
      "Epoch 45/100\n",
      "313/313 [==============================] - 6s 20ms/step - loss: 0.4048 - accuracy: 0.8225 - val_loss: 0.4498 - val_accuracy: 0.7922\n"
     ]
    }
   ],
   "source": [
    "rmsprop = keras.optimizers.RMSprop(learning_rate=1e-4)\n",
    "model.compile(optimizer=rmsprop, loss=\"binary_crossentropy\", metrics=[\"accuracy\"])\n",
    "checkpoint_cb = keras.callbacks.ModelCheckpoint(\"best-simplernn-model.h5\", save_best_only=True)\n",
    "early_stopping_cb = keras.callbacks.EarlyStopping(patience=5, restore_best_weights=True)\n",
    "history = model.fit(train_oh, train_target, epochs=100, batch_size=64,\n",
    "                    validation_data=(val_oh, val_target),\n",
    "                   callbacks=[checkpoint_cb, early_stopping_cb])"
   ]
  },
  {
   "cell_type": "code",
   "execution_count": 151,
   "id": "609e30e0",
   "metadata": {},
   "outputs": [
    {
     "data": {
      "image/png": "[encoded data removed]",
      "text/plain": [
       "<Figure size 432x288 with 1 Axes>"
      ]
     },
     "metadata": {
      "needs_background": "light"
     },
     "output_type": "display_data"
    }
   ],
   "source": [
    "plt.plot(history.history[\"loss\"])\n",
    "plt.plot(history.history[\"val_loss\"])\n",
    "plt.xlabel(\"epoch\")\n",
    "plt.ylabel(\"loss\")\n",
    "plt.legend([\"train\", \"val\"])\n",
    "plt.show()"
   ]
  },
  {
   "cell_type": "code",
   "execution_count": 152,
   "id": "3c0db2fb",
   "metadata": {},
   "outputs": [
    {
     "data": {
      "image/png": "[encoded data removed]",
      "text/plain": [
       "<Figure size 432x288 with 1 Axes>"
      ]
     },
     "metadata": {
      "needs_background": "light"
     },
     "output_type": "display_data"
    }
   ],
   "source": [
    "plt.plot(history.history[\"accuracy\"])\n",
    "plt.plot(history.history[\"val_accuracy\"])\n",
    "plt.xlabel(\"epoch\")\n",
    "plt.ylabel(\"accuracy\")\n",
    "plt.legend([\"train\", \"val\"])\n",
    "plt.show()"
   ]
  },
  {
   "cell_type": "markdown",
   "id": "3a9f1664",
   "metadata": {},
   "source": [
    "* 대략 20번째 epoch 부터 val_loss의 감소가 둔해지는 것을 볼 수 있다.\n",
    "* 원-핫 인코딩의 단점은 입력데이터가 엄청나게 커진다는 것이다."
   ]
  },
  {
   "cell_type": "code",
   "execution_count": 153,
   "id": "474f56af",
   "metadata": {},
   "outputs": [
    {
     "name": "stdout",
     "output_type": "stream",
     "text": [
      "8000000 4000000000\n"
     ]
    }
   ],
   "source": [
    "print(train_seq.nbytes, train_oh.nbytes)"
   ]
  },
  {
   "cell_type": "markdown",
   "id": "f0b69030",
   "metadata": {},
   "source": [
    "## 단어 임베딩 사용하기\n",
    "\n",
    "`word embedding`\n",
    "\n",
    "* 각 단어를 고정된 크기의 실수 벡터로 바꿔준다\n",
    "* 이런 벡터는 원-핫 인코딩된 벡터보다 훨씬 의미 있는 값으로 채워져 있어서 자연어 처리에서 더 좋은 성능을 내는 경우가 많다\n",
    "* 이 클래스를 다른 층처럼 모델에 추가하면 처음에는 모든 벡터가 랜덤하게 초기화되지만 훈련을 통해 데이터에서 좋은 단어 임베딩을 학습한다.\n",
    "* 단어 임베딩의 장점은 정수 데이터를 받는다는 것이다.\n",
    "* 즉 train_oh 배열이 아니라, train_seq를 사용할 수 있어서 메모리를 훨씬 효율적으로 사용할 수 있다.\n",
    "* 원-핫 인코딩은 샘플1개를 500차원으로 늘렸기 때문에 (100, ) -> (100, 500)으로 커졌다.\n",
    "* 임베딩은 (100, ) -> (100, 20) 으로 훨씬 작은 크기로도 단어를 잘 표현할 수 있다."
   ]
  },
  {
   "cell_type": "code",
   "execution_count": 154,
   "id": "cf2a5a2b",
   "metadata": {},
   "outputs": [],
   "source": [
    "model2 = keras.Sequential()\n",
    "model2.add(keras.layers.Embedding(500, 16, input_length=100))\n",
    "# 임베딩의 매개변수\n",
    "# 첫번째 : 어휘사전 크기\n",
    "# 두번째 : 임베딩 벡터의 크기\n",
    "# 세번째 : 입력 시퀸스의 길이 -> 샘플의 길이를 100으로 만들었기 때문에 100으로 설정\n",
    "model2.add(keras.layers.SimpleRNN(8))\n",
    "model2.add(keras.layers.Dense(1, activation=\"sigmoid\"))"
   ]
  },
  {
   "cell_type": "code",
   "execution_count": 155,
   "id": "00166c54",
   "metadata": {},
   "outputs": [
    {
     "name": "stdout",
     "output_type": "stream",
     "text": [
      "Model: \"sequential_19\"\n",
      "_________________________________________________________________\n",
      " Layer (type)                Output Shape              Param #   \n",
      "=================================================================\n",
      " embedding (Embedding)       (None, 100, 16)           8000      \n",
      "                                                                 \n",
      " simple_rnn_1 (SimpleRNN)    (None, 8)                 200       \n",
      "                                                                 \n",
      " dense_34 (Dense)            (None, 1)                 9         \n",
      "                                                                 \n",
      "=================================================================\n",
      "Total params: 8,209\n",
      "Trainable params: 8,209\n",
      "Non-trainable params: 0\n",
      "_________________________________________________________________\n"
     ]
    }
   ],
   "source": [
    "model2.summary()\n",
    "# 파라미터 개수\n",
    "# 임베딩 : 500개의 각 토큰을 16 벡터로 변경하기 때문에 500X16 = 8000\n",
    "# simpleRNN : 16 X 8 = 128, 8 X 8 =64,  8 => 128+64+8 = 200"
   ]
  },
  {
   "cell_type": "code",
   "execution_count": 156,
   "id": "4f60e823",
   "metadata": {},
   "outputs": [
    {
     "name": "stdout",
     "output_type": "stream",
     "text": [
      "Epoch 1/100\n",
      "313/313 [==============================] - 8s 21ms/step - loss: 0.6695 - accuracy: 0.5910 - val_loss: 0.6369 - val_accuracy: 0.6608\n",
      "Epoch 2/100\n",
      "313/313 [==============================] - 6s 20ms/step - loss: 0.6088 - accuracy: 0.6993 - val_loss: 0.5915 - val_accuracy: 0.7156\n",
      "Epoch 3/100\n",
      "313/313 [==============================] - 6s 20ms/step - loss: 0.5703 - accuracy: 0.7398 - val_loss: 0.5612 - val_accuracy: 0.7402\n",
      "Epoch 4/100\n",
      "313/313 [==============================] - 6s 20ms/step - loss: 0.5405 - accuracy: 0.7618 - val_loss: 0.5364 - val_accuracy: 0.7540\n",
      "Epoch 5/100\n",
      "313/313 [==============================] - 6s 20ms/step - loss: 0.5131 - accuracy: 0.7725 - val_loss: 0.5124 - val_accuracy: 0.7658\n",
      "Epoch 6/100\n",
      "313/313 [==============================] - 6s 19ms/step - loss: 0.4907 - accuracy: 0.7819 - val_loss: 0.4970 - val_accuracy: 0.7732\n",
      "Epoch 7/100\n",
      "313/313 [==============================] - 6s 20ms/step - loss: 0.4756 - accuracy: 0.7875 - val_loss: 0.4823 - val_accuracy: 0.7800\n",
      "Epoch 8/100\n",
      "313/313 [==============================] - 6s 20ms/step - loss: 0.4646 - accuracy: 0.7929 - val_loss: 0.4830 - val_accuracy: 0.7784\n",
      "Epoch 9/100\n",
      "313/313 [==============================] - 6s 20ms/step - loss: 0.4556 - accuracy: 0.7976 - val_loss: 0.4672 - val_accuracy: 0.7878\n",
      "Epoch 10/100\n",
      "313/313 [==============================] - 6s 20ms/step - loss: 0.4476 - accuracy: 0.8005 - val_loss: 0.4671 - val_accuracy: 0.7838\n",
      "Epoch 11/100\n",
      "313/313 [==============================] - 6s 20ms/step - loss: 0.4417 - accuracy: 0.8058 - val_loss: 0.4592 - val_accuracy: 0.7888\n",
      "Epoch 12/100\n",
      "313/313 [==============================] - 6s 20ms/step - loss: 0.4362 - accuracy: 0.8087 - val_loss: 0.4598 - val_accuracy: 0.7924\n",
      "Epoch 13/100\n",
      "313/313 [==============================] - 6s 20ms/step - loss: 0.4319 - accuracy: 0.8111 - val_loss: 0.4552 - val_accuracy: 0.7918\n",
      "Epoch 14/100\n",
      "313/313 [==============================] - 6s 20ms/step - loss: 0.4294 - accuracy: 0.8107 - val_loss: 0.4625 - val_accuracy: 0.7878\n",
      "Epoch 15/100\n",
      "313/313 [==============================] - 6s 20ms/step - loss: 0.4265 - accuracy: 0.8108 - val_loss: 0.4524 - val_accuracy: 0.7908\n",
      "Epoch 16/100\n",
      "313/313 [==============================] - 6s 20ms/step - loss: 0.4230 - accuracy: 0.8151 - val_loss: 0.4509 - val_accuracy: 0.7956\n",
      "Epoch 17/100\n",
      "313/313 [==============================] - 6s 20ms/step - loss: 0.4202 - accuracy: 0.8149 - val_loss: 0.4505 - val_accuracy: 0.7924\n",
      "Epoch 18/100\n",
      "313/313 [==============================] - 6s 20ms/step - loss: 0.4185 - accuracy: 0.8156 - val_loss: 0.4530 - val_accuracy: 0.7876\n",
      "Epoch 19/100\n",
      "313/313 [==============================] - 6s 20ms/step - loss: 0.4151 - accuracy: 0.8177 - val_loss: 0.4543 - val_accuracy: 0.7906\n",
      "Epoch 20/100\n",
      "313/313 [==============================] - 6s 19ms/step - loss: 0.4136 - accuracy: 0.8177 - val_loss: 0.4523 - val_accuracy: 0.7902\n",
      "Epoch 21/100\n",
      "313/313 [==============================] - 6s 20ms/step - loss: 0.4116 - accuracy: 0.8187 - val_loss: 0.4466 - val_accuracy: 0.7960\n",
      "Epoch 22/100\n",
      "313/313 [==============================] - 6s 19ms/step - loss: 0.4092 - accuracy: 0.8195 - val_loss: 0.4452 - val_accuracy: 0.7964\n",
      "Epoch 23/100\n",
      "313/313 [==============================] - 6s 19ms/step - loss: 0.4078 - accuracy: 0.8217 - val_loss: 0.4451 - val_accuracy: 0.7962\n",
      "Epoch 24/100\n",
      "313/313 [==============================] - 6s 19ms/step - loss: 0.4055 - accuracy: 0.8231 - val_loss: 0.4452 - val_accuracy: 0.7960\n",
      "Epoch 25/100\n",
      "313/313 [==============================] - 6s 20ms/step - loss: 0.4042 - accuracy: 0.8235 - val_loss: 0.4440 - val_accuracy: 0.7952\n",
      "Epoch 26/100\n",
      "313/313 [==============================] - 6s 20ms/step - loss: 0.4029 - accuracy: 0.8230 - val_loss: 0.4495 - val_accuracy: 0.7968\n",
      "Epoch 27/100\n",
      "313/313 [==============================] - 6s 19ms/step - loss: 0.4013 - accuracy: 0.8242 - val_loss: 0.4525 - val_accuracy: 0.7928\n",
      "Epoch 28/100\n",
      "313/313 [==============================] - 6s 19ms/step - loss: 0.3993 - accuracy: 0.8252 - val_loss: 0.4468 - val_accuracy: 0.7924\n",
      "Epoch 29/100\n",
      "313/313 [==============================] - 6s 19ms/step - loss: 0.3984 - accuracy: 0.8263 - val_loss: 0.4443 - val_accuracy: 0.7944\n"
     ]
    }
   ],
   "source": [
    "rmsprop = keras.optimizers.RMSprop(learning_rate=1e-4)\n",
    "model2.compile(optimizer=rmsprop, loss=\"binary_crossentropy\", metrics=[\"accuracy\"])\n",
    "checkpoint_cb = keras.callbacks.ModelCheckpoint(\"best-embedding-model.h5\", save_best_only=True)\n",
    "early_stopping_cb = keras.callbacks.EarlyStopping(patience=4, restore_best_weights=True)\n",
    "history = model2.fit(train_seq, train_target, epochs=100, batch_size=64,\n",
    "                    validation_data=(val_seq, val_target), callbacks=[checkpoint_cb, early_stopping_cb])"
   ]
  },
  {
   "cell_type": "code",
   "execution_count": 157,
   "id": "eae46a58",
   "metadata": {},
   "outputs": [
    {
     "data": {
      "image/png": "[encoded data removed]",
      "text/plain": [
       "<Figure size 432x288 with 1 Axes>"
      ]
     },
     "metadata": {
      "needs_background": "light"
     },
     "output_type": "display_data"
    }
   ],
   "source": [
    "plt.plot(history.history[\"loss\"])\n",
    "plt.plot(history.history[\"val_loss\"])\n",
    "plt.xlabel(\"epoch\")\n",
    "plt.ylabel(\"loss\")\n",
    "plt.legend([\"train\",\"val\"])\n",
    "plt.show()"
   ]
  },
  {
   "cell_type": "code",
   "execution_count": 158,
   "id": "72565dc0",
   "metadata": {},
   "outputs": [
    {
     "data": {
      "image/png": "[encoded data removed]",
      "text/plain": [
       "<Figure size 432x288 with 1 Axes>"
      ]
     },
     "metadata": {
      "needs_background": "light"
     },
     "output_type": "display_data"
    }
   ],
   "source": [
    "plt.plot(history.history[\"accuracy\"])\n",
    "plt.plot(history.history[\"val_accuracy\"])\n",
    "plt.xlabel(\"epoch\")\n",
    "plt.ylabel(\"accuracy\")\n",
    "plt.legend([\"train\",\"val\"])\n",
    "plt.show()"
   ]
  },
  {
   "cell_type": "markdown",
   "id": "fda39a56",
   "metadata": {},
   "source": [
    "## LSTM 과 GRU"
   ]
  },
  {
   "cell_type": "markdown",
   "id": "400abda5",
   "metadata": {},
   "source": [
    "### LSTM\n",
    "\n",
    "* Long Short-Term Memory의 약자이다. 말 그대로 단기 기억을 오래 기억하기 위해 고안되었다.\n",
    "* 입력과 가중치를 곱하고 절편을 더해 활성화 함수를 통과시키는 구조를 여러개 가진다.\n",
    "* 이렇게 계산된 결과는 다음 타임스텝에 재사용된다.\n",
    "* LSTM 에는 순환되는 상태가 은닉 상태(h)와 셀 상태(c) 두가지가 있다.\n",
    "\n",
    "\n",
    "* 은닉 상태(h)를 만드는 방법\n",
    "> 1. 입력과 이전 타임스텝의 은닉 상태를 가중치에 곱한 후 활성화 함수를 통과시켜 다음 은닉상태를 만든다. (이때 시그모이드 활성화 함수를 사용한다.)\n",
    "> 1. 시그모이드 활성화 함수($w_x$와 함께 tanh 활성화 함수($w_h$를 통과한 어떤 값과 곱해져서 은닉상태를 만든다. 여기서 가중치를 합쳐서 $w_o$ 라고 한다.\n",
    "\n",
    "\n",
    "* 셀 상태(c)를 만드는 방법\n",
    "> 1. 이때 셀 상태(c)는 다음 층으로 전달되지 않고 LSTM 셀 에서 순환만 되는 값이다.\n",
    "> 1. 입력과 은닉 생트를 또 다른 가중치$w_f$에 곱한 다음 시그모이드 함수($w_x$)를 통과시킨다.\n",
    "> 1. 이전 타임스텝의 셀 상태와 곱하여 새로운 셀 상태를 만든다.\n",
    "> 1. 이 새로운 셀 상태가 $w_h$를 통과하여 새로운 은닉 상태를 만드는 데 기여한다.\n",
    "> 1. 새로운 가중치 $w_i$, $w_j$ 를 만들고 각각 $w_x$, $w_h$를 통과한후 두 결과를 곱한 후 이전 셀 상태와 더한다.\n",
    "> 1. 이 결과가 새로운 셀 상태가 된다."
   ]
  },
  {
   "cell_type": "markdown",
   "id": "dd98320e",
   "metadata": {},
   "source": [
    "#### LSTM 훈련하기"
   ]
  },
  {
   "cell_type": "code",
   "execution_count": 159,
   "id": "8dc79df4",
   "metadata": {},
   "outputs": [],
   "source": [
    "from tensorflow.keras.datasets import imdb\n",
    "from sklearn.model_selection import train_test_split\n",
    "(train_input, train_target), (test_input, test_target) = imdb.load_data(num_words=500)\n",
    "train_input, val_input, train_target, val_target = train_test_split(train_input, train_target,\n",
    "                                                                   test_size=0.2, random_state=42)"
   ]
  },
  {
   "cell_type": "code",
   "execution_count": 160,
   "id": "870e2c1e",
   "metadata": {},
   "outputs": [],
   "source": [
    "from tensorflow.keras.preprocessing.sequence import pad_sequences\n",
    "train_seq = pad_sequences(train_input, maxlen=100)\n",
    "val_seq = pad_sequences(val_input, maxlen=100)"
   ]
  },
  {
   "cell_type": "code",
   "execution_count": 161,
   "id": "9ef67b55",
   "metadata": {},
   "outputs": [],
   "source": [
    "from tensorflow import keras\n",
    "model = keras.Sequential()\n",
    "model.add(keras.layers.Embedding(500, 16, input_length=100))\n",
    "model.add(keras.layers.LSTM(8))\n",
    "model.add(keras.layers.Dense(1, activation=\"sigmoid\"))"
   ]
  },
  {
   "cell_type": "code",
   "execution_count": 162,
   "id": "a307501c",
   "metadata": {},
   "outputs": [
    {
     "name": "stdout",
     "output_type": "stream",
     "text": [
      "Model: \"sequential_20\"\n",
      "_________________________________________________________________\n",
      " Layer (type)                Output Shape              Param #   \n",
      "=================================================================\n",
      " embedding_1 (Embedding)     (None, 100, 16)           8000      \n",
      "                                                                 \n",
      " lstm (LSTM)                 (None, 8)                 800       \n",
      "                                                                 \n",
      " dense_35 (Dense)            (None, 1)                 9         \n",
      "                                                                 \n",
      "=================================================================\n",
      "Total params: 8,809\n",
      "Trainable params: 8,809\n",
      "Non-trainable params: 0\n",
      "_________________________________________________________________\n"
     ]
    }
   ],
   "source": [
    "model.summary()\n",
    "# simpleRNN 은 파라미터가 200이었다.\n",
    "# LSTM은 셀이 4개 있으므로 200X4 = 800 이 된다."
   ]
  },
  {
   "cell_type": "code",
   "execution_count": 163,
   "id": "d09e7997",
   "metadata": {},
   "outputs": [
    {
     "name": "stdout",
     "output_type": "stream",
     "text": [
      "Epoch 1/100\n",
      "313/313 [==============================] - 13s 34ms/step - loss: 0.6923 - accuracy: 0.5487 - val_loss: 0.6913 - val_accuracy: 0.5914\n",
      "Epoch 2/100\n",
      "313/313 [==============================] - 10s 32ms/step - loss: 0.6892 - accuracy: 0.6265 - val_loss: 0.6866 - val_accuracy: 0.6522\n",
      "Epoch 3/100\n",
      "313/313 [==============================] - 10s 32ms/step - loss: 0.6784 - accuracy: 0.6733 - val_loss: 0.6621 - val_accuracy: 0.6854\n",
      "Epoch 4/100\n",
      "313/313 [==============================] - 10s 33ms/step - loss: 0.6134 - accuracy: 0.7103 - val_loss: 0.5824 - val_accuracy: 0.7258\n",
      "Epoch 5/100\n",
      "313/313 [==============================] - 11s 34ms/step - loss: 0.5677 - accuracy: 0.7326 - val_loss: 0.5539 - val_accuracy: 0.7464\n",
      "Epoch 6/100\n",
      "313/313 [==============================] - 11s 34ms/step - loss: 0.5436 - accuracy: 0.7469 - val_loss: 0.5362 - val_accuracy: 0.7580\n",
      "Epoch 7/100\n",
      "313/313 [==============================] - 11s 34ms/step - loss: 0.5235 - accuracy: 0.7602 - val_loss: 0.5183 - val_accuracy: 0.7640\n",
      "Epoch 8/100\n",
      "313/313 [==============================] - 11s 34ms/step - loss: 0.5056 - accuracy: 0.7715 - val_loss: 0.5040 - val_accuracy: 0.7714\n",
      "Epoch 9/100\n",
      "313/313 [==============================] - 11s 34ms/step - loss: 0.4897 - accuracy: 0.7799 - val_loss: 0.4908 - val_accuracy: 0.7836\n",
      "Epoch 10/100\n",
      "313/313 [==============================] - 11s 34ms/step - loss: 0.4768 - accuracy: 0.7876 - val_loss: 0.4797 - val_accuracy: 0.7852\n",
      "Epoch 11/100\n",
      "313/313 [==============================] - 10s 34ms/step - loss: 0.4650 - accuracy: 0.7936 - val_loss: 0.4737 - val_accuracy: 0.7830\n",
      "Epoch 12/100\n",
      "313/313 [==============================] - 11s 34ms/step - loss: 0.4551 - accuracy: 0.8000 - val_loss: 0.4650 - val_accuracy: 0.7898\n",
      "Epoch 13/100\n",
      "313/313 [==============================] - 11s 34ms/step - loss: 0.4475 - accuracy: 0.8031 - val_loss: 0.4570 - val_accuracy: 0.7928\n",
      "Epoch 14/100\n",
      "313/313 [==============================] - 11s 34ms/step - loss: 0.4413 - accuracy: 0.8038 - val_loss: 0.4526 - val_accuracy: 0.7940\n",
      "Epoch 15/100\n",
      "313/313 [==============================] - 11s 34ms/step - loss: 0.4359 - accuracy: 0.8066 - val_loss: 0.4494 - val_accuracy: 0.7962\n",
      "Epoch 16/100\n",
      "313/313 [==============================] - 11s 34ms/step - loss: 0.4321 - accuracy: 0.8061 - val_loss: 0.4460 - val_accuracy: 0.7946\n",
      "Epoch 17/100\n",
      "313/313 [==============================] - 11s 34ms/step - loss: 0.4283 - accuracy: 0.8092 - val_loss: 0.4459 - val_accuracy: 0.7938\n",
      "Epoch 18/100\n",
      "313/313 [==============================] - 11s 34ms/step - loss: 0.4258 - accuracy: 0.8080 - val_loss: 0.4419 - val_accuracy: 0.7964\n",
      "Epoch 19/100\n",
      "313/313 [==============================] - 11s 34ms/step - loss: 0.4229 - accuracy: 0.8117 - val_loss: 0.4435 - val_accuracy: 0.7972\n",
      "Epoch 20/100\n",
      "313/313 [==============================] - 11s 34ms/step - loss: 0.4211 - accuracy: 0.8108 - val_loss: 0.4397 - val_accuracy: 0.7978\n",
      "Epoch 21/100\n",
      "313/313 [==============================] - 11s 34ms/step - loss: 0.4191 - accuracy: 0.8122 - val_loss: 0.4390 - val_accuracy: 0.7962\n",
      "Epoch 22/100\n",
      "313/313 [==============================] - 11s 34ms/step - loss: 0.4171 - accuracy: 0.8130 - val_loss: 0.4379 - val_accuracy: 0.7986\n",
      "Epoch 23/100\n",
      "313/313 [==============================] - 10s 34ms/step - loss: 0.4161 - accuracy: 0.8123 - val_loss: 0.4370 - val_accuracy: 0.7960\n",
      "Epoch 24/100\n",
      "313/313 [==============================] - 11s 35ms/step - loss: 0.4144 - accuracy: 0.8138 - val_loss: 0.4367 - val_accuracy: 0.7970\n",
      "Epoch 25/100\n",
      "313/313 [==============================] - 10s 33ms/step - loss: 0.4132 - accuracy: 0.8133 - val_loss: 0.4344 - val_accuracy: 0.8000\n",
      "Epoch 26/100\n",
      "313/313 [==============================] - 10s 33ms/step - loss: 0.4123 - accuracy: 0.8149 - val_loss: 0.4343 - val_accuracy: 0.7982\n",
      "Epoch 27/100\n",
      "313/313 [==============================] - 10s 33ms/step - loss: 0.4110 - accuracy: 0.8141 - val_loss: 0.4341 - val_accuracy: 0.8002\n",
      "Epoch 28/100\n",
      "313/313 [==============================] - 10s 33ms/step - loss: 0.4099 - accuracy: 0.8127 - val_loss: 0.4353 - val_accuracy: 0.7946\n",
      "Epoch 29/100\n",
      "313/313 [==============================] - 11s 34ms/step - loss: 0.4091 - accuracy: 0.8139 - val_loss: 0.4329 - val_accuracy: 0.8024\n",
      "Epoch 30/100\n",
      "313/313 [==============================] - 11s 35ms/step - loss: 0.4083 - accuracy: 0.8155 - val_loss: 0.4342 - val_accuracy: 0.7950\n",
      "Epoch 31/100\n",
      "313/313 [==============================] - 11s 34ms/step - loss: 0.4072 - accuracy: 0.8145 - val_loss: 0.4388 - val_accuracy: 0.7932\n",
      "Epoch 32/100\n",
      "313/313 [==============================] - 10s 33ms/step - loss: 0.4065 - accuracy: 0.8164 - val_loss: 0.4322 - val_accuracy: 0.8034\n",
      "Epoch 33/100\n",
      "313/313 [==============================] - 10s 33ms/step - loss: 0.4059 - accuracy: 0.8158 - val_loss: 0.4309 - val_accuracy: 0.8028\n",
      "Epoch 34/100\n",
      "313/313 [==============================] - 10s 33ms/step - loss: 0.4049 - accuracy: 0.8187 - val_loss: 0.4314 - val_accuracy: 0.8016\n",
      "Epoch 35/100\n",
      "313/313 [==============================] - 10s 33ms/step - loss: 0.4044 - accuracy: 0.8149 - val_loss: 0.4303 - val_accuracy: 0.8028\n",
      "Epoch 36/100\n",
      "313/313 [==============================] - 11s 34ms/step - loss: 0.4035 - accuracy: 0.8174 - val_loss: 0.4327 - val_accuracy: 0.8028\n",
      "Epoch 37/100\n",
      "313/313 [==============================] - 10s 33ms/step - loss: 0.4028 - accuracy: 0.8173 - val_loss: 0.4316 - val_accuracy: 0.8028\n",
      "Epoch 38/100\n",
      "313/313 [==============================] - 10s 33ms/step - loss: 0.4021 - accuracy: 0.8179 - val_loss: 0.4321 - val_accuracy: 0.8008\n",
      "Epoch 39/100\n",
      "313/313 [==============================] - 10s 33ms/step - loss: 0.4012 - accuracy: 0.8185 - val_loss: 0.4316 - val_accuracy: 0.8032\n"
     ]
    }
   ],
   "source": [
    "rmsprop = keras.optimizers.RMSprop(learning_rate=1e-4)\n",
    "model.compile(optimizer=rmsprop, loss=\"binary_crossentropy\", metrics=[\"accuracy\"])\n",
    "checkpoint_cb = keras.callbacks.ModelCheckpoint(\"best-lstm-model.h5\", save_best_only=True)\n",
    "early_stopping_cb = keras.callbacks.EarlyStopping(patience=4, restore_best_weights=True)\n",
    "history = model.fit(train_seq, train_target, epochs=100, batch_size=64,\n",
    "                   validation_data=(val_seq, val_target),\n",
    "                   callbacks=[checkpoint_cb, early_stopping_cb])"
   ]
  },
  {
   "cell_type": "code",
   "execution_count": 164,
   "id": "ffc9c5fa",
   "metadata": {},
   "outputs": [
    {
     "data": {
      "image/png": "[encoded data removed]",
      "text/plain": [
       "<Figure size 432x288 with 1 Axes>"
      ]
     },
     "metadata": {
      "needs_background": "light"
     },
     "output_type": "display_data"
    }
   ],
   "source": [
    "plt.plot(history.history[\"loss\"])\n",
    "plt.plot(history.history[\"val_loss\"])\n",
    "plt.xlabel(\"epoch\")\n",
    "plt.ylabel(\"loss\")\n",
    "plt.legend([\"train\",\"val\"])\n",
    "plt.show()"
   ]
  },
  {
   "cell_type": "code",
   "execution_count": 165,
   "id": "ec213f07",
   "metadata": {},
   "outputs": [
    {
     "data": {
      "image/png": "[encoded data removed]",
      "text/plain": [
       "<Figure size 432x288 with 1 Axes>"
      ]
     },
     "metadata": {
      "needs_background": "light"
     },
     "output_type": "display_data"
    }
   ],
   "source": [
    "plt.plot(history.history[\"accuracy\"])\n",
    "plt.plot(history.history[\"val_accuracy\"])\n",
    "plt.xlabel(\"epoch\")\n",
    "plt.ylabel(\"accuracy\")\n",
    "plt.legend([\"train\",\"val\"])\n",
    "plt.show()"
   ]
  },
  {
   "cell_type": "markdown",
   "id": "9925ea2c",
   "metadata": {},
   "source": [
    "#### 순환층에 드롭아웃 적용하기"
   ]
  },
  {
   "cell_type": "code",
   "execution_count": 166,
   "id": "7abb8431",
   "metadata": {},
   "outputs": [],
   "source": [
    "model2 = keras.Sequential()\n",
    "model2.add(keras.layers.Embedding(500, 16, input_length=100))\n",
    "model2.add(keras.layers.LSTM(8, dropout=0.3))\n",
    "model2.add(keras.layers.Dense(1, activation=\"sigmoid\"))"
   ]
  },
  {
   "cell_type": "code",
   "execution_count": 167,
   "id": "411a7a53",
   "metadata": {},
   "outputs": [
    {
     "name": "stdout",
     "output_type": "stream",
     "text": [
      "Epoch 1/100\n",
      "313/313 [==============================] - 14s 36ms/step - loss: 0.6923 - accuracy: 0.5387 - val_loss: 0.6913 - val_accuracy: 0.5882\n",
      "Epoch 2/100\n",
      "313/313 [==============================] - 11s 35ms/step - loss: 0.6894 - accuracy: 0.6084 - val_loss: 0.6864 - val_accuracy: 0.6614\n",
      "Epoch 3/100\n",
      "313/313 [==============================] - 11s 34ms/step - loss: 0.6747 - accuracy: 0.6658 - val_loss: 0.6489 - val_accuracy: 0.6948\n",
      "Epoch 4/100\n",
      "313/313 [==============================] - 11s 34ms/step - loss: 0.6258 - accuracy: 0.6888 - val_loss: 0.6036 - val_accuracy: 0.7064\n",
      "Epoch 5/100\n",
      "313/313 [==============================] - 11s 35ms/step - loss: 0.5937 - accuracy: 0.7110 - val_loss: 0.5793 - val_accuracy: 0.7294\n",
      "Epoch 6/100\n",
      "313/313 [==============================] - 11s 35ms/step - loss: 0.5704 - accuracy: 0.7307 - val_loss: 0.5559 - val_accuracy: 0.7434\n",
      "Epoch 7/100\n",
      "313/313 [==============================] - 11s 34ms/step - loss: 0.5485 - accuracy: 0.7447 - val_loss: 0.5362 - val_accuracy: 0.7540\n",
      "Epoch 8/100\n",
      "313/313 [==============================] - 11s 35ms/step - loss: 0.5283 - accuracy: 0.7585 - val_loss: 0.5185 - val_accuracy: 0.7594\n",
      "Epoch 9/100\n",
      "313/313 [==============================] - 11s 34ms/step - loss: 0.5094 - accuracy: 0.7698 - val_loss: 0.5008 - val_accuracy: 0.7748\n",
      "Epoch 10/100\n",
      "313/313 [==============================] - 11s 35ms/step - loss: 0.4922 - accuracy: 0.7791 - val_loss: 0.4873 - val_accuracy: 0.7832\n",
      "Epoch 11/100\n",
      "313/313 [==============================] - 11s 35ms/step - loss: 0.4809 - accuracy: 0.7849 - val_loss: 0.4779 - val_accuracy: 0.7930\n",
      "Epoch 12/100\n",
      "313/313 [==============================] - 11s 34ms/step - loss: 0.4722 - accuracy: 0.7868 - val_loss: 0.4708 - val_accuracy: 0.7928\n",
      "Epoch 13/100\n",
      "313/313 [==============================] - 11s 36ms/step - loss: 0.4649 - accuracy: 0.7928 - val_loss: 0.4658 - val_accuracy: 0.7930\n",
      "Epoch 14/100\n",
      "313/313 [==============================] - 11s 34ms/step - loss: 0.4603 - accuracy: 0.7923 - val_loss: 0.4621 - val_accuracy: 0.7938\n",
      "Epoch 15/100\n",
      "313/313 [==============================] - 11s 34ms/step - loss: 0.4541 - accuracy: 0.7945 - val_loss: 0.4579 - val_accuracy: 0.7938\n",
      "Epoch 16/100\n",
      "313/313 [==============================] - 11s 34ms/step - loss: 0.4497 - accuracy: 0.7977 - val_loss: 0.4622 - val_accuracy: 0.7924\n",
      "Epoch 17/100\n",
      "313/313 [==============================] - 11s 34ms/step - loss: 0.4485 - accuracy: 0.7979 - val_loss: 0.4533 - val_accuracy: 0.7958\n",
      "Epoch 18/100\n",
      "313/313 [==============================] - 11s 34ms/step - loss: 0.4454 - accuracy: 0.8006 - val_loss: 0.4506 - val_accuracy: 0.7970\n",
      "Epoch 19/100\n",
      "313/313 [==============================] - 11s 35ms/step - loss: 0.4411 - accuracy: 0.8015 - val_loss: 0.4522 - val_accuracy: 0.7882\n",
      "Epoch 20/100\n",
      "313/313 [==============================] - 11s 34ms/step - loss: 0.4385 - accuracy: 0.8005 - val_loss: 0.4457 - val_accuracy: 0.7946\n",
      "Epoch 21/100\n",
      "313/313 [==============================] - 11s 34ms/step - loss: 0.4348 - accuracy: 0.8031 - val_loss: 0.4444 - val_accuracy: 0.8004\n",
      "Epoch 22/100\n",
      "313/313 [==============================] - 11s 34ms/step - loss: 0.4334 - accuracy: 0.8043 - val_loss: 0.4422 - val_accuracy: 0.7998\n",
      "Epoch 23/100\n",
      "313/313 [==============================] - 11s 34ms/step - loss: 0.4315 - accuracy: 0.8027 - val_loss: 0.4403 - val_accuracy: 0.7978\n",
      "Epoch 24/100\n",
      "313/313 [==============================] - 11s 34ms/step - loss: 0.4307 - accuracy: 0.8037 - val_loss: 0.4402 - val_accuracy: 0.7954\n",
      "Epoch 25/100\n",
      "313/313 [==============================] - 11s 34ms/step - loss: 0.4273 - accuracy: 0.8060 - val_loss: 0.4380 - val_accuracy: 0.7992\n",
      "Epoch 26/100\n",
      "313/313 [==============================] - 11s 35ms/step - loss: 0.4256 - accuracy: 0.8049 - val_loss: 0.4369 - val_accuracy: 0.7994\n",
      "Epoch 27/100\n",
      "313/313 [==============================] - 11s 34ms/step - loss: 0.4238 - accuracy: 0.8087 - val_loss: 0.4360 - val_accuracy: 0.7984\n",
      "Epoch 28/100\n",
      "313/313 [==============================] - 10s 33ms/step - loss: 0.4241 - accuracy: 0.8069 - val_loss: 0.4357 - val_accuracy: 0.8020\n",
      "Epoch 29/100\n",
      "313/313 [==============================] - 11s 34ms/step - loss: 0.4219 - accuracy: 0.8071 - val_loss: 0.4337 - val_accuracy: 0.8000\n",
      "Epoch 30/100\n",
      "313/313 [==============================] - 11s 34ms/step - loss: 0.4213 - accuracy: 0.8076 - val_loss: 0.4351 - val_accuracy: 0.8034\n",
      "Epoch 31/100\n",
      "313/313 [==============================] - 10s 33ms/step - loss: 0.4201 - accuracy: 0.8098 - val_loss: 0.4344 - val_accuracy: 0.8038\n",
      "Epoch 32/100\n",
      "313/313 [==============================] - 10s 33ms/step - loss: 0.4181 - accuracy: 0.8098 - val_loss: 0.4342 - val_accuracy: 0.8008\n",
      "Epoch 33/100\n",
      "313/313 [==============================] - 11s 34ms/step - loss: 0.4190 - accuracy: 0.8072 - val_loss: 0.4323 - val_accuracy: 0.7968\n",
      "Epoch 34/100\n",
      "313/313 [==============================] - 11s 35ms/step - loss: 0.4183 - accuracy: 0.8088 - val_loss: 0.4325 - val_accuracy: 0.8036\n",
      "Epoch 35/100\n",
      "313/313 [==============================] - 10s 33ms/step - loss: 0.4175 - accuracy: 0.8086 - val_loss: 0.4309 - val_accuracy: 0.8034\n",
      "Epoch 36/100\n",
      "313/313 [==============================] - 11s 34ms/step - loss: 0.4151 - accuracy: 0.8116 - val_loss: 0.4317 - val_accuracy: 0.7960\n",
      "Epoch 37/100\n",
      "313/313 [==============================] - 11s 35ms/step - loss: 0.4145 - accuracy: 0.8120 - val_loss: 0.4304 - val_accuracy: 0.7986\n",
      "Epoch 38/100\n",
      "313/313 [==============================] - 11s 34ms/step - loss: 0.4129 - accuracy: 0.8123 - val_loss: 0.4314 - val_accuracy: 0.8068\n",
      "Epoch 39/100\n",
      "313/313 [==============================] - 10s 33ms/step - loss: 0.4143 - accuracy: 0.8105 - val_loss: 0.4304 - val_accuracy: 0.8074\n",
      "Epoch 40/100\n",
      "313/313 [==============================] - 11s 35ms/step - loss: 0.4124 - accuracy: 0.8113 - val_loss: 0.4297 - val_accuracy: 0.8052\n",
      "Epoch 41/100\n",
      "313/313 [==============================] - 11s 34ms/step - loss: 0.4128 - accuracy: 0.8099 - val_loss: 0.4308 - val_accuracy: 0.8060\n",
      "Epoch 42/100\n",
      "313/313 [==============================] - 11s 35ms/step - loss: 0.4128 - accuracy: 0.8108 - val_loss: 0.4353 - val_accuracy: 0.7918\n",
      "Epoch 43/100\n",
      "313/313 [==============================] - 11s 35ms/step - loss: 0.4146 - accuracy: 0.8102 - val_loss: 0.4289 - val_accuracy: 0.7992\n",
      "Epoch 44/100\n",
      "313/313 [==============================] - 11s 35ms/step - loss: 0.4105 - accuracy: 0.8137 - val_loss: 0.4293 - val_accuracy: 0.7986\n",
      "Epoch 45/100\n",
      "313/313 [==============================] - 11s 34ms/step - loss: 0.4122 - accuracy: 0.8108 - val_loss: 0.4283 - val_accuracy: 0.7994\n",
      "Epoch 46/100\n",
      "313/313 [==============================] - 11s 34ms/step - loss: 0.4127 - accuracy: 0.8113 - val_loss: 0.4282 - val_accuracy: 0.8002\n",
      "Epoch 47/100\n",
      "313/313 [==============================] - 10s 33ms/step - loss: 0.4102 - accuracy: 0.8127 - val_loss: 0.4310 - val_accuracy: 0.7962\n",
      "Epoch 48/100\n",
      "313/313 [==============================] - 11s 34ms/step - loss: 0.4093 - accuracy: 0.8133 - val_loss: 0.4280 - val_accuracy: 0.8020\n",
      "Epoch 49/100\n",
      "313/313 [==============================] - 11s 34ms/step - loss: 0.4099 - accuracy: 0.8108 - val_loss: 0.4292 - val_accuracy: 0.7972\n",
      "Epoch 50/100\n",
      "313/313 [==============================] - 11s 34ms/step - loss: 0.4085 - accuracy: 0.8126 - val_loss: 0.4276 - val_accuracy: 0.8010\n",
      "Epoch 51/100\n",
      "313/313 [==============================] - 10s 33ms/step - loss: 0.4083 - accuracy: 0.8142 - val_loss: 0.4281 - val_accuracy: 0.8018\n",
      "Epoch 52/100\n",
      "313/313 [==============================] - 10s 32ms/step - loss: 0.4062 - accuracy: 0.8146 - val_loss: 0.4277 - val_accuracy: 0.8004\n",
      "Epoch 53/100\n",
      "313/313 [==============================] - 10s 33ms/step - loss: 0.4084 - accuracy: 0.8127 - val_loss: 0.4295 - val_accuracy: 0.7974\n",
      "Epoch 54/100\n",
      "313/313 [==============================] - 10s 33ms/step - loss: 0.4081 - accuracy: 0.8124 - val_loss: 0.4273 - val_accuracy: 0.8020\n",
      "Epoch 55/100\n",
      "313/313 [==============================] - 10s 32ms/step - loss: 0.4067 - accuracy: 0.8140 - val_loss: 0.4271 - val_accuracy: 0.7998\n",
      "Epoch 56/100\n",
      "313/313 [==============================] - 10s 32ms/step - loss: 0.4059 - accuracy: 0.8138 - val_loss: 0.4277 - val_accuracy: 0.8000\n",
      "Epoch 57/100\n"
     ]
    },
    {
     "name": "stdout",
     "output_type": "stream",
     "text": [
      "313/313 [==============================] - 11s 34ms/step - loss: 0.4061 - accuracy: 0.8140 - val_loss: 0.4274 - val_accuracy: 0.8030\n",
      "Epoch 58/100\n",
      "313/313 [==============================] - 6s 20ms/step - loss: 0.4056 - accuracy: 0.8142 - val_loss: 0.4271 - val_accuracy: 0.8050\n",
      "Epoch 59/100\n",
      "313/313 [==============================] - 5s 15ms/step - loss: 0.4065 - accuracy: 0.8112 - val_loss: 0.4275 - val_accuracy: 0.8054\n",
      "Epoch 60/100\n",
      "313/313 [==============================] - 5s 15ms/step - loss: 0.4051 - accuracy: 0.8127 - val_loss: 0.4273 - val_accuracy: 0.8066\n",
      "Epoch 61/100\n",
      "313/313 [==============================] - 5s 16ms/step - loss: 0.4049 - accuracy: 0.8145 - val_loss: 0.4269 - val_accuracy: 0.8022\n",
      "Epoch 62/100\n",
      "313/313 [==============================] - 5s 15ms/step - loss: 0.4049 - accuracy: 0.8134 - val_loss: 0.4278 - val_accuracy: 0.8058\n",
      "Epoch 63/100\n",
      "313/313 [==============================] - 5s 15ms/step - loss: 0.4043 - accuracy: 0.8157 - val_loss: 0.4260 - val_accuracy: 0.8032\n",
      "Epoch 64/100\n",
      "313/313 [==============================] - 5s 15ms/step - loss: 0.4042 - accuracy: 0.8138 - val_loss: 0.4260 - val_accuracy: 0.8016\n",
      "Epoch 65/100\n",
      "313/313 [==============================] - 5s 15ms/step - loss: 0.4043 - accuracy: 0.8149 - val_loss: 0.4262 - val_accuracy: 0.8036\n",
      "Epoch 66/100\n",
      "313/313 [==============================] - 5s 15ms/step - loss: 0.4034 - accuracy: 0.8154 - val_loss: 0.4262 - val_accuracy: 0.8008\n",
      "Epoch 67/100\n",
      "313/313 [==============================] - 5s 15ms/step - loss: 0.4044 - accuracy: 0.8141 - val_loss: 0.4267 - val_accuracy: 0.8050\n"
     ]
    }
   ],
   "source": [
    "rmsprop = keras.optimizers.RMSprop(learning_rate=1e-4)\n",
    "model2.compile(optimizer=rmsprop, loss=\"binary_crossentropy\", metrics=[\"accuracy\"])\n",
    "checkpoint_cb = keras.callbacks.ModelCheckpoint(\"best-dropout-model.h5\", save_best_only=True)\n",
    "early_stopping_cb = keras.callbacks.EarlyStopping(patience=4, restore_best_weights=True)\n",
    "history = model2.fit(train_seq, train_target, epochs=100, batch_size=64,\n",
    "                    validation_data=(val_seq, val_target),\n",
    "                     callbacks=[checkpoint_cb, early_stopping_cb])"
   ]
  },
  {
   "cell_type": "code",
   "execution_count": 168,
   "id": "ebf1e273",
   "metadata": {},
   "outputs": [
    {
     "data": {
      "image/png": "[encoded data removed]",
      "text/plain": [
       "<Figure size 432x288 with 1 Axes>"
      ]
     },
     "metadata": {
      "needs_background": "light"
     },
     "output_type": "display_data"
    }
   ],
   "source": [
    "plt.plot(history.history[\"loss\"])\n",
    "plt.plot(history.history[\"val_loss\"])\n",
    "plt.xlabel(\"epoch\")\n",
    "plt.ylabel(\"loss\")\n",
    "plt.legend([\"train\",\"val\"])\n",
    "plt.show()"
   ]
  },
  {
   "cell_type": "code",
   "execution_count": 169,
   "id": "51abbfa3",
   "metadata": {},
   "outputs": [
    {
     "data": {
      "image/png": "[encoded data removed]",
      "text/plain": [
       "<Figure size 432x288 with 1 Axes>"
      ]
     },
     "metadata": {
      "needs_background": "light"
     },
     "output_type": "display_data"
    }
   ],
   "source": [
    "plt.plot(history.history[\"accuracy\"])\n",
    "plt.plot(history.history[\"val_accuracy\"])\n",
    "plt.xlabel(\"epoch\")\n",
    "plt.ylabel(\"accuracy\")\n",
    "plt.legend([\"train\",\"val\"])\n",
    "plt.show()"
   ]
  },
  {
   "cell_type": "markdown",
   "id": "ffc3418a",
   "metadata": {},
   "source": [
    "#### 층 2개 연결하기\n",
    "\n",
    "* 순환층의 은닉상태는 샘플의 마지막 타임스텝에 대한 은닉상태만 다음 층으로 전달한다.\n",
    "* 하지만 순환층이 여러겹이 되면 모든 순환층에 순차 데이터가 필요하다.\n",
    "* 따라서 앞쪽의 순환층이 모든 타임스텝에 대한 은닉 상태를 출력해야한다.\n",
    "* 오직 마지막 순환층만 마지막 타임스텝의 은닉 상태를 출력해야한다."
   ]
  },
  {
   "cell_type": "code",
   "execution_count": 170,
   "id": "c2fadae7",
   "metadata": {},
   "outputs": [],
   "source": [
    "model3 = keras.Sequential()\n",
    "model3.add(keras.layers.Embedding(500, 16, input_length=100))\n",
    "model3.add(keras.layers.LSTM(8, dropout=0.3, return_sequences=True))\n",
    "model3.add(keras.layers.LSTM(8, dropout=0.3))\n",
    "model3.add(keras.layers.Dense(1, activation=\"sigmoid\"))"
   ]
  },
  {
   "cell_type": "code",
   "execution_count": 171,
   "id": "5a2fbb60",
   "metadata": {},
   "outputs": [
    {
     "name": "stdout",
     "output_type": "stream",
     "text": [
      "Model: \"sequential_22\"\n",
      "_________________________________________________________________\n",
      " Layer (type)                Output Shape              Param #   \n",
      "=================================================================\n",
      " embedding_3 (Embedding)     (None, 100, 16)           8000      \n",
      "                                                                 \n",
      " lstm_2 (LSTM)               (None, 100, 8)            800       \n",
      "                                                                 \n",
      " lstm_3 (LSTM)               (None, 8)                 544       \n",
      "                                                                 \n",
      " dense_37 (Dense)            (None, 1)                 9         \n",
      "                                                                 \n",
      "=================================================================\n",
      "Total params: 9,353\n",
      "Trainable params: 9,353\n",
      "Non-trainable params: 0\n",
      "_________________________________________________________________\n"
     ]
    }
   ],
   "source": [
    "model3.summary()"
   ]
  },
  {
   "cell_type": "code",
   "execution_count": 172,
   "id": "021257cb",
   "metadata": {},
   "outputs": [
    {
     "name": "stdout",
     "output_type": "stream",
     "text": [
      "Epoch 1/100\n",
      "313/313 [==============================] - 11s 29ms/step - loss: 0.6922 - accuracy: 0.5415 - val_loss: 0.6914 - val_accuracy: 0.5294\n",
      "Epoch 2/100\n",
      "313/313 [==============================] - 9s 27ms/step - loss: 0.6875 - accuracy: 0.5937 - val_loss: 0.6821 - val_accuracy: 0.6548\n",
      "Epoch 3/100\n",
      "313/313 [==============================] - 9s 27ms/step - loss: 0.6541 - accuracy: 0.6578 - val_loss: 0.6106 - val_accuracy: 0.7078\n",
      "Epoch 4/100\n",
      "313/313 [==============================] - 9s 27ms/step - loss: 0.5806 - accuracy: 0.7179 - val_loss: 0.5546 - val_accuracy: 0.7390\n",
      "Epoch 5/100\n",
      "313/313 [==============================] - 9s 28ms/step - loss: 0.5453 - accuracy: 0.7365 - val_loss: 0.5237 - val_accuracy: 0.7580\n",
      "Epoch 6/100\n",
      "313/313 [==============================] - 9s 29ms/step - loss: 0.5213 - accuracy: 0.7525 - val_loss: 0.5075 - val_accuracy: 0.7616\n",
      "Epoch 7/100\n",
      "313/313 [==============================] - 9s 29ms/step - loss: 0.5034 - accuracy: 0.7635 - val_loss: 0.4897 - val_accuracy: 0.7736\n",
      "Epoch 8/100\n",
      "313/313 [==============================] - 9s 28ms/step - loss: 0.4907 - accuracy: 0.7692 - val_loss: 0.4804 - val_accuracy: 0.7802\n",
      "Epoch 9/100\n",
      "313/313 [==============================] - 9s 28ms/step - loss: 0.4793 - accuracy: 0.7786 - val_loss: 0.4725 - val_accuracy: 0.7786\n",
      "Epoch 10/100\n",
      "313/313 [==============================] - 9s 28ms/step - loss: 0.4731 - accuracy: 0.7801 - val_loss: 0.4643 - val_accuracy: 0.7852\n",
      "Epoch 11/100\n",
      "313/313 [==============================] - 9s 28ms/step - loss: 0.4642 - accuracy: 0.7843 - val_loss: 0.4624 - val_accuracy: 0.7862\n",
      "Epoch 12/100\n",
      "313/313 [==============================] - 9s 28ms/step - loss: 0.4614 - accuracy: 0.7850 - val_loss: 0.4562 - val_accuracy: 0.7886\n",
      "Epoch 13/100\n",
      "313/313 [==============================] - 9s 29ms/step - loss: 0.4565 - accuracy: 0.7921 - val_loss: 0.4536 - val_accuracy: 0.7888\n",
      "Epoch 14/100\n",
      "313/313 [==============================] - 9s 28ms/step - loss: 0.4541 - accuracy: 0.7901 - val_loss: 0.4506 - val_accuracy: 0.7904\n",
      "Epoch 15/100\n",
      "313/313 [==============================] - 9s 28ms/step - loss: 0.4501 - accuracy: 0.7926 - val_loss: 0.4494 - val_accuracy: 0.7892\n",
      "Epoch 16/100\n",
      "313/313 [==============================] - 9s 28ms/step - loss: 0.4453 - accuracy: 0.7955 - val_loss: 0.4521 - val_accuracy: 0.7886\n",
      "Epoch 17/100\n",
      "313/313 [==============================] - 9s 28ms/step - loss: 0.4427 - accuracy: 0.7965 - val_loss: 0.4480 - val_accuracy: 0.7872\n",
      "Epoch 18/100\n",
      "313/313 [==============================] - 9s 28ms/step - loss: 0.4420 - accuracy: 0.7960 - val_loss: 0.4438 - val_accuracy: 0.7902\n",
      "Epoch 19/100\n",
      "313/313 [==============================] - 9s 28ms/step - loss: 0.4381 - accuracy: 0.7990 - val_loss: 0.4439 - val_accuracy: 0.7900\n",
      "Epoch 20/100\n",
      "313/313 [==============================] - 9s 28ms/step - loss: 0.4372 - accuracy: 0.7984 - val_loss: 0.4410 - val_accuracy: 0.7934\n",
      "Epoch 21/100\n",
      "313/313 [==============================] - 9s 28ms/step - loss: 0.4350 - accuracy: 0.8015 - val_loss: 0.4404 - val_accuracy: 0.7926\n",
      "Epoch 22/100\n",
      "313/313 [==============================] - 9s 28ms/step - loss: 0.4326 - accuracy: 0.8030 - val_loss: 0.4377 - val_accuracy: 0.7940\n",
      "Epoch 23/100\n",
      "313/313 [==============================] - 9s 28ms/step - loss: 0.4317 - accuracy: 0.8027 - val_loss: 0.4388 - val_accuracy: 0.7960\n",
      "Epoch 24/100\n",
      "313/313 [==============================] - 9s 28ms/step - loss: 0.4320 - accuracy: 0.8017 - val_loss: 0.4355 - val_accuracy: 0.7952\n",
      "Epoch 25/100\n",
      "313/313 [==============================] - 9s 28ms/step - loss: 0.4291 - accuracy: 0.8044 - val_loss: 0.4354 - val_accuracy: 0.7956\n",
      "Epoch 26/100\n",
      "313/313 [==============================] - 9s 28ms/step - loss: 0.4269 - accuracy: 0.8046 - val_loss: 0.4345 - val_accuracy: 0.7950\n",
      "Epoch 27/100\n",
      "313/313 [==============================] - 9s 28ms/step - loss: 0.4266 - accuracy: 0.8084 - val_loss: 0.4343 - val_accuracy: 0.7974\n",
      "Epoch 28/100\n",
      "313/313 [==============================] - 9s 28ms/step - loss: 0.4265 - accuracy: 0.8059 - val_loss: 0.4325 - val_accuracy: 0.7962\n",
      "Epoch 29/100\n",
      "313/313 [==============================] - 9s 28ms/step - loss: 0.4214 - accuracy: 0.8090 - val_loss: 0.4346 - val_accuracy: 0.7930\n",
      "Epoch 30/100\n",
      "313/313 [==============================] - 9s 28ms/step - loss: 0.4241 - accuracy: 0.8072 - val_loss: 0.4313 - val_accuracy: 0.7974\n",
      "Epoch 31/100\n",
      "313/313 [==============================] - 9s 28ms/step - loss: 0.4215 - accuracy: 0.8057 - val_loss: 0.4310 - val_accuracy: 0.7990\n",
      "Epoch 32/100\n",
      "313/313 [==============================] - 9s 28ms/step - loss: 0.4230 - accuracy: 0.8052 - val_loss: 0.4309 - val_accuracy: 0.7980\n",
      "Epoch 33/100\n",
      "313/313 [==============================] - 9s 28ms/step - loss: 0.4193 - accuracy: 0.8102 - val_loss: 0.4343 - val_accuracy: 0.7990\n",
      "Epoch 34/100\n",
      "313/313 [==============================] - 9s 28ms/step - loss: 0.4207 - accuracy: 0.8070 - val_loss: 0.4302 - val_accuracy: 0.7992\n",
      "Epoch 35/100\n",
      "313/313 [==============================] - 9s 28ms/step - loss: 0.4181 - accuracy: 0.8089 - val_loss: 0.4291 - val_accuracy: 0.8008\n",
      "Epoch 36/100\n",
      "313/313 [==============================] - 9s 29ms/step - loss: 0.4180 - accuracy: 0.8092 - val_loss: 0.4310 - val_accuracy: 0.8004\n",
      "Epoch 37/100\n",
      "313/313 [==============================] - 9s 28ms/step - loss: 0.4149 - accuracy: 0.8112 - val_loss: 0.4277 - val_accuracy: 0.8012\n",
      "Epoch 38/100\n",
      "313/313 [==============================] - 9s 28ms/step - loss: 0.4159 - accuracy: 0.8110 - val_loss: 0.4317 - val_accuracy: 0.7966\n",
      "Epoch 39/100\n",
      "313/313 [==============================] - 9s 28ms/step - loss: 0.4151 - accuracy: 0.8100 - val_loss: 0.4268 - val_accuracy: 0.8010\n",
      "Epoch 40/100\n",
      "313/313 [==============================] - 9s 28ms/step - loss: 0.4165 - accuracy: 0.8101 - val_loss: 0.4293 - val_accuracy: 0.8010\n",
      "Epoch 41/100\n",
      "313/313 [==============================] - 9s 28ms/step - loss: 0.4118 - accuracy: 0.8115 - val_loss: 0.4296 - val_accuracy: 0.8012\n",
      "Epoch 42/100\n",
      "313/313 [==============================] - 9s 28ms/step - loss: 0.4143 - accuracy: 0.8116 - val_loss: 0.4274 - val_accuracy: 0.8014\n"
     ]
    }
   ],
   "source": [
    "rmsprop = keras.optimizers.RMSprop(learning_rate=1e-4)\n",
    "model3.compile(optimizer=rmsprop, loss=\"binary_crossentropy\", metrics=[\"accuracy\"])\n",
    "checkpoint_cb = keras.callbacks.ModelCheckpoint(\"best-2rnn-model.h5\", save_best_only=True)\n",
    "early_stopping_cb = keras.callbacks.EarlyStopping(patience=3, restore_best_weights=True)\n",
    "history = model3.fit(train_seq, train_target, epochs=100, batch_size = 64,\n",
    "                    validation_data=(val_seq, val_target),\n",
    "                    callbacks=[checkpoint_cb, early_stopping_cb])"
   ]
  },
  {
   "cell_type": "code",
   "execution_count": 173,
   "id": "99b1e5ee",
   "metadata": {},
   "outputs": [
    {
     "data": {
      "image/png": "[encoded data removed]",
      "text/plain": [
       "<Figure size 432x288 with 1 Axes>"
      ]
     },
     "metadata": {
      "needs_background": "light"
     },
     "output_type": "display_data"
    }
   ],
   "source": [
    "plt.plot(history.history[\"loss\"])\n",
    "plt.plot(history.history[\"val_loss\"])\n",
    "plt.xlabel(\"epoch\")\n",
    "plt.ylabel(\"loss\")\n",
    "plt.legend([\"train\",\"val\"])\n",
    "plt.show()"
   ]
  },
  {
   "cell_type": "code",
   "execution_count": 174,
   "id": "9505404a",
   "metadata": {},
   "outputs": [
    {
     "data": {
      "image/png": "[encoded data removed]",
      "text/plain": [
       "<Figure size 432x288 with 1 Axes>"
      ]
     },
     "metadata": {
      "needs_background": "light"
     },
     "output_type": "display_data"
    }
   ],
   "source": [
    "plt.plot(history.history[\"accuracy\"])\n",
    "plt.plot(history.history[\"val_accuracy\"])\n",
    "plt.xlabel(\"epoch\")\n",
    "plt.ylabel(\"accuracy\")\n",
    "plt.legend([\"train\",\"val\"])\n",
    "plt.show()"
   ]
  },
  {
   "cell_type": "markdown",
   "id": "e28dc2f4",
   "metadata": {},
   "source": [
    "### GRU\n",
    "\n",
    "* Gated Recurrent Unit, LSTM을 간소화한 버전\n",
    "* LSTM과 달리 셀 상태를 계산하지 않고 은닉 상태 하나만을 포함하고 있다.\n",
    "* GRU 셀에는 은닉상태와 입력에 가중치를 곱하고 절편을 더하는 작은 셀이 3개 있다.\n",
    "* 2개는 시그모이드 활성화 함수($w_s$)를 사용하고 하나는 tanh 활성화 함수($w_h$)를 사용한다.\n",
    "* GRU 셀은 LSTM보다 가중치가 적기 때문에 계산량이 적지만 LSTM 못지않은 좋은 성능을 낸다."
   ]
  },
  {
   "cell_type": "markdown",
   "id": "5de69512",
   "metadata": {},
   "source": [
    "#### GRU 훈련하기"
   ]
  },
  {
   "cell_type": "code",
   "execution_count": 175,
   "id": "49e8b469",
   "metadata": {},
   "outputs": [],
   "source": [
    "model4 = keras.Sequential()\n",
    "model4.add(keras.layers.Embedding(500, 16, input_length=100))\n",
    "model4.add(keras.layers.GRU(8))\n",
    "model4`.add(keras.layers.Dense(1, activation=\"sigmoid\"))"
   ]
  },
  {
   "cell_type": "code",
   "execution_count": 176,
   "id": "595b9c13",
   "metadata": {},
   "outputs": [
    {
     "name": "stdout",
     "output_type": "stream",
     "text": [
      "Model: \"sequential_23\"\n",
      "_________________________________________________________________\n",
      " Layer (type)                Output Shape              Param #   \n",
      "=================================================================\n",
      " embedding_4 (Embedding)     (None, 100, 16)           8000      \n",
      "                                                                 \n",
      " gru (GRU)                   (None, 8)                 624       \n",
      "                                                                 \n",
      " dense_38 (Dense)            (None, 1)                 9         \n",
      "                                                                 \n",
      "=================================================================\n",
      "Total params: 8,633\n",
      "Trainable params: 8,633\n",
      "Non-trainable params: 0\n",
      "_________________________________________________________________\n"
     ]
    }
   ],
   "source": [
    "model4.summary()\n",
    "# GRU 파라미터 개수\n",
    "# GRU는 3개의 작은 셀, 입력과 은닉상태에 곱하는 가중치, 절편\n",
    "# 입력에 곱하는 가중치 16X8(뉴런) =128\n",
    "# 은닉상태에 곱하는 가중치 8(뉴런)X8(뉴런) = 64\n",
    "# 절편은 뉴런마다 1개씩, 8(뉴런)\n",
    "# 모두 더하면 200개\n",
    "# 이런 작은 셀이 3개 => 600개\n",
    "# 작은 셀 1개당 뉴런의 절편 => 3X8(뉴런) = 24\n",
    "# 총 합 624"
   ]
  },
  {
   "cell_type": "code",
   "execution_count": 177,
   "id": "8a1f32e9",
   "metadata": {},
   "outputs": [
    {
     "name": "stdout",
     "output_type": "stream",
     "text": [
      "Epoch 1/100\n",
      "313/313 [==============================] - 7s 16ms/step - loss: 0.6927 - accuracy: 0.5224 - val_loss: 0.6920 - val_accuracy: 0.5476\n",
      "Epoch 2/100\n",
      "313/313 [==============================] - 5s 16ms/step - loss: 0.6907 - accuracy: 0.5590 - val_loss: 0.6897 - val_accuracy: 0.5710\n",
      "Epoch 3/100\n",
      "313/313 [==============================] - 5s 16ms/step - loss: 0.6875 - accuracy: 0.5850 - val_loss: 0.6858 - val_accuracy: 0.5886\n",
      "Epoch 4/100\n",
      "313/313 [==============================] - 5s 16ms/step - loss: 0.6821 - accuracy: 0.6141 - val_loss: 0.6793 - val_accuracy: 0.6128\n",
      "Epoch 5/100\n",
      "313/313 [==============================] - 5s 16ms/step - loss: 0.6729 - accuracy: 0.6373 - val_loss: 0.6680 - val_accuracy: 0.6334\n",
      "Epoch 6/100\n",
      "313/313 [==============================] - 5s 16ms/step - loss: 0.6570 - accuracy: 0.6521 - val_loss: 0.6485 - val_accuracy: 0.6532\n",
      "Epoch 7/100\n",
      "313/313 [==============================] - 5s 16ms/step - loss: 0.6277 - accuracy: 0.6774 - val_loss: 0.6084 - val_accuracy: 0.6842\n",
      "Epoch 8/100\n",
      "313/313 [==============================] - 5s 16ms/step - loss: 0.5659 - accuracy: 0.7221 - val_loss: 0.5401 - val_accuracy: 0.7348\n",
      "Epoch 9/100\n",
      "313/313 [==============================] - 5s 16ms/step - loss: 0.5175 - accuracy: 0.7545 - val_loss: 0.5198 - val_accuracy: 0.7498\n",
      "Epoch 10/100\n",
      "313/313 [==============================] - 5s 16ms/step - loss: 0.4979 - accuracy: 0.7637 - val_loss: 0.5030 - val_accuracy: 0.7656\n",
      "Epoch 11/100\n",
      "313/313 [==============================] - 5s 16ms/step - loss: 0.4832 - accuracy: 0.7742 - val_loss: 0.4949 - val_accuracy: 0.7718\n",
      "Epoch 12/100\n",
      "313/313 [==============================] - 5s 16ms/step - loss: 0.4716 - accuracy: 0.7817 - val_loss: 0.4822 - val_accuracy: 0.7778\n",
      "Epoch 13/100\n",
      "313/313 [==============================] - 5s 17ms/step - loss: 0.4611 - accuracy: 0.7894 - val_loss: 0.4753 - val_accuracy: 0.7814\n",
      "Epoch 14/100\n",
      "313/313 [==============================] - 5s 17ms/step - loss: 0.4531 - accuracy: 0.7944 - val_loss: 0.4685 - val_accuracy: 0.7826\n",
      "Epoch 15/100\n",
      "313/313 [==============================] - 5s 17ms/step - loss: 0.4466 - accuracy: 0.7982 - val_loss: 0.4644 - val_accuracy: 0.7850\n",
      "Epoch 16/100\n",
      "313/313 [==============================] - 5s 17ms/step - loss: 0.4421 - accuracy: 0.8008 - val_loss: 0.4603 - val_accuracy: 0.7852\n",
      "Epoch 17/100\n",
      "313/313 [==============================] - 5s 17ms/step - loss: 0.4372 - accuracy: 0.8038 - val_loss: 0.4571 - val_accuracy: 0.7906\n",
      "Epoch 18/100\n",
      "313/313 [==============================] - 5s 17ms/step - loss: 0.4339 - accuracy: 0.8071 - val_loss: 0.4550 - val_accuracy: 0.7906\n",
      "Epoch 19/100\n",
      "313/313 [==============================] - 5s 16ms/step - loss: 0.4310 - accuracy: 0.8079 - val_loss: 0.4537 - val_accuracy: 0.7928\n",
      "Epoch 20/100\n",
      "313/313 [==============================] - 5s 16ms/step - loss: 0.4281 - accuracy: 0.8101 - val_loss: 0.4580 - val_accuracy: 0.7902\n",
      "Epoch 21/100\n",
      "313/313 [==============================] - 5s 16ms/step - loss: 0.4263 - accuracy: 0.8102 - val_loss: 0.4488 - val_accuracy: 0.7934\n",
      "Epoch 22/100\n",
      "313/313 [==============================] - 5s 16ms/step - loss: 0.4245 - accuracy: 0.8117 - val_loss: 0.4487 - val_accuracy: 0.7930\n",
      "Epoch 23/100\n",
      "313/313 [==============================] - 5s 16ms/step - loss: 0.4232 - accuracy: 0.8122 - val_loss: 0.4481 - val_accuracy: 0.7912\n",
      "Epoch 24/100\n",
      "313/313 [==============================] - 5s 16ms/step - loss: 0.4213 - accuracy: 0.8149 - val_loss: 0.4470 - val_accuracy: 0.7954\n",
      "Epoch 25/100\n",
      "313/313 [==============================] - 5s 16ms/step - loss: 0.4205 - accuracy: 0.8135 - val_loss: 0.4493 - val_accuracy: 0.7922\n",
      "Epoch 26/100\n",
      "313/313 [==============================] - 5s 16ms/step - loss: 0.4194 - accuracy: 0.8156 - val_loss: 0.4589 - val_accuracy: 0.7892\n",
      "Epoch 27/100\n",
      "313/313 [==============================] - 5s 16ms/step - loss: 0.4190 - accuracy: 0.8138 - val_loss: 0.4454 - val_accuracy: 0.7942\n",
      "Epoch 28/100\n",
      "313/313 [==============================] - 5s 16ms/step - loss: 0.4181 - accuracy: 0.8145 - val_loss: 0.4455 - val_accuracy: 0.7932\n",
      "Epoch 29/100\n",
      "313/313 [==============================] - 5s 16ms/step - loss: 0.4174 - accuracy: 0.8146 - val_loss: 0.4453 - val_accuracy: 0.7956\n",
      "Epoch 30/100\n",
      "313/313 [==============================] - 5s 16ms/step - loss: 0.4166 - accuracy: 0.8159 - val_loss: 0.4429 - val_accuracy: 0.7974\n",
      "Epoch 31/100\n",
      "313/313 [==============================] - 5s 16ms/step - loss: 0.4164 - accuracy: 0.8135 - val_loss: 0.4456 - val_accuracy: 0.7932\n",
      "Epoch 32/100\n",
      "313/313 [==============================] - 5s 16ms/step - loss: 0.4155 - accuracy: 0.8147 - val_loss: 0.4426 - val_accuracy: 0.7960\n",
      "Epoch 33/100\n",
      "313/313 [==============================] - 5s 16ms/step - loss: 0.4147 - accuracy: 0.8150 - val_loss: 0.4426 - val_accuracy: 0.7966\n",
      "Epoch 34/100\n",
      "313/313 [==============================] - 5s 16ms/step - loss: 0.4142 - accuracy: 0.8168 - val_loss: 0.4417 - val_accuracy: 0.7980\n",
      "Epoch 35/100\n",
      "313/313 [==============================] - 5s 16ms/step - loss: 0.4140 - accuracy: 0.8162 - val_loss: 0.4414 - val_accuracy: 0.7972\n",
      "Epoch 36/100\n",
      "313/313 [==============================] - 5s 16ms/step - loss: 0.4137 - accuracy: 0.8163 - val_loss: 0.4438 - val_accuracy: 0.7918\n",
      "Epoch 37/100\n",
      "313/313 [==============================] - 5s 16ms/step - loss: 0.4132 - accuracy: 0.8146 - val_loss: 0.4405 - val_accuracy: 0.7978\n",
      "Epoch 38/100\n",
      "313/313 [==============================] - 5s 16ms/step - loss: 0.4124 - accuracy: 0.8163 - val_loss: 0.4392 - val_accuracy: 0.7962\n",
      "Epoch 39/100\n",
      "313/313 [==============================] - 5s 16ms/step - loss: 0.4120 - accuracy: 0.8169 - val_loss: 0.4392 - val_accuracy: 0.7966\n",
      "Epoch 40/100\n",
      "313/313 [==============================] - 5s 16ms/step - loss: 0.4119 - accuracy: 0.8159 - val_loss: 0.4387 - val_accuracy: 0.7968\n",
      "Epoch 41/100\n",
      "313/313 [==============================] - 5s 16ms/step - loss: 0.4113 - accuracy: 0.8163 - val_loss: 0.4388 - val_accuracy: 0.7968\n",
      "Epoch 42/100\n",
      "313/313 [==============================] - 5s 16ms/step - loss: 0.4114 - accuracy: 0.8158 - val_loss: 0.4386 - val_accuracy: 0.7990\n",
      "Epoch 43/100\n",
      "313/313 [==============================] - 5s 16ms/step - loss: 0.4109 - accuracy: 0.8189 - val_loss: 0.4411 - val_accuracy: 0.7954\n",
      "Epoch 44/100\n",
      "313/313 [==============================] - 5s 16ms/step - loss: 0.4107 - accuracy: 0.8171 - val_loss: 0.4378 - val_accuracy: 0.8000\n",
      "Epoch 45/100\n",
      "313/313 [==============================] - 5s 16ms/step - loss: 0.4102 - accuracy: 0.8157 - val_loss: 0.4372 - val_accuracy: 0.7994\n",
      "Epoch 46/100\n",
      "313/313 [==============================] - 5s 16ms/step - loss: 0.4099 - accuracy: 0.8171 - val_loss: 0.4394 - val_accuracy: 0.7956\n",
      "Epoch 47/100\n",
      "313/313 [==============================] - 5s 16ms/step - loss: 0.4093 - accuracy: 0.8173 - val_loss: 0.4462 - val_accuracy: 0.7896\n",
      "Epoch 48/100\n",
      "313/313 [==============================] - 5s 16ms/step - loss: 0.4095 - accuracy: 0.8177 - val_loss: 0.4360 - val_accuracy: 0.8012\n",
      "Epoch 49/100\n",
      "313/313 [==============================] - 5s 16ms/step - loss: 0.4088 - accuracy: 0.8167 - val_loss: 0.4353 - val_accuracy: 0.8010\n",
      "Epoch 50/100\n",
      "313/313 [==============================] - 5s 16ms/step - loss: 0.4089 - accuracy: 0.8178 - val_loss: 0.4349 - val_accuracy: 0.8022\n",
      "Epoch 51/100\n",
      "313/313 [==============================] - 5s 16ms/step - loss: 0.4085 - accuracy: 0.8167 - val_loss: 0.4354 - val_accuracy: 0.8026\n",
      "Epoch 52/100\n",
      "313/313 [==============================] - 6s 18ms/step - loss: 0.4081 - accuracy: 0.8181 - val_loss: 0.4370 - val_accuracy: 0.7962\n",
      "Epoch 53/100\n",
      "313/313 [==============================] - 6s 18ms/step - loss: 0.4078 - accuracy: 0.8191 - val_loss: 0.4342 - val_accuracy: 0.8028\n",
      "Epoch 54/100\n",
      "313/313 [==============================] - 6s 18ms/step - loss: 0.4076 - accuracy: 0.8181 - val_loss: 0.4349 - val_accuracy: 0.8038\n",
      "Epoch 55/100\n",
      "313/313 [==============================] - 6s 18ms/step - loss: 0.4069 - accuracy: 0.8184 - val_loss: 0.4343 - val_accuracy: 0.8040\n",
      "Epoch 56/100\n",
      "313/313 [==============================] - 6s 18ms/step - loss: 0.4068 - accuracy: 0.8184 - val_loss: 0.4344 - val_accuracy: 0.8036\n"
     ]
    }
   ],
   "source": [
    "rmsprop = keras.optimizers.RMSprop(learning_rate=1e-4)\n",
    "model4.compile(optimizer=rmsprop, loss=\"binary_crossentropy\",\n",
    "              metrics=[\"accuracy\"])\n",
    "checkpoint_cb = keras.callbacks.ModelCheckpoint(\"best-gru-model.h5\",\n",
    "                                               save_best_only=True)\n",
    "early_stopping_cb = keras.callbacks.EarlyStopping(patience=3,\n",
    "                                                 restore_best_weights=True)\n",
    "history = model4.fit(train_seq, train_target, epochs=100, batch_size=64,\n",
    "                    validation_data=(val_seq, val_target),\n",
    "                    callbacks=[checkpoint_cb, early_stopping_cb])"
   ]
  },
  {
   "cell_type": "code",
   "execution_count": 178,
   "id": "a89065e1",
   "metadata": {},
   "outputs": [
    {
     "data": {
      "image/png": "[encoded data removed]",
      "text/plain": [
       "<Figure size 432x288 with 1 Axes>"
      ]
     },
     "metadata": {
      "needs_background": "light"
     },
     "output_type": "display_data"
    }
   ],
   "source": [
    "plt.plot(history.history[\"loss\"])\n",
    "plt.plot(history.history[\"val_loss\"])\n",
    "plt.xlabel(\"epoch\")\n",
    "plt.ylabel(\"loss\")\n",
    "plt.legend([\"train\",\"val\"])\n",
    "plt.show()"
   ]
  },
  {
   "cell_type": "code",
   "execution_count": 179,
   "id": "769f181b",
   "metadata": {},
   "outputs": [
    {
     "data": {
      "image/png": "[encoded data removed]",
      "text/plain": [
       "<Figure size 432x288 with 1 Axes>"
      ]
     },
     "metadata": {
      "needs_background": "light"
     },
     "output_type": "display_data"
    }
   ],
   "source": [
    "plt.plot(history.history[\"accuracy\"])\n",
    "plt.plot(history.history[\"val_accuracy\"])\n",
    "plt.xlabel(\"epoch\")\n",
    "plt.ylabel(\"accuracy\")\n",
    "plt.legend([\"train\",\"val\"])\n",
    "plt.show()"
   ]
  },
  {
   "cell_type": "code",
   "execution_count": null,
   "id": "80696a88",
   "metadata": {},
   "outputs": [],
   "source": []
  },
  {
   "cell_type": "code",
   "execution_count": null,
   "id": "5a0985e5",
   "metadata": {},
   "outputs": [],
   "source": []
  }
 ],
 "metadata": {
  "colab": {
   "collapsed_sections": [],
   "name": "11.인공신경망.ipynb",
   "provenance": [],
   "toc_visible": true
  },
  "kernelspec": {
   "display_name": "Python 3 (ipykernel)",
   "language": "python",
   "name": "python3"
  },
  "language_info": {
   "codemirror_mode": {
    "name": "ipython",
    "version": 3
   },
   "file_extension": ".py",
   "mimetype": "text/x-python",
   "name": "python",
   "nbconvert_exporter": "python",
   "pygments_lexer": "ipython3",
   "version": "3.9.7"
  },
  "toc": {
   "base_numbering": 1,
   "nav_menu": {
    "height": "146px",
    "width": "510px"
   },
   "number_sections": true,
   "sideBar": true,
   "skip_h1_title": false,
   "title_cell": "Table of Contents",
   "title_sidebar": "Contents",
   "toc_cell": false,
   "toc_position": {
    "height": "calc(100% - 180px)",
    "left": "10px",
    "top": "150px",
    "width": "313.76px"
   },
   "toc_section_display": true,
   "toc_window_display": true
  },
  "varInspector": {
   "cols": {
    "lenName": 16,
    "lenType": 16,
    "lenVar": 40
   },
   "kernels_config": {
    "python": {
     "delete_cmd_postfix": "",
     "delete_cmd_prefix": "del ",
     "library": "var_list.py",
     "varRefreshCmd": "print(var_dic_list())"
    },
    "r": {
     "delete_cmd_postfix": ") ",
     "delete_cmd_prefix": "rm(",
     "library": "var_list.r",
     "varRefreshCmd": "cat(var_dic_list()) "
    }
   },
   "types_to_exclude": [
    "module",
    "function",
    "builtin_function_or_method",
    "instance",
    "_Feature"
   ],
   "window_display": false
  }
 },
 "nbformat": 4,
 "nbformat_minor": 5
}
