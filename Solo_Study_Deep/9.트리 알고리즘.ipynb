{
 "cells": [
  {
   "cell_type": "code",
   "execution_count": 53,
   "id": "45b4e28a",
   "metadata": {},
   "outputs": [],
   "source": [
    "import pandas as pd\n",
    "import warnings\n",
    "warnings.filterwarnings(\"ignore\") # 경고메세지 차단"
   ]
  },
  {
   "cell_type": "code",
   "execution_count": 14,
   "id": "9f31cbd5",
   "metadata": {},
   "outputs": [],
   "source": [
    "wine = pd.read_csv(\"https://bit.ly/wine_csv_data\")"
   ]
  },
  {
   "cell_type": "code",
   "execution_count": 15,
   "id": "0f0f3bb1",
   "metadata": {},
   "outputs": [
    {
     "data": {
      "text/html": [
       "<div>\n",
       "<style scoped>\n",
       "    .dataframe tbody tr th:only-of-type {\n",
       "        vertical-align: middle;\n",
       "    }\n",
       "\n",
       "    .dataframe tbody tr th {\n",
       "        vertical-align: top;\n",
       "    }\n",
       "\n",
       "    .dataframe thead th {\n",
       "        text-align: right;\n",
       "    }\n",
       "</style>\n",
       "<table border=\"1\" class=\"dataframe\">\n",
       "  <thead>\n",
       "    <tr style=\"text-align: right;\">\n",
       "      <th></th>\n",
       "      <th>alcohol</th>\n",
       "      <th>sugar</th>\n",
       "      <th>pH</th>\n",
       "      <th>class</th>\n",
       "    </tr>\n",
       "  </thead>\n",
       "  <tbody>\n",
       "    <tr>\n",
       "      <th>0</th>\n",
       "      <td>9.4</td>\n",
       "      <td>1.9</td>\n",
       "      <td>3.51</td>\n",
       "      <td>0.0</td>\n",
       "    </tr>\n",
       "    <tr>\n",
       "      <th>1</th>\n",
       "      <td>9.8</td>\n",
       "      <td>2.6</td>\n",
       "      <td>3.20</td>\n",
       "      <td>0.0</td>\n",
       "    </tr>\n",
       "    <tr>\n",
       "      <th>2</th>\n",
       "      <td>9.8</td>\n",
       "      <td>2.3</td>\n",
       "      <td>3.26</td>\n",
       "      <td>0.0</td>\n",
       "    </tr>\n",
       "    <tr>\n",
       "      <th>3</th>\n",
       "      <td>9.8</td>\n",
       "      <td>1.9</td>\n",
       "      <td>3.16</td>\n",
       "      <td>0.0</td>\n",
       "    </tr>\n",
       "    <tr>\n",
       "      <th>4</th>\n",
       "      <td>9.4</td>\n",
       "      <td>1.9</td>\n",
       "      <td>3.51</td>\n",
       "      <td>0.0</td>\n",
       "    </tr>\n",
       "  </tbody>\n",
       "</table>\n",
       "</div>"
      ],
      "text/plain": [
       "   alcohol  sugar    pH  class\n",
       "0      9.4    1.9  3.51    0.0\n",
       "1      9.8    2.6  3.20    0.0\n",
       "2      9.8    2.3  3.26    0.0\n",
       "3      9.8    1.9  3.16    0.0\n",
       "4      9.4    1.9  3.51    0.0"
      ]
     },
     "execution_count": 15,
     "metadata": {},
     "output_type": "execute_result"
    }
   ],
   "source": [
    "wine.head()"
   ]
  },
  {
   "cell_type": "code",
   "execution_count": 16,
   "id": "3150660e",
   "metadata": {},
   "outputs": [
    {
     "data": {
      "text/plain": [
       "array([[ 9.4 ,  1.9 ,  3.51],\n",
       "       [ 9.8 ,  2.6 ,  3.2 ],\n",
       "       [ 9.8 ,  2.3 ,  3.26],\n",
       "       ...,\n",
       "       [ 9.4 ,  1.2 ,  2.99],\n",
       "       [12.8 ,  1.1 ,  3.34],\n",
       "       [11.8 ,  0.8 ,  3.26]])"
      ]
     },
     "execution_count": 16,
     "metadata": {},
     "output_type": "execute_result"
    }
   ],
   "source": [
    "data = wine[[\"alcohol\", \"sugar\", \"pH\"]].to_numpy()\n",
    "data"
   ]
  },
  {
   "cell_type": "code",
   "execution_count": 17,
   "id": "74a81b78",
   "metadata": {},
   "outputs": [
    {
     "data": {
      "text/plain": [
       "array([0., 0., 0., ..., 1., 1., 1.])"
      ]
     },
     "execution_count": 17,
     "metadata": {},
     "output_type": "execute_result"
    }
   ],
   "source": [
    "target = wine[\"class\"].to_numpy()\n",
    "target"
   ]
  },
  {
   "cell_type": "code",
   "execution_count": 18,
   "id": "f4fd2829",
   "metadata": {},
   "outputs": [],
   "source": [
    "from sklearn.model_selection import train_test_split\n",
    "train_input, test_input, train_target, test_target = train_test_split(data, target, test_size=0.2, random_state=42)"
   ]
  },
  {
   "cell_type": "code",
   "execution_count": 19,
   "id": "4ff300df",
   "metadata": {},
   "outputs": [
    {
     "name": "stdout",
     "output_type": "stream",
     "text": [
      "(5197, 3) (1300, 3)\n"
     ]
    }
   ],
   "source": [
    "print(train_input.shape, test_input.shape)"
   ]
  },
  {
   "cell_type": "code",
   "execution_count": 20,
   "id": "bf25182b",
   "metadata": {},
   "outputs": [],
   "source": [
    "from sklearn.preprocessing import StandardScaler\n",
    "ss = StandardScaler()\n",
    "ss.fit(train_input)\n",
    "train_scaled = ss.transform(train_input)\n",
    "test_scaled = ss.transform(test_input)"
   ]
  },
  {
   "cell_type": "code",
   "execution_count": 21,
   "id": "7c72f035",
   "metadata": {},
   "outputs": [
    {
     "name": "stdout",
     "output_type": "stream",
     "text": [
      "0.7808350971714451\n",
      "0.7776923076923077\n"
     ]
    }
   ],
   "source": [
    "from sklearn.linear_model import LogisticRegression\n",
    "lr = LogisticRegression()\n",
    "lr.fit(train_scaled, train_target)\n",
    "print(lr.score(train_scaled, train_target))\n",
    "print(lr.score(test_scaled, test_target))"
   ]
  },
  {
   "cell_type": "markdown",
   "id": "b4b3365a",
   "metadata": {},
   "source": [
    "---\n",
    "# 트리 알고리즘\n",
    "\n",
    "특성화를 할 필요없다. scaled 불필요"
   ]
  },
  {
   "cell_type": "code",
   "execution_count": 22,
   "id": "934f6a3a",
   "metadata": {},
   "outputs": [
    {
     "name": "stdout",
     "output_type": "stream",
     "text": [
      "0.996921300750433\n",
      "0.8592307692307692\n"
     ]
    }
   ],
   "source": [
    "from sklearn.tree import DecisionTreeClassifier\n",
    "dt = DecisionTreeClassifier(random_state=42)\n",
    "dt.fit(train_scaled, train_target)\n",
    "print(dt.score(train_scaled, train_target))\n",
    "print(dt.score(test_scaled, test_target))"
   ]
  },
  {
   "cell_type": "markdown",
   "id": "0f378f9b",
   "metadata": {},
   "source": [
    "---\n",
    "## 트리 Plot"
   ]
  },
  {
   "cell_type": "code",
   "execution_count": 23,
   "id": "f02dc579",
   "metadata": {},
   "outputs": [
    {
     "data": {
      "image/png": "[encoded data removed]",
      "text/plain": [
       "<Figure size 720x504 with 1 Axes>"
      ]
     },
     "metadata": {
      "needs_background": "light"
     },
     "output_type": "display_data"
    }
   ],
   "source": [
    "import matplotlib.pyplot as plt\n",
    "from sklearn.tree import plot_tree\n",
    "plt.figure(figsize=(10,7))\n",
    "plot_tree(dt)\n",
    "plt.show()"
   ]
  },
  {
   "cell_type": "code",
   "execution_count": 24,
   "id": "813569f9",
   "metadata": {},
   "outputs": [
    {
     "data": {
      "image/png": "[encoded data removed]",
      "text/plain": [
       "<Figure size 720x504 with 1 Axes>"
      ]
     },
     "metadata": {
      "needs_background": "light"
     },
     "output_type": "display_data"
    }
   ],
   "source": [
    "plt.figure(figsize=(10,7))\n",
    "plot_tree(dt, max_depth=1, filled=True, feature_names=[\"alcohol\",\"sugar\",\"pH\"])\n",
    "plt.show()"
   ]
  },
  {
   "cell_type": "markdown",
   "id": "e5cd9039",
   "metadata": {},
   "source": [
    "* Decision Tree 는 부모노드와 자식노드의 불순도 차이가 가능한 크도록 트리를 성장\n",
    "* 지니 불순도 (Gini impurity), 엔트로피 불순도\n",
    "* 정보 이득 information gain = 부모와 자식의 불순도 차이"
   ]
  },
  {
   "cell_type": "markdown",
   "id": "163feedf",
   "metadata": {},
   "source": [
    "---\n",
    "## 가지치기"
   ]
  },
  {
   "cell_type": "code",
   "execution_count": 25,
   "id": "dbcf363f",
   "metadata": {},
   "outputs": [
    {
     "name": "stdout",
     "output_type": "stream",
     "text": [
      "0.8454877814123533\n",
      "0.8415384615384616\n"
     ]
    }
   ],
   "source": [
    "dt = DecisionTreeClassifier(max_depth=3, random_state=42)\n",
    "dt.fit(train_scaled, train_target)\n",
    "print(dt.score(train_scaled, train_target))\n",
    "print(dt.score(test_scaled, test_target))"
   ]
  },
  {
   "cell_type": "code",
   "execution_count": 26,
   "id": "d756c6e6",
   "metadata": {},
   "outputs": [
    {
     "data": {
      "image/png": "[encoded data removed]",
      "text/plain": [
       "<Figure size 1440x1080 with 1 Axes>"
      ]
     },
     "metadata": {
      "needs_background": "light"
     },
     "output_type": "display_data"
    }
   ],
   "source": [
    "plt.figure(figsize=(20,15))\n",
    "plot_tree(dt, filled=True, feature_names=[\"alcohol\",\"sugar\",\"pH\"])\n",
    "plt.show()"
   ]
  },
  {
   "cell_type": "markdown",
   "id": "38dce0e3",
   "metadata": {},
   "source": [
    "---\n",
    "## dt.feature_importances_ 특성중요도"
   ]
  },
  {
   "cell_type": "code",
   "execution_count": 27,
   "id": "5d2d47c3",
   "metadata": {},
   "outputs": [
    {
     "name": "stdout",
     "output_type": "stream",
     "text": [
      "[0.12345626 0.86862934 0.0079144 ]\n"
     ]
    },
    {
     "data": {
      "text/html": [
       "<div>\n",
       "<style scoped>\n",
       "    .dataframe tbody tr th:only-of-type {\n",
       "        vertical-align: middle;\n",
       "    }\n",
       "\n",
       "    .dataframe tbody tr th {\n",
       "        vertical-align: top;\n",
       "    }\n",
       "\n",
       "    .dataframe thead th {\n",
       "        text-align: right;\n",
       "    }\n",
       "</style>\n",
       "<table border=\"1\" class=\"dataframe\">\n",
       "  <thead>\n",
       "    <tr style=\"text-align: right;\">\n",
       "      <th></th>\n",
       "      <th>alcohol</th>\n",
       "      <th>sugar</th>\n",
       "      <th>pH</th>\n",
       "      <th>class</th>\n",
       "    </tr>\n",
       "  </thead>\n",
       "  <tbody>\n",
       "    <tr>\n",
       "      <th>0</th>\n",
       "      <td>9.4</td>\n",
       "      <td>1.9</td>\n",
       "      <td>3.51</td>\n",
       "      <td>0.0</td>\n",
       "    </tr>\n",
       "    <tr>\n",
       "      <th>1</th>\n",
       "      <td>9.8</td>\n",
       "      <td>2.6</td>\n",
       "      <td>3.20</td>\n",
       "      <td>0.0</td>\n",
       "    </tr>\n",
       "    <tr>\n",
       "      <th>2</th>\n",
       "      <td>9.8</td>\n",
       "      <td>2.3</td>\n",
       "      <td>3.26</td>\n",
       "      <td>0.0</td>\n",
       "    </tr>\n",
       "    <tr>\n",
       "      <th>3</th>\n",
       "      <td>9.8</td>\n",
       "      <td>1.9</td>\n",
       "      <td>3.16</td>\n",
       "      <td>0.0</td>\n",
       "    </tr>\n",
       "    <tr>\n",
       "      <th>4</th>\n",
       "      <td>9.4</td>\n",
       "      <td>1.9</td>\n",
       "      <td>3.51</td>\n",
       "      <td>0.0</td>\n",
       "    </tr>\n",
       "  </tbody>\n",
       "</table>\n",
       "</div>"
      ],
      "text/plain": [
       "   alcohol  sugar    pH  class\n",
       "0      9.4    1.9  3.51    0.0\n",
       "1      9.8    2.6  3.20    0.0\n",
       "2      9.8    2.3  3.26    0.0\n",
       "3      9.8    1.9  3.16    0.0\n",
       "4      9.4    1.9  3.51    0.0"
      ]
     },
     "execution_count": 27,
     "metadata": {},
     "output_type": "execute_result"
    }
   ],
   "source": [
    "print(dt.feature_importances_)\n",
    "wine.head()\n",
    "## 당도가 가장중요하다, 그리고 alcohol 도수"
   ]
  },
  {
   "cell_type": "markdown",
   "id": "bc7b9d5d",
   "metadata": {},
   "source": [
    "---\n",
    "## 검증세트 validation set\n",
    "\n",
    "테스트를 또 나누는것, 검증세트와 테스트세트"
   ]
  },
  {
   "cell_type": "code",
   "execution_count": 40,
   "id": "467edb4d",
   "metadata": {},
   "outputs": [
    {
     "name": "stdout",
     "output_type": "stream",
     "text": [
      "<class 'pandas.core.frame.DataFrame'>\n",
      "RangeIndex: 6497 entries, 0 to 6496\n",
      "Data columns (total 4 columns):\n",
      " #   Column   Non-Null Count  Dtype  \n",
      "---  ------   --------------  -----  \n",
      " 0   alcohol  6497 non-null   float64\n",
      " 1   sugar    6497 non-null   float64\n",
      " 2   pH       6497 non-null   float64\n",
      " 3   class    6497 non-null   float64\n",
      "dtypes: float64(4)\n",
      "memory usage: 203.2 KB\n"
     ]
    }
   ],
   "source": [
    "import pandas as pd\n",
    "wine = pd.read_csv(\"https://bit.ly/wine_csv_data\")\n",
    "wine.info()"
   ]
  },
  {
   "cell_type": "code",
   "execution_count": 42,
   "id": "c3dce8f0",
   "metadata": {},
   "outputs": [],
   "source": [
    "data = wine[[\"alcohol\",\"sugar\",\"pH\"]].to_numpy()\n",
    "target = wine[\"class\"].to_numpy()"
   ]
  },
  {
   "cell_type": "markdown",
   "id": "5731ee4a",
   "metadata": {},
   "source": [
    "train, test 8:2 나누기"
   ]
  },
  {
   "cell_type": "code",
   "execution_count": 43,
   "id": "d1e322fd",
   "metadata": {},
   "outputs": [],
   "source": [
    "from sklearn.model_selection import train_test_split\n",
    "train_input, test_input, train_target, test_target = train_test_split(data, target, test_size=0.2, random_state=42)"
   ]
  },
  {
   "cell_type": "markdown",
   "id": "62e5b430",
   "metadata": {},
   "source": [
    "train을 또 8:2 로 나누기"
   ]
  },
  {
   "cell_type": "code",
   "execution_count": 44,
   "id": "487a6f5f",
   "metadata": {},
   "outputs": [],
   "source": [
    "sub_input, val_input, sub_target, val_target = train_test_split(train_input, train_target, test_size=0.2, random_state=42)"
   ]
  },
  {
   "cell_type": "code",
   "execution_count": 47,
   "id": "7c80eb0f",
   "metadata": {},
   "outputs": [
    {
     "name": "stdout",
     "output_type": "stream",
     "text": [
      "0.9971133028626413\n",
      "0.864423076923077\n"
     ]
    }
   ],
   "source": [
    "from sklearn.tree import DecisionTreeClassifier\n",
    "dt = DecisionTreeClassifier(random_state=42)\n",
    "dt.fit(sub_input, sub_target)\n",
    "print(dt.score(sub_input, sub_target))\n",
    "print(dt.score(val_input, val_target))"
   ]
  },
  {
   "cell_type": "markdown",
   "id": "14f7f6a3",
   "metadata": {},
   "source": [
    "---\n",
    "## 교차검증 cross validation (K - fold)"
   ]
  },
  {
   "cell_type": "code",
   "execution_count": 48,
   "id": "d11045b4",
   "metadata": {},
   "outputs": [
    {
     "name": "stdout",
     "output_type": "stream",
     "text": [
      "{'fit_time': array([0.00500107, 0.00400138, 0.00600147, 0.00500107, 0.00500131]), 'score_time': array([0.        , 0.00099969, 0.        , 0.00099993, 0.        ]), 'test_score': array([0.86923077, 0.84615385, 0.87680462, 0.84889317, 0.83541867])}\n"
     ]
    }
   ],
   "source": [
    "from sklearn.model_selection import cross_validate\n",
    "scores = cross_validate(dt, train_input, train_target)\n",
    "print(scores)"
   ]
  },
  {
   "cell_type": "markdown",
   "id": "200b7500",
   "metadata": {},
   "source": [
    "> 여기위의 test_score 는 test데이터의 점수가 아니라 검증데이터의 점수이다"
   ]
  },
  {
   "cell_type": "code",
   "execution_count": 49,
   "id": "515f3aa1",
   "metadata": {},
   "outputs": [
    {
     "name": "stdout",
     "output_type": "stream",
     "text": [
      "0.855300214703487\n"
     ]
    }
   ],
   "source": [
    "import numpy as np\n",
    "print(np.mean(scores[\"test_score\"]))"
   ]
  },
  {
   "cell_type": "code",
   "execution_count": 55,
   "id": "463da351",
   "metadata": {},
   "outputs": [
    {
     "name": "stdout",
     "output_type": "stream",
     "text": [
      "0.855300214703487\n"
     ]
    }
   ],
   "source": [
    "from sklearn.model_selection import StratifiedKFold\n",
    "scores = cross_validate(dt, train_input, train_target, cv=StratifiedKFold())\n",
    "print(np.mean(scores[\"test_score\"]))"
   ]
  },
  {
   "cell_type": "code",
   "execution_count": 56,
   "id": "2ff85052",
   "metadata": {},
   "outputs": [],
   "source": [
    "splitter = StratifiedKFold(n_splits=10, shuffle=True, random_state=42)"
   ]
  },
  {
   "cell_type": "code",
   "execution_count": 57,
   "id": "bd88b9b6",
   "metadata": {},
   "outputs": [
    {
     "name": "stdout",
     "output_type": "stream",
     "text": [
      "0.8574181117533719\n"
     ]
    }
   ],
   "source": [
    "scores=cross_validate(dt, train_input, train_target, cv=splitter)\n",
    "print(np.mean(scores[\"test_score\"]))"
   ]
  },
  {
   "cell_type": "markdown",
   "id": "52f5cade",
   "metadata": {},
   "source": [
    "## 하이퍼파라미터 튜닝 (AutoML)\n",
    "\n",
    "* **사이킷런의 GridSearchCV 클래스**를 사용"
   ]
  },
  {
   "cell_type": "code",
   "execution_count": 65,
   "id": "4644c454",
   "metadata": {},
   "outputs": [],
   "source": [
    "from sklearn.model_selection import GridSearchCV\n",
    "params = {\"min_impurity_decrease\" : [0.0001, 0.0002, 0.0003, 0.0004, 0.0005]}\n",
    "gs = GridSearchCV(DecisionTreeClassifier(random_state=42), params, n_jobs=-1)\n",
    "\n",
    "# GridSearchCV(\n",
    "# 1. 훈련기 - DecisionTreeClassifier()\n",
    "# 2. 바꾸려는 파라미터 딕셔너리 - params\n",
    "# 3. n_jobs 병렬실행에 사용할 cpu 갯수 - 기본값 1, 전체사용 -1 \n",
    "# )"
   ]
  },
  {
   "cell_type": "code",
   "execution_count": 74,
   "id": "eee1cd4e",
   "metadata": {},
   "outputs": [
    {
     "name": "stdout",
     "output_type": "stream",
     "text": [
      "0.9615162593804117\n",
      "{'min_impurity_decrease': 0.0001}\n",
      "[0.86819297 0.86453617 0.86492226 0.86780891 0.86761605]\n",
      "[1 5 4 2 3]\n"
     ]
    }
   ],
   "source": [
    "# 교차검증에서 최적의 하이퍼파라미터를 찾으면 자동으로 전체 훈련 세트에서 다시 모델을 훈련\n",
    "gs.fit(train_input, train_target)\n",
    "\n",
    "# 이때 최고 성능 모델 - gs.best_estimator_\n",
    "dt = gs.best_estimator_\n",
    "print(dt.score(train_input, train_target))\n",
    "\n",
    "# 이때 최적의 파라미터 gs.best_params_\n",
    "print(gs.best_params_)\n",
    "\n",
    "# 각 교차 검증의 평균점수\n",
    "print(gs.cv_results_[\"mean_test_score\"])\n",
    "print(gs.cv_results_[\"rank_test_score\"])\n",
    "\n",
    "# mean_test_score\n",
    "# rank_test_score"
   ]
  },
  {
   "cell_type": "code",
   "execution_count": 75,
   "id": "5b2525b1",
   "metadata": {},
   "outputs": [
    {
     "name": "stdout",
     "output_type": "stream",
     "text": [
      "{'min_impurity_decrease': 0.0001}\n"
     ]
    }
   ],
   "source": [
    "# 자동으로 가장 큰 값의 인덱스를 추출\n",
    "best_index = np.argmax(gs.cv_results_[\"mean_test_score\"])\n",
    "print(gs.cv_results_[\"params\"][best_index])"
   ]
  },
  {
   "cell_type": "markdown",
   "id": "d38be9be",
   "metadata": {},
   "source": [
    "* params 값 설정"
   ]
  },
  {
   "cell_type": "code",
   "execution_count": 76,
   "id": "81db9ff5",
   "metadata": {},
   "outputs": [],
   "source": [
    "params = {\"min_impurity_decrease\" : np.arange(0.0001, 0.001, 0.0001),\n",
    "         \"max_depth\": range(5,20,1),\n",
    "         \"min_samples_split\":range(2,100,10)}"
   ]
  },
  {
   "cell_type": "code",
   "execution_count": 78,
   "id": "be2f60d9",
   "metadata": {},
   "outputs": [
    {
     "name": "stdout",
     "output_type": "stream",
     "text": [
      "{'max_depth': 14, 'min_impurity_decrease': 0.0004, 'min_samples_split': 12}\n"
     ]
    }
   ],
   "source": [
    "gs = GridSearchCV(DecisionTreeClassifier(random_state=42), params, n_jobs=-1)\n",
    "gs.fit(train_input,train_target)\n",
    "\n",
    "# 최상의 매개변수 조합\n",
    "print(gs.best_params_)"
   ]
  },
  {
   "cell_type": "code",
   "execution_count": 79,
   "id": "a9d3843b",
   "metadata": {},
   "outputs": [
    {
     "name": "stdout",
     "output_type": "stream",
     "text": [
      "0.8683865773302731\n"
     ]
    }
   ],
   "source": [
    "# 최상의 교차 검증 점수\n",
    "print(np.max(gs.cv_results_[\"mean_test_score\"]))"
   ]
  },
  {
   "cell_type": "markdown",
   "id": "f3b1c2be",
   "metadata": {},
   "source": [
    "* 문제점 : 매개변수의 간격을 정하는 것은 사람이 해야함"
   ]
  },
  {
   "cell_type": "markdown",
   "id": "bea35358",
   "metadata": {},
   "source": [
    "### 파라미터 튜닝 - 랜덤서치"
   ]
  },
  {
   "cell_type": "markdown",
   "id": "b3096d12",
   "metadata": {},
   "source": [
    "* 매개변수를 샘플링할 수 있는 확률 분포 객체를 전달"
   ]
  },
  {
   "cell_type": "code",
   "execution_count": 80,
   "id": "2bc9ff0b",
   "metadata": {},
   "outputs": [],
   "source": [
    "from scipy.stats import uniform, randint"
   ]
  },
  {
   "cell_type": "markdown",
   "id": "e88a792c",
   "metadata": {},
   "source": [
    "* 파라미터의 값을 랜덤 샘플링을 한다.\n",
    "* 횟수는 RandomizedSearchCV 의 설정값에서 준다"
   ]
  },
  {
   "cell_type": "code",
   "execution_count": 82,
   "id": "872d0945",
   "metadata": {},
   "outputs": [],
   "source": [
    "params = {'min_impurity_decrease': uniform(0.0001,0.001),\n",
    "         'max_depth': randint(20,50),\n",
    "         'min_samples_split' : randint(2,25),\n",
    "         'min_samples_leaf' : randint(1,25)}"
   ]
  },
  {
   "cell_type": "code",
   "execution_count": 83,
   "id": "38072f9c",
   "metadata": {},
   "outputs": [
    {
     "data": {
      "text/plain": [
       "RandomizedSearchCV(estimator=DecisionTreeClassifier(random_state=42),\n",
       "                   n_iter=100, n_jobs=-1,\n",
       "                   param_distributions={'max_depth': <scipy.stats._distn_infrastructure.rv_frozen object at 0x000002948FF73B50>,\n",
       "                                        'min_impurity_decrease': <scipy.stats._distn_infrastructure.rv_frozen object at 0x0000029493F0C100>,\n",
       "                                        'min_samples_leaf': <scipy.stats._distn_infrastructure.rv_frozen object at 0x000002948FFE8BE0>,\n",
       "                                        'min_samples_split': <scipy.stats._distn_infrastructure.rv_frozen object at 0x0000029492920820>},\n",
       "                   random_state=42)"
      ]
     },
     "execution_count": 83,
     "metadata": {},
     "output_type": "execute_result"
    }
   ],
   "source": [
    "from sklearn.model_selection import RandomizedSearchCV\n",
    "gs = RandomizedSearchCV(DecisionTreeClassifier(random_state=42), params, n_iter=100, n_jobs=-1, random_state=42)\n",
    "gs.fit(train_input, train_target)"
   ]
  },
  {
   "cell_type": "code",
   "execution_count": 84,
   "id": "1641c79b",
   "metadata": {},
   "outputs": [
    {
     "name": "stdout",
     "output_type": "stream",
     "text": [
      "{'max_depth': 39, 'min_impurity_decrease': 0.00034102546602601173, 'min_samples_leaf': 7, 'min_samples_split': 13}\n"
     ]
    }
   ],
   "source": [
    "print(gs.best_params_)"
   ]
  },
  {
   "cell_type": "code",
   "execution_count": 85,
   "id": "ef8ea389",
   "metadata": {},
   "outputs": [
    {
     "name": "stdout",
     "output_type": "stream",
     "text": [
      "0.8695428296438884\n"
     ]
    }
   ],
   "source": [
    "print(np.max(gs.cv_results_[\"mean_test_score\"]))"
   ]
  },
  {
   "cell_type": "code",
   "execution_count": 86,
   "id": "e0c398ec",
   "metadata": {
    "scrolled": true
   },
   "outputs": [
    {
     "name": "stdout",
     "output_type": "stream",
     "text": [
      "0.86\n"
     ]
    }
   ],
   "source": [
    "dt = gs.best_estimator_\n",
    "print(dt.score(test_input, test_target))"
   ]
  },
  {
   "cell_type": "markdown",
   "id": "d244d262",
   "metadata": {},
   "source": [
    "---\n",
    "# 랜덤포레스트 (Random Forest)\n",
    "\n",
    "* 앙상블 학습 (ensemble learning)\n",
    "> 정형 데이터를 가장 잘 다루는 알고리즘\n",
    "\n",
    "* 부트스트랩 샘플링\n",
    "> 데이터 세트에서 중복을 허용하여 데이터를 샘플링하는 방식 (뽑은 데이터를 다시 되돌려 넣음)"
   ]
  },
  {
   "cell_type": "code",
   "execution_count": 3,
   "id": "f6416645",
   "metadata": {},
   "outputs": [],
   "source": [
    "import numpy as np\n",
    "import pandas as pd\n",
    "from sklearn.model_selection import train_test_split\n",
    "\n",
    "wine = pd.read_csv(\"https://bit.ly/wine_csv_data\")\n",
    "data = wine[[\"alcohol\", \"sugar\", \"pH\"]].to_numpy()\n",
    "target = wine[\"class\"].to_numpy()"
   ]
  },
  {
   "cell_type": "code",
   "execution_count": 4,
   "id": "3ff2fc48",
   "metadata": {},
   "outputs": [],
   "source": [
    "train_input, test_input, train_target, test_target = train_test_split(data, target, random_state=42)"
   ]
  },
  {
   "cell_type": "code",
   "execution_count": 9,
   "id": "8d3e8926",
   "metadata": {},
   "outputs": [
    {
     "name": "stdout",
     "output_type": "stream",
     "text": [
      "0.997844759088341 0.8914208392565683\n"
     ]
    }
   ],
   "source": [
    "from sklearn.model_selection import cross_validate\n",
    "from sklearn.ensemble import RandomForestClassifier\n",
    "rf = RandomForestClassifier(n_jobs=-1, random_state=42)\n",
    "scores = cross_validate(rf, train_input, train_target, return_train_score=True, n_jobs=-1)\n",
    "print(np.mean(scores[\"train_score\"]), np.mean(scores[\"test_score\"]))"
   ]
  },
  {
   "cell_type": "markdown",
   "id": "96bc0469",
   "metadata": {},
   "source": [
    "* 간단하고 특성이 많지 않아서 AutoML을 해도 결과가 크게 달라지지 않는다.\n",
    "\n",
    "`랜덤포레스트`는 `결정트리`의 앙상블이기 때문에 `DecisionTreeClassifier()`가 제공하는건 다 제공한다.\n",
    "또한 결정트리의 큰 장점 중 하나인 특성 중요도를 계산한다.\n",
    "> `랜덤포레스트`의 특성 중요도는 각 `결정트리`의 특성 중요도를 취합한 것이다. "
   ]
  },
  {
   "cell_type": "code",
   "execution_count": 29,
   "id": "d09ab852",
   "metadata": {},
   "outputs": [
    {
     "name": "stdout",
     "output_type": "stream",
     "text": [
      "[0.23167441 0.50039841 0.26792718]\n",
      "[0.12345626 0.86862934 0.0079144 ]\n"
     ]
    }
   ],
   "source": [
    "rf.fit(train_input, train_target)\n",
    "\n",
    "# 랜덤포레스트의 특성 중요도\n",
    "print(rf.feature_importances_)\n",
    "\n",
    "# 결정트리의 특성 중요도\n",
    "print(dt.feature_importances_)"
   ]
  },
  {
   "cell_type": "markdown",
   "id": "3a3afd56",
   "metadata": {},
   "source": [
    "> 랜덤포레스트의 특성중요도는 결정트리의 특성중요도 보다 완만하다.\n",
    ">* 이는 랜덤포레스트는 하나의 특성에 과도하게 집중하지 않고 좀 더 많은 특성이 훈련에 기여할 기회를 얻기 때문\n",
    ">* 이를 통해 과대적합을 줄이고 일반화 성능을 높이는 데 도움을 줌"
   ]
  },
  {
   "cell_type": "code",
   "execution_count": 31,
   "id": "9d46fcae",
   "metadata": {},
   "outputs": [
    {
     "name": "stdout",
     "output_type": "stream",
     "text": [
      "0.8934000384837406\n"
     ]
    }
   ],
   "source": [
    "rf = RandomForestClassifier(oob_score=True, n_jobs=-1, random_state=42)\n",
    "rf.fit(train_input, train_target)\n",
    "print(rf.oob_score_)"
   ]
  },
  {
   "cell_type": "markdown",
   "id": "b9f60a86",
   "metadata": {},
   "source": [
    "> 또한 RandomForestClassifier() 에는 자체적으로 모델을 평가할 수 있다.\n",
    "> * 중복을 허용하여 샘플링을 하기때문에 부트스트랩 샘플에 포함되지 않고 남는 샘플(OOB)이 있다.\n",
    "> * 이러한 샘플을 OOB , out of bag 샘플이라고 하고 검증 세트의 역할을 할 수 있다.\n",
    "> * 클래스에 oob_score = True 를 해주면 된다\n",
    "> * 교차검증을 대신할 수 있기 때문에 결과적으로 더 많은 훈련세트의 샘플을 사용할 수 있다."
   ]
  },
  {
   "cell_type": "markdown",
   "id": "d757a00d",
   "metadata": {},
   "source": [
    "---\n",
    "## 엑스트라 트리(Extra Tree)\n",
    "\n",
    "1. 랜덤포레스트와 비슷하게 동작을 한다.\n",
    "1. 차이점은 부트스트랩을 사용하지 않고 전체 훈련 세트를 사용한다.\n",
    "1. 노드를 분할할 때 가장 좋은 분할을 찾는 것이 아닌 무작위 분할을 실시한다.\n",
    "1. 즉 `DecisionTreeClassifier`의 `splitter` 매개변수를 `random`으로 지정한것이 엑스트라 트리이다.\n",
    "* **즉 성능은 낮아지겠지만 많은 트리를 앙상블하여 과대적합을 막고, 단순히 무작위로 선택하기때문에 속도가 빠르다** \n",
    "1. Extra Tree 또한 특성중요도를 제공한다."
   ]
  },
  {
   "cell_type": "code",
   "execution_count": 32,
   "id": "c0b447e7",
   "metadata": {},
   "outputs": [
    {
     "name": "stdout",
     "output_type": "stream",
     "text": [
      "0.9974503966084433 0.8887848893166506\n"
     ]
    }
   ],
   "source": [
    "from sklearn.ensemble import ExtraTreesClassifier\n",
    "et = ExtraTreesClassifier(n_jobs=-1, random_state=42)\n",
    "scores = cross_validate(et, train_input, train_target, return_train_score=True, n_jobs=-1)\n",
    "print(np.mean(scores[\"train_score\"]), np.mean(scores[\"test_score\"]))"
   ]
  },
  {
   "cell_type": "code",
   "execution_count": 34,
   "id": "07288e0c",
   "metadata": {},
   "outputs": [
    {
     "name": "stdout",
     "output_type": "stream",
     "text": [
      "[0.20183568 0.52242907 0.27573525]\n"
     ]
    }
   ],
   "source": [
    "et.fit(train_input, train_target)\n",
    "print(et.feature_importances_)"
   ]
  },
  {
   "cell_type": "markdown",
   "id": "014360da",
   "metadata": {},
   "source": [
    "# 그레이디언트 부스팅(gradient boosting)\n",
    "\n",
    "* 깊이가 얕은 결정 트리를 사용하여 트리를 보완\n",
    "    > 기본적으로 깊이가 3인 결정트리를 100개 사용.\n",
    "    \n",
    "    > 깊이가 얕은 결정트리를 사용하기에 과대적합에 강하고 높은 일반화 성능을 가짐\n",
    "    \n",
    "* 경사하강법을 사용하여 트리를 앙상블에 추가\n",
    "    >손실함수의 가장 낮을 곳을 찾아 내려오는 방법\n",
    "    \n",
    "    > 깊이가 얕은 트리를 사용\n",
    "    \n",
    "    > 학습률 매개변수로 속도를 조절"
   ]
  },
  {
   "cell_type": "code",
   "execution_count": 35,
   "id": "e50b2dc6",
   "metadata": {},
   "outputs": [
    {
     "name": "stdout",
     "output_type": "stream",
     "text": [
      "0.8881086892152563 0.8720430147331015\n"
     ]
    }
   ],
   "source": [
    "from sklearn.ensemble import GradientBoostingClassifier\n",
    "gb = GradientBoostingClassifier(random_state=42)\n",
    "scores = cross_validate(gb, train_input, train_target, return_train_score=True, n_jobs=-1)\n",
    "print(np.mean(scores[\"train_score\"]), np.mean(scores[\"test_score\"]))"
   ]
  },
  {
   "cell_type": "markdown",
   "id": "a00f2857",
   "metadata": {},
   "source": [
    "* 과대적합에 굉장히 강한것을 확인할 수 있다.\n",
    "* 여기서 트리의 개수를 늘리더라도 과대적합에 강하다.\n",
    "* 학습률을 증가시키고 트리의 개수를 증가시키면 성능이 향상된다."
   ]
  },
  {
   "cell_type": "markdown",
   "id": "a38b4cff",
   "metadata": {},
   "source": [
    "* **트리의 갯수를 500개로 증가, 학습률learning_rate를 0.2로 증가 (기본값 0.1)**"
   ]
  },
  {
   "cell_type": "code",
   "execution_count": 36,
   "id": "ea6daca3",
   "metadata": {},
   "outputs": [
    {
     "name": "stdout",
     "output_type": "stream",
     "text": [
      "0.9464595437171814 0.8780082549788999\n"
     ]
    }
   ],
   "source": [
    "gb = GradientBoostingClassifier(n_estimators=500, learning_rate=0.2, random_state=42,)\n",
    "scores = cross_validate(gb, train_input, train_target, return_train_score=True, n_jobs=-1)\n",
    "print(np.mean(scores[\"train_score\"]), np.mean(scores[\"test_score\"]))"
   ]
  },
  {
   "cell_type": "markdown",
   "id": "b8fe2ba6",
   "metadata": {},
   "source": [
    "* 특성중요도 확인"
   ]
  },
  {
   "cell_type": "code",
   "execution_count": 37,
   "id": "f5ae0716",
   "metadata": {},
   "outputs": [
    {
     "name": "stdout",
     "output_type": "stream",
     "text": [
      "[0.15872278 0.68011572 0.16116151]\n"
     ]
    }
   ],
   "source": [
    "gb.fit(train_input, train_target)\n",
    "print(gb.feature_importances_)"
   ]
  },
  {
   "cell_type": "markdown",
   "id": "06922c22",
   "metadata": {},
   "source": [
    "> 일반적으로 gradient boosting이 random forest 보다 조금 더 높은 성능을 보인다.\n",
    "\n",
    "> 하지만 순서대로 트리를 추가하기 때문에 속도는 느리다. 즉 n_jobs 를 할 수 없다."
   ]
  },
  {
   "cell_type": "markdown",
   "id": "a9d74d11",
   "metadata": {},
   "source": [
    "# 히스토그램 기반 그레이디언트 부스팅\n",
    "\n",
    "* Histogram-based gradient boosting\n",
    "\n",
    "1. 입력특성을 256개의 구간으로 나눈다. 따라서 최적의 분할을 매우 빠르게 찾는다.\n",
    "1. 256개의 구간중 하나를 떼어놓고 누락된 값을 찾기 위해 사용한다.\n",
    "1. 따라서 입력에 누락된 값이 있더라도 전처리가 필요가 없다"
   ]
  },
  {
   "cell_type": "markdown",
   "id": "1f256836",
   "metadata": {},
   "source": [
    "## HistGradientBoostingClassifier"
   ]
  },
  {
   "cell_type": "code",
   "execution_count": 38,
   "id": "6db38543",
   "metadata": {},
   "outputs": [
    {
     "name": "stdout",
     "output_type": "stream",
     "text": [
      "0.9321723946453317 0.8801241948619236\n"
     ]
    }
   ],
   "source": [
    "from sklearn.experimental import enable_hist_gradient_boosting\n",
    "from sklearn.ensemble import HistGradientBoostingClassifier\n",
    "hgb = HistGradientBoostingClassifier(random_state=42)\n",
    "scores = cross_validate(hgb, train_input, train_target, return_train_score=True)\n",
    "print(np.mean(scores[\"train_score\"]),np.mean(scores[\"test_score\"]))"
   ]
  },
  {
   "cell_type": "markdown",
   "id": "b7f0c2ed",
   "metadata": {},
   "source": [
    "### 특성중요도\n",
    "\n",
    "* 특성을 하나씩 랜덤하게 섞어서 모델의 성능이 변화하는지 관찰\n",
    "\n",
    "* 어떤 특성이 중요한지 계산\n",
    "\n",
    "* 훈련세트, 테스트세트, 추정기 모델에 모두 사용할 수 있다.\n",
    "\n",
    "* `n_repeats`매개변수 - 랜덤하게 섞을 횟수를 10으로 지정, 기본값 5\n",
    "\n",
    "* `permutation_importance()` 함수가 반환하는 객체는 반복으로 얻은 특성의 중요도, 평균, 표준편차를 가진다."
   ]
  },
  {
   "cell_type": "code",
   "execution_count": 40,
   "id": "683d2e83",
   "metadata": {},
   "outputs": [
    {
     "data": {
      "text/plain": [
       "HistGradientBoostingClassifier(random_state=42)"
      ]
     },
     "execution_count": 40,
     "metadata": {},
     "output_type": "execute_result"
    }
   ],
   "source": [
    "from sklearn.inspection import permutation_importance\n",
    "hgb.fit(train_input, train_target)"
   ]
  },
  {
   "cell_type": "code",
   "execution_count": 43,
   "id": "ac153c22",
   "metadata": {},
   "outputs": [
    {
     "name": "stdout",
     "output_type": "stream",
     "text": [
      "[0.08876275 0.23438522 0.08027708]\n",
      "[0.05969231 0.20238462 0.049     ]\n"
     ]
    }
   ],
   "source": [
    "# 훈련세트의 특성중요도\n",
    "result = permutation_importance(hgb, train_input, train_target, n_repeats=10, random_state=42, n_jobs=-1)\n",
    "print(result.importances_mean)\n",
    "\n",
    "# 테스트세트의 특성중요도\n",
    "result2 = permutation_importance(hgb, test_input, test_target, n_repeats=10, random_state=42, n_jobs=-1)\n",
    "print(result2.importances_mean)"
   ]
  },
  {
   "cell_type": "code",
   "execution_count": 44,
   "id": "f3fd35a8",
   "metadata": {},
   "outputs": [
    {
     "data": {
      "text/plain": [
       "0.8723076923076923"
      ]
     },
     "execution_count": 44,
     "metadata": {},
     "output_type": "execute_result"
    }
   ],
   "source": [
    "# 성능확인\n",
    "hgb.score(test_input, test_target)"
   ]
  },
  {
   "cell_type": "markdown",
   "id": "420407c7",
   "metadata": {},
   "source": [
    "## XGBoost\n",
    "\n",
    "https://xgboost.readthedocs.io/en/latest"
   ]
  },
  {
   "cell_type": "code",
   "execution_count": 52,
   "id": "c5a1ce79",
   "metadata": {},
   "outputs": [
    {
     "name": "stdout",
     "output_type": "stream",
     "text": [
      "[20:21:43] WARNING: C:/Users/Administrator/workspace/xgboost-win64_release_1.5.1/src/learner.cc:1115: Starting in XGBoost 1.3.0, the default evaluation metric used with the objective 'binary:logistic' was changed from 'error' to 'logloss'. Explicitly set eval_metric if you'd like to restore the old behavior.\n",
      "[20:21:43] WARNING: C:/Users/Administrator/workspace/xgboost-win64_release_1.5.1/src/learner.cc:1115: Starting in XGBoost 1.3.0, the default evaluation metric used with the objective 'binary:logistic' was changed from 'error' to 'logloss'. Explicitly set eval_metric if you'd like to restore the old behavior.\n",
      "[20:21:44] WARNING: C:/Users/Administrator/workspace/xgboost-win64_release_1.5.1/src/learner.cc:1115: Starting in XGBoost 1.3.0, the default evaluation metric used with the objective 'binary:logistic' was changed from 'error' to 'logloss'. Explicitly set eval_metric if you'd like to restore the old behavior.\n",
      "[20:21:44] WARNING: C:/Users/Administrator/workspace/xgboost-win64_release_1.5.1/src/learner.cc:1115: Starting in XGBoost 1.3.0, the default evaluation metric used with the objective 'binary:logistic' was changed from 'error' to 'logloss'. Explicitly set eval_metric if you'd like to restore the old behavior.\n",
      "[20:21:44] WARNING: C:/Users/Administrator/workspace/xgboost-win64_release_1.5.1/src/learner.cc:1115: Starting in XGBoost 1.3.0, the default evaluation metric used with the objective 'binary:logistic' was changed from 'error' to 'logloss'. Explicitly set eval_metric if you'd like to restore the old behavior.\n",
      "\n",
      "0.9555033709953124 0.8799326275264677\n"
     ]
    }
   ],
   "source": [
    "from xgboost import XGBClassifier\n",
    "xgb = XGBClassifier(tree_method=\"hist\", random_state=42)\n",
    "scores = cross_validate(xgb, train_input, train_target, return_train_score=True)\n",
    "print()\n",
    "print(np.mean(scores[\"train_score\"]), np.mean(scores[\"test_score\"]))"
   ]
  },
  {
   "cell_type": "markdown",
   "id": "b4dcb134",
   "metadata": {},
   "source": [
    "## LightGBM\n",
    "\n",
    "https://lightgbm.readthedocs.io/en/latest"
   ]
  },
  {
   "cell_type": "code",
   "execution_count": 54,
   "id": "b1dd8f07",
   "metadata": {},
   "outputs": [
    {
     "name": "stdout",
     "output_type": "stream",
     "text": [
      "0.935828414851749 0.8801251203079884\n"
     ]
    }
   ],
   "source": [
    "from lightgbm import LGBMClassifier\n",
    "lgb = LGBMClassifier(random_state=42)\n",
    "scores = cross_validate(lgb, train_input, train_target, return_train_score=True, n_jobs=-1)\n",
    "print(np.mean(scores[\"train_score\"]), np.mean(scores[\"test_score\"]))"
   ]
  },
  {
   "cell_type": "code",
   "execution_count": null,
   "id": "14da34d9",
   "metadata": {},
   "outputs": [],
   "source": []
  },
  {
   "cell_type": "code",
   "execution_count": null,
   "id": "5fcb6dd2",
   "metadata": {},
   "outputs": [],
   "source": []
  },
  {
   "cell_type": "code",
   "execution_count": null,
   "id": "ef030d2a",
   "metadata": {},
   "outputs": [],
   "source": []
  },
  {
   "cell_type": "code",
   "execution_count": null,
   "id": "ea9e8f6c",
   "metadata": {},
   "outputs": [],
   "source": []
  },
  {
   "cell_type": "code",
   "execution_count": null,
   "id": "53545e87",
   "metadata": {},
   "outputs": [],
   "source": []
  },
  {
   "cell_type": "code",
   "execution_count": null,
   "id": "b8c71e37",
   "metadata": {},
   "outputs": [],
   "source": []
  },
  {
   "cell_type": "code",
   "execution_count": null,
   "id": "fbe5b8b9",
   "metadata": {},
   "outputs": [],
   "source": []
  },
  {
   "cell_type": "code",
   "execution_count": null,
   "id": "bec56003",
   "metadata": {},
   "outputs": [],
   "source": []
  },
  {
   "cell_type": "code",
   "execution_count": null,
   "id": "f0ba165e",
   "metadata": {},
   "outputs": [],
   "source": []
  },
  {
   "cell_type": "code",
   "execution_count": null,
   "id": "46b34c0c",
   "metadata": {},
   "outputs": [],
   "source": []
  }
 ],
 "metadata": {
  "kernelspec": {
   "display_name": "Python 3 (ipykernel)",
   "language": "python",
   "name": "python3"
  },
  "language_info": {
   "codemirror_mode": {
    "name": "ipython",
    "version": 3
   },
   "file_extension": ".py",
   "mimetype": "text/x-python",
   "name": "python",
   "nbconvert_exporter": "python",
   "pygments_lexer": "ipython3",
   "version": "3.9.7"
  },
  "toc": {
   "base_numbering": 1,
   "nav_menu": {},
   "number_sections": true,
   "sideBar": true,
   "skip_h1_title": false,
   "title_cell": "Table of Contents",
   "title_sidebar": "Contents",
   "toc_cell": false,
   "toc_position": {},
   "toc_section_display": true,
   "toc_window_display": false
  },
  "varInspector": {
   "cols": {
    "lenName": 16,
    "lenType": 16,
    "lenVar": 40
   },
   "kernels_config": {
    "python": {
     "delete_cmd_postfix": "",
     "delete_cmd_prefix": "del ",
     "library": "var_list.py",
     "varRefreshCmd": "print(var_dic_list())"
    },
    "r": {
     "delete_cmd_postfix": ") ",
     "delete_cmd_prefix": "rm(",
     "library": "var_list.r",
     "varRefreshCmd": "cat(var_dic_list()) "
    }
   },
   "types_to_exclude": [
    "module",
    "function",
    "builtin_function_or_method",
    "instance",
    "_Feature"
   ],
   "window_display": false
  }
 },
 "nbformat": 4,
 "nbformat_minor": 5
}
