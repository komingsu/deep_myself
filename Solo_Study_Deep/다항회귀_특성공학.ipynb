{
 "cells": [
  {
   "cell_type": "markdown",
   "id": "f1f75203",
   "metadata": {},
   "source": [
    "# 다항회귀 특성공학"
   ]
  },
  {
   "cell_type": "code",
   "execution_count": 74,
   "id": "0b311dfe",
   "metadata": {},
   "outputs": [],
   "source": [
    "import pandas as pd\n",
    "import numpy as np\n",
    "from sklearn.model_selection import train_test_split # train_test 데이터 분할\n",
    "from sklearn.preprocessing import PolynomialFeatures # 전처리용 변환기 fit(), transfrom()\n",
    "from sklearn.linear_model import LinearRegression # 선형회귀 분석\n",
    "from sklearn.preprocessing import StandardScaler # 정규화\n",
    "from sklearn.linear_model import Ridge # 릿지 회귀 규제\n",
    "from sklearn.linear_model import Lasso # 라쏘 회귀 규제\n",
    "import matplotlib.pyplot as plt # 그래프 그리기"
   ]
  },
  {
   "cell_type": "markdown",
   "id": "09465139",
   "metadata": {},
   "source": [
    "---\n",
    "\n",
    "* **데이터 준비하기**"
   ]
  },
  {
   "cell_type": "markdown",
   "id": "4ca9b095",
   "metadata": {},
   "source": [
    "## `pd.read_csv()`"
   ]
  },
  {
   "cell_type": "code",
   "execution_count": 50,
   "id": "f95e41ea",
   "metadata": {},
   "outputs": [
    {
     "name": "stdout",
     "output_type": "stream",
     "text": [
      "<class 'pandas.core.frame.DataFrame'>\n",
      "RangeIndex: 56 entries, 0 to 55\n",
      "Data columns (total 3 columns):\n",
      " #   Column   Non-Null Count  Dtype  \n",
      "---  ------   --------------  -----  \n",
      " 0   length   56 non-null     float64\n",
      " 1    height  56 non-null     float64\n",
      " 2    width   56 non-null     float64\n",
      "dtypes: float64(3)\n",
      "memory usage: 1.4 KB\n"
     ]
    }
   ],
   "source": [
    "df = pd.read_csv(\"https://bit.ly/perch_csv_data\")\n",
    "perch_full = df.to_numpy()\n",
    "df.info()"
   ]
  },
  {
   "cell_type": "code",
   "execution_count": 45,
   "id": "a587ac58",
   "metadata": {},
   "outputs": [],
   "source": [
    "perch_weight = np.array([5.9, 32.0, 40.0, 51.5, 70.0, 100.0, 78.0, 80.0, 85.0, 85.0, 110.0,\n",
    "       115.0, 125.0, 130.0, 120.0, 120.0, 130.0, 135.0, 110.0, 130.0,\n",
    "       150.0, 145.0, 150.0, 170.0, 225.0, 145.0, 188.0, 180.0, 197.0,\n",
    "       218.0, 300.0, 260.0, 265.0, 250.0, 250.0, 300.0, 320.0, 514.0,\n",
    "       556.0, 840.0, 685.0, 700.0, 700.0, 690.0, 900.0, 650.0, 820.0,\n",
    "       850.0, 900.0, 1015.0, 820.0, 1100.0, 1000.0, 1100.0, 1000.0,\n",
    "       1000.0])"
   ]
  },
  {
   "cell_type": "code",
   "execution_count": 52,
   "id": "658f50d5",
   "metadata": {},
   "outputs": [
    {
     "data": {
      "text/plain": [
       "array([[19.6 ,  5.14,  3.04],\n",
       "       [22.  ,  5.88,  3.52],\n",
       "       [18.7 ,  5.2 ,  3.12],\n",
       "       [17.4 ,  4.59,  2.94],\n",
       "       [36.  , 10.61,  6.74],\n",
       "       [25.  ,  6.44,  3.68],\n",
       "       [40.  , 11.93,  7.11],\n",
       "       [39.  , 12.43,  7.35],\n",
       "       [43.  , 11.93,  7.28],\n",
       "       [22.  ,  5.64,  3.52],\n",
       "       [20.  ,  5.08,  2.77],\n",
       "       [22.  ,  6.11,  3.52],\n",
       "       [24.  ,  7.29,  3.72],\n",
       "       [27.5 ,  7.17,  4.34],\n",
       "       [43.  , 12.51,  7.42],\n",
       "       [40.  , 11.73,  7.22],\n",
       "       [24.  ,  6.38,  3.82],\n",
       "       [21.  ,  5.92,  3.31],\n",
       "       [27.5 ,  7.05,  4.34],\n",
       "       [40.  , 12.38,  7.46],\n",
       "       [32.8 , 10.03,  6.02],\n",
       "       [26.5 ,  7.17,  4.14],\n",
       "       [36.5 , 10.88,  6.86],\n",
       "       [13.7 ,  3.53,  2.  ],\n",
       "       [22.7 ,  5.95,  3.63],\n",
       "       [15.  ,  3.82,  2.43],\n",
       "       [37.  , 10.57,  6.37],\n",
       "       [35.  , 11.49,  7.8 ],\n",
       "       [28.7 ,  7.59,  4.64],\n",
       "       [23.5 ,  6.28,  3.72],\n",
       "       [39.  , 11.14,  6.  ],\n",
       "       [21.  ,  5.69,  3.56],\n",
       "       [23.  ,  5.22,  3.63],\n",
       "       [22.  ,  5.52,  4.  ],\n",
       "       [44.  , 12.49,  7.6 ],\n",
       "       [22.5 ,  6.79,  3.62],\n",
       "       [19.  ,  5.64,  3.05],\n",
       "       [37.  , 10.84,  6.26],\n",
       "       [22.  ,  6.11,  3.41],\n",
       "       [25.6 ,  6.56,  4.24],\n",
       "       [42.  , 12.8 ,  6.87],\n",
       "       [34.5 , 10.26,  6.39]])"
      ]
     },
     "execution_count": 52,
     "metadata": {},
     "output_type": "execute_result"
    }
   ],
   "source": [
    "train_input, test_input, train_target, test_target = train_test_split(perch_full, perch_weight, random_state=42)\n",
    "train_input"
   ]
  },
  {
   "cell_type": "markdown",
   "id": "0205d524",
   "metadata": {},
   "source": [
    "---"
   ]
  },
  {
   "cell_type": "markdown",
   "id": "fe5580db",
   "metadata": {},
   "source": [
    "* 특성변환 연습\n",
    "\n",
    "## `PolynomialFeatures()` 특성 변환\n",
    "\n",
    "* `degree = 5` 라는 설정 값을 통해 최고차항을 설정가능\n",
    "\n",
    "## `.fit()` 훈련\n",
    "\n",
    "## `.transfrom()` 변환"
   ]
  },
  {
   "cell_type": "code",
   "execution_count": 53,
   "id": "b106ffb2",
   "metadata": {},
   "outputs": [
    {
     "name": "stdout",
     "output_type": "stream",
     "text": [
      "[[1. 2. 3. 4. 6. 9.]]\n"
     ]
    }
   ],
   "source": [
    "from sklearn.preprocessing import PolynomialFeatures # 전처리용 변환기 fit(), transfrom()\n",
    "polyE = PolynomialFeatures()\n",
    "polyE.fit([[2,3]])\n",
    "print(polyE.transform([[2,3]]))          "
   ]
  },
  {
   "cell_type": "markdown",
   "id": "583c5024",
   "metadata": {},
   "source": [
    "* 원래 2, 3 이었던 특성에 $2^2, 3^2, 2\\times3$ 이 들어오면서 2,3,4,6,9 로 특성이 많아짐\n",
    "* 여기에 1은 선형방정식의 절편값인 $A\\times1$ 에서 생긴것\n",
    "* 하지만 사이킷런의 선형 모델은 자동으로 절편을 추가하기 때문에 1이 필요없다\n",
    "* 그래서 include_bias=False 로 지정한다.\n",
    "\n",
    "* **이때 `.fit([[  ]])`,`.transpose([[]])` 과 같이 대괄호가 2개 들어가는 것에 유의**"
   ]
  },
  {
   "cell_type": "markdown",
   "id": "be349829",
   "metadata": {},
   "source": [
    "* **특성 변환**"
   ]
  },
  {
   "cell_type": "markdown",
   "id": "c6b02d55",
   "metadata": {},
   "source": [
    "## `poly.get_feature_names()` 특성 조합 확인"
   ]
  },
  {
   "cell_type": "code",
   "execution_count": 57,
   "id": "720bad7b",
   "metadata": {},
   "outputs": [
    {
     "name": "stdout",
     "output_type": "stream",
     "text": [
      "(42, 9)\n",
      "['x0', 'x1', 'x2', 'x0^2', 'x0 x1', 'x0 x2', 'x1^2', 'x1 x2', 'x2^2']\n"
     ]
    }
   ],
   "source": [
    "poly = PolynomialFeatures(include_bias=False)\n",
    "poly.fit(train_input)\n",
    "train_poly = poly.transform(train_input)\n",
    "print(train_poly.shape) # 데이터 42개 특성 9개 확인\n",
    "print(poly.get_feature_names()) # 특성 9개의 조합 확인"
   ]
  },
  {
   "cell_type": "markdown",
   "id": "6e371fcd",
   "metadata": {},
   "source": [
    "---\n",
    "* 다중 회귀 모델 훈련"
   ]
  },
  {
   "cell_type": "code",
   "execution_count": 103,
   "id": "0b499225",
   "metadata": {},
   "outputs": [
    {
     "name": "stdout",
     "output_type": "stream",
     "text": [
      "0.9903183436982124\n"
     ]
    }
   ],
   "source": [
    "# train 셋\n",
    "from sklearn.linear_model import LinearRegression\n",
    "lr = LinearRegression()\n",
    "lr.fit(train_poly, train_target)\n",
    "print(lr.score(train_poly, train_target))"
   ]
  },
  {
   "cell_type": "code",
   "execution_count": 104,
   "id": "4fe09e71",
   "metadata": {},
   "outputs": [
    {
     "name": "stdout",
     "output_type": "stream",
     "text": [
      "0.9714559911594203\n"
     ]
    }
   ],
   "source": [
    "# test 셋\n",
    "test_poly = poly.transform(test_input)\n",
    "print(lr.score(test_poly, test_target))"
   ]
  },
  {
   "cell_type": "markdown",
   "id": "a2e3c3c4",
   "metadata": {},
   "source": [
    "-------------\n",
    "\n",
    "* 5차항 특성 생성\n",
    "> 많은 특성을 생성하면 과대적합 발생"
   ]
  },
  {
   "cell_type": "code",
   "execution_count": 105,
   "id": "bfd47edb",
   "metadata": {},
   "outputs": [
    {
     "name": "stdout",
     "output_type": "stream",
     "text": [
      "(42, 55) (14, 55)\n"
     ]
    }
   ],
   "source": [
    "poly5 = PolynomialFeatures(degree=5, include_bias=False)\n",
    "poly5.fit(train_input)\n",
    "train_poly5 = poly5.transform(train_input)\n",
    "test_poly5 = poly5.transform(test_input)\n",
    "print(train_poly5.shape, test_poly5.shape)"
   ]
  },
  {
   "cell_type": "code",
   "execution_count": 106,
   "id": "1ed7c7dd",
   "metadata": {},
   "outputs": [
    {
     "name": "stdout",
     "output_type": "stream",
     "text": [
      "0.999999999997515\n"
     ]
    }
   ],
   "source": [
    "lr.fit(train_poly5, train_target)\n",
    "print(lr.score(train_poly5, train_target)) # 아주 높은 점수"
   ]
  },
  {
   "cell_type": "code",
   "execution_count": 107,
   "id": "01b1ceb5",
   "metadata": {},
   "outputs": [
    {
     "name": "stdout",
     "output_type": "stream",
     "text": [
      "-144.40196592191958\n"
     ]
    }
   ],
   "source": [
    "print(lr.score(test_poly5, test_target)) # 아주 낮은 점수"
   ]
  },
  {
   "cell_type": "markdown",
   "id": "fa2c1ff5",
   "metadata": {},
   "source": [
    "---\n",
    "\n",
    "## `StandardScaler() as SS` 정규화 함수\n",
    "\n",
    "* 규제를 적용하기 위한 데이터 정규화\n",
    "* `ss.fit(train_data)`, `ss.transform(train_data)` 를 이용\n",
    "* test 데이터에도 train 데이터를 통해 학습한 정규화를 이용한다"
   ]
  },
  {
   "cell_type": "code",
   "execution_count": 108,
   "id": "6a2833c2",
   "metadata": {},
   "outputs": [],
   "source": [
    "from sklearn.preprocessing import StandardScaler\n",
    "ss = StandardScaler()\n",
    "ss.fit(train_poly5)\n",
    "train_scaled = ss.transform(train_poly5)\n",
    "test_scaled = ss.transform(test_poly5)"
   ]
  },
  {
   "cell_type": "markdown",
   "id": "3df8cf90",
   "metadata": {},
   "source": [
    "## 릿지(ridge) 와 라쏘(lasso)\n",
    "선형 회귀 모델에 규제를 추가한 모델\n",
    "\n",
    "* `릿지 ridge`는 계수를 제곱한 값을 기준으로 규제\n",
    "* `라쏘 lasso`는 계수의 절댓값을 기분으로 규제\n",
    "\n",
    "일반적으로 릿지를 선호"
   ]
  },
  {
   "cell_type": "markdown",
   "id": "85f05278",
   "metadata": {},
   "source": [
    "### `Ridge()` 릿지\n",
    "\n",
    "* alpha 값을 통해 규제의 강도를 조절할수있다."
   ]
  },
  {
   "cell_type": "code",
   "execution_count": 109,
   "id": "a69b2acc",
   "metadata": {},
   "outputs": [
    {
     "name": "stdout",
     "output_type": "stream",
     "text": [
      "0.9896101671037343\n"
     ]
    }
   ],
   "source": [
    "from sklearn.linear_model import Ridge\n",
    "ridge = Ridge()\n",
    "ridge.fit(train_scaled, train_target)\n",
    "print(ridge.score(train_scaled, train_target))"
   ]
  },
  {
   "cell_type": "code",
   "execution_count": 110,
   "id": "1c078588",
   "metadata": {},
   "outputs": [
    {
     "name": "stdout",
     "output_type": "stream",
     "text": [
      "0.9790693977615376\n"
     ]
    }
   ],
   "source": [
    "print(ridge.score(test_scaled, test_target))"
   ]
  },
  {
   "cell_type": "code",
   "execution_count": 117,
   "id": "aa660cc3",
   "metadata": {},
   "outputs": [
    {
     "name": "stdout",
     "output_type": "stream",
     "text": [
      "alpha : 0.001, train_score : 0.9930455252088376, test_score : 0.956938896147935\n",
      "alpha : 0.01, train_score : 0.9917809981250515, test_score : 0.9800187936871864\n",
      "alpha : 0.1, train_score : 0.9903815817570366, test_score : 0.9827976465386965\n",
      "alpha : 1, train_score : 0.9896101671037343, test_score : 0.9790693977615376\n",
      "alpha : 10, train_score : 0.988728468997471, test_score : 0.9725329582461569\n",
      "alpha : 100, train_score : 0.9841843235774494, test_score : 0.9627042641050291\n",
      "\n",
      "최고점 alpha : 0.1, train_score : 0.9903815817570366, test_score : 0.9827976465386965\n"
     ]
    },
    {
     "data": {
      "image/png": "[encoded data removed]",
      "text/plain": [
       "<Figure size 432x288 with 1 Axes>"
      ]
     },
     "metadata": {
      "needs_background": "light"
     },
     "output_type": "display_data"
    }
   ],
   "source": [
    "# ################################################\n",
    "# #                  특성 변환                   #\n",
    "# from sklearn.preprocessing import PolynomialFeatures\n",
    "# poly = PolynomialFeatures(include_bias=False)\n",
    "# poly.fit(train_input)\n",
    "# train_poly = poly.transform(train_input)\n",
    "# test_poly = poly.transform(test_input)\n",
    "# ################################################\n",
    "\n",
    "# ################################################\n",
    "# #                   정규화                     #\n",
    "# from sklearn.preprocessing import StandardScaler\n",
    "# ss = StandardScaler()\n",
    "# ss.fit(train_poly)\n",
    "# train_scaled = ss.transform(train_poly)\n",
    "# test_scaled = ss.transform(test_poly)\n",
    "# ################################################\n",
    "\n",
    "################################################\n",
    "#                 모델 계산                    #\n",
    "alpha_list = [0.001, 0.01, 0.1, 1, 10, 100]\n",
    "train_score = []\n",
    "test_score = []\n",
    "score = 1\n",
    "max_train = 0\n",
    "max_test = 0\n",
    "temp = 0\n",
    "\n",
    "for alpha in alpha_list:\n",
    "    ridge = Ridge(alpha=alpha) # 모델 생성\n",
    "    ridge.fit(train_scaled, train_target) # 훈련\n",
    "    train_c = ridge.score(train_scaled, train_target)\n",
    "    test_c = ridge.score(test_scaled, test_target)\n",
    "    score_c = train_c - test_c\n",
    "    train_score.append(train_c)\n",
    "    test_score.append(test_c)\n",
    "    print(f\"alpha : {alpha}, train_score : {train_c}, test_score : {test_c}\")\n",
    "          \n",
    "    if score_c < score:\n",
    "        score = score_c\n",
    "        temp = alpha\n",
    "        max_train = train_c\n",
    "        max_test = test_c\n",
    "\n",
    "print(f\"\\n최고점 alpha : {temp}, train_score : {max_train}, test_score : {max_test}\")\n",
    "###############################################\n",
    "\n",
    "\n",
    "###############################################\n",
    "#               릿지 모델 그래프               #\n",
    "import matplotlib.pyplot as plt\n",
    "plt.plot(np.log10(alpha_list), train_score)\n",
    "plt.plot(np.log10(alpha_list), test_score)\n",
    "plt.xlabel(\"alpha\")\n",
    "plt.ylabel(\"R^2\")\n",
    "plt.show()\n",
    "###############################################"
   ]
  },
  {
   "cell_type": "code",
   "execution_count": null,
   "id": "43b7b194",
   "metadata": {},
   "outputs": [],
   "source": []
  },
  {
   "cell_type": "code",
   "execution_count": null,
   "id": "2c387a08",
   "metadata": {},
   "outputs": [],
   "source": []
  }
 ],
 "metadata": {
  "kernelspec": {
   "display_name": "Python 3 (ipykernel)",
   "language": "python",
   "name": "python3"
  },
  "language_info": {
   "codemirror_mode": {
    "name": "ipython",
    "version": 3
   },
   "file_extension": ".py",
   "mimetype": "text/x-python",
   "name": "python",
   "nbconvert_exporter": "python",
   "pygments_lexer": "ipython3",
   "version": "3.9.7"
  },
  "toc": {
   "base_numbering": 1,
   "nav_menu": {},
   "number_sections": true,
   "sideBar": true,
   "skip_h1_title": false,
   "title_cell": "Table of Contents",
   "title_sidebar": "Contents",
   "toc_cell": false,
   "toc_position": {},
   "toc_section_display": true,
   "toc_window_display": false
  },
  "varInspector": {
   "cols": {
    "lenName": 16,
    "lenType": 16,
    "lenVar": 40
   },
   "kernels_config": {
    "python": {
     "delete_cmd_postfix": "",
     "delete_cmd_prefix": "del ",
     "library": "var_list.py",
     "varRefreshCmd": "print(var_dic_list())"
    },
    "r": {
     "delete_cmd_postfix": ") ",
     "delete_cmd_prefix": "rm(",
     "library": "var_list.r",
     "varRefreshCmd": "cat(var_dic_list()) "
    }
   },
   "types_to_exclude": [
    "module",
    "function",
    "builtin_function_or_method",
    "instance",
    "_Feature"
   ],
   "window_display": false
  }
 },
 "nbformat": 4,
 "nbformat_minor": 5
}
