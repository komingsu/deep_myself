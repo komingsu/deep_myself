{
 "cells": [
  {
   "cell_type": "markdown",
   "id": "52edd488",
   "metadata": {},
   "source": [
    "# 텍스트 처리\n",
    "`textwrap`\n",
    "\n",
    "## 문자열 줄바꿈"
   ]
  },
  {
   "cell_type": "code",
   "execution_count": 4,
   "id": "0cadcd5d",
   "metadata": {},
   "outputs": [
    {
     "data": {
      "text/plain": [
       "'Life is too short, you need python. Life is too short, you need python. Life is too short, you need python. Life is too short, you need python. Life is too short, you need python. Life is too short, you need python. Life is too short, you need python. Life is too short, you need python. Life is too short, you need python. Life is too short, you need python. '"
      ]
     },
     "execution_count": 4,
     "metadata": {},
     "output_type": "execute_result"
    }
   ],
   "source": [
    "import textwrap\n",
    "long_text = 'Life is too short, you need python. ' * 10\n",
    "long_text"
   ]
  },
  {
   "cell_type": "code",
   "execution_count": 6,
   "id": "a33fca31",
   "metadata": {},
   "outputs": [
    {
     "name": "stdout",
     "output_type": "stream",
     "text": [
      "Life is too short, you need python. Life is too\n",
      "short, you need python. Life is too short, you\n",
      "need python. Life is too short, you need python.\n",
      "Life is too short, you need python. Life is too\n",
      "short, you need python. Life is too short, you\n",
      "need python. Life is too short, you need python.\n",
      "Life is too short, you need python. Life is too\n",
      "short, you need python.\n"
     ]
    }
   ],
   "source": [
    "result = textwrap.fill(long_text, width=50)\n",
    "print(result)"
   ]
  },
  {
   "cell_type": "markdown",
   "id": "030f7d60",
   "metadata": {},
   "source": [
    "# 데이터형\n",
    "\n",
    "`datetime`,  `calendar`, `collections`,  `headq`, `pprint`, `bisect`, `enum`, `graphlib`"
   ]
  },
  {
   "cell_type": "markdown",
   "id": "620459e7",
   "metadata": {},
   "source": [
    "## 날짜\n",
    "\n",
    "### 두 날짜의 차이 구하기"
   ]
  },
  {
   "cell_type": "code",
   "execution_count": 8,
   "id": "fe9b91ee",
   "metadata": {},
   "outputs": [],
   "source": [
    "import datetime\n",
    "\n",
    "# datetime.date 를 이용하여 날짜 객체 생성\n",
    "day1 = datetime.date(2020,12,14)\n",
    "day2 = datetime.date(1995, 6, 5)"
   ]
  },
  {
   "cell_type": "code",
   "execution_count": 16,
   "id": "0aac7f4c",
   "metadata": {},
   "outputs": [
    {
     "data": {
      "text/plain": [
       "datetime.timedelta(days=9324)"
      ]
     },
     "execution_count": 16,
     "metadata": {},
     "output_type": "execute_result"
    }
   ],
   "source": [
    "diff = day1 - day2\n",
    "\n",
    "diff #datetime.timedelta 객체가 생성"
   ]
  },
  {
   "cell_type": "code",
   "execution_count": 17,
   "id": "4f5f595e",
   "metadata": {},
   "outputs": [
    {
     "data": {
      "text/plain": [
       "9324"
      ]
     },
     "execution_count": 17,
     "metadata": {},
     "output_type": "execute_result"
    }
   ],
   "source": [
    "diff.days"
   ]
  },
  {
   "cell_type": "code",
   "execution_count": null,
   "id": "d897ecdb",
   "metadata": {},
   "outputs": [],
   "source": [
    "# 시분초까지 계산하기"
   ]
  },
  {
   "cell_type": "code",
   "execution_count": 27,
   "id": "0fce936b",
   "metadata": {},
   "outputs": [
    {
     "name": "stdout",
     "output_type": "stream",
     "text": [
      "2020 12 14 12 40 30\n"
     ]
    }
   ],
   "source": [
    "time1 = datetime.datetime(2020,12,14,12,40,30)\n",
    "print(time1.year, time1.month, time1.day, time1.hour, time1.minute, time1.second)"
   ]
  },
  {
   "cell_type": "markdown",
   "id": "3a086245",
   "metadata": {},
   "source": [
    "### 요일 판별하기"
   ]
  },
  {
   "cell_type": "code",
   "execution_count": 28,
   "id": "f222283b",
   "metadata": {},
   "outputs": [],
   "source": [
    "day = datetime.date(2020,12,14) # 월요일"
   ]
  },
  {
   "cell_type": "code",
   "execution_count": 31,
   "id": "6a57310f",
   "metadata": {},
   "outputs": [
    {
     "name": "stdout",
     "output_type": "stream",
     "text": [
      "0 1\n"
     ]
    }
   ],
   "source": [
    "print(day.weekday(), day.isoweekday())"
   ]
  },
  {
   "cell_type": "markdown",
   "id": "a78541ea",
   "metadata": {},
   "source": [
    "### 날짜,시간_  더하기, 빼기"
   ]
  },
  {
   "cell_type": "code",
   "execution_count": 33,
   "id": "dbbe51e2",
   "metadata": {},
   "outputs": [
    {
     "data": {
      "text/plain": [
       "datetime.date(2022, 4, 5)"
      ]
     },
     "execution_count": 33,
     "metadata": {},
     "output_type": "execute_result"
    }
   ],
   "source": [
    "today = datetime.date.today()\n",
    "today"
   ]
  },
  {
   "cell_type": "code",
   "execution_count": 35,
   "id": "03f7f1d1",
   "metadata": {},
   "outputs": [
    {
     "data": {
      "text/plain": [
       "datetime.timedelta(days=50)"
      ]
     },
     "execution_count": 35,
     "metadata": {},
     "output_type": "execute_result"
    }
   ],
   "source": [
    "diff = datetime.timedelta(days=50)\n",
    "diff"
   ]
  },
  {
   "cell_type": "markdown",
   "id": "c59929e2",
   "metadata": {},
   "source": [
    "days, weeks, hours, minutes, seconds 를 파라미터로 설정가능"
   ]
  },
  {
   "cell_type": "code",
   "execution_count": 38,
   "id": "594a3c11",
   "metadata": {},
   "outputs": [
    {
     "data": {
      "text/plain": [
       "(datetime.date(2022, 5, 25), datetime.date(2022, 2, 14))"
      ]
     },
     "execution_count": 38,
     "metadata": {},
     "output_type": "execute_result"
    }
   ],
   "source": [
    "today + diff, today - diff"
   ]
  },
  {
   "cell_type": "markdown",
   "id": "d5f471a4",
   "metadata": {},
   "source": [
    "### 윤년확인\n",
    "\n",
    "윤년을 True, False로 확인"
   ]
  },
  {
   "cell_type": "code",
   "execution_count": 40,
   "id": "d9e89fef",
   "metadata": {},
   "outputs": [
    {
     "data": {
      "text/plain": [
       "False"
      ]
     },
     "execution_count": 40,
     "metadata": {},
     "output_type": "execute_result"
    }
   ],
   "source": [
    "import calendar\n",
    "calendar.isleap(2022)"
   ]
  },
  {
   "cell_type": "markdown",
   "id": "d322d517",
   "metadata": {},
   "source": [
    "## collections"
   ]
  },
  {
   "cell_type": "markdown",
   "id": "59a16805",
   "metadata": {},
   "source": [
    "### 데크 (deque) 자료형\n",
    "\n",
    "양방향 자료형"
   ]
  },
  {
   "cell_type": "markdown",
   "id": "e1c01320",
   "metadata": {},
   "source": [
    "#### 회전\n",
    "\n",
    "* 시계 +, 반시계 -"
   ]
  },
  {
   "cell_type": "code",
   "execution_count": 48,
   "id": "63eb72de",
   "metadata": {},
   "outputs": [
    {
     "data": {
      "text/plain": [
       "(deque([4, 5, 1, 2, 3]), [4, 5, 1, 2, 3])"
      ]
     },
     "execution_count": 48,
     "metadata": {},
     "output_type": "execute_result"
    }
   ],
   "source": [
    "from collections import deque\n",
    "a = [1,2,3,4,5]\n",
    "q = deque(a)\n",
    "q.rotate(2)\n",
    "q, list(q)"
   ]
  },
  {
   "cell_type": "code",
   "execution_count": 59,
   "id": "381d957b",
   "metadata": {},
   "outputs": [
    {
     "name": "stdout",
     "output_type": "stream",
     "text": [
      "deque([1, 2, 3, 4, 5, 6])\n",
      "deque([0, 1, 2, 3, 4, 5, 6])\n",
      "6\n",
      "0\n"
     ]
    }
   ],
   "source": [
    "d = deque([1,2,3,4,5])\n",
    "d.append(6)# 오른쪽 append\n",
    "print(d)\n",
    "d.appendleft(0) # 왼쪽 append\n",
    "print(d)\n",
    "print(d.pop())# 오른쪽 pop\n",
    "print(d.popleft()) # 왼쪽 pop"
   ]
  },
  {
   "cell_type": "markdown",
   "id": "3dd685ee",
   "metadata": {},
   "source": [
    "### 키 값이 있는 튜플\n",
    "\n",
    "`collections.namedtuple`"
   ]
  },
  {
   "cell_type": "code",
   "execution_count": 3,
   "id": "8b4a2c0f",
   "metadata": {},
   "outputs": [],
   "source": [
    "# 리스트 속 튜플들\n",
    "data = [\n",
    "    ['홍길동', 23, '01099990001'], \n",
    "    ['김철수', 31, '01099991002'], \n",
    "    ['이영희', 29, '01099992003'],\n",
    "]"
   ]
  },
  {
   "cell_type": "markdown",
   "id": "6d4cb99c",
   "metadata": {},
   "source": [
    "#### namedtuple 자료형 생성"
   ]
  },
  {
   "cell_type": "code",
   "execution_count": 4,
   "id": "f60ba8a6",
   "metadata": {},
   "outputs": [],
   "source": [
    "from collections import namedtuple\n",
    "Employee = namedtuple('Employee', 'name, age, cellphone')"
   ]
  },
  {
   "cell_type": "markdown",
   "id": "6a1aa67c",
   "metadata": {},
   "source": [
    "#### data 요소인 튜플을 namedtuple을 통해 변환"
   ]
  },
  {
   "cell_type": "code",
   "execution_count": 5,
   "id": "95c94ace",
   "metadata": {},
   "outputs": [],
   "source": [
    "data = [Employee._make(emp) for emp in data]"
   ]
  },
  {
   "cell_type": "markdown",
   "id": "0717f3e5",
   "metadata": {},
   "source": [
    "#### 변경된 데이터의 특징 확인"
   ]
  },
  {
   "cell_type": "code",
   "execution_count": 6,
   "id": "226c688f",
   "metadata": {},
   "outputs": [
    {
     "name": "stdout",
     "output_type": "stream",
     "text": [
      "홍길동 23 01099990001\n"
     ]
    }
   ],
   "source": [
    "emp = data[0]\n",
    "print(emp.name, emp.age, emp.cellphone)"
   ]
  },
  {
   "cell_type": "markdown",
   "id": "9819d470",
   "metadata": {},
   "source": [
    "#### namedtuple 을 딕셔너리로 변환"
   ]
  },
  {
   "cell_type": "code",
   "execution_count": 7,
   "id": "6d06ec56",
   "metadata": {},
   "outputs": [
    {
     "data": {
      "text/plain": [
       "{'name': '홍길동', 'age': 23, 'cellphone': '01099990001'}"
      ]
     },
     "execution_count": 7,
     "metadata": {},
     "output_type": "execute_result"
    }
   ],
   "source": [
    "emp._asdict()"
   ]
  },
  {
   "cell_type": "markdown",
   "id": "72935cde",
   "metadata": {},
   "source": [
    "#### namedtuple 의 인덱스 접근"
   ]
  },
  {
   "cell_type": "code",
   "execution_count": 8,
   "id": "061b0433",
   "metadata": {},
   "outputs": [
    {
     "name": "stdout",
     "output_type": "stream",
     "text": [
      "홍길동 23 01099990001\n"
     ]
    }
   ],
   "source": [
    "print(emp[0], emp[1], emp[2])"
   ]
  },
  {
   "cell_type": "markdown",
   "id": "522cd3c9",
   "metadata": {},
   "source": [
    "#### namedtuple 값 변경\n",
    "\n",
    "튜플과 같이 일반적으로는 변경할수없고 `_replace` 함수를 써서 변경가능하다\n",
    "\n",
    "단 `_replace` 함수는 새로운 객체를 리턴해준다는 것을 기억하자"
   ]
  },
  {
   "cell_type": "code",
   "execution_count": 9,
   "id": "b744e7ac",
   "metadata": {},
   "outputs": [
    {
     "name": "stdout",
     "output_type": "stream",
     "text": [
      "Employee(name='홍길동', age=23, cellphone='01099990001')\n",
      "Employee(name='박길동', age=23, cellphone='01099990001')\n"
     ]
    }
   ],
   "source": [
    "new_emp = emp._replace(name = \"박길동\")\n",
    "print(emp)\n",
    "print(new_emp)"
   ]
  },
  {
   "cell_type": "markdown",
   "id": "1c2614f2",
   "metadata": {},
   "source": [
    "### Counter\n",
    "`collections.Counter`"
   ]
  },
  {
   "cell_type": "code",
   "execution_count": 26,
   "id": "dbf46b5e",
   "metadata": {},
   "outputs": [],
   "source": [
    "from collections import Counter"
   ]
  },
  {
   "cell_type": "code",
   "execution_count": 52,
   "id": "cc330635",
   "metadata": {
    "scrolled": true
   },
   "outputs": [
    {
     "data": {
      "text/plain": [
       "Counter({'g': 1, 'a': 2, 'l': 2, 'd': 1})"
      ]
     },
     "execution_count": 52,
     "metadata": {},
     "output_type": "execute_result"
    }
   ],
   "source": [
    "c = Counter(\"gallad\")\n",
    "c"
   ]
  },
  {
   "cell_type": "code",
   "execution_count": 53,
   "id": "34088834",
   "metadata": {
    "scrolled": true
   },
   "outputs": [
    {
     "data": {
      "text/plain": [
       "Counter({'a': 3, 'b': 1, 'c': 2})"
      ]
     },
     "execution_count": 53,
     "metadata": {},
     "output_type": "execute_result"
    }
   ],
   "source": [
    "c = Counter(['a','a','b','c','c','a'])\n",
    "c"
   ]
  },
  {
   "cell_type": "code",
   "execution_count": 75,
   "id": "91e89620",
   "metadata": {},
   "outputs": [
    {
     "data": {
      "text/plain": [
       "Counter({'a': 1, 'b': 2})"
      ]
     },
     "execution_count": 75,
     "metadata": {},
     "output_type": "execute_result"
    }
   ],
   "source": [
    "cnt = Counter()\n",
    "c = Counter({'a':1,\"b\":2})"
   ]
  },
  {
   "cell_type": "code",
   "execution_count": 71,
   "id": "40eecaa2",
   "metadata": {},
   "outputs": [
    {
     "name": "stdout",
     "output_type": "stream",
     "text": [
      "Counter({'dogs': 7, 'cats': 4})\n",
      "['cats', 'cats', 'cats', 'cats', 'dogs', 'dogs', 'dogs', 'dogs', 'dogs', 'dogs', 'dogs']\n"
     ]
    }
   ],
   "source": [
    "c = Counter(cats=4, dogs=7)\n",
    "# d = Counter(cats=10,dogs=1)\n",
    "# c.update(d)\n",
    "print(c)\n",
    "print(list(c.elements()))"
   ]
  },
  {
   "cell_type": "code",
   "execution_count": 72,
   "id": "b10602af",
   "metadata": {},
   "outputs": [
    {
     "name": "stdout",
     "output_type": "stream",
     "text": [
      "[('a', 3)]\n",
      "[('a', 3), ('c', 2)]\n"
     ]
    }
   ],
   "source": [
    "c = Counter(['a','a','b','c','c','a'])\n",
    "print(c.most_common(1))\n",
    "print(c.most_common(2))"
   ]
  },
  {
   "cell_type": "code",
   "execution_count": 73,
   "id": "9b2f90ab",
   "metadata": {},
   "outputs": [
    {
     "name": "stdout",
     "output_type": "stream",
     "text": [
      "Counter({'a': 4, 'b': 2, 'd': 2, 'c': 0})\n",
      "['a', 'a', 'a', 'a', 'b', 'b', 'd', 'd']\n"
     ]
    }
   ],
   "source": [
    "c = Counter(a=4, b=2, c=0, d=2)\n",
    "print(c)\n",
    "print(list(c.elements()))"
   ]
  },
  {
   "cell_type": "code",
   "execution_count": 58,
   "id": "d07b5bfe",
   "metadata": {},
   "outputs": [
    {
     "name": "stdout",
     "output_type": "stream",
     "text": [
      "Counter({'a': 3, 'd': 2, 'b': 0, 'c': -1})\n"
     ]
    }
   ],
   "source": [
    "d = ['a','b','b','c']\n",
    "c.subtract(d)\n",
    "print(c)"
   ]
  },
  {
   "cell_type": "code",
   "execution_count": 59,
   "id": "01dcf51d",
   "metadata": {},
   "outputs": [
    {
     "name": "stdout",
     "output_type": "stream",
     "text": [
      "Counter({'a': 4, 'b': 2, 'd': 2, 'e': 1, 'c': -1})\n"
     ]
    }
   ],
   "source": [
    "e = ['a','e','b','b']\n",
    "c.update(e)\n",
    "print(c)"
   ]
  },
  {
   "cell_type": "code",
   "execution_count": 68,
   "id": "128e00a9",
   "metadata": {},
   "outputs": [
    {
     "name": "stdout",
     "output_type": "stream",
     "text": [
      "Counter({'a': 6, 'b': 5, 'd': 2, 'e': 2})\n",
      "Counter({'a': 2, 'd': 2})\n",
      "Counter({'a': 2, 'b': 2, 'e': 1})\n",
      "Counter({'a': 4, 'b': 3, 'd': 2, 'e': 1})\n"
     ]
    }
   ],
   "source": [
    "f = Counter(['a','b','b','e','a','b'])\n",
    "print(c+f) # 더하기\n",
    "print(c-f) # 빼기 (0보다 같거나 작으면 표시 X)\n",
    "print(c&f) # 교집합\n",
    "print(c|f) # 합집합 (더하는게 아님, 마찬가지로 0보다 커야함)"
   ]
  },
  {
   "cell_type": "code",
   "execution_count": 69,
   "id": "95d32f95",
   "metadata": {},
   "outputs": [
    {
     "name": "stdout",
     "output_type": "stream",
     "text": [
      "Counter()\n"
     ]
    }
   ],
   "source": [
    "c.clear()\n",
    "print(c)"
   ]
  },
  {
   "cell_type": "code",
   "execution_count": null,
   "id": "f6025126",
   "metadata": {},
   "outputs": [],
   "source": []
  },
  {
   "cell_type": "markdown",
   "id": "e48489d4",
   "metadata": {},
   "source": [
    "### 딕셔너리 초기값\n",
    "\n",
    "`collections.defaultdict`"
   ]
  },
  {
   "cell_type": "code",
   "execution_count": 122,
   "id": "21044b3f",
   "metadata": {},
   "outputs": [
    {
     "data": {
      "text/plain": [
       "'Life is too short, You need python.'"
      ]
     },
     "execution_count": 122,
     "metadata": {},
     "output_type": "execute_result"
    }
   ],
   "source": [
    "\"Life is too short, You need python.\""
   ]
  },
  {
   "cell_type": "markdown",
   "id": "491dba7c",
   "metadata": {},
   "source": [
    "위 문장에서 사용된 알파벳의 빈도수를 각각 구해 딕셔너리에 저장하고자 한다."
   ]
  },
  {
   "cell_type": "code",
   "execution_count": 124,
   "id": "95a105e2",
   "metadata": {},
   "outputs": [
    {
     "name": "stdout",
     "output_type": "stream",
     "text": [
      "{'L': 1, 'i': 2, 'f': 1, 'e': 3, ' ': 6, 's': 2, 't': 3, 'o': 5, 'h': 2, 'r': 1, ',': 1, 'Y': 1, 'u': 1, 'n': 2, 'd': 1, 'p': 1, 'y': 1, '.': 1}\n"
     ]
    }
   ],
   "source": [
    "text = \"Life is too short, You need python.\"\n",
    "\n",
    "d = dict()\n",
    "for c in text:\n",
    "    if c not in d:\n",
    "        d[c] = 0\n",
    "    d[c] += 1\n",
    "\n",
    "print(d)"
   ]
  },
  {
   "cell_type": "markdown",
   "id": "6b819fb3",
   "metadata": {},
   "source": [
    "위 처럼 기본값을 신경써줘야하는게 보통이다.\n",
    "\n",
    "하지만 defaultdict 을 int 로 주면 기본값을 0으로 가지게 된다"
   ]
  },
  {
   "cell_type": "code",
   "execution_count": 125,
   "id": "f99fce61",
   "metadata": {},
   "outputs": [
    {
     "name": "stdout",
     "output_type": "stream",
     "text": [
      "{'L': 1, 'i': 2, 'f': 1, 'e': 3, ' ': 6, 's': 2, 't': 3, 'o': 5, 'h': 2, 'r': 1, ',': 1, 'Y': 1, 'u': 1, 'n': 2, 'd': 1, 'p': 1, 'y': 1, '.': 1}\n"
     ]
    }
   ],
   "source": [
    "from collections import defaultdict\n",
    "\n",
    "text = \"Life is too short, You need python.\"\n",
    "\n",
    "d = defaultdict(int)\n",
    "for c in text:\n",
    "    d[c] += 1\n",
    "\n",
    "print(dict(d))"
   ]
  },
  {
   "cell_type": "markdown",
   "id": "d55034dc",
   "metadata": {},
   "source": [
    "###  우선순위 큐\n",
    "\n",
    "`heapq`"
   ]
  },
  {
   "cell_type": "code",
   "execution_count": 128,
   "id": "f0aa8c9b",
   "metadata": {},
   "outputs": [],
   "source": [
    "data = [\n",
    "    (12.23, \"강보람\"),\n",
    "    (12.31, \"김지원\"),\n",
    "    (11.98, \"박시우\"),\n",
    "    (11.99, \"장준혁\"),\n",
    "    (11.67, \"차정웅\"),\n",
    "    (12.02, \"박중수\"),\n",
    "    (11.57, \"차동현\"),\n",
    "    (12.04, \"고미숙\"),\n",
    "    (11.92, \"한시우\"),\n",
    "    (12.22, \"이민석\"),\n",
    "]"
   ]
  },
  {
   "cell_type": "markdown",
   "id": "ffcabbd6",
   "metadata": {},
   "source": [
    "위 사람들에게 금, 은, 동을 주고자 한다. 가장 빠른 순서로 나타내라"
   ]
  },
  {
   "cell_type": "markdown",
   "id": "05995402",
   "metadata": {},
   "source": [
    "#### 힙 heap 에 리스트 저장 "
   ]
  },
  {
   "cell_type": "code",
   "execution_count": 131,
   "id": "a6e73391",
   "metadata": {},
   "outputs": [
    {
     "name": "stdout",
     "output_type": "stream",
     "text": [
      "(11.57, '차동현')\n",
      "(11.67, '차정웅')\n",
      "(11.92, '한시우')\n"
     ]
    }
   ],
   "source": [
    "import heapq\n",
    "\n",
    "h = []  # 힙 생성\n",
    "for score in data:\n",
    "    heapq.heappush(h, score)  # 힙에 데이터 저장\n",
    "\n",
    "for i in range(3):\n",
    "    print(heapq.heappop(h))  # 최솟값부터 힙 반환"
   ]
  },
  {
   "cell_type": "markdown",
   "id": "80046e3e",
   "metadata": {},
   "source": [
    "#### data 리스트를 힙으로 변경\n",
    "\n",
    "데이터 자체를 heap 으로 변경"
   ]
  },
  {
   "cell_type": "code",
   "execution_count": 133,
   "id": "8c9cb21d",
   "metadata": {},
   "outputs": [
    {
     "name": "stdout",
     "output_type": "stream",
     "text": [
      "(11.57, '차동현')\n",
      "(11.67, '차정웅')\n",
      "(11.92, '한시우')\n"
     ]
    }
   ],
   "source": [
    "data1 = [\n",
    "    (12.23, \"강보람\"),\n",
    "    (12.31, \"김지원\"),\n",
    "    (11.98, \"박시우\"),\n",
    "    (11.99, \"장준혁\"),\n",
    "    (11.67, \"차정웅\"),\n",
    "    (12.02, \"박중수\"),\n",
    "    (11.57, \"차동현\"),\n",
    "    (12.04, \"고미숙\"),\n",
    "    (11.92, \"한시우\"),\n",
    "    (12.22, \"이민석\"),\n",
    "]\n",
    "\n",
    "heapq.heapify(data1)  # data를 힙 구조에 맞게 변경한다.\n",
    "\n",
    "for i in range(3):\n",
    "    print(heapq.heappop(data1))  # 최솟값부터 힙 반환"
   ]
  },
  {
   "cell_type": "markdown",
   "id": "779e178b",
   "metadata": {},
   "source": [
    "#### data 리스트 에서 바로 뽑아내기"
   ]
  },
  {
   "cell_type": "code",
   "execution_count": 136,
   "id": "d2021249",
   "metadata": {},
   "outputs": [
    {
     "name": "stdout",
     "output_type": "stream",
     "text": [
      "[(11.57, '차동현'), (11.67, '차정웅'), (11.92, '한시우')]\n",
      "[(12.31, '김지원'), (12.23, '강보람'), (12.22, '이민석')]\n"
     ]
    }
   ],
   "source": [
    "import heapq\n",
    "\n",
    "data3 = [\n",
    "    (12.23, \"강보람\"),\n",
    "    (12.31, \"김지원\"),\n",
    "    (11.98, \"박시우\"),\n",
    "    (11.99, \"장준혁\"),\n",
    "    (11.67, \"차정웅\"),\n",
    "    (12.02, \"박중수\"),\n",
    "    (11.57, \"차동현\"),\n",
    "    (12.04, \"고미숙\"),\n",
    "    (11.92, \"한시우\"),\n",
    "    (12.22, \"이민석\"),\n",
    "]\n",
    "\n",
    "print(heapq.nsmallest(3, data3)) # 1,2,3 등 출력\n",
    "print(heapq.nlargest(3, data3)) # 꼴지 3등 출력"
   ]
  },
  {
   "cell_type": "markdown",
   "id": "55bf79d4",
   "metadata": {},
   "source": [
    "### 보기좋게 print\n",
    "\n",
    "`pprint`"
   ]
  },
  {
   "cell_type": "code",
   "execution_count": 141,
   "id": "5528dd91",
   "metadata": {},
   "outputs": [
    {
     "data": {
      "text/plain": [
       "{'userId': 1,\n",
       " 'id': 1,\n",
       " 'title': 'sunt aut facere repellat provident occaecati excepturi optio reprehenderit',\n",
       " 'body': 'quia et suscipit\\nsuscipit recusandae consequuntur expedita et cum\\nreprehenderit molestiae ut ut quas totam\\nnostrum rerum est autem sunt rem eveniet architecto'}"
      ]
     },
     "execution_count": 141,
     "metadata": {},
     "output_type": "execute_result"
    }
   ],
   "source": [
    "result = {'userId': 1, 'id': 1, 'title': 'sunt aut facere repellat provident occaecati excepturi optio reprehenderit', 'body': 'quia et suscipit\\nsuscipit recusandae consequuntur expedita et cum\\nreprehenderit molestiae ut ut quas totam\\nnostrum rerum est autem sunt rem eveniet architecto'}\n",
    "result"
   ]
  },
  {
   "cell_type": "code",
   "execution_count": 140,
   "id": "88bbeacb",
   "metadata": {},
   "outputs": [
    {
     "name": "stdout",
     "output_type": "stream",
     "text": [
      "{'body': 'quia et suscipit\\n'\n",
      "         'suscipit recusandae consequuntur expedita et cum\\n'\n",
      "         'reprehenderit molestiae ut ut quas totam\\n'\n",
      "         'nostrum rerum est autem sunt rem eveniet architecto',\n",
      " 'id': 1,\n",
      " 'title': 'sunt aut facere repellat provident occaecati excepturi optio '\n",
      "          'reprehenderit',\n",
      " 'userId': 1}\n"
     ]
    }
   ],
   "source": [
    "import pprint\n",
    "pprint.pprint(result)"
   ]
  },
  {
   "cell_type": "markdown",
   "id": "f3e9eb26",
   "metadata": {},
   "source": [
    "### 이진탐색 bisect"
   ]
  },
  {
   "cell_type": "markdown",
   "id": "4f71bd43",
   "metadata": {},
   "source": [
    "#### 이상 bisect.bisect"
   ]
  },
  {
   "cell_type": "markdown",
   "id": "97f92e6a",
   "metadata": {},
   "source": [
    "점수 = [33, 99, 77, 70, 89, 90, 100] 인 학생들의 성적을 메겨라\n",
    "\n",
    "* 90점 이상 : A\n",
    "* 80점 이상 : B\n",
    "* 70점 이상 : C\n",
    "* 60점 이상 : D\n",
    "* 0~59점 : F"
   ]
  },
  {
   "cell_type": "code",
   "execution_count": 143,
   "id": "a8bfdad2",
   "metadata": {},
   "outputs": [
    {
     "name": "stdout",
     "output_type": "stream",
     "text": [
      "['F', 'A', 'C', 'C', 'B', 'A', 'A']\n"
     ]
    }
   ],
   "source": [
    "import bisect\n",
    "\n",
    "test = [33, 99, 77, 70, 89, 90, 100]\n",
    "\n",
    "\n",
    "result = []\n",
    "for score in test:\n",
    "    pos = bisect.bisect([60, 70, 80, 90], score)  # 점수가 정렬되어 삽입될 수 있는 포지션을 반환\n",
    "    grade = 'FDCBA'[pos]\n",
    "    result.append(grade)\n",
    "\n",
    "print(result)"
   ]
  },
  {
   "cell_type": "markdown",
   "id": "80d12df3",
   "metadata": {},
   "source": [
    "#### 초과 bisect.bisect_left\n",
    "\n",
    "* 90점 초과 : A\n",
    "* 80점 초과 : B\n",
    "* 70점 초과 : C\n",
    "* 60점 초과 : D\n",
    "* 0~69점 : F"
   ]
  },
  {
   "cell_type": "code",
   "execution_count": 144,
   "id": "2c3959c1",
   "metadata": {},
   "outputs": [
    {
     "name": "stdout",
     "output_type": "stream",
     "text": [
      "['F', 'A', 'C', 'D', 'B', 'B', 'A']\n"
     ]
    }
   ],
   "source": [
    "result = []\n",
    "for score in [33, 99, 77, 70, 89, 90, 100]:\n",
    "    pos = bisect.bisect_left([60, 70, 80, 90], score)\n",
    "    grade = 'FDCBA'[pos]\n",
    "    result.append(grade)\n",
    "\n",
    "print(result)"
   ]
  },
  {
   "cell_type": "markdown",
   "id": "08d7b2a2",
   "metadata": {},
   "source": [
    "#### 자리에 값 넣기"
   ]
  },
  {
   "cell_type": "code",
   "execution_count": 148,
   "id": "0cd461c9",
   "metadata": {},
   "outputs": [
    {
     "data": {
      "text/plain": [
       "[60, 70, 80, 85, 90]"
      ]
     },
     "execution_count": 148,
     "metadata": {},
     "output_type": "execute_result"
    }
   ],
   "source": [
    "import bisect\n",
    "\n",
    "a = [60, 70, 80, 90]\n",
    "bisect.insort(a, 85)\n",
    "a"
   ]
  },
  {
   "cell_type": "markdown",
   "id": "27ef669a",
   "metadata": {},
   "source": [
    "### 상수 집합\n",
    "\n",
    "`enum`"
   ]
  },
  {
   "cell_type": "code",
   "execution_count": 149,
   "id": "0c95659b",
   "metadata": {},
   "outputs": [
    {
     "name": "stdout",
     "output_type": "stream",
     "text": [
      "건빵\n",
      "갈비탕\n"
     ]
    }
   ],
   "source": [
    "from datetime import date\n",
    "\n",
    "\n",
    "def get_menu(input_date):\n",
    "    weekday = input_date.isoweekday()  # 1:월요일, 2:화요일, ... , 7: 일요일\n",
    "    if weekday == 1:\n",
    "        menu = \"김치찌개\"\n",
    "    elif weekday == 2:\n",
    "        menu = \"비빔밥\"\n",
    "    elif weekday == 3:\n",
    "        menu = \"된장찌개\"\n",
    "    elif weekday == 4:\n",
    "        menu = \"불고기\"\n",
    "    elif weekday == 5:\n",
    "        menu = \"갈비탕\"\n",
    "    elif weekday == 6:\n",
    "        menu = \"라면\"\n",
    "    elif weekday == 7:\n",
    "        menu = \"건빵\"\n",
    "    return menu\n",
    "\n",
    "\n",
    "print(get_menu(date(2020, 12, 6)))\n",
    "print(get_menu(date(2020, 12, 18)))"
   ]
  },
  {
   "cell_type": "code",
   "execution_count": 158,
   "id": "c1d57c59",
   "metadata": {},
   "outputs": [
    {
     "name": "stdout",
     "output_type": "stream",
     "text": [
      "건빵\n",
      "갈비탕\n"
     ]
    }
   ],
   "source": [
    "from datetime import date\n",
    "from enum import IntEnum\n",
    "\n",
    "class Week(IntEnum):\n",
    "    MONDAY = 1\n",
    "    TUESDAY = 2\n",
    "    WEDNESDAY = 3\n",
    "    THURSDAY = 4\n",
    "    FRIDAY = 5\n",
    "    SATURDAY = 6\n",
    "    SUNDAY = 7\n",
    "\n",
    "\n",
    "def get_menu(input_date):\n",
    "    menu = {\n",
    "        Week.MONDAY: \"김치찌개\",\n",
    "        Week.TUESDAY: \"비빔밥\",\n",
    "        Week.WEDNESDAY: \"된장찌개\",\n",
    "        Week.THURSDAY: \"불고기\",\n",
    "        Week.FRIDAY: \"갈비탕\",\n",
    "        Week.SATURDAY: \"라면\",\n",
    "        Week.SUNDAY: \"건빵\",\n",
    "    }\n",
    "    return menu[input_date.isoweekday()]\n",
    "\n",
    "\n",
    "print(get_menu(date(2020, 12, 6)))\n",
    "print(get_menu(date(2020, 12, 18)))"
   ]
  },
  {
   "cell_type": "code",
   "execution_count": 169,
   "id": "3edd5ac3",
   "metadata": {},
   "outputs": [
    {
     "name": "stdout",
     "output_type": "stream",
     "text": [
      "apple\n",
      "banana\n"
     ]
    }
   ],
   "source": [
    "from enum import IntEnum\n",
    "\n",
    "class alp(IntEnum):\n",
    "    a=1\n",
    "    b=2\n",
    "    c=3\n",
    "    d=4\n",
    "\n",
    "def alp_num(input1):\n",
    "    alphabet ={\n",
    "        alp.a:\"apple\",\n",
    "        alp.b:\"banana\",\n",
    "        alp.c:\"coke\",\n",
    "        alp.d:\"danawa\",\n",
    "    }\n",
    "    return alphabet[input1]\n",
    "\n",
    "print(alp_num(1))\n",
    "print(alp_num(2))"
   ]
  },
  {
   "cell_type": "code",
   "execution_count": null,
   "id": "ae7ddb2d",
   "metadata": {},
   "outputs": [],
   "source": []
  },
  {
   "cell_type": "code",
   "execution_count": null,
   "id": "ce02b23b",
   "metadata": {},
   "outputs": [],
   "source": []
  },
  {
   "cell_type": "code",
   "execution_count": null,
   "id": "c4a1a46f",
   "metadata": {},
   "outputs": [],
   "source": []
  },
  {
   "cell_type": "code",
   "execution_count": null,
   "id": "a4659160",
   "metadata": {},
   "outputs": [],
   "source": []
  },
  {
   "cell_type": "code",
   "execution_count": null,
   "id": "54d77545",
   "metadata": {},
   "outputs": [],
   "source": []
  }
 ],
 "metadata": {
  "kernelspec": {
   "display_name": "Python 3 (ipykernel)",
   "language": "python",
   "name": "python3"
  },
  "language_info": {
   "codemirror_mode": {
    "name": "ipython",
    "version": 3
   },
   "file_extension": ".py",
   "mimetype": "text/x-python",
   "name": "python",
   "nbconvert_exporter": "python",
   "pygments_lexer": "ipython3",
   "version": "3.9.7"
  },
  "toc": {
   "base_numbering": 1,
   "nav_menu": {},
   "number_sections": true,
   "sideBar": true,
   "skip_h1_title": false,
   "title_cell": "Table of Contents",
   "title_sidebar": "Contents",
   "toc_cell": false,
   "toc_position": {
    "height": "calc(100% - 180px)",
    "left": "10px",
    "top": "150px",
    "width": "334.825px"
   },
   "toc_section_display": true,
   "toc_window_display": true
  },
  "varInspector": {
   "cols": {
    "lenName": 16,
    "lenType": 16,
    "lenVar": 40
   },
   "kernels_config": {
    "python": {
     "delete_cmd_postfix": "",
     "delete_cmd_prefix": "del ",
     "library": "var_list.py",
     "varRefreshCmd": "print(var_dic_list())"
    },
    "r": {
     "delete_cmd_postfix": ") ",
     "delete_cmd_prefix": "rm(",
     "library": "var_list.r",
     "varRefreshCmd": "cat(var_dic_list()) "
    }
   },
   "types_to_exclude": [
    "module",
    "function",
    "builtin_function_or_method",
    "instance",
    "_Feature"
   ],
   "window_display": false
  }
 },
 "nbformat": 4,
 "nbformat_minor": 5
}
